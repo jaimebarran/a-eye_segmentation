{
 "cells": [
  {
   "cell_type": "markdown",
   "metadata": {},
   "source": [
    "# Pruebas"
   ]
  },
  {
   "cell_type": "markdown",
   "metadata": {},
   "source": [
    "## Voxel size"
   ]
  },
  {
   "cell_type": "code",
   "execution_count": null,
   "metadata": {},
   "outputs": [],
   "source": [
    "import os\n",
    "import numpy as np\n",
    "import nibabel as nb\n",
    "from skimage.measure import regionprops, label\n",
    "from matplotlib import pyplot as plt\n",
    "import math\n",
    "\n",
    "METHOD = 'reg' # reg, dl, manual\n",
    "LABEL = 'lens+globe' # eyeball, lens+globe\n",
    "\n",
    "# Paths - segmentation results\n",
    "if METHOD=='reg':\n",
    "    main_path = '/mnt/sda1/Repos/a-eye/Data/SHIP_dataset/'\n",
    "    input_path = main_path + 'non_labeled_dataset_nifti_reg_2/'\n",
    "elif METHOD=='dl':\n",
    "    main_path = '/mnt/sda1/Repos/a-eye/a-eye_segmentation/3D_multilabel/experiment_0/'\n",
    "    input_path = main_path + 'test_orig_reg-cropped_non-labeled/'\n",
    "elif METHOD=='manual':\n",
    "    main_path = '/mnt/sda1/Repos/a-eye/a-eye_preprocessing/ANTs/'\n",
    "    input_path = main_path + 'a123/'\n",
    "\n",
    "# List of volumes for each individual label and subject\n",
    "len_path = len([elem for elem in os.listdir(input_path)])\n",
    "name_subject = [None]*len_path\n",
    "axial_length_total = np.zeros(len_path)\n",
    "outliers = list()\n",
    "\n",
    "i=0\n",
    "for folder1 in sorted(os.listdir(input_path)):\n",
    "\n",
    "    # Load image in array format\n",
    "    if METHOD=='reg': lab_arr = nb.load(f'{input_path}{folder1}/labels.nii.gz').header.get_zooms()\n",
    "    elif METHOD=='dl': lab_arr = nb.load(f'{input_path}{folder1}').get_fdata()\n",
    "    elif METHOD=='manual': lab_arr = nb.load(f'{input_path}{folder1}/input/{folder1}_labels_cropped.nii.gz').get_fdata()\n",
    "\n",
    "    print(f'voxel size = ({lab_arr})')\n",
    "\n",
    "    i+=1\n",
    "    if i==1:\n",
    "        break"
   ]
  },
  {
   "cell_type": "markdown",
   "metadata": {},
   "source": [
    "## Sublist from list"
   ]
  },
  {
   "cell_type": "code",
   "execution_count": null,
   "metadata": {},
   "outputs": [],
   "source": [
    "import SimpleITK as sitk\n",
    "import sys, os, glob\n",
    "import pydicomext as pydcm\n",
    "from pydicom.fileset import FileSet\n",
    "from deid.data import get_dataset\n",
    "from deid.dicom import get_files, get_identifiers\n",
    "from pathlib import Path\n",
    "import numpy as np\n",
    "\n",
    "input_path = '/mnt/sda1/Repos/a-eye/Data/SHIP_dataset/non_labeled_dataset/'\n",
    "\n",
    "# List of volumes for each individual label and subject\n",
    "len_path = len([elem for elem in os.listdir(input_path)])\n",
    "name_subject = [None]*len_path\n",
    "age_subject = [None]*len_path\n",
    "sex_subject = [None]*len_path\n",
    "height_subject = [None]*len_path\n",
    "weight_subject = [None]*len_path\n",
    "bmi_subject = [None]*len_path\n",
    "\n",
    "# Create sorted list\n",
    "i=0\n",
    "list_subs = [None]*len_path\n",
    "for folder1 in sorted(os.listdir(input_path)):\n",
    "    list_subs[i] = folder1\n",
    "    i+=1\n",
    "\n",
    "index_sub = list_subs.index('2022160103683')\n",
    "print(index_sub)\n",
    "\n",
    "# Loop sublist\n",
    "k=0\n",
    "for j in range(index_sub, len_path):\n",
    "    k+=1\n",
    "print(k)    "
   ]
  },
  {
   "attachments": {},
   "cell_type": "markdown",
   "metadata": {},
   "source": [
    "## itkwidgets"
   ]
  },
  {
   "attachments": {},
   "cell_type": "markdown",
   "metadata": {},
   "source": [
    "imports and paths"
   ]
  },
  {
   "cell_type": "code",
   "execution_count": 1,
   "metadata": {},
   "outputs": [],
   "source": [
    "import nibabel as nb\n",
    "import numpy as np\n",
    "import scipy.misc\n",
    "import itk, itkwidgets\n",
    "from itkwidgets import view\n",
    "\n",
    "ima_path = '/mnt/sda1/Repos/a-eye/a-eye_segmentation/deep_learning/nnUNet/nnUNet/nnUNet_inference/non_labeled_dataset_nifti_nnunet/'\n",
    "lab_path = '/mnt/sda1/Repos/a-eye/a-eye_segmentation/deep_learning/nnUNet/nnUNet/nnUNet_inference/no_postprocessing/'\n",
    "ima_file = 'AEye_2022160100001_0000.nii.gz'\n",
    "lab_file = 'AEye_2022160100001.nii.gz'"
   ]
  },
  {
   "attachments": {},
   "cell_type": "markdown",
   "metadata": {},
   "source": [
    "nibabel"
   ]
  },
  {
   "cell_type": "code",
   "execution_count": null,
   "metadata": {},
   "outputs": [],
   "source": [
    "# ITKWIDGETS\n",
    "# view(ima_arr[:, :, slices[0]:slices[len(slices)-1]])\n",
    "# ima_itk = itk.imread(f'{input_path}{folder1}')\n",
    "# view(ima_arr_read)\n",
    "\n",
    "\n",
    "# ima_nb = nb.load(f'{ima_path}{ima_file}')\n",
    "# ima_arr = np.array(ima_nb.get_fdata()) # image matrix\n",
    "# ima_arr_uint8 = ima_arr.astype(np.uint8)\n",
    "\n",
    "# view(ima_arr)\n",
    "\n",
    "lab_nb = nb.load(f'{lab_path}{lab_file}')\n",
    "lab_arr = np.array(lab_nb.get_fdata()) # image matrix\n",
    "lab_arr_uint8 = lab_arr.astype(np.uint8)\n",
    "\n",
    "view(lab_arr)"
   ]
  },
  {
   "attachments": {},
   "cell_type": "markdown",
   "metadata": {},
   "source": [
    "itk"
   ]
  },
  {
   "cell_type": "code",
   "execution_count": 2,
   "metadata": {},
   "outputs": [
    {
     "data": {
      "application/vnd.jupyter.widget-view+json": {
       "model_id": "64dcf5774a4449d5b81ab461a66eba42",
       "version_major": 2,
       "version_minor": 0
      },
      "text/plain": [
       "Viewer(geometries=[], gradient_opacity=0.22, point_sets=[], rendered_image=<itk.itkImagePython.itkImageUC3; pr…"
      ]
     },
     "metadata": {},
     "output_type": "display_data"
    }
   ],
   "source": [
    "lab_itk = itk.imread(f'{lab_path}{lab_file}')\n",
    "\n",
    "view(lab_itk)"
   ]
  },
  {
   "cell_type": "code",
   "execution_count": null,
   "metadata": {},
   "outputs": [],
   "source": [
    "# Segment the cells\n",
    "smoothed = itk.smoothing_recursive_gaussian_image_filter(lab_itk)\n",
    "\n",
    "thresholded = itk.moments_threshold_image_filter(smoothed,\n",
    "                                                 inside_value=0,\n",
    "                                                 outside_value=1)\n",
    "\n",
    "connected_components = itk.connected_component_image_filter(thresholded)"
   ]
  },
  {
   "cell_type": "code",
   "execution_count": null,
   "metadata": {},
   "outputs": [],
   "source": [
    "view(label_image=connected_components)"
   ]
  }
 ],
 "metadata": {
  "kernelspec": {
   "display_name": "Python 3.9.12 ('3dmultilabel')",
   "language": "python",
   "name": "python3"
  },
  "language_info": {
   "codemirror_mode": {
    "name": "ipython",
    "version": 3
   },
   "file_extension": ".py",
   "mimetype": "text/x-python",
   "name": "python",
   "nbconvert_exporter": "python",
   "pygments_lexer": "ipython3",
   "version": "3.9.12"
  },
  "orig_nbformat": 4,
  "vscode": {
   "interpreter": {
    "hash": "236677abf66ddcf33094279068f0bab187d6786b2da11104f264e332fab0dfcc"
   }
  }
 },
 "nbformat": 4,
 "nbformat_minor": 2
}

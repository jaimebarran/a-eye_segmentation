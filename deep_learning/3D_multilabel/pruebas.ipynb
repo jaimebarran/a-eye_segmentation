{
 "cells": [
  {
   "cell_type": "markdown",
   "metadata": {},
   "source": [
    "# Pruebas"
   ]
  },
  {
   "cell_type": "markdown",
   "metadata": {},
   "source": [
    "## Voxel size"
   ]
  },
  {
   "cell_type": "code",
   "execution_count": null,
   "metadata": {},
   "outputs": [],
   "source": [
    "import os\n",
    "import numpy as np\n",
    "import nibabel as nb\n",
    "from skimage.measure import regionprops, label\n",
    "from matplotlib import pyplot as plt\n",
    "import math\n",
    "\n",
    "METHOD = 'reg' # reg, dl, manual\n",
    "LABEL = 'lens+globe' # eyeball, lens+globe\n",
    "\n",
    "# Paths - segmentation results\n",
    "if METHOD=='reg':\n",
    "    main_path = '/mnt/sda1/Repos/a-eye/Data/SHIP_dataset/'\n",
    "    input_path = main_path + 'non_labeled_dataset_nifti_reg_2/'\n",
    "elif METHOD=='dl':\n",
    "    main_path = '/mnt/sda1/Repos/a-eye/a-eye_segmentation/3D_multilabel/experiment_0/'\n",
    "    input_path = main_path + 'test_orig_reg-cropped_non-labeled/'\n",
    "elif METHOD=='manual':\n",
    "    main_path = '/mnt/sda1/Repos/a-eye/a-eye_preprocessing/ANTs/'\n",
    "    input_path = main_path + 'a123/'\n",
    "\n",
    "# List of volumes for each individual label and subject\n",
    "len_path = len([elem for elem in os.listdir(input_path)])\n",
    "name_subject = [None]*len_path\n",
    "axial_length_total = np.zeros(len_path)\n",
    "outliers = list()\n",
    "\n",
    "i=0\n",
    "for folder1 in sorted(os.listdir(input_path)):\n",
    "\n",
    "    # Load image in array format\n",
    "    if METHOD=='reg': lab_arr = nb.load(f'{input_path}{folder1}/labels.nii.gz').header.get_zooms()\n",
    "    elif METHOD=='dl': lab_arr = nb.load(f'{input_path}{folder1}').get_fdata()\n",
    "    elif METHOD=='manual': lab_arr = nb.load(f'{input_path}{folder1}/input/{folder1}_labels_cropped.nii.gz').get_fdata()\n",
    "\n",
    "    print(f'voxel size = ({lab_arr})')\n",
    "\n",
    "    i+=1\n",
    "    if i==1:\n",
    "        break"
   ]
  },
  {
   "cell_type": "markdown",
   "metadata": {},
   "source": [
    "## Sublist from list"
   ]
  },
  {
   "cell_type": "code",
   "execution_count": null,
   "metadata": {},
   "outputs": [],
   "source": [
    "import SimpleITK as sitk\n",
    "import sys, os, glob\n",
    "import pydicomext as pydcm\n",
    "from pydicom.fileset import FileSet\n",
    "from deid.data import get_dataset\n",
    "from deid.dicom import get_files, get_identifiers\n",
    "from pathlib import Path\n",
    "import numpy as np\n",
    "\n",
    "input_path = '/mnt/sda1/Repos/a-eye/Data/SHIP_dataset/non_labeled_dataset/'\n",
    "\n",
    "# List of volumes for each individual label and subject\n",
    "len_path = len([elem for elem in os.listdir(input_path)])\n",
    "name_subject = [None]*len_path\n",
    "age_subject = [None]*len_path\n",
    "sex_subject = [None]*len_path\n",
    "height_subject = [None]*len_path\n",
    "weight_subject = [None]*len_path\n",
    "bmi_subject = [None]*len_path\n",
    "\n",
    "# Create sorted list\n",
    "i=0\n",
    "list_subs = [None]*len_path\n",
    "for folder1 in sorted(os.listdir(input_path)):\n",
    "    list_subs[i] = folder1\n",
    "    i+=1\n",
    "\n",
    "index_sub = list_subs.index('2022160103683')\n",
    "print(index_sub)\n",
    "\n",
    "# Loop sublist\n",
    "k=0\n",
    "for j in range(index_sub, len_path):\n",
    "    k+=1\n",
    "print(k)    "
   ]
  },
  {
   "attachments": {},
   "cell_type": "markdown",
   "metadata": {},
   "source": [
    "## itkwidgets"
   ]
  },
  {
   "attachments": {},
   "cell_type": "markdown",
   "metadata": {},
   "source": [
    "imports and paths"
   ]
  },
  {
   "cell_type": "code",
   "execution_count": null,
   "metadata": {},
   "outputs": [],
   "source": [
    "import nibabel as nb\n",
    "import numpy as np\n",
    "import scipy.misc\n",
    "import itk, itkwidgets\n",
    "from itkwidgets import view\n",
    "\n",
    "ima_file = '/mnt/sda1/Repos/a-eye/a-eye_segmentation/deep_learning/nnUNet/nnUNet/nnUNet_inference/non_labeled_dataset_nifti_nnunet/AEye_2022160100001_0000.nii.gz'\n",
    "lab_file = '/mnt/sda1/Repos/a-eye/a-eye_segmentation/deep_learning/nnUNet/nnUNet/nnUNet_inference/no_postprocessing/AEye_2022160100001.nii.gz'"
   ]
  },
  {
   "attachments": {},
   "cell_type": "markdown",
   "metadata": {},
   "source": [
    "nibabel"
   ]
  },
  {
   "cell_type": "code",
   "execution_count": null,
   "metadata": {},
   "outputs": [],
   "source": [
    "# ITKWIDGETS\n",
    "# view(ima_arr[:, :, slices[0]:slices[len(slices)-1]])\n",
    "# ima_itk = itk.imread(f'{input_path}{folder1}')\n",
    "# view(ima_arr_read)\n",
    "\n",
    "\n",
    "# ima_nb = nb.load(f'{ima_path}{ima_file}')\n",
    "# ima_arr = np.array(ima_nb.get_fdata()) # image matrix\n",
    "# ima_arr_uint8 = ima_arr.astype(np.uint8)\n",
    "\n",
    "# view(ima_arr)\n",
    "\n",
    "lab_nb = nb.load(f'{lab_path}{lab_file}')\n",
    "lab_arr = np.array(lab_nb.get_fdata()) # image matrix\n",
    "lab_arr_uint8 = lab_arr.astype(np.uint8)\n",
    "\n",
    "view(lab_arr)"
   ]
  },
  {
   "attachments": {},
   "cell_type": "markdown",
   "metadata": {},
   "source": [
    "itk"
   ]
  },
  {
   "cell_type": "code",
   "execution_count": null,
   "metadata": {},
   "outputs": [],
   "source": [
    "lab_itk = itk.imread(f'{lab_path}{lab_file}')\n",
    "\n",
    "view(lab_itk)"
   ]
  },
  {
   "cell_type": "code",
   "execution_count": null,
   "metadata": {},
   "outputs": [],
   "source": [
    "# Segment the cells\n",
    "smoothed = itk.smoothing_recursive_gaussian_image_filter(lab_itk)\n",
    "\n",
    "thresholded = itk.moments_threshold_image_filter(smoothed,\n",
    "                                                 inside_value=0,\n",
    "                                                 outside_value=1)\n",
    "\n",
    "connected_components = itk.connected_component_image_filter(thresholded)"
   ]
  },
  {
   "cell_type": "code",
   "execution_count": null,
   "metadata": {},
   "outputs": [],
   "source": [
    "view(label_image=connected_components)"
   ]
  },
  {
   "attachments": {},
   "cell_type": "markdown",
   "metadata": {},
   "source": [
    "## ipywidgets\n",
    "http://10.16.11.84:8889/lab/tree/example/vanilla_visualization.ipynb"
   ]
  },
  {
   "cell_type": "code",
   "execution_count": 52,
   "metadata": {},
   "outputs": [],
   "source": [
    "import SimpleITK as sitk\n",
    "%matplotlib inline\n",
    "import matplotlib.pyplot as plt\n",
    "# import gui\n",
    "from ipywidgets import interact, fixed\n",
    "import ipywidgets as widgets\n",
    "from IPython.display import display, HTML\n",
    "import matplotlib.colors as colors"
   ]
  },
  {
   "cell_type": "code",
   "execution_count": 62,
   "metadata": {},
   "outputs": [],
   "source": [
    "def display_with_overlay(segmentation_number, slice_number, image, seg, window_min, window_max, opacity=1):\n",
    "    \"\"\"\n",
    "    Display a slice with segmented contours overlaid into it. \n",
    "    \"\"\"\n",
    "    img_x = image.GetSize()[0]\n",
    "    img_y = image.GetSize()[1]\n",
    "    seg_x = seg.GetSize()[0]\n",
    "    seg_y = seg.GetSize()[1]\n",
    "    img = image[int(np.around(img_x/2)):img_x, int(np.around(img_y/2)):img_y, slice_number] # right eye\n",
    "    seg = seg[int(np.around(seg_x/2)):seg_x, int(np.around(seg_y/2)):seg_y, slice_number] # right eye\n",
    "\n",
    "    palette_lens = colors.ListedColormap(['red'])\n",
    "    palette_globe = colors.ListedColormap(['lime'])\n",
    "    palette_nerve = colors.ListedColormap(['blue'])\n",
    "    palette_int_fat = colors.ListedColormap(['yellow'])\n",
    "    palette = [palette_lens, palette_globe, palette_nerve, palette_int_fat]\n",
    "\n",
    "    if segmentation_number != 0:\n",
    "        msk = seg[:,:]==segmentation_number\n",
    "    else:\n",
    "        msk = seg[:,:]\n",
    "    overlay_img = sitk.LabelMapOverlay(sitk.Cast(sitk.Cast(msk, sitk.sitkUInt8), sitk.sitkLabelUInt8),\n",
    "        sitk.Cast(sitk.IntensityWindowing(img, windowMinimum=window_min, windowMaximum=window_max), sitk.sitkUInt8),\n",
    "        opacity=opacity)\n",
    "        \n",
    "    # Assume the original slice is isotropic, otherwise the display would be distorted \n",
    "    plt.imshow(sitk.GetArrayViewFromImage(overlay_img), origin='lower')\n",
    "    plt.axis('off')\n",
    "    plt.show()"
   ]
  },
  {
   "cell_type": "code",
   "execution_count": 41,
   "metadata": {},
   "outputs": [
    {
     "name": "stdout",
     "output_type": "stream",
     "text": [
      "256\n"
     ]
    }
   ],
   "source": [
    "import numpy as np\n",
    "\n",
    "ima_file = '/mnt/sda1/Repos/a-eye/a-eye_segmentation/deep_learning/nnUNet/nnUNet/nnUNet_inference/non_labeled_dataset_nifti_nnunet/AEye_2022160100001_0000.nii.gz'\n",
    "lab_file = '/mnt/sda1/Repos/a-eye/a-eye_segmentation/deep_learning/nnUNet/nnUNet/nnUNet_inference/no_postprocessing/AEye_2022160100001.nii.gz'\n",
    "\n",
    "img = sitk.ReadImage(ima_file)\n",
    "lab = sitk.ReadImage(lab_file)"
   ]
  },
  {
   "cell_type": "code",
   "execution_count": 69,
   "metadata": {},
   "outputs": [
    {
     "data": {
      "application/vnd.jupyter.widget-view+json": {
       "model_id": "79ffb6357a58489eb20acdcc5e446995",
       "version_major": 2,
       "version_minor": 0
      },
      "text/plain": [
       "interactive(children=(IntSlider(value=1, description='segmentation_number', max=3, min=-1), IntSlider(value=87…"
      ]
     },
     "metadata": {},
     "output_type": "display_data"
    },
    {
     "data": {
      "text/plain": [
       "<function __main__.display_with_overlay(segmentation_number, slice_number, image, seg, window_min, window_max, opacity=1)>"
      ]
     },
     "execution_count": 69,
     "metadata": {},
     "output_type": "execute_result"
    }
   ],
   "source": [
    "# Example with the segmentations\n",
    "slices = np.array([87, 88, 89]) # example for subject 001\n",
    "interact(display_with_overlay, segmentation_number=1,\n",
    "    slice_number = widgets.IntSlider(min=slices[0], max=slices[-1], step=1, value=slices[0]), \n",
    "    image = fixed(img), seg=fixed(lab), window_min=fixed(0), window_max=fixed(4000))"
   ]
  }
 ],
 "metadata": {
  "kernelspec": {
   "display_name": "Python 3.9.12 ('3dmultilabel')",
   "language": "python",
   "name": "python3"
  },
  "language_info": {
   "codemirror_mode": {
    "name": "ipython",
    "version": 3
   },
   "file_extension": ".py",
   "mimetype": "text/x-python",
   "name": "python",
   "nbconvert_exporter": "python",
   "pygments_lexer": "ipython3",
   "version": "3.9.12"
  },
  "orig_nbformat": 4,
  "vscode": {
   "interpreter": {
    "hash": "236677abf66ddcf33094279068f0bab187d6786b2da11104f264e332fab0dfcc"
   }
  }
 },
 "nbformat": 4,
 "nbformat_minor": 2
}

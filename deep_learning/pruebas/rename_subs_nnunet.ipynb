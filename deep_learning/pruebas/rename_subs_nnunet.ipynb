{
 "cells": [
  {
   "cell_type": "code",
   "execution_count": null,
   "metadata": {},
   "outputs": [],
   "source": [
    "import os\n",
    "\n",
    "# Define the folder path\n",
    "folder = '/home/jaimebarranco/Desktop/nnUNet_guillaume/74subs/nnUNet_raw/Dataset074_AEye/labelsTr'\n",
    "\n",
    "# Get the list of files in the folder\n",
    "files = [f for f in os.listdir(folder) if f.endswith('.nii.gz')]\n",
    "\n",
    "# Sort the files list to maintain a consistent order\n",
    "files.sort()\n",
    "\n",
    "# Iterate over the files and rename them\n",
    "for idx, filename in enumerate(files):\n",
    "    # Define the new filename with the pattern \"AEye_XXX_0000.nii.gz\"\n",
    "    new_filename = f'AEye_{idx+5:03d}.nii.gz'\n",
    "    # Define the full paths for the old and new filenames\n",
    "    old_filepath = os.path.join(folder, filename)\n",
    "    new_filepath = os.path.join(folder, new_filename)\n",
    "    # Rename the file\n",
    "    os.rename(old_filepath, new_filepath)\n",
    "    print(f'Renamed: {filename} to {new_filename}')\n",
    "\n",
    "print('Renaming completed.')\n"
   ]
  }
 ],
 "metadata": {
  "kernelspec": {
   "display_name": "a-eye",
   "language": "python",
   "name": "python3"
  },
  "language_info": {
   "codemirror_mode": {
    "name": "ipython",
    "version": 3
   },
   "file_extension": ".py",
   "mimetype": "text/x-python",
   "name": "python",
   "nbconvert_exporter": "python",
   "pygments_lexer": "ipython3",
   "version": "3.8.13"
  }
 },
 "nbformat": 4,
 "nbformat_minor": 2
}

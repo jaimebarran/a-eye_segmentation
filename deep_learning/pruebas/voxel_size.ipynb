{
 "cells": [
  {
   "cell_type": "code",
   "execution_count": null,
   "metadata": {},
   "outputs": [],
   "source": [
    "import os\n",
    "import numpy as np\n",
    "import nibabel as nb\n",
    "from skimage.measure import regionprops, label\n",
    "from matplotlib import pyplot as plt\n",
    "import math\n",
    "\n",
    "METHOD = 'reg' # reg, dl, manual\n",
    "LABEL = 'lens+globe' # eyeball, lens+globe\n",
    "\n",
    "# Paths - segmentation results\n",
    "if METHOD=='reg':\n",
    "    main_path = '/mnt/sda1/Repos/a-eye/Data/SHIP_dataset/'\n",
    "    input_path = main_path + 'non_labeled_dataset_nifti_reg_2/'\n",
    "elif METHOD=='dl':\n",
    "    main_path = '/mnt/sda1/Repos/a-eye/a-eye_segmentation/3D_multilabel/experiment_0/'\n",
    "    input_path = main_path + 'test_orig_reg-cropped_non-labeled/'\n",
    "elif METHOD=='manual':\n",
    "    main_path = '/mnt/sda1/Repos/a-eye/a-eye_preprocessing/ANTs/'\n",
    "    input_path = main_path + 'a123/'\n",
    "\n",
    "# List of volumes for each individual label and subject\n",
    "len_path = len([elem for elem in os.listdir(input_path)])\n",
    "name_subject = [None]*len_path\n",
    "axial_length_total = np.zeros(len_path)\n",
    "outliers = list()\n",
    "\n",
    "i=0\n",
    "for folder1 in sorted(os.listdir(input_path)):\n",
    "\n",
    "    # Load image in array format\n",
    "    if METHOD=='reg': lab_arr = nb.load(f'{input_path}{folder1}/labels.nii.gz').header.get_zooms()\n",
    "    elif METHOD=='dl': lab_arr = nb.load(f'{input_path}{folder1}').get_fdata()\n",
    "    elif METHOD=='manual': lab_arr = nb.load(f'{input_path}{folder1}/input/{folder1}_labels_cropped.nii.gz').get_fdata()\n",
    "\n",
    "    print(f'voxel size = ({lab_arr})')\n",
    "\n",
    "    i+=1\n",
    "    if i==1:\n",
    "        break"
   ]
  }
 ],
 "metadata": {
  "language_info": {
   "name": "python"
  },
  "orig_nbformat": 4
 },
 "nbformat": 4,
 "nbformat_minor": 2
}

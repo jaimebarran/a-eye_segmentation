{
 "cells": [
  {
   "cell_type": "code",
   "execution_count": 2,
   "metadata": {},
   "outputs": [],
   "source": [
    "import os, shutil, csv"
   ]
  },
  {
   "cell_type": "code",
   "execution_count": 3,
   "metadata": {},
   "outputs": [],
   "source": [
    "img_path = '/mnt/sda1/Repos/a-eye/Data/SHIP_dataset/non_labeled_dataset_nifti_cropped' # 2022160100001_cropped.nii.gz'\n",
    "seg_path = '/mnt/sda1/Repos/a-eye/Data/SHIP_dataset/non_labeled_dataset_nifti_reg_2' #/2022160100001/labels.nii.gz'\n",
    "out_path = '/home/jaimebarranco/Desktop/score_atlas/'\n",
    "\n",
    "num_images = 50\n",
    "subfolders = sorted([f.name for f in os.scandir(seg_path) if f.is_dir()])\n",
    "name_subject_original = list()\n",
    "name_subject_simplified = list()\n",
    "\n",
    "for i in range(num_images):\n",
    "\n",
    "    # Create output dir if not exists\n",
    "    out_dir = os.path.join(out_path, f'sub_{i+1:03d}')\n",
    "    if not os.path.exists(out_dir):\n",
    "        os.makedirs(out_dir)\n",
    "\n",
    "    # Image and segmentation paths\n",
    "    img = f'{img_path}/{subfolders[i]}_cropped.nii.gz'\n",
    "    seg = f'{seg_path}/{subfolders[i]}/labels.nii.gz'\n",
    "\n",
    "    # csv to map original name with the simplified one\n",
    "    name_subject_original.append(subfolders[i])\n",
    "    name_subject_simplified.append(f'sub_{i+1:03d}')\n",
    "\n",
    "    # Copy image and segmentation to output folder\n",
    "    shutil.copy2(img, out_dir + '/' + f'sub_{i+1:03d}.nii.gz')\n",
    "    shutil.copy2(seg, out_dir + '/' + f'seg_{i+1:03d}.nii.gz')\n",
    "\n",
    "with open(f'{out_path}mapping.csv', 'w', newline='') as csvfile:\n",
    "    writer = csv.writer(csvfile)\n",
    "    writer.writerow(['Subject', 'Simplified'])\n",
    "    for j in range(num_images):\n",
    "        writer.writerow([name_subject_original[j], name_subject_simplified[j]])"
   ]
  }
 ],
 "metadata": {
  "kernelspec": {
   "display_name": "a-eye",
   "language": "python",
   "name": "python3"
  },
  "language_info": {
   "codemirror_mode": {
    "name": "ipython",
    "version": 3
   },
   "file_extension": ".py",
   "mimetype": "text/x-python",
   "name": "python",
   "nbconvert_exporter": "python",
   "pygments_lexer": "ipython3",
   "version": "3.8.13"
  },
  "orig_nbformat": 4,
  "vscode": {
   "interpreter": {
    "hash": "9359d2270d3551a63717fabc70a2b27bb0e6b53042313bd477f1f13af9b105a2"
   }
  }
 },
 "nbformat": 4,
 "nbformat_minor": 2
}

{
 "cells": [
  {
   "attachments": {},
   "cell_type": "markdown",
   "metadata": {},
   "source": [
    "# Managing subjects"
   ]
  },
  {
   "attachments": {},
   "cell_type": "markdown",
   "metadata": {},
   "source": [
    "## Cropped atlas subjects"
   ]
  },
  {
   "attachments": {},
   "cell_type": "markdown",
   "metadata": {},
   "source": [
    "Copy cropped subjects and its atlas labels to a new folder "
   ]
  },
  {
   "cell_type": "code",
   "execution_count": null,
   "metadata": {},
   "outputs": [],
   "source": [
    "import os, shutil, csv\n",
    "\n",
    "img_path = '/mnt/sda1/Repos/a-eye/Data/SHIP_dataset/non_labeled_dataset_nifti_cropped' #2022160100001_cropped.nii.gz'\n",
    "seg_path = '/mnt/sda1/Repos/a-eye/Data/SHIP_dataset/non_labeled_dataset_nifti_reg_2' #/2022160100001/labels.nii.gz'\n",
    "out_path = '/home/jaimebarranco/Desktop/score_atlas/'\n",
    "\n",
    "num_images = 50\n",
    "subfolders = sorted([f.name for f in os.scandir(seg_path) if f.is_dir()])\n",
    "name_subject_original = list()\n",
    "name_subject_simplified = list()\n",
    "\n",
    "for i in range(num_images):\n",
    "\n",
    "    # Create output dir if not exists\n",
    "    out_dir = os.path.join(out_path, f'sub_{i+1:03d}')\n",
    "    if not os.path.exists(out_dir):\n",
    "        os.makedirs(out_dir)\n",
    "\n",
    "    # Image and segmentation paths\n",
    "    img = f'{img_path}/{subfolders[i]}_cropped.nii.gz'\n",
    "    seg = f'{seg_path}/{subfolders[i]}/labels.nii.gz'\n",
    "\n",
    "    # csv to map original name with the simplified one\n",
    "    name_subject_original.append(subfolders[i])\n",
    "    name_subject_simplified.append(f'sub_{i+1:03d}')\n",
    "\n",
    "    # Copy image and segmentation to output folder\n",
    "    shutil.copy2(img, out_dir + '/' + f'sub_{i+1:03d}.nii.gz')\n",
    "    shutil.copy2(seg, out_dir + '/' + f'seg_{i+1:03d}.nii.gz')\n",
    "\n",
    "with open(f'{out_path}mapping.csv', 'w', newline='') as csvfile:\n",
    "    writer = csv.writer(csvfile)\n",
    "    writer.writerow(['Subject', 'Simplified'])\n",
    "    for j in range(num_images):\n",
    "        writer.writerow([name_subject_original[j], name_subject_simplified[j]])"
   ]
  },
  {
   "attachments": {},
   "cell_type": "markdown",
   "metadata": {},
   "source": [
    "## Entire atlas subjects"
   ]
  },
  {
   "attachments": {},
   "cell_type": "markdown",
   "metadata": {},
   "source": [
    "### Copy entire subjects without labels to a folder\n",
    "(for new manual annotation)\n",
    "\n",
    "- 50% males, 50% females (aprox) --> select 35 for each with good quality\n",
    "- good quality --> axial length between 21 and 25 mm (inclusive)"
   ]
  },
  {
   "cell_type": "code",
   "execution_count": null,
   "metadata": {},
   "outputs": [],
   "source": [
    "import os, shutil, csv, random, zipfile\n",
    "import pandas as pd\n",
    "\n",
    "# VARIABLES\n",
    "num_subjects_to_copy = 35 # from each group (males and females)\n",
    "folder_name = 'samples_good_quality'\n",
    "good_quality = 1 # based on axial lenght\n",
    "min_al = 21 # min axial length\n",
    "max_al = 25 # max axial length\n",
    "\n",
    "# FUNCTIONS\n",
    "def delete_files_in_folder(folder):\n",
    "    for item in os.listdir(folder):\n",
    "        item_path = os.path.join(folder, item)\n",
    "        try:\n",
    "            if os.path.isdir(item_path):\n",
    "                shutil.rmtree(item_path)\n",
    "            elif os.path.isfile(item_path) or os.path.islink(item_path):\n",
    "                os.unlink(item_path)\n",
    "        except Exception as e:\n",
    "            print(f\"Failed to delete {item_path}. Reason: {e}\", 'error')\n",
    "\n",
    "def zip_folder(source, destination):\n",
    "    with zipfile.ZipFile(destination, 'w', zipfile.ZIP_DEFLATED) as zipf:\n",
    "        for root, dirs, files in os.walk(source):\n",
    "            for file in files:\n",
    "                zipf.write(os.path.join(root, file), os.path.relpath(os.path.join(root, file), os.path.join(source, '..')))            \n",
    "\n",
    "# 1. SELECT SUBJECTS\n",
    "# CSV paths\n",
    "csv_metadata = '/mnt/sda1/Repos/a-eye/Output/metadata/sub_metadata.csv'\n",
    "csv_al = '/mnt/sda1/Repos/a-eye/Output/atlas/axial_length/axial_length_reg_v10_grad_th100.csv' # axial length\n",
    "# Pandas read csv\n",
    "pd_metadata = pd.read_csv(csv_metadata)\n",
    "pd_al = pd.read_csv(csv_al)\n",
    "# Dataframe\n",
    "df = pd.concat([pd_metadata, pd_al.iloc[:, 1:]], axis=1, verify_integrity=True)\n",
    "# Group by sex (males and females)\n",
    "sex_group = df.groupby([\"Sex\"], dropna=True)\n",
    "# Male group\n",
    "male_group = sex_group.get_group(\"M\").dropna()\n",
    "if good_quality:\n",
    "    male_group = male_group.query(f'{min_al} <= axial_length <= {max_al}') # for good quality\n",
    "# Female group\n",
    "female_group = sex_group.get_group(\"F\").dropna()\n",
    "if good_quality:\n",
    "    female_group = female_group.query(f'{min_al} <= axial_length <= {max_al}') # for good quality\n",
    "# Select subjects randomly from each group and add them to a list\n",
    "samples_male = male_group.sample(n=num_subjects_to_copy)['Subject'].tolist()\n",
    "samples_female = female_group.sample(n=num_subjects_to_copy)['Subject'].tolist()\n",
    "# Concatenate both lists\n",
    "samples = samples_male + samples_female\n",
    "samples.sort()\n",
    "# print(samples)\n",
    "\n",
    "# 2. COPY SUBJECTS\n",
    "# Paths\n",
    "img_path = '/mnt/sda1/Repos/a-eye/Data/SHIP_dataset/non_labeled_dataset_nifti'\n",
    "out_path = f'/home/jaimebarranco/Desktop/{folder_name}'\n",
    "if not os.path.exists(out_path):\n",
    "    os.makedirs(out_path)\n",
    "else:\n",
    "    delete_files_in_folder(out_path)\n",
    "# Copy loop\n",
    "for i in range(len(samples)):\n",
    "    # Images\n",
    "    img = f'{img_path}/{samples[i]}/{samples[i]}.nii.gz'\n",
    "    # Copy image to output folder\n",
    "    shutil.copy2(img, out_path)\n",
    "\n",
    "# 3. ZIP FOLDER\n",
    "zip_folder(out_path, f'{out_path}.zip')"
   ]
  },
  {
   "attachments": {},
   "cell_type": "markdown",
   "metadata": {},
   "source": [
    "### Removing chosen subjects for samples from non-labeled dataset"
   ]
  },
  {
   "cell_type": "code",
   "execution_count": null,
   "metadata": {},
   "outputs": [],
   "source": [
    "import os\n",
    "\n",
    "path = '/mnt/sda1/Repos/a-eye/Data/SHIP_dataset/non_labeled_dataset_nifti'\n",
    "files = os.listdir(path)\n",
    "\n",
    "new_files = [subject for subject in files if subject not in str(samples)]\n",
    "new_files.sort()"
   ]
  },
  {
   "attachments": {},
   "cell_type": "markdown",
   "metadata": {},
   "source": [
    "### Subdataframe meeting condition"
   ]
  },
  {
   "cell_type": "code",
   "execution_count": null,
   "metadata": {},
   "outputs": [],
   "source": [
    "import os, shutil, csv, random, zipfile\n",
    "import pandas as pd\n",
    "\n",
    "csv_out = '/home/jaimebarranco/Desktop/samples_v2.csv' # output csv\n",
    "\n",
    "# CSV paths\n",
    "subs = '/home/jaimebarranco/Desktop/samples_v2/' # input folder\n",
    "csv_metadata = '/mnt/sda1/Repos/a-eye/Output/metadata/sub_metadata.csv' # table of metadata\n",
    "csv_al = '/mnt/sda1/Repos/a-eye/Output/axial_length/atlas/old/axial_length_reg_v10_grad_th100.csv' # axial length\n",
    "\n",
    "# list of names of elements (without the format) of a folder ignoring the hidden ones\n",
    "files = [(os.path.basename(f)).split('.')[0] for f in sorted(os.listdir(subs)) if not f.startswith('.')]\n",
    "files = [int(f) for f in files] # files from string to int\n",
    "\n",
    "# Pandas read csv\n",
    "pd_metadata = pd.read_csv(csv_metadata)\n",
    "pd_al = pd.read_csv(csv_al)\n",
    "\n",
    "# Dataframe\n",
    "df = pd.concat([pd_metadata, pd_al.iloc[:, 1:]], axis=1, verify_integrity=True)\n",
    "\n",
    "# subdataframe from df where Subjects are in files\n",
    "df_samples = df[df['Subject'].isin(files)].reset_index(drop=True)\n",
    "\n",
    "# df_samples to .csv\n",
    "df_samples.to_csv(csv_out, index=False)"
   ]
  },
  {
   "attachments": {},
   "cell_type": "markdown",
   "metadata": {},
   "source": [
    "### Copy corresponding dicom folders to a new folder"
   ]
  },
  {
   "cell_type": "code",
   "execution_count": null,
   "metadata": {},
   "outputs": [],
   "source": [
    "import os, shutil, csv, random, zipfile\n",
    "import pandas as pd\n",
    "\n",
    "def unzip_file(source, destination):\n",
    "    # Create a ZipFile object with the path of the zip file\n",
    "    zip_file = zipfile.ZipFile(source)\n",
    "    # Extract all the files to a folder\n",
    "    zip_file.extractall(destination)\n",
    "    # Close the zip file\n",
    "    zip_file.close()\n",
    "\n",
    "def copy_folder(source, destination):\n",
    "    if not os.path.exists(destination):\n",
    "        os.mkdir(destination)\n",
    "    for item in os.listdir(source):\n",
    "        s = os.path.join(source, item)\n",
    "        d = os.path.join(destination, item)\n",
    "        if os.path.isdir(s):\n",
    "            shutil.copytree(s, d)\n",
    "        else:\n",
    "            if s.split('.')[-1].lower() == 'zip':\n",
    "                unzip_file(s, destination)\n",
    "            else:\n",
    "                shutil.copy2(s, d)\n",
    "\n",
    "def copy_file(source, destination):\n",
    "    if not os.path.exists(destination):\n",
    "        os.mkdir(destination)\n",
    "    shutil.copy(source, destination)\n",
    "\n",
    "def zip_folder(source, destination):\n",
    "    with zipfile.ZipFile(destination, 'w', zipfile.ZIP_DEFLATED) as zipf:\n",
    "        for root, dirs, files in os.walk(source):\n",
    "            for file in files:\n",
    "                zipf.write(os.path.join(root, file), os.path.relpath(os.path.join(root, file), os.path.join(source, '..')))\n",
    "\n",
    "\n",
    "# zip_folder(out_path, f'{out_path}.zip')\n",
    "\n",
    "# paths\n",
    "subs = '/home/jaimebarranco/Desktop/samples_v3/' # folder containing the subjects in .nii.gz (70)\n",
    "dcm_folder = '/mnt/sda1/Repos/a-eye/Data/SHIP_dataset/non_labeled_dataset' # dicom folder (1200)\n",
    "subs_dcm = '/home/jaimebarranco/Desktop/samples_v3_bids/sourcedata/' # output folder\n",
    "if not os.path.exists(subs_dcm):\n",
    "    os.makedirs(subs_dcm)\n",
    "\n",
    "# list of names of elements (without the format) of a folder ignoring the hidden ones\n",
    "files = [(os.path.basename(f)).split('.')[0] for f in sorted(os.listdir(subs)) if not f.startswith('.')]\n",
    "files = [int(f) for f in files] # files from string to int\n",
    "\n",
    "# copy loop\n",
    "for i in range(len(files)):\n",
    "    # copy folder\n",
    "    copy_folder(f'{dcm_folder}/{files[i]}', f'{subs_dcm}/{files[i]}')\n",
    "\n",
    "# zip folder\n",
    "# zip_folder(subs_dcm, '/home/jaimebarranco/Desktop/samples_v2_dcm.zip')"
   ]
  },
  {
   "attachments": {},
   "cell_type": "markdown",
   "metadata": {},
   "source": [
    "### Copy nifti subjects with .json"
   ]
  },
  {
   "cell_type": "code",
   "execution_count": null,
   "metadata": {},
   "outputs": [],
   "source": [
    "import os, shutil, csv, random, zipfile\n",
    "import pandas as pd\n",
    "\n",
    "def unzip_file(source, destination):\n",
    "    # Create a ZipFile object with the path of the zip file\n",
    "    zip_file = zipfile.ZipFile(source)\n",
    "    # Extract all the files to a folder\n",
    "    zip_file.extractall(destination)\n",
    "    # Close the zip file\n",
    "    zip_file.close()\n",
    "\n",
    "def copy_folder(source, destination):\n",
    "    if not os.path.exists(destination):\n",
    "        os.mkdir(destination)\n",
    "    for item in os.listdir(source):\n",
    "        s = os.path.join(source, item)\n",
    "        d = os.path.join(destination, item)\n",
    "        if os.path.isdir(s):\n",
    "            shutil.copytree(s, d)\n",
    "        else:\n",
    "            if s.split('.')[-1].lower() == 'zip':\n",
    "                unzip_file(s, destination)\n",
    "            else:\n",
    "                shutil.copy2(s, d)\n",
    "\n",
    "def copy_file(source, destination):\n",
    "    if not os.path.exists(destination):\n",
    "        os.mkdir(destination)\n",
    "    shutil.copy(source, destination)\n",
    "\n",
    "# paths\n",
    "subs = '/home/jaimebarranco/Downloads/samples_v3' # folder containing the subjects in .nii.gz (70)\n",
    "input_path = '/mnt/sda1/Repos/a-eye/Data/SHIP_dataset/non_labeled_dataset_nifti/'\n",
    "output_path = '/home/jaimebarranco/Desktop/samples_v3_bids/'\n",
    "\n",
    "# list of names of elements (without the format) of a folder ignoring the hidden ones\n",
    "files = [(os.path.basename(f)).split('.')[0] for f in sorted(os.listdir(subs)) if not f.startswith('.')]\n",
    "files = [int(f) for f in files] # files from string to int\n"
   ]
  },
  {
   "cell_type": "code",
   "execution_count": null,
   "metadata": {},
   "outputs": [],
   "source": [
    "\n",
    "# copy loop\n",
    "for i in range(len(files)):\n",
    "    out_dir = f'{output_path}sub-{i+1:03}/anat'\n",
    "    # make output folder\n",
    "    if not os.path.exists(out_dir):\n",
    "        os.makedirs(out_dir)\n",
    "    # copy files\n",
    "    copy_file(f'{input_path}/{files[i]}/{files[i]}.json', f'{out_dir}')\n",
    "    copy_file(f'{input_path}/{files[i]}/{files[i]}.nii.gz', f'{out_dir}')\n",
    "    # rename files\n",
    "    os.rename(f'{out_dir}/{files[i]}.json', f'{out_dir}/sub-{i+1:03}_T1w.json')\n",
    "    os.rename(f'{out_dir}/{files[i]}.nii.gz', f'{out_dir}/sub-{i+1:03}_T1w.nii.gz')\n",
    "    # remove files\n",
    "    # os.remove(f'{out_dir}/sub-{i+1:03}.json')\n",
    "    # os.remove(f'{out_dir}/sub-{i+1:03}.nii.gz')\n",
    "\n",
    "    # i+=1\n",
    "    # if i==1:\n",
    "    #     break"
   ]
  },
  {
   "cell_type": "markdown",
   "metadata": {},
   "source": [
    "## Cropped manual images"
   ]
  },
  {
   "cell_type": "code",
   "execution_count": null,
   "metadata": {},
   "outputs": [],
   "source": [
    "import os, shutil\n",
    "\n",
    "# paths\n",
    "folder1 = \"/home/jaimebarranco/Desktop/new_manual_annotations/images\"\n",
    "folder2 = \"/mnt/sda1/Repos/a-eye/Data/SHIP_dataset/non_labeled_dataset_nifti_cropped\"\n",
    "output_folder = \"/home/jaimebarranco/Desktop/new_manual_annotations/images/images_cropped\"\n",
    "\n",
    "# for each .nii.gz starting with '2' in folder1, copy the corresponding .nii.gz from folder2 to output_folder\n",
    "for item in os.listdir(folder1):\n",
    "    if item.startswith('2'):\n",
    "        # print(item)\n",
    "        # insert \"_cropped\" before \".nii.gz\"\n",
    "        item = item.split('.')[0] + '_cropped.nii.gz'\n",
    "        print(item)\n",
    "        # copy items and rename them removing the \"_cropped\" part\n",
    "        shutil.copy2(f'{folder2}/{item}', output_folder)\n",
    "        item_new = item.split('.')[0].split('_')[0] + '.nii.gz'\n",
    "        os.rename(f'{output_folder}/{item}', f'{output_folder}/{item_new}')"
   ]
  },
  {
   "cell_type": "markdown",
   "metadata": {},
   "source": [
    "## Images from one folder to another"
   ]
  },
  {
   "cell_type": "code",
   "execution_count": null,
   "metadata": {},
   "outputs": [],
   "source": [
    "import os, shutil\n",
    "\n",
    "# paths\n",
    "folder1 = \"/home/jaimebarranco/Desktop/new_manual_annotations/segmentations/manual\"\n",
    "folder2 = \"/home/jaimebarranco/Desktop/new_manual_annotations/images\"\n",
    "output_folder = \"/home/jaimebarranco/Desktop/new_manual_annotations/segmentations/manual_74\"\n",
    "\n",
    "for item in sorted(os.listdir(folder1)):\n",
    "    print(item)\n",
    "    # copy items and rename them removing the \"_cropped\" part\n",
    "    shutil.copy2(f'{folder1}/{item}', output_folder)"
   ]
  },
  {
   "cell_type": "markdown",
   "metadata": {},
   "source": [
    "## Rest of the manual annotated images and their corresponding labels"
   ]
  },
  {
   "cell_type": "code",
   "execution_count": 6,
   "metadata": {},
   "outputs": [],
   "source": [
    "import os, shutil\n",
    "\n",
    "# paths\n",
    "input_folder = \"/mnt/sda1/Repos/a-eye/a-eye_preprocessing/ANTs/a123\"\n",
    "aux_folder = \"/mnt/sda1/Repos/a-eye/Data/SHIP_dataset/labeled_dataset\" # for the subject names\n",
    "output_folder_images = \"/home/jaimebarranco/Desktop/new_manual_annotations/images/images_74/prueba\"\n",
    "output_folder_segmentations = \"/home/jaimebarranco/Desktop/new_manual_annotations/segmentations/manual_74/prueba\"\n",
    "\n",
    "# list of subjects already in the output folder\n",
    "list_subjects_aux = ['sub-13','sub-14','sub-21','sub-34']\n",
    "list_subjects_aux2 = ['0000814997','0000814999','0000815173','0000815262']\n",
    "\n",
    "# subjects' names\n",
    "subjects_names = sorted([name for name in os.listdir(aux_folder) if not name.startswith('.')])\n",
    "# remove from subjects_names the subjects in list_subjects_aux2\n",
    "subjects_names = [sub for sub in subjects_names if sub not in list_subjects_aux2]\n",
    "\n",
    "i=0\n",
    "for sub in sorted(os.listdir(input_folder)):\n",
    "    # if sub is in list_subjects_aux, continue\n",
    "    if sub in list_subjects_aux:\n",
    "        continue\n",
    "    \n",
    "    new_name = subjects_names[i]\n",
    "\n",
    "    # copy images and change its name for its corresponding name in order in subjects_names\n",
    "    shutil.copy2(f'{input_folder}/{sub}/input/{sub}_T1.nii.gz', output_folder_images)\n",
    "    os.rename(f'{output_folder_images}/{sub}_T1.nii.gz', f'{output_folder_images}/{new_name}.nii.gz')\n",
    "\n",
    "    # copy segmentations and change its name for its corresponding name in order in subjects_names\n",
    "    shutil.copy2(f'{input_folder}/{sub}/input/{sub}_labels.nii.gz', output_folder_segmentations)\n",
    "    os.rename(f'{output_folder_segmentations}/{sub}_labels.nii.gz', f'{output_folder_segmentations}/{new_name}.nii.gz')\n",
    "\n",
    "    i+=1"
   ]
  }
 ],
 "metadata": {
  "kernelspec": {
   "display_name": "a-eye",
   "language": "python",
   "name": "python3"
  },
  "language_info": {
   "codemirror_mode": {
    "name": "ipython",
    "version": 3
   },
   "file_extension": ".py",
   "mimetype": "text/x-python",
   "name": "python",
   "nbconvert_exporter": "python",
   "pygments_lexer": "ipython3",
   "version": "3.8.13"
  },
  "orig_nbformat": 4,
  "vscode": {
   "interpreter": {
    "hash": "9359d2270d3551a63717fabc70a2b27bb0e6b53042313bd477f1f13af9b105a2"
   }
  }
 },
 "nbformat": 4,
 "nbformat_minor": 2
}

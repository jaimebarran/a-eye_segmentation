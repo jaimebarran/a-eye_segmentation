{
 "cells": [
  {
   "attachments": {},
   "cell_type": "markdown",
   "metadata": {},
   "source": [
    "Copy cropped subjects and its atlas labels to a new folder "
   ]
  },
  {
   "cell_type": "code",
   "execution_count": 3,
   "metadata": {},
   "outputs": [],
   "source": [
    "import os, shutil, csv\n",
    "\n",
    "img_path = '/mnt/sda1/Repos/a-eye/Data/SHIP_dataset/non_labeled_dataset_nifti_cropped' #2022160100001_cropped.nii.gz'\n",
    "seg_path = '/mnt/sda1/Repos/a-eye/Data/SHIP_dataset/non_labeled_dataset_nifti_reg_2' #/2022160100001/labels.nii.gz'\n",
    "out_path = '/home/jaimebarranco/Desktop/score_atlas/'\n",
    "\n",
    "num_images = 50\n",
    "subfolders = sorted([f.name for f in os.scandir(seg_path) if f.is_dir()])\n",
    "name_subject_original = list()\n",
    "name_subject_simplified = list()\n",
    "\n",
    "for i in range(num_images):\n",
    "\n",
    "    # Create output dir if not exists\n",
    "    out_dir = os.path.join(out_path, f'sub_{i+1:03d}')\n",
    "    if not os.path.exists(out_dir):\n",
    "        os.makedirs(out_dir)\n",
    "\n",
    "    # Image and segmentation paths\n",
    "    img = f'{img_path}/{subfolders[i]}_cropped.nii.gz'\n",
    "    seg = f'{seg_path}/{subfolders[i]}/labels.nii.gz'\n",
    "\n",
    "    # csv to map original name with the simplified one\n",
    "    name_subject_original.append(subfolders[i])\n",
    "    name_subject_simplified.append(f'sub_{i+1:03d}')\n",
    "\n",
    "    # Copy image and segmentation to output folder\n",
    "    shutil.copy2(img, out_dir + '/' + f'sub_{i+1:03d}.nii.gz')\n",
    "    shutil.copy2(seg, out_dir + '/' + f'seg_{i+1:03d}.nii.gz')\n",
    "\n",
    "with open(f'{out_path}mapping.csv', 'w', newline='') as csvfile:\n",
    "    writer = csv.writer(csvfile)\n",
    "    writer.writerow(['Subject', 'Simplified'])\n",
    "    for j in range(num_images):\n",
    "        writer.writerow([name_subject_original[j], name_subject_simplified[j]])"
   ]
  },
  {
   "attachments": {},
   "cell_type": "markdown",
   "metadata": {},
   "source": [
    "Copy entire subjects without labels to a folder\n",
    "(for new manual annotation)\n",
    "\n",
    "- 50% males, 50% females (aprox) --> select 35 for each with good quality\n",
    "- good quality --> axial length between 21 and 25 mm (inclusive)"
   ]
  },
  {
   "cell_type": "code",
   "execution_count": 72,
   "metadata": {},
   "outputs": [],
   "source": [
    "import os, shutil, csv, random, zipfile\n",
    "import pandas as pd\n",
    "\n",
    "# VARIABLES\n",
    "num_subjects_to_copy = 35 # from each group (males and females)\n",
    "folder_name = 'samples_good_quality'\n",
    "good_quality = 1 # based on axial lenght\n",
    "min_al = 21 # min axial length\n",
    "max_al = 25 # max axial length\n",
    "\n",
    "# FUNCTIONS\n",
    "def delete_files_in_folder(folder):\n",
    "    for item in os.listdir(folder):\n",
    "        item_path = os.path.join(folder, item)\n",
    "        try:\n",
    "            if os.path.isdir(item_path):\n",
    "                shutil.rmtree(item_path)\n",
    "            elif os.path.isfile(item_path) or os.path.islink(item_path):\n",
    "                os.unlink(item_path)\n",
    "        except Exception as e:\n",
    "            print(f\"Failed to delete {item_path}. Reason: {e}\", 'error')\n",
    "\n",
    "def zip_folder(source, destination):\n",
    "    with zipfile.ZipFile(destination, 'w', zipfile.ZIP_DEFLATED) as zipf:\n",
    "        for root, dirs, files in os.walk(source):\n",
    "            for file in files:\n",
    "                zipf.write(os.path.join(root, file), os.path.relpath(os.path.join(root, file), os.path.join(source, '..')))            \n",
    "\n",
    "# 1. SELECT SUBJECTS\n",
    "# CSV paths\n",
    "csv_metadata = '/mnt/sda1/Repos/a-eye/Output/metadata/sub_metadata.csv'\n",
    "csv_al = '/mnt/sda1/Repos/a-eye/Output/atlas/axial_length/axial_length_reg_v10_grad_th100.csv' # axial length\n",
    "# Pandas read csv\n",
    "pd_metadata = pd.read_csv(csv_metadata)\n",
    "pd_al = pd.read_csv(csv_al)\n",
    "# Dataframe\n",
    "df = pd.concat([pd_metadata, pd_al.iloc[:, 1:]], axis=1, verify_integrity=True)\n",
    "# Group by sex (males and females)\n",
    "sex_group = df.groupby([\"Sex\"], dropna=True)\n",
    "# Male group\n",
    "male_group = sex_group.get_group(\"M\").dropna()\n",
    "if good_quality:\n",
    "    male_group = male_group.query(f'{min_al} <= axial_length <= {max_al}') # for good quality\n",
    "# Female group\n",
    "female_group = sex_group.get_group(\"F\").dropna()\n",
    "if good_quality:\n",
    "    female_group = female_group.query(f'{min_al} <= axial_length <= {max_al}') # for good quality\n",
    "# Select subjects randomly from each group and add them to a list\n",
    "samples_male = male_group.sample(n=num_subjects_to_copy)['Subject'].tolist()\n",
    "samples_female = female_group.sample(n=num_subjects_to_copy)['Subject'].tolist()\n",
    "# Concatenate both lists\n",
    "samples = samples_male + samples_female\n",
    "samples.sort()\n",
    "# print(samples)\n",
    "\n",
    "# 2. COPY SUBJECTS\n",
    "# Paths\n",
    "img_path = '/mnt/sda1/Repos/a-eye/Data/SHIP_dataset/non_labeled_dataset_nifti'\n",
    "out_path = f'/home/jaimebarranco/Desktop/{folder_name}'\n",
    "if not os.path.exists(out_path):\n",
    "    os.makedirs(out_path)\n",
    "else:\n",
    "    delete_files_in_folder(out_path)\n",
    "# Copy loop\n",
    "for i in range(len(samples)):\n",
    "    # Images\n",
    "    img = f'{img_path}/{samples[i]}/{samples[i]}.nii.gz'\n",
    "    # Copy image to output folder\n",
    "    shutil.copy2(img, out_path)\n",
    "\n",
    "# 3. ZIP FOLDER\n",
    "zip_folder(out_path, f'{out_path}.zip')"
   ]
  },
  {
   "attachments": {},
   "cell_type": "markdown",
   "metadata": {},
   "source": [
    "Removing chosen subjects for samples from non-labeled dataset"
   ]
  },
  {
   "cell_type": "code",
   "execution_count": 66,
   "metadata": {},
   "outputs": [],
   "source": [
    "import os\n",
    "\n",
    "path = '/mnt/sda1/Repos/a-eye/Data/SHIP_dataset/non_labeled_dataset_nifti'\n",
    "files = os.listdir(path)\n",
    "\n",
    "new_files = [subject for subject in files if subject not in str(samples)]\n",
    "new_files.sort()"
   ]
  },
  {
   "attachments": {},
   "cell_type": "markdown",
   "metadata": {},
   "source": [
    "Subdataframe meeting condition"
   ]
  },
  {
   "cell_type": "code",
   "execution_count": 7,
   "metadata": {},
   "outputs": [],
   "source": [
    "import os, shutil, csv, random, zipfile\n",
    "import pandas as pd\n",
    "\n",
    "filename = '/home/jaimebarranco/Desktop/samples_good_quality.csv'\n",
    "\n",
    "# CSV paths\n",
    "subs = '/home/jaimebarranco/Desktop/samples_good_quality' # input folder\n",
    "csv_metadata = '/mnt/sda1/Repos/a-eye/Output/metadata/sub_metadata.csv' # table of metadata\n",
    "csv_al = '/mnt/sda1/Repos/a-eye/Output/atlas/axial_length/axial_length_reg_v10_grad_th100.csv' # axial length\n",
    "\n",
    "# list of names of elements (without the format) of a folder\n",
    "files = [(os.path.basename(f)).split('.')[0] for f in os.listdir(subs)]\n",
    "files = [int(f) for f in files] # files from string to int\n",
    "\n",
    "# Pandas read csv\n",
    "pd_metadata = pd.read_csv(csv_metadata)\n",
    "pd_al = pd.read_csv(csv_al)\n",
    "\n",
    "# Dataframe\n",
    "df = pd.concat([pd_metadata, pd_al.iloc[:, 1:]], axis=1, verify_integrity=True)\n",
    "\n",
    "# subdataframe from df where Subjects are in files\n",
    "df_samples = df[df['Subject'].isin(files)].reset_index(drop=True)\n",
    "\n",
    "# df_samples to .csv\n",
    "df_samples.to_csv(filename, index=False)"
   ]
  }
 ],
 "metadata": {
  "kernelspec": {
   "display_name": "a-eye",
   "language": "python",
   "name": "python3"
  },
  "language_info": {
   "codemirror_mode": {
    "name": "ipython",
    "version": 3
   },
   "file_extension": ".py",
   "mimetype": "text/x-python",
   "name": "python",
   "nbconvert_exporter": "python",
   "pygments_lexer": "ipython3",
   "version": "3.8.13"
  },
  "orig_nbformat": 4,
  "vscode": {
   "interpreter": {
    "hash": "9359d2270d3551a63717fabc70a2b27bb0e6b53042313bd477f1f13af9b105a2"
   }
  }
 },
 "nbformat": 4,
 "nbformat_minor": 2
}

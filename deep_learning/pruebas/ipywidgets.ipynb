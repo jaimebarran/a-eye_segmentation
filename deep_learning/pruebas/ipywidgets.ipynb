{
 "cells": [
  {
   "attachments": {},
   "cell_type": "markdown",
   "metadata": {},
   "source": [
    "## ipywidgets\n",
    "http://10.16.11.84:8889/lab/tree/example/vanilla_visualization.ipynb"
   ]
  },
  {
   "attachments": {},
   "cell_type": "markdown",
   "metadata": {},
   "source": [
    "imports"
   ]
  },
  {
   "cell_type": "code",
   "execution_count": null,
   "metadata": {},
   "outputs": [],
   "source": [
    "import itk\n",
    "import SimpleITK as sitk\n",
    "%matplotlib inline\n",
    "import matplotlib as mpl\n",
    "import matplotlib.pyplot as plt\n",
    "from ipywidgets import interact, fixed\n",
    "import ipywidgets as widgets\n",
    "from IPython.display import display, HTML\n",
    "import matplotlib.colors as colors\n",
    "from matplotlib.colors import ListedColormap\n",
    "import numpy as np"
   ]
  },
  {
   "attachments": {},
   "cell_type": "markdown",
   "metadata": {},
   "source": [
    "def display_with_overlay"
   ]
  },
  {
   "cell_type": "code",
   "execution_count": null,
   "metadata": {},
   "outputs": [],
   "source": [
    "def display_with_overlay(segmentation_number, slice_number, image, seg, window_min, window_max, opacity=1):\n",
    "    \"\"\"\n",
    "    Display a slice with segmented contours overlaid into it. \n",
    "    \"\"\"\n",
    "    img_x = image.GetSize()[0]\n",
    "    img_y = image.GetSize()[1]\n",
    "    seg_x = seg.GetSize()[0]\n",
    "    seg_y = seg.GetSize()[1]\n",
    "    img = image[int(np.around(img_x/2)):img_x, int(np.around(img_y/2)):img_y, slice_number] # right eye\n",
    "    seg = seg[int(np.around(seg_x/2)):seg_x, int(np.around(seg_y/2)):seg_y, slice_number] # right eye\n",
    "\n",
    "    if segmentation_number == 1:\n",
    "        msk = seg[:,:]==segmentation_number\n",
    "        cmap = [255, 0, 0] # red\n",
    "        overlay_img = sitk.LabelMapOverlay(sitk.Cast(sitk.Cast(msk, sitk.sitkUInt8), sitk.sitkLabelUInt8),\n",
    "        sitk.Cast(sitk.IntensityWindowing(img, windowMinimum=window_min, windowMaximum=window_max), sitk.sitkUInt8),\n",
    "        opacity=opacity,\n",
    "        colormap=cmap)\n",
    "    elif segmentation_number == 2:\n",
    "        msk = seg[:,:]==segmentation_number\n",
    "        cmap = [0, 255, 0] # lime\n",
    "        overlay_img = sitk.LabelMapOverlay(sitk.Cast(sitk.Cast(msk, sitk.sitkUInt8), sitk.sitkLabelUInt8),\n",
    "        sitk.Cast(sitk.IntensityWindowing(img, windowMinimum=window_min, windowMaximum=window_max), sitk.sitkUInt8),\n",
    "        opacity=opacity,\n",
    "        colormap=cmap)\n",
    "    elif segmentation_number == 3:\n",
    "        msk = seg[:,:]==segmentation_number\n",
    "        cmap = [0, 0, 255] # blue\n",
    "        overlay_img = sitk.LabelMapOverlay(sitk.Cast(sitk.Cast(msk, sitk.sitkUInt8), sitk.sitkLabelUInt8),\n",
    "        sitk.Cast(sitk.IntensityWindowing(img, windowMinimum=window_min, windowMaximum=window_max), sitk.sitkUInt8),\n",
    "        opacity=opacity,\n",
    "        colormap=cmap)\n",
    "    elif segmentation_number == 4:\n",
    "        msk = seg[:,:]==segmentation_number\n",
    "        cmap = [255, 255, 0] # yellow\n",
    "        overlay_img = sitk.LabelMapOverlay(sitk.Cast(sitk.Cast(msk, sitk.sitkUInt8), sitk.sitkLabelUInt8),\n",
    "        sitk.Cast(sitk.IntensityWindowing(img, windowMinimum=window_min, windowMaximum=window_max), sitk.sitkUInt8),\n",
    "        opacity=opacity,\n",
    "        colormap=cmap)\n",
    "    elif segmentation_number == 5:\n",
    "        msk = seg[:,:]==segmentation_number\n",
    "        cmap = [0, 255, 255] # cyan\n",
    "        overlay_img = sitk.LabelMapOverlay(sitk.Cast(sitk.Cast(msk, sitk.sitkUInt8), sitk.sitkLabelUInt8),\n",
    "        sitk.Cast(sitk.IntensityWindowing(img, windowMinimum=window_min, windowMaximum=window_max), sitk.sitkUInt8),\n",
    "        opacity=opacity,\n",
    "        colormap=cmap)\n",
    "    elif segmentation_number == 6:\n",
    "        msk = seg[:,:]==segmentation_number\n",
    "        cmap = [255, 0, 255] # magenta\n",
    "        overlay_img = sitk.LabelMapOverlay(sitk.Cast(sitk.Cast(msk, sitk.sitkUInt8), sitk.sitkLabelUInt8),\n",
    "        sitk.Cast(sitk.IntensityWindowing(img, windowMinimum=window_min, windowMaximum=window_max), sitk.sitkUInt8),\n",
    "        opacity=opacity,\n",
    "        colormap=cmap)\n",
    "    elif segmentation_number == 7:\n",
    "        msk = seg[:,:]==segmentation_number\n",
    "        cmap = [255, 255, 240] # ivory\n",
    "        overlay_img = sitk.LabelMapOverlay(sitk.Cast(sitk.Cast(msk, sitk.sitkUInt8), sitk.sitkLabelUInt8),\n",
    "        sitk.Cast(sitk.IntensityWindowing(img, windowMinimum=window_min, windowMaximum=window_max), sitk.sitkUInt8),\n",
    "        opacity=opacity,\n",
    "        colormap=cmap)\n",
    "    elif segmentation_number == 8:\n",
    "        msk = seg[:,:]==segmentation_number\n",
    "        cmap = [139, 69, 19] # saddlebrown\n",
    "        overlay_img = sitk.LabelMapOverlay(sitk.Cast(sitk.Cast(msk, sitk.sitkUInt8), sitk.sitkLabelUInt8),\n",
    "        sitk.Cast(sitk.IntensityWindowing(img, windowMinimum=window_min, windowMaximum=window_max), sitk.sitkUInt8),\n",
    "        opacity=opacity,\n",
    "        colormap=cmap)\n",
    "    elif segmentation_number == 9:\n",
    "        msk = seg[:,:]==segmentation_number\n",
    "        cmap = [255, 165, 0] # orange\n",
    "        overlay_img = sitk.LabelMapOverlay(sitk.Cast(sitk.Cast(msk, sitk.sitkUInt8), sitk.sitkLabelUInt8),\n",
    "        sitk.Cast(sitk.IntensityWindowing(img, windowMinimum=window_min, windowMaximum=window_max), sitk.sitkUInt8),\n",
    "        opacity=opacity,\n",
    "        colormap=cmap)\n",
    "    else:\n",
    "        msk = seg[:,:]\n",
    "        overlay_img = sitk.LabelMapOverlay(sitk.Cast(sitk.Cast(msk, sitk.sitkUInt8), sitk.sitkLabelUInt8),\n",
    "        sitk.Cast(sitk.IntensityWindowing(img, windowMinimum=window_min, windowMaximum=window_max), sitk.sitkUInt8),\n",
    "        opacity=opacity)\n",
    "    \n",
    "    # Assume the original slice is isotropic, otherwise the display would be distorted\n",
    "    plt.imshow(sitk.GetArrayViewFromImage(overlay_img), origin='lower')\n",
    "    plt.axis('off')\n",
    "    plt.show"
   ]
  },
  {
   "attachments": {},
   "cell_type": "markdown",
   "metadata": {},
   "source": [
    "paths and files"
   ]
  },
  {
   "cell_type": "code",
   "execution_count": null,
   "metadata": {},
   "outputs": [],
   "source": [
    "ima_file = '/mnt/sda1/Repos/a-eye/a-eye_segmentation/deep_learning/nnUNet/nnUNet/nnUNet_inference/non_labeled_dataset_nifti_nnunet/AEye_2022160100001_0000.nii.gz'\n",
    "lab_file = '/mnt/sda1/Repos/a-eye/a-eye_segmentation/deep_learning/nnUNet/nnUNet/nnUNet_inference/no_postprocessing/AEye_2022160100001.nii.gz'\n",
    "\n",
    "img = sitk.ReadImage(ima_file)\n",
    "lab = sitk.ReadImage(lab_file)"
   ]
  },
  {
   "attachments": {},
   "cell_type": "markdown",
   "metadata": {},
   "source": [
    "example"
   ]
  },
  {
   "cell_type": "code",
   "execution_count": null,
   "metadata": {},
   "outputs": [],
   "source": [
    "# Example with the segmentations\n",
    "slices = np.array([87, 88, 89]) # example for subject 001\n",
    "interact(display_with_overlay, segmentation_number=10,\n",
    "    slice_number = widgets.IntSlider(min=slices[0], max=slices[-1], step=1, value=slices[0]),\n",
    "    image = fixed(img), seg=fixed(lab), window_min=fixed(0), window_max=fixed(4000), opacity=0.5)"
   ]
  }
 ],
 "metadata": {
  "kernelspec": {
   "display_name": "Python 3.9.12 ('3dmultilabel')",
   "language": "python",
   "name": "python3"
  },
  "language_info": {
   "codemirror_mode": {
    "name": "ipython",
    "version": 3
   },
   "file_extension": ".py",
   "mimetype": "text/x-python",
   "name": "python",
   "nbconvert_exporter": "python",
   "pygments_lexer": "ipython3",
   "version": "3.9.12"
  },
  "orig_nbformat": 4,
  "vscode": {
   "interpreter": {
    "hash": "236677abf66ddcf33094279068f0bab187d6786b2da11104f264e332fab0dfcc"
   }
  }
 },
 "nbformat": 4,
 "nbformat_minor": 2
}

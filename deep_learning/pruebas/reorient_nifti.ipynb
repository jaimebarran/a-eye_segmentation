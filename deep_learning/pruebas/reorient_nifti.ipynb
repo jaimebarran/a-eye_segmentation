{
 "cells": [
  {
   "cell_type": "code",
   "execution_count": null,
   "metadata": {},
   "outputs": [],
   "source": [
    "import nibabel as nib\n",
    "import os\n",
    "\n",
    "# Path to the directory containing your NIfTI images\n",
    "folder_path = '/home/jaimebarranco/Desktop/new_manual_annotations/images/images_74'\n",
    "# folder_path = '/home/jaimebarranco/Desktop/new_manual_annotations/segmentations/manual_74'\n",
    "\n",
    "# List all NIfTI files in the directory\n",
    "nifti_files = [file for file in os.listdir(folder_path) if file.endswith('.nii.gz')]\n",
    "\n",
    "# Define the target orientation (LPI)\n",
    "target_orientation = 'LPI'\n",
    "\n",
    "# Iterate through each NIfTI file and reorient it to the target orientation\n",
    "for file_name in nifti_files:\n",
    "    file_path = os.path.join(folder_path, file_name)\n",
    "    \n",
    "    # Load the NIfTI image\n",
    "    img = nib.load(file_path)\n",
    "    \n",
    "    # Get the current orientation\n",
    "    current_orientation = nib.aff2axcodes(img.affine)\n",
    "    \n",
    "    # Check if the current orientation is different from the target orientation\n",
    "    if current_orientation != tuple(target_orientation):\n",
    "        # Reorient the image to the target orientation\n",
    "        img = nib.as_closest_canonical(img)\n",
    "        \n",
    "        # Save the reoriented image\n",
    "        output_path = os.path.join(folder_path, f\"reoriented_{file_name}\")\n",
    "        nib.save(img, output_path)\n",
    "        print(f\"Image '{file_name}' reoriented and saved as 'reoriented_{file_name}'\")\n",
    "    else:\n",
    "        print(f\"Image '{file_name}' is already in the target orientation '{target_orientation}'\")\n"
   ]
  }
 ],
 "metadata": {
  "kernelspec": {
   "display_name": "a-eye",
   "language": "python",
   "name": "python3"
  },
  "language_info": {
   "codemirror_mode": {
    "name": "ipython",
    "version": 3
   },
   "file_extension": ".py",
   "mimetype": "text/x-python",
   "name": "python",
   "nbconvert_exporter": "python",
   "pygments_lexer": "ipython3",
   "version": "3.8.13"
  }
 },
 "nbformat": 4,
 "nbformat_minor": 2
}

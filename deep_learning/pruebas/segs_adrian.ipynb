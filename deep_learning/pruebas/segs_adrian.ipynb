{
 "cells": [
  {
   "cell_type": "markdown",
   "metadata": {},
   "source": [
    "# Testing data Adrian Luyken"
   ]
  },
  {
   "cell_type": "markdown",
   "metadata": {},
   "source": [
    "## Orbita"
   ]
  },
  {
   "cell_type": "code",
   "execution_count": null,
   "metadata": {},
   "outputs": [],
   "source": [
    "import os\n",
    "import glob\n",
    "from pathlib import Path\n",
    "\n",
    "source_dir = '/home/jaimebarranco/Downloads/manual+Segementations/manual Segementations' # origin input folder\n",
    "destination_dir = '/mnt/sda1/Repos/a-eye/Data/adrian_luyken/orbita/segs/manual'  # destination directory\n",
    "\n",
    "nii_files = sorted(glob.glob(os.path.join(source_dir, '**', '*.nii'), recursive=True))\n",
    "# sorted(glob.glob(os.path.join(source_dir, '**', '*.nii'), recursive=True))\n",
    "# sorted(Path(source_dir).rglob('*.nii'))  # in Path format\n",
    "print(nii_files)"
   ]
  },
  {
   "cell_type": "code",
   "execution_count": null,
   "metadata": {},
   "outputs": [],
   "source": [
    "import os\n",
    "import gzip\n",
    "import shutil\n",
    "import glob\n",
    "\n",
    "def convert_nii_to_niigz(source_dir):\n",
    "    # Use glob to find all .nii files recursively\n",
    "    nii_files = sorted(glob.glob(os.path.join(source_dir, '**', '*.nii'), recursive=True))\n",
    "    \n",
    "    for nii_file_path in nii_files:\n",
    "        niigz_file_path = nii_file_path + '.gz'\n",
    "\n",
    "        # Convert .nii to .nii.gz\n",
    "        with open(nii_file_path, 'rb') as f_in:\n",
    "            with gzip.open(niigz_file_path, 'wb') as f_out:\n",
    "                shutil.copyfileobj(f_in, f_out)\n",
    "\n",
    "        # Optionally, remove the original .nii file\n",
    "        # os.remove(nii_file_path)\n",
    "\n",
    "\n",
    "def copy_all_niigz(source_dir, dest_dir):\n",
    "    if not os.path.exists(dest_dir):\n",
    "        os.makedirs(dest_dir)\n",
    "\n",
    "    # Use glob to find all .nii.gz files recursively\n",
    "    niigz_files = sorted(glob.glob(os.path.join(source_dir, '**', '*.nii.gz'), recursive=True))\n",
    "\n",
    "    for niigz_file_path in niigz_files:\n",
    "        shutil.copy(niigz_file_path, dest_dir)\n"
   ]
  },
  {
   "cell_type": "code",
   "execution_count": null,
   "metadata": {},
   "outputs": [],
   "source": [
    "source_directory = '/home/jaimebarranco/Downloads/manual+Segementations/manual Segementations' # origin input folder\n",
    "destination_directory = '/mnt/sda1/Repos/a-eye/Data/adrian_luyken/orbita/segs/manual'  # destination directory\n",
    "\n",
    "# Step 1: Convert .nii to .nii.gz\n",
    "convert_nii_to_niigz(source_directory)\n",
    "\n",
    "# Step 2: Copy all .nii.gz files to the destination directory\n",
    "copy_all_niigz(source_directory, destination_directory)\n"
   ]
  }
 ],
 "metadata": {
  "kernelspec": {
   "display_name": "a-eye",
   "language": "python",
   "name": "python3"
  },
  "language_info": {
   "codemirror_mode": {
    "name": "ipython",
    "version": 3
   },
   "file_extension": ".py",
   "mimetype": "text/x-python",
   "name": "python",
   "nbconvert_exporter": "python",
   "pygments_lexer": "ipython3",
   "version": "3.8.13"
  }
 },
 "nbformat": 4,
 "nbformat_minor": 2
}

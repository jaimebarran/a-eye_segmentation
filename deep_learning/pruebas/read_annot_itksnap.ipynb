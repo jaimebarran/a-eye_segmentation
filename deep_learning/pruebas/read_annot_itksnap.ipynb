{
 "cells": [
  {
   "attachments": {},
   "cell_type": "markdown",
   "metadata": {},
   "source": [
    "Read an .annot file"
   ]
  },
  {
   "cell_type": "code",
   "execution_count": 11,
   "metadata": {},
   "outputs": [
    {
     "name": "stdout",
     "output_type": "stream",
     "text": [
      "Axial lenght = 21.73 mm\n"
     ]
    }
   ],
   "source": [
    "'''\n",
    "read .annot file from ITK-SNAP\n",
    "'''\n",
    "\n",
    "__author__ = \"Jaime Barranco\"\n",
    "__email__ = \"jaimebarran@gmail.com\"\n",
    "# __version__ = \"0.0.1\"\n",
    "# __status__ = \"Prototype\"\n",
    "\n",
    "\n",
    "import xml.etree.ElementTree as ET\n",
    "import numpy as np\n",
    "\n",
    "\n",
    "def create_dict_from_xml(path):\n",
    "\n",
    "    tree = ET.parse(path)\n",
    "    root = tree.getroot()\n",
    "\n",
    "    list_values = list()\n",
    "    # print all tags and attributes\n",
    "    for elem in root.iter():\n",
    "        # print(elem.tag, elem.attrib)\n",
    "        # create list with all the attributes\n",
    "        for key, value in elem.attrib.items():\n",
    "            list_values.append(value)\n",
    "\n",
    "    # create dictionary\n",
    "    # TODO: for several dictionaries (one per annotation),\n",
    "    # check this key: <entry key=\"ArraySize\" value=\"2\" />\n",
    "    dict_aux = dict()\n",
    "    for i in range(0, len(list_values), 2):\n",
    "        dict_aux[list_values[i]] = list_values[i+1]\n",
    "    \n",
    "    return dict_aux\n",
    "\n",
    "def extract_points(dictionary):\n",
    "    if dictionary['Type'] == 'LineSegmentAnnotation' and dictionary['Plane'] == '2':\n",
    "        point1 = np.fromstring(dictionary['Point1'], dtype=float, sep=' ')\n",
    "        point2 = np.fromstring(dictionary['Point2'], dtype=float, sep=' ')\n",
    "        return point1, point2\n",
    "\n",
    "def distance(point1, point2):\n",
    "    return np.linalg.norm(point1 - point2)\n",
    "\n",
    "\n",
    "xml_path = '/home/jaimebarranco/Desktop/0001.annot'\n",
    "# xml_path = '/home/jaimebarranco/Downloads/measure.annot'\n",
    "\n",
    "# create dictionary\n",
    "dict_annot = create_dict_from_xml(xml_path)\n",
    "\n",
    "# extract points\n",
    "point1, point2 = extract_points(dict_annot)\n",
    "\n",
    "# compute distance\n",
    "axial_length = np.around(distance(point1, point2), decimals=2)\n",
    "print(f'Axial lenght = {axial_length} mm')\n"
   ]
  }
 ],
 "metadata": {
  "kernelspec": {
   "display_name": "a-eye",
   "language": "python",
   "name": "python3"
  },
  "language_info": {
   "codemirror_mode": {
    "name": "ipython",
    "version": 3
   },
   "file_extension": ".py",
   "mimetype": "text/x-python",
   "name": "python",
   "nbconvert_exporter": "python",
   "pygments_lexer": "ipython3",
   "version": "3.8.13"
  },
  "orig_nbformat": 4
 },
 "nbformat": 4,
 "nbformat_minor": 2
}

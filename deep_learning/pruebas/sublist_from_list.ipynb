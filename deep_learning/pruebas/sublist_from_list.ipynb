{
 "cells": [
  {
   "cell_type": "code",
   "execution_count": null,
   "metadata": {},
   "outputs": [],
   "source": [
    "import SimpleITK as sitk\n",
    "import sys, os, glob\n",
    "import pydicomext as pydcm\n",
    "from pydicom.fileset import FileSet\n",
    "from deid.data import get_dataset\n",
    "from deid.dicom import get_files, get_identifiers\n",
    "from pathlib import Path\n",
    "import numpy as np\n",
    "\n",
    "input_path = '/mnt/sda1/Repos/a-eye/Data/SHIP_dataset/non_labeled_dataset/'\n",
    "\n",
    "# List of volumes for each individual label and subject\n",
    "len_path = len([elem for elem in os.listdir(input_path)])\n",
    "name_subject = [None]*len_path\n",
    "age_subject = [None]*len_path\n",
    "sex_subject = [None]*len_path\n",
    "height_subject = [None]*len_path\n",
    "weight_subject = [None]*len_path\n",
    "bmi_subject = [None]*len_path\n",
    "\n",
    "# Create sorted list\n",
    "i=0\n",
    "list_subs = [None]*len_path\n",
    "for folder1 in sorted(os.listdir(input_path)):\n",
    "    list_subs[i] = folder1\n",
    "    i+=1\n",
    "\n",
    "index_sub = list_subs.index('2022160103683')\n",
    "print(index_sub)\n",
    "\n",
    "# Loop sublist\n",
    "k=0\n",
    "for j in range(index_sub, len_path):\n",
    "    k+=1\n",
    "print(k)    "
   ]
  }
 ],
 "metadata": {
  "language_info": {
   "name": "python"
  },
  "orig_nbformat": 4
 },
 "nbformat": 4,
 "nbformat_minor": 2
}

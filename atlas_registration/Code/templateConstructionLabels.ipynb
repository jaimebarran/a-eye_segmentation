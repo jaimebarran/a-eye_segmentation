{
 "cells": [
  {
   "cell_type": "markdown",
   "metadata": {},
   "source": [
    "registration with template"
   ]
  },
  {
   "cell_type": "code",
   "execution_count": null,
   "metadata": {},
   "outputs": [],
   "source": [
    "import os\n",
    "\n",
    "os.environ['PATH'] += ':/opt/ANTs/bin' # ensure the ANTs binaries are in $PATH\n",
    "os.environ['ANTSPATH'] = '/opt/ANTs/bin/'"
   ]
  },
  {
   "cell_type": "code",
   "execution_count": null,
   "metadata": {},
   "outputs": [],
   "source": [
    "import os\n",
    "import glob\n",
    "import numpy as np\n",
    "import pandas as pd\n",
    "\n",
    "TYPE = 'female' # male, female, combined\n",
    "\n",
    "images_dir = f'/mnt/sda1/Repos/a-eye/Output/eye_model/{TYPE}/input/cropped_images/'\n",
    "output_dir = f'/mnt/sda1/Repos/a-eye/Output/eye_model/{TYPE}/output/registrationToTemplate/'\n",
    "template = f'/mnt/sda1/Repos/a-eye/Output/eye_model/{TYPE}/output/templateConstruction/template0.nii.gz'\n",
    "\n",
    "for file in sorted(glob.glob(images_dir + '*_cropped.nii.gz')):\n",
    "        filename = os.path.basename(file)\n",
    "        output_folder = output_dir + filename.split(\"_\")[0] + '/'\n",
    "        # print(output_folder)\n",
    "\n",
    "        if not os.path.exists(output_folder):\n",
    "            os.makedirs(output_folder)\n",
    "\n",
    "        ## antsRegistrationSyNQuick # s: rigid + affine + deformable syn (3 stages)\n",
    "        command1 = 'antsRegistrationSyNQuick.sh -d 3' + \\\n",
    "        ' -m ' + file                                 + \\\n",
    "        ' -f ' + template                             + \\\n",
    "        ' -t ' + 's'                                  + \\\n",
    "        ' -o ' + output_folder                        + \\\n",
    "        ' -n ' + '16'\n",
    "        # print(command1)\n",
    "        os.system(command1)\n"
   ]
  },
  {
   "cell_type": "markdown",
   "metadata": {},
   "source": [
    "get sex from metadata and create lists"
   ]
  },
  {
   "cell_type": "code",
   "execution_count": null,
   "metadata": {},
   "outputs": [],
   "source": [
    "import pandas as pd\n",
    "\n",
    "metadata = \"/mnt/sda1/Repos/a-eye/Output/metadata/sub_metadata.csv\"\n",
    "metadata_df = pd.read_csv(metadata)\n",
    "\n",
    "males = metadata_df[metadata_df['Sex'] == 'M']\n",
    "male_list = males['Subject'].tolist() # 594\n",
    "\n",
    "females = metadata_df[metadata_df['Sex'] == 'F']\n",
    "female_list = females['Subject'].tolist() # 616"
   ]
  },
  {
   "cell_type": "markdown",
   "metadata": {},
   "source": [
    "copy atlas' labels to input folder\n",
    "---"
   ]
  },
  {
   "cell_type": "markdown",
   "metadata": {},
   "source": [
    "combined"
   ]
  },
  {
   "cell_type": "code",
   "execution_count": null,
   "metadata": {},
   "outputs": [],
   "source": [
    "import shutil\n",
    "\n",
    "source_dir = \"/mnt/sda1/Repos/a-eye/Data/SHIP_dataset/non_labeled_dataset/non_labeled_dataset_nifti_reg_2/\"\n",
    "dest_dir = \"/home/jaimebarranco/Desktop/eye_model/combined/input/cropped_labels/atlas/\"\n",
    "\n",
    "for file in sorted(glob.glob(source_dir + '*/labels.nii.gz', recursive=True)):\n",
    "    filename = os.path.basename(file)\n",
    "    # print(file.split(\"/\")[-2])\n",
    "    shutil.copy(file, os.path.join(dest_dir, f'{file.split(\"/\")[-2]}.nii.gz'))"
   ]
  },
  {
   "cell_type": "markdown",
   "metadata": {},
   "source": [
    "per sex"
   ]
  },
  {
   "cell_type": "code",
   "execution_count": null,
   "metadata": {},
   "outputs": [],
   "source": [
    "import shutil\n",
    "from pathlib import Path\n",
    "\n",
    "source_dir = \"/mnt/sda1/Repos/a-eye/Data/SHIP_dataset/non_labeled_dataset/non_labeled_dataset_nifti_reg_2\"\n",
    "dest_dir = \"/mnt/sda1/Repos/a-eye/Output/eye_model/female/input/cropped_labels/atlas\"\n",
    "\n",
    "# Create the destination directory if it doesn't exist\n",
    "if not os.path.exists(dest_dir):\n",
    "    os.makedirs(dest_dir)\n",
    "\n",
    "# for file in sorted(glob.glob(input_atlas_labels_dir + '*/labels.nii.gz', recursive=True)):\n",
    "for file in female_list:\n",
    "    # Generate the source file path based on the subject ID\n",
    "    source_file = Path(f'{source_dir}/{file}/labels.nii.gz')\n",
    "\n",
    "    # Check if the source file exists\n",
    "    if os.path.exists(source_file):        \n",
    "        # Copy the source file to the destination folder\n",
    "        shutil.copy(source_file, f'{dest_dir}/{file}.nii.gz')"
   ]
  },
  {
   "cell_type": "markdown",
   "metadata": {},
   "source": [
    "copy nnunet labels to input folder\n",
    "---"
   ]
  },
  {
   "cell_type": "markdown",
   "metadata": {},
   "source": [
    "combined"
   ]
  },
  {
   "cell_type": "code",
   "execution_count": null,
   "metadata": {},
   "outputs": [],
   "source": [
    "import shutil\n",
    "import glob\n",
    "\n",
    "dest_dir = \"/mnt/sda1/Repos/a-eye/a-eye_segmentation/deep_learning/nnUNet/nnUNet/nnUNet_inference/no_postprocessing_cropped_alligned/\"\n",
    "source_dir = \"/home/jaimebarranco/Desktop/eye_model/combined/input/cropped_labels/nnunet/\"\n",
    "\n",
    "for file in sorted(glob.glob(dest_dir + '*.nii.gz', recursive=True)):\n",
    "    filename = os.path.basename(file)\n",
    "    # print(filename.split(\"_\")[0])\n",
    "    shutil.copy(file, os.path.join(source_dir, f'{filename.split(\"_\")[0]}.nii.gz'))"
   ]
  },
  {
   "cell_type": "markdown",
   "metadata": {},
   "source": [
    "per sex"
   ]
  },
  {
   "cell_type": "code",
   "execution_count": null,
   "metadata": {},
   "outputs": [],
   "source": [
    "import shutil\n",
    "from pathlib import Path\n",
    "\n",
    "source_dir = \"/mnt/sda1/Repos/a-eye/a-eye_segmentation/deep_learning/nnUNet/nnUNet/nnUNet_inference/no_postprocessing_cropped_alligned\"\n",
    "dest_dir = \"/mnt/sda1/Repos/a-eye/Output/eye_model/female/input/cropped_labels/nnunet\"\n",
    "\n",
    "# Create the destination directory if it doesn't exist\n",
    "if not os.path.exists(dest_dir):\n",
    "    os.makedirs(dest_dir)\n",
    "\n",
    "# for file in sorted(glob.glob(input_atlas_labels_dir + '*/labels.nii.gz', recursive=True)):\n",
    "for file in female_list:\n",
    "    # Generate the source file path based on the subject ID\n",
    "    source_file = Path(f'{source_dir}/{file}_cropped_alligned.nii.gz')\n",
    "\n",
    "    # Check if the source file exists\n",
    "    if os.path.exists(source_file):\n",
    "        # Copy the source file to the destination folder\n",
    "        shutil.copy(source_file, f'{dest_dir}/{file}.nii.gz')"
   ]
  },
  {
   "cell_type": "markdown",
   "metadata": {},
   "source": [
    "apply transform to labels from subjects to template (direct transform)\n",
    "---"
   ]
  },
  {
   "cell_type": "code",
   "execution_count": null,
   "metadata": {},
   "outputs": [],
   "source": [
    "labels_dir = '/mnt/sda1/Repos/a-eye/Output/eye_model/male/input/cropped_labels/atlas/' # atlas or nnunet\n",
    "output_dir = '/mnt/sda1/Repos/a-eye/Output/eye_model/male/output/registrationToTemplate/'\n",
    "template = '/mnt/sda1/Repos/a-eye/Output/eye_model/male/output/templateConstruction/template0.nii.gz'\n",
    "\n",
    "for file in sorted(glob.glob(labels_dir + '*.nii.gz')):\n",
    "        filename = os.path.basename(file)\n",
    "        output_folder = output_dir + filename.split(\".\")[0] + '/'\n",
    "        # print(output_folder)\n",
    "        \n",
    "        # antsApplyTransforms with inverse transform to get the template labels into subject space\n",
    "        command2 = 'antsApplyTransforms -d 3 ' + \\\n",
    "        ' -i ' +  file + \\\n",
    "        ' -r ' +  template + \\\n",
    "        ' -t ' + output_folder + '1Warp.nii.gz' + \\\n",
    "        ' -t ' + output_folder + '0GenericAffine.mat' + \\\n",
    "        ' -n ' + 'MultiLabel' + \\\n",
    "        ' -o ' +  output_folder + 'labels_atlas.nii.gz' + \\\n",
    "        ' --float 0 --verbose 1'\n",
    "        # print(command2)\n",
    "        os.system(command2)\n",
    "\n",
    "        # Dealing with files in that folder\n",
    "        # for f in glob.glob(output_image_path + 'labels.nii.gz'):\n",
    "        #     os.remove(f)"
   ]
  },
  {
   "cell_type": "markdown",
   "metadata": {},
   "source": [
    "probability per voxel to belong to a certain structure of the eye\n",
    "---"
   ]
  },
  {
   "cell_type": "markdown",
   "metadata": {},
   "source": [
    "array generation"
   ]
  },
  {
   "cell_type": "code",
   "execution_count": 1,
   "metadata": {},
   "outputs": [
    {
     "name": "stdout",
     "output_type": "stream",
     "text": [
      "(77, 95, 94)\n"
     ]
    }
   ],
   "source": [
    "import nibabel as nb\n",
    "import numpy as np\n",
    "import glob, os\n",
    "\n",
    "TYPE = 'combined' # male, female, combined\n",
    "METHOD = 'nnunet' # 'atlas' or 'nnunet'\n",
    "\n",
    "labels_dir = f'/mnt/sda1/Repos/a-eye/Output/eye_model/{TYPE}/output/registrationToTemplate'\n",
    "maps_dir = f'/mnt/sda1/Repos/a-eye/Output/eye_model/{TYPE}/output/maps/{METHOD}'\n",
    "os.makedirs(maps_dir, exist_ok=True)\n",
    "num_images = len(os.listdir(labels_dir))\n",
    "\n",
    "# sample image to get the shape\n",
    "sample_image_path = sorted(glob.glob(labels_dir + '/*/labels_nnunet.nii.gz'))[0] # atlas or nnunet\n",
    "sample_image = nb.load(sample_image_path)\n",
    "image_shape = sample_image.shape  # (77, 95, 94)\n",
    "print(image_shape)"
   ]
  },
  {
   "cell_type": "code",
   "execution_count": null,
   "metadata": {},
   "outputs": [],
   "source": [
    "# (1210, 77, 95, 94) array generation\n",
    "labels_matrix = np.empty((num_images, *image_shape))  # (1210, 77, 95, 94)\n",
    "for idx, file in enumerate(sorted(glob.glob(labels_dir + f'/*/labels_{METHOD}.nii.gz'))):  # atlas or nnunet\n",
    "    sub = file.split(\"/\")[-2] # str\n",
    "    # print(idx)\n",
    "    # print(file)\n",
    "    # print(sub)\n",
    "    labels = nb.load(file)\n",
    "    # labels_shape = labels.shape\n",
    "    # print(labels_shape)\n",
    "    labels_data = labels.get_fdata()\n",
    "    labels_matrix[idx] = labels_data\n",
    "\n",
    "voxel_arrays = np.moveaxis(labels_matrix, 0, -1)\n",
    "print(voxel_arrays.shape)  # (77, 95, 94, 1210)"
   ]
  },
  {
   "cell_type": "code",
   "execution_count": null,
   "metadata": {},
   "outputs": [],
   "source": [
    "# Save voxel_arrays to a .npy file\n",
    "np.save(f'{maps_dir}/voxel_arrays.npy', voxel_arrays)"
   ]
  },
  {
   "cell_type": "code",
   "execution_count": 2,
   "metadata": {},
   "outputs": [],
   "source": [
    "# Load voxel_arrays\n",
    "voxel_arrays = np.load(f'{maps_dir}/voxel_arrays.npy')"
   ]
  },
  {
   "cell_type": "markdown",
   "metadata": {},
   "source": [
    "max prob map"
   ]
  },
  {
   "cell_type": "code",
   "execution_count": 3,
   "metadata": {},
   "outputs": [],
   "source": [
    "from collections import Counter\n",
    "\n",
    "# matrices for most likely tissue and probability of that tissue (divided by number of images)\n",
    "stat_matrix = np.empty(image_shape) # statistic matrix\n",
    "prob_matrix = np.empty(image_shape)\n",
    "\n",
    "# mode extended and probability calculation for each voxel\n",
    "for x in range(image_shape[0]):\n",
    "    for y in range(image_shape[1]):\n",
    "        for z in range(image_shape[2]):\n",
    "            voxel_values = voxel_arrays[x, y, z, :]\n",
    "            freq = Counter(voxel_values)\n",
    "            voxel_frequencies = freq.most_common() # [(label, frequency), ...]\n",
    "            # [0][0] most frequent value, [1][0] second most frequent value\n",
    "            # [0][1] most frequent frequency, [1][1] second most frequent frequency\n",
    "            voxel_value = voxel_frequencies[0][0]\n",
    "            voxel_value_frequency = voxel_frequencies[0][1]\n",
    "            stat_matrix[x, y, z] = voxel_value"
   ]
  },
  {
   "cell_type": "code",
   "execution_count": 4,
   "metadata": {},
   "outputs": [],
   "source": [
    "# Save the entire max prob map to a .npy file\n",
    "np.save(f'{maps_dir}/max_prob_map.npy', stat_matrix)\n"
   ]
  },
  {
   "cell_type": "code",
   "execution_count": null,
   "metadata": {},
   "outputs": [],
   "source": [
    "\n",
    "# Save max prob map as nifti\n",
    "stat_nifti = nb.Nifti1Image(stat_matrix, sample_image.affine, sample_image.header)\n",
    "nb.save(stat_nifti, f'{maps_dir}/max_prob_map.nii.gz')"
   ]
  },
  {
   "cell_type": "markdown",
   "metadata": {},
   "source": [
    "probs"
   ]
  },
  {
   "cell_type": "code",
   "execution_count": null,
   "metadata": {},
   "outputs": [],
   "source": [
    "# Probability of each structure per voxel\n",
    "num_labels = 10\n",
    "probs = np.zeros((image_shape[0], image_shape[1], image_shape[2], num_labels))\n",
    "for label in range(num_labels):\n",
    "    probs[:, :, :, label] = np.count_nonzero(voxel_arrays == label, axis=3) / num_images"
   ]
  },
  {
   "cell_type": "code",
   "execution_count": null,
   "metadata": {},
   "outputs": [],
   "source": [
    "probs[34, 66, 66, :] # example of probabilities for a voxel"
   ]
  },
  {
   "cell_type": "code",
   "execution_count": null,
   "metadata": {},
   "outputs": [],
   "source": [
    "# Save the prob matrix to a .npy file\n",
    "np.save(f'{maps_dir}/probs.npy', probs)"
   ]
  },
  {
   "cell_type": "code",
   "execution_count": null,
   "metadata": {},
   "outputs": [],
   "source": [
    "# save the probs as a nifti file\n",
    "probs_nifti = nb.Nifti1Image(probs[..., 9], sample_image.affine, sample_image.header)\n",
    "nb.save(probs_nifti, f'{maps_dir}/probs_sup_mus.nii.gz')"
   ]
  },
  {
   "cell_type": "code",
   "execution_count": null,
   "metadata": {},
   "outputs": [],
   "source": [
    "\"\"\"Load probs matrix\"\"\"\n",
    "import numpy as np\n",
    "probs = np.load(f'{maps_dir}/probs.npy')"
   ]
  },
  {
   "cell_type": "markdown",
   "metadata": {},
   "source": [
    "colors"
   ]
  },
  {
   "cell_type": "code",
   "execution_count": null,
   "metadata": {},
   "outputs": [],
   "source": [
    "# Define names for the different labels (tissues)\n",
    "label_names = {\n",
    "    0: 'background',\n",
    "    1: 'lens',\n",
    "    2: 'globe',\n",
    "    3: 'optic nerve',\n",
    "    4: 'intraconal fat',\n",
    "    5: 'extraconal fat',\n",
    "    6: 'lateral rectus muscle',\n",
    "    7: 'medial rectus muscle',\n",
    "    8: 'inferior rectus muscle',\n",
    "    9: 'superior rectus muscle',\n",
    "}\n",
    "\n",
    "# define colors for the different labels (tissues)\n",
    "colors = {\n",
    "    0: [0, 0, 0], # background - black\n",
    "    1: [1, 0, 0],  # lens - tab:red\n",
    "    2: [0, 1, 0],  # globe - green\n",
    "    3: [0, 0, 1],  # optic nerve - tab:blue\n",
    "    4: [1, 1, 0],  # intraconal fat - yellow\n",
    "    5: [0, 1, 1],  # extraconal fat - cyan\n",
    "    6: [1, 0, 1],  # lateral rectus muscle - magenta\n",
    "    7: [0, 1, 0.5],  # medial rectus muscle - aquamarine\n",
    "    8: [1, 0.5, 0],  # inferior rectus muscle - purple\n",
    "    9: [0.5, 0, 1],  # superior rectus muscle - orange\n",
    "}"
   ]
  },
  {
   "cell_type": "markdown",
   "metadata": {},
   "source": [
    "distribution of probs per label"
   ]
  },
  {
   "cell_type": "code",
   "execution_count": null,
   "metadata": {},
   "outputs": [],
   "source": [
    "''' Distribution of probabilities per label '''\n",
    "\n",
    "import os\n",
    "import numpy as np\n",
    "import matplotlib.pyplot as plt\n",
    "\n",
    "TYPE = 'combined' # male, female, combined\n",
    "METHOD = 'atlas' # 'atlas' or 'nnunet'\n",
    "\n",
    "labels_dir = f'/mnt/sda1/Repos/a-eye/Output/eye_model/{TYPE}/output/registrationToTemplate'\n",
    "maps_dir = f'/mnt/sda1/Repos/a-eye/Output/eye_model/{TYPE}/output/maps/{METHOD}'\n",
    "\n",
    "# Load probs matrix\n",
    "probs = np.load(f'{maps_dir}/probs.npy')\n",
    "\n",
    "# Number of bins for the histogram\n",
    "num_bins = 10\n",
    "\n",
    "# Prepare the bins, starting slightly above 0 to avoid zero probabilities\n",
    "bins = np.linspace(1e-6, 1, num_bins + 1)\n",
    "\n",
    "# Plot histogram for each label, excluding label 0\n",
    "for label in range(len(colors)):\n",
    "    # Initialize a new plot for each label\n",
    "    fig, ax = plt.subplots(figsize=(10, 6))\n",
    "\n",
    "    # Extract probabilities for the current label\n",
    "    probabilities = probs[..., label].flatten()\n",
    "\n",
    "    # Filter probabilities greater than 0.1\n",
    "    probabilities = probabilities[probabilities > 0.1]\n",
    "    \n",
    "    # Compute histogram\n",
    "    counts, bin_edges = np.histogram(probabilities, bins=bins)\n",
    "    \n",
    "    # Plot the histogram as bars\n",
    "    ax.bar(bin_edges[:-1], counts, width=(bin_edges[1] - bin_edges[0]), \n",
    "        align='edge', label=f'{label_names[label]}', color=colors[label], alpha=0.7)\n",
    "    \n",
    "    # Customize the plot\n",
    "    ax.set_xlabel('Probability')\n",
    "    ax.set_ylabel('Frequency')\n",
    "    ax.set_title(f'Distribution of Probabilities for Label {label_names[label]}')\n",
    "    ax.legend()\n",
    "    ax.grid(True)\n",
    "    ax.set_xlim(left=0.1)  # Set the x-axis to start at 0.1\n",
    "    \n",
    "    # Save the plot as a PNG file\n",
    "    os.makedirs(f'{maps_dir}/histogram_per_label/adjusted', exist_ok=True)\n",
    "    fig.savefig(f'{maps_dir}/histogram_per_label/adjusted/{label}_{label_names[label]}_adjusted.png', format='png')\n",
    "    \n",
    "    # Show the plot\n",
    "    plt.show"
   ]
  },
  {
   "cell_type": "markdown",
   "metadata": {},
   "source": [
    "HSV - my way"
   ]
  },
  {
   "cell_type": "code",
   "execution_count": 5,
   "metadata": {},
   "outputs": [
    {
     "name": "stdout",
     "output_type": "stream",
     "text": [
      "(77, 95, 94)\n",
      "rgb:  {0: (0.0, 0.0, 0.0), 1: (1.0, 0.0, 0.0), 2: (0.0, 1.0, 0.0), 3: (0.0, 0.0, 1.0), 4: (1.0, 1.0, 0.0), 5: (0.0, 1.0, 1.0), 6: (1.0, 0.0, 1.0), 7: (0.5647058823529412, 0.3607843137254902, 0.17254901960784313), 8: (1.0, 0.5490196078431373, 0.0), 9: (0.5019607843137255, 0.0, 0.5019607843137255)}\n",
      "hsv:  {0: array([0., 0., 0.]), 1: array([0., 1., 1.]), 2: array([0.33333333, 1.        , 1.        ]), 3: array([0.66666667, 1.        , 1.        ]), 4: array([0.16666667, 1.        , 1.        ]), 5: array([0.5, 1. , 1. ]), 6: array([0.83333333, 1.        , 1.        ]), 7: array([0.08      , 0.69444444, 0.56470588]), 8: array([0.09150327, 1.        , 1.        ]), 9: array([0.83333333, 1.        , 0.50196078])}\n"
     ]
    }
   ],
   "source": [
    "\"\"\" Create ponderated RGB image for all subjects per label\"\"\"\n",
    "\n",
    "import numpy as np\n",
    "import nibabel as nb\n",
    "import glob, os\n",
    "import matplotlib.colors as mcolors\n",
    "# matplotlib (https://matplotlib.org/stable/gallery/color/named_colors.html#sphx-glr-gallery-color-named-colors-py)\n",
    "\n",
    "TYPE = 'combined' # male, female, combined\n",
    "METHOD = 'nnunet' # 'atlas' or 'nnunet'\n",
    "\n",
    "labels_dir = f'/mnt/sda1/Repos/a-eye/Output/eye_model/{TYPE}/output/registrationToTemplate'\n",
    "maps_dir = f'/mnt/sda1/Repos/a-eye/Output/eye_model/{TYPE}/output/maps/{METHOD}'\n",
    "\n",
    "# sample image to get the shape\n",
    "sample_image_path = sorted(glob.glob(labels_dir + f'/*/labels_{METHOD}.nii.gz'))[0]\n",
    "sample_image = nb.load(sample_image_path)\n",
    "image_shape = sample_image.shape\n",
    "print(image_shape)\n",
    "\n",
    "# define colors for the different labels (tissues)\n",
    "colors = {\n",
    "    0: [0, 0, 0],  # background - black\n",
    "    1: [255, 0, 0],  # lens - tab:red\n",
    "    2: [0, 255, 0],  # globe - green\n",
    "    3: [0, 0, 255],  # optic nerve - tab:blue\n",
    "    4: [255, 255, 0],  # intraconal fat - yellow\n",
    "    5: [0, 255, 255],  # extraconal fat - cyan\n",
    "    6: [255, 0, 255],  # lateral rectus muscle - magenta\n",
    "    7: [144, 92, 44],  # medial rectus muscle - brown\n",
    "    8: [255, 140, 0],  # inferior rectus muscle - orange\n",
    "    9: [128, 0, 128],  # superior rectus muscle - purple\n",
    "}\n",
    "\n",
    "# Define names for the different labels (tissues)\n",
    "label_names = {\n",
    "    0: '0_background',\n",
    "    1: '1_lens',\n",
    "    2: '2_globe',\n",
    "    3: '3_optic_nerve',\n",
    "    4: '4_intraconal_fat',\n",
    "    5: '5_extraconal_fat',\n",
    "    6: '6_lateral_rectus_muscle',\n",
    "    7: '7_medial_rectus_muscle',\n",
    "    8: '8_inferior_rectus_muscle',\n",
    "    9: '9_superior_rectus_muscle',\n",
    "}\n",
    "\n",
    "# Load probability matrix\n",
    "# matrix = np.load('/mnt/sda1/Repos/a-eye/Output/eye_model/combined/output/maps/nnunet/voxel_arrays.npy')\n",
    "# matrix_shape = matrix.shape\n",
    "num_subjects = 1210  # matrix_shape[3]\n",
    "probs = np.load(f'{maps_dir}/probs.npy')\n",
    "\n",
    "# colors to rgb using matplotlib\n",
    "rgb_colors = {}\n",
    "for key, value in colors.items():\n",
    "    value = [x / 255 for x in value]  # normalize to [0, 1]\n",
    "    rgb_colors[key] = mcolors.to_rgb(value) # no alpha channel\n",
    "print(\"rgb: \", rgb_colors)\n",
    "\n",
    "# colors to hsv\n",
    "hsv_colors = {}\n",
    "for key, value in rgb_colors.items():\n",
    "    hsv_colors[key] = mcolors.rgb_to_hsv(value)\n",
    "print(\"hsv: \", hsv_colors)\n",
    "\n",
    "# Create the output image\n",
    "output_image_rgb = np.zeros((image_shape[0], image_shape[1], image_shape[2], 3)) # 3 channels\n",
    "\n",
    "# Reduce intensity based on probabilities\n",
    "for i in range(image_shape[0]):\n",
    "    for j in range(image_shape[1]):\n",
    "        for k in range(image_shape[2]):\n",
    "            blended_rgb = np.zeros(3)\n",
    "            for label in range(len(colors)):\n",
    "                hsv = hsv_colors[label].copy()\n",
    "                hsv[1] *= probs[i, j, k, label]  # Reduce intensity (Saturation)\n",
    "                hsv[2] *= probs[i, j, k, label]  # Reduce intensity (Value)\n",
    "                blended_rgb += mcolors.hsv_to_rgb(hsv)\n",
    "            output_image_rgb[i, j, k] = blended_rgb\n",
    "\n",
    "# Normalize to keep RGB values within [0, 1]\n",
    "output_image_rgb = np.clip(output_image_rgb, 0, 1)\n",
    "\n",
    "# Convert back to 0-255 range for visualization\n",
    "output_image_rgb = (output_image_rgb * 255).astype(np.uint8)\n",
    "\n",
    "# save the output_rgb_image as a .npy file\n",
    "np.save(f'{maps_dir}/prob_map.npy', output_image_rgb)\n",
    "\n",
    "# save the output_rgb_image as a nifti file\n",
    "output_image_nifti = nb.Nifti1Image(output_image_rgb, sample_image.affine, sample_image.header)\n",
    "nb.save(output_image_nifti, f'{maps_dir}/prob_map.nii.gz')"
   ]
  },
  {
   "cell_type": "markdown",
   "metadata": {},
   "source": [
    "HSV - Yasser's way"
   ]
  },
  {
   "cell_type": "code",
   "execution_count": null,
   "metadata": {},
   "outputs": [],
   "source": [
    "import numpy as np\n",
    "import nibabel as nb\n",
    "import glob, os\n",
    "import matplotlib.colors as mcolors\n",
    "\n",
    "TYPE = 'combined' # male, female, combined\n",
    "METHOD = 'atlas' # 'atlas' or 'nnunet'\n",
    "\n",
    "labels_dir = f'/mnt/sda1/Repos/a-eye/Output/eye_model/{TYPE}/output/registrationToTemplate'\n",
    "maps_dir = f'/mnt/sda1/Repos/a-eye/Output/eye_model/{TYPE}/output/maps/{METHOD}'\n",
    "\n",
    "# sample image to get the shape\n",
    "sample_image_path = sorted(glob.glob(labels_dir + f'/*/labels_{METHOD}.nii.gz'))[0]  # atlas or nnunet\n",
    "sample_image = nb.load(sample_image_path)\n",
    "image_shape = sample_image.shape  # (77, 95, 94)\n",
    "print(image_shape)\n",
    "\n",
    "# define colors for the different labels (tissues)\n",
    "colors = {\n",
    "    0: [0, 0, 0], # background - black\n",
    "    1: [1, 0, 0],  # lens - tab:red\n",
    "    2: [0, 1, 0],  # globe - green\n",
    "    3: [0, 0, 1],  # optic nerve - tab:blue\n",
    "    4: [1, 1, 0],  # intraconal fat - yellow\n",
    "    5: [0, 1, 1],  # extraconal fat - cyan\n",
    "    6: [1, 0, 1],  # lateral rectus muscle - magenta\n",
    "    7: [0, 1, 0.5],  # medial rectus muscle - aquamarine\n",
    "    8: [1, 0.5, 0],  # inferior rectus muscle - purple\n",
    "    9: [0.5, 0, 1],  # superior rectus muscle - orange\n",
    "}\n",
    "\n",
    "# Define names for the different labels (tissues)\n",
    "label_names = {\n",
    "    0: '0_background',\n",
    "    1: '1_lens',\n",
    "    2: '2_globe',\n",
    "    3: '3_optic_nerve',\n",
    "    4: '4_intraconal_fat',\n",
    "    5: '5_extraconal_fat',\n",
    "    6: '6_lateral_rectus_muscle',\n",
    "    7: '7_medial_rectus_muscle',\n",
    "    8: '8_inferior_rectus_muscle',\n",
    "    9: '9_superior_rectus_muscle',\n",
    "}\n",
    "\n",
    "# Load probabilities\n",
    "probs = np.load(f'{maps_dir}/probs.npy')\n",
    "\n",
    "# colors to rgb using matplotlib\n",
    "rgb_colors = {}\n",
    "for key, value in colors.items():\n",
    "    rgb_colors[key] = mcolors.to_rgb(value)  # no alpha channel\n",
    "print(\"rgb: \", rgb_colors)\n",
    "\n",
    "# colors to hsv\n",
    "hsv_colors = {}\n",
    "for key, value in rgb_colors.items():\n",
    "    hsv_colors[key] = mcolors.rgb_to_hsv(value)\n",
    "print(\"hsv: \", hsv_colors)\n",
    "\n",
    "# Initialize the volumes for each channel at the same dimension as the initial volume\n",
    "dim = np.array([image_shape[0], image_shape[1], image_shape[2]])\n",
    "H = np.zeros(dim)\n",
    "S = np.zeros(dim)\n",
    "V = np.zeros(dim)\n",
    "Isum = np.zeros(dim)\n",
    "Im = np.zeros(dim)\n",
    "\n",
    "# Accumulate HSV values\n",
    "for label_num in range(1, len(colors)):\n",
    "    label_name = label_names[label_num]\n",
    "    It = probs[..., label_num]\n",
    "\n",
    "    H += It * hsv_colors[label_num][0]  # H\n",
    "    S += It * hsv_colors[label_num][1]  # S\n",
    "    V += It * hsv_colors[label_num][2]  # V\n",
    "\n",
    "    Isum += It\n",
    "    Im = np.maximum(Im, It)\n",
    "\n",
    "# Find indices where Isum is not zero\n",
    "ind = np.where(Isum != 0)\n",
    "\n",
    "# Normalize HSV values\n",
    "# H[ind] /= Isum[ind]\n",
    "S[ind] /= Isum[ind]\n",
    "V[ind] /= Isum[ind]\n",
    "\n",
    "# Scale by the maximum intensity\n",
    "# H *= Im\n",
    "S *= Im\n",
    "V *= Im\n",
    "\n",
    "# Create the output image in HSV format\n",
    "output_image_hsv = np.stack([H, S, V], axis=3)\n",
    "\n",
    "# Convert HSV to RGB\n",
    "output_image_rgb = np.zeros((image_shape[0], image_shape[1], image_shape[2], 3))\n",
    "for i in range(image_shape[0]):\n",
    "    for j in range(image_shape[1]):\n",
    "        for k in range(image_shape[2]):\n",
    "            output_image_rgb[i, j, k] = mcolors.hsv_to_rgb(output_image_hsv[i, j, k])\n",
    "\n",
    "# Normalize to keep RGB values within [0, 1]\n",
    "output_image_rgb = np.clip(output_image_rgb, 0, 1)\n",
    "\n",
    "# Convert back to 0-255 range for visualization\n",
    "output_image_rgb = (output_image_rgb * 255).astype(np.uint8)\n",
    "\n",
    "# Save the output_rgb_image as a .npy file\n",
    "np.save(f'{maps_dir}/prob_map_hsv_v2.npy', output_image_rgb)\n",
    "\n",
    "# Save the output_rgb_image as a nifti file\n",
    "output_image_nifti = nb.Nifti1Image(output_image_rgb, sample_image.affine, sample_image.header)\n",
    "nb.save(output_image_nifti, f'{maps_dir}/prob_map_hsv_v2.nii.gz')\n"
   ]
  },
  {
   "cell_type": "markdown",
   "metadata": {},
   "source": [
    "RGB - Yasser"
   ]
  },
  {
   "cell_type": "code",
   "execution_count": null,
   "metadata": {},
   "outputs": [],
   "source": [
    "\"\"\" Create ponderated RGB image for all subjects per label\"\"\"\n",
    "\n",
    "import numpy as np\n",
    "import nibabel as nb\n",
    "import glob, os\n",
    "\n",
    "TYPE = 'combined' # male, female, combined\n",
    "METHOD = 'atlas' # 'atlas' or 'nnunet'\n",
    "\n",
    "labels_dir = f'/mnt/sda1/Repos/a-eye/Output/eye_model/{TYPE}/output/registrationToTemplate'\n",
    "maps_dir = f'/mnt/sda1/Repos/a-eye/Output/eye_model/{TYPE}/output/maps/{METHOD}'\n",
    "\n",
    "# sample image to get the shape\n",
    "sample_image_path = sorted(glob.glob(labels_dir + f'/*/labels_{METHOD}.nii.gz'))[0] # atlas or nnunet\n",
    "sample_image = nb.load(sample_image_path)\n",
    "image_shape = sample_image.shape  # (77, 95, 94)\n",
    "print(image_shape)\n",
    "\n",
    "# define colors for the different labels (tissues)\n",
    "colors = {\n",
    "    0: [0, 0, 0], # background - black\n",
    "    1: [1, 0, 0],  # lens - tab:red\n",
    "    2: [0, 1, 0],  # globe - green\n",
    "    3: [0, 0, 1],  # optic nerve - tab:blue\n",
    "    4: [1, 1, 0],  # intraconal fat - yellow\n",
    "    5: [0, 1, 1],  # extraconal fat - cyan\n",
    "    6: [1, 0, 1],  # lateral rectus muscle - magenta\n",
    "    7: [0, 1, 0.5],  # medial rectus muscle - aquamarine\n",
    "    8: [1, 0.5, 0],  # inferior rectus muscle - purple\n",
    "    9: [0.5, 0, 1],  # superior rectus muscle - orange\n",
    "}\n",
    "\n",
    "# Define names for the different labels (tissues)\n",
    "label_names = {\n",
    "    0: '0_background',\n",
    "    1: '1_lens',\n",
    "    2: '2_globe',\n",
    "    3: '3_optic_nerve',\n",
    "    4: '4_intraconal_fat',\n",
    "    5: '5_extraconal_fat',\n",
    "    6: '6_lateral_rectus_muscle',\n",
    "    7: '7_medial_rectus_muscle',\n",
    "    8: '8_inferior_rectus_muscle',\n",
    "    9: '9_superior_rectus_muscle',\n",
    "}\n",
    "\n",
    "# Load voxel_arrays\n",
    "probs = np.load(f'{maps_dir}/probs.npy')\n",
    "\n",
    "# Initialize the volumes for each channel at the same dimension as the initial volume\n",
    "dim = np.array([image_shape[0], image_shape[1], image_shape[2]])\n",
    "Ir = np.zeros(dim)\n",
    "Ig = np.zeros(dim)\n",
    "Ib = np.zeros(dim)\n",
    "Isum = np.zeros(dim)\n",
    "Im = np.zeros(dim)\n",
    "\n",
    "# Iterate over the labels\n",
    "for label_num in range(1, len(colors)):\n",
    "    # label_num = 1\n",
    "    label_name = label_names[label_num]\n",
    "    It = probs[..., label_num]\n",
    "\n",
    "    # Accumulates the weighted volume into the Ir array, scaled by\n",
    "    # the color component for the current track\n",
    "    Ir += It * colors[label_num][0]  # R\n",
    "    Ig += It * colors[label_num][1]  # G\n",
    "    Ib += It * colors[label_num][2]  # B\n",
    "\n",
    "    # Accumulates the unweighted volume into the Isum array\n",
    "    Isum += It\n",
    "\n",
    "    # Takes the element-wise maximum between the current Im and It\n",
    "    Im = np.maximum(Im, It)\n",
    "\n",
    "# Find indices where Isum is not zero\n",
    "ind = np.where(Isum != 0)\n",
    "\n",
    "# Normalize RGB values\n",
    "Ir[ind] /= Isum[ind]\n",
    "Ig[ind] /= Isum[ind]\n",
    "Ib[ind] /= Isum[ind]\n",
    "\n",
    "# Scale by the maximum intensity\n",
    "Ir *= Im\n",
    "Ig *= Im\n",
    "Ib *= Im\n",
    "\n",
    "# Create the RGB image with dimensions (77, 95, 94, 3)\n",
    "output_image_rgb = np.stack([Ir, Ig, Ib], axis=3)\n",
    "\n",
    "# save the output_rgb_image as a nifti file\n",
    "output_image_nifti = nb.Nifti1Image(output_image_rgb, sample_image.affine, sample_image.header)\n",
    "nb.save(output_image_nifti, f'{maps_dir}/prob_map_rgb.nii.gz')"
   ]
  },
  {
   "cell_type": "markdown",
   "metadata": {},
   "source": [
    "load rgb image"
   ]
  },
  {
   "cell_type": "code",
   "execution_count": 6,
   "metadata": {},
   "outputs": [],
   "source": [
    "\"\"\"Load rgb_image\"\"\"\n",
    "import nibabel as nb\n",
    "\n",
    "TYPE = 'combined' # male, female, combined\n",
    "METHOD = 'nnunet' # 'atlas' or 'nnunet'\n",
    "\n",
    "maps_dir = f'/mnt/sda1/Repos/a-eye/Output/eye_model/{TYPE}/output/maps/{METHOD}'\n",
    "\n",
    "output_image_rgb_nii = nb.load(f'{maps_dir}/prob_map.nii.gz')\n",
    "output_image_rgb = output_image_rgb_nii.get_fdata()"
   ]
  },
  {
   "cell_type": "code",
   "execution_count": 8,
   "metadata": {},
   "outputs": [],
   "source": [
    "import numpy as np\n",
    "\n",
    "TYPE = 'combined' # male, female, combined\n",
    "METHOD = 'nnunet' # 'atlas' or 'nnunet'\n",
    "\n",
    "maps_dir = f'/mnt/sda1/Repos/a-eye/Output/eye_model/{TYPE}/output/maps/{METHOD}'\n",
    "\n",
    "output_image_rgb = np.load(f'{maps_dir}/prob_map_hsv.npy')"
   ]
  },
  {
   "cell_type": "markdown",
   "metadata": {},
   "source": [
    "save slices as png files"
   ]
  },
  {
   "cell_type": "code",
   "execution_count": 9,
   "metadata": {},
   "outputs": [],
   "source": [
    "''' Save all slices as PNG files '''\n",
    "\n",
    "import os\n",
    "import matplotlib.pyplot as plt\n",
    "\n",
    "output_dir = f'{maps_dir}/prob_map_{METHOD}'  # Directory to save the PNG files\n",
    "os.makedirs(output_dir, exist_ok=True)\n",
    "\n",
    "for z in range(output_image_rgb.shape[2]):\n",
    "    slice_rgb = output_image_rgb[:, :, z, :]\n",
    "    plt.imshow(slice_rgb)\n",
    "    plt.axis('off')\n",
    "    plt.savefig(f\"{output_dir}/slice_{z}.png\", bbox_inches='tight', pad_inches=0)\n",
    "    plt.close()"
   ]
  },
  {
   "cell_type": "markdown",
   "metadata": {},
   "source": [
    "visualizer z=67"
   ]
  },
  {
   "cell_type": "code",
   "execution_count": 10,
   "metadata": {},
   "outputs": [
    {
     "data": {
      "image/png": "[encoded data removed]",
      "text/plain": [
       "<Figure size 576x432 with 1 Axes>"
      ]
     },
     "metadata": {
      "needs_background": "light"
     },
     "output_type": "display_data"
    }
   ],
   "source": [
    "''' Visualize'''\n",
    "\n",
    "import matplotlib.pyplot as plt\n",
    "\n",
    "# To visualize a single slice (e.g., the first slice in the third dimension)\n",
    "plt.figure(figsize=(8, 6))  # replace width and height with desired values\n",
    "plt.imshow(output_image_rgb[..., 67, :], interpolation='nearest')\n",
    "plt.title('Probability Weighted RGB Image')\n",
    "plt.axis('off')\n",
    "plt.show()"
   ]
  },
  {
   "cell_type": "markdown",
   "metadata": {},
   "source": [
    "visualizer with Z-axis slider"
   ]
  },
  {
   "cell_type": "code",
   "execution_count": null,
   "metadata": {},
   "outputs": [],
   "source": [
    "''' Visualize with a Z-axis slider'''\n",
    "\n",
    "import numpy as np\n",
    "import matplotlib.pyplot as plt\n",
    "import ipywidgets as widgets\n",
    "from ipywidgets import interact\n",
    "\n",
    "# Function to rotate an image 90 degrees to the left\n",
    "def rotate_image(image):\n",
    "    return np.rot90(image, k=1)\n",
    "\n",
    "# Function to create a 2D plot for a specific z slice\n",
    "def plot_2d_slice(rgb_image, z_index):\n",
    "    plt.figure(figsize=(8, 12))\n",
    "    plt.imshow(rgb_image[:, :, z_index], interpolation='none')\n",
    "    plt.title(f'Slice at z = {z_index}')\n",
    "    plt.axis('off')\n",
    "    plt.show()\n",
    "\n",
    "# Interactive function to update the plot based on slider value\n",
    "def update_plot(z_index):\n",
    "    plot_2d_slice(rotated_output_image_rgb, z_index)\n",
    "\n",
    "# Rotate prob_map\n",
    "rotated_output_image_rgb = rotate_image(output_image_rgb)\n",
    "\n",
    "# Create the slider widget\n",
    "z_slider = widgets.IntSlider(min=0, max=rotated_output_image_rgb.shape[2]-1, step=1, value=0, description='Z-axis')\n",
    "\n",
    "# Use interact to update the plot when the slider value changes\n",
    "interact(update_plot, z_index=z_slider)"
   ]
  },
  {
   "cell_type": "markdown",
   "metadata": {},
   "source": [
    "axial - visualizer with overlap with the template image"
   ]
  },
  {
   "cell_type": "code",
   "execution_count": 21,
   "metadata": {},
   "outputs": [
    {
     "data": {
      "application/vnd.jupyter.widget-view+json": {
       "model_id": "3976b70be7834cb4bdfbe00217ea9e61",
       "version_major": 2,
       "version_minor": 0
      },
      "text/plain": [
       "interactive(children=(FloatSlider(value=1.0, description='Opacity', max=1.0, step=0.05), FloatSlider(value=0.5…"
      ]
     },
     "metadata": {},
     "output_type": "display_data"
    },
    {
     "data": {
      "text/plain": [
       "<function __main__.plot_images(opacity, overlay, z_index)>"
      ]
     },
     "execution_count": 21,
     "metadata": {},
     "output_type": "execute_result"
    }
   ],
   "source": [
    "''' Visualize with an interactive 3D plot''' \n",
    "import numpy as np\n",
    "import nibabel as nb\n",
    "import matplotlib.pyplot as plt\n",
    "import ipywidgets as widgets\n",
    "from ipywidgets import interact\n",
    "\n",
    "TYPE = 'combined' # male, female, combined\n",
    "METHOD = 'nnunet' # 'atlas' or 'nnunet'\n",
    "\n",
    "# Load the template image\n",
    "template_path = f'/mnt/sda1/Repos/a-eye/Output/eye_model/{TYPE}/output/templateConstruction/template0.nii.gz'\n",
    "template_img = nb.load(template_path)\n",
    "template_data = template_img.get_fdata()\n",
    "\n",
    "# Load the output image (assuming output_image_rgb is loaded similarly)\n",
    "maps_dir = f'/mnt/sda1/Repos/a-eye/Output/eye_model/{TYPE}/output/maps/{METHOD}'\n",
    "output_image_rgb = np.load(f'{maps_dir}/prob_map.npy')\n",
    "\n",
    "# Output dir\n",
    "output_dir = f'/mnt/sda1/Repos/a-eye/Output/eye_model/{TYPE}/output/captures/{METHOD}'\n",
    "os.makedirs(output_dir, exist_ok=True)\n",
    "\n",
    "# Function to rotate an image 90 degrees to the left\n",
    "def rotate_image(image):\n",
    "    return np.rot90(image, k=1)\n",
    "\n",
    "# Function to flip an image left to right\n",
    "def flip_image(image):\n",
    "    return np.fliplr(image)\n",
    "\n",
    "# Create a function to plot both images overlapped\n",
    "def plot_images(opacity, overlay, z_index):\n",
    "    fig, ax = plt.subplots(figsize=(8, 8))\n",
    "\n",
    "    # rotate and flip\n",
    "    rotated_template = rotate_image(template_data)\n",
    "    flipped_template = flip_image(rotated_template)\n",
    "    rotated_prob_map = rotate_image(output_image_rgb)\n",
    "    flipped_prob_map = flip_image(rotated_prob_map)\n",
    "\n",
    "    # Plot the flipped template image\n",
    "    ax.imshow(flipped_template[:, :, z_index], cmap='gist_gray', interpolation='none', alpha=1)\n",
    "\n",
    "    # Extract RGB channels from prob_map\n",
    "    rgb_channels = flipped_prob_map[..., z_index, :]\n",
    "\n",
    "    # Normalize RGB channels for intensity adjustment\n",
    "    rgb_channels_norm = rgb_channels / np.max(rgb_channels)\n",
    "\n",
    "    # Apply intensity adjustment to prob_map\n",
    "    adjusted_prob_map = rgb_channels_norm * opacity\n",
    "\n",
    "    # Overlay the prob_map with adjustable transparency\n",
    "    ax.imshow(adjusted_prob_map, alpha=overlay)\n",
    "\n",
    "    # Set title and turn off axis\n",
    "    # ax.set_title('Overlayed Image')\n",
    "    ax.axis('off')\n",
    "\n",
    "    # Save the plot as a PNG file\n",
    "    plt.savefig(f'{output_dir}/atlas_axial_prob_map.png', bbox_inches='tight')\n",
    "\n",
    "    # Show the plot\n",
    "    plt.show()\n",
    "\n",
    "# Create sliders for adjusting alpha of probability map and overlay, and z-axis slice\n",
    "opacity_slider = widgets.FloatSlider(min=0, max=1, step=0.05, value=1, description='Opacity')\n",
    "overlay_slider = widgets.FloatSlider(min=0, max=1, step=0.05, value=0.5, description='Overlay')\n",
    "z_slider = widgets.IntSlider(min=0, max=template_data.shape[2] - 1, step=1, value=67, description='Z-axis')\n",
    "\n",
    "# Create an interactive plot\n",
    "interact(plot_images, opacity=opacity_slider, overlay=overlay_slider, z_index=z_slider)\n"
   ]
  },
  {
   "cell_type": "markdown",
   "metadata": {},
   "source": [
    "sagittal - visualizer with overlap with the template image"
   ]
  },
  {
   "cell_type": "code",
   "execution_count": 23,
   "metadata": {},
   "outputs": [
    {
     "data": {
      "application/vnd.jupyter.widget-view+json": {
       "model_id": "a8ca0c0ad9fd45ae9cf3e2b4920173ae",
       "version_major": 2,
       "version_minor": 0
      },
      "text/plain": [
       "interactive(children=(FloatSlider(value=1.0, description='Opacity', max=1.0, step=0.05), FloatSlider(value=0.5…"
      ]
     },
     "metadata": {},
     "output_type": "display_data"
    },
    {
     "data": {
      "text/plain": [
       "<function __main__.plot_images_x(opacity, overlay, x_index)>"
      ]
     },
     "execution_count": 23,
     "metadata": {},
     "output_type": "execute_result"
    }
   ],
   "source": [
    "import numpy as np\n",
    "import nibabel as nb\n",
    "import matplotlib.pyplot as plt\n",
    "import ipywidgets as widgets\n",
    "from ipywidgets import interact\n",
    "\n",
    "TYPE = 'combined'  # male, female, combined\n",
    "METHOD = 'nnunet'  # 'atlas' or 'nnunet'\n",
    "\n",
    "# Load the template image\n",
    "template_path = f'/mnt/sda1/Repos/a-eye/Output/eye_model/{TYPE}/output/templateConstruction/template0.nii.gz'\n",
    "template_img = nb.load(template_path)\n",
    "template_data = template_img.get_fdata()\n",
    "\n",
    "# Load the output image (assuming output_image_rgb is loaded similarly)\n",
    "maps_dir = f'/mnt/sda1/Repos/a-eye/Output/eye_model/{TYPE}/output/maps/{METHOD}'\n",
    "output_image_rgb = np.load(f'{maps_dir}/prob_map_hsv.npy')\n",
    "\n",
    "# Output dir\n",
    "output_dir = f'/mnt/sda1/Repos/a-eye/Output/eye_model/{TYPE}/output/captures/{METHOD}'\n",
    "os.makedirs(output_dir, exist_ok=True)\n",
    "\n",
    "# Function to flip an image left to right\n",
    "def flip_image(image):\n",
    "    return np.fliplr(image)\n",
    "\n",
    "# Function to rotate an image 90 degrees to the left\n",
    "def rotate_image(image):\n",
    "    return np.rot90(image, k=1, axes=(1, 2))\n",
    "\n",
    "# Function to plot images along the x-axis\n",
    "def plot_images_x(opacity, overlay, x_index):\n",
    "    fig, ax = plt.subplots(figsize=(8, 8))\n",
    "\n",
    "    # Rotate and flip\n",
    "    flipped_template = flip_image(template_data)\n",
    "    rotated_template = rotate_image(flipped_template)\n",
    "    flipped_prob_map = flip_image(output_image_rgb)\n",
    "    rotated_prob_map = rotate_image(flipped_prob_map)\n",
    "\n",
    "    # Plot the flipped template image\n",
    "    ax.imshow(rotated_template[x_index, :, :], cmap='gist_gray', interpolation='none', alpha=1)\n",
    "\n",
    "    # Extract RGB channels from prob_map\n",
    "    rgb_channels = rotated_prob_map[x_index, :, :, :]\n",
    "\n",
    "    # Normalize RGB channels for intensity adjustment\n",
    "    rgb_channels_norm = rgb_channels / np.max(rgb_channels)\n",
    "\n",
    "    # Apply intensity adjustment to prob_map\n",
    "    adjusted_prob_map = rgb_channels_norm * opacity\n",
    "\n",
    "    # Overlay the prob_map with adjustable transparency\n",
    "    ax.imshow(adjusted_prob_map, alpha=overlay)\n",
    "\n",
    "    # Set title and turn off axis\n",
    "    ax.axis('off')\n",
    "\n",
    "    # Save the plot as a PNG file\n",
    "    plt.savefig(f'{output_dir}/atlas_sagittal_prob_map.png', bbox_inches='tight')\n",
    "\n",
    "    plt.show()\n",
    "\n",
    "# Create sliders for adjusting alpha of probability map and overlay, and x-axis slice\n",
    "opacity_slider = widgets.FloatSlider(min=0, max=1, step=0.05, value=1, description='Opacity')\n",
    "overlay_slider = widgets.FloatSlider(min=0, max=1, step=0.05, value=0.5, description='Overlay')\n",
    "x_slider = widgets.IntSlider(min=0, max=template_data.shape[0] - 1, step=1, value=28, description='X-axis')\n",
    "\n",
    "# Create an interactive plot for the x-axis\n",
    "interact(plot_images_x, opacity=opacity_slider, overlay=overlay_slider, x_index=x_slider)\n"
   ]
  },
  {
   "cell_type": "markdown",
   "metadata": {},
   "source": [
    "coronal - visualizer with overlap with the template image"
   ]
  },
  {
   "cell_type": "code",
   "execution_count": 24,
   "metadata": {},
   "outputs": [
    {
     "data": {
      "application/vnd.jupyter.widget-view+json": {
       "model_id": "593c90b31c5f42aaa7420feeb869808c",
       "version_major": 2,
       "version_minor": 0
      },
      "text/plain": [
       "interactive(children=(FloatSlider(value=1.0, description='Opacity', max=1.0, step=0.05), FloatSlider(value=0.5…"
      ]
     },
     "metadata": {},
     "output_type": "display_data"
    },
    {
     "data": {
      "text/plain": [
       "<function __main__.plot_images_y(opacity, overlay, y_index)>"
      ]
     },
     "execution_count": 24,
     "metadata": {},
     "output_type": "execute_result"
    }
   ],
   "source": [
    "import numpy as np\n",
    "import nibabel as nb\n",
    "import matplotlib.pyplot as plt\n",
    "import ipywidgets as widgets\n",
    "from ipywidgets import interact\n",
    "\n",
    "TYPE = 'combined'  # male, female, combined\n",
    "METHOD = 'nnunet'  # 'atlas' or 'nnunet'\n",
    "\n",
    "# Load the template image\n",
    "template_path = f'/mnt/sda1/Repos/a-eye/Output/eye_model/{TYPE}/output/templateConstruction/template0.nii.gz'\n",
    "template_img = nb.load(template_path)\n",
    "template_data = template_img.get_fdata()\n",
    "\n",
    "# Load the output image (assuming output_image_rgb is loaded similarly)\n",
    "maps_dir = f'/mnt/sda1/Repos/a-eye/Output/eye_model/{TYPE}/output/maps/{METHOD}'\n",
    "output_image_rgb = np.load(f'{maps_dir}/prob_map_hsv.npy')\n",
    "\n",
    "# Output dir\n",
    "output_dir = f'/mnt/sda1/Repos/a-eye/Output/eye_model/{TYPE}/output/captures/{METHOD}'\n",
    "os.makedirs(output_dir, exist_ok=True)\n",
    "\n",
    "# Function to flip an image left to right\n",
    "def flip_image(image):\n",
    "    return np.flipud(image)\n",
    "\n",
    "# Function to rotate an image 90 degrees to the left\n",
    "def rotate_image(image):\n",
    "    return np.rot90(image, k=1, axes=(0, 2))\n",
    "\n",
    "# Function to plot images along the y-axis\n",
    "def plot_images_y(opacity, overlay, y_index):\n",
    "    fig, ax = plt.subplots(figsize=(8, 8))\n",
    "\n",
    "    # Rotate and flip\n",
    "    flipped_template = flip_image(template_data)\n",
    "    rotated_template = rotate_image(flipped_template)\n",
    "    flipped_prob_map = flip_image(output_image_rgb)\n",
    "    rotated_prob_map = rotate_image(flipped_prob_map)\n",
    "\n",
    "    # Plot the flipped template image\n",
    "    ax.imshow(rotated_template[:, y_index, :], cmap='gist_gray', interpolation='none', alpha=1)\n",
    "\n",
    "    # Extract RGB channels from prob_map\n",
    "    rgb_channels = rotated_prob_map[:, y_index, :, :]\n",
    "\n",
    "    # Normalize RGB channels for intensity adjustment\n",
    "    rgb_channels_norm = rgb_channels / np.max(rgb_channels)\n",
    "\n",
    "    # Apply intensity adjustment to prob_map\n",
    "    adjusted_prob_map = rgb_channels_norm * opacity\n",
    "\n",
    "    # Overlay the prob_map with adjustable transparency\n",
    "    ax.imshow(adjusted_prob_map, alpha=overlay)\n",
    "\n",
    "    # Set title and turn off axis\n",
    "    ax.axis('off')\n",
    "\n",
    "    # Save the plot as a PNG file\n",
    "    plt.savefig(f'{output_dir}/atlas_coronal_prob_map.png', bbox_inches='tight')\n",
    "\n",
    "    plt.show()\n",
    "\n",
    "# Create sliders for adjusting alpha of probability map and overlay, and y-axis slice\n",
    "opacity_slider = widgets.FloatSlider(min=0, max=1, step=0.05, value=1, description='Opacity')\n",
    "overlay_slider = widgets.FloatSlider(min=0, max=1, step=0.05, value=0.5, description='Overlay')\n",
    "y_slider = widgets.IntSlider(min=0, max=template_data.shape[1] - 1, step=1, value=39, description='Y-axis')\n",
    "\n",
    "# Create an interactive plot for the y-axis\n",
    "interact(plot_images_y, opacity=opacity_slider, overlay=overlay_slider, y_index=y_slider)\n"
   ]
  },
  {
   "cell_type": "markdown",
   "metadata": {},
   "source": [
    "Volumes\n",
    "---"
   ]
  },
  {
   "cell_type": "code",
   "execution_count": 12,
   "metadata": {},
   "outputs": [],
   "source": [
    "import nibabel as nb\n",
    "import numpy as np\n",
    "\n",
    "TYPE = 'combined' # male, female, combined\n",
    "METHOD = 'nnunet' # 'atlas' or 'nnunet'\n",
    "\n",
    "labels_dir = f'/mnt/sda1/Repos/a-eye/Output/eye_model/{TYPE}/output/registrationToTemplate'\n",
    "maps_dir = f'/mnt/sda1/Repos/a-eye/Output/eye_model/{TYPE}/output/maps/{METHOD}'\n",
    "\n",
    "# load max prob map (volume)\n",
    "labels = nb.load(f'{maps_dir}/max_prob_map.nii.gz')\n",
    "labels = labels.get_fdata()\n",
    "\n",
    "# count voxels per label\n",
    "unique, counts = np.unique(labels, return_counts=True)\n",
    "label_counts = dict(zip(unique, counts))\n",
    "\n",
    "# save the label_counts as a .csv file\n",
    "import csv\n",
    "with open(f'{maps_dir}/volumes.csv', 'w') as f:\n",
    "    writer = csv.writer(f)\n",
    "    writer.writerow(['label', 'count'])\n",
    "    for key, value in label_counts.items():\n",
    "        writer.writerow([key, value])"
   ]
  }
 ],
 "metadata": {
  "kernelspec": {
   "display_name": "a-eye",
   "language": "python",
   "name": "python3"
  },
  "language_info": {
   "codemirror_mode": {
    "name": "ipython",
    "version": 3
   },
   "file_extension": ".py",
   "mimetype": "text/x-python",
   "name": "python",
   "nbconvert_exporter": "python",
   "pygments_lexer": "ipython3",
   "version": "3.8.13"
  }
 },
 "nbformat": 4,
 "nbformat_minor": 2
}

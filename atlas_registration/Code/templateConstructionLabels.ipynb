{
 "cells": [
  {
   "cell_type": "markdown",
   "metadata": {},
   "source": [
    "registration with template"
   ]
  },
  {
   "cell_type": "code",
   "execution_count": null,
   "metadata": {},
   "outputs": [],
   "source": [
    "import os\n",
    "\n",
    "os.environ['PATH'] += ':/opt/ANTs/bin' # ensure the ANTs binaries are in $PATH\n",
    "os.environ['ANTSPATH'] = '/opt/ANTs/bin/'"
   ]
  },
  {
   "cell_type": "code",
   "execution_count": null,
   "metadata": {},
   "outputs": [],
   "source": [
    "import os\n",
    "import glob\n",
    "import numpy as np\n",
    "import pandas as pd\n",
    "\n",
    "images_dir = '/home/jaimebarranco/Desktop/eye_model/combined/input/cropped_images/'\n",
    "output_dir = '/home/jaimebarranco/Desktop/eye_model/combined/output/registrationToTemplate/'\n",
    "template = '/home/jaimebarranco/Desktop/eye_model/combined/output/templateConstruction/template0.nii.gz'\n",
    "\n",
    "for file in sorted(glob.glob(images_dir + '*_cropped.nii.gz')):\n",
    "        filename = os.path.basename(file)\n",
    "        output_folder = output_dir + filename.split(\"_\")[0] + '/'\n",
    "        # print(output_folder)\n",
    "\n",
    "        if not os.path.exists(output_folder):\n",
    "            os.makedirs(output_folder)\n",
    "\n",
    "        ## antsRegistrationSyNQuick # s: rigid + affine + deformable syn (3 stages)\n",
    "        command1 = 'antsRegistrationSyNQuick.sh -d 3' + \\\n",
    "        ' -m ' + file                                 + \\\n",
    "        ' -f ' + template                             + \\\n",
    "        ' -t ' + 's'                                  + \\\n",
    "        ' -o ' + output_folder                        + \\\n",
    "        ' -n ' + '16'\n",
    "        # print(command1)\n",
    "        os.system(command1)\n"
   ]
  },
  {
   "cell_type": "markdown",
   "metadata": {},
   "source": [
    "copy atlas' labels to input folder"
   ]
  },
  {
   "cell_type": "code",
   "execution_count": null,
   "metadata": {},
   "outputs": [],
   "source": [
    "import shutil\n",
    "\n",
    "input_atlas_labels_dir = \"/mnt/sda1/Repos/a-eye/Data/SHIP_dataset/non_labeled_dataset/non_labeled_dataset_nifti_reg_2/\"\n",
    "output_atlas_labels_dir = \"/home/jaimebarranco/Desktop/eye_model/combined/input/cropped_labels/atlas/\"\n",
    "\n",
    "for file in sorted(glob.glob(input_atlas_labels_dir + '*/labels.nii.gz', recursive=True)):\n",
    "    filename = os.path.basename(file)\n",
    "    # print(file.split(\"/\")[-2])\n",
    "    shutil.copy(file, os.path.join(output_atlas_labels_dir, f'{file.split(\"/\")[-2]}.nii.gz'))"
   ]
  },
  {
   "cell_type": "markdown",
   "metadata": {},
   "source": [
    "copy nnunet labels to input folder"
   ]
  },
  {
   "cell_type": "code",
   "execution_count": null,
   "metadata": {},
   "outputs": [],
   "source": [
    "import shutil\n",
    "\n",
    "input_nnunet_labels_dir = \"/mnt/sda1/Repos/a-eye/a-eye_segmentation/deep_learning/nnUNet/nnUNet/nnUNet_inference/no_postprocessing_cropped_alligned/\"\n",
    "output_nnunet_labels_dir = \"/home/jaimebarranco/Desktop/eye_model/combined/input/cropped_labels/nnunet/\"\n",
    "\n",
    "for file in sorted(glob.glob(input_nnunet_labels_dir + '*.nii.gz', recursive=True)):\n",
    "    filename = os.path.basename(file)\n",
    "    # print(filename.split(\"_\")[0])\n",
    "    shutil.copy(file, os.path.join(output_nnunet_labels_dir, f'{filename.split(\"_\")[0]}.nii.gz'))"
   ]
  },
  {
   "cell_type": "markdown",
   "metadata": {},
   "source": [
    "apply transform to labels from subjects to template (direct transform)"
   ]
  },
  {
   "cell_type": "code",
   "execution_count": null,
   "metadata": {},
   "outputs": [],
   "source": [
    "labels_dir = '/home/jaimebarranco/Desktop/eye_model/combined/input/cropped_labels/nnunet/' # atlas or nnunet\n",
    "output_dir = '/home/jaimebarranco/Desktop/eye_model/combined/output/registrationToTemplate/'\n",
    "template = '/home/jaimebarranco/Desktop/eye_model/combined/output/templateConstruction/template0.nii.gz'\n",
    "\n",
    "for file in sorted(glob.glob(labels_dir + '*.nii.gz')):\n",
    "        filename = os.path.basename(file)\n",
    "        output_folder = output_dir + filename.split(\".\")[0] + '/'\n",
    "        # print(output_folder)\n",
    "        \n",
    "        # antsApplyTransforms with inverse transform to get the template labels into subject space\n",
    "        command2 = 'antsApplyTransforms -d 3 ' + \\\n",
    "        ' -i ' +  file + \\\n",
    "        ' -r ' +  template + \\\n",
    "        ' -t ' + output_folder + '1Warp.nii.gz' + \\\n",
    "        ' -t ' + output_folder + '0GenericAffine.mat' + \\\n",
    "        ' -n ' + 'MultiLabel' + \\\n",
    "        ' -o ' +  output_folder + 'labels_nnunet.nii.gz' + \\\n",
    "        ' --float 0 --verbose 1'\n",
    "        # print(command2)\n",
    "        os.system(command2)\n",
    "\n",
    "        # Dealing with files in that folder\n",
    "        # for f in glob.glob(output_image_path + 'labels.nii.gz'):\n",
    "        #     os.remove(f)"
   ]
  },
  {
   "cell_type": "markdown",
   "metadata": {},
   "source": [
    "probability per voxel to belong to a certain structure of the eye\n",
    "---"
   ]
  },
  {
   "cell_type": "markdown",
   "metadata": {},
   "source": [
    "array generation"
   ]
  },
  {
   "cell_type": "code",
   "execution_count": 16,
   "metadata": {},
   "outputs": [
    {
     "name": "stdout",
     "output_type": "stream",
     "text": [
      "(77, 95, 94)\n"
     ]
    }
   ],
   "source": [
    "import nibabel as nb\n",
    "import numpy as np\n",
    "import glob, os\n",
    "\n",
    "labels_dir = '/home/jaimebarranco/Desktop/eye_model/combined/output/registrationToTemplate/'\n",
    "num_images = len(os.listdir(labels_dir))\n",
    "\n",
    "# sample image to get the shape\n",
    "sample_image_path = sorted(glob.glob(labels_dir + '*/labels_nnunet.nii.gz'))[0] # atlas or nnunet\n",
    "sample_image = nb.load(sample_image_path)\n",
    "image_shape = sample_image.shape  # (77, 95, 94)\n",
    "print(image_shape)"
   ]
  },
  {
   "cell_type": "code",
   "execution_count": null,
   "metadata": {},
   "outputs": [],
   "source": [
    "# (1210, 77, 95, 94) array generation\n",
    "labels_matrix = np.empty((num_images, *image_shape))  # (1210, 77, 95, 94)\n",
    "for idx, file in enumerate(sorted(glob.glob(labels_dir + '*/labels_nnunet.nii.gz'))):  # atlas or nnunet\n",
    "    sub = file.split(\"/\")[-2] # str\n",
    "    # print(idx)\n",
    "    # print(file)\n",
    "    # print(sub)\n",
    "    labels = nb.load(file)\n",
    "    # labels_shape = labels.shape\n",
    "    # print(labels_shape)\n",
    "    labels_data = labels.get_fdata()\n",
    "    labels_matrix[idx] = labels_data\n",
    "\n",
    "voxel_arrays = np.moveaxis(labels_matrix, 0, -1)\n",
    "print(voxel_arrays.shape)  # (77, 95, 94, 1210)"
   ]
  },
  {
   "cell_type": "code",
   "execution_count": null,
   "metadata": {},
   "outputs": [],
   "source": [
    "# Save voxel_arrays to a .npy file\n",
    "np.save('/home/jaimebarranco/Desktop/eye_model/combined/output/maps/nnunet/voxel_arrays.npy', voxel_arrays)"
   ]
  },
  {
   "cell_type": "code",
   "execution_count": null,
   "metadata": {},
   "outputs": [],
   "source": [
    "# Load voxel_arrays\n",
    "voxel_arrays = np.load('/home/jaimebarranco/Desktop/eye_model/combined/output/maps/nnunet/voxel_arrays.npy')"
   ]
  },
  {
   "cell_type": "markdown",
   "metadata": {},
   "source": [
    "max prob map"
   ]
  },
  {
   "cell_type": "code",
   "execution_count": null,
   "metadata": {},
   "outputs": [],
   "source": [
    "from collections import Counter\n",
    "\n",
    "# matrices for most likely tissue (median) and probability of that tissue (divided by number of images)\n",
    "stat_matrix = np.empty(image_shape) # statistic matrix\n",
    "prob_matrix = np.empty(image_shape)\n",
    "\n",
    "# mode extended and probability calculation for each voxel\n",
    "for x in range(image_shape[0]):\n",
    "    for y in range(image_shape[1]):\n",
    "        for z in range(image_shape[2]):\n",
    "            voxel_values = voxel_arrays[x, y, z, :]\n",
    "            freq = Counter(voxel_values)\n",
    "            voxel_frequencies = freq.most_common() # [(label, frequency), ...]\n",
    "            # [0][0] most frequent value, [1][0] second most frequent value\n",
    "            # [0][1] most frequent frequency, [1][1] second most frequent frequency\n",
    "            voxel_value = voxel_frequencies[0][0]\n",
    "            voxel_value_frequency = voxel_frequencies[0][1]\n",
    "            stat_matrix[x, y, z] = voxel_value"
   ]
  },
  {
   "cell_type": "code",
   "execution_count": null,
   "metadata": {},
   "outputs": [],
   "source": [
    "# Save the entire max prob map to a .npy file\n",
    "np.save('/home/jaimebarranco/Desktop/eye_model/combined/output/maps/nnunet/max_prob_map.npy', stat_matrix)\n",
    "\n",
    "# Save max prob map as nifti\n",
    "stat_nifti = nb.Nifti1Image(stat_matrix, sample_image.affine, sample_image.header)\n",
    "nb.save(stat_nifti, '/home/jaimebarranco/Desktop/eye_model/combined/output/maps/nnunet/max_prob_map.nii.gz')"
   ]
  },
  {
   "cell_type": "markdown",
   "metadata": {},
   "source": [
    "prob map HSV"
   ]
  },
  {
   "cell_type": "code",
   "execution_count": null,
   "metadata": {},
   "outputs": [],
   "source": [
    "import matplotlib.colors as mcolors\n",
    "# matplotlib (https://matplotlib.org/stable/gallery/color/named_colors.html#sphx-glr-gallery-color-named-colors-py)\n",
    "\n",
    "# define colors for the different labels (tissues)\n",
    "colors = {\n",
    "    0: [0, 0, 0], # background - black\n",
    "    1: [1, 0, 0],  # lens - tab:red\n",
    "    2: [0, 1, 0],  # globe - green\n",
    "    3: [0, 0, 1],  # optic nerve - tab:blue\n",
    "    4: [1, 1, 0],  # intraconal fat - yellow\n",
    "    5: [0, 1, 1],  # extraconal fat - cyan\n",
    "    6: [1, 0, 1],  # lateral rectus muscle - magenta\n",
    "    7: [0, 1, 0.5],  # medial rectus muscle - aquamarine\n",
    "    8: [1, 0.5, 0],  # inferior rectus muscle - purple\n",
    "    9: [0.5, 0, 1],  # superior rectus muscle - orange\n",
    "}\n",
    "\n",
    "# Define names for the different labels (tissues)\n",
    "label_names = {\n",
    "    0: 'background',\n",
    "    1: 'lens',\n",
    "    2: 'globe',\n",
    "    3: 'optic nerve',\n",
    "    4: 'intraconal fat',\n",
    "    5: 'extraconal fat',\n",
    "    6: 'lateral rectus muscle',\n",
    "    7: 'medial rectus muscle',\n",
    "    8: 'inferior rectus muscle',\n",
    "    9: 'superior rectus muscle',\n",
    "}\n",
    "\n",
    "# colors to rgb using matplotlib\n",
    "rgb_colors = {}\n",
    "for key, value in colors.items():\n",
    "    rgb_colors[key] = mcolors.to_rgb(value) # no alpha channel\n",
    "print(\"rgb: \", rgb_colors)\n",
    "\n",
    "# colors to hsv\n",
    "hsv_colors = {}\n",
    "for key, value in rgb_colors.items():\n",
    "    hsv_colors[key] = mcolors.rgb_to_hsv(value)\n",
    "print(\"hsv: \", hsv_colors)"
   ]
  },
  {
   "cell_type": "code",
   "execution_count": null,
   "metadata": {},
   "outputs": [],
   "source": [
    "# Calculate the probability distribution for each voxel\n",
    "probs = np.zeros((image_shape[0], image_shape[1], image_shape[2], len(colors)))\n",
    "for label in range(len(colors)):\n",
    "    probs[:, :, :, label] = np.mean(voxel_arrays == label, axis=3)"
   ]
  },
  {
   "cell_type": "code",
   "execution_count": null,
   "metadata": {},
   "outputs": [],
   "source": [
    "probs[34, 66, 66, :] # example of probabilities for a voxel"
   ]
  },
  {
   "cell_type": "code",
   "execution_count": null,
   "metadata": {},
   "outputs": [],
   "source": [
    "# Save the prob matrix to a .npy file\n",
    "np.save('/home/jaimebarranco/Desktop/eye_model/combined/output/maps/nnunet/probs.npy', probs)"
   ]
  },
  {
   "cell_type": "code",
   "execution_count": null,
   "metadata": {},
   "outputs": [],
   "source": [
    "# Load probs matrix\n",
    "probs = np.load('/home/jaimebarranco/Desktop/eye_model/combined/output/maps/nnunet/probs.npy')"
   ]
  },
  {
   "cell_type": "code",
   "execution_count": null,
   "metadata": {},
   "outputs": [],
   "source": [
    "# Create the output image\n",
    "output_image_rgb = np.zeros((image_shape[0], image_shape[1], image_shape[2], 3)) # 3 channels\n",
    "\n",
    "# Reduce intensity based on probabilities\n",
    "for i in range(image_shape[0]):\n",
    "    for j in range(image_shape[1]):\n",
    "        for k in range(image_shape[2]):\n",
    "            blended_rgb = np.zeros(3)\n",
    "            for label in range(len(colors)):\n",
    "                hsv = hsv_colors[label].copy()\n",
    "                hsv[1] *= probs[i, j, k, label]  # Reduce intensity (Saturation)\n",
    "                hsv[2] *= probs[i, j, k, label]  # Reduce intensity (Value)\n",
    "                blended_rgb += mcolors.hsv_to_rgb(hsv)\n",
    "            output_image_rgb[i, j, k] = blended_rgb\n",
    "\n",
    "# Normalize to keep RGB values within [0, 1]\n",
    "output_image_rgb = np.clip(output_image_rgb, 0, 1)\n",
    "\n",
    "# Convert back to 0-255 range for visualization\n",
    "output_image_rgb = (output_image_rgb * 255).astype(np.uint8)"
   ]
  },
  {
   "cell_type": "code",
   "execution_count": null,
   "metadata": {},
   "outputs": [],
   "source": [
    "# Save the entire rgb_image array to a .npy file\n",
    "np.save('/home/jaimebarranco/Desktop/eye_model/combined/output/maps/nnunet/prob_map.npy', output_image_rgb)"
   ]
  },
  {
   "cell_type": "code",
   "execution_count": null,
   "metadata": {},
   "outputs": [],
   "source": [
    "# Load rgb_image\n",
    "output_image_rgb = np.load('/home/jaimebarranco/Desktop/eye_model/combined/output/maps/nnunet/prob_map.npy')"
   ]
  },
  {
   "cell_type": "code",
   "execution_count": null,
   "metadata": {},
   "outputs": [],
   "source": [
    "import matplotlib.pyplot as plt\n",
    "\n",
    "# To visualize a single slice (e.g., the first slice in the third dimension)\n",
    "plt.figure(figsize=(8, 6))  # replace width and height with desired values\n",
    "plt.imshow(output_image_rgb[..., 67, :], interpolation='nearest')\n",
    "plt.title('Probability Weighted RGB Image')\n",
    "plt.axis('off')\n",
    "plt.show()"
   ]
  },
  {
   "cell_type": "code",
   "execution_count": null,
   "metadata": {},
   "outputs": [],
   "source": [
    "''' Save all slices as PNG files '''\n",
    "\n",
    "import os\n",
    "import matplotlib.pyplot as plt\n",
    "\n",
    "output_dir = \"/home/jaimebarranco/Desktop/eye_model/combined/output/maps/nnunet/prob_map_nnunet\"  # Directory to save the PNG files\n",
    "os.makedirs(output_dir, exist_ok=True)\n",
    "\n",
    "for z in range(output_image_rgb.shape[2]):\n",
    "    slice_rgb = output_image_rgb[:, :, z, :]\n",
    "    plt.imshow(slice_rgb)\n",
    "    plt.axis('off')\n",
    "    plt.savefig(f\"{output_dir}/slice_{z}.png\", bbox_inches='tight', pad_inches=0)\n",
    "    plt.close()\n"
   ]
  },
  {
   "cell_type": "code",
   "execution_count": null,
   "metadata": {},
   "outputs": [],
   "source": [
    "''' Distribution of probabilities per label '''\n",
    "\n",
    "import numpy as np\n",
    "import matplotlib.pyplot as plt\n",
    "\n",
    "# Number of bins for the histogram\n",
    "num_bins = 10\n",
    "\n",
    "# Prepare the bins, starting slightly above 0 to avoid zero probabilities\n",
    "bins = np.linspace(1e-6, 1, num_bins + 1)\n",
    "\n",
    "# Plot histogram for each label, excluding label 0\n",
    "for label in range(len(colors)):\n",
    "    # Initialize a new plot for each label\n",
    "    fig, ax = plt.subplots(figsize=(10, 6))\n",
    "\n",
    "    # Extract probabilities for the current label\n",
    "    probabilities = probs[..., label].flatten()\n",
    "\n",
    "    # Filter probabilities greater than 0.1\n",
    "    probabilities = probabilities[probabilities > 0.1]\n",
    "    \n",
    "    # Compute histogram\n",
    "    counts, bin_edges = np.histogram(probabilities, bins=bins)\n",
    "    \n",
    "    # Plot the histogram as bars\n",
    "    ax.bar(bin_edges[:-1], counts, width=(bin_edges[1] - bin_edges[0]), \n",
    "        align='edge', label=f'{label_names[label]}', color=colors[label], alpha=0.7)\n",
    "    \n",
    "    # Customize the plot\n",
    "    ax.set_xlabel('Probability')\n",
    "    ax.set_ylabel('Frequency')\n",
    "    ax.set_title(f'Distribution of Probabilities for Label {label_names[label]}')\n",
    "    ax.legend()\n",
    "    ax.grid(True)\n",
    "    ax.set_xlim(left=0.1)  # Set the x-axis to start at 0.1\n",
    "    \n",
    "    # Save the plot as a PNG file\n",
    "    # fig.savefig(f'/home/jaimebarranco/Desktop/eye_model/combined/output/maps/nnunet/histogram_per_label/adjusted/{label}_{label_names[label]}_adjusted.png', format='png')\n",
    "    \n",
    "\n",
    "    # Show the plot\n",
    "    plt.show"
   ]
  },
  {
   "cell_type": "code",
   "execution_count": null,
   "metadata": {},
   "outputs": [],
   "source": [
    "''' Visualize with a Z-axis slider'''\n",
    "\n",
    "import numpy as np\n",
    "import matplotlib.pyplot as plt\n",
    "import ipywidgets as widgets\n",
    "from ipywidgets import interact\n",
    "\n",
    "# Function to rotate an image 90 degrees to the left\n",
    "def rotate_image(image):\n",
    "    return np.rot90(image, k=1)\n",
    "\n",
    "# Function to create a 2D plot for a specific z slice\n",
    "def plot_2d_slice(rgb_image, z_index):\n",
    "    plt.figure(figsize=(8, 12))\n",
    "    plt.imshow(rgb_image[:, :, z_index], interpolation='none')\n",
    "    plt.title(f'Slice at z = {z_index}')\n",
    "    plt.axis('off')\n",
    "    plt.show()\n",
    "\n",
    "# Interactive function to update the plot based on slider value\n",
    "def update_plot(z_index):\n",
    "    plot_2d_slice(rotated_output_image_rgb, z_index)\n",
    "\n",
    "# Rotate prob_map\n",
    "rotated_output_image_rgb = rotate_image(output_image_rgb)\n",
    "\n",
    "# Create the slider widget\n",
    "z_slider = widgets.IntSlider(min=0, max=rotated_output_image_rgb.shape[2]-1, step=1, value=0, description='Z-axis')\n",
    "\n",
    "# Use interact to update the plot when the slider value changes\n",
    "interact(update_plot, z_index=z_slider)"
   ]
  },
  {
   "cell_type": "code",
   "execution_count": null,
   "metadata": {},
   "outputs": [],
   "source": [
    "''' Visualize with an interactive 3D plot''' # TODO leave fixed the image and overlay the output_image_rgb (with an optional slider for the opacity of the labels)\n",
    "\n",
    "import numpy as np\n",
    "import nibabel as nb\n",
    "import matplotlib.pyplot as plt\n",
    "import ipywidgets as widgets\n",
    "from ipywidgets import interact\n",
    "\n",
    "# Load the template image\n",
    "template_path = '/home/jaimebarranco/Desktop/eye_model/combined/output/templateConstruction/template0.nii.gz'\n",
    "template_img = nb.load(template_path)\n",
    "template_data = template_img.get_fdata()\n",
    "\n",
    "# Function to rotate an image 90 degrees to the left\n",
    "def rotate_image(image):\n",
    "    return np.rot90(image, k=1)\n",
    "\n",
    "# Create a function to plot both images overlapped\n",
    "def plot_images(alpha_prob_map, alpha_overlay, z_index):\n",
    "    fig, ax = plt.subplots(figsize=(8, 8))\n",
    "\n",
    "    # Rotate template image\n",
    "    rotated_template = rotate_image(template_data)\n",
    "\n",
    "    # Rotate prob_map\n",
    "    rotated_prob_map = rotate_image(output_image_rgb)\n",
    "\n",
    "    # Plot the rotated template image\n",
    "    ax.imshow(rotated_template[:, :, z_index], cmap='gist_gray', interpolation='none', alpha=1)\n",
    "\n",
    "    # Extract RGB channels from prob_map\n",
    "    rgb_channels = rotated_prob_map[..., z_index, :]\n",
    "\n",
    "    # Normalize RGB channels for intensity adjustment\n",
    "    rgb_channels_norm = rgb_channels / np.max(rgb_channels)\n",
    "\n",
    "    # Apply intensity adjustment to prob_map\n",
    "    adjusted_prob_map = rgb_channels_norm * alpha_prob_map\n",
    "\n",
    "    # Overlay the prob_map with adjustable transparency\n",
    "    ax.imshow(adjusted_prob_map, alpha=alpha_overlay)\n",
    "\n",
    "    # Set title and turn off axis\n",
    "    ax.set_title('Overlayed Image')\n",
    "    ax.axis('off')\n",
    "\n",
    "    # Show the plot\n",
    "    plt.show()\n",
    "\n",
    "# Create sliders for adjusting alpha of probability map and overlay, and z-axis slice\n",
    "alpha_prob_map_slider = widgets.FloatSlider(min=0, max=1, step=0.05, value=1, description='Alpha Prob Map')\n",
    "alpha_overlay_slider = widgets.FloatSlider(min=0, max=1, step=0.05, value=0.5, description='Overlay')\n",
    "z_slider = widgets.IntSlider(min=0, max=template_data.shape[2] - 1, step=1, value=template_data.shape[2] // 2, description='Z-axis')\n",
    "\n",
    "# Create an interactive plot\n",
    "interact(plot_images, alpha_prob_map=alpha_prob_map_slider, alpha_overlay=alpha_overlay_slider, z_index=z_slider)\n"
   ]
  },
  {
   "cell_type": "markdown",
   "metadata": {},
   "source": [
    "prob map - Yasser (RGB)"
   ]
  },
  {
   "cell_type": "code",
   "execution_count": null,
   "metadata": {},
   "outputs": [],
   "source": [
    "import numpy as np\n",
    "\n",
    "# Load voxel_arrays\n",
    "matrix = np.load('/home/jaimebarranco/Desktop/eye_model/combined/output/maps/nnunet/voxel_arrays.npy')\n",
    "\n",
    "# define colors for the different labels (tissues)\n",
    "colors = {\n",
    "    0: [0, 0, 0], # background - black\n",
    "    1: [1, 0, 0],  # lens - tab:red\n",
    "    2: [0, 1, 0],  # globe - green\n",
    "    3: [0, 0, 1],  # optic nerve - tab:blue\n",
    "    4: [1, 1, 0],  # intraconal fat - yellow\n",
    "    5: [0, 1, 1],  # extraconal fat - cyan\n",
    "    6: [1, 0, 1],  # lateral rectus muscle - magenta\n",
    "    7: [0, 1, 0.5],  # medial rectus muscle - aquamarine\n",
    "    8: [1, 0.5, 0],  # inferior rectus muscle - purple\n",
    "    9: [0.5, 0, 1],  # superior rectus muscle - orange\n",
    "}\n",
    "\n",
    "# Define names for the different labels (tissues)\n",
    "label_names = {\n",
    "    0: 'background',\n",
    "    1: 'lens',\n",
    "    2: 'globe',\n",
    "    3: 'optic nerve',\n",
    "    4: 'intraconal fat',\n",
    "    5: 'extraconal fat',\n",
    "    6: 'lateral rectus muscle',\n",
    "    7: 'medial rectus muscle',\n",
    "    8: 'inferior rectus muscle',\n",
    "    9: 'superior rectus muscle',\n",
    "}\n",
    "\n",
    "# Convert the colors dictionary to a numpy array for easy indexing\n",
    "color_array = np.array([colors[i] for i in range(10)])\n",
    "\n",
    "# Iterate over the subjects and save each subject's 3D image\n",
    "for subject in range(matrix.shape[3]):\n",
    "    # Get the voxel values for the current subject\n",
    "    subject_voxels = matrix[..., subject]\n",
    "    \n",
    "    # Create an empty array for the RGB values\n",
    "    subject_rgb_image = np.zeros(subject_voxels.shape + (3,), dtype=float)\n",
    "    \n",
    "    # Map the voxel values to their corresponding RGB values\n",
    "    for i in range(10):\n",
    "        subject_rgb_image[subject_voxels == i] = color_array[i]\n",
    "    \n",
    "    # Save the subject's RGB image to a .npy file\n",
    "    np.save(f'/home/jaimebarranco/Desktop/eye_model/combined/output/maps/nnunet/rgb_images_per_subject/sub-{subject}.npy', subject_rgb_image)\n",
    "\n",
    "print(\"All subject images saved successfully.\")"
   ]
  },
  {
   "cell_type": "code",
   "execution_count": 1,
   "metadata": {},
   "outputs": [],
   "source": [
    "import numpy as np\n",
    "\n",
    "# Load voxel_arrays\n",
    "matrix = np.load('/home/jaimebarranco/Desktop/eye_model/combined/output/maps/nnunet/voxel_arrays.npy')\n",
    "matrix_shape = matrix.shape\n",
    "num_subjects = matrix_shape[3]\n",
    "\n",
    "# Initialize the volumes for each channel at the same dimension as the initial volume\n",
    "dim = np.array([matrix.shape[0], matrix.shape[1], matrix.shape[2]])"
   ]
  },
  {
   "cell_type": "code",
   "execution_count": 18,
   "metadata": {},
   "outputs": [],
   "source": [
    "Ir = np.zeros(dim)\n",
    "Ig = np.zeros(dim)\n",
    "Ib = np.zeros(dim)\n",
    "Isum = np.zeros(dim)\n",
    "Im = np.zeros(dim)\n",
    "\n",
    "# Iterate over the number of total subjects\n",
    "for i in range(num_subjects):\n",
    "    \n",
    "    # Subject i labels matrix [0-9]\n",
    "    It = matrix[..., i]\n",
    "\n",
    "    # It per label [1-9]\n",
    "    # It = It == 1\n",
    "\n",
    "    # Load the RGB image for the current subject\n",
    "    sub_rgb = np.load(f'/home/jaimebarranco/Desktop/eye_model/combined/output/maps/nnunet/rgb_images_per_subject/sub-{i}.npy')\n",
    "    sub_r = sub_rgb[..., 0]\n",
    "    sub_g = sub_rgb[..., 1]\n",
    "    sub_b = sub_rgb[..., 2]\n",
    "    \n",
    "    # Accumulates the weighted volume into the Ir array, scaled by\n",
    "    # the color component for the current track\n",
    "    Ir += It * sub_r\n",
    "    Ig += It * sub_g\n",
    "    Ib += It * sub_b\n",
    "    \n",
    "    # Accumulates the unweighted volume into the Isum array\n",
    "    Isum += It\n",
    "    \n",
    "    # Takes the element-wise maximum between the current Im and It\n",
    "    Im = np.maximum(Im, It)\n",
    "\n",
    "# Find indices where Isum is not zero\n",
    "ind = np.where(Isum != 0)\n",
    "\n",
    "# Normalize RGB values\n",
    "Ir[ind] /= Isum[ind]\n",
    "Ig[ind] /= Isum[ind]\n",
    "Ib[ind] /= Isum[ind]\n",
    "\n",
    "# Scale by the maximum intensity\n",
    "Ir *= Im\n",
    "Ig *= Im\n",
    "Ib *= Im"
   ]
  },
  {
   "cell_type": "code",
   "execution_count": 19,
   "metadata": {},
   "outputs": [],
   "source": [
    "# Create the RGB image with dimensions (77, 95, 94, 3)\n",
    "output_image_rgb = np.stack([Ir, Ig, Ib], axis=3)"
   ]
  },
  {
   "cell_type": "code",
   "execution_count": 13,
   "metadata": {},
   "outputs": [],
   "source": [
    "# save the output_rgb_image to a .npy file\n",
    "np.save('/home/jaimebarranco/Desktop/eye_model/combined/output/maps/nnunet/rgb_image.npy', output_image_rgb)"
   ]
  },
  {
   "cell_type": "code",
   "execution_count": 20,
   "metadata": {},
   "outputs": [],
   "source": [
    "# save the output_rgb_image as a nifti file\n",
    "output_image_nifti = nb.Nifti1Image(output_image_rgb, sample_image.affine, sample_image.header)\n",
    "nb.save(output_image_nifti, '/home/jaimebarranco/Desktop/eye_model/combined/output/maps/nnunet/rgb_image.nii.gz')"
   ]
  },
  {
   "cell_type": "code",
   "execution_count": null,
   "metadata": {},
   "outputs": [],
   "source": [
    "# Load rgb_image\n",
    "output_image_rgb = np.load('/home/jaimebarranco/Desktop/eye_model/combined/output/maps/nnunet/rgb_image.npy')"
   ]
  },
  {
   "cell_type": "code",
   "execution_count": 21,
   "metadata": {},
   "outputs": [
    {
     "name": "stderr",
     "output_type": "stream",
     "text": [
      "Clipping input data to the valid range for imshow with RGB data ([0..1] for floats or [0..255] for integers).\n"
     ]
    },
    {
     "data": {
      "image/png": "[encoded data removed]",
      "text/plain": [
       "<Figure size 576x432 with 1 Axes>"
      ]
     },
     "metadata": {
      "needs_background": "light"
     },
     "output_type": "display_data"
    }
   ],
   "source": [
    "import matplotlib.pyplot as plt\n",
    "\n",
    "# To visualize a single slice (e.g., the first slice in the third dimension)\n",
    "plt.figure(figsize=(8, 6))  # replace width and height with desired values\n",
    "plt.imshow(output_image_rgb[..., 67, :], interpolation='nearest')\n",
    "plt.title('Probability Weighted RGB Image')\n",
    "plt.axis('off')\n",
    "plt.show()"
   ]
  },
  {
   "cell_type": "code",
   "execution_count": 22,
   "metadata": {},
   "outputs": [
    {
     "data": {
      "application/vnd.jupyter.widget-view+json": {
       "model_id": "a8bd6bfc36794a04bb05062d0349e8e9",
       "version_major": 2,
       "version_minor": 0
      },
      "text/plain": [
       "interactive(children=(IntSlider(value=0, description='Z-axis', max=93), Output()), _dom_classes=('widget-inter…"
      ]
     },
     "metadata": {},
     "output_type": "display_data"
    },
    {
     "data": {
      "text/plain": [
       "<function __main__.update_plot(z_index)>"
      ]
     },
     "execution_count": 22,
     "metadata": {},
     "output_type": "execute_result"
    }
   ],
   "source": [
    "''' Visualize with a Z-axis slider'''\n",
    "\n",
    "import numpy as np\n",
    "import matplotlib.pyplot as plt\n",
    "import ipywidgets as widgets\n",
    "from ipywidgets import interact\n",
    "\n",
    "# Function to rotate an image 90 degrees to the left\n",
    "def rotate_image(image):\n",
    "    return np.rot90(image, k=1)\n",
    "\n",
    "# Function to create a 2D plot for a specific z slice\n",
    "def plot_2d_slice(rgb_image, z_index):\n",
    "    plt.figure(figsize=(8, 12))\n",
    "    plt.imshow(rgb_image[:, :, z_index], interpolation='none')\n",
    "    plt.title(f'Slice at z = {z_index}')\n",
    "    plt.axis('off')\n",
    "    plt.show()\n",
    "\n",
    "# Interactive function to update the plot based on slider value\n",
    "def update_plot(z_index):\n",
    "    plot_2d_slice(rotated_output_image_rgb, z_index)\n",
    "\n",
    "# Rotate prob_map\n",
    "rotated_output_image_rgb = rotate_image(output_image_rgb)\n",
    "\n",
    "# Create the slider widget\n",
    "z_slider = widgets.IntSlider(min=0, max=rotated_output_image_rgb.shape[2]-1, step=1, value=0, description='Z-axis')\n",
    "\n",
    "# Use interact to update the plot when the slider value changes\n",
    "interact(update_plot, z_index=z_slider)"
   ]
  },
  {
   "cell_type": "code",
   "execution_count": null,
   "metadata": {},
   "outputs": [],
   "source": [
    "''' Visualize with an interactive 3D plot''' # TODO leave fixed the image and overlay the output_image_rgb (with an optional slider for the opacity of the labels)\n",
    "\n",
    "import numpy as np\n",
    "import nibabel as nb\n",
    "import matplotlib.pyplot as plt\n",
    "import ipywidgets as widgets\n",
    "from ipywidgets import interact\n",
    "\n",
    "# Load the template image\n",
    "template_path = '/home/jaimebarranco/Desktop/eye_model/combined/output/templateConstruction/template0.nii.gz'\n",
    "template_img = nb.load(template_path)\n",
    "template_data = template_img.get_fdata()\n",
    "\n",
    "# Function to rotate an image 90 degrees to the left\n",
    "def rotate_image(image):\n",
    "    return np.rot90(image, k=1)\n",
    "\n",
    "# Create a function to plot both images overlapped\n",
    "def plot_images(alpha_prob_map, alpha_overlay, z_index):\n",
    "    fig, ax = plt.subplots(figsize=(8, 8))\n",
    "\n",
    "    # Rotate template image\n",
    "    rotated_template = rotate_image(template_data)\n",
    "\n",
    "    # Rotate prob_map\n",
    "    rotated_prob_map = rotate_image(output_image_rgb)\n",
    "\n",
    "    # Plot the rotated template image\n",
    "    ax.imshow(rotated_template[:, :, z_index], cmap='gist_gray', interpolation='none', alpha=1)\n",
    "\n",
    "    # Extract RGB channels from prob_map\n",
    "    rgb_channels = rotated_prob_map[..., z_index, :]\n",
    "\n",
    "    # Normalize RGB channels for intensity adjustment\n",
    "    rgb_channels_norm = rgb_channels / np.max(rgb_channels)\n",
    "\n",
    "    # Apply intensity adjustment to prob_map\n",
    "    adjusted_prob_map = rgb_channels_norm * alpha_prob_map\n",
    "\n",
    "    # Overlay the prob_map with adjustable transparency\n",
    "    ax.imshow(adjusted_prob_map, alpha=alpha_overlay)\n",
    "\n",
    "    # Set title and turn off axis\n",
    "    ax.set_title('Overlayed Image')\n",
    "    ax.axis('off')\n",
    "\n",
    "    # Show the plot\n",
    "    plt.show()\n",
    "\n",
    "# Create sliders for adjusting alpha of probability map and overlay, and z-axis slice\n",
    "alpha_prob_map_slider = widgets.FloatSlider(min=0, max=1, step=0.05, value=1, description='Alpha Prob Map')\n",
    "alpha_overlay_slider = widgets.FloatSlider(min=0, max=1, step=0.05, value=0.5, description='Overlay')\n",
    "z_slider = widgets.IntSlider(min=0, max=template_data.shape[2] - 1, step=1, value=template_data.shape[2] // 2, description='Z-axis')\n",
    "\n",
    "# Create an interactive plot\n",
    "interact(plot_images, alpha_prob_map=alpha_prob_map_slider, alpha_overlay=alpha_overlay_slider, z_index=z_slider)\n"
   ]
  }
 ],
 "metadata": {
  "kernelspec": {
   "display_name": "a-eye",
   "language": "python",
   "name": "python3"
  },
  "language_info": {
   "codemirror_mode": {
    "name": "ipython",
    "version": 3
   },
   "file_extension": ".py",
   "mimetype": "text/x-python",
   "name": "python",
   "nbconvert_exporter": "python",
   "pygments_lexer": "ipython3",
   "version": "3.8.13"
  }
 },
 "nbformat": 4,
 "nbformat_minor": 2
}

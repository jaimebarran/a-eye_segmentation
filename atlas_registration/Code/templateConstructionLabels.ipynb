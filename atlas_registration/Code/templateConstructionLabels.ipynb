{
 "cells": [
  {
   "cell_type": "markdown",
   "metadata": {},
   "source": [
    "registration with template"
   ]
  },
  {
   "cell_type": "code",
   "execution_count": null,
   "metadata": {},
   "outputs": [],
   "source": [
    "import os\n",
    "\n",
    "os.environ['PATH'] += ':/opt/ANTs/bin' # ensure the ANTs binaries are in $PATH\n",
    "os.environ['ANTSPATH'] = '/opt/ANTs/bin/'"
   ]
  },
  {
   "cell_type": "code",
   "execution_count": null,
   "metadata": {},
   "outputs": [],
   "source": [
    "import os\n",
    "import glob\n",
    "import numpy as np\n",
    "import pandas as pd\n",
    "\n",
    "images_dir = '/home/jaimebarranco/Desktop/eye_model/combined/input/cropped_images/'\n",
    "output_dir = '/home/jaimebarranco/Desktop/eye_model/combined/output/registrationToTemplate/'\n",
    "template = '/home/jaimebarranco/Desktop/eye_model/combined/output/templateConstruction/template0.nii.gz'\n",
    "\n",
    "for file in sorted(glob.glob(images_dir + '*_cropped.nii.gz')):\n",
    "        filename = os.path.basename(file)\n",
    "        output_folder = output_dir + filename.split(\"_\")[0] + '/'\n",
    "        # print(output_folder)\n",
    "\n",
    "        if not os.path.exists(output_folder):\n",
    "            os.makedirs(output_folder)\n",
    "\n",
    "        ## antsRegistrationSyNQuick # s: rigid + affine + deformable syn (3 stages)\n",
    "        command1 = 'antsRegistrationSyNQuick.sh -d 3' + \\\n",
    "        ' -m ' + file                                 + \\\n",
    "        ' -f ' + template                             + \\\n",
    "        ' -t ' + 's'                                  + \\\n",
    "        ' -o ' + output_folder                        + \\\n",
    "        ' -n ' + '16'\n",
    "        # print(command1)\n",
    "        os.system(command1)\n"
   ]
  },
  {
   "cell_type": "markdown",
   "metadata": {},
   "source": [
    "copy atlas' labels to input folder"
   ]
  },
  {
   "cell_type": "code",
   "execution_count": null,
   "metadata": {},
   "outputs": [],
   "source": [
    "import shutil\n",
    "\n",
    "input_atlas_labels_dir = \"/mnt/sda1/Repos/a-eye/Data/SHIP_dataset/non_labeled_dataset/non_labeled_dataset_nifti_reg_2/\"\n",
    "output_atlas_labels_dir = \"/home/jaimebarranco/Desktop/eye_model/combined/input/cropped_labels/atlas/\"\n",
    "\n",
    "for file in sorted(glob.glob(input_atlas_labels_dir + '*/labels.nii.gz', recursive=True)):\n",
    "    filename = os.path.basename(file)\n",
    "    # print(file.split(\"/\")[-2])\n",
    "    shutil.copy(file, os.path.join(output_atlas_labels_dir, f'{file.split(\"/\")[-2]}.nii.gz'))"
   ]
  },
  {
   "cell_type": "markdown",
   "metadata": {},
   "source": [
    "copy nnunet labels to input folder"
   ]
  },
  {
   "cell_type": "code",
   "execution_count": null,
   "metadata": {},
   "outputs": [],
   "source": [
    "import shutil\n",
    "\n",
    "input_nnunet_labels_dir = \"/mnt/sda1/Repos/a-eye/a-eye_segmentation/deep_learning/nnUNet/nnUNet/nnUNet_inference/no_postprocessing_cropped_alligned/\"\n",
    "output_nnunet_labels_dir = \"/home/jaimebarranco/Desktop/eye_model/combined/input/cropped_labels/nnunet/\"\n",
    "\n",
    "for file in sorted(glob.glob(input_nnunet_labels_dir + '*.nii.gz', recursive=True)):\n",
    "    filename = os.path.basename(file)\n",
    "    # print(filename.split(\"_\")[0])\n",
    "    shutil.copy(file, os.path.join(output_nnunet_labels_dir, f'{filename.split(\"_\")[0]}.nii.gz'))"
   ]
  },
  {
   "cell_type": "markdown",
   "metadata": {},
   "source": [
    "apply transform to labels from subjects to template (direct transform)"
   ]
  },
  {
   "cell_type": "code",
   "execution_count": null,
   "metadata": {},
   "outputs": [],
   "source": [
    "labels_dir = '/home/jaimebarranco/Desktop/eye_model/combined/input/cropped_labels/nnunet/' # atlas or nnunet\n",
    "output_dir = '/home/jaimebarranco/Desktop/eye_model/combined/output/registrationToTemplate/'\n",
    "template = '/home/jaimebarranco/Desktop/eye_model/combined/output/templateConstruction/template0.nii.gz'\n",
    "\n",
    "for file in sorted(glob.glob(labels_dir + '*.nii.gz')):\n",
    "        filename = os.path.basename(file)\n",
    "        output_folder = output_dir + filename.split(\".\")[0] + '/'\n",
    "        # print(output_folder)\n",
    "        \n",
    "        # antsApplyTransforms with inverse transform to get the template labels into subject space\n",
    "        command2 = 'antsApplyTransforms -d 3 ' + \\\n",
    "        ' -i ' +  file + \\\n",
    "        ' -r ' +  template + \\\n",
    "        ' -t ' + output_folder + '1Warp.nii.gz' + \\\n",
    "        ' -t ' + output_folder + '0GenericAffine.mat' + \\\n",
    "        ' -n ' + 'MultiLabel' + \\\n",
    "        ' -o ' +  output_folder + 'labels_nnunet.nii.gz' + \\\n",
    "        ' --float 0 --verbose 1'\n",
    "        # print(command2)\n",
    "        os.system(command2)\n",
    "\n",
    "        # Dealing with files in that folder\n",
    "        # for f in glob.glob(output_image_path + 'labels.nii.gz'):\n",
    "        #     os.remove(f)"
   ]
  },
  {
   "cell_type": "markdown",
   "metadata": {},
   "source": [
    "probability per voxel to belong to a certain structure of the eye\n",
    "---"
   ]
  },
  {
   "cell_type": "markdown",
   "metadata": {},
   "source": [
    "array generation"
   ]
  },
  {
   "cell_type": "code",
   "execution_count": null,
   "metadata": {},
   "outputs": [],
   "source": [
    "import nibabel as nb\n",
    "import numpy as np\n",
    "import os\n",
    "import glob\n",
    "\n",
    "labels_dir = '/home/jaimebarranco/Desktop/eye_model/combined/output/registrationToTemplate/'\n",
    "\n",
    "# sample image to get the shape\n",
    "sample_image_path = sorted(glob.glob(labels_dir + '*/labels_atlas.nii.gz'))[0] # atlas or nnunet\n",
    "sample_image = nb.load(sample_image_path)\n",
    "image_shape = sample_image.shape  # (77, 95, 94)"
   ]
  },
  {
   "cell_type": "code",
   "execution_count": null,
   "metadata": {},
   "outputs": [],
   "source": [
    "# (1210, 77, 95, 94) array generation\n",
    "num_images = 1210\n",
    "labels_matrix = np.empty((num_images, *image_shape))\n",
    "for idx, file in enumerate(sorted(glob.glob(labels_dir + '*/labels_atlas.nii.gz'))): # atlas or nnunet\n",
    "    sub = file.split(\"/\")[-2] # str\n",
    "    # print(idx)\n",
    "    # print(file)\n",
    "    # print(sub)\n",
    "    labels = nb.load(file)\n",
    "    # labels_shape = labels.shape\n",
    "    # print(labels_shape)\n",
    "    labels_data = labels.get_fdata()\n",
    "    labels_matrix[idx] = labels_data\n",
    "\n",
    "voxel_arrays = np.moveaxis(labels_matrix, 0, -1)\n",
    "print(voxel_arrays.shape)  # (77, 95, 94, 1210)"
   ]
  },
  {
   "cell_type": "markdown",
   "metadata": {},
   "source": [
    "compute the probabilities"
   ]
  },
  {
   "cell_type": "code",
   "execution_count": null,
   "metadata": {},
   "outputs": [],
   "source": [
    "from collections import Counter\n",
    "from scipy import stats\n",
    "\n",
    "# matrices for most likely tissue (median) and probability of that tissue (divided by number of images)\n",
    "stat_matrix = np.empty(image_shape)\n",
    "prob_matrix = np.empty(image_shape)\n",
    "\n",
    "# mode extended and probability calculation for each voxel\n",
    "for x in range(image_shape[0]):\n",
    "    for y in range(image_shape[1]):\n",
    "        for z in range(image_shape[2]):\n",
    "            voxel_values = voxel_arrays[x, y, z, :]\n",
    "            freq = Counter(voxel_values)\n",
    "            voxel_frequencies = freq.most_common() # [(label, frequency), ...]\n",
    "            # [0][0] most frequent value, [1][0] second most frequent value\n",
    "            # [0][1] most frequent frequency, [1][1] second most frequent frequency\n",
    "            voxel_value = voxel_frequencies[1][0] if voxel_frequencies[0][0] == 0 and len(voxel_frequencies) > 1 else voxel_frequencies[0][0] # \"extended\" mode values\n",
    "            voxel_value_frequency = voxel_frequencies[1][1] if voxel_frequencies[0][0] == 0 and len(voxel_frequencies) > 1 else voxel_frequencies[0][1]\n",
    "            # voxel_mode_ext = stats.mode(voxel_values)[0] # or voxel_mode_extended = voxel_frequencies[0][0] # most frequent value --> for max_prob_map\n",
    "            stat_matrix[x, y, z] = voxel_value\n",
    "            prob_mode = voxel_value_frequency / num_images\n",
    "            prob_matrix[x, y, z] = prob_mode"
   ]
  },
  {
   "cell_type": "markdown",
   "metadata": {},
   "source": [
    "save the matrices"
   ]
  },
  {
   "cell_type": "code",
   "execution_count": null,
   "metadata": {},
   "outputs": [],
   "source": [
    "# save matrices\n",
    "np.save('/home/jaimebarranco/Desktop/eye_model/combined/output/maps/atlas/mode_ext_matrix.npy', stat_matrix)\n",
    "np.save('/home/jaimebarranco/Desktop/eye_model/combined/output/maps/atlas/mode_ext_prob_matrix.npy', prob_matrix)"
   ]
  },
  {
   "cell_type": "markdown",
   "metadata": {},
   "source": [
    "max prob map (majority voting)\n",
    "---"
   ]
  },
  {
   "cell_type": "markdown",
   "metadata": {},
   "source": [
    "load matrices"
   ]
  },
  {
   "cell_type": "code",
   "execution_count": null,
   "metadata": {},
   "outputs": [],
   "source": [
    "import numpy as np\n",
    "\n",
    "# load matrices\n",
    "stat_matrix = np.load('/home/jaimebarranco/Desktop/eye_model/combined/output/maps/atlas/mode_ext_matrix.npy')\n",
    "prob_matrix = np.load('/home/jaimebarranco/Desktop/eye_model/combined/output/maps/atlas/mode_ext_prob_matrix.npy')\n",
    "\n",
    "print(\"stat matrix: \", stat_matrix.shape)\n",
    "print(\"probability matrix: \", prob_matrix.shape)"
   ]
  },
  {
   "cell_type": "markdown",
   "metadata": {},
   "source": [
    "save nifti"
   ]
  },
  {
   "cell_type": "code",
   "execution_count": null,
   "metadata": {},
   "outputs": [],
   "source": [
    "import nibabel as nb\n",
    "\n",
    "# save median matrix as nifti\n",
    "mode_nifti = nb.Nifti1Image(stat_matrix, sample_image.affine, sample_image.header)\n",
    "nb.save(mode_nifti, '/home/jaimebarranco/Desktop/eye_model/combined/output/maps/atlas/mode_ext_max_prob_map.nii.gz')"
   ]
  },
  {
   "cell_type": "markdown",
   "metadata": {},
   "source": [
    "probability map\n",
    "---"
   ]
  },
  {
   "cell_type": "markdown",
   "metadata": {},
   "source": [
    "load matrices"
   ]
  },
  {
   "cell_type": "code",
   "execution_count": 10,
   "metadata": {},
   "outputs": [
    {
     "name": "stdout",
     "output_type": "stream",
     "text": [
      "stat matrix:  (77, 95, 94)\n",
      "probability matrix:  (77, 95, 94)\n"
     ]
    }
   ],
   "source": [
    "import numpy as np\n",
    "\n",
    "# load matrices\n",
    "stat_matrix = np.load('/home/jaimebarranco/Desktop/eye_model/combined/output/maps/nnunet/mode_ext_matrix.npy')\n",
    "prob_matrix = np.load('/home/jaimebarranco/Desktop/eye_model/combined/output/maps/nnunet/mode_ext_prob_matrix.npy')\n",
    "\n",
    "print(\"stat matrix: \", stat_matrix.shape)\n",
    "print(\"probability matrix: \", prob_matrix.shape)"
   ]
  },
  {
   "cell_type": "markdown",
   "metadata": {},
   "source": [
    "select colors"
   ]
  },
  {
   "cell_type": "code",
   "execution_count": 2,
   "metadata": {},
   "outputs": [
    {
     "name": "stdout",
     "output_type": "stream",
     "text": [
      "rgb:  {1: (1.0, 0.0, 0.0), 2: (0.0, 0.5019607843137255, 0.0), 3: (0.0, 0.0, 1.0), 4: (1.0, 1.0, 0.0), 5: (0.0, 1.0, 1.0), 6: (1.0, 0.0, 1.0), 7: (1.0, 0.6470588235294118, 0.0), 8: (0.5019607843137255, 0.0, 0.5019607843137255), 9: (0.6470588235294118, 0.16470588235294117, 0.16470588235294117)}\n",
      "hsv:  {1: array([0., 1., 1.]), 2: array([0.33333333, 1.        , 0.50196078]), 3: array([0.66666667, 1.        , 1.        ]), 4: array([0.16666667, 1.        , 1.        ]), 5: array([0.5, 1. , 1. ]), 6: array([0.83333333, 1.        , 1.        ]), 7: array([0.10784314, 1.        , 1.        ]), 8: array([0.83333333, 1.        , 0.50196078]), 9: array([0.        , 0.74545455, 0.64705882])}\n"
     ]
    }
   ],
   "source": [
    "import matplotlib.colors as mcolors\n",
    "# matplotlib (https://matplotlib.org/stable/gallery/color/named_colors.html#sphx-glr-gallery-color-named-colors-py)\n",
    "\n",
    "# define colors for the different labels (tissues)\n",
    "colors = {\n",
    "    1: 'red',  # lens | tab:red\n",
    "    2: 'green',  # globe | lime\n",
    "    3: 'blue',  # optic nerve | tab:blue\n",
    "    4: 'yellow',  # intraconal fat | yellow\n",
    "    5: 'cyan',  # extraconal fat | cyan\n",
    "    6: 'magenta',  # lateral rectus muscle | magenta\n",
    "    7: 'orange',  # medial rectus muscle | ivory\n",
    "    8: 'purple',  # inferior rectus muscle | tab:purple\n",
    "    9: 'brown',  # superior rectus muscle | chocolate\n",
    "}\n",
    "\n",
    "# colors to rgb using matplotlib\n",
    "rgb_colors = {}\n",
    "for key, value in colors.items():\n",
    "    rgb_colors[key] = mcolors.to_rgb(value) # no alpha channel\n",
    "print(\"rgb: \", rgb_colors)\n",
    "\n",
    "# colors to hsv\n",
    "hsv_colors = {}\n",
    "for key, value in rgb_colors.items():\n",
    "    hsv_colors[key] = mcolors.rgb_to_hsv(value)\n",
    "print(\"hsv: \", hsv_colors)"
   ]
  },
  {
   "cell_type": "markdown",
   "metadata": {},
   "source": [
    "multiply color \"intensity\" by the probability of the voxel"
   ]
  },
  {
   "cell_type": "code",
   "execution_count": 20,
   "metadata": {},
   "outputs": [
    {
     "data": {
      "image/png": "[encoded data removed]",
      "text/plain": [
       "<Figure size 432x288 with 1 Axes>"
      ]
     },
     "metadata": {
      "needs_background": "light"
     },
     "output_type": "display_data"
    }
   ],
   "source": [
    "import matplotlib.pyplot as plt\n",
    "\n",
    "# Initialize the HSV matrix with the same size as stat_matrix and an extra dimension for the 3 channels\n",
    "hsv_image = np.zeros((*stat_matrix.shape, 3))\n",
    "\n",
    "# Assign HSV values to each voxel based on its label in the stat_matrix\n",
    "for label, hsv_value in hsv_colors.items():\n",
    "    hsv_image[stat_matrix == label] = hsv_value\n",
    "\n",
    "# Define the transformation functions\n",
    "def no_transform(matrix):\n",
    "    return matrix\n",
    "\n",
    "def log_transform(matrix, correction=1):\n",
    "    return np.log(matrix + correction)\n",
    "\n",
    "def sigmoid_transform(matrix, k=1):\n",
    "    return 1 / (1 + np.exp(-k * matrix))\n",
    "\n",
    "def exp_inv_transform(matrix, k=1):\n",
    "    return 1 - np.exp(-k * matrix)\n",
    "\n",
    "# Choose the transformation function and correction parameter\n",
    "transformation = 'log'  # Change to 'sigmoid' or 'exp_inv' as needed\n",
    "correction_value = 1.1    # Adjust this value as needed\n",
    "\n",
    "# Apply the transformation\n",
    "if transformation == 'no':\n",
    "    transformed_matrix = no_transform(prob_matrix)\n",
    "elif transformation == 'log':\n",
    "    transformed_matrix = log_transform(prob_matrix, correction=correction_value)\n",
    "elif transformation == 'sigmoid':\n",
    "    transformed_matrix = sigmoid_transform(prob_matrix, k=correction_value)\n",
    "elif transformation == 'exp_inv':\n",
    "    transformed_matrix = exp_inv_transform(prob_matrix, k=correction_value)\n",
    "else:\n",
    "    raise ValueError(\"Invalid transformation. Choose 'log', 'sigmoid', or 'exp_inv'.\")\n",
    "\n",
    "# Adjust Saturation (S) and Value (V) based on the probability\n",
    "hsv_image[..., 1] = np.multiply(hsv_image[..., 1], transformed_matrix)  # Adjust Saturation\n",
    "hsv_image[..., 2] = np.multiply(hsv_image[..., 2], transformed_matrix)  # Adjust Value\n",
    "\n",
    "# Convert the adjusted HSV image to RGB\n",
    "rgb_image = mcolors.hsv_to_rgb(hsv_image)\n",
    "sample_rgbimage = rgb_image[..., 67, :]\n",
    "\n",
    "# To visualize a single slice (e.g., the first slice in the third dimension)\n",
    "plt.imshow(rgb_image[..., 67, :], interpolation='nearest')\n",
    "plt.title('Probability Weighted RGB Image')\n",
    "plt.axis('off')\n",
    "plt.show()\n",
    "\n",
    "# Save the RGB image if necessary\n",
    "# plt.imsave('weighted_rgb_image.png', rgb_image[..., 0, :])    "
   ]
  },
  {
   "cell_type": "markdown",
   "metadata": {},
   "source": [
    "visualize with a Z-axis slider "
   ]
  },
  {
   "cell_type": "code",
   "execution_count": 21,
   "metadata": {},
   "outputs": [
    {
     "data": {
      "application/vnd.jupyter.widget-view+json": {
       "model_id": "46102935e2d24a7da9c2a36589b502d7",
       "version_major": 2,
       "version_minor": 0
      },
      "text/plain": [
       "interactive(children=(IntSlider(value=0, description='Z-axis', max=93), Output()), _dom_classes=('widget-inter…"
      ]
     },
     "metadata": {},
     "output_type": "display_data"
    },
    {
     "data": {
      "text/plain": [
       "<function __main__.update_plot(z_index)>"
      ]
     },
     "execution_count": 21,
     "metadata": {},
     "output_type": "execute_result"
    }
   ],
   "source": [
    "import numpy as np\n",
    "import matplotlib.pyplot as plt\n",
    "import ipywidgets as widgets\n",
    "from ipywidgets import interact\n",
    "\n",
    "# Function to create a 2D plot for a specific z slice\n",
    "def plot_2d_slice(rgb_image, z_index):\n",
    "    plt.figure(figsize=(6, 6))\n",
    "    plt.imshow(rgb_image[:, :, z_index], interpolation='nearest')\n",
    "    plt.title(f'Slice at z = {z_index}')\n",
    "    plt.axis('off')\n",
    "    plt.show()\n",
    "\n",
    "# Interactive function to update the plot based on slider value\n",
    "def update_plot(z_index):\n",
    "    plot_2d_slice(rgb_image, z_index)\n",
    "\n",
    "# Create the slider widget\n",
    "z_slider = widgets.IntSlider(min=0, max=rgb_image.shape[2]-1, step=1, value=0, description='Z-axis')\n",
    "\n",
    "# Use interact to update the plot when the slider value changes\n",
    "interact(update_plot, z_index=z_slider)"
   ]
  },
  {
   "cell_type": "markdown",
   "metadata": {},
   "source": [
    "save rgb image as .npy"
   ]
  },
  {
   "cell_type": "code",
   "execution_count": 22,
   "metadata": {},
   "outputs": [],
   "source": [
    "# Save the entire rgb_image array to a .npy file\n",
    "np.save('/home/jaimebarranco/Desktop/eye_model/combined/output/maps/nnunet/mode_ext_prob_map.npy', rgb_image)"
   ]
  },
  {
   "cell_type": "markdown",
   "metadata": {},
   "source": [
    "overlap + slider"
   ]
  },
  {
   "cell_type": "code",
   "execution_count": 23,
   "metadata": {},
   "outputs": [
    {
     "data": {
      "application/vnd.jupyter.widget-view+json": {
       "model_id": "d1c0154034b74628b599caf927abb3a5",
       "version_major": 2,
       "version_minor": 0
      },
      "text/plain": [
       "interactive(children=(FloatSlider(value=1.0, description='Alpha Prob Map', max=1.0, step=0.05), FloatSlider(va…"
      ]
     },
     "metadata": {},
     "output_type": "display_data"
    },
    {
     "data": {
      "text/plain": [
       "<function __main__.plot_images(alpha_prob_map, alpha_overlay, z_index)>"
      ]
     },
     "execution_count": 23,
     "metadata": {},
     "output_type": "execute_result"
    }
   ],
   "source": [
    "import numpy as np\n",
    "import nibabel as nb\n",
    "import matplotlib.pyplot as plt\n",
    "import ipywidgets as widgets\n",
    "from ipywidgets import interact\n",
    "\n",
    "# Load the template image\n",
    "template_path = '/home/jaimebarranco/Desktop/eye_model/combined/output/templateConstruction/template0.nii.gz'\n",
    "template_img = nb.load(template_path)\n",
    "template_data = template_img.get_fdata()\n",
    "\n",
    "# Load the prob_map from prob_map_path\n",
    "prob_map_path = '/home/jaimebarranco/Desktop/eye_model/combined/output/maps/nnunet/mode_ext_prob_map.npy'\n",
    "prob_map = np.load(prob_map_path)\n",
    "\n",
    "# Function to rotate an image 90 degrees to the left\n",
    "def rotate_image(image):\n",
    "    return np.rot90(image, k=1)\n",
    "\n",
    "# Create a function to plot both images overlapped\n",
    "def plot_images(alpha_prob_map, alpha_overlay, z_index):\n",
    "    fig, ax = plt.subplots(figsize=(8, 8))\n",
    "\n",
    "    # Rotate template image\n",
    "    rotated_template = rotate_image(template_data)\n",
    "\n",
    "    # Rotate prob_map\n",
    "    rotated_prob_map = rotate_image(prob_map)\n",
    "\n",
    "    # Plot the rotated template image\n",
    "    ax.imshow(rotated_template[:, :, z_index], cmap='gist_gray', interpolation='none', alpha=1)\n",
    "\n",
    "    # Extract RGB channels from prob_map\n",
    "    rgb_channels = rotated_prob_map[..., z_index, :]\n",
    "\n",
    "    # Normalize RGB channels for intensity adjustment\n",
    "    rgb_channels_norm = rgb_channels / np.max(rgb_channels)\n",
    "\n",
    "    # Apply intensity adjustment to prob_map\n",
    "    adjusted_prob_map = rgb_channels_norm * alpha_prob_map\n",
    "\n",
    "    # Overlay the prob_map with adjustable transparency\n",
    "    ax.imshow(adjusted_prob_map, alpha=alpha_overlay)\n",
    "\n",
    "    # Set title and turn off axis\n",
    "    ax.set_title('Overlayed Image')\n",
    "    ax.axis('off')\n",
    "\n",
    "    # Show the plot\n",
    "    plt.show()\n",
    "\n",
    "# Create sliders for adjusting alpha of probability map and overlay, and z-axis slice\n",
    "alpha_prob_map_slider = widgets.FloatSlider(min=0, max=1, step=0.05, value=1, description='Alpha Prob Map')\n",
    "alpha_overlay_slider = widgets.FloatSlider(min=0, max=1, step=0.05, value=0.5, description='Overlay')\n",
    "z_slider = widgets.IntSlider(min=0, max=template_data.shape[2] - 1, step=1, value=template_data.shape[2] // 2, description='Z-axis')\n",
    "\n",
    "# Create an interactive plot\n",
    "interact(plot_images, alpha_prob_map=alpha_prob_map_slider, alpha_overlay=alpha_overlay_slider, z_index=z_slider)\n"
   ]
  }
 ],
 "metadata": {
  "kernelspec": {
   "display_name": "a-eye",
   "language": "python",
   "name": "python3"
  },
  "language_info": {
   "codemirror_mode": {
    "name": "ipython",
    "version": 3
   },
   "file_extension": ".py",
   "mimetype": "text/x-python",
   "name": "python",
   "nbconvert_exporter": "python",
   "pygments_lexer": "ipython3",
   "version": "3.8.13"
  }
 },
 "nbformat": 4,
 "nbformat_minor": 2
}

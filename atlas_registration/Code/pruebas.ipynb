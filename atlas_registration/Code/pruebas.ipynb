{
 "cells": [
  {
   "cell_type": "code",
   "execution_count": 5,
   "metadata": {},
   "outputs": [],
   "source": [
    "# rename every file in a folder\n",
    "import os, glob, shutil\n",
    "\n",
    "path = \"/home/jaimebarranco/Desktop/new_manual_annotations/segmentations/manual\"\n",
    "\n",
    "for filename in os.listdir(path):\n",
    "    # os.rename(os.path.join(path, filename), os.path.join(path, filename.replace(\"_segmentation\", \"\")))\n",
    "    if filename.endswith(\".nii\"):\n",
    "        # os.rename(os.path.join(path, filename), os.path.join(path, filename[:-4] + \".nii.gz\"))\n",
    "        # compress to .gz\n",
    "        os.system(\"gzip \" + os.path.join(path, filename))\n",
    "        # delete .nii\n",
    "        # os.remove(os.path.join(path, filename))"
   ]
  },
  {
   "cell_type": "code",
   "execution_count": 8,
   "metadata": {},
   "outputs": [],
   "source": [
    "# copy some files to an another directory meeting some criteria\n",
    "import os, glob, shutil \n",
    "\n",
    "images = \"/home/jaimebarranco/Desktop/new_manual_annotations/images\"\n",
    "segmentations = \"/mnt/sda1/Repos/a-eye/a-eye_segmentation/deep_learning/nnUNet/nnUNet/nnUNet_inference/nnUNet_inference_non_labeled_dataset\"\n",
    "path = \"/home/jaimebarranco/Desktop/new_manual_annotations/segmentations/nnunet\"\n",
    "\n",
    "# for file in os.listdir(images) that don't start with a 0\n",
    "for file in os.listdir(images):\n",
    "    filename = os.path.splitext(file)[0]\n",
    "    if file.startswith(\"0\"):\n",
    "        continue\n",
    "    else:\n",
    "        shutil.copy(os.path.join(segmentations, f'AEye_{filename}.gz'), path)"
   ]
  },
  {
   "cell_type": "code",
   "execution_count": 10,
   "metadata": {},
   "outputs": [],
   "source": [
    "for filename in os.listdir(path):\n",
    "    if filename.startswith(\"AEye\"):\n",
    "        os.rename(os.path.join(path, filename), os.path.join(path, filename.replace(\"AEye_\", \"\")))"
   ]
  },
  {
   "cell_type": "code",
   "execution_count": 12,
   "metadata": {},
   "outputs": [],
   "source": [
    "# copy some files to an another directory meeting some criteria\n",
    "import os, glob, shutil \n",
    "\n",
    "images = \"/home/jaimebarranco/Desktop/new_manual_annotations/images\"\n",
    "segmentations = \"/mnt/sda1/Repos/a-eye/Data/SHIP_dataset/non_labeled_dataset_nifti_reg_2\"\n",
    "path = \"/home/jaimebarranco/Desktop/new_manual_annotations/segmentations/atlas\"\n",
    "\n",
    "# for file in os.listdir(images) that don't start with a 0\n",
    "for file in os.listdir(images):\n",
    "    filename = os.path.splitext(file)[0]\n",
    "    filename = filename.split(\".\")[0]\n",
    "    if file.startswith(\"0\"):\n",
    "        continue\n",
    "    else:\n",
    "        shutil.copy(os.path.join(segmentations, f'{filename}/labels.nii.gz'), os.path.join(path, f'{filename}.nii.gz'))"
   ]
  },
  {
   "cell_type": "code",
   "execution_count": null,
   "metadata": {},
   "outputs": [],
   "source": [
    "# copy some files to an another directory meeting some criteria\n",
    "import os, glob, shutil \n",
    "\n",
    "images = \"/home/jaimebarranco/Desktop/new_manual_annotations/images\"\n",
    "segmentations = \"/mnt/sda1/Repos/a-eye/Data/SHIP_dataset/non_labeled_dataset_nifti_reg\"\n",
    "path = \"/home/jaimebarranco/Desktop/new_manual_annotations/segmentations/atlas\"\n",
    "\n",
    "# for file in os.listdir(images) that don't start with a 0\n",
    "for file in os.listdir(images):\n",
    "    filename = os.path.splitext(file)[0]\n",
    "    filename = filename.split(\".\")[0]\n",
    "    if file.startswith(\"0\"):\n",
    "        continue\n",
    "    else:\n",
    "        shutil.copy(os.path.join(segmentations, f'{filename}/labels.nii.gz'), os.path.join(path, f'{filename}.nii.gz'))"
   ]
  }
 ],
 "metadata": {
  "kernelspec": {
   "display_name": "a-eye",
   "language": "python",
   "name": "python3"
  },
  "language_info": {
   "codemirror_mode": {
    "name": "ipython",
    "version": 3
   },
   "file_extension": ".py",
   "mimetype": "text/x-python",
   "name": "python",
   "nbconvert_exporter": "python",
   "pygments_lexer": "ipython3",
   "version": "3.8.13"
  },
  "orig_nbformat": 4
 },
 "nbformat": 4,
 "nbformat_minor": 2
}

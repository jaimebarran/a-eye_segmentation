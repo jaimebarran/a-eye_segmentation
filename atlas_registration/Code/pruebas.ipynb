{
 "cells": [
  {
   "cell_type": "markdown",
   "metadata": {},
   "source": [
    "Check duplicates between two folders"
   ]
  },
  {
   "cell_type": "code",
   "execution_count": null,
   "metadata": {},
   "outputs": [],
   "source": [
    "# check duplicates between two folders\n",
    "from pathlib import Path\n",
    "\n",
    "path1 = \"/home/jaimebarranco/Downloads/Segmentations/Segmentations\"\n",
    "path2 = \"/home/jaimebarranco/Desktop/new_manual_annotations/segmentations/manual\"\n",
    "\n",
    "# Convert strings to Path objects\n",
    "path1 = Path(path1)\n",
    "path2 = Path(path2)\n",
    "\n",
    "# Get set of all file names in path1\n",
    "# files_in_path1 = {f.stem.split(\"_\")[0] for f in path1.rglob('*.nii|*.gz|*.nii.gz')}\n",
    "files_in_path1 = {f.stem.split(\"_\")[0] for ext in ['*.nii*', '*.gz', '*.nii.gz'] for f in path1.rglob(ext)}\n",
    "\n",
    "# Check each file in path2\n",
    "num_duplicates = 0\n",
    "for file in path2.rglob('*nii*'):\n",
    "    # If file name is contained in a file name in set of file names in path1, it's a duplicate\n",
    "    if file.stem.split(\".\")[0] in files_in_path1:\n",
    "        print(f'Duplicate file: {file.stem.split(\".\")[0]}')\n",
    "        num_duplicates += 1\n",
    "print(f'Found {num_duplicates} duplicates')"
   ]
  },
  {
   "cell_type": "markdown",
   "metadata": {},
   "source": [
    "Check different files between two folders"
   ]
  },
  {
   "cell_type": "code",
   "execution_count": 15,
   "metadata": {},
   "outputs": [
    {
     "name": "stdout",
     "output_type": "stream",
     "text": [
      "Found 0 different files\n"
     ]
    }
   ],
   "source": [
    "# check different files between two folders\n",
    "from pathlib import Path\n",
    "\n",
    "path1 = \"/home/jaimebarranco/Desktop/new_manual_annotations/segmentations/manual\"\n",
    "path2 = \"/home/jaimebarranco/Desktop/new_manual_annotations/segmentations/atlas\"\n",
    "\n",
    "# Convert strings to Path objects\n",
    "path1 = Path(path1)\n",
    "path2 = Path(path2)\n",
    "\n",
    "# Get set of all file names in path1\n",
    "files_in_path1 = {f.stem for f in path1.glob('*.nii.gz')}\n",
    "\n",
    "# Check each file in path2\n",
    "num_different = 0\n",
    "for file in path2.glob('*.nii.gz'):\n",
    "    # If file name is not contained in a file name in set of file names in path1, it's a different file\n",
    "    if file.stem not in files_in_path1 and not file.stem.startswith((\"0\", \".\")):\n",
    "        print(f'{file.stem}.gz')\n",
    "        num_different += 1\n",
    "print(f'Found {num_different} different files')"
   ]
  },
  {
   "cell_type": "markdown",
   "metadata": {},
   "source": [
    "Rename every file in a folder meeting some criteria (compress, rename and remove)"
   ]
  },
  {
   "cell_type": "code",
   "execution_count": 24,
   "metadata": {},
   "outputs": [],
   "source": [
    "# rename every file in a folder\n",
    "def rename_files(path):\n",
    "    import os, glob, shutil\n",
    "\n",
    "    for filename in os.listdir(path):\n",
    "        os.rename(os.path.join(path, filename), os.path.join(path, filename.replace(\"_segmentation\", \"\")))\n",
    "        \n",
    "        # if filename.endswith(\".nii\"):\n",
    "        #     # os.rename(os.path.join(path, filename), os.path.join(path, filename[:-4] + \".nii.gz\"))\n",
    "\n",
    "        #     # compress to .gz\n",
    "        #     os.system(\"gzip \" + os.path.join(path, filename))\n",
    "\n",
    "        #     # delete .nii\n",
    "        #     # os.remove(os.path.join(path, filename))"
   ]
  },
  {
   "cell_type": "code",
   "execution_count": null,
   "metadata": {},
   "outputs": [],
   "source": [
    "path = \"/home/jaimebarranco/Desktop/new_manual_annotations/segmentations/manual\"\n",
    "rename_files(path)"
   ]
  },
  {
   "cell_type": "markdown",
   "metadata": {},
   "source": [
    "Copy nifti files from one folder to another"
   ]
  },
  {
   "cell_type": "code",
   "execution_count": 23,
   "metadata": {},
   "outputs": [],
   "source": [
    "# copy *.nii.gz files from one folder to another\n",
    "path1 = \"/home/jaimebarranco/Downloads/Segmentations_Luyken/Segmentations\"\n",
    "path2 = \"/home/jaimebarranco/Desktop/new_manual_annotations/segmentations/manual\"\n",
    "\n",
    "def copy_nifti_files(path1, path2):\n",
    "    # Import necessary modules\n",
    "    import os, glob, shutil\n",
    "    from pathlib import Path\n",
    "\n",
    "    # Iterate over all .nii.gz files in path1 (including subdirectories)\n",
    "    for filename in Path(path1).rglob(\"*.nii.gz\"):\n",
    "        # Uncomment the following line to print the current file being copied\n",
    "        # print(filename)\n",
    "\n",
    "        # Copy the current file to path2\n",
    "        shutil.copy(filename, path2)"
   ]
  },
  {
   "cell_type": "code",
   "execution_count": null,
   "metadata": {},
   "outputs": [],
   "source": [
    "path1 = \"/home/jaimebarranco/Downloads/Segmentations_Luyken/Segmentations\"\n",
    "path2 = \"/home/jaimebarranco/Desktop/new_manual_annotations/segmentations/manual\"\n",
    "copy_nifti_files(path1, path2)"
   ]
  },
  {
   "cell_type": "markdown",
   "metadata": {},
   "source": [
    "Copy nnUNet segmentations subjects"
   ]
  },
  {
   "cell_type": "code",
   "execution_count": 8,
   "metadata": {},
   "outputs": [],
   "source": [
    "# copy some files to an another directory meeting some criteria\n",
    "import os, glob, shutil \n",
    "\n",
    "manual_annotations = \"/home/jaimebarranco/Desktop/new_manual_annotations/segmentations/manual\"\n",
    "segmentations = \"/mnt/sda1/Repos/a-eye/a-eye_segmentation/deep_learning/nnUNet/nnUNet/nnUNet_inference/nnUNet_inference_non_labeled_dataset\"\n",
    "output = \"/home/jaimebarranco/Desktop/new_manual_annotations/segmentations/nnunet\"\n",
    "\n",
    "# for file in os.listdir(images) that don't start with a 0\n",
    "for file in os.listdir(manual_annotations):\n",
    "    # print(file)\n",
    "    if file.startswith(\"0\") or os.path.exists(os.path.join(output, f'{file}')):\n",
    "        continue\n",
    "    else:\n",
    "        shutil.copy(os.path.join(segmentations, f'AEye_{file}'), output)"
   ]
  },
  {
   "cell_type": "code",
   "execution_count": 10,
   "metadata": {},
   "outputs": [],
   "source": [
    "# rename\n",
    "for filename in os.listdir(path):\n",
    "    if filename.startswith(\"AEye\"):\n",
    "        os.rename(os.path.join(path, filename), os.path.join(path, filename.replace(\"AEye_\", \"\")))"
   ]
  },
  {
   "cell_type": "markdown",
   "metadata": {},
   "source": [
    "Copy atlas segmentations (complete and cropped)"
   ]
  },
  {
   "cell_type": "code",
   "execution_count": 17,
   "metadata": {},
   "outputs": [],
   "source": [
    "# copy some files to an another directory meeting some criteria\n",
    "import os, glob, shutil \n",
    "\n",
    "manual_annotations = \"/home/jaimebarranco/Desktop/new_manual_annotations/segmentations/manual\"\n",
    "# segmentations = \"/mnt/sda1/Repos/a-eye/Data/SHIP_dataset/non_labeled_dataset_nifti_reg\" # complete atlas segmentations\n",
    "segmentations = \"/mnt/sda1/Repos/a-eye/Data/SHIP_dataset/non_labeled_dataset_nifti_reg_2\" # cropped atlas segmentations\n",
    "# output = \"/home/jaimebarranco/Desktop/new_manual_annotations/segmentations/atlas\" # complete atlas segmentations\n",
    "output = \"/home/jaimebarranco/Desktop/new_manual_annotations/segmentations/atlas_cropped\" # cropped atlas segmentations\n",
    "\n",
    "# for file in os.listdir(images) that don't start with a 0\n",
    "for file in os.listdir(manual_annotations):\n",
    "    filename = file.split(\".\")[0]\n",
    "    # print(filename)\n",
    "    if file.startswith(\"0\") or os.path.exists(os.path.join(output, f'{file}')):\n",
    "        continue\n",
    "    else:\n",
    "        shutil.copy(os.path.join(segmentations, f'{filename}/labels.nii.gz'), os.path.join(output, f'{file}'))"
   ]
  }
 ],
 "metadata": {
  "kernelspec": {
   "display_name": "a-eye",
   "language": "python",
   "name": "python3"
  },
  "language_info": {
   "codemirror_mode": {
    "name": "ipython",
    "version": 3
   },
   "file_extension": ".py",
   "mimetype": "text/x-python",
   "name": "python",
   "nbconvert_exporter": "python",
   "pygments_lexer": "ipython3",
   "version": "3.8.13"
  },
  "orig_nbformat": 4
 },
 "nbformat": 4,
 "nbformat_minor": 2
}

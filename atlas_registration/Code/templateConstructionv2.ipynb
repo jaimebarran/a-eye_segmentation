{
 "cells": [
  {
   "cell_type": "code",
   "execution_count": null,
   "metadata": {},
   "outputs": [],
   "source": [
    "import os\n",
    "import glob\n",
    "import numpy as np\n",
    "import pandas as pd"
   ]
  },
  {
   "cell_type": "markdown",
   "metadata": {},
   "source": [
    "get sex from metadata and create lists"
   ]
  },
  {
   "cell_type": "code",
   "execution_count": null,
   "metadata": {},
   "outputs": [],
   "source": [
    "metadata = \"/mnt/sda1/Repos/a-eye/Output/metadata/sub_metadata.csv\"\n",
    "metadata_df = pd.read_csv(metadata)\n",
    "\n",
    "males = metadata_df[metadata_df['Sex'] == 'M']\n",
    "male_list = males['Subject'].tolist() # 594\n",
    "\n",
    "females = metadata_df[metadata_df['Sex'] == 'F']\n",
    "female_list = females['Subject'].tolist() # 616"
   ]
  },
  {
   "cell_type": "markdown",
   "metadata": {},
   "source": [
    "create input folders"
   ]
  },
  {
   "cell_type": "code",
   "execution_count": null,
   "metadata": {},
   "outputs": [],
   "source": [
    "import shutil\n",
    "\n",
    "# Define the source directory where the files are located\n",
    "source_directory = '/mnt/sda1/Repos/a-eye/Data/SHIP_dataset/non_labeled_dataset_nifti_cropped'\n",
    "\n",
    "# Define the destination directory where the folder will be created\n",
    "destination_directory = '/home/jaimebarranco/Desktop/eye_model/female/input'\n",
    "\n",
    "# Create the destination directory if it doesn't exist\n",
    "if not os.path.exists(destination_directory):\n",
    "    os.makedirs(destination_directory)\n",
    "\n",
    "# Iterate over the subjects in the list\n",
    "for subject in female_list:\n",
    "    # Generate the source file path based on the subject ID\n",
    "    source_file = os.path.join(source_directory, f'{subject}_cropped.nii.gz')\n",
    "    \n",
    "    # Check if the source file exists\n",
    "    if os.path.exists(source_file):        \n",
    "        # Copy the source file to the destination folder\n",
    "        shutil.copy(source_file, destination_directory)"
   ]
  },
  {
   "cell_type": "markdown",
   "metadata": {},
   "source": [
    "template construction"
   ]
  },
  {
   "cell_type": "code",
   "execution_count": null,
   "metadata": {},
   "outputs": [],
   "source": [
    "os.environ['PATH'] += ':/opt/ANTs/bin' # ensure the ANTs binaries are in $PATH\n",
    "os.environ['ANTSPATH'] = '/opt/ANTs/bin/'"
   ]
  },
  {
   "cell_type": "code",
   "execution_count": null,
   "metadata": {},
   "outputs": [],
   "source": [
    "input_dir = '/home/jaimebarranco/Desktop/eye_model/combined/input/'\n",
    "output_dir = '/home/jaimebarranco/Desktop/eye_model/combined/output_template_construction/'\n",
    "\n",
    "# Create output directories\n",
    "if not os.path.exists(output_dir):\n",
    "    os.makedirs(output_dir)\n",
    "if not os.path.exists(input_dir):\n",
    "    os.makedirs(input_dir)\n",
    "\n",
    "# v2\n",
    "command = 'antsMultivariateTemplateConstruction2.sh -d 3' + \\\n",
    "    ' -o ' + output_dir + \\\n",
    "    ' -i ' + '15' + \\\n",
    "    ' -g ' + '0.2' + \\\n",
    "    ' -j ' + '16' + \\\n",
    "    ' -c ' + '2' + \\\n",
    "    ' -k ' + '1' + \\\n",
    "    ' -w ' + '1' + \\\n",
    "    ' -n ' + '1' + \\\n",
    "    ' -r ' + '1' + \\\n",
    "    ' -m ' + 'CC[2]' + \\\n",
    "    ' -q ' + '80x60x40x10' + \\\n",
    "    ' -f ' + '8x4x2x1' + \\\n",
    "    ' -s ' + '3x2x1x0' + \\\n",
    "    ' -t ' + 'SyN' + \\\n",
    "    ' ' + input_dir + '*.nii.gz'\n",
    "print(command)\n",
    "# os.system(command)"
   ]
  },
  {
   "cell_type": "markdown",
   "metadata": {},
   "source": [
    "crop volume"
   ]
  },
  {
   "cell_type": "code",
   "execution_count": null,
   "metadata": {},
   "outputs": [],
   "source": [
    "import nibabel as nb\n",
    "import SimpleITK as sitk\n",
    "import pandas as pd\n",
    "\n",
    "template = '/home/jaimebarranco/Desktop/eye_model/combined/output_template_construction/template0.nii.gz'\n",
    "\n",
    "template_sitk = sitk.ReadImage(template)\n",
    "template_nb = nb.load(template)"
   ]
  },
  {
   "cell_type": "code",
   "execution_count": null,
   "metadata": {},
   "outputs": [],
   "source": [
    "# Get the data from the nibabel image\n",
    "data = template_nb.get_fdata()\n",
    "\n",
    "# Find the indices where the image is not zero\n",
    "indices = np.where(data != 0)\n",
    "\n",
    "# Get the minimum and maximum coordinates for each dimension\n",
    "min_coords = np.min(indices, axis=1)\n",
    "max_coords = np.max(indices, axis=1)\n",
    "\n",
    "# The bounding box is then given by the minimum and maximum coordinates\n",
    "bounding_box = np.vstack((min_coords, max_coords)).T\n",
    "\n",
    "print(\"Bounding box (in voxel coordinates):\")\n",
    "print(bounding_box)"
   ]
  }
 ],
 "metadata": {
  "kernelspec": {
   "display_name": "a-eye",
   "language": "python",
   "name": "python3"
  },
  "language_info": {
   "codemirror_mode": {
    "name": "ipython",
    "version": 3
   },
   "file_extension": ".py",
   "mimetype": "text/x-python",
   "name": "python",
   "nbconvert_exporter": "python",
   "pygments_lexer": "ipython3",
   "version": "3.8.13"
  }
 },
 "nbformat": 4,
 "nbformat_minor": 2
}

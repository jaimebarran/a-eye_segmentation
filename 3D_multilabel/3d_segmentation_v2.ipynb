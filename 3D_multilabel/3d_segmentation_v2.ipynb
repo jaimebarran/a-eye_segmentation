{
 "cells": [
  {
   "cell_type": "markdown",
   "metadata": {},
   "source": [
    "# 3D patch-based segmentation with U-Net\n",
    "\n",
    "Code started from [Francesco's tutorials](https://github.com/FrancescoLR/tutorials)\n",
    "\n"
   ]
  },
  {
   "cell_type": "markdown",
   "metadata": {},
   "source": [
    "## Imports"
   ]
  },
  {
   "cell_type": "code",
   "execution_count": 1,
   "metadata": {},
   "outputs": [
    {
     "name": "stderr",
     "output_type": "stream",
     "text": [
      "/home/jaimebarranco/miniconda3/envs/3dmultilabel/lib/python3.9/site-packages/tqdm/auto.py:22: TqdmWarning: IProgress not found. Please update jupyter and ipywidgets. See https://ipywidgets.readthedocs.io/en/stable/user_install.html\n",
      "  from .autonotebook import tqdm as notebook_tqdm\n"
     ]
    },
    {
     "name": "stdout",
     "output_type": "stream",
     "text": [
      "MONAI version: 0.9.1rc3\n",
      "Numpy version: 1.22.4\n",
      "Pytorch version: 1.12.1+cu116\n",
      "MONAI flags: HAS_EXT = False, USE_COMPILED = False, USE_META_DICT = False\n",
      "MONAI rev id: 7a5de8b7b9db101a431e70ae2aa8ea7ebb8dfffe\n",
      "MONAI __file__: /home/jaimebarranco/miniconda3/envs/3dmultilabel/lib/python3.9/site-packages/monai/__init__.py\n",
      "\n",
      "Optional dependencies:\n",
      "Pytorch Ignite version: 0.4.9\n",
      "Nibabel version: 4.0.1\n",
      "scikit-image version: 0.19.3\n",
      "Pillow version: 9.2.0\n",
      "Tensorboard version: 2.9.1\n",
      "gdown version: 4.5.1\n",
      "TorchVision version: 0.13.1+cu116\n",
      "tqdm version: 4.64.0\n",
      "lmdb version: 1.3.0\n",
      "psutil version: 5.9.1\n",
      "pandas version: 1.4.3\n",
      "einops version: 0.4.1\n",
      "transformers version: 4.20.1\n",
      "mlflow version: 1.27.0\n",
      "pynrrd version: 0.4.3\n",
      "\n",
      "For details about installing the optional dependencies, please visit:\n",
      "    https://docs.monai.io/en/latest/installation.html#installing-the-recommended-dependencies\n",
      "\n"
     ]
    }
   ],
   "source": [
    "import glob\n",
    "import logging\n",
    "import os\n",
    "from pathlib import Path\n",
    "import shutil\n",
    "import sys\n",
    "import tempfile\n",
    "import matplotlib.pyplot as plt\n",
    "\n",
    "\n",
    "import nibabel as nib\n",
    "import numpy as np\n",
    "from monai.config import print_config\n",
    "from monai.data import ArrayDataset, decollate_batch, DataLoader, CacheDataset, Dataset\n",
    "from monai.losses import DiceLoss\n",
    "from monai.metrics import DiceMetric, MeanIoU, compute_meaniou\n",
    "from monai.inferers import sliding_window_inference\n",
    "from monai.networks.nets import UNet\n",
    "from monai.networks.layers import Norm\n",
    "from monai.transforms import (\n",
    "    AsDiscrete,\n",
    "    Compose,\n",
    "    LoadImaged,\n",
    "    EnsureChannelFirstd,\n",
    "    Orientationd,\n",
    "    Spacingd,\n",
    "    ResizeWithPadOrCropd,\n",
    "    RandCropByPosNegLabeld,\n",
    "    Lambdad,\n",
    "    ScaleIntensityd,\n",
    ")\n",
    "from monai.utils import first\n",
    "\n",
    "import ignite\n",
    "import torch, torchvision\n",
    "\n",
    "print_config()"
   ]
  },
  {
   "cell_type": "markdown",
   "metadata": {},
   "source": [
    "## Setup \n"
   ]
  },
  {
   "cell_type": "markdown",
   "metadata": {},
   "source": [
    "### Paths and cuda check"
   ]
  },
  {
   "cell_type": "code",
   "execution_count": 2,
   "metadata": {},
   "outputs": [
    {
     "name": "stdout",
     "output_type": "stream",
     "text": [
      "Data directory is: /mnt/sda1/Repos/a-eye/a-eye_preprocessing/ANTs/\n",
      "True\n"
     ]
    }
   ],
   "source": [
    "main_dir = '/mnt/sda1/Repos/a-eye/a-eye_segmentation/3D_multilabel/'\n",
    "data_dir = '/mnt/sda1/Repos/a-eye/a-eye_preprocessing/ANTs/' # train and validation\n",
    "test_data_dir = '/mnt/sda1/Repos/a-eye/Data'\n",
    "\n",
    "[print(f\"Data directory is: {data_dir}\") if os.path.isdir(data_dir) else print(\"Check your data directory\")]\n",
    "os.environ['CUDA_LAUNCH_BLOCKING'] = '1'\n",
    "\n",
    "print(torch.cuda.is_available())"
   ]
  },
  {
   "cell_type": "markdown",
   "metadata": {},
   "source": [
    "### Set images and segmentation paths"
   ]
  },
  {
   "cell_type": "code",
   "execution_count": 3,
   "metadata": {},
   "outputs": [
    {
     "name": "stdout",
     "output_type": "stream",
     "text": [
      "Train dataset is composed by 26 (74.29%) subjects and validation by 9 (25.71%).\n"
     ]
    }
   ],
   "source": [
    "train_images_1 = []\n",
    "train_labels_1 = []\n",
    "validation_images = []\n",
    "validation_labels = []\n",
    "\n",
    "# List of subjects taken for the template construction\n",
    "best_subjects_cc = ['sub-02','sub-03','sub-08','sub-09','sub-20','sub-29','sub-30','sub-33','sub-34'] # 9\n",
    "\n",
    "# List of remaining subjects\n",
    "all_subjects = list()\n",
    "for i in range(35):\n",
    "    all_subjects.append('sub-'+str(i+1).zfill(2))\n",
    "rest_subjects = [elem for elem in all_subjects if elem not in best_subjects_cc]\n",
    "\n",
    "# Train (rest subjects)\n",
    "for i in range(len(rest_subjects)):\n",
    "    input_t1 = data_dir + 'a123/' + rest_subjects[i] + '/input/' + rest_subjects[i] + '_T1.nii.gz'\n",
    "    input_labels = data_dir + 'a123/' + rest_subjects[i] + '/input/' + rest_subjects[i] + '_labels.nii.gz'\n",
    "    train_images_1.append(input_t1)\n",
    "    train_labels_1.append(input_labels)\n",
    "# Train dictionary\n",
    "data_train_dicts_1 = [\n",
    "    {\"image\": image_name, \"label\": label_name}\n",
    "    for image_name, label_name in zip(train_images_1, train_labels_1)\n",
    "]   \n",
    "\n",
    "# Validation (best subjects)\n",
    "for i in range(len(best_subjects_cc)):\n",
    "    input_t1 = data_dir + 'a123/' + best_subjects_cc[i] + '/input/' + best_subjects_cc[i] + '_T1.nii.gz'\n",
    "    input_labels = data_dir + 'a123/' + best_subjects_cc[i] + '/input/' + best_subjects_cc[i] + '_labels.nii.gz'\n",
    "    validation_images.append(input_t1)\n",
    "    validation_labels.append(input_labels)\n",
    "# Validation dictionary\n",
    "data_validation_dicts = [\n",
    "    {\"image\": image_name, \"label\": label_name}\n",
    "    for image_name, label_name in zip(validation_images, validation_labels)\n",
    "]\n",
    "\n",
    "num_train_samples = len(data_train_dicts_1)\n",
    "num_validation_samples = len(data_validation_dicts)\n",
    "num_total_samples = num_train_samples + num_validation_samples\n",
    "print(f\"Train dataset is composed by {len(data_train_dicts_1)} ({num_train_samples/num_total_samples*100:.2f}%) subjects and validation by {len(data_validation_dicts)} ({num_validation_samples/num_total_samples*100:.2f}%).\")"
   ]
  },
  {
   "cell_type": "markdown",
   "metadata": {},
   "source": [
    "### Set transforms and dataset"
   ]
  },
  {
   "cell_type": "code",
   "execution_count": 14,
   "metadata": {},
   "outputs": [],
   "source": [
    "# Function to crop the eye from the medical image\n",
    "def masked(data_dict):\n",
    "    eye_mask = (data_dict[\"label\"] != 0)\n",
    "    eye_mask[eye_mask == True] = 1\n",
    "    eye_mask[eye_mask == False] = 0\n",
    "    data_dict[\"image\"] = data_dict[\"image\"] * eye_mask\n",
    "\n",
    "    return data_dict\n",
    "    \n",
    "train_transforms = Compose(\n",
    "    [\n",
    "        LoadImaged(keys=[\"image\", \"label\"]), #Load image file or files from provided path based on reader.\n",
    "        Lambdad(keys=[\"image\"], func=lambda image: torch.nan_to_num(image, nan=0)),\n",
    "        ScaleIntensityd(keys=[\"image\"]), #Scale the intensity of input image to the given value range (minv, maxv). If minv and maxv and factor not provided, Normalize the data\n",
    "        EnsureChannelFirstd(keys=[\"image\", \"label\"]), #Automatically adjust or add the channel dimension of input data to ensure channel_first shape.\n",
    "        Orientationd(keys=[\"image\", \"label\"], axcodes=\"RAS\"), #Change the input image’s orientation into the specified based on axcodes.\n",
    "        Spacingd(keys=[\"image\", \"label\"], pixdim=(\n",
    "            1, 1, 1), mode=(\"bilinear\", \"nearest\")),\n",
    "        ResizeWithPadOrCropd(keys=[\"image\", \"label\"], spatial_size=(160, 160, 160)),\n",
    "        masked,\n",
    "        RandCropByPosNegLabeld( #Crop random fixed sized regions with the center being a foreground or background voxel based on the Pos Neg Ratio. I recommend to use it since improves dice and IoU score\n",
    "            keys=[\"image\", \"label\"],\n",
    "            label_key=\"label\",\n",
    "            spatial_size=(96, 96, 96),\n",
    "            pos=1,\n",
    "            neg=1,\n",
    "            num_samples=4,\n",
    "            image_key=\"image\",\n",
    "            image_threshold=0,\n",
    "        ),\n",
    "    ]    \n",
    ")\n",
    "\n",
    "validation_transforms = Compose(\n",
    "    [\n",
    "        LoadImaged(keys=[\"image\", \"label\"]),\n",
    "        Lambdad(keys=[\"image\"], func=lambda image: torch.nan_to_num(image, nan=0)),\n",
    "        ScaleIntensityd(keys=[\"image\"],),\n",
    "        EnsureChannelFirstd(keys=[\"image\", \"label\"]),\n",
    "        Orientationd(keys=[\"image\", \"label\"], axcodes=\"RAS\"),\n",
    "        Spacingd(keys=[\"image\", \"label\"], pixdim=(\n",
    "            1, 1, 1), mode=(\"bilinear\", \"nearest\")),\n",
    "        ResizeWithPadOrCropd(keys=[\"image\", \"label\"], spatial_size=(160, 160, 160)),\n",
    "        masked,\n",
    "        RandCropByPosNegLabeld( #Crop random fixed sized regions with the center being a foreground or background voxel based on the Pos Neg Ratio. \n",
    "            keys=[\"image\", \"label\"],\n",
    "            label_key=\"label\",\n",
    "            spatial_size=(96, 96, 96),\n",
    "            pos=1,\n",
    "            neg=1,\n",
    "            num_samples=1,\n",
    "            image_key=\"image\",\n",
    "            image_threshold=0,\n",
    "        ),\n",
    "    ]\n",
    ")"
   ]
  },
  {
   "cell_type": "markdown",
   "metadata": {},
   "source": [
    "Here we use CacheDataset to accelerate training and validation process, it's 10x faster than the regular Dataset.  \n",
    "To achieve best performance, set `cache_rate=1.0` to cache all the data, if memory is not enough, set lower value.  \n",
    "Users can also set `cache_num` instead of `cache_rate`, will use the minimum value of the 2 settings.  \n",
    "And set `num_workers` to enable multi-threads during caching.  \n",
    "If want to try the regular Dataset, just change to use the commented code below."
   ]
  },
  {
   "cell_type": "code",
   "execution_count": 15,
   "metadata": {},
   "outputs": [
    {
     "name": "stderr",
     "output_type": "stream",
     "text": [
      "Loading dataset: 100%|██████████| 26/26 [00:02<00:00, 11.32it/s]\n",
      "Loading dataset: 100%|██████████| 9/9 [00:00<00:00, 10.12it/s]\n"
     ]
    }
   ],
   "source": [
    "train_ds = CacheDataset(\n",
    "    data=data_train_dicts_1, transform=train_transforms,\n",
    "    cache_rate=1.0, num_workers=8)\n",
    "# train_ds = Dataset(data=train_files, transform=train_transforms)\n",
    "\n",
    "# use batch_size=2 to load images and use RandCropByPosNegLabeld\n",
    "# to generate 2 x 4 images for network training\n",
    "train_loader = DataLoader(train_ds, batch_size=2, shuffle=True, num_workers=8)\n",
    "\n",
    "validation_ds = CacheDataset(\n",
    "    data=data_validation_dicts, transform=validation_transforms, cache_rate=1.0, num_workers=8)\n",
    "# val_ds = Dataset(data=val_files, transform=val_transforms)\n",
    "validation_loader = DataLoader(validation_ds, batch_size=1, shuffle=False, num_workers=8)"
   ]
  },
  {
   "cell_type": "markdown",
   "metadata": {},
   "source": [
    "#### Check transforms in DataLoader"
   ]
  },
  {
   "cell_type": "code",
   "execution_count": 6,
   "metadata": {},
   "outputs": [
    {
     "name": "stderr",
     "output_type": "stream",
     "text": [
      "N foreground 14351, N  background 0,unable to generate class balanced samples.\n",
      "N foreground 10539, N  background 0,unable to generate class balanced samples.\n",
      "N foreground 14149, N  background 0,unable to generate class balanced samples.\n",
      "N foreground 13080, N  background 0,unable to generate class balanced samples.\n",
      "N foreground 13981, N  background 0,unable to generate class balanced samples.\n",
      "N foreground 18264, N  background 0,unable to generate class balanced samples.\n",
      "N foreground 16021, N  background 0,unable to generate class balanced samples.\n",
      "N foreground 14458, N  background 0,unable to generate class balanced samples.\n",
      "N foreground 14199, N  background 0,unable to generate class balanced samples.\n"
     ]
    },
    {
     "name": "stdout",
     "output_type": "stream",
     "text": [
      "image shape: (96, 96, 96), label shape: (96, 96, 96)\n"
     ]
    },
    {
     "data": {
      "image/png": "[encoded data removed]",
      "text/plain": [
       "<Figure size 720x360 with 2 Axes>"
      ]
     },
     "metadata": {
      "needs_background": "light"
     },
     "output_type": "display_data"
    }
   ],
   "source": [
    "data_iter = iter(validation_loader)\n",
    "random_data = data_iter.next()\n",
    "image, label = (random_data[\"image\"][0][0], random_data[\"label\"][0][0]) # [0][0] is to show only the image shape\n",
    "print(f\"image shape: {image.shape}, label shape: {label.shape}\")\n",
    "\n",
    "# plot the slice [:, :, 80]\n",
    "plt.figure(\"check\", (10,5))\n",
    "plt.subplot(1, 2, 1)\n",
    "plt.title(\"image\")\n",
    "plt.imshow(image[:, :, 80], cmap=\"gray\")\n",
    "plt.subplot(1, 2, 2)\n",
    "plt.title(\"label\")\n",
    "plt.imshow(label[:, :, 80])\n",
    "plt.show()\n",
    "#print(len(torch.unique(label)))"
   ]
  },
  {
   "cell_type": "markdown",
   "metadata": {},
   "source": [
    "#### Save transformed images from validation_loader"
   ]
  },
  {
   "cell_type": "code",
   "execution_count": 16,
   "metadata": {},
   "outputs": [
    {
     "name": "stderr",
     "output_type": "stream",
     "text": [
      "N foreground 14351, N  background 0,unable to generate class balanced samples.\n",
      "N foreground 13080, N  background 0,unable to generate class balanced samples.\n",
      "N foreground 18264, N  background 0,unable to generate class balanced samples.\n",
      "N foreground 16021, N  background 0,unable to generate class balanced samples.\n",
      "N foreground 13981, N  background 0,unable to generate class balanced samples.\n",
      "N foreground 10539, N  background 0,unable to generate class balanced samples.\n",
      "N foreground 14149, N  background 0,unable to generate class balanced samples.\n",
      "N foreground 14458, N  background 0,unable to generate class balanced samples.\n",
      "N foreground 14199, N  background 0,unable to generate class balanced samples.\n"
     ]
    },
    {
     "name": "stdout",
     "output_type": "stream",
     "text": [
      "dict: (1, 1, 96, 96, 96)\n",
      "(1, 96, 96, 96)\n"
     ]
    }
   ],
   "source": [
    "# '''\n",
    "import SimpleITK as sitk\n",
    "\n",
    "# Saving validation_loader images\n",
    "i = 0\n",
    "for _, dict in enumerate(validation_loader):\n",
    "    print(f\"dict: {dict['image'].shape}\")\n",
    "    im_tensors = dict['image']\n",
    "    print(im_tensors[0].detach().cpu().numpy().shape)\n",
    "    im_trans = sitk.GetImageFromArray(np.transpose(im_tensors[0].detach().cpu().numpy(), (3,2,1,0)))\n",
    "    sitk.WriteImage(im_trans, main_dir+'im_trans'+str(i)+'.nii.gz')\n",
    "    i += 1\n",
    "    if i == 1:\n",
    "        break\n",
    "# '''"
   ]
  },
  {
   "cell_type": "markdown",
   "metadata": {},
   "source": [
    "## Training"
   ]
  },
  {
   "cell_type": "markdown",
   "metadata": {},
   "source": [
    "### Create Model, Loss, Optimizer"
   ]
  },
  {
   "cell_type": "code",
   "execution_count": 8,
   "metadata": {},
   "outputs": [],
   "source": [
    "# Create UNet, DiceLoss and Adam optimizer\n",
    "import gc \n",
    "gc.collect()\n",
    "torch.cuda.empty_cache()\n",
    "device = torch.device(\"cuda:0\")\n",
    "model = UNet(\n",
    "    spatial_dims = 3,\n",
    "    in_channels = 1,\n",
    "    out_channels = 10,\n",
    "    channels = (16, 32, 64, 128, 256),\n",
    "    strides = (2, 2, 2, 2),\n",
    "    num_res_units = 2,\n",
    "    norm = Norm.BATCH,\n",
    "    dropout = 0.5\n",
    ").to(device)\n",
    "\n",
    "loss_function = DiceLoss(to_onehot_y=True, softmax=True)\n",
    "optimizer = torch.optim.Adam(params=model.parameters(), lr=1e-3)\n",
    "dice_metric = DiceMetric(include_background=False, reduction=\"mean\")"
   ]
  },
  {
   "cell_type": "markdown",
   "metadata": {},
   "source": [
    "### Train "
   ]
  },
  {
   "cell_type": "code",
   "execution_count": 9,
   "metadata": {},
   "outputs": [
    {
     "name": "stdout",
     "output_type": "stream",
     "text": [
      "----------\n",
      "epoch 1/150\n"
     ]
    },
    {
     "name": "stderr",
     "output_type": "stream",
     "text": [
      "N foreground 10533, N  background 0,unable to generate class balanced samples.\n",
      "N foreground 12122, N  background 0,unable to generate class balanced samples.\n",
      "N foreground 15184, N  background 0,unable to generate class balanced samples.\n",
      "N foreground 15838, N  background 0,unable to generate class balanced samples.\n",
      "N foreground 16682, N  background 0,unable to generate class balanced samples.\n",
      "N foreground 17097, N  background 0,unable to generate class balanced samples.\n",
      "N foreground 17716, N  background 0,unable to generate class balanced samples.\n",
      "N foreground 15619, N  background 0,unable to generate class balanced samples.\n",
      "N foreground 15909, N  background 0,unable to generate class balanced samples.\n",
      "N foreground 16388, N  background 0,unable to generate class balanced samples.\n",
      "N foreground 14230, N  background 0,unable to generate class balanced samples.\n",
      "N foreground 14262, N  background 0,unable to generate class balanced samples.\n",
      "N foreground 8935, N  background 0,unable to generate class balanced samples.\n",
      "N foreground 10992, N  background 0,unable to generate class balanced samples.\n",
      "N foreground 22593, N  background 0,unable to generate class balanced samples.\n",
      "N foreground 14809, N  background 0,unable to generate class balanced samples.\n",
      "N foreground 19210, N  background 0,unable to generate class balanced samples.\n",
      "N foreground 16438, N  background 0,unable to generate class balanced samples.\n",
      "N foreground 13064, N  background 0,unable to generate class balanced samples.\n",
      "N foreground 14317, N  background 0,unable to generate class balanced samples.\n",
      "N foreground 13138, N  background 0,unable to generate class balanced samples.\n",
      "N foreground 13809, N  background 0,unable to generate class balanced samples.\n",
      "N foreground 16450, N  background 0,unable to generate class balanced samples.\n",
      "N foreground 13958, N  background 0,unable to generate class balanced samples.\n",
      "N foreground 16115, N  background 0,unable to generate class balanced samples.\n",
      "N foreground 10474, N  background 0,unable to generate class balanced samples.\n"
     ]
    },
    {
     "name": "stdout",
     "output_type": "stream",
     "text": [
      "1/13, train_loss: 0.9760\n",
      "2/13, train_loss: 0.9730\n",
      "3/13, train_loss: 0.9690\n",
      "4/13, train_loss: 0.9660\n",
      "5/13, train_loss: 0.9623\n",
      "6/13, train_loss: 0.9590\n",
      "7/13, train_loss: 0.9544\n",
      "8/13, train_loss: 0.9488\n",
      "9/13, train_loss: 0.9475\n",
      "10/13, train_loss: 0.9432\n",
      "11/13, train_loss: 0.9376\n",
      "12/13, train_loss: 0.9336\n",
      "13/13, train_loss: 0.9304\n",
      "epoch 1 average loss: 0.9539\n"
     ]
    },
    {
     "name": "stderr",
     "output_type": "stream",
     "text": [
      "N foreground 14149, N  background 0,unable to generate class balanced samples.\n",
      "N foreground 16021, N  background 0,unable to generate class balanced samples.\n",
      "N foreground 10539, N  background 0,unable to generate class balanced samples.\n",
      "N foreground 18264, N  background 0,unable to generate class balanced samples.\n",
      "N foreground 13981, N  background 0,unable to generate class balanced samples.\n",
      "N foreground 14351, N  background 0,unable to generate class balanced samples.\n",
      "N foreground 13080, N  background 0,unable to generate class balanced samples.\n",
      "N foreground 14458, N  background 0,unable to generate class balanced samples.\n",
      "N foreground 14199, N  background 0,unable to generate class balanced samples.\n"
     ]
    },
    {
     "name": "stdout",
     "output_type": "stream",
     "text": [
      "saved new best metric model\n",
      "current epoch: 1 current mean dice: 0.0248\n",
      "best mean dice: 0.0248at epoch: 1\n",
      "----------\n",
      "epoch 2/150\n"
     ]
    },
    {
     "name": "stderr",
     "output_type": "stream",
     "text": [
      "N foreground 17097, N  background 0,unable to generate class balanced samples.\n",
      "N foreground 15184, N  background 0,unable to generate class balanced samples.\n",
      "N foreground 19210, N  background 0,unable to generate class balanced samples.\n",
      "N foreground 15909, N  background 0,unable to generate class balanced samples.\n",
      "N foreground 10533, N  background 0,unable to generate class balanced samples.\n",
      "N foreground 14262, N  background 0,unable to generate class balanced samples.\n",
      "N foreground 14317, N  background 0,unable to generate class balanced samples.\n",
      "N foreground 16115, N  background 0,unable to generate class balanced samples.\n",
      "N foreground 14230, N  background 0,unable to generate class balanced samples.\n",
      "N foreground 14809, N  background 0,unable to generate class balanced samples.\n",
      "N foreground 13064, N  background 0,unable to generate class balanced samples.\n",
      "N foreground 16438, N  background 0,unable to generate class balanced samples.\n",
      "N foreground 16450, N  background 0,unable to generate class balanced samples.\n",
      "N foreground 10474, N  background 0,unable to generate class balanced samples.\n",
      "N foreground 16682, N  background 0,unable to generate class balanced samples.\n",
      "N foreground 15619, N  background 0,unable to generate class balanced samples.\n",
      "N foreground 8935, N  background 0,unable to generate class balanced samples.\n",
      "N foreground 13138, N  background 0,unable to generate class balanced samples.\n",
      "N foreground 17716, N  background 0,unable to generate class balanced samples.\n",
      "N foreground 13809, N  background 0,unable to generate class balanced samples.\n",
      "N foreground 16388, N  background 0,unable to generate class balanced samples.\n",
      "N foreground 13958, N  background 0,unable to generate class balanced samples.\n",
      "N foreground 12122, N  background 0,unable to generate class balanced samples.\n",
      "N foreground 10992, N  background 0,unable to generate class balanced samples.\n",
      "N foreground 15838, N  background 0,unable to generate class balanced samples.\n",
      "N foreground 22593, N  background 0,unable to generate class balanced samples.\n"
     ]
    },
    {
     "name": "stdout",
     "output_type": "stream",
     "text": [
      "1/13, train_loss: 0.9256\n",
      "2/13, train_loss: 0.9224\n",
      "3/13, train_loss: 0.9152\n",
      "4/13, train_loss: 0.9131\n",
      "5/13, train_loss: 0.9116\n",
      "6/13, train_loss: 0.9078\n",
      "7/13, train_loss: 0.9054\n",
      "8/13, train_loss: 0.8957\n",
      "9/13, train_loss: 0.8925\n",
      "10/13, train_loss: 0.8942\n",
      "11/13, train_loss: 0.8870\n",
      "12/13, train_loss: 0.8864\n",
      "13/13, train_loss: 0.8693\n",
      "epoch 2 average loss: 0.9020\n"
     ]
    },
    {
     "name": "stderr",
     "output_type": "stream",
     "text": [
      "N foreground 13080, N  background 0,unable to generate class balanced samples.\n",
      "N foreground 10539, N  background 0,unable to generate class balanced samples.\n",
      "N foreground 18264, N  background 0,unable to generate class balanced samples.\n",
      "N foreground 14351, N  background 0,unable to generate class balanced samples.\n",
      "N foreground 16021, N  background 0,unable to generate class balanced samples.\n",
      "N foreground 14149, N  background 0,unable to generate class balanced samples.\n",
      "N foreground 13981, N  background 0,unable to generate class balanced samples.\n",
      "N foreground 14458, N  background 0,unable to generate class balanced samples.\n",
      "N foreground 14199, N  background 0,unable to generate class balanced samples.\n"
     ]
    },
    {
     "name": "stdout",
     "output_type": "stream",
     "text": [
      "saved new best metric model\n",
      "current epoch: 2 current mean dice: 0.0985\n",
      "best mean dice: 0.0985at epoch: 2\n",
      "----------\n",
      "epoch 3/150\n"
     ]
    },
    {
     "name": "stderr",
     "output_type": "stream",
     "text": [
      "N foreground 14317, N  background 0,unable to generate class balanced samples.\n",
      "N foreground 15838, N  background 0,unable to generate class balanced samples.\n",
      "N foreground 16115, N  background 0,unable to generate class balanced samples.\n",
      "N foreground 10474, N  background 0,unable to generate class balanced samples.\n",
      "N foreground 15619, N  background 0,unable to generate class balanced samples.\n",
      "N foreground 13064, N  background 0,unable to generate class balanced samples.\n",
      "N foreground 15909, N  background 0,unable to generate class balanced samples.\n",
      "N foreground 14230, N  background 0,unable to generate class balanced samples.\n",
      "N foreground 19210, N  background 0,unable to generate class balanced samples.\n",
      "N foreground 10533, N  background 0,unable to generate class balanced samples.\n",
      "N foreground 16388, N  background 0,unable to generate class balanced samples.\n",
      "N foreground 13958, N  background 0,unable to generate class balanced samples.\n",
      "N foreground 16682, N  background 0,unable to generate class balanced samples.\n",
      "N foreground 15184, N  background 0,unable to generate class balanced samples.\n",
      "N foreground 8935, N  background 0,unable to generate class balanced samples.\n",
      "N foreground 13809, N  background 0,unable to generate class balanced samples.\n",
      "N foreground 22593, N  background 0,unable to generate class balanced samples.\n",
      "N foreground 17716, N  background 0,unable to generate class balanced samples.\n",
      "N foreground 10992, N  background 0,unable to generate class balanced samples.\n",
      "N foreground 14809, N  background 0,unable to generate class balanced samples.\n",
      "N foreground 12122, N  background 0,unable to generate class balanced samples.\n",
      "N foreground 13138, N  background 0,unable to generate class balanced samples.\n",
      "N foreground 14262, N  background 0,unable to generate class balanced samples.\n",
      "N foreground 17097, N  background 0,unable to generate class balanced samples.\n",
      "N foreground 16450, N  background 0,unable to generate class balanced samples.\n",
      "N foreground 16438, N  background 0,unable to generate class balanced samples.\n"
     ]
    },
    {
     "name": "stdout",
     "output_type": "stream",
     "text": [
      "1/13, train_loss: 0.8675\n",
      "2/13, train_loss: 0.8758\n",
      "3/13, train_loss: 0.8537\n",
      "4/13, train_loss: 0.8488\n",
      "5/13, train_loss: 0.8461\n",
      "6/13, train_loss: 0.8414\n",
      "7/13, train_loss: 0.8232\n",
      "8/13, train_loss: 0.8227\n",
      "9/13, train_loss: 0.8179\n",
      "10/13, train_loss: 0.8072\n",
      "11/13, train_loss: 0.7968\n",
      "12/13, train_loss: 0.7950\n",
      "13/13, train_loss: 0.7761\n",
      "epoch 3 average loss: 0.8286\n"
     ]
    },
    {
     "name": "stderr",
     "output_type": "stream",
     "text": [
      "N foreground 14351, N  background 0,unable to generate class balanced samples.\n",
      "N foreground 13981, N  background 0,unable to generate class balanced samples.\n",
      "N foreground 13080, N  background 0,unable to generate class balanced samples.\n",
      "N foreground 14149, N  background 0,unable to generate class balanced samples.\n",
      "N foreground 18264, N  background 0,unable to generate class balanced samples.\n",
      "N foreground 16021, N  background 0,unable to generate class balanced samples.\n",
      "N foreground 10539, N  background 0,unable to generate class balanced samples.\n",
      "N foreground 14458, N  background 0,unable to generate class balanced samples.\n",
      "N foreground 14199, N  background 0,unable to generate class balanced samples.\n"
     ]
    },
    {
     "name": "stdout",
     "output_type": "stream",
     "text": [
      "saved new best metric model\n",
      "current epoch: 3 current mean dice: 0.1459\n",
      "best mean dice: 0.1459at epoch: 3\n",
      "----------\n",
      "epoch 4/150\n"
     ]
    },
    {
     "name": "stderr",
     "output_type": "stream",
     "text": [
      "N foreground 15619, N  background 0,unable to generate class balanced samples.\n",
      "N foreground 22593, N  background 0,unable to generate class balanced samples.\n",
      "N foreground 16388, N  background 0,unable to generate class balanced samples.\n",
      "N foreground 13138, N  background 0,unable to generate class balanced samples.\n",
      "N foreground 17097, N  background 0,unable to generate class balanced samples.\n",
      "N foreground 16682, N  background 0,unable to generate class balanced samples.\n",
      "N foreground 14230, N  background 0,unable to generate class balanced samples.\n",
      "N foreground 10474, N  background 0,unable to generate class balanced samples.\n",
      "N foreground 19210, N  background 0,unable to generate class balanced samples.\n",
      "N foreground 13809, N  background 0,unable to generate class balanced samples.\n",
      "N foreground 15838, N  background 0,unable to generate class balanced samples.\n",
      "N foreground 14317, N  background 0,unable to generate class balanced samples.\n",
      "N foreground 14262, N  background 0,unable to generate class balanced samples.\n",
      "N foreground 16115, N  background 0,unable to generate class balanced samples.\n",
      "N foreground 8935, N  background 0,unable to generate class balanced samples.\n",
      "N foreground 12122, N  background 0,unable to generate class balanced samples.\n",
      "N foreground 13064, N  background 0,unable to generate class balanced samples.\n",
      "N foreground 13958, N  background 0,unable to generate class balanced samples.\n",
      "N foreground 17716, N  background 0,unable to generate class balanced samples.\n",
      "N foreground 14809, N  background 0,unable to generate class balanced samples.\n",
      "N foreground 16450, N  background 0,unable to generate class balanced samples.\n",
      "N foreground 15909, N  background 0,unable to generate class balanced samples.\n",
      "N foreground 15184, N  background 0,unable to generate class balanced samples.\n",
      "N foreground 10992, N  background 0,unable to generate class balanced samples.\n",
      "N foreground 10533, N  background 0,unable to generate class balanced samples.\n",
      "N foreground 16438, N  background 0,unable to generate class balanced samples.\n"
     ]
    },
    {
     "name": "stdout",
     "output_type": "stream",
     "text": [
      "1/13, train_loss: 0.7772\n",
      "2/13, train_loss: 0.7657\n",
      "3/13, train_loss: 0.7559\n",
      "4/13, train_loss: 0.7561\n",
      "5/13, train_loss: 0.7465\n",
      "6/13, train_loss: 0.7497\n",
      "7/13, train_loss: 0.7493\n",
      "8/13, train_loss: 0.7417\n",
      "9/13, train_loss: 0.7302\n",
      "10/13, train_loss: 0.7269\n",
      "11/13, train_loss: 0.7268\n",
      "12/13, train_loss: 0.7082\n",
      "13/13, train_loss: 0.7118\n",
      "epoch 4 average loss: 0.7420\n"
     ]
    },
    {
     "name": "stderr",
     "output_type": "stream",
     "text": [
      "N foreground 13981, N  background 0,unable to generate class balanced samples.\n",
      "N foreground 18264, N  background 0,unable to generate class balanced samples.\n",
      "N foreground 10539, N  background 0,unable to generate class balanced samples.\n",
      "N foreground 14351, N  background 0,unable to generate class balanced samples.\n",
      "N foreground 14149, N  background 0,unable to generate class balanced samples.\n",
      "N foreground 14458, N  background 0,unable to generate class balanced samples.\n",
      "N foreground 13080, N  background 0,unable to generate class balanced samples.\n",
      "N foreground 16021, N  background 0,unable to generate class balanced samples.\n",
      "N foreground 14199, N  background 0,unable to generate class balanced samples.\n"
     ]
    },
    {
     "name": "stdout",
     "output_type": "stream",
     "text": [
      "saved new best metric model\n",
      "current epoch: 4 current mean dice: 0.1922\n",
      "best mean dice: 0.1922at epoch: 4\n",
      "----------\n",
      "epoch 5/150\n"
     ]
    },
    {
     "name": "stderr",
     "output_type": "stream",
     "text": [
      "N foreground 13064, N  background 0,unable to generate class balanced samples.\n",
      "N foreground 19210, N  background 0,unable to generate class balanced samples.\n",
      "N foreground 14230, N  background 0,unable to generate class balanced samples.\n",
      "N foreground 17097, N  background 0,unable to generate class balanced samples.\n",
      "N foreground 15838, N  background 0,unable to generate class balanced samples.\n",
      "N foreground 16115, N  background 0,unable to generate class balanced samples.\n",
      "N foreground 16388, N  background 0,unable to generate class balanced samples.\n",
      "N foreground 12122, N  background 0,unable to generate class balanced samples.\n",
      "N foreground 15184, N  background 0,unable to generate class balanced samples.\n",
      "N foreground 13138, N  background 0,unable to generate class balanced samples.\n",
      "N foreground 17716, N  background 0,unable to generate class balanced samples.\n",
      "N foreground 15909, N  background 0,unable to generate class balanced samples.\n",
      "N foreground 10533, N  background 0,unable to generate class balanced samples.\n",
      "N foreground 15619, N  background 0,unable to generate class balanced samples.\n",
      "N foreground 16438, N  background 0,unable to generate class balanced samples.\n",
      "N foreground 13958, N  background 0,unable to generate class balanced samples.\n",
      "N foreground 14809, N  background 0,unable to generate class balanced samples.\n",
      "N foreground 10992, N  background 0,unable to generate class balanced samples.\n",
      "N foreground 16682, N  background 0,unable to generate class balanced samples.\n",
      "N foreground 22593, N  background 0,unable to generate class balanced samples.\n",
      "N foreground 13809, N  background 0,unable to generate class balanced samples.\n",
      "N foreground 16450, N  background 0,unable to generate class balanced samples.\n",
      "N foreground 8935, N  background 0,unable to generate class balanced samples.\n",
      "N foreground 10474, N  background 0,unable to generate class balanced samples.\n",
      "N foreground 14317, N  background 0,unable to generate class balanced samples.\n",
      "N foreground 14262, N  background 0,unable to generate class balanced samples.\n"
     ]
    },
    {
     "name": "stdout",
     "output_type": "stream",
     "text": [
      "1/13, train_loss: 0.6960\n",
      "2/13, train_loss: 0.7103\n",
      "3/13, train_loss: 0.6912\n",
      "4/13, train_loss: 0.6834\n",
      "5/13, train_loss: 0.6773\n",
      "6/13, train_loss: 0.6905\n",
      "7/13, train_loss: 0.6652\n",
      "8/13, train_loss: 0.6636\n",
      "9/13, train_loss: 0.6814\n",
      "10/13, train_loss: 0.6622\n",
      "11/13, train_loss: 0.6812\n",
      "12/13, train_loss: 0.6786\n",
      "13/13, train_loss: 0.6456\n",
      "epoch 5 average loss: 0.6790\n"
     ]
    },
    {
     "name": "stderr",
     "output_type": "stream",
     "text": [
      "N foreground 10539, N  background 0,unable to generate class balanced samples.\n",
      "N foreground 13981, N  background 0,unable to generate class balanced samples.\n",
      "N foreground 14351, N  background 0,unable to generate class balanced samples.\n",
      "N foreground 16021, N  background 0,unable to generate class balanced samples.\n",
      "N foreground 14149, N  background 0,unable to generate class balanced samples.\n",
      "N foreground 13080, N  background 0,unable to generate class balanced samples.\n",
      "N foreground 18264, N  background 0,unable to generate class balanced samples.\n",
      "N foreground 14458, N  background 0,unable to generate class balanced samples.\n",
      "N foreground 14199, N  background 0,unable to generate class balanced samples.\n"
     ]
    },
    {
     "name": "stdout",
     "output_type": "stream",
     "text": [
      "saved new best metric model\n",
      "current epoch: 5 current mean dice: 0.3396\n",
      "best mean dice: 0.3396at epoch: 5\n",
      "----------\n",
      "epoch 6/150\n"
     ]
    },
    {
     "name": "stderr",
     "output_type": "stream",
     "text": [
      "N foreground 14809, N  background 0,unable to generate class balanced samples.\n",
      "N foreground 19210, N  background 0,unable to generate class balanced samples.\n",
      "N foreground 16388, N  background 0,unable to generate class balanced samples.\n",
      "N foreground 16438, N  background 0,unable to generate class balanced samples.\n",
      "N foreground 15909, N  background 0,unable to generate class balanced samples.\n",
      "N foreground 14230, N  background 0,unable to generate class balanced samples.\n",
      "N foreground 14262, N  background 0,unable to generate class balanced samples.\n",
      "N foreground 17097, N  background 0,unable to generate class balanced samples.\n",
      "N foreground 22593, N  background 0,unable to generate class balanced samples.\n",
      "N foreground 14317, N  background 0,unable to generate class balanced samples.\n",
      "N foreground 16115, N  background 0,unable to generate class balanced samples.\n",
      "N foreground 10474, N  background 0,unable to generate class balanced samples.\n",
      "N foreground 15619, N  background 0,unable to generate class balanced samples.\n",
      "N foreground 13064, N  background 0,unable to generate class balanced samples.\n",
      "N foreground 8935, N  background 0,unable to generate class balanced samples.\n",
      "N foreground 10992, N  background 0,unable to generate class balanced samples.\n",
      "N foreground 17716, N  background 0,unable to generate class balanced samples.\n",
      "N foreground 16450, N  background 0,unable to generate class balanced samples.\n",
      "N foreground 12122, N  background 0,unable to generate class balanced samples.\n",
      "N foreground 15838, N  background 0,unable to generate class balanced samples.\n",
      "N foreground 13809, N  background 0,unable to generate class balanced samples.\n",
      "N foreground 15184, N  background 0,unable to generate class balanced samples.\n",
      "N foreground 10533, N  background 0,unable to generate class balanced samples.\n",
      "N foreground 13138, N  background 0,unable to generate class balanced samples.\n",
      "N foreground 16682, N  background 0,unable to generate class balanced samples.\n",
      "N foreground 13958, N  background 0,unable to generate class balanced samples.\n"
     ]
    },
    {
     "name": "stdout",
     "output_type": "stream",
     "text": [
      "1/13, train_loss: 0.6466\n",
      "2/13, train_loss: 0.6260\n",
      "3/13, train_loss: 0.6221\n",
      "4/13, train_loss: 0.6495\n",
      "5/13, train_loss: 0.6350\n",
      "6/13, train_loss: 0.6627\n",
      "7/13, train_loss: 0.6198\n",
      "8/13, train_loss: 0.5990\n",
      "9/13, train_loss: 0.5929\n",
      "10/13, train_loss: 0.5942\n",
      "11/13, train_loss: 0.6016\n",
      "12/13, train_loss: 0.5872\n",
      "13/13, train_loss: 0.5916\n",
      "epoch 6 average loss: 0.6176\n"
     ]
    },
    {
     "name": "stderr",
     "output_type": "stream",
     "text": [
      "N foreground 13981, N  background 0,unable to generate class balanced samples.\n",
      "N foreground 13080, N  background 0,unable to generate class balanced samples.\n",
      "N foreground 10539, N  background 0,unable to generate class balanced samples.\n",
      "N foreground 14149, N  background 0,unable to generate class balanced samples.\n",
      "N foreground 18264, N  background 0,unable to generate class balanced samples.\n",
      "N foreground 14351, N  background 0,unable to generate class balanced samples.\n",
      "N foreground 16021, N  background 0,unable to generate class balanced samples.\n",
      "N foreground 14458, N  background 0,unable to generate class balanced samples.\n",
      "N foreground 14199, N  background 0,unable to generate class balanced samples.\n"
     ]
    },
    {
     "name": "stdout",
     "output_type": "stream",
     "text": [
      "saved new best metric model\n",
      "current epoch: 6 current mean dice: 0.4830\n",
      "best mean dice: 0.4830at epoch: 6\n",
      "----------\n",
      "epoch 7/150\n"
     ]
    },
    {
     "name": "stderr",
     "output_type": "stream",
     "text": [
      "N foreground 15184, N  background 0,unable to generate class balanced samples.\n",
      "N foreground 14809, N  background 0,unable to generate class balanced samples.\n",
      "N foreground 16450, N  background 0,unable to generate class balanced samples.\n",
      "N foreground 12122, N  background 0,unable to generate class balanced samples.\n",
      "N foreground 13138, N  background 0,unable to generate class balanced samples.\n",
      "N foreground 22593, N  background 0,unable to generate class balanced samples.\n",
      "N foreground 13809, N  background 0,unable to generate class balanced samples.\n",
      "N foreground 10474, N  background 0,unable to generate class balanced samples.\n",
      "N foreground 10533, N  background 0,unable to generate class balanced samples.\n",
      "N foreground 19210, N  background 0,unable to generate class balanced samples.\n",
      "N foreground 17716, N  background 0,unable to generate class balanced samples.\n",
      "N foreground 13958, N  background 0,unable to generate class balanced samples.\n",
      "N foreground 15619, N  background 0,unable to generate class balanced samples.\n",
      "N foreground 17097, N  background 0,unable to generate class balanced samples.\n",
      "N foreground 13064, N  background 0,unable to generate class balanced samples.\n",
      "N foreground 8935, N  background 0,unable to generate class balanced samples.\n",
      "N foreground 16388, N  background 0,unable to generate class balanced samples.\n",
      "N foreground 14262, N  background 0,unable to generate class balanced samples.\n",
      "N foreground 14317, N  background 0,unable to generate class balanced samples.\n",
      "N foreground 16115, N  background 0,unable to generate class balanced samples.\n",
      "N foreground 16438, N  background 0,unable to generate class balanced samples.\n",
      "N foreground 15838, N  background 0,unable to generate class balanced samples.\n",
      "N foreground 10992, N  background 0,unable to generate class balanced samples.\n",
      "N foreground 16682, N  background 0,unable to generate class balanced samples.\n",
      "N foreground 14230, N  background 0,unable to generate class balanced samples.\n",
      "N foreground 15909, N  background 0,unable to generate class balanced samples.\n"
     ]
    },
    {
     "name": "stdout",
     "output_type": "stream",
     "text": [
      "1/13, train_loss: 0.5924\n",
      "2/13, train_loss: 0.5761\n",
      "3/13, train_loss: 0.5322\n",
      "4/13, train_loss: 0.5604\n",
      "5/13, train_loss: 0.5404\n",
      "6/13, train_loss: 0.5253\n",
      "7/13, train_loss: 0.5518\n",
      "8/13, train_loss: 0.5875\n",
      "9/13, train_loss: 0.5347\n",
      "10/13, train_loss: 0.5104\n",
      "11/13, train_loss: 0.5302\n",
      "12/13, train_loss: 0.5095\n",
      "13/13, train_loss: 0.5053\n",
      "epoch 7 average loss: 0.5428\n"
     ]
    },
    {
     "name": "stderr",
     "output_type": "stream",
     "text": [
      "N foreground 10539, N  background 0,unable to generate class balanced samples.\n",
      "N foreground 16021, N  background 0,unable to generate class balanced samples.\n",
      "N foreground 13080, N  background 0,unable to generate class balanced samples.\n",
      "N foreground 18264, N  background 0,unable to generate class balanced samples.\n",
      "N foreground 14149, N  background 0,unable to generate class balanced samples.\n",
      "N foreground 13981, N  background 0,unable to generate class balanced samples.\n",
      "N foreground 14351, N  background 0,unable to generate class balanced samples.\n",
      "N foreground 14458, N  background 0,unable to generate class balanced samples.\n",
      "N foreground 14199, N  background 0,unable to generate class balanced samples.\n"
     ]
    },
    {
     "name": "stdout",
     "output_type": "stream",
     "text": [
      "saved new best metric model\n",
      "current epoch: 7 current mean dice: 0.4953\n",
      "best mean dice: 0.4953at epoch: 7\n",
      "----------\n",
      "epoch 8/150\n"
     ]
    },
    {
     "name": "stderr",
     "output_type": "stream",
     "text": [
      "N foreground 15619, N  background 0,unable to generate class balanced samples.\n",
      "N foreground 22593, N  background 0,unable to generate class balanced samples.\n",
      "N foreground 13958, N  background 0,unable to generate class balanced samples.\n",
      "N foreground 15909, N  background 0,unable to generate class balanced samples.\n",
      "N foreground 16115, N  background 0,unable to generate class balanced samples.\n",
      "N foreground 14262, N  background 0,unable to generate class balanced samples.\n",
      "N foreground 17716, N  background 0,unable to generate class balanced samples.\n",
      "N foreground 10992, N  background 0,unable to generate class balanced samples.\n",
      "N foreground 16438, N  background 0,unable to generate class balanced samples.\n",
      "N foreground 16682, N  background 0,unable to generate class balanced samples.\n",
      "N foreground 13064, N  background 0,unable to generate class balanced samples.\n",
      "N foreground 17097, N  background 0,unable to generate class balanced samples.\n",
      "N foreground 14809, N  background 0,unable to generate class balanced samples.\n",
      "N foreground 13809, N  background 0,unable to generate class balanced samples.\n",
      "N foreground 19210, N  background 0,unable to generate class balanced samples.\n",
      "N foreground 14317, N  background 0,unable to generate class balanced samples.\n",
      "N foreground 10474, N  background 0,unable to generate class balanced samples.\n",
      "N foreground 10533, N  background 0,unable to generate class balanced samples.\n",
      "N foreground 14230, N  background 0,unable to generate class balanced samples.\n",
      "N foreground 16450, N  background 0,unable to generate class balanced samples.\n",
      "N foreground 8935, N  background 0,unable to generate class balanced samples.\n",
      "N foreground 15838, N  background 0,unable to generate class balanced samples.\n",
      "N foreground 15184, N  background 0,unable to generate class balanced samples.\n",
      "N foreground 13138, N  background 0,unable to generate class balanced samples.\n",
      "N foreground 16388, N  background 0,unable to generate class balanced samples.\n",
      "N foreground 12122, N  background 0,unable to generate class balanced samples.\n"
     ]
    },
    {
     "name": "stdout",
     "output_type": "stream",
     "text": [
      "1/13, train_loss: 0.5269\n",
      "2/13, train_loss: 0.4925\n",
      "3/13, train_loss: 0.4941\n",
      "4/13, train_loss: 0.5097\n",
      "5/13, train_loss: 0.4653\n",
      "6/13, train_loss: 0.4699\n",
      "7/13, train_loss: 0.4378\n",
      "8/13, train_loss: 0.4735\n",
      "9/13, train_loss: 0.4832\n",
      "10/13, train_loss: 0.5013\n",
      "11/13, train_loss: 0.4347\n",
      "12/13, train_loss: 0.5227\n",
      "13/13, train_loss: 0.4641\n",
      "epoch 8 average loss: 0.4828\n"
     ]
    },
    {
     "name": "stderr",
     "output_type": "stream",
     "text": [
      "N foreground 13981, N  background 0,unable to generate class balanced samples.\n",
      "N foreground 14149, N  background 0,unable to generate class balanced samples.\n",
      "N foreground 10539, N  background 0,unable to generate class balanced samples.\n",
      "N foreground 13080, N  background 0,unable to generate class balanced samples.\n",
      "N foreground 18264, N  background 0,unable to generate class balanced samples.\n",
      "N foreground 14351, N  background 0,unable to generate class balanced samples.\n",
      "N foreground 16021, N  background 0,unable to generate class balanced samples.\n",
      "N foreground 14458, N  background 0,unable to generate class balanced samples.\n",
      "N foreground 14199, N  background 0,unable to generate class balanced samples.\n"
     ]
    },
    {
     "name": "stdout",
     "output_type": "stream",
     "text": [
      "saved new best metric model\n",
      "current epoch: 8 current mean dice: 0.5746\n",
      "best mean dice: 0.5746at epoch: 8\n",
      "----------\n",
      "epoch 9/150\n"
     ]
    },
    {
     "name": "stderr",
     "output_type": "stream",
     "text": [
      "N foreground 8935, N  background 0,unable to generate class balanced samples.\n",
      "N foreground 16450, N  background 0,unable to generate class balanced samples.\n",
      "N foreground 22593, N  background 0,unable to generate class balanced samples.\n",
      "N foreground 19210, N  background 0,unable to generate class balanced samples.\n",
      "N foreground 10992, N  background 0,unable to generate class balanced samples.\n",
      "N foreground 13958, N  background 0,unable to generate class balanced samples.\n",
      "N foreground 16438, N  background 0,unable to generate class balanced samples.\n",
      "N foreground 17716, N  background 0,unable to generate class balanced samples.\n",
      "N foreground 16388, N  background 0,unable to generate class balanced samples.\n",
      "N foreground 10533, N  background 0,unable to generate class balanced samples.\n",
      "N foreground 13064, N  background 0,unable to generate class balanced samples.\n",
      "N foreground 15619, N  background 0,unable to generate class balanced samples.\n",
      "N foreground 10474, N  background 0,unable to generate class balanced samples.\n",
      "N foreground 14230, N  background 0,unable to generate class balanced samples.\n",
      "N foreground 15909, N  background 0,unable to generate class balanced samples.\n",
      "N foreground 13138, N  background 0,unable to generate class balanced samples.\n",
      "N foreground 14262, N  background 0,unable to generate class balanced samples.\n",
      "N foreground 16682, N  background 0,unable to generate class balanced samples.\n",
      "N foreground 15184, N  background 0,unable to generate class balanced samples.\n",
      "N foreground 13809, N  background 0,unable to generate class balanced samples.\n",
      "N foreground 15838, N  background 0,unable to generate class balanced samples.\n",
      "N foreground 16115, N  background 0,unable to generate class balanced samples.\n",
      "N foreground 14317, N  background 0,unable to generate class balanced samples.\n",
      "N foreground 17097, N  background 0,unable to generate class balanced samples.\n",
      "N foreground 12122, N  background 0,unable to generate class balanced samples.\n",
      "N foreground 14809, N  background 0,unable to generate class balanced samples.\n"
     ]
    },
    {
     "name": "stdout",
     "output_type": "stream",
     "text": [
      "1/13, train_loss: 0.4270\n",
      "2/13, train_loss: 0.4470\n",
      "3/13, train_loss: 0.4223\n",
      "4/13, train_loss: 0.4353\n",
      "5/13, train_loss: 0.4743\n",
      "6/13, train_loss: 0.4625\n",
      "7/13, train_loss: 0.4298\n",
      "8/13, train_loss: 0.4023\n",
      "9/13, train_loss: 0.4150\n",
      "10/13, train_loss: 0.4031\n",
      "11/13, train_loss: 0.4238\n",
      "12/13, train_loss: 0.3825\n",
      "13/13, train_loss: 0.3601\n",
      "epoch 9 average loss: 0.4219\n"
     ]
    },
    {
     "name": "stderr",
     "output_type": "stream",
     "text": [
      "N foreground 13080, N  background 0,unable to generate class balanced samples.\n",
      "N foreground 14149, N  background 0,unable to generate class balanced samples.\n",
      "N foreground 13981, N  background 0,unable to generate class balanced samples.\n",
      "N foreground 10539, N  background 0,unable to generate class balanced samples.\n",
      "N foreground 14351, N  background 0,unable to generate class balanced samples.\n",
      "N foreground 16021, N  background 0,unable to generate class balanced samples.\n",
      "N foreground 18264, N  background 0,unable to generate class balanced samples.\n",
      "N foreground 14458, N  background 0,unable to generate class balanced samples.\n",
      "N foreground 14199, N  background 0,unable to generate class balanced samples.\n"
     ]
    },
    {
     "name": "stdout",
     "output_type": "stream",
     "text": [
      "saved new best metric model\n",
      "current epoch: 9 current mean dice: 0.6331\n",
      "best mean dice: 0.6331at epoch: 9\n",
      "----------\n",
      "epoch 10/150\n"
     ]
    },
    {
     "name": "stderr",
     "output_type": "stream",
     "text": [
      "N foreground 13138, N  background 0,unable to generate class balanced samples.\n",
      "N foreground 15838, N  background 0,unable to generate class balanced samples.\n",
      "N foreground 14262, N  background 0,unable to generate class balanced samples.\n",
      "N foreground 14809, N  background 0,unable to generate class balanced samples.\n",
      "N foreground 17097, N  background 0,unable to generate class balanced samples.\n",
      "N foreground 16682, N  background 0,unable to generate class balanced samples.\n",
      "N foreground 13809, N  background 0,unable to generate class balanced samples.\n",
      "N foreground 8935, N  background 0,unable to generate class balanced samples.\n",
      "N foreground 14230, N  background 0,unable to generate class balanced samples.\n",
      "N foreground 22593, N  background 0,unable to generate class balanced samples.\n",
      "N foreground 15184, N  background 0,unable to generate class balanced samples.\n",
      "N foreground 15619, N  background 0,unable to generate class balanced samples.\n",
      "N foreground 19210, N  background 0,unable to generate class balanced samples.\n",
      "N foreground 10533, N  background 0,unable to generate class balanced samples.\n",
      "N foreground 17716, N  background 0,unable to generate class balanced samples.\n",
      "N foreground 16438, N  background 0,unable to generate class balanced samples.\n",
      "N foreground 12122, N  background 0,unable to generate class balanced samples.\n",
      "N foreground 13958, N  background 0,unable to generate class balanced samples.\n",
      "N foreground 14317, N  background 0,unable to generate class balanced samples.\n",
      "N foreground 10992, N  background 0,unable to generate class balanced samples.\n",
      "N foreground 15909, N  background 0,unable to generate class balanced samples.\n",
      "N foreground 16115, N  background 0,unable to generate class balanced samples.\n",
      "N foreground 16388, N  background 0,unable to generate class balanced samples.\n",
      "N foreground 16450, N  background 0,unable to generate class balanced samples.\n",
      "N foreground 10474, N  background 0,unable to generate class balanced samples.\n",
      "N foreground 13064, N  background 0,unable to generate class balanced samples.\n"
     ]
    },
    {
     "name": "stdout",
     "output_type": "stream",
     "text": [
      "1/13, train_loss: 0.3913\n",
      "2/13, train_loss: 0.3644\n",
      "3/13, train_loss: 0.3995\n",
      "4/13, train_loss: 0.3700\n",
      "5/13, train_loss: 0.3535\n",
      "6/13, train_loss: 0.3987\n",
      "7/13, train_loss: 0.4455\n",
      "8/13, train_loss: 0.4156\n",
      "9/13, train_loss: 0.3662\n",
      "10/13, train_loss: 0.3855\n",
      "11/13, train_loss: 0.4010\n",
      "12/13, train_loss: 0.3331\n",
      "13/13, train_loss: 0.3617\n",
      "epoch 10 average loss: 0.3835\n"
     ]
    },
    {
     "name": "stderr",
     "output_type": "stream",
     "text": [
      "N foreground 13981, N  background 0,unable to generate class balanced samples.\n",
      "N foreground 10539, N  background 0,unable to generate class balanced samples.\n",
      "N foreground 14149, N  background 0,unable to generate class balanced samples.\n",
      "N foreground 18264, N  background 0,unable to generate class balanced samples.\n",
      "N foreground 14351, N  background 0,unable to generate class balanced samples.\n",
      "N foreground 16021, N  background 0,unable to generate class balanced samples.\n",
      "N foreground 13080, N  background 0,unable to generate class balanced samples.\n",
      "N foreground 14458, N  background 0,unable to generate class balanced samples.\n",
      "N foreground 14199, N  background 0,unable to generate class balanced samples.\n"
     ]
    },
    {
     "name": "stdout",
     "output_type": "stream",
     "text": [
      "saved new best metric model\n",
      "current epoch: 10 current mean dice: 0.7153\n",
      "best mean dice: 0.7153at epoch: 10\n",
      "----------\n",
      "epoch 11/150\n"
     ]
    },
    {
     "name": "stderr",
     "output_type": "stream",
     "text": [
      "N foreground 16438, N  background 0,unable to generate class balanced samples.\n",
      "N foreground 13064, N  background 0,unable to generate class balanced samples.\n",
      "N foreground 22593, N  background 0,unable to generate class balanced samples.\n",
      "N foreground 14809, N  background 0,unable to generate class balanced samples.\n",
      "N foreground 16115, N  background 0,unable to generate class balanced samples.\n",
      "N foreground 10474, N  background 0,unable to generate class balanced samples.\n",
      "N foreground 10533, N  background 0,unable to generate class balanced samples.\n",
      "N foreground 12122, N  background 0,unable to generate class balanced samples.\n",
      "N foreground 15184, N  background 0,unable to generate class balanced samples.\n",
      "N foreground 15909, N  background 0,unable to generate class balanced samples.\n",
      "N foreground 13958, N  background 0,unable to generate class balanced samples.\n",
      "N foreground 17097, N  background 0,unable to generate class balanced samples.\n",
      "N foreground 13138, N  background 0,unable to generate class balanced samples.\n",
      "N foreground 14262, N  background 0,unable to generate class balanced samples.\n",
      "N foreground 19210, N  background 0,unable to generate class balanced samples.\n",
      "N foreground 16388, N  background 0,unable to generate class balanced samples.\n",
      "N foreground 15838, N  background 0,unable to generate class balanced samples.\n",
      "N foreground 17716, N  background 0,unable to generate class balanced samples.\n",
      "N foreground 16450, N  background 0,unable to generate class balanced samples.\n",
      "N foreground 8935, N  background 0,unable to generate class balanced samples.\n",
      "N foreground 10992, N  background 0,unable to generate class balanced samples.\n",
      "N foreground 16682, N  background 0,unable to generate class balanced samples.\n",
      "N foreground 13809, N  background 0,unable to generate class balanced samples.\n",
      "N foreground 14317, N  background 0,unable to generate class balanced samples.\n",
      "N foreground 15619, N  background 0,unable to generate class balanced samples.\n",
      "N foreground 14230, N  background 0,unable to generate class balanced samples.\n"
     ]
    },
    {
     "name": "stdout",
     "output_type": "stream",
     "text": [
      "1/13, train_loss: 0.3618\n",
      "2/13, train_loss: 0.3620\n",
      "3/13, train_loss: 0.3606\n",
      "4/13, train_loss: 0.3723\n",
      "5/13, train_loss: 0.3492\n",
      "6/13, train_loss: 0.3278\n",
      "7/13, train_loss: 0.3622\n",
      "8/13, train_loss: 0.3303\n",
      "9/13, train_loss: 0.3228\n",
      "10/13, train_loss: 0.3071\n",
      "11/13, train_loss: 0.3581\n",
      "12/13, train_loss: 0.3309\n",
      "13/13, train_loss: 0.3032\n",
      "epoch 11 average loss: 0.3422\n"
     ]
    },
    {
     "name": "stderr",
     "output_type": "stream",
     "text": [
      "N foreground 18264, N  background 0,unable to generate class balanced samples.\n",
      "N foreground 13080, N  background 0,unable to generate class balanced samples.\n",
      "N foreground 16021, N  background 0,unable to generate class balanced samples.\n",
      "N foreground 14351, N  background 0,unable to generate class balanced samples.\n",
      "N foreground 10539, N  background 0,unable to generate class balanced samples.\n",
      "N foreground 14149, N  background 0,unable to generate class balanced samples.\n",
      "N foreground 13981, N  background 0,unable to generate class balanced samples.\n",
      "N foreground 14458, N  background 0,unable to generate class balanced samples.\n",
      "N foreground 14199, N  background 0,unable to generate class balanced samples.\n"
     ]
    },
    {
     "name": "stdout",
     "output_type": "stream",
     "text": [
      "current epoch: 11 current mean dice: 0.7053\n",
      "best mean dice: 0.7153at epoch: 10\n",
      "----------\n",
      "epoch 12/150\n"
     ]
    },
    {
     "name": "stderr",
     "output_type": "stream",
     "text": [
      "N foreground 13138, N  background 0,unable to generate class balanced samples.\n",
      "N foreground 15909, N  background 0,unable to generate class balanced samples.\n",
      "N foreground 15619, N  background 0,unable to generate class balanced samples.\n",
      "N foreground 16438, N  background 0,unable to generate class balanced samples.\n",
      "N foreground 10474, N  background 0,unable to generate class balanced samples.\n",
      "N foreground 14317, N  background 0,unable to generate class balanced samples.\n",
      "N foreground 10533, N  background 0,unable to generate class balanced samples.\n",
      "N foreground 19210, N  background 0,unable to generate class balanced samples.\n",
      "N foreground 14262, N  background 0,unable to generate class balanced samples.\n",
      "N foreground 13809, N  background 0,unable to generate class balanced samples.\n",
      "N foreground 16388, N  background 0,unable to generate class balanced samples.\n",
      "N foreground 17716, N  background 0,unable to generate class balanced samples.\n",
      "N foreground 16450, N  background 0,unable to generate class balanced samples.\n",
      "N foreground 17097, N  background 0,unable to generate class balanced samples.\n",
      "N foreground 14230, N  background 0,unable to generate class balanced samples.\n",
      "N foreground 22593, N  background 0,unable to generate class balanced samples.\n",
      "N foreground 15838, N  background 0,unable to generate class balanced samples.\n",
      "N foreground 12122, N  background 0,unable to generate class balanced samples.\n",
      "N foreground 15184, N  background 0,unable to generate class balanced samples.\n",
      "N foreground 13958, N  background 0,unable to generate class balanced samples.\n",
      "N foreground 16682, N  background 0,unable to generate class balanced samples.\n",
      "N foreground 14809, N  background 0,unable to generate class balanced samples.\n",
      "N foreground 16115, N  background 0,unable to generate class balanced samples.\n",
      "N foreground 10992, N  background 0,unable to generate class balanced samples.\n",
      "N foreground 13064, N  background 0,unable to generate class balanced samples.\n",
      "N foreground 8935, N  background 0,unable to generate class balanced samples.\n"
     ]
    },
    {
     "name": "stdout",
     "output_type": "stream",
     "text": [
      "1/13, train_loss: 0.3044\n",
      "2/13, train_loss: 0.2858\n",
      "3/13, train_loss: 0.2851\n",
      "4/13, train_loss: 0.3551\n",
      "5/13, train_loss: 0.3056\n",
      "6/13, train_loss: 0.3139\n",
      "7/13, train_loss: 0.3472\n",
      "8/13, train_loss: 0.2985\n",
      "9/13, train_loss: 0.3290\n",
      "10/13, train_loss: 0.3166\n",
      "11/13, train_loss: 0.3341\n",
      "12/13, train_loss: 0.2987\n",
      "13/13, train_loss: 0.3421\n",
      "epoch 12 average loss: 0.3166\n"
     ]
    },
    {
     "name": "stderr",
     "output_type": "stream",
     "text": [
      "N foreground 14149, N  background 0,unable to generate class balanced samples.\n",
      "N foreground 13981, N  background 0,unable to generate class balanced samples.\n",
      "N foreground 18264, N  background 0,unable to generate class balanced samples.\n",
      "N foreground 13080, N  background 0,unable to generate class balanced samples.\n",
      "N foreground 16021, N  background 0,unable to generate class balanced samples.\n",
      "N foreground 14351, N  background 0,unable to generate class balanced samples.\n",
      "N foreground 10539, N  background 0,unable to generate class balanced samples.\n",
      "N foreground 14458, N  background 0,unable to generate class balanced samples.\n",
      "N foreground 14199, N  background 0,unable to generate class balanced samples.\n"
     ]
    },
    {
     "name": "stdout",
     "output_type": "stream",
     "text": [
      "saved new best metric model\n",
      "current epoch: 12 current mean dice: 0.7468\n",
      "best mean dice: 0.7468at epoch: 12\n",
      "----------\n",
      "epoch 13/150\n"
     ]
    },
    {
     "name": "stderr",
     "output_type": "stream",
     "text": [
      "N foreground 16682, N  background 0,unable to generate class balanced samples.\n",
      "N foreground 16388, N  background 0,unable to generate class balanced samples.\n",
      "N foreground 13064, N  background 0,unable to generate class balanced samples.\n",
      "N foreground 10533, N  background 0,unable to generate class balanced samples.\n",
      "N foreground 12122, N  background 0,unable to generate class balanced samples.\n",
      "N foreground 13958, N  background 0,unable to generate class balanced samples.\n",
      "N foreground 10992, N  background 0,unable to generate class balanced samples.\n",
      "N foreground 16438, N  background 0,unable to generate class balanced samples.\n",
      "N foreground 13809, N  background 0,unable to generate class balanced samples.\n",
      "N foreground 16450, N  background 0,unable to generate class balanced samples.\n",
      "N foreground 17097, N  background 0,unable to generate class balanced samples.\n",
      "N foreground 16115, N  background 0,unable to generate class balanced samples.\n",
      "N foreground 15909, N  background 0,unable to generate class balanced samples.\n",
      "N foreground 15184, N  background 0,unable to generate class balanced samples.\n",
      "N foreground 14809, N  background 0,unable to generate class balanced samples.\n",
      "N foreground 15619, N  background 0,unable to generate class balanced samples.\n",
      "N foreground 15838, N  background 0,unable to generate class balanced samples.\n",
      "N foreground 22593, N  background 0,unable to generate class balanced samples.\n",
      "N foreground 14230, N  background 0,unable to generate class balanced samples.\n",
      "N foreground 17716, N  background 0,unable to generate class balanced samples.\n",
      "N foreground 10474, N  background 0,unable to generate class balanced samples.\n",
      "N foreground 8935, N  background 0,unable to generate class balanced samples.\n",
      "N foreground 14262, N  background 0,unable to generate class balanced samples.\n",
      "N foreground 13138, N  background 0,unable to generate class balanced samples.\n",
      "N foreground 19210, N  background 0,unable to generate class balanced samples.\n",
      "N foreground 14317, N  background 0,unable to generate class balanced samples.\n"
     ]
    },
    {
     "name": "stdout",
     "output_type": "stream",
     "text": [
      "1/13, train_loss: 0.2877\n",
      "2/13, train_loss: 0.3258\n",
      "3/13, train_loss: 0.3055\n",
      "4/13, train_loss: 0.2820\n",
      "5/13, train_loss: 0.2872\n",
      "6/13, train_loss: 0.3037\n",
      "7/13, train_loss: 0.2863\n",
      "8/13, train_loss: 0.3325\n",
      "9/13, train_loss: 0.2712\n",
      "10/13, train_loss: 0.2725\n",
      "11/13, train_loss: 0.3237\n",
      "12/13, train_loss: 0.2726\n",
      "13/13, train_loss: 0.3307\n",
      "epoch 13 average loss: 0.2986\n"
     ]
    },
    {
     "name": "stderr",
     "output_type": "stream",
     "text": [
      "N foreground 13080, N  background 0,unable to generate class balanced samples.\n",
      "N foreground 13981, N  background 0,unable to generate class balanced samples.\n",
      "N foreground 14149, N  background 0,unable to generate class balanced samples.\n",
      "N foreground 18264, N  background 0,unable to generate class balanced samples.\n",
      "N foreground 14351, N  background 0,unable to generate class balanced samples.\n",
      "N foreground 16021, N  background 0,unable to generate class balanced samples.\n",
      "N foreground 10539, N  background 0,unable to generate class balanced samples.\n",
      "N foreground 14458, N  background 0,unable to generate class balanced samples.\n",
      "N foreground 14199, N  background 0,unable to generate class balanced samples.\n"
     ]
    },
    {
     "name": "stdout",
     "output_type": "stream",
     "text": [
      "current epoch: 13 current mean dice: 0.7418\n",
      "best mean dice: 0.7468at epoch: 12\n",
      "----------\n",
      "epoch 14/150\n"
     ]
    },
    {
     "name": "stderr",
     "output_type": "stream",
     "text": [
      "N foreground 8935, N  background 0,unable to generate class balanced samples.\n",
      "N foreground 17716, N  background 0,unable to generate class balanced samples.\n",
      "N foreground 14262, N  background 0,unable to generate class balanced samples.\n",
      "N foreground 14317, N  background 0,unable to generate class balanced samples.\n",
      "N foreground 12122, N  background 0,unable to generate class balanced samples.\n",
      "N foreground 17097, N  background 0,unable to generate class balanced samples.\n",
      "N foreground 13064, N  background 0,unable to generate class balanced samples.\n",
      "N foreground 15184, N  background 0,unable to generate class balanced samples.\n",
      "N foreground 15619, N  background 0,unable to generate class balanced samples.\n",
      "N foreground 13809, N  background 0,unable to generate class balanced samples.\n",
      "N foreground 10992, N  background 0,unable to generate class balanced samples.\n",
      "N foreground 16388, N  background 0,unable to generate class balanced samples.\n",
      "N foreground 14809, N  background 0,unable to generate class balanced samples.\n",
      "N foreground 22593, N  background 0,unable to generate class balanced samples.\n",
      "N foreground 15909, N  background 0,unable to generate class balanced samples.\n",
      "N foreground 16438, N  background 0,unable to generate class balanced samples.\n",
      "N foreground 13138, N  background 0,unable to generate class balanced samples.\n",
      "N foreground 15838, N  background 0,unable to generate class balanced samples.\n",
      "N foreground 10533, N  background 0,unable to generate class balanced samples.\n",
      "N foreground 16450, N  background 0,unable to generate class balanced samples.\n",
      "N foreground 13958, N  background 0,unable to generate class balanced samples.\n",
      "N foreground 14230, N  background 0,unable to generate class balanced samples.\n",
      "N foreground 16682, N  background 0,unable to generate class balanced samples.\n",
      "N foreground 10474, N  background 0,unable to generate class balanced samples.\n",
      "N foreground 16115, N  background 0,unable to generate class balanced samples.\n",
      "N foreground 19210, N  background 0,unable to generate class balanced samples.\n"
     ]
    },
    {
     "name": "stdout",
     "output_type": "stream",
     "text": [
      "1/13, train_loss: 0.2551\n",
      "2/13, train_loss: 0.3006\n",
      "3/13, train_loss: 0.2500\n",
      "4/13, train_loss: 0.2828\n",
      "5/13, train_loss: 0.3134\n",
      "6/13, train_loss: 0.2847\n",
      "7/13, train_loss: 0.3333\n",
      "8/13, train_loss: 0.2749\n",
      "9/13, train_loss: 0.2957\n",
      "10/13, train_loss: 0.2637\n",
      "11/13, train_loss: 0.3081\n",
      "12/13, train_loss: 0.2953\n",
      "13/13, train_loss: 0.2655\n",
      "epoch 14 average loss: 0.2864\n"
     ]
    },
    {
     "name": "stderr",
     "output_type": "stream",
     "text": [
      "N foreground 14149, N  background 0,unable to generate class balanced samples.\n",
      "N foreground 10539, N  background 0,unable to generate class balanced samples.\n",
      "N foreground 18264, N  background 0,unable to generate class balanced samples.\n",
      "N foreground 13080, N  background 0,unable to generate class balanced samples.\n",
      "N foreground 13981, N  background 0,unable to generate class balanced samples.\n",
      "N foreground 16021, N  background 0,unable to generate class balanced samples.\n",
      "N foreground 14351, N  background 0,unable to generate class balanced samples.\n",
      "N foreground 14458, N  background 0,unable to generate class balanced samples.\n",
      "N foreground 14199, N  background 0,unable to generate class balanced samples.\n"
     ]
    },
    {
     "name": "stdout",
     "output_type": "stream",
     "text": [
      "saved new best metric model\n",
      "current epoch: 14 current mean dice: 0.7615\n",
      "best mean dice: 0.7615at epoch: 14\n",
      "----------\n",
      "epoch 15/150\n"
     ]
    },
    {
     "name": "stderr",
     "output_type": "stream",
     "text": [
      "N foreground 8935, N  background 0,unable to generate class balanced samples.\n",
      "N foreground 15619, N  background 0,unable to generate class balanced samples.\n",
      "N foreground 16438, N  background 0,unable to generate class balanced samples.\n",
      "N foreground 16682, N  background 0,unable to generate class balanced samples.\n",
      "N foreground 13138, N  background 0,unable to generate class balanced samples.\n",
      "N foreground 10992, N  background 0,unable to generate class balanced samples.\n",
      "N foreground 12122, N  background 0,unable to generate class balanced samples.\n",
      "N foreground 17716, N  background 0,unable to generate class balanced samples.\n",
      "N foreground 10474, N  background 0,unable to generate class balanced samples.\n",
      "N foreground 14809, N  background 0,unable to generate class balanced samples.\n",
      "N foreground 14262, N  background 0,unable to generate class balanced samples.\n",
      "N foreground 16115, N  background 0,unable to generate class balanced samples.\n",
      "N foreground 16388, N  background 0,unable to generate class balanced samples.\n",
      "N foreground 16450, N  background 0,unable to generate class balanced samples.\n",
      "N foreground 22593, N  background 0,unable to generate class balanced samples.\n",
      "N foreground 13064, N  background 0,unable to generate class balanced samples.\n",
      "N foreground 15909, N  background 0,unable to generate class balanced samples.\n",
      "N foreground 13809, N  background 0,unable to generate class balanced samples.\n",
      "N foreground 17097, N  background 0,unable to generate class balanced samples.\n",
      "N foreground 15184, N  background 0,unable to generate class balanced samples.\n",
      "N foreground 13958, N  background 0,unable to generate class balanced samples.\n",
      "N foreground 19210, N  background 0,unable to generate class balanced samples.\n",
      "N foreground 14317, N  background 0,unable to generate class balanced samples.\n",
      "N foreground 15838, N  background 0,unable to generate class balanced samples.\n",
      "N foreground 10533, N  background 0,unable to generate class balanced samples.\n",
      "N foreground 14230, N  background 0,unable to generate class balanced samples.\n"
     ]
    },
    {
     "name": "stdout",
     "output_type": "stream",
     "text": [
      "1/13, train_loss: 0.2653\n",
      "2/13, train_loss: 0.2699\n",
      "3/13, train_loss: 0.3131\n",
      "4/13, train_loss: 0.2858\n",
      "5/13, train_loss: 0.2927\n",
      "6/13, train_loss: 0.2816\n",
      "7/13, train_loss: 0.2609\n",
      "8/13, train_loss: 0.2417\n",
      "9/13, train_loss: 0.2744\n",
      "10/13, train_loss: 0.2980\n",
      "11/13, train_loss: 0.2688\n",
      "12/13, train_loss: 0.2531\n",
      "13/13, train_loss: 0.2834\n",
      "epoch 15 average loss: 0.2761\n"
     ]
    },
    {
     "name": "stderr",
     "output_type": "stream",
     "text": [
      "N foreground 10539, N  background 0,unable to generate class balanced samples.\n",
      "N foreground 13981, N  background 0,unable to generate class balanced samples.\n",
      "N foreground 18264, N  background 0,unable to generate class balanced samples.\n",
      "N foreground 16021, N  background 0,unable to generate class balanced samples.\n",
      "N foreground 13080, N  background 0,unable to generate class balanced samples.\n",
      "N foreground 14351, N  background 0,unable to generate class balanced samples.\n",
      "N foreground 14149, N  background 0,unable to generate class balanced samples.\n",
      "N foreground 14458, N  background 0,unable to generate class balanced samples.\n",
      "N foreground 14199, N  background 0,unable to generate class balanced samples.\n"
     ]
    },
    {
     "name": "stdout",
     "output_type": "stream",
     "text": [
      "saved new best metric model\n",
      "current epoch: 15 current mean dice: 0.7696\n",
      "best mean dice: 0.7696at epoch: 15\n",
      "----------\n",
      "epoch 16/150\n"
     ]
    },
    {
     "name": "stderr",
     "output_type": "stream",
     "text": [
      "N foreground 19210, N  background 0,unable to generate class balanced samples.\n",
      "N foreground 13138, N  background 0,unable to generate class balanced samples.\n",
      "N foreground 14317, N  background 0,unable to generate class balanced samples.\n",
      "N foreground 13064, N  background 0,unable to generate class balanced samples.\n",
      "N foreground 22593, N  background 0,unable to generate class balanced samples.\n",
      "N foreground 15184, N  background 0,unable to generate class balanced samples.\n",
      "N foreground 17716, N  background 0,unable to generate class balanced samples.\n",
      "N foreground 10992, N  background 0,unable to generate class balanced samples.\n",
      "N foreground 14262, N  background 0,unable to generate class balanced samples.\n",
      "N foreground 14230, N  background 0,unable to generate class balanced samples.\n",
      "N foreground 15909, N  background 0,unable to generate class balanced samples.\n",
      "N foreground 16682, N  background 0,unable to generate class balanced samples.\n",
      "N foreground 12122, N  background 0,unable to generate class balanced samples.\n",
      "N foreground 16450, N  background 0,unable to generate class balanced samples.\n",
      "N foreground 17097, N  background 0,unable to generate class balanced samples.\n",
      "N foreground 13809, N  background 0,unable to generate class balanced samples.\n",
      "N foreground 10533, N  background 0,unable to generate class balanced samples.\n",
      "N foreground 8935, N  background 0,unable to generate class balanced samples.\n",
      "N foreground 10474, N  background 0,unable to generate class balanced samples.\n",
      "N foreground 16438, N  background 0,unable to generate class balanced samples.\n",
      "N foreground 14809, N  background 0,unable to generate class balanced samples.\n",
      "N foreground 15838, N  background 0,unable to generate class balanced samples.\n",
      "N foreground 16388, N  background 0,unable to generate class balanced samples.\n",
      "N foreground 13958, N  background 0,unable to generate class balanced samples.\n",
      "N foreground 15619, N  background 0,unable to generate class balanced samples.\n",
      "N foreground 16115, N  background 0,unable to generate class balanced samples.\n"
     ]
    },
    {
     "name": "stdout",
     "output_type": "stream",
     "text": [
      "1/13, train_loss: 0.2645\n",
      "2/13, train_loss: 0.2694\n",
      "3/13, train_loss: 0.2533\n",
      "4/13, train_loss: 0.2254\n",
      "5/13, train_loss: 0.2793\n",
      "6/13, train_loss: 0.2495\n",
      "7/13, train_loss: 0.2539\n",
      "8/13, train_loss: 0.2495\n",
      "9/13, train_loss: 0.2917\n",
      "10/13, train_loss: 0.2695\n",
      "11/13, train_loss: 0.2899\n",
      "12/13, train_loss: 0.2773\n",
      "13/13, train_loss: 0.2545\n",
      "epoch 16 average loss: 0.2637\n"
     ]
    },
    {
     "name": "stderr",
     "output_type": "stream",
     "text": [
      "N foreground 14149, N  background 0,unable to generate class balanced samples.\n",
      "N foreground 16021, N  background 0,unable to generate class balanced samples.\n",
      "N foreground 13080, N  background 0,unable to generate class balanced samples.\n",
      "N foreground 18264, N  background 0,unable to generate class balanced samples.\n",
      "N foreground 13981, N  background 0,unable to generate class balanced samples.\n",
      "N foreground 14351, N  background 0,unable to generate class balanced samples.\n",
      "N foreground 10539, N  background 0,unable to generate class balanced samples.\n",
      "N foreground 14458, N  background 0,unable to generate class balanced samples.\n",
      "N foreground 14199, N  background 0,unable to generate class balanced samples.\n"
     ]
    },
    {
     "name": "stdout",
     "output_type": "stream",
     "text": [
      "saved new best metric model\n",
      "current epoch: 16 current mean dice: 0.7737\n",
      "best mean dice: 0.7737at epoch: 16\n",
      "----------\n",
      "epoch 17/150\n"
     ]
    },
    {
     "name": "stderr",
     "output_type": "stream",
     "text": [
      "N foreground 15184, N  background 0,unable to generate class balanced samples.\n",
      "N foreground 14317, N  background 0,unable to generate class balanced samples.\n",
      "N foreground 10474, N  background 0,unable to generate class balanced samples.\n",
      "N foreground 16388, N  background 0,unable to generate class balanced samples.\n",
      "N foreground 16438, N  background 0,unable to generate class balanced samples.\n",
      "N foreground 13064, N  background 0,unable to generate class balanced samples.\n",
      "N foreground 10533, N  background 0,unable to generate class balanced samples.\n",
      "N foreground 13138, N  background 0,unable to generate class balanced samples.\n",
      "N foreground 16450, N  background 0,unable to generate class balanced samples.\n",
      "N foreground 15619, N  background 0,unable to generate class balanced samples.\n",
      "N foreground 17097, N  background 0,unable to generate class balanced samples.\n",
      "N foreground 8935, N  background 0,unable to generate class balanced samples.\n",
      "N foreground 14230, N  background 0,unable to generate class balanced samples.\n",
      "N foreground 15909, N  background 0,unable to generate class balanced samples.\n",
      "N foreground 16682, N  background 0,unable to generate class balanced samples.\n",
      "N foreground 13958, N  background 0,unable to generate class balanced samples.\n",
      "N foreground 19210, N  background 0,unable to generate class balanced samples.\n",
      "N foreground 13809, N  background 0,unable to generate class balanced samples.\n",
      "N foreground 12122, N  background 0,unable to generate class balanced samples.\n",
      "N foreground 14262, N  background 0,unable to generate class balanced samples.\n",
      "N foreground 17716, N  background 0,unable to generate class balanced samples.\n",
      "N foreground 14809, N  background 0,unable to generate class balanced samples.\n",
      "N foreground 16115, N  background 0,unable to generate class balanced samples.\n",
      "N foreground 10992, N  background 0,unable to generate class balanced samples.\n",
      "N foreground 22593, N  background 0,unable to generate class balanced samples.\n",
      "N foreground 15838, N  background 0,unable to generate class balanced samples.\n"
     ]
    },
    {
     "name": "stdout",
     "output_type": "stream",
     "text": [
      "1/13, train_loss: 0.2492\n",
      "2/13, train_loss: 0.2658\n",
      "3/13, train_loss: 0.2604\n",
      "4/13, train_loss: 0.2739\n",
      "5/13, train_loss: 0.2684\n",
      "6/13, train_loss: 0.2825\n",
      "7/13, train_loss: 0.2618\n",
      "8/13, train_loss: 0.2558\n",
      "9/13, train_loss: 0.2440\n",
      "10/13, train_loss: 0.2875\n",
      "11/13, train_loss: 0.2409\n",
      "12/13, train_loss: 0.2425\n",
      "13/13, train_loss: 0.2736\n",
      "epoch 17 average loss: 0.2620\n"
     ]
    },
    {
     "name": "stderr",
     "output_type": "stream",
     "text": [
      "N foreground 10539, N  background 0,unable to generate class balanced samples.\n",
      "N foreground 13080, N  background 0,unable to generate class balanced samples.\n",
      "N foreground 16021, N  background 0,unable to generate class balanced samples.\n",
      "N foreground 18264, N  background 0,unable to generate class balanced samples.\n",
      "N foreground 13981, N  background 0,unable to generate class balanced samples.\n",
      "N foreground 14149, N  background 0,unable to generate class balanced samples.\n",
      "N foreground 14351, N  background 0,unable to generate class balanced samples.\n",
      "N foreground 14458, N  background 0,unable to generate class balanced samples.\n",
      "N foreground 14199, N  background 0,unable to generate class balanced samples.\n"
     ]
    },
    {
     "name": "stdout",
     "output_type": "stream",
     "text": [
      "saved new best metric model\n",
      "current epoch: 17 current mean dice: 0.7819\n",
      "best mean dice: 0.7819at epoch: 17\n",
      "----------\n",
      "epoch 18/150\n"
     ]
    },
    {
     "name": "stderr",
     "output_type": "stream",
     "text": [
      "N foreground 15909, N  background 0,unable to generate class balanced samples.\n",
      "N foreground 17716, N  background 0,unable to generate class balanced samples.\n",
      "N foreground 12122, N  background 0,unable to generate class balanced samples.\n",
      "N foreground 16115, N  background 0,unable to generate class balanced samples.\n",
      "N foreground 16438, N  background 0,unable to generate class balanced samples.\n",
      "N foreground 13064, N  background 0,unable to generate class balanced samples.\n",
      "N foreground 15619, N  background 0,unable to generate class balanced samples.\n",
      "N foreground 16450, N  background 0,unable to generate class balanced samples.\n",
      "N foreground 14230, N  background 0,unable to generate class balanced samples.\n",
      "N foreground 13958, N  background 0,unable to generate class balanced samples.\n",
      "N foreground 10533, N  background 0,unable to generate class balanced samples.\n",
      "N foreground 14317, N  background 0,unable to generate class balanced samples.\n",
      "N foreground 14262, N  background 0,unable to generate class balanced samples.\n",
      "N foreground 13138, N  background 0,unable to generate class balanced samples.\n",
      "N foreground 17097, N  background 0,unable to generate class balanced samples.\n",
      "N foreground 19210, N  background 0,unable to generate class balanced samples.\n",
      "N foreground 22593, N  background 0,unable to generate class balanced samples.\n",
      "N foreground 16682, N  background 0,unable to generate class balanced samples.\n",
      "N foreground 14809, N  background 0,unable to generate class balanced samples.\n",
      "N foreground 15838, N  background 0,unable to generate class balanced samples.\n",
      "N foreground 15184, N  background 0,unable to generate class balanced samples.\n",
      "N foreground 13809, N  background 0,unable to generate class balanced samples.\n",
      "N foreground 16388, N  background 0,unable to generate class balanced samples.\n",
      "N foreground 10992, N  background 0,unable to generate class balanced samples.\n",
      "N foreground 10474, N  background 0,unable to generate class balanced samples.\n",
      "N foreground 8935, N  background 0,unable to generate class balanced samples.\n"
     ]
    },
    {
     "name": "stdout",
     "output_type": "stream",
     "text": [
      "1/13, train_loss: 0.2332\n",
      "2/13, train_loss: 0.2460\n",
      "3/13, train_loss: 0.2502\n",
      "4/13, train_loss: 0.2480\n",
      "5/13, train_loss: 0.2284\n",
      "6/13, train_loss: 0.2547\n",
      "7/13, train_loss: 0.2696\n",
      "8/13, train_loss: 0.2375\n",
      "9/13, train_loss: 0.2461\n",
      "10/13, train_loss: 0.2771\n",
      "11/13, train_loss: 0.2868\n",
      "12/13, train_loss: 0.2790\n",
      "13/13, train_loss: 0.2507\n",
      "epoch 18 average loss: 0.2544\n"
     ]
    },
    {
     "name": "stderr",
     "output_type": "stream",
     "text": [
      "N foreground 14149, N  background 0,unable to generate class balanced samples.\n",
      "N foreground 18264, N  background 0,unable to generate class balanced samples.\n",
      "N foreground 13981, N  background 0,unable to generate class balanced samples.\n",
      "N foreground 13080, N  background 0,unable to generate class balanced samples.\n",
      "N foreground 16021, N  background 0,unable to generate class balanced samples.\n",
      "N foreground 10539, N  background 0,unable to generate class balanced samples.\n",
      "N foreground 14351, N  background 0,unable to generate class balanced samples.\n",
      "N foreground 14458, N  background 0,unable to generate class balanced samples.\n",
      "N foreground 14199, N  background 0,unable to generate class balanced samples.\n"
     ]
    },
    {
     "name": "stdout",
     "output_type": "stream",
     "text": [
      "current epoch: 18 current mean dice: 0.7805\n",
      "best mean dice: 0.7819at epoch: 17\n",
      "----------\n",
      "epoch 19/150\n"
     ]
    },
    {
     "name": "stderr",
     "output_type": "stream",
     "text": [
      "N foreground 13064, N  background 0,unable to generate class balanced samples.\n",
      "N foreground 15184, N  background 0,unable to generate class balanced samples.\n",
      "N foreground 14317, N  background 0,unable to generate class balanced samples.\n",
      "N foreground 16388, N  background 0,unable to generate class balanced samples.\n",
      "N foreground 19210, N  background 0,unable to generate class balanced samples.\n",
      "N foreground 16450, N  background 0,unable to generate class balanced samples.\n",
      "N foreground 14809, N  background 0,unable to generate class balanced samples.\n",
      "N foreground 13958, N  background 0,unable to generate class balanced samples.\n",
      "N foreground 10992, N  background 0,unable to generate class balanced samples.\n",
      "N foreground 15619, N  background 0,unable to generate class balanced samples.\n",
      "N foreground 15909, N  background 0,unable to generate class balanced samples.\n",
      "N foreground 12122, N  background 0,unable to generate class balanced samples.\n",
      "N foreground 16682, N  background 0,unable to generate class balanced samples.\n",
      "N foreground 16438, N  background 0,unable to generate class balanced samples.\n",
      "N foreground 13138, N  background 0,unable to generate class balanced samples.\n",
      "N foreground 14262, N  background 0,unable to generate class balanced samples.\n",
      "N foreground 10474, N  background 0,unable to generate class balanced samples.\n",
      "N foreground 16115, N  background 0,unable to generate class balanced samples.\n",
      "N foreground 14230, N  background 0,unable to generate class balanced samples.\n",
      "N foreground 17716, N  background 0,unable to generate class balanced samples.\n",
      "N foreground 22593, N  background 0,unable to generate class balanced samples.\n",
      "N foreground 13809, N  background 0,unable to generate class balanced samples.\n",
      "N foreground 17097, N  background 0,unable to generate class balanced samples.\n",
      "N foreground 8935, N  background 0,unable to generate class balanced samples.\n",
      "N foreground 15838, N  background 0,unable to generate class balanced samples.\n",
      "N foreground 10533, N  background 0,unable to generate class balanced samples.\n"
     ]
    },
    {
     "name": "stdout",
     "output_type": "stream",
     "text": [
      "1/13, train_loss: 0.2665\n",
      "2/13, train_loss: 0.2405\n",
      "3/13, train_loss: 0.2823\n",
      "4/13, train_loss: 0.2477\n",
      "5/13, train_loss: 0.2635\n",
      "6/13, train_loss: 0.2794\n",
      "7/13, train_loss: 0.2575\n",
      "8/13, train_loss: 0.2360\n",
      "9/13, train_loss: 0.2634\n",
      "10/13, train_loss: 0.2278\n",
      "11/13, train_loss: 0.2239\n",
      "12/13, train_loss: 0.2528\n",
      "13/13, train_loss: 0.2787\n",
      "epoch 19 average loss: 0.2554\n"
     ]
    },
    {
     "name": "stderr",
     "output_type": "stream",
     "text": [
      "N foreground 16021, N  background 0,unable to generate class balanced samples.\n",
      "N foreground 13981, N  background 0,unable to generate class balanced samples.\n",
      "N foreground 13080, N  background 0,unable to generate class balanced samples.\n",
      "N foreground 18264, N  background 0,unable to generate class balanced samples.\n",
      "N foreground 10539, N  background 0,unable to generate class balanced samples.\n",
      "N foreground 14149, N  background 0,unable to generate class balanced samples.\n",
      "N foreground 14351, N  background 0,unable to generate class balanced samples.\n",
      "N foreground 14458, N  background 0,unable to generate class balanced samples.\n",
      "N foreground 14199, N  background 0,unable to generate class balanced samples.\n"
     ]
    },
    {
     "name": "stdout",
     "output_type": "stream",
     "text": [
      "saved new best metric model\n",
      "current epoch: 19 current mean dice: 0.7980\n",
      "best mean dice: 0.7980at epoch: 19\n",
      "----------\n",
      "epoch 20/150\n"
     ]
    },
    {
     "name": "stderr",
     "output_type": "stream",
     "text": [
      "N foreground 19210, N  background 0,unable to generate class balanced samples.\n",
      "N foreground 10533, N  background 0,unable to generate class balanced samples.\n",
      "N foreground 14262, N  background 0,unable to generate class balanced samples.\n",
      "N foreground 17097, N  background 0,unable to generate class balanced samples.\n",
      "N foreground 10992, N  background 0,unable to generate class balanced samples.\n",
      "N foreground 16682, N  background 0,unable to generate class balanced samples.\n",
      "N foreground 13064, N  background 0,unable to generate class balanced samples.\n",
      "N foreground 14809, N  background 0,unable to generate class balanced samples.\n",
      "N foreground 13958, N  background 0,unable to generate class balanced samples.\n",
      "N foreground 15184, N  background 0,unable to generate class balanced samples.\n",
      "N foreground 15909, N  background 0,unable to generate class balanced samples.\n",
      "N foreground 16438, N  background 0,unable to generate class balanced samples.\n",
      "N foreground 13138, N  background 0,unable to generate class balanced samples.\n",
      "N foreground 12122, N  background 0,unable to generate class balanced samples.\n",
      "N foreground 8935, N  background 0,unable to generate class balanced samples.\n",
      "N foreground 14317, N  background 0,unable to generate class balanced samples.\n",
      "N foreground 22593, N  background 0,unable to generate class balanced samples.\n",
      "N foreground 15619, N  background 0,unable to generate class balanced samples.\n",
      "N foreground 10474, N  background 0,unable to generate class balanced samples.\n",
      "N foreground 16115, N  background 0,unable to generate class balanced samples.\n",
      "N foreground 13809, N  background 0,unable to generate class balanced samples.\n",
      "N foreground 17716, N  background 0,unable to generate class balanced samples.\n",
      "N foreground 15838, N  background 0,unable to generate class balanced samples.\n",
      "N foreground 16450, N  background 0,unable to generate class balanced samples.\n",
      "N foreground 14230, N  background 0,unable to generate class balanced samples.\n",
      "N foreground 16388, N  background 0,unable to generate class balanced samples.\n"
     ]
    },
    {
     "name": "stdout",
     "output_type": "stream",
     "text": [
      "1/13, train_loss: 0.2717\n",
      "2/13, train_loss: 0.2490\n",
      "3/13, train_loss: 0.2568\n",
      "4/13, train_loss: 0.2493\n",
      "5/13, train_loss: 0.2481\n",
      "6/13, train_loss: 0.2720\n",
      "7/13, train_loss: 0.2150\n",
      "8/13, train_loss: 0.2821\n",
      "9/13, train_loss: 0.2367\n",
      "10/13, train_loss: 0.2452\n",
      "11/13, train_loss: 0.2159\n",
      "12/13, train_loss: 0.2531\n",
      "13/13, train_loss: 0.2231\n",
      "epoch 20 average loss: 0.2475\n"
     ]
    },
    {
     "name": "stderr",
     "output_type": "stream",
     "text": [
      "N foreground 13981, N  background 0,unable to generate class balanced samples.\n",
      "N foreground 13080, N  background 0,unable to generate class balanced samples.\n",
      "N foreground 18264, N  background 0,unable to generate class balanced samples.\n",
      "N foreground 14351, N  background 0,unable to generate class balanced samples.\n",
      "N foreground 10539, N  background 0,unable to generate class balanced samples.\n",
      "N foreground 16021, N  background 0,unable to generate class balanced samples.\n",
      "N foreground 14149, N  background 0,unable to generate class balanced samples.\n",
      "N foreground 14458, N  background 0,unable to generate class balanced samples.\n",
      "N foreground 14199, N  background 0,unable to generate class balanced samples.\n"
     ]
    },
    {
     "name": "stdout",
     "output_type": "stream",
     "text": [
      "saved new best metric model\n",
      "current epoch: 20 current mean dice: 0.8041\n",
      "best mean dice: 0.8041at epoch: 20\n",
      "----------\n",
      "epoch 21/150\n"
     ]
    },
    {
     "name": "stderr",
     "output_type": "stream",
     "text": [
      "N foreground 14262, N  background 0,unable to generate class balanced samples.\n",
      "N foreground 15184, N  background 0,unable to generate class balanced samples.\n",
      "N foreground 13138, N  background 0,unable to generate class balanced samples.\n",
      "N foreground 16450, N  background 0,unable to generate class balanced samples.\n",
      "N foreground 14317, N  background 0,unable to generate class balanced samples.\n",
      "N foreground 14230, N  background 0,unable to generate class balanced samples.\n",
      "N foreground 22593, N  background 0,unable to generate class balanced samples.\n",
      "N foreground 16115, N  background 0,unable to generate class balanced samples.\n",
      "N foreground 16438, N  background 0,unable to generate class balanced samples.\n",
      "N foreground 13064, N  background 0,unable to generate class balanced samples.\n",
      "N foreground 12122, N  background 0,unable to generate class balanced samples.\n",
      "N foreground 15909, N  background 0,unable to generate class balanced samples.\n",
      "N foreground 15838, N  background 0,unable to generate class balanced samples.\n",
      "N foreground 13958, N  background 0,unable to generate class balanced samples.\n",
      "N foreground 10992, N  background 0,unable to generate class balanced samples.\n",
      "N foreground 8935, N  background 0,unable to generate class balanced samples.\n",
      "N foreground 10533, N  background 0,unable to generate class balanced samples.\n",
      "N foreground 13809, N  background 0,unable to generate class balanced samples.\n",
      "N foreground 17097, N  background 0,unable to generate class balanced samples.\n",
      "N foreground 15619, N  background 0,unable to generate class balanced samples.\n",
      "N foreground 16682, N  background 0,unable to generate class balanced samples.\n",
      "N foreground 19210, N  background 0,unable to generate class balanced samples.\n",
      "N foreground 16388, N  background 0,unable to generate class balanced samples.\n",
      "N foreground 14809, N  background 0,unable to generate class balanced samples.\n",
      "N foreground 17716, N  background 0,unable to generate class balanced samples.\n",
      "N foreground 10474, N  background 0,unable to generate class balanced samples.\n"
     ]
    },
    {
     "name": "stdout",
     "output_type": "stream",
     "text": [
      "1/13, train_loss: 0.2369\n",
      "2/13, train_loss: 0.2374\n",
      "3/13, train_loss: 0.2295\n",
      "4/13, train_loss: 0.2403\n",
      "5/13, train_loss: 0.2109\n",
      "6/13, train_loss: 0.2404\n",
      "7/13, train_loss: 0.2514\n",
      "8/13, train_loss: 0.2531\n",
      "9/13, train_loss: 0.2483\n",
      "10/13, train_loss: 0.2588\n",
      "11/13, train_loss: 0.2107\n",
      "12/13, train_loss: 0.2469\n",
      "13/13, train_loss: 0.2124\n",
      "epoch 21 average loss: 0.2367\n"
     ]
    },
    {
     "name": "stderr",
     "output_type": "stream",
     "text": [
      "N foreground 13981, N  background 0,unable to generate class balanced samples.\n",
      "N foreground 10539, N  background 0,unable to generate class balanced samples.\n",
      "N foreground 14149, N  background 0,unable to generate class balanced samples.\n",
      "N foreground 16021, N  background 0,unable to generate class balanced samples.\n",
      "N foreground 18264, N  background 0,unable to generate class balanced samples.\n",
      "N foreground 14351, N  background 0,unable to generate class balanced samples.\n",
      "N foreground 13080, N  background 0,unable to generate class balanced samples.\n",
      "N foreground 14458, N  background 0,unable to generate class balanced samples.\n",
      "N foreground 14199, N  background 0,unable to generate class balanced samples.\n"
     ]
    },
    {
     "name": "stdout",
     "output_type": "stream",
     "text": [
      "saved new best metric model\n",
      "current epoch: 21 current mean dice: 0.8044\n",
      "best mean dice: 0.8044at epoch: 21\n",
      "----------\n",
      "epoch 22/150\n"
     ]
    },
    {
     "name": "stderr",
     "output_type": "stream",
     "text": [
      "N foreground 16682, N  background 0,unable to generate class balanced samples.\n",
      "N foreground 13064, N  background 0,unable to generate class balanced samples.\n",
      "N foreground 10992, N  background 0,unable to generate class balanced samples.\n",
      "N foreground 16438, N  background 0,unable to generate class balanced samples.\n",
      "N foreground 15184, N  background 0,unable to generate class balanced samples.\n",
      "N foreground 16388, N  background 0,unable to generate class balanced samples.\n",
      "N foreground 14317, N  background 0,unable to generate class balanced samples.\n",
      "N foreground 10533, N  background 0,unable to generate class balanced samples.\n",
      "N foreground 16450, N  background 0,unable to generate class balanced samples.\n",
      "N foreground 15838, N  background 0,unable to generate class balanced samples.\n",
      "N foreground 8935, N  background 0,unable to generate class balanced samples.\n",
      "N foreground 14809, N  background 0,unable to generate class balanced samples.\n",
      "N foreground 13138, N  background 0,unable to generate class balanced samples.\n",
      "N foreground 13809, N  background 0,unable to generate class balanced samples.\n",
      "N foreground 14262, N  background 0,unable to generate class balanced samples.\n",
      "N foreground 19210, N  background 0,unable to generate class balanced samples.\n",
      "N foreground 22593, N  background 0,unable to generate class balanced samples.\n",
      "N foreground 14230, N  background 0,unable to generate class balanced samples.\n",
      "N foreground 12122, N  background 0,unable to generate class balanced samples.\n",
      "N foreground 13958, N  background 0,unable to generate class balanced samples.\n",
      "N foreground 15619, N  background 0,unable to generate class balanced samples.\n",
      "N foreground 17097, N  background 0,unable to generate class balanced samples.\n",
      "N foreground 17716, N  background 0,unable to generate class balanced samples.\n",
      "N foreground 15909, N  background 0,unable to generate class balanced samples.\n",
      "N foreground 16115, N  background 0,unable to generate class balanced samples.\n",
      "N foreground 10474, N  background 0,unable to generate class balanced samples.\n"
     ]
    },
    {
     "name": "stdout",
     "output_type": "stream",
     "text": [
      "1/13, train_loss: 0.2534\n",
      "2/13, train_loss: 0.1973\n",
      "3/13, train_loss: 0.2386\n",
      "4/13, train_loss: 0.2613\n",
      "5/13, train_loss: 0.2414\n",
      "6/13, train_loss: 0.2340\n",
      "7/13, train_loss: 0.2266\n",
      "8/13, train_loss: 0.2431\n",
      "9/13, train_loss: 0.2355\n",
      "10/13, train_loss: 0.2354\n",
      "11/13, train_loss: 0.2471\n",
      "12/13, train_loss: 0.2136\n",
      "13/13, train_loss: 0.2191\n",
      "epoch 22 average loss: 0.2343\n"
     ]
    },
    {
     "name": "stderr",
     "output_type": "stream",
     "text": [
      "N foreground 13981, N  background 0,unable to generate class balanced samples.\n",
      "N foreground 10539, N  background 0,unable to generate class balanced samples.\n",
      "N foreground 16021, N  background 0,unable to generate class balanced samples.\n",
      "N foreground 14351, N  background 0,unable to generate class balanced samples.\n",
      "N foreground 13080, N  background 0,unable to generate class balanced samples.\n",
      "N foreground 14149, N  background 0,unable to generate class balanced samples.\n",
      "N foreground 18264, N  background 0,unable to generate class balanced samples.\n",
      "N foreground 14458, N  background 0,unable to generate class balanced samples.\n",
      "N foreground 14199, N  background 0,unable to generate class balanced samples.\n"
     ]
    },
    {
     "name": "stdout",
     "output_type": "stream",
     "text": [
      "saved new best metric model\n",
      "current epoch: 22 current mean dice: 0.8076\n",
      "best mean dice: 0.8076at epoch: 22\n",
      "----------\n",
      "epoch 23/150\n"
     ]
    },
    {
     "name": "stderr",
     "output_type": "stream",
     "text": [
      "N foreground 15619, N  background 0,unable to generate class balanced samples.\n",
      "N foreground 16682, N  background 0,unable to generate class balanced samples.\n",
      "N foreground 14317, N  background 0,unable to generate class balanced samples.\n",
      "N foreground 19210, N  background 0,unable to generate class balanced samples.\n",
      "N foreground 8935, N  background 0,unable to generate class balanced samples.\n",
      "N foreground 17097, N  background 0,unable to generate class balanced samples.\n",
      "N foreground 15838, N  background 0,unable to generate class balanced samples.\n",
      "N foreground 10474, N  background 0,unable to generate class balanced samples.\n",
      "N foreground 22593, N  background 0,unable to generate class balanced samples.\n",
      "N foreground 14230, N  background 0,unable to generate class balanced samples.\n",
      "N foreground 17716, N  background 0,unable to generate class balanced samples.\n",
      "N foreground 10992, N  background 0,unable to generate class balanced samples.\n",
      "N foreground 15909, N  background 0,unable to generate class balanced samples.\n",
      "N foreground 16388, N  background 0,unable to generate class balanced samples.\n",
      "N foreground 10533, N  background 0,unable to generate class balanced samples.\n",
      "N foreground 13809, N  background 0,unable to generate class balanced samples.\n",
      "N foreground 14262, N  background 0,unable to generate class balanced samples.\n",
      "N foreground 16438, N  background 0,unable to generate class balanced samples.\n",
      "N foreground 16450, N  background 0,unable to generate class balanced samples.\n",
      "N foreground 14809, N  background 0,unable to generate class balanced samples.\n",
      "N foreground 12122, N  background 0,unable to generate class balanced samples.\n",
      "N foreground 13064, N  background 0,unable to generate class balanced samples.\n",
      "N foreground 16115, N  background 0,unable to generate class balanced samples.\n",
      "N foreground 13958, N  background 0,unable to generate class balanced samples.\n",
      "N foreground 15184, N  background 0,unable to generate class balanced samples.\n",
      "N foreground 13138, N  background 0,unable to generate class balanced samples.\n"
     ]
    },
    {
     "name": "stdout",
     "output_type": "stream",
     "text": [
      "1/13, train_loss: 0.2076\n",
      "2/13, train_loss: 0.2147\n",
      "3/13, train_loss: 0.2229\n",
      "4/13, train_loss: 0.2572\n",
      "5/13, train_loss: 0.2218\n",
      "6/13, train_loss: 0.2341\n",
      "7/13, train_loss: 0.2268\n",
      "8/13, train_loss: 0.2358\n",
      "9/13, train_loss: 0.2565\n",
      "10/13, train_loss: 0.2191\n",
      "11/13, train_loss: 0.2113\n",
      "12/13, train_loss: 0.2131\n",
      "13/13, train_loss: 0.2315\n",
      "epoch 23 average loss: 0.2271\n"
     ]
    },
    {
     "name": "stderr",
     "output_type": "stream",
     "text": [
      "N foreground 13981, N  background 0,unable to generate class balanced samples.\n",
      "N foreground 13080, N  background 0,unable to generate class balanced samples.\n",
      "N foreground 18264, N  background 0,unable to generate class balanced samples.\n",
      "N foreground 10539, N  background 0,unable to generate class balanced samples.\n",
      "N foreground 14351, N  background 0,unable to generate class balanced samples.\n",
      "N foreground 16021, N  background 0,unable to generate class balanced samples.\n",
      "N foreground 14149, N  background 0,unable to generate class balanced samples.\n",
      "N foreground 14458, N  background 0,unable to generate class balanced samples.\n",
      "N foreground 14199, N  background 0,unable to generate class balanced samples.\n"
     ]
    },
    {
     "name": "stdout",
     "output_type": "stream",
     "text": [
      "saved new best metric model\n",
      "current epoch: 23 current mean dice: 0.8141\n",
      "best mean dice: 0.8141at epoch: 23\n",
      "----------\n",
      "epoch 24/150\n"
     ]
    },
    {
     "name": "stderr",
     "output_type": "stream",
     "text": [
      "N foreground 10992, N  background 0,unable to generate class balanced samples.\n",
      "N foreground 15619, N  background 0,unable to generate class balanced samples.\n",
      "N foreground 13809, N  background 0,unable to generate class balanced samples.\n",
      "N foreground 22593, N  background 0,unable to generate class balanced samples.\n",
      "N foreground 19210, N  background 0,unable to generate class balanced samples.\n",
      "N foreground 10533, N  background 0,unable to generate class balanced samples.\n",
      "N foreground 14230, N  background 0,unable to generate class balanced samples.\n",
      "N foreground 13138, N  background 0,unable to generate class balanced samples.\n",
      "N foreground 17716, N  background 0,unable to generate class balanced samples.\n",
      "N foreground 16450, N  background 0,unable to generate class balanced samples.\n",
      "N foreground 16388, N  background 0,unable to generate class balanced samples.\n",
      "N foreground 16115, N  background 0,unable to generate class balanced samples.\n",
      "N foreground 12122, N  background 0,unable to generate class balanced samples.\n",
      "N foreground 8935, N  background 0,unable to generate class balanced samples.\n",
      "N foreground 17097, N  background 0,unable to generate class balanced samples.\n",
      "N foreground 15838, N  background 0,unable to generate class balanced samples.\n",
      "N foreground 10474, N  background 0,unable to generate class balanced samples.\n",
      "N foreground 14809, N  background 0,unable to generate class balanced samples.\n",
      "N foreground 13958, N  background 0,unable to generate class balanced samples.\n",
      "N foreground 16682, N  background 0,unable to generate class balanced samples.\n",
      "N foreground 13064, N  background 0,unable to generate class balanced samples.\n",
      "N foreground 15909, N  background 0,unable to generate class balanced samples.\n",
      "N foreground 14317, N  background 0,unable to generate class balanced samples.\n",
      "N foreground 15184, N  background 0,unable to generate class balanced samples.\n",
      "N foreground 14262, N  background 0,unable to generate class balanced samples.\n",
      "N foreground 16438, N  background 0,unable to generate class balanced samples.\n"
     ]
    },
    {
     "name": "stdout",
     "output_type": "stream",
     "text": [
      "1/13, train_loss: 0.2080\n",
      "2/13, train_loss: 0.2362\n",
      "3/13, train_loss: 0.2047\n",
      "4/13, train_loss: 0.2194\n",
      "5/13, train_loss: 0.2062\n",
      "6/13, train_loss: 0.2161\n",
      "7/13, train_loss: 0.2300\n",
      "8/13, train_loss: 0.2237\n",
      "9/13, train_loss: 0.2490\n",
      "10/13, train_loss: 0.2215\n",
      "11/13, train_loss: 0.2517\n",
      "12/13, train_loss: 0.2124\n",
      "13/13, train_loss: 0.2323\n",
      "epoch 24 average loss: 0.2239\n"
     ]
    },
    {
     "name": "stderr",
     "output_type": "stream",
     "text": [
      "N foreground 16021, N  background 0,unable to generate class balanced samples.\n",
      "N foreground 10539, N  background 0,unable to generate class balanced samples.\n",
      "N foreground 14149, N  background 0,unable to generate class balanced samples.\n",
      "N foreground 13981, N  background 0,unable to generate class balanced samples.\n",
      "N foreground 18264, N  background 0,unable to generate class balanced samples.\n",
      "N foreground 14351, N  background 0,unable to generate class balanced samples.\n",
      "N foreground 13080, N  background 0,unable to generate class balanced samples.\n",
      "N foreground 14458, N  background 0,unable to generate class balanced samples.\n",
      "N foreground 14199, N  background 0,unable to generate class balanced samples.\n"
     ]
    },
    {
     "name": "stdout",
     "output_type": "stream",
     "text": [
      "saved new best metric model\n",
      "current epoch: 24 current mean dice: 0.8186\n",
      "best mean dice: 0.8186at epoch: 24\n",
      "----------\n",
      "epoch 25/150\n"
     ]
    },
    {
     "name": "stderr",
     "output_type": "stream",
     "text": [
      "N foreground 14230, N  background 0,unable to generate class balanced samples.\n",
      "N foreground 10533, N  background 0,unable to generate class balanced samples.\n",
      "N foreground 10992, N  background 0,unable to generate class balanced samples.\n",
      "N foreground 16682, N  background 0,unable to generate class balanced samples.\n",
      "N foreground 13958, N  background 0,unable to generate class balanced samples.\n",
      "N foreground 12122, N  background 0,unable to generate class balanced samples.\n",
      "N foreground 15619, N  background 0,unable to generate class balanced samples.\n",
      "N foreground 14262, N  background 0,unable to generate class balanced samples.\n",
      "N foreground 13064, N  background 0,unable to generate class balanced samples.\n",
      "N foreground 16450, N  background 0,unable to generate class balanced samples.\n",
      "N foreground 13138, N  background 0,unable to generate class balanced samples.\n",
      "N foreground 14809, N  background 0,unable to generate class balanced samples.\n",
      "N foreground 14317, N  background 0,unable to generate class balanced samples.\n",
      "N foreground 16388, N  background 0,unable to generate class balanced samples.\n",
      "N foreground 8935, N  background 0,unable to generate class balanced samples.\n",
      "N foreground 10474, N  background 0,unable to generate class balanced samples.\n",
      "N foreground 15184, N  background 0,unable to generate class balanced samples.\n",
      "N foreground 16115, N  background 0,unable to generate class balanced samples.\n",
      "N foreground 22593, N  background 0,unable to generate class balanced samples.\n",
      "N foreground 19210, N  background 0,unable to generate class balanced samples.\n",
      "N foreground 16438, N  background 0,unable to generate class balanced samples.\n",
      "N foreground 15838, N  background 0,unable to generate class balanced samples.\n",
      "N foreground 17716, N  background 0,unable to generate class balanced samples.\n",
      "N foreground 15909, N  background 0,unable to generate class balanced samples.\n",
      "N foreground 17097, N  background 0,unable to generate class balanced samples.\n",
      "N foreground 13809, N  background 0,unable to generate class balanced samples.\n"
     ]
    },
    {
     "name": "stdout",
     "output_type": "stream",
     "text": [
      "1/13, train_loss: 0.2484\n",
      "2/13, train_loss: 0.2378\n",
      "3/13, train_loss: 0.2029\n",
      "4/13, train_loss: 0.2197\n",
      "5/13, train_loss: 0.2161\n",
      "6/13, train_loss: 0.2218\n",
      "7/13, train_loss: 0.2249\n",
      "8/13, train_loss: 0.2211\n",
      "9/13, train_loss: 0.2102\n",
      "10/13, train_loss: 0.2122\n",
      "11/13, train_loss: 0.2290\n",
      "12/13, train_loss: 0.1971\n",
      "13/13, train_loss: 0.1973\n",
      "epoch 25 average loss: 0.2184\n"
     ]
    },
    {
     "name": "stderr",
     "output_type": "stream",
     "text": [
      "N foreground 14351, N  background 0,unable to generate class balanced samples.\n",
      "N foreground 10539, N  background 0,unable to generate class balanced samples.\n",
      "N foreground 16021, N  background 0,unable to generate class balanced samples.\n",
      "N foreground 18264, N  background 0,unable to generate class balanced samples.\n",
      "N foreground 13080, N  background 0,unable to generate class balanced samples.\n",
      "N foreground 13981, N  background 0,unable to generate class balanced samples.\n",
      "N foreground 14149, N  background 0,unable to generate class balanced samples.\n",
      "N foreground 14458, N  background 0,unable to generate class balanced samples.\n",
      "N foreground 14199, N  background 0,unable to generate class balanced samples.\n"
     ]
    },
    {
     "name": "stdout",
     "output_type": "stream",
     "text": [
      "current epoch: 25 current mean dice: 0.8159\n",
      "best mean dice: 0.8186at epoch: 24\n",
      "----------\n",
      "epoch 26/150\n"
     ]
    },
    {
     "name": "stderr",
     "output_type": "stream",
     "text": [
      "N foreground 19210, N  background 0,unable to generate class balanced samples.\n",
      "N foreground 17716, N  background 0,unable to generate class balanced samples.\n",
      "N foreground 8935, N  background 0,unable to generate class balanced samples.\n",
      "N foreground 15184, N  background 0,unable to generate class balanced samples.\n",
      "N foreground 10992, N  background 0,unable to generate class balanced samples.\n",
      "N foreground 16438, N  background 0,unable to generate class balanced samples.\n",
      "N foreground 10533, N  background 0,unable to generate class balanced samples.\n",
      "N foreground 13809, N  background 0,unable to generate class balanced samples.\n",
      "N foreground 16388, N  background 0,unable to generate class balanced samples.\n",
      "N foreground 16682, N  background 0,unable to generate class balanced samples.\n",
      "N foreground 14809, N  background 0,unable to generate class balanced samples.\n",
      "N foreground 14230, N  background 0,unable to generate class balanced samples.\n",
      "N foreground 10474, N  background 0,unable to generate class balanced samples.\n",
      "N foreground 16450, N  background 0,unable to generate class balanced samples.\n",
      "N foreground 22593, N  background 0,unable to generate class balanced samples.\n",
      "N foreground 13064, N  background 0,unable to generate class balanced samples.\n",
      "N foreground 17097, N  background 0,unable to generate class balanced samples.\n",
      "N foreground 15619, N  background 0,unable to generate class balanced samples.\n",
      "N foreground 12122, N  background 0,unable to generate class balanced samples.\n",
      "N foreground 14262, N  background 0,unable to generate class balanced samples.\n",
      "N foreground 13958, N  background 0,unable to generate class balanced samples.\n",
      "N foreground 15838, N  background 0,unable to generate class balanced samples.\n",
      "N foreground 13138, N  background 0,unable to generate class balanced samples.\n",
      "N foreground 16115, N  background 0,unable to generate class balanced samples.\n",
      "N foreground 15909, N  background 0,unable to generate class balanced samples.\n",
      "N foreground 14317, N  background 0,unable to generate class balanced samples.\n"
     ]
    },
    {
     "name": "stdout",
     "output_type": "stream",
     "text": [
      "1/13, train_loss: 0.2154\n",
      "2/13, train_loss: 0.2186\n",
      "3/13, train_loss: 0.2048\n",
      "4/13, train_loss: 0.2106\n",
      "5/13, train_loss: 0.2460\n",
      "6/13, train_loss: 0.1988\n",
      "7/13, train_loss: 0.2567\n",
      "8/13, train_loss: 0.2116\n",
      "9/13, train_loss: 0.2221\n",
      "10/13, train_loss: 0.2092\n",
      "11/13, train_loss: 0.1951\n",
      "12/13, train_loss: 0.2306\n",
      "13/13, train_loss: 0.2027\n",
      "epoch 26 average loss: 0.2171\n"
     ]
    },
    {
     "name": "stderr",
     "output_type": "stream",
     "text": [
      "N foreground 13981, N  background 0,unable to generate class balanced samples.\n",
      "N foreground 14351, N  background 0,unable to generate class balanced samples.\n",
      "N foreground 13080, N  background 0,unable to generate class balanced samples.\n",
      "N foreground 16021, N  background 0,unable to generate class balanced samples.\n",
      "N foreground 10539, N  background 0,unable to generate class balanced samples.\n",
      "N foreground 18264, N  background 0,unable to generate class balanced samples.\n",
      "N foreground 14149, N  background 0,unable to generate class balanced samples.\n",
      "N foreground 14458, N  background 0,unable to generate class balanced samples.\n",
      "N foreground 14199, N  background 0,unable to generate class balanced samples.\n"
     ]
    },
    {
     "name": "stdout",
     "output_type": "stream",
     "text": [
      "current epoch: 26 current mean dice: 0.8151\n",
      "best mean dice: 0.8186at epoch: 24\n",
      "----------\n",
      "epoch 27/150\n"
     ]
    },
    {
     "name": "stderr",
     "output_type": "stream",
     "text": [
      "N foreground 17716, N  background 0,unable to generate class balanced samples.\n",
      "N foreground 10992, N  background 0,unable to generate class balanced samples.\n",
      "N foreground 22593, N  background 0,unable to generate class balanced samples.\n",
      "N foreground 15909, N  background 0,unable to generate class balanced samples.\n",
      "N foreground 13138, N  background 0,unable to generate class balanced samples.\n",
      "N foreground 16450, N  background 0,unable to generate class balanced samples.\n",
      "N foreground 16682, N  background 0,unable to generate class balanced samples.\n",
      "N foreground 13809, N  background 0,unable to generate class balanced samples.\n",
      "N foreground 14230, N  background 0,unable to generate class balanced samples.\n",
      "N foreground 14809, N  background 0,unable to generate class balanced samples.\n",
      "N foreground 15619, N  background 0,unable to generate class balanced samples.\n",
      "N foreground 14262, N  background 0,unable to generate class balanced samples.\n",
      "N foreground 16115, N  background 0,unable to generate class balanced samples.\n",
      "N foreground 13958, N  background 0,unable to generate class balanced samples.\n",
      "N foreground 16438, N  background 0,unable to generate class balanced samples.\n",
      "N foreground 14317, N  background 0,unable to generate class balanced samples.\n",
      "N foreground 15184, N  background 0,unable to generate class balanced samples.\n",
      "N foreground 19210, N  background 0,unable to generate class balanced samples.\n",
      "N foreground 10533, N  background 0,unable to generate class balanced samples.\n",
      "N foreground 12122, N  background 0,unable to generate class balanced samples.\n",
      "N foreground 8935, N  background 0,unable to generate class balanced samples.\n",
      "N foreground 16388, N  background 0,unable to generate class balanced samples.\n",
      "N foreground 13064, N  background 0,unable to generate class balanced samples.\n",
      "N foreground 10474, N  background 0,unable to generate class balanced samples.\n",
      "N foreground 17097, N  background 0,unable to generate class balanced samples.\n",
      "N foreground 15838, N  background 0,unable to generate class balanced samples.\n"
     ]
    },
    {
     "name": "stdout",
     "output_type": "stream",
     "text": [
      "1/13, train_loss: 0.2057\n",
      "2/13, train_loss: 0.1824\n",
      "3/13, train_loss: 0.2331\n",
      "4/13, train_loss: 0.1912\n",
      "5/13, train_loss: 0.2066\n",
      "6/13, train_loss: 0.2422\n",
      "7/13, train_loss: 0.2105\n",
      "8/13, train_loss: 0.2138\n",
      "9/13, train_loss: 0.2428\n",
      "10/13, train_loss: 0.2146\n",
      "11/13, train_loss: 0.2021\n",
      "12/13, train_loss: 0.2333\n",
      "13/13, train_loss: 0.2455\n",
      "epoch 27 average loss: 0.2172\n"
     ]
    },
    {
     "name": "stderr",
     "output_type": "stream",
     "text": [
      "N foreground 13080, N  background 0,unable to generate class balanced samples.\n",
      "N foreground 13981, N  background 0,unable to generate class balanced samples.\n",
      "N foreground 18264, N  background 0,unable to generate class balanced samples.\n",
      "N foreground 10539, N  background 0,unable to generate class balanced samples.\n",
      "N foreground 14351, N  background 0,unable to generate class balanced samples.\n",
      "N foreground 14149, N  background 0,unable to generate class balanced samples.\n",
      "N foreground 16021, N  background 0,unable to generate class balanced samples.\n",
      "N foreground 14458, N  background 0,unable to generate class balanced samples.\n",
      "N foreground 14199, N  background 0,unable to generate class balanced samples.\n"
     ]
    },
    {
     "name": "stdout",
     "output_type": "stream",
     "text": [
      "current epoch: 27 current mean dice: 0.8142\n",
      "best mean dice: 0.8186at epoch: 24\n",
      "----------\n",
      "epoch 28/150\n"
     ]
    },
    {
     "name": "stderr",
     "output_type": "stream",
     "text": [
      "N foreground 14809, N  background 0,unable to generate class balanced samples.\n",
      "N foreground 14317, N  background 0,unable to generate class balanced samples.\n",
      "N foreground 15184, N  background 0,unable to generate class balanced samples.\n",
      "N foreground 19210, N  background 0,unable to generate class balanced samples.\n",
      "N foreground 14262, N  background 0,unable to generate class balanced samples.\n",
      "N foreground 15619, N  background 0,unable to generate class balanced samples.\n",
      "N foreground 14230, N  background 0,unable to generate class balanced samples.\n",
      "N foreground 10474, N  background 0,unable to generate class balanced samples.\n",
      "N foreground 22593, N  background 0,unable to generate class balanced samples.\n",
      "N foreground 12122, N  background 0,unable to generate class balanced samples.\n",
      "N foreground 16682, N  background 0,unable to generate class balanced samples.\n",
      "N foreground 13958, N  background 0,unable to generate class balanced samples.\n",
      "N foreground 17716, N  background 0,unable to generate class balanced samples.\n",
      "N foreground 16115, N  background 0,unable to generate class balanced samples.\n",
      "N foreground 10992, N  background 0,unable to generate class balanced samples.\n",
      "N foreground 8935, N  background 0,unable to generate class balanced samples.\n",
      "N foreground 17097, N  background 0,unable to generate class balanced samples.\n",
      "N foreground 16450, N  background 0,unable to generate class balanced samples.\n",
      "N foreground 15838, N  background 0,unable to generate class balanced samples.\n",
      "N foreground 13064, N  background 0,unable to generate class balanced samples.\n",
      "N foreground 16388, N  background 0,unable to generate class balanced samples.\n",
      "N foreground 15909, N  background 0,unable to generate class balanced samples.\n",
      "N foreground 13138, N  background 0,unable to generate class balanced samples.\n",
      "N foreground 10533, N  background 0,unable to generate class balanced samples.\n",
      "N foreground 13809, N  background 0,unable to generate class balanced samples.\n",
      "N foreground 16438, N  background 0,unable to generate class balanced samples.\n"
     ]
    },
    {
     "name": "stdout",
     "output_type": "stream",
     "text": [
      "1/13, train_loss: 0.2186\n",
      "2/13, train_loss: 0.2247\n",
      "3/13, train_loss: 0.1979\n",
      "4/13, train_loss: 0.2088\n",
      "5/13, train_loss: 0.2050\n",
      "6/13, train_loss: 0.2010\n",
      "7/13, train_loss: 0.2354\n",
      "8/13, train_loss: 0.2287\n",
      "9/13, train_loss: 0.1970\n",
      "10/13, train_loss: 0.2101\n",
      "11/13, train_loss: 0.2324\n",
      "12/13, train_loss: 0.2037\n",
      "13/13, train_loss: 0.1997\n",
      "epoch 28 average loss: 0.2125\n"
     ]
    },
    {
     "name": "stderr",
     "output_type": "stream",
     "text": [
      "N foreground 13981, N  background 0,unable to generate class balanced samples.\n",
      "N foreground 14149, N  background 0,unable to generate class balanced samples.\n",
      "N foreground 18264, N  background 0,unable to generate class balanced samples.\n",
      "N foreground 10539, N  background 0,unable to generate class balanced samples.\n",
      "N foreground 14351, N  background 0,unable to generate class balanced samples.\n",
      "N foreground 16021, N  background 0,unable to generate class balanced samples.\n",
      "N foreground 13080, N  background 0,unable to generate class balanced samples.\n",
      "N foreground 14458, N  background 0,unable to generate class balanced samples.\n",
      "N foreground 14199, N  background 0,unable to generate class balanced samples.\n"
     ]
    },
    {
     "name": "stdout",
     "output_type": "stream",
     "text": [
      "saved new best metric model\n",
      "current epoch: 28 current mean dice: 0.8192\n",
      "best mean dice: 0.8192at epoch: 28\n",
      "----------\n",
      "epoch 29/150\n"
     ]
    },
    {
     "name": "stderr",
     "output_type": "stream",
     "text": [
      "N foreground 8935, N  background 0,unable to generate class balanced samples.\n",
      "N foreground 16450, N  background 0,unable to generate class balanced samples.\n",
      "N foreground 14262, N  background 0,unable to generate class balanced samples.\n",
      "N foreground 13809, N  background 0,unable to generate class balanced samples.\n",
      "N foreground 10474, N  background 0,unable to generate class balanced samples.\n",
      "N foreground 14230, N  background 0,unable to generate class balanced samples.\n",
      "N foreground 22593, N  background 0,unable to generate class balanced samples.\n",
      "N foreground 17716, N  background 0,unable to generate class balanced samples.\n",
      "N foreground 17097, N  background 0,unable to generate class balanced samples.\n",
      "N foreground 13958, N  background 0,unable to generate class balanced samples.\n",
      "N foreground 14809, N  background 0,unable to generate class balanced samples.\n",
      "N foreground 15909, N  background 0,unable to generate class balanced samples.\n",
      "N foreground 15619, N  background 0,unable to generate class balanced samples.\n",
      "N foreground 13064, N  background 0,unable to generate class balanced samples.\n",
      "N foreground 10533, N  background 0,unable to generate class balanced samples.\n",
      "N foreground 14317, N  background 0,unable to generate class balanced samples.\n",
      "N foreground 16115, N  background 0,unable to generate class balanced samples.\n",
      "N foreground 12122, N  background 0,unable to generate class balanced samples.\n",
      "N foreground 16682, N  background 0,unable to generate class balanced samples.\n",
      "N foreground 16388, N  background 0,unable to generate class balanced samples.\n",
      "N foreground 15184, N  background 0,unable to generate class balanced samples.\n",
      "N foreground 13138, N  background 0,unable to generate class balanced samples.\n",
      "N foreground 10992, N  background 0,unable to generate class balanced samples.\n",
      "N foreground 16438, N  background 0,unable to generate class balanced samples.\n",
      "N foreground 19210, N  background 0,unable to generate class balanced samples.\n",
      "N foreground 15838, N  background 0,unable to generate class balanced samples.\n"
     ]
    },
    {
     "name": "stdout",
     "output_type": "stream",
     "text": [
      "1/13, train_loss: 0.1812\n",
      "2/13, train_loss: 0.1993\n",
      "3/13, train_loss: 0.2370\n",
      "4/13, train_loss: 0.1965\n",
      "5/13, train_loss: 0.2329\n",
      "6/13, train_loss: 0.2079\n",
      "7/13, train_loss: 0.2240\n",
      "8/13, train_loss: 0.1997\n",
      "9/13, train_loss: 0.2151\n",
      "10/13, train_loss: 0.1961\n",
      "11/13, train_loss: 0.2196\n",
      "12/13, train_loss: 0.2018\n",
      "13/13, train_loss: 0.2034\n",
      "epoch 29 average loss: 0.2088\n"
     ]
    },
    {
     "name": "stderr",
     "output_type": "stream",
     "text": [
      "N foreground 18264, N  background 0,unable to generate class balanced samples.\n",
      "N foreground 14351, N  background 0,unable to generate class balanced samples.\n",
      "N foreground 13080, N  background 0,unable to generate class balanced samples.\n",
      "N foreground 13981, N  background 0,unable to generate class balanced samples.\n",
      "N foreground 14149, N  background 0,unable to generate class balanced samples.\n",
      "N foreground 10539, N  background 0,unable to generate class balanced samples.\n",
      "N foreground 16021, N  background 0,unable to generate class balanced samples.\n",
      "N foreground 14458, N  background 0,unable to generate class balanced samples.\n",
      "N foreground 14199, N  background 0,unable to generate class balanced samples.\n"
     ]
    },
    {
     "name": "stdout",
     "output_type": "stream",
     "text": [
      "saved new best metric model\n",
      "current epoch: 29 current mean dice: 0.8215\n",
      "best mean dice: 0.8215at epoch: 29\n",
      "----------\n",
      "epoch 30/150\n"
     ]
    },
    {
     "name": "stderr",
     "output_type": "stream",
     "text": [
      "N foreground 14262, N  background 0,unable to generate class balanced samples.\n",
      "N foreground 13064, N  background 0,unable to generate class balanced samples.\n",
      "N foreground 16682, N  background 0,unable to generate class balanced samples.\n",
      "N foreground 17097, N  background 0,unable to generate class balanced samples.\n",
      "N foreground 15184, N  background 0,unable to generate class balanced samples.\n",
      "N foreground 16438, N  background 0,unable to generate class balanced samples.\n",
      "N foreground 15909, N  background 0,unable to generate class balanced samples.\n",
      "N foreground 12122, N  background 0,unable to generate class balanced samples.\n",
      "N foreground 13809, N  background 0,unable to generate class balanced samples.\n",
      "N foreground 14230, N  background 0,unable to generate class balanced samples.\n",
      "N foreground 16388, N  background 0,unable to generate class balanced samples.\n",
      "N foreground 14809, N  background 0,unable to generate class balanced samples.\n",
      "N foreground 10992, N  background 0,unable to generate class balanced samples.\n",
      "N foreground 16115, N  background 0,unable to generate class balanced samples.\n",
      "N foreground 15619, N  background 0,unable to generate class balanced samples.\n",
      "N foreground 10474, N  background 0,unable to generate class balanced samples.\n",
      "N foreground 15838, N  background 0,unable to generate class balanced samples.\n",
      "N foreground 13138, N  background 0,unable to generate class balanced samples.\n",
      "N foreground 14317, N  background 0,unable to generate class balanced samples.\n",
      "N foreground 13958, N  background 0,unable to generate class balanced samples.\n",
      "N foreground 10533, N  background 0,unable to generate class balanced samples.\n",
      "N foreground 17716, N  background 0,unable to generate class balanced samples.\n",
      "N foreground 16450, N  background 0,unable to generate class balanced samples.\n",
      "N foreground 19210, N  background 0,unable to generate class balanced samples.\n",
      "N foreground 22593, N  background 0,unable to generate class balanced samples.\n",
      "N foreground 8935, N  background 0,unable to generate class balanced samples.\n"
     ]
    },
    {
     "name": "stdout",
     "output_type": "stream",
     "text": [
      "1/13, train_loss: 0.1963\n",
      "2/13, train_loss: 0.1936\n",
      "3/13, train_loss: 0.2074\n",
      "4/13, train_loss: 0.2131\n",
      "5/13, train_loss: 0.1830\n",
      "6/13, train_loss: 0.2062\n",
      "7/13, train_loss: 0.2287\n",
      "8/13, train_loss: 0.1936\n",
      "9/13, train_loss: 0.2358\n",
      "10/13, train_loss: 0.2031\n",
      "11/13, train_loss: 0.2032\n",
      "12/13, train_loss: 0.1864\n",
      "13/13, train_loss: 0.2022\n",
      "epoch 30 average loss: 0.2041\n"
     ]
    },
    {
     "name": "stderr",
     "output_type": "stream",
     "text": [
      "N foreground 13080, N  background 0,unable to generate class balanced samples.\n",
      "N foreground 16021, N  background 0,unable to generate class balanced samples.\n",
      "N foreground 14149, N  background 0,unable to generate class balanced samples.\n",
      "N foreground 14351, N  background 0,unable to generate class balanced samples.\n",
      "N foreground 18264, N  background 0,unable to generate class balanced samples.\n",
      "N foreground 10539, N  background 0,unable to generate class balanced samples.\n",
      "N foreground 13981, N  background 0,unable to generate class balanced samples.\n",
      "N foreground 14458, N  background 0,unable to generate class balanced samples.\n",
      "N foreground 14199, N  background 0,unable to generate class balanced samples.\n"
     ]
    },
    {
     "name": "stdout",
     "output_type": "stream",
     "text": [
      "saved new best metric model\n",
      "current epoch: 30 current mean dice: 0.8379\n",
      "best mean dice: 0.8379at epoch: 30\n",
      "----------\n",
      "epoch 31/150\n"
     ]
    },
    {
     "name": "stderr",
     "output_type": "stream",
     "text": [
      "N foreground 15619, N  background 0,unable to generate class balanced samples.\n",
      "N foreground 14317, N  background 0,unable to generate class balanced samples.\n",
      "N foreground 16438, N  background 0,unable to generate class balanced samples.\n",
      "N foreground 14230, N  background 0,unable to generate class balanced samples.\n",
      "N foreground 16682, N  background 0,unable to generate class balanced samples.\n",
      "N foreground 15838, N  background 0,unable to generate class balanced samples.\n",
      "N foreground 10533, N  background 0,unable to generate class balanced samples.\n",
      "N foreground 14262, N  background 0,unable to generate class balanced samples.\n",
      "N foreground 15909, N  background 0,unable to generate class balanced samples.\n",
      "N foreground 13138, N  background 0,unable to generate class balanced samples.\n",
      "N foreground 15184, N  background 0,unable to generate class balanced samples.\n",
      "N foreground 10474, N  background 0,unable to generate class balanced samples.\n",
      "N foreground 14809, N  background 0,unable to generate class balanced samples.\n",
      "N foreground 8935, N  background 0,unable to generate class balanced samples.\n",
      "N foreground 19210, N  background 0,unable to generate class balanced samples.\n",
      "N foreground 22593, N  background 0,unable to generate class balanced samples.\n",
      "N foreground 10992, N  background 0,unable to generate class balanced samples.\n",
      "N foreground 13809, N  background 0,unable to generate class balanced samples.\n",
      "N foreground 13064, N  background 0,unable to generate class balanced samples.\n",
      "N foreground 17097, N  background 0,unable to generate class balanced samples.\n",
      "N foreground 16115, N  background 0,unable to generate class balanced samples.\n",
      "N foreground 13958, N  background 0,unable to generate class balanced samples.\n",
      "N foreground 16450, N  background 0,unable to generate class balanced samples.\n",
      "N foreground 17716, N  background 0,unable to generate class balanced samples.\n",
      "N foreground 12122, N  background 0,unable to generate class balanced samples.\n",
      "N foreground 16388, N  background 0,unable to generate class balanced samples.\n"
     ]
    },
    {
     "name": "stdout",
     "output_type": "stream",
     "text": [
      "1/13, train_loss: 0.2004\n",
      "2/13, train_loss: 0.2181\n",
      "3/13, train_loss: 0.2080\n",
      "4/13, train_loss: 0.2225\n",
      "5/13, train_loss: 0.2388\n",
      "6/13, train_loss: 0.1873\n",
      "7/13, train_loss: 0.1926\n",
      "8/13, train_loss: 0.1806\n",
      "9/13, train_loss: 0.1962\n",
      "10/13, train_loss: 0.2014\n",
      "11/13, train_loss: 0.1971\n",
      "12/13, train_loss: 0.1838\n",
      "13/13, train_loss: 0.1936\n",
      "epoch 31 average loss: 0.2016\n"
     ]
    },
    {
     "name": "stderr",
     "output_type": "stream",
     "text": [
      "N foreground 14351, N  background 0,unable to generate class balanced samples.\n",
      "N foreground 13981, N  background 0,unable to generate class balanced samples.\n",
      "N foreground 13080, N  background 0,unable to generate class balanced samples.\n",
      "N foreground 10539, N  background 0,unable to generate class balanced samples.\n",
      "N foreground 14149, N  background 0,unable to generate class balanced samples.\n",
      "N foreground 18264, N  background 0,unable to generate class balanced samples.\n",
      "N foreground 16021, N  background 0,unable to generate class balanced samples.\n",
      "N foreground 14458, N  background 0,unable to generate class balanced samples.\n",
      "N foreground 14199, N  background 0,unable to generate class balanced samples.\n"
     ]
    },
    {
     "name": "stdout",
     "output_type": "stream",
     "text": [
      "current epoch: 31 current mean dice: 0.8351\n",
      "best mean dice: 0.8379at epoch: 30\n",
      "----------\n",
      "epoch 32/150\n"
     ]
    },
    {
     "name": "stderr",
     "output_type": "stream",
     "text": [
      "N foreground 13809, N  background 0,unable to generate class balanced samples.\n",
      "N foreground 8935, N  background 0,unable to generate class balanced samples.\n",
      "N foreground 14809, N  background 0,unable to generate class balanced samples.\n",
      "N foreground 13958, N  background 0,unable to generate class balanced samples.\n",
      "N foreground 16438, N  background 0,unable to generate class balanced samples.\n",
      "N foreground 14262, N  background 0,unable to generate class balanced samples.\n",
      "N foreground 19210, N  background 0,unable to generate class balanced samples.\n",
      "N foreground 10474, N  background 0,unable to generate class balanced samples.\n",
      "N foreground 10992, N  background 0,unable to generate class balanced samples.\n",
      "N foreground 12122, N  background 0,unable to generate class balanced samples.\n",
      "N foreground 22593, N  background 0,unable to generate class balanced samples.\n",
      "N foreground 14317, N  background 0,unable to generate class balanced samples.\n",
      "N foreground 15838, N  background 0,unable to generate class balanced samples.\n",
      "N foreground 14230, N  background 0,unable to generate class balanced samples.\n",
      "N foreground 10533, N  background 0,unable to generate class balanced samples.\n",
      "N foreground 16682, N  background 0,unable to generate class balanced samples.\n",
      "N foreground 13138, N  background 0,unable to generate class balanced samples.\n",
      "N foreground 15184, N  background 0,unable to generate class balanced samples.\n",
      "N foreground 15909, N  background 0,unable to generate class balanced samples.\n",
      "N foreground 15619, N  background 0,unable to generate class balanced samples.\n",
      "N foreground 13064, N  background 0,unable to generate class balanced samples.\n",
      "N foreground 16388, N  background 0,unable to generate class balanced samples.\n",
      "N foreground 16115, N  background 0,unable to generate class balanced samples.\n",
      "N foreground 16450, N  background 0,unable to generate class balanced samples.\n",
      "N foreground 17716, N  background 0,unable to generate class balanced samples.\n",
      "N foreground 17097, N  background 0,unable to generate class balanced samples.\n"
     ]
    },
    {
     "name": "stdout",
     "output_type": "stream",
     "text": [
      "1/13, train_loss: 0.2136\n",
      "2/13, train_loss: 0.2080\n",
      "3/13, train_loss: 0.2137\n",
      "4/13, train_loss: 0.1966\n",
      "5/13, train_loss: 0.1731\n",
      "6/13, train_loss: 0.2201\n",
      "7/13, train_loss: 0.1904\n",
      "8/13, train_loss: 0.2197\n",
      "9/13, train_loss: 0.1934\n",
      "10/13, train_loss: 0.1941\n",
      "11/13, train_loss: 0.1743\n",
      "12/13, train_loss: 0.1948\n",
      "13/13, train_loss: 0.1956\n",
      "epoch 32 average loss: 0.1990\n"
     ]
    },
    {
     "name": "stderr",
     "output_type": "stream",
     "text": [
      "N foreground 10539, N  background 0,unable to generate class balanced samples.\n",
      "N foreground 13981, N  background 0,unable to generate class balanced samples.\n",
      "N foreground 18264, N  background 0,unable to generate class balanced samples.\n",
      "N foreground 16021, N  background 0,unable to generate class balanced samples.\n",
      "N foreground 13080, N  background 0,unable to generate class balanced samples.\n",
      "N foreground 14351, N  background 0,unable to generate class balanced samples.\n",
      "N foreground 14149, N  background 0,unable to generate class balanced samples.\n",
      "N foreground 14458, N  background 0,unable to generate class balanced samples.\n",
      "N foreground 14199, N  background 0,unable to generate class balanced samples.\n"
     ]
    },
    {
     "name": "stdout",
     "output_type": "stream",
     "text": [
      "current epoch: 32 current mean dice: 0.8307\n",
      "best mean dice: 0.8379at epoch: 30\n",
      "----------\n",
      "epoch 33/150\n"
     ]
    },
    {
     "name": "stderr",
     "output_type": "stream",
     "text": [
      "N foreground 13138, N  background 0,unable to generate class balanced samples.\n",
      "N foreground 14809, N  background 0,unable to generate class balanced samples.\n",
      "N foreground 10474, N  background 0,unable to generate class balanced samples.\n",
      "N foreground 17097, N  background 0,unable to generate class balanced samples.\n",
      "N foreground 16388, N  background 0,unable to generate class balanced samples.\n",
      "N foreground 8935, N  background 0,unable to generate class balanced samples.\n",
      "N foreground 15909, N  background 0,unable to generate class balanced samples.\n",
      "N foreground 10533, N  background 0,unable to generate class balanced samples.\n",
      "N foreground 13958, N  background 0,unable to generate class balanced samples.\n",
      "N foreground 22593, N  background 0,unable to generate class balanced samples.\n",
      "N foreground 16682, N  background 0,unable to generate class balanced samples.\n",
      "N foreground 19210, N  background 0,unable to generate class balanced samples.\n",
      "N foreground 15184, N  background 0,unable to generate class balanced samples.\n",
      "N foreground 13809, N  background 0,unable to generate class balanced samples.\n",
      "N foreground 13064, N  background 0,unable to generate class balanced samples.\n",
      "N foreground 16115, N  background 0,unable to generate class balanced samples.\n",
      "N foreground 14317, N  background 0,unable to generate class balanced samples.\n",
      "N foreground 12122, N  background 0,unable to generate class balanced samples.\n",
      "N foreground 14262, N  background 0,unable to generate class balanced samples.\n",
      "N foreground 17716, N  background 0,unable to generate class balanced samples.\n",
      "N foreground 16450, N  background 0,unable to generate class balanced samples.\n",
      "N foreground 15838, N  background 0,unable to generate class balanced samples.\n",
      "N foreground 16438, N  background 0,unable to generate class balanced samples.\n",
      "N foreground 10992, N  background 0,unable to generate class balanced samples.\n",
      "N foreground 14230, N  background 0,unable to generate class balanced samples.\n",
      "N foreground 15619, N  background 0,unable to generate class balanced samples.\n"
     ]
    },
    {
     "name": "stdout",
     "output_type": "stream",
     "text": [
      "1/13, train_loss: 0.2076\n",
      "2/13, train_loss: 0.1804\n",
      "3/13, train_loss: 0.1972\n",
      "4/13, train_loss: 0.2098\n",
      "5/13, train_loss: 0.1898\n",
      "6/13, train_loss: 0.2167\n",
      "7/13, train_loss: 0.1984\n",
      "8/13, train_loss: 0.2115\n",
      "9/13, train_loss: 0.1758\n",
      "10/13, train_loss: 0.1845\n",
      "11/13, train_loss: 0.1781\n",
      "12/13, train_loss: 0.2099\n",
      "13/13, train_loss: 0.1720\n",
      "epoch 33 average loss: 0.1947\n"
     ]
    },
    {
     "name": "stderr",
     "output_type": "stream",
     "text": [
      "N foreground 10539, N  background 0,unable to generate class balanced samples.\n",
      "N foreground 13080, N  background 0,unable to generate class balanced samples.\n",
      "N foreground 14149, N  background 0,unable to generate class balanced samples.\n",
      "N foreground 16021, N  background 0,unable to generate class balanced samples.\n",
      "N foreground 13981, N  background 0,unable to generate class balanced samples.\n",
      "N foreground 14351, N  background 0,unable to generate class balanced samples.\n",
      "N foreground 18264, N  background 0,unable to generate class balanced samples.\n",
      "N foreground 14458, N  background 0,unable to generate class balanced samples.\n",
      "N foreground 14199, N  background 0,unable to generate class balanced samples.\n"
     ]
    },
    {
     "name": "stdout",
     "output_type": "stream",
     "text": [
      "current epoch: 33 current mean dice: 0.8342\n",
      "best mean dice: 0.8379at epoch: 30\n",
      "----------\n",
      "epoch 34/150\n"
     ]
    },
    {
     "name": "stderr",
     "output_type": "stream",
     "text": [
      "N foreground 16388, N  background 0,unable to generate class balanced samples.\n",
      "N foreground 14230, N  background 0,unable to generate class balanced samples.\n",
      "N foreground 10474, N  background 0,unable to generate class balanced samples.\n",
      "N foreground 13138, N  background 0,unable to generate class balanced samples.\n",
      "N foreground 10533, N  background 0,unable to generate class balanced samples.\n",
      "N foreground 14317, N  background 0,unable to generate class balanced samples.\n",
      "N foreground 17716, N  background 0,unable to generate class balanced samples.\n",
      "N foreground 13958, N  background 0,unable to generate class balanced samples.\n",
      "N foreground 10992, N  background 0,unable to generate class balanced samples.\n",
      "N foreground 16115, N  background 0,unable to generate class balanced samples.\n",
      "N foreground 17097, N  background 0,unable to generate class balanced samples.\n",
      "N foreground 12122, N  background 0,unable to generate class balanced samples.\n",
      "N foreground 14809, N  background 0,unable to generate class balanced samples.\n",
      "N foreground 15909, N  background 0,unable to generate class balanced samples.\n",
      "N foreground 16438, N  background 0,unable to generate class balanced samples.\n",
      "N foreground 8935, N  background 0,unable to generate class balanced samples.\n",
      "N foreground 13809, N  background 0,unable to generate class balanced samples.\n",
      "N foreground 16682, N  background 0,unable to generate class balanced samples.\n",
      "N foreground 13064, N  background 0,unable to generate class balanced samples.\n",
      "N foreground 15838, N  background 0,unable to generate class balanced samples.\n",
      "N foreground 14262, N  background 0,unable to generate class balanced samples.\n",
      "N foreground 22593, N  background 0,unable to generate class balanced samples.\n",
      "N foreground 15184, N  background 0,unable to generate class balanced samples.\n",
      "N foreground 15619, N  background 0,unable to generate class balanced samples.\n",
      "N foreground 19210, N  background 0,unable to generate class balanced samples.\n",
      "N foreground 16450, N  background 0,unable to generate class balanced samples.\n"
     ]
    },
    {
     "name": "stdout",
     "output_type": "stream",
     "text": [
      "1/13, train_loss: 0.1878\n",
      "2/13, train_loss: 0.1768\n",
      "3/13, train_loss: 0.2033\n",
      "4/13, train_loss: 0.2141\n",
      "5/13, train_loss: 0.2025\n",
      "6/13, train_loss: 0.2010\n",
      "7/13, train_loss: 0.2213\n",
      "8/13, train_loss: 0.1736\n",
      "9/13, train_loss: 0.1757\n",
      "10/13, train_loss: 0.2127\n",
      "11/13, train_loss: 0.1872\n",
      "12/13, train_loss: 0.1988\n",
      "13/13, train_loss: 0.1729\n",
      "epoch 34 average loss: 0.1944\n"
     ]
    },
    {
     "name": "stderr",
     "output_type": "stream",
     "text": [
      "N foreground 10539, N  background 0,unable to generate class balanced samples.\n",
      "N foreground 14149, N  background 0,unable to generate class balanced samples.\n",
      "N foreground 18264, N  background 0,unable to generate class balanced samples.\n",
      "N foreground 13080, N  background 0,unable to generate class balanced samples.\n",
      "N foreground 13981, N  background 0,unable to generate class balanced samples.\n",
      "N foreground 14351, N  background 0,unable to generate class balanced samples.\n",
      "N foreground 16021, N  background 0,unable to generate class balanced samples.\n",
      "N foreground 14458, N  background 0,unable to generate class balanced samples.\n",
      "N foreground 14199, N  background 0,unable to generate class balanced samples.\n"
     ]
    },
    {
     "name": "stdout",
     "output_type": "stream",
     "text": [
      "current epoch: 34 current mean dice: 0.8366\n",
      "best mean dice: 0.8379at epoch: 30\n",
      "----------\n",
      "epoch 35/150\n"
     ]
    },
    {
     "name": "stderr",
     "output_type": "stream",
     "text": [
      "N foreground 16682, N  background 0,unable to generate class balanced samples.\n",
      "N foreground 13138, N  background 0,unable to generate class balanced samples.\n",
      "N foreground 22593, N  background 0,unable to generate class balanced samples.\n",
      "N foreground 13809, N  background 0,unable to generate class balanced samples.\n",
      "N foreground 13958, N  background 0,unable to generate class balanced samples.\n",
      "N foreground 16388, N  background 0,unable to generate class balanced samples.\n",
      "N foreground 16115, N  background 0,unable to generate class balanced samples.\n",
      "N foreground 14809, N  background 0,unable to generate class balanced samples.\n",
      "N foreground 14262, N  background 0,unable to generate class balanced samples.\n",
      "N foreground 17716, N  background 0,unable to generate class balanced samples.\n",
      "N foreground 12122, N  background 0,unable to generate class balanced samples.\n",
      "N foreground 13064, N  background 0,unable to generate class balanced samples.\n",
      "N foreground 10992, N  background 0,unable to generate class balanced samples.\n",
      "N foreground 15619, N  background 0,unable to generate class balanced samples.\n",
      "N foreground 16438, N  background 0,unable to generate class balanced samples.\n",
      "N foreground 15184, N  background 0,unable to generate class balanced samples.\n",
      "N foreground 8935, N  background 0,unable to generate class balanced samples.\n",
      "N foreground 16450, N  background 0,unable to generate class balanced samples.\n",
      "N foreground 10533, N  background 0,unable to generate class balanced samples.\n",
      "N foreground 10474, N  background 0,unable to generate class balanced samples.\n",
      "N foreground 15909, N  background 0,unable to generate class balanced samples.\n",
      "N foreground 19210, N  background 0,unable to generate class balanced samples.\n",
      "N foreground 14317, N  background 0,unable to generate class balanced samples.\n",
      "N foreground 14230, N  background 0,unable to generate class balanced samples.\n",
      "N foreground 17097, N  background 0,unable to generate class balanced samples.\n",
      "N foreground 15838, N  background 0,unable to generate class balanced samples.\n"
     ]
    },
    {
     "name": "stdout",
     "output_type": "stream",
     "text": [
      "1/13, train_loss: 0.1753\n",
      "2/13, train_loss: 0.1980\n",
      "3/13, train_loss: 0.1980\n",
      "4/13, train_loss: 0.1645\n",
      "5/13, train_loss: 0.1789\n",
      "6/13, train_loss: 0.1758\n",
      "7/13, train_loss: 0.1953\n",
      "8/13, train_loss: 0.1948\n",
      "9/13, train_loss: 0.2001\n",
      "10/13, train_loss: 0.2002\n",
      "11/13, train_loss: 0.1955\n",
      "12/13, train_loss: 0.1918\n",
      "13/13, train_loss: 0.2195\n",
      "epoch 35 average loss: 0.1914\n"
     ]
    },
    {
     "name": "stderr",
     "output_type": "stream",
     "text": [
      "N foreground 10539, N  background 0,unable to generate class balanced samples.\n",
      "N foreground 13981, N  background 0,unable to generate class balanced samples.\n",
      "N foreground 18264, N  background 0,unable to generate class balanced samples.\n",
      "N foreground 13080, N  background 0,unable to generate class balanced samples.\n",
      "N foreground 14351, N  background 0,unable to generate class balanced samples.\n",
      "N foreground 16021, N  background 0,unable to generate class balanced samples.\n",
      "N foreground 14149, N  background 0,unable to generate class balanced samples.\n",
      "N foreground 14458, N  background 0,unable to generate class balanced samples.\n",
      "N foreground 14199, N  background 0,unable to generate class balanced samples.\n"
     ]
    },
    {
     "name": "stdout",
     "output_type": "stream",
     "text": [
      "current epoch: 35 current mean dice: 0.8362\n",
      "best mean dice: 0.8379at epoch: 30\n",
      "----------\n",
      "epoch 36/150\n"
     ]
    },
    {
     "name": "stderr",
     "output_type": "stream",
     "text": [
      "N foreground 16438, N  background 0,unable to generate class balanced samples.\n",
      "N foreground 10474, N  background 0,unable to generate class balanced samples.\n",
      "N foreground 13958, N  background 0,unable to generate class balanced samples.\n",
      "N foreground 15184, N  background 0,unable to generate class balanced samples.\n",
      "N foreground 10533, N  background 0,unable to generate class balanced samples.\n",
      "N foreground 15838, N  background 0,unable to generate class balanced samples.\n",
      "N foreground 13138, N  background 0,unable to generate class balanced samples.\n",
      "N foreground 15909, N  background 0,unable to generate class balanced samples.\n",
      "N foreground 10992, N  background 0,unable to generate class balanced samples.\n",
      "N foreground 16115, N  background 0,unable to generate class balanced samples.\n",
      "N foreground 14230, N  background 0,unable to generate class balanced samples.\n",
      "N foreground 16682, N  background 0,unable to generate class balanced samples.\n",
      "N foreground 13064, N  background 0,unable to generate class balanced samples.\n",
      "N foreground 22593, N  background 0,unable to generate class balanced samples.\n",
      "N foreground 12122, N  background 0,unable to generate class balanced samples.\n",
      "N foreground 14317, N  background 0,unable to generate class balanced samples.\n",
      "N foreground 17716, N  background 0,unable to generate class balanced samples.\n",
      "N foreground 17097, N  background 0,unable to generate class balanced samples.\n",
      "N foreground 19210, N  background 0,unable to generate class balanced samples.\n",
      "N foreground 15619, N  background 0,unable to generate class balanced samples.\n",
      "N foreground 14809, N  background 0,unable to generate class balanced samples.\n",
      "N foreground 13809, N  background 0,unable to generate class balanced samples.\n",
      "N foreground 8935, N  background 0,unable to generate class balanced samples.\n",
      "N foreground 16450, N  background 0,unable to generate class balanced samples.\n",
      "N foreground 16388, N  background 0,unable to generate class balanced samples.\n",
      "N foreground 14262, N  background 0,unable to generate class balanced samples.\n"
     ]
    },
    {
     "name": "stdout",
     "output_type": "stream",
     "text": [
      "1/13, train_loss: 0.1991\n",
      "2/13, train_loss: 0.1845\n",
      "3/13, train_loss: 0.1994\n",
      "4/13, train_loss: 0.2036\n",
      "5/13, train_loss: 0.1974\n",
      "6/13, train_loss: 0.1843\n",
      "7/13, train_loss: 0.2123\n",
      "8/13, train_loss: 0.1802\n",
      "9/13, train_loss: 0.2155\n",
      "10/13, train_loss: 0.1768\n",
      "11/13, train_loss: 0.1644\n",
      "12/13, train_loss: 0.1833\n",
      "13/13, train_loss: 0.1726\n",
      "epoch 36 average loss: 0.1903\n"
     ]
    },
    {
     "name": "stderr",
     "output_type": "stream",
     "text": [
      "N foreground 10539, N  background 0,unable to generate class balanced samples.\n",
      "N foreground 18264, N  background 0,unable to generate class balanced samples.\n",
      "N foreground 16021, N  background 0,unable to generate class balanced samples.\n",
      "N foreground 14351, N  background 0,unable to generate class balanced samples.\n",
      "N foreground 13981, N  background 0,unable to generate class balanced samples.\n",
      "N foreground 13080, N  background 0,unable to generate class balanced samples.\n",
      "N foreground 14149, N  background 0,unable to generate class balanced samples.\n",
      "N foreground 14458, N  background 0,unable to generate class balanced samples.\n",
      "N foreground 14199, N  background 0,unable to generate class balanced samples.\n"
     ]
    },
    {
     "name": "stdout",
     "output_type": "stream",
     "text": [
      "saved new best metric model\n",
      "current epoch: 36 current mean dice: 0.8424\n",
      "best mean dice: 0.8424at epoch: 36\n",
      "----------\n",
      "epoch 37/150\n"
     ]
    },
    {
     "name": "stderr",
     "output_type": "stream",
     "text": [
      "N foreground 19210, N  background 0,unable to generate class balanced samples.\n",
      "N foreground 14809, N  background 0,unable to generate class balanced samples.\n",
      "N foreground 10474, N  background 0,unable to generate class balanced samples.\n",
      "N foreground 16682, N  background 0,unable to generate class balanced samples.\n",
      "N foreground 15909, N  background 0,unable to generate class balanced samples.\n",
      "N foreground 14317, N  background 0,unable to generate class balanced samples.\n",
      "N foreground 22593, N  background 0,unable to generate class balanced samples.\n",
      "N foreground 17097, N  background 0,unable to generate class balanced samples.\n",
      "N foreground 16438, N  background 0,unable to generate class balanced samples.\n",
      "N foreground 17716, N  background 0,unable to generate class balanced samples.\n",
      "N foreground 14230, N  background 0,unable to generate class balanced samples.\n",
      "N foreground 13958, N  background 0,unable to generate class balanced samples.\n",
      "N foreground 8935, N  background 0,unable to generate class balanced samples.\n",
      "N foreground 15184, N  background 0,unable to generate class balanced samples.\n",
      "N foreground 16450, N  background 0,unable to generate class balanced samples.\n",
      "N foreground 10992, N  background 0,unable to generate class balanced samples.\n",
      "N foreground 12122, N  background 0,unable to generate class balanced samples.\n",
      "N foreground 10533, N  background 0,unable to generate class balanced samples.\n",
      "N foreground 15619, N  background 0,unable to generate class balanced samples.\n",
      "N foreground 14262, N  background 0,unable to generate class balanced samples.\n",
      "N foreground 13138, N  background 0,unable to generate class balanced samples.\n",
      "N foreground 15838, N  background 0,unable to generate class balanced samples.\n",
      "N foreground 16388, N  background 0,unable to generate class balanced samples.\n",
      "N foreground 16115, N  background 0,unable to generate class balanced samples.\n",
      "N foreground 13809, N  background 0,unable to generate class balanced samples.\n",
      "N foreground 13064, N  background 0,unable to generate class balanced samples.\n"
     ]
    },
    {
     "name": "stdout",
     "output_type": "stream",
     "text": [
      "1/13, train_loss: 0.1862\n",
      "2/13, train_loss: 0.1748\n",
      "3/13, train_loss: 0.1823\n",
      "4/13, train_loss: 0.2177\n",
      "5/13, train_loss: 0.1865\n",
      "6/13, train_loss: 0.1985\n",
      "7/13, train_loss: 0.2101\n",
      "8/13, train_loss: 0.1808\n",
      "9/13, train_loss: 0.1955\n",
      "10/13, train_loss: 0.1870\n",
      "11/13, train_loss: 0.1842\n",
      "12/13, train_loss: 0.1639\n",
      "13/13, train_loss: 0.1944\n",
      "epoch 37 average loss: 0.1894\n"
     ]
    },
    {
     "name": "stderr",
     "output_type": "stream",
     "text": [
      "N foreground 13981, N  background 0,unable to generate class balanced samples.\n",
      "N foreground 16021, N  background 0,unable to generate class balanced samples.\n",
      "N foreground 13080, N  background 0,unable to generate class balanced samples.\n",
      "N foreground 18264, N  background 0,unable to generate class balanced samples.\n",
      "N foreground 14351, N  background 0,unable to generate class balanced samples.\n",
      "N foreground 10539, N  background 0,unable to generate class balanced samples.\n",
      "N foreground 14149, N  background 0,unable to generate class balanced samples.\n",
      "N foreground 14458, N  background 0,unable to generate class balanced samples.\n",
      "N foreground 14199, N  background 0,unable to generate class balanced samples.\n"
     ]
    },
    {
     "name": "stdout",
     "output_type": "stream",
     "text": [
      "current epoch: 37 current mean dice: 0.8333\n",
      "best mean dice: 0.8424at epoch: 36\n",
      "----------\n",
      "epoch 38/150\n"
     ]
    },
    {
     "name": "stderr",
     "output_type": "stream",
     "text": [
      "N foreground 15909, N  background 0,unable to generate class balanced samples.\n",
      "N foreground 15184, N  background 0,unable to generate class balanced samples.\n",
      "N foreground 13958, N  background 0,unable to generate class balanced samples.\n",
      "N foreground 16115, N  background 0,unable to generate class balanced samples.\n",
      "N foreground 22593, N  background 0,unable to generate class balanced samples.\n",
      "N foreground 13809, N  background 0,unable to generate class balanced samples.\n",
      "N foreground 16388, N  background 0,unable to generate class balanced samples.\n",
      "N foreground 13138, N  background 0,unable to generate class balanced samples.\n",
      "N foreground 14809, N  background 0,unable to generate class balanced samples.\n",
      "N foreground 14317, N  background 0,unable to generate class balanced samples.\n",
      "N foreground 14262, N  background 0,unable to generate class balanced samples.\n",
      "N foreground 17716, N  background 0,unable to generate class balanced samples.\n",
      "N foreground 10474, N  background 0,unable to generate class balanced samples.\n",
      "N foreground 16450, N  background 0,unable to generate class balanced samples.\n",
      "N foreground 16438, N  background 0,unable to generate class balanced samples.\n",
      "N foreground 10992, N  background 0,unable to generate class balanced samples.\n",
      "N foreground 14230, N  background 0,unable to generate class balanced samples.\n",
      "N foreground 16682, N  background 0,unable to generate class balanced samples.\n",
      "N foreground 8935, N  background 0,unable to generate class balanced samples.\n",
      "N foreground 12122, N  background 0,unable to generate class balanced samples.\n",
      "N foreground 13064, N  background 0,unable to generate class balanced samples.\n",
      "N foreground 17097, N  background 0,unable to generate class balanced samples.\n",
      "N foreground 19210, N  background 0,unable to generate class balanced samples.\n",
      "N foreground 10533, N  background 0,unable to generate class balanced samples.\n",
      "N foreground 15619, N  background 0,unable to generate class balanced samples.\n",
      "N foreground 15838, N  background 0,unable to generate class balanced samples.\n"
     ]
    },
    {
     "name": "stdout",
     "output_type": "stream",
     "text": [
      "1/13, train_loss: 0.2060\n",
      "2/13, train_loss: 0.1752\n",
      "3/13, train_loss: 0.2013\n",
      "4/13, train_loss: 0.1774\n",
      "5/13, train_loss: 0.1699\n",
      "6/13, train_loss: 0.1529\n",
      "7/13, train_loss: 0.2195\n",
      "8/13, train_loss: 0.1887\n",
      "9/13, train_loss: 0.1832\n",
      "10/13, train_loss: 0.1931\n",
      "11/13, train_loss: 0.1865\n",
      "12/13, train_loss: 0.1731\n",
      "13/13, train_loss: 0.2229\n",
      "epoch 38 average loss: 0.1884\n"
     ]
    },
    {
     "name": "stderr",
     "output_type": "stream",
     "text": [
      "N foreground 10539, N  background 0,unable to generate class balanced samples.\n",
      "N foreground 18264, N  background 0,unable to generate class balanced samples.\n",
      "N foreground 16021, N  background 0,unable to generate class balanced samples.\n",
      "N foreground 13981, N  background 0,unable to generate class balanced samples.\n",
      "N foreground 14351, N  background 0,unable to generate class balanced samples.\n",
      "N foreground 14149, N  background 0,unable to generate class balanced samples.\n",
      "N foreground 13080, N  background 0,unable to generate class balanced samples.\n",
      "N foreground 14458, N  background 0,unable to generate class balanced samples.\n",
      "N foreground 14199, N  background 0,unable to generate class balanced samples.\n"
     ]
    },
    {
     "name": "stdout",
     "output_type": "stream",
     "text": [
      "current epoch: 38 current mean dice: 0.8419\n",
      "best mean dice: 0.8424at epoch: 36\n",
      "----------\n",
      "epoch 39/150\n"
     ]
    },
    {
     "name": "stderr",
     "output_type": "stream",
     "text": [
      "N foreground 15184, N  background 0,unable to generate class balanced samples.\n",
      "N foreground 13958, N  background 0,unable to generate class balanced samples.\n",
      "N foreground 12122, N  background 0,unable to generate class balanced samples.\n",
      "N foreground 10474, N  background 0,unable to generate class balanced samples.\n",
      "N foreground 16388, N  background 0,unable to generate class balanced samples.\n",
      "N foreground 13138, N  background 0,unable to generate class balanced samples.\n",
      "N foreground 17716, N  background 0,unable to generate class balanced samples.\n",
      "N foreground 15909, N  background 0,unable to generate class balanced samples.\n",
      "N foreground 22593, N  background 0,unable to generate class balanced samples.\n",
      "N foreground 16450, N  background 0,unable to generate class balanced samples.\n",
      "N foreground 10533, N  background 0,unable to generate class balanced samples.\n",
      "N foreground 13809, N  background 0,unable to generate class balanced samples.\n",
      "N foreground 16682, N  background 0,unable to generate class balanced samples.\n",
      "N foreground 15838, N  background 0,unable to generate class balanced samples.\n",
      "N foreground 14317, N  background 0,unable to generate class balanced samples.\n",
      "N foreground 14230, N  background 0,unable to generate class balanced samples.\n",
      "N foreground 15619, N  background 0,unable to generate class balanced samples.\n",
      "N foreground 14809, N  background 0,unable to generate class balanced samples.\n",
      "N foreground 17097, N  background 0,unable to generate class balanced samples.\n",
      "N foreground 19210, N  background 0,unable to generate class balanced samples.\n",
      "N foreground 14262, N  background 0,unable to generate class balanced samples.\n",
      "N foreground 8935, N  background 0,unable to generate class balanced samples.\n",
      "N foreground 13064, N  background 0,unable to generate class balanced samples.\n",
      "N foreground 10992, N  background 0,unable to generate class balanced samples.\n",
      "N foreground 16115, N  background 0,unable to generate class balanced samples.\n",
      "N foreground 16438, N  background 0,unable to generate class balanced samples.\n"
     ]
    },
    {
     "name": "stdout",
     "output_type": "stream",
     "text": [
      "1/13, train_loss: 0.2099\n",
      "2/13, train_loss: 0.1693\n",
      "3/13, train_loss: 0.1784\n",
      "4/13, train_loss: 0.1821\n",
      "5/13, train_loss: 0.1775\n",
      "6/13, train_loss: 0.1953\n",
      "7/13, train_loss: 0.1882\n",
      "8/13, train_loss: 0.1855\n",
      "9/13, train_loss: 0.1705\n",
      "10/13, train_loss: 0.1760\n",
      "11/13, train_loss: 0.1899\n",
      "12/13, train_loss: 0.2027\n",
      "13/13, train_loss: 0.1935\n",
      "epoch 39 average loss: 0.1861\n"
     ]
    },
    {
     "name": "stderr",
     "output_type": "stream",
     "text": [
      "N foreground 14149, N  background 0,unable to generate class balanced samples.\n",
      "N foreground 10539, N  background 0,unable to generate class balanced samples.\n",
      "N foreground 16021, N  background 0,unable to generate class balanced samples.\n",
      "N foreground 13981, N  background 0,unable to generate class balanced samples.\n",
      "N foreground 13080, N  background 0,unable to generate class balanced samples.\n",
      "N foreground 14351, N  background 0,unable to generate class balanced samples.\n",
      "N foreground 18264, N  background 0,unable to generate class balanced samples.\n",
      "N foreground 14458, N  background 0,unable to generate class balanced samples.\n",
      "N foreground 14199, N  background 0,unable to generate class balanced samples.\n"
     ]
    },
    {
     "name": "stdout",
     "output_type": "stream",
     "text": [
      "current epoch: 39 current mean dice: 0.8343\n",
      "best mean dice: 0.8424at epoch: 36\n",
      "----------\n",
      "epoch 40/150\n"
     ]
    },
    {
     "name": "stderr",
     "output_type": "stream",
     "text": [
      "N foreground 10474, N  background 0,unable to generate class balanced samples.\n",
      "N foreground 22593, N  background 0,unable to generate class balanced samples.\n",
      "N foreground 16438, N  background 0,unable to generate class balanced samples.\n",
      "N foreground 14317, N  background 0,unable to generate class balanced samples.\n",
      "N foreground 14262, N  background 0,unable to generate class balanced samples.\n",
      "N foreground 14230, N  background 0,unable to generate class balanced samples.\n",
      "N foreground 15184, N  background 0,unable to generate class balanced samples.\n",
      "N foreground 14809, N  background 0,unable to generate class balanced samples.\n",
      "N foreground 16450, N  background 0,unable to generate class balanced samples.\n",
      "N foreground 13809, N  background 0,unable to generate class balanced samples.\n",
      "N foreground 8935, N  background 0,unable to generate class balanced samples.\n",
      "N foreground 10533, N  background 0,unable to generate class balanced samples.\n",
      "N foreground 15838, N  background 0,unable to generate class balanced samples.\n",
      "N foreground 13138, N  background 0,unable to generate class balanced samples.\n",
      "N foreground 10992, N  background 0,unable to generate class balanced samples.\n",
      "N foreground 15619, N  background 0,unable to generate class balanced samples.\n",
      "N foreground 16388, N  background 0,unable to generate class balanced samples.\n",
      "N foreground 19210, N  background 0,unable to generate class balanced samples.\n",
      "N foreground 13958, N  background 0,unable to generate class balanced samples.\n",
      "N foreground 16682, N  background 0,unable to generate class balanced samples.\n",
      "N foreground 17716, N  background 0,unable to generate class balanced samples.\n",
      "N foreground 17097, N  background 0,unable to generate class balanced samples.\n",
      "N foreground 15909, N  background 0,unable to generate class balanced samples.\n",
      "N foreground 13064, N  background 0,unable to generate class balanced samples.\n",
      "N foreground 16115, N  background 0,unable to generate class balanced samples.\n",
      "N foreground 12122, N  background 0,unable to generate class balanced samples.\n"
     ]
    },
    {
     "name": "stdout",
     "output_type": "stream",
     "text": [
      "1/13, train_loss: 0.1972\n",
      "2/13, train_loss: 0.1910\n",
      "3/13, train_loss: 0.1952\n",
      "4/13, train_loss: 0.1744\n",
      "5/13, train_loss: 0.2015\n",
      "6/13, train_loss: 0.1719\n",
      "7/13, train_loss: 0.1737\n",
      "8/13, train_loss: 0.1897\n",
      "9/13, train_loss: 0.1910\n",
      "10/13, train_loss: 0.1890\n",
      "11/13, train_loss: 0.1812\n",
      "12/13, train_loss: 0.1708\n",
      "13/13, train_loss: 0.1760\n",
      "epoch 40 average loss: 0.1848\n"
     ]
    },
    {
     "name": "stderr",
     "output_type": "stream",
     "text": [
      "N foreground 13080, N  background 0,unable to generate class balanced samples.\n",
      "N foreground 18264, N  background 0,unable to generate class balanced samples.\n",
      "N foreground 10539, N  background 0,unable to generate class balanced samples.\n",
      "N foreground 13981, N  background 0,unable to generate class balanced samples.\n",
      "N foreground 14149, N  background 0,unable to generate class balanced samples.\n",
      "N foreground 14351, N  background 0,unable to generate class balanced samples.\n",
      "N foreground 16021, N  background 0,unable to generate class balanced samples.\n",
      "N foreground 14458, N  background 0,unable to generate class balanced samples.\n",
      "N foreground 14199, N  background 0,unable to generate class balanced samples.\n"
     ]
    },
    {
     "name": "stdout",
     "output_type": "stream",
     "text": [
      "current epoch: 40 current mean dice: 0.8398\n",
      "best mean dice: 0.8424at epoch: 36\n",
      "----------\n",
      "epoch 41/150\n"
     ]
    },
    {
     "name": "stderr",
     "output_type": "stream",
     "text": [
      "N foreground 16682, N  background 0,unable to generate class balanced samples.\n",
      "N foreground 16115, N  background 0,unable to generate class balanced samples.\n",
      "N foreground 13958, N  background 0,unable to generate class balanced samples.\n",
      "N foreground 15619, N  background 0,unable to generate class balanced samples.\n",
      "N foreground 13809, N  background 0,unable to generate class balanced samples.\n",
      "N foreground 17716, N  background 0,unable to generate class balanced samples.\n",
      "N foreground 10992, N  background 0,unable to generate class balanced samples.\n",
      "N foreground 15184, N  background 0,unable to generate class balanced samples.\n",
      "N foreground 22593, N  background 0,unable to generate class balanced samples.\n",
      "N foreground 14262, N  background 0,unable to generate class balanced samples.\n",
      "N foreground 8935, N  background 0,unable to generate class balanced samples.\n",
      "N foreground 19210, N  background 0,unable to generate class balanced samples.\n",
      "N foreground 16450, N  background 0,unable to generate class balanced samples.\n",
      "N foreground 17097, N  background 0,unable to generate class balanced samples.\n",
      "N foreground 15909, N  background 0,unable to generate class balanced samples.\n",
      "N foreground 12122, N  background 0,unable to generate class balanced samples.\n",
      "N foreground 15838, N  background 0,unable to generate class balanced samples.\n",
      "N foreground 14809, N  background 0,unable to generate class balanced samples.\n",
      "N foreground 13064, N  background 0,unable to generate class balanced samples.\n",
      "N foreground 14230, N  background 0,unable to generate class balanced samples.\n",
      "N foreground 14317, N  background 0,unable to generate class balanced samples.\n",
      "N foreground 16438, N  background 0,unable to generate class balanced samples.\n",
      "N foreground 16388, N  background 0,unable to generate class balanced samples.\n",
      "N foreground 10474, N  background 0,unable to generate class balanced samples.\n",
      "N foreground 13138, N  background 0,unable to generate class balanced samples.\n",
      "N foreground 10533, N  background 0,unable to generate class balanced samples.\n"
     ]
    },
    {
     "name": "stdout",
     "output_type": "stream",
     "text": [
      "1/13, train_loss: 0.2015\n",
      "2/13, train_loss: 0.1798\n",
      "3/13, train_loss: 0.1642\n",
      "4/13, train_loss: 0.1692\n",
      "5/13, train_loss: 0.1788\n",
      "6/13, train_loss: 0.1689\n",
      "7/13, train_loss: 0.1819\n",
      "8/13, train_loss: 0.1731\n",
      "9/13, train_loss: 0.1794\n",
      "10/13, train_loss: 0.1805\n",
      "11/13, train_loss: 0.1988\n",
      "12/13, train_loss: 0.2122\n",
      "13/13, train_loss: 0.1789\n",
      "epoch 41 average loss: 0.1821\n"
     ]
    },
    {
     "name": "stderr",
     "output_type": "stream",
     "text": [
      "N foreground 10539, N  background 0,unable to generate class balanced samples.\n",
      "N foreground 13080, N  background 0,unable to generate class balanced samples.\n",
      "N foreground 13981, N  background 0,unable to generate class balanced samples.\n",
      "N foreground 14149, N  background 0,unable to generate class balanced samples.\n",
      "N foreground 18264, N  background 0,unable to generate class balanced samples.\n",
      "N foreground 16021, N  background 0,unable to generate class balanced samples.\n",
      "N foreground 14351, N  background 0,unable to generate class balanced samples.\n",
      "N foreground 14458, N  background 0,unable to generate class balanced samples.\n",
      "N foreground 14199, N  background 0,unable to generate class balanced samples.\n"
     ]
    },
    {
     "name": "stdout",
     "output_type": "stream",
     "text": [
      "saved new best metric model\n",
      "current epoch: 41 current mean dice: 0.8474\n",
      "best mean dice: 0.8474at epoch: 41\n",
      "----------\n",
      "epoch 42/150\n"
     ]
    },
    {
     "name": "stderr",
     "output_type": "stream",
     "text": [
      "N foreground 16438, N  background 0,unable to generate class balanced samples.\n",
      "N foreground 17716, N  background 0,unable to generate class balanced samples.\n",
      "N foreground 10992, N  background 0,unable to generate class balanced samples.\n",
      "N foreground 15909, N  background 0,unable to generate class balanced samples.\n",
      "N foreground 15838, N  background 0,unable to generate class balanced samples.\n",
      "N foreground 14317, N  background 0,unable to generate class balanced samples.\n",
      "N foreground 12122, N  background 0,unable to generate class balanced samples.\n",
      "N foreground 13064, N  background 0,unable to generate class balanced samples.\n",
      "N foreground 17097, N  background 0,unable to generate class balanced samples.\n",
      "N foreground 19210, N  background 0,unable to generate class balanced samples.\n",
      "N foreground 8935, N  background 0,unable to generate class balanced samples.\n",
      "N foreground 16388, N  background 0,unable to generate class balanced samples.\n",
      "N foreground 16115, N  background 0,unable to generate class balanced samples.\n",
      "N foreground 13958, N  background 0,unable to generate class balanced samples.\n",
      "N foreground 15619, N  background 0,unable to generate class balanced samples.\n",
      "N foreground 13809, N  background 0,unable to generate class balanced samples.\n",
      "N foreground 10474, N  background 0,unable to generate class balanced samples.\n",
      "N foreground 22593, N  background 0,unable to generate class balanced samples.\n",
      "N foreground 14262, N  background 0,unable to generate class balanced samples.\n",
      "N foreground 14230, N  background 0,unable to generate class balanced samples.\n",
      "N foreground 16450, N  background 0,unable to generate class balanced samples.\n",
      "N foreground 10533, N  background 0,unable to generate class balanced samples.\n",
      "N foreground 15184, N  background 0,unable to generate class balanced samples.\n",
      "N foreground 16682, N  background 0,unable to generate class balanced samples.\n",
      "N foreground 14809, N  background 0,unable to generate class balanced samples.\n",
      "N foreground 13138, N  background 0,unable to generate class balanced samples.\n"
     ]
    },
    {
     "name": "stdout",
     "output_type": "stream",
     "text": [
      "1/13, train_loss: 0.2019\n",
      "2/13, train_loss: 0.1775\n",
      "3/13, train_loss: 0.1810\n",
      "4/13, train_loss: 0.1932\n",
      "5/13, train_loss: 0.1848\n",
      "6/13, train_loss: 0.1703\n",
      "7/13, train_loss: 0.1668\n",
      "8/13, train_loss: 0.1750\n",
      "9/13, train_loss: 0.2003\n",
      "10/13, train_loss: 0.1627\n",
      "11/13, train_loss: 0.1771\n",
      "12/13, train_loss: 0.1827\n",
      "13/13, train_loss: 0.1735\n",
      "epoch 42 average loss: 0.1805\n"
     ]
    },
    {
     "name": "stderr",
     "output_type": "stream",
     "text": [
      "N foreground 13080, N  background 0,unable to generate class balanced samples.\n",
      "N foreground 10539, N  background 0,unable to generate class balanced samples.\n",
      "N foreground 13981, N  background 0,unable to generate class balanced samples.\n",
      "N foreground 16021, N  background 0,unable to generate class balanced samples.\n",
      "N foreground 14149, N  background 0,unable to generate class balanced samples.\n",
      "N foreground 18264, N  background 0,unable to generate class balanced samples.\n",
      "N foreground 14351, N  background 0,unable to generate class balanced samples.\n",
      "N foreground 14458, N  background 0,unable to generate class balanced samples.\n",
      "N foreground 14199, N  background 0,unable to generate class balanced samples.\n"
     ]
    },
    {
     "name": "stdout",
     "output_type": "stream",
     "text": [
      "saved new best metric model\n",
      "current epoch: 42 current mean dice: 0.8568\n",
      "best mean dice: 0.8568at epoch: 42\n",
      "----------\n",
      "epoch 43/150\n"
     ]
    },
    {
     "name": "stderr",
     "output_type": "stream",
     "text": [
      "N foreground 13138, N  background 0,unable to generate class balanced samples.\n",
      "N foreground 15619, N  background 0,unable to generate class balanced samples.\n",
      "N foreground 14317, N  background 0,unable to generate class balanced samples.\n",
      "N foreground 14809, N  background 0,unable to generate class balanced samples.\n",
      "N foreground 16115, N  background 0,unable to generate class balanced samples.\n",
      "N foreground 15909, N  background 0,unable to generate class balanced samples.\n",
      "N foreground 14262, N  background 0,unable to generate class balanced samples.\n",
      "N foreground 15184, N  background 0,unable to generate class balanced samples.\n",
      "N foreground 16682, N  background 0,unable to generate class balanced samples.\n",
      "N foreground 12122, N  background 0,unable to generate class balanced samples.\n",
      "N foreground 16450, N  background 0,unable to generate class balanced samples.\n",
      "N foreground 17097, N  background 0,unable to generate class balanced samples.\n",
      "N foreground 13809, N  background 0,unable to generate class balanced samples.\n",
      "N foreground 10474, N  background 0,unable to generate class balanced samples.\n",
      "N foreground 8935, N  background 0,unable to generate class balanced samples.\n",
      "N foreground 15838, N  background 0,unable to generate class balanced samples.\n",
      "N foreground 13958, N  background 0,unable to generate class balanced samples.\n",
      "N foreground 10533, N  background 0,unable to generate class balanced samples.\n",
      "N foreground 14230, N  background 0,unable to generate class balanced samples.\n",
      "N foreground 19210, N  background 0,unable to generate class balanced samples.\n",
      "N foreground 16438, N  background 0,unable to generate class balanced samples.\n",
      "N foreground 13064, N  background 0,unable to generate class balanced samples.\n",
      "N foreground 22593, N  background 0,unable to generate class balanced samples.\n",
      "N foreground 17716, N  background 0,unable to generate class balanced samples.\n",
      "N foreground 10992, N  background 0,unable to generate class balanced samples.\n",
      "N foreground 16388, N  background 0,unable to generate class balanced samples.\n"
     ]
    },
    {
     "name": "stdout",
     "output_type": "stream",
     "text": [
      "1/13, train_loss: 0.2150\n",
      "2/13, train_loss: 0.1901\n",
      "3/13, train_loss: 0.1629\n",
      "4/13, train_loss: 0.1829\n",
      "5/13, train_loss: 0.1830\n",
      "6/13, train_loss: 0.1819\n",
      "7/13, train_loss: 0.1768\n",
      "8/13, train_loss: 0.1832\n",
      "9/13, train_loss: 0.1739\n",
      "10/13, train_loss: 0.1987\n",
      "11/13, train_loss: 0.1747\n",
      "12/13, train_loss: 0.1778\n",
      "13/13, train_loss: 0.1624\n",
      "epoch 43 average loss: 0.1818\n"
     ]
    },
    {
     "name": "stderr",
     "output_type": "stream",
     "text": [
      "N foreground 13080, N  background 0,unable to generate class balanced samples.\n",
      "N foreground 14149, N  background 0,unable to generate class balanced samples.\n",
      "N foreground 18264, N  background 0,unable to generate class balanced samples.\n",
      "N foreground 16021, N  background 0,unable to generate class balanced samples.\n",
      "N foreground 14351, N  background 0,unable to generate class balanced samples.\n",
      "N foreground 13981, N  background 0,unable to generate class balanced samples.\n",
      "N foreground 10539, N  background 0,unable to generate class balanced samples.\n",
      "N foreground 14458, N  background 0,unable to generate class balanced samples.\n",
      "N foreground 14199, N  background 0,unable to generate class balanced samples.\n"
     ]
    },
    {
     "name": "stdout",
     "output_type": "stream",
     "text": [
      "current epoch: 43 current mean dice: 0.8507\n",
      "best mean dice: 0.8568at epoch: 42\n",
      "----------\n",
      "epoch 44/150\n"
     ]
    },
    {
     "name": "stderr",
     "output_type": "stream",
     "text": [
      "N foreground 16682, N  background 0,unable to generate class balanced samples.\n",
      "N foreground 19210, N  background 0,unable to generate class balanced samples.\n",
      "N foreground 14230, N  background 0,unable to generate class balanced samples.\n",
      "N foreground 16450, N  background 0,unable to generate class balanced samples.\n",
      "N foreground 15184, N  background 0,unable to generate class balanced samples.\n",
      "N foreground 14262, N  background 0,unable to generate class balanced samples.\n",
      "N foreground 22593, N  background 0,unable to generate class balanced samples.\n",
      "N foreground 15619, N  background 0,unable to generate class balanced samples.\n",
      "N foreground 16115, N  background 0,unable to generate class balanced samples.\n",
      "N foreground 10992, N  background 0,unable to generate class balanced samples.\n",
      "N foreground 16388, N  background 0,unable to generate class balanced samples.\n",
      "N foreground 10474, N  background 0,unable to generate class balanced samples.\n",
      "N foreground 10533, N  background 0,unable to generate class balanced samples.\n",
      "N foreground 15909, N  background 0,unable to generate class balanced samples.\n",
      "N foreground 13809, N  background 0,unable to generate class balanced samples.\n",
      "N foreground 13958, N  background 0,unable to generate class balanced samples.\n",
      "N foreground 17097, N  background 0,unable to generate class balanced samples.\n",
      "N foreground 8935, N  background 0,unable to generate class balanced samples.\n",
      "N foreground 13138, N  background 0,unable to generate class balanced samples.\n",
      "N foreground 14317, N  background 0,unable to generate class balanced samples.\n",
      "N foreground 17716, N  background 0,unable to generate class balanced samples.\n",
      "N foreground 15838, N  background 0,unable to generate class balanced samples.\n",
      "N foreground 12122, N  background 0,unable to generate class balanced samples.\n",
      "N foreground 14809, N  background 0,unable to generate class balanced samples.\n",
      "N foreground 16438, N  background 0,unable to generate class balanced samples.\n",
      "N foreground 13064, N  background 0,unable to generate class balanced samples.\n"
     ]
    },
    {
     "name": "stdout",
     "output_type": "stream",
     "text": [
      "1/13, train_loss: 0.1769\n",
      "2/13, train_loss: 0.1992\n",
      "3/13, train_loss: 0.1607\n",
      "4/13, train_loss: 0.1787\n",
      "5/13, train_loss: 0.1647\n",
      "6/13, train_loss: 0.1689\n",
      "7/13, train_loss: 0.1761\n",
      "8/13, train_loss: 0.1785\n",
      "9/13, train_loss: 0.1846\n",
      "10/13, train_loss: 0.1987\n",
      "11/13, train_loss: 0.1634\n",
      "12/13, train_loss: 0.1781\n",
      "13/13, train_loss: 0.1873\n",
      "epoch 44 average loss: 0.1781\n"
     ]
    },
    {
     "name": "stderr",
     "output_type": "stream",
     "text": [
      "N foreground 13981, N  background 0,unable to generate class balanced samples.\n",
      "N foreground 16021, N  background 0,unable to generate class balanced samples.\n",
      "N foreground 18264, N  background 0,unable to generate class balanced samples.\n",
      "N foreground 10539, N  background 0,unable to generate class balanced samples.\n",
      "N foreground 14351, N  background 0,unable to generate class balanced samples.\n",
      "N foreground 13080, N  background 0,unable to generate class balanced samples.\n",
      "N foreground 14149, N  background 0,unable to generate class balanced samples.\n",
      "N foreground 14458, N  background 0,unable to generate class balanced samples.\n",
      "N foreground 14199, N  background 0,unable to generate class balanced samples.\n"
     ]
    },
    {
     "name": "stdout",
     "output_type": "stream",
     "text": [
      "current epoch: 44 current mean dice: 0.8494\n",
      "best mean dice: 0.8568at epoch: 42\n",
      "----------\n",
      "epoch 45/150\n"
     ]
    },
    {
     "name": "stderr",
     "output_type": "stream",
     "text": [
      "N foreground 19210, N  background 0,unable to generate class balanced samples.\n",
      "N foreground 14809, N  background 0,unable to generate class balanced samples.\n",
      "N foreground 17716, N  background 0,unable to generate class balanced samples.\n",
      "N foreground 13958, N  background 0,unable to generate class balanced samples.\n",
      "N foreground 8935, N  background 0,unable to generate class balanced samples.\n",
      "N foreground 14317, N  background 0,unable to generate class balanced samples.\n",
      "N foreground 17097, N  background 0,unable to generate class balanced samples.\n",
      "N foreground 13138, N  background 0,unable to generate class balanced samples.\n",
      "N foreground 13809, N  background 0,unable to generate class balanced samples.\n",
      "N foreground 15838, N  background 0,unable to generate class balanced samples.\n",
      "N foreground 15184, N  background 0,unable to generate class balanced samples.\n",
      "N foreground 10474, N  background 0,unable to generate class balanced samples.\n",
      "N foreground 16388, N  background 0,unable to generate class balanced samples.\n",
      "N foreground 15619, N  background 0,unable to generate class balanced samples.\n",
      "N foreground 16682, N  background 0,unable to generate class balanced samples.\n",
      "N foreground 14230, N  background 0,unable to generate class balanced samples.\n",
      "N foreground 10533, N  background 0,unable to generate class balanced samples.\n",
      "N foreground 16115, N  background 0,unable to generate class balanced samples.\n",
      "N foreground 16438, N  background 0,unable to generate class balanced samples.\n",
      "N foreground 12122, N  background 0,unable to generate class balanced samples.\n",
      "N foreground 10992, N  background 0,unable to generate class balanced samples.\n",
      "N foreground 15909, N  background 0,unable to generate class balanced samples.\n",
      "N foreground 16450, N  background 0,unable to generate class balanced samples.\n",
      "N foreground 13064, N  background 0,unable to generate class balanced samples.\n",
      "N foreground 14262, N  background 0,unable to generate class balanced samples.\n",
      "N foreground 22593, N  background 0,unable to generate class balanced samples.\n"
     ]
    },
    {
     "name": "stdout",
     "output_type": "stream",
     "text": [
      "1/13, train_loss: 0.1720\n",
      "2/13, train_loss: 0.1981\n",
      "3/13, train_loss: 0.1865\n",
      "4/13, train_loss: 0.2034\n",
      "5/13, train_loss: 0.1704\n",
      "6/13, train_loss: 0.1794\n",
      "7/13, train_loss: 0.1613\n",
      "8/13, train_loss: 0.1748\n",
      "9/13, train_loss: 0.1619\n",
      "10/13, train_loss: 0.1820\n",
      "11/13, train_loss: 0.1710\n",
      "12/13, train_loss: 0.1716\n",
      "13/13, train_loss: 0.1846\n",
      "epoch 45 average loss: 0.1782\n"
     ]
    },
    {
     "name": "stderr",
     "output_type": "stream",
     "text": [
      "N foreground 14351, N  background 0,unable to generate class balanced samples.\n",
      "N foreground 13981, N  background 0,unable to generate class balanced samples.\n",
      "N foreground 16021, N  background 0,unable to generate class balanced samples.\n",
      "N foreground 13080, N  background 0,unable to generate class balanced samples.\n",
      "N foreground 10539, N  background 0,unable to generate class balanced samples.\n",
      "N foreground 14149, N  background 0,unable to generate class balanced samples.\n",
      "N foreground 18264, N  background 0,unable to generate class balanced samples.\n",
      "N foreground 14458, N  background 0,unable to generate class balanced samples.\n",
      "N foreground 14199, N  background 0,unable to generate class balanced samples.\n"
     ]
    },
    {
     "name": "stdout",
     "output_type": "stream",
     "text": [
      "current epoch: 45 current mean dice: 0.8445\n",
      "best mean dice: 0.8568at epoch: 42\n",
      "----------\n",
      "epoch 46/150\n"
     ]
    },
    {
     "name": "stderr",
     "output_type": "stream",
     "text": [
      "N foreground 16388, N  background 0,unable to generate class balanced samples.\n",
      "N foreground 8935, N  background 0,unable to generate class balanced samples.\n",
      "N foreground 10992, N  background 0,unable to generate class balanced samples.\n",
      "N foreground 15184, N  background 0,unable to generate class balanced samples.\n",
      "N foreground 14262, N  background 0,unable to generate class balanced samples.\n",
      "N foreground 10474, N  background 0,unable to generate class balanced samples.\n",
      "N foreground 13064, N  background 0,unable to generate class balanced samples.\n",
      "N foreground 10533, N  background 0,unable to generate class balanced samples.\n",
      "N foreground 16450, N  background 0,unable to generate class balanced samples.\n",
      "N foreground 16115, N  background 0,unable to generate class balanced samples.\n",
      "N foreground 13138, N  background 0,unable to generate class balanced samples.\n",
      "N foreground 14317, N  background 0,unable to generate class balanced samples.\n",
      "N foreground 15619, N  background 0,unable to generate class balanced samples.\n",
      "N foreground 16682, N  background 0,unable to generate class balanced samples.\n",
      "N foreground 19210, N  background 0,unable to generate class balanced samples.\n",
      "N foreground 15909, N  background 0,unable to generate class balanced samples.\n",
      "N foreground 13958, N  background 0,unable to generate class balanced samples.\n",
      "N foreground 15838, N  background 0,unable to generate class balanced samples.\n",
      "N foreground 17097, N  background 0,unable to generate class balanced samples.\n",
      "N foreground 12122, N  background 0,unable to generate class balanced samples.\n",
      "N foreground 14230, N  background 0,unable to generate class balanced samples.\n",
      "N foreground 14809, N  background 0,unable to generate class balanced samples.\n",
      "N foreground 16438, N  background 0,unable to generate class balanced samples.\n",
      "N foreground 13809, N  background 0,unable to generate class balanced samples.\n",
      "N foreground 17716, N  background 0,unable to generate class balanced samples.\n",
      "N foreground 22593, N  background 0,unable to generate class balanced samples.\n"
     ]
    },
    {
     "name": "stdout",
     "output_type": "stream",
     "text": [
      "1/13, train_loss: 0.2047\n",
      "2/13, train_loss: 0.1793\n",
      "3/13, train_loss: 0.1677\n",
      "4/13, train_loss: 0.1602\n",
      "5/13, train_loss: 0.1932\n",
      "6/13, train_loss: 0.1813\n",
      "7/13, train_loss: 0.1758\n",
      "8/13, train_loss: 0.1874\n",
      "9/13, train_loss: 0.1685\n",
      "10/13, train_loss: 0.1449\n",
      "11/13, train_loss: 0.1942\n",
      "12/13, train_loss: 0.1630\n",
      "13/13, train_loss: 0.1736\n",
      "epoch 46 average loss: 0.1765\n"
     ]
    },
    {
     "name": "stderr",
     "output_type": "stream",
     "text": [
      "N foreground 16021, N  background 0,unable to generate class balanced samples.\n",
      "N foreground 14149, N  background 0,unable to generate class balanced samples.\n",
      "N foreground 13080, N  background 0,unable to generate class balanced samples.\n",
      "N foreground 18264, N  background 0,unable to generate class balanced samples.\n",
      "N foreground 13981, N  background 0,unable to generate class balanced samples.\n",
      "N foreground 10539, N  background 0,unable to generate class balanced samples.\n",
      "N foreground 14351, N  background 0,unable to generate class balanced samples.\n",
      "N foreground 14458, N  background 0,unable to generate class balanced samples.\n",
      "N foreground 14199, N  background 0,unable to generate class balanced samples.\n"
     ]
    },
    {
     "name": "stdout",
     "output_type": "stream",
     "text": [
      "current epoch: 46 current mean dice: 0.8553\n",
      "best mean dice: 0.8568at epoch: 42\n",
      "----------\n",
      "epoch 47/150\n"
     ]
    },
    {
     "name": "stderr",
     "output_type": "stream",
     "text": [
      "N foreground 14262, N  background 0,unable to generate class balanced samples.\n",
      "N foreground 10533, N  background 0,unable to generate class balanced samples.\n",
      "N foreground 19210, N  background 0,unable to generate class balanced samples.\n",
      "N foreground 15619, N  background 0,unable to generate class balanced samples.\n",
      "N foreground 13809, N  background 0,unable to generate class balanced samples.\n",
      "N foreground 8935, N  background 0,unable to generate class balanced samples.\n",
      "N foreground 13958, N  background 0,unable to generate class balanced samples.\n",
      "N foreground 17097, N  background 0,unable to generate class balanced samples.\n",
      "N foreground 22593, N  background 0,unable to generate class balanced samples.\n",
      "N foreground 14230, N  background 0,unable to generate class balanced samples.\n",
      "N foreground 17716, N  background 0,unable to generate class balanced samples.\n",
      "N foreground 13064, N  background 0,unable to generate class balanced samples.\n",
      "N foreground 15838, N  background 0,unable to generate class balanced samples.\n",
      "N foreground 16115, N  background 0,unable to generate class balanced samples.\n",
      "N foreground 14809, N  background 0,unable to generate class balanced samples.\n",
      "N foreground 16438, N  background 0,unable to generate class balanced samples.\n",
      "N foreground 15909, N  background 0,unable to generate class balanced samples.\n",
      "N foreground 16388, N  background 0,unable to generate class balanced samples.\n",
      "N foreground 10992, N  background 0,unable to generate class balanced samples.\n",
      "N foreground 12122, N  background 0,unable to generate class balanced samples.\n",
      "N foreground 13138, N  background 0,unable to generate class balanced samples.\n",
      "N foreground 16450, N  background 0,unable to generate class balanced samples.\n",
      "N foreground 15184, N  background 0,unable to generate class balanced samples.\n",
      "N foreground 16682, N  background 0,unable to generate class balanced samples.\n",
      "N foreground 10474, N  background 0,unable to generate class balanced samples.\n",
      "N foreground 14317, N  background 0,unable to generate class balanced samples.\n"
     ]
    },
    {
     "name": "stdout",
     "output_type": "stream",
     "text": [
      "1/13, train_loss: 0.1747\n",
      "2/13, train_loss: 0.1940\n",
      "3/13, train_loss: 0.1606\n",
      "4/13, train_loss: 0.1587\n",
      "5/13, train_loss: 0.1562\n",
      "6/13, train_loss: 0.1576\n",
      "7/13, train_loss: 0.1793\n",
      "8/13, train_loss: 0.1682\n",
      "9/13, train_loss: 0.1867\n",
      "10/13, train_loss: 0.1899\n",
      "11/13, train_loss: 0.1761\n",
      "12/13, train_loss: 0.1685\n",
      "13/13, train_loss: 0.1699\n",
      "epoch 47 average loss: 0.1723\n"
     ]
    },
    {
     "name": "stderr",
     "output_type": "stream",
     "text": [
      "N foreground 13080, N  background 0,unable to generate class balanced samples.\n",
      "N foreground 10539, N  background 0,unable to generate class balanced samples.\n",
      "N foreground 13981, N  background 0,unable to generate class balanced samples.\n",
      "N foreground 14149, N  background 0,unable to generate class balanced samples.\n",
      "N foreground 14351, N  background 0,unable to generate class balanced samples.\n",
      "N foreground 16021, N  background 0,unable to generate class balanced samples.\n",
      "N foreground 18264, N  background 0,unable to generate class balanced samples.\n",
      "N foreground 14458, N  background 0,unable to generate class balanced samples.\n",
      "N foreground 14199, N  background 0,unable to generate class balanced samples.\n"
     ]
    },
    {
     "name": "stdout",
     "output_type": "stream",
     "text": [
      "saved new best metric model\n",
      "current epoch: 47 current mean dice: 0.8577\n",
      "best mean dice: 0.8577at epoch: 47\n",
      "----------\n",
      "epoch 48/150\n"
     ]
    },
    {
     "name": "stderr",
     "output_type": "stream",
     "text": [
      "N foreground 12122, N  background 0,unable to generate class balanced samples.\n",
      "N foreground 10474, N  background 0,unable to generate class balanced samples.\n",
      "N foreground 19210, N  background 0,unable to generate class balanced samples.\n",
      "N foreground 16388, N  background 0,unable to generate class balanced samples.\n",
      "N foreground 10533, N  background 0,unable to generate class balanced samples.\n",
      "N foreground 13138, N  background 0,unable to generate class balanced samples.\n",
      "N foreground 15619, N  background 0,unable to generate class balanced samples.\n",
      "N foreground 15909, N  background 0,unable to generate class balanced samples.\n",
      "N foreground 16450, N  background 0,unable to generate class balanced samples.\n",
      "N foreground 16682, N  background 0,unable to generate class balanced samples.\n",
      "N foreground 16115, N  background 0,unable to generate class balanced samples.\n",
      "N foreground 14262, N  background 0,unable to generate class balanced samples.\n",
      "N foreground 14809, N  background 0,unable to generate class balanced samples.\n",
      "N foreground 8935, N  background 0,unable to generate class balanced samples.\n",
      "N foreground 13064, N  background 0,unable to generate class balanced samples.\n",
      "N foreground 14317, N  background 0,unable to generate class balanced samples.\n",
      "N foreground 17716, N  background 0,unable to generate class balanced samples.\n",
      "N foreground 22593, N  background 0,unable to generate class balanced samples.\n",
      "N foreground 16438, N  background 0,unable to generate class balanced samples.\n",
      "N foreground 13809, N  background 0,unable to generate class balanced samples.\n",
      "N foreground 10992, N  background 0,unable to generate class balanced samples.\n",
      "N foreground 13958, N  background 0,unable to generate class balanced samples.\n",
      "N foreground 15838, N  background 0,unable to generate class balanced samples.\n",
      "N foreground 15184, N  background 0,unable to generate class balanced samples.\n",
      "N foreground 14230, N  background 0,unable to generate class balanced samples.\n",
      "N foreground 17097, N  background 0,unable to generate class balanced samples.\n"
     ]
    },
    {
     "name": "stdout",
     "output_type": "stream",
     "text": [
      "1/13, train_loss: 0.1757\n",
      "2/13, train_loss: 0.2152\n",
      "3/13, train_loss: 0.1860\n",
      "4/13, train_loss: 0.1570\n",
      "5/13, train_loss: 0.1640\n",
      "6/13, train_loss: 0.1801\n",
      "7/13, train_loss: 0.1752\n",
      "8/13, train_loss: 0.1764\n",
      "9/13, train_loss: 0.1754\n",
      "10/13, train_loss: 0.1669\n",
      "11/13, train_loss: 0.1596\n",
      "12/13, train_loss: 0.1706\n",
      "13/13, train_loss: 0.1650\n",
      "epoch 48 average loss: 0.1744\n"
     ]
    },
    {
     "name": "stderr",
     "output_type": "stream",
     "text": [
      "N foreground 14351, N  background 0,unable to generate class balanced samples.\n",
      "N foreground 18264, N  background 0,unable to generate class balanced samples.\n",
      "N foreground 16021, N  background 0,unable to generate class balanced samples.\n",
      "N foreground 14149, N  background 0,unable to generate class balanced samples.\n",
      "N foreground 10539, N  background 0,unable to generate class balanced samples.\n",
      "N foreground 13981, N  background 0,unable to generate class balanced samples.\n",
      "N foreground 13080, N  background 0,unable to generate class balanced samples.\n",
      "N foreground 14458, N  background 0,unable to generate class balanced samples.\n",
      "N foreground 14199, N  background 0,unable to generate class balanced samples.\n"
     ]
    },
    {
     "name": "stdout",
     "output_type": "stream",
     "text": [
      "saved new best metric model\n",
      "current epoch: 48 current mean dice: 0.8594\n",
      "best mean dice: 0.8594at epoch: 48\n",
      "----------\n",
      "epoch 49/150\n"
     ]
    },
    {
     "name": "stderr",
     "output_type": "stream",
     "text": [
      "N foreground 17097, N  background 0,unable to generate class balanced samples.\n",
      "N foreground 15909, N  background 0,unable to generate class balanced samples.\n",
      "N foreground 13958, N  background 0,unable to generate class balanced samples.\n",
      "N foreground 15184, N  background 0,unable to generate class balanced samples.\n",
      "N foreground 10992, N  background 0,unable to generate class balanced samples.\n",
      "N foreground 14230, N  background 0,unable to generate class balanced samples.\n",
      "N foreground 22593, N  background 0,unable to generate class balanced samples.\n",
      "N foreground 14262, N  background 0,unable to generate class balanced samples.\n",
      "N foreground 8935, N  background 0,unable to generate class balanced samples.\n",
      "N foreground 14809, N  background 0,unable to generate class balanced samples.\n",
      "N foreground 17716, N  background 0,unable to generate class balanced samples.\n",
      "N foreground 10533, N  background 0,unable to generate class balanced samples.\n",
      "N foreground 12122, N  background 0,unable to generate class balanced samples.\n",
      "N foreground 14317, N  background 0,unable to generate class balanced samples.\n",
      "N foreground 16682, N  background 0,unable to generate class balanced samples.\n",
      "N foreground 16450, N  background 0,unable to generate class balanced samples.\n",
      "N foreground 13138, N  background 0,unable to generate class balanced samples.\n",
      "N foreground 16438, N  background 0,unable to generate class balanced samples.\n",
      "N foreground 16388, N  background 0,unable to generate class balanced samples.\n",
      "N foreground 10474, N  background 0,unable to generate class balanced samples.\n",
      "N foreground 16115, N  background 0,unable to generate class balanced samples.\n",
      "N foreground 13064, N  background 0,unable to generate class balanced samples.\n",
      "N foreground 15838, N  background 0,unable to generate class balanced samples.\n",
      "N foreground 19210, N  background 0,unable to generate class balanced samples.\n",
      "N foreground 13809, N  background 0,unable to generate class balanced samples.\n",
      "N foreground 15619, N  background 0,unable to generate class balanced samples.\n"
     ]
    },
    {
     "name": "stdout",
     "output_type": "stream",
     "text": [
      "1/13, train_loss: 0.1605\n",
      "2/13, train_loss: 0.1719\n",
      "3/13, train_loss: 0.1796\n",
      "4/13, train_loss: 0.1956\n",
      "5/13, train_loss: 0.1784\n",
      "6/13, train_loss: 0.1896\n",
      "7/13, train_loss: 0.1542\n",
      "8/13, train_loss: 0.1538\n",
      "9/13, train_loss: 0.1725\n",
      "10/13, train_loss: 0.1732\n",
      "11/13, train_loss: 0.1931\n",
      "12/13, train_loss: 0.1604\n",
      "13/13, train_loss: 0.1659\n",
      "epoch 49 average loss: 0.1730\n"
     ]
    },
    {
     "name": "stderr",
     "output_type": "stream",
     "text": [
      "N foreground 14149, N  background 0,unable to generate class balanced samples.\n",
      "N foreground 13981, N  background 0,unable to generate class balanced samples.\n",
      "N foreground 18264, N  background 0,unable to generate class balanced samples.\n",
      "N foreground 13080, N  background 0,unable to generate class balanced samples.\n",
      "N foreground 14351, N  background 0,unable to generate class balanced samples.\n",
      "N foreground 10539, N  background 0,unable to generate class balanced samples.\n",
      "N foreground 16021, N  background 0,unable to generate class balanced samples.\n",
      "N foreground 14458, N  background 0,unable to generate class balanced samples.\n",
      "N foreground 14199, N  background 0,unable to generate class balanced samples.\n"
     ]
    },
    {
     "name": "stdout",
     "output_type": "stream",
     "text": [
      "current epoch: 49 current mean dice: 0.8532\n",
      "best mean dice: 0.8594at epoch: 48\n",
      "----------\n",
      "epoch 50/150\n"
     ]
    },
    {
     "name": "stderr",
     "output_type": "stream",
     "text": [
      "N foreground 17097, N  background 0,unable to generate class balanced samples.\n",
      "N foreground 10992, N  background 0,unable to generate class balanced samples.\n",
      "N foreground 10474, N  background 0,unable to generate class balanced samples.\n",
      "N foreground 13138, N  background 0,unable to generate class balanced samples.\n",
      "N foreground 16438, N  background 0,unable to generate class balanced samples.\n",
      "N foreground 15838, N  background 0,unable to generate class balanced samples.\n",
      "N foreground 10533, N  background 0,unable to generate class balanced samples.\n",
      "N foreground 16450, N  background 0,unable to generate class balanced samples.\n",
      "N foreground 14317, N  background 0,unable to generate class balanced samples.\n",
      "N foreground 16388, N  background 0,unable to generate class balanced samples.\n",
      "N foreground 13809, N  background 0,unable to generate class balanced samples.\n",
      "N foreground 16682, N  background 0,unable to generate class balanced samples.\n",
      "N foreground 22593, N  background 0,unable to generate class balanced samples.\n",
      "N foreground 12122, N  background 0,unable to generate class balanced samples.\n",
      "N foreground 16115, N  background 0,unable to generate class balanced samples.\n",
      "N foreground 15619, N  background 0,unable to generate class balanced samples.\n",
      "N foreground 13958, N  background 0,unable to generate class balanced samples.\n",
      "N foreground 19210, N  background 0,unable to generate class balanced samples.\n",
      "N foreground 8935, N  background 0,unable to generate class balanced samples.\n",
      "N foreground 14262, N  background 0,unable to generate class balanced samples.\n",
      "N foreground 17716, N  background 0,unable to generate class balanced samples.\n",
      "N foreground 15184, N  background 0,unable to generate class balanced samples.\n",
      "N foreground 14230, N  background 0,unable to generate class balanced samples.\n",
      "N foreground 15909, N  background 0,unable to generate class balanced samples.\n",
      "N foreground 14809, N  background 0,unable to generate class balanced samples.\n",
      "N foreground 13064, N  background 0,unable to generate class balanced samples.\n"
     ]
    },
    {
     "name": "stdout",
     "output_type": "stream",
     "text": [
      "1/13, train_loss: 0.1670\n",
      "2/13, train_loss: 0.1756\n",
      "3/13, train_loss: 0.1649\n",
      "4/13, train_loss: 0.1704\n",
      "5/13, train_loss: 0.1712\n",
      "6/13, train_loss: 0.1717\n",
      "7/13, train_loss: 0.1826\n",
      "8/13, train_loss: 0.1606\n",
      "9/13, train_loss: 0.1749\n",
      "10/13, train_loss: 0.1543\n",
      "11/13, train_loss: 0.1596\n",
      "12/13, train_loss: 0.1953\n",
      "13/13, train_loss: 0.1725\n",
      "epoch 50 average loss: 0.1708\n"
     ]
    },
    {
     "name": "stderr",
     "output_type": "stream",
     "text": [
      "N foreground 18264, N  background 0,unable to generate class balanced samples.\n",
      "N foreground 13981, N  background 0,unable to generate class balanced samples.\n",
      "N foreground 10539, N  background 0,unable to generate class balanced samples.\n",
      "N foreground 16021, N  background 0,unable to generate class balanced samples.\n",
      "N foreground 14351, N  background 0,unable to generate class balanced samples.\n",
      "N foreground 13080, N  background 0,unable to generate class balanced samples.\n",
      "N foreground 14149, N  background 0,unable to generate class balanced samples.\n",
      "N foreground 14458, N  background 0,unable to generate class balanced samples.\n",
      "N foreground 14199, N  background 0,unable to generate class balanced samples.\n"
     ]
    },
    {
     "name": "stdout",
     "output_type": "stream",
     "text": [
      "current epoch: 50 current mean dice: 0.8532\n",
      "best mean dice: 0.8594at epoch: 48\n",
      "----------\n",
      "epoch 51/150\n"
     ]
    },
    {
     "name": "stderr",
     "output_type": "stream",
     "text": [
      "N foreground 22593, N  background 0,unable to generate class balanced samples.\n",
      "N foreground 16115, N  background 0,unable to generate class balanced samples.\n",
      "N foreground 10533, N  background 0,unable to generate class balanced samples.\n",
      "N foreground 13809, N  background 0,unable to generate class balanced samples.\n",
      "N foreground 16438, N  background 0,unable to generate class balanced samples.\n",
      "N foreground 13958, N  background 0,unable to generate class balanced samples.\n",
      "N foreground 12122, N  background 0,unable to generate class balanced samples.\n",
      "N foreground 19210, N  background 0,unable to generate class balanced samples.\n",
      "N foreground 13064, N  background 0,unable to generate class balanced samples.\n",
      "N foreground 16388, N  background 0,unable to generate class balanced samples.\n",
      "N foreground 17097, N  background 0,unable to generate class balanced samples.\n",
      "N foreground 8935, N  background 0,unable to generate class balanced samples.\n",
      "N foreground 10992, N  background 0,unable to generate class balanced samples.\n",
      "N foreground 13138, N  background 0,unable to generate class balanced samples.\n",
      "N foreground 16450, N  background 0,unable to generate class balanced samples.\n",
      "N foreground 17716, N  background 0,unable to generate class balanced samples.\n",
      "N foreground 14230, N  background 0,unable to generate class balanced samples.\n",
      "N foreground 15619, N  background 0,unable to generate class balanced samples.\n",
      "N foreground 15838, N  background 0,unable to generate class balanced samples.\n",
      "N foreground 15184, N  background 0,unable to generate class balanced samples.\n",
      "N foreground 14809, N  background 0,unable to generate class balanced samples.\n",
      "N foreground 14262, N  background 0,unable to generate class balanced samples.\n",
      "N foreground 15909, N  background 0,unable to generate class balanced samples.\n",
      "N foreground 10474, N  background 0,unable to generate class balanced samples.\n",
      "N foreground 14317, N  background 0,unable to generate class balanced samples.\n",
      "N foreground 16682, N  background 0,unable to generate class balanced samples.\n"
     ]
    },
    {
     "name": "stdout",
     "output_type": "stream",
     "text": [
      "1/13, train_loss: 0.1675\n",
      "2/13, train_loss: 0.1680\n",
      "3/13, train_loss: 0.1838\n",
      "4/13, train_loss: 0.1779\n",
      "5/13, train_loss: 0.1774\n",
      "6/13, train_loss: 0.1587\n",
      "7/13, train_loss: 0.1707\n",
      "8/13, train_loss: 0.1543\n",
      "9/13, train_loss: 0.1766\n",
      "10/13, train_loss: 0.1687\n",
      "11/13, train_loss: 0.1527\n",
      "12/13, train_loss: 0.1860\n",
      "13/13, train_loss: 0.1835\n",
      "epoch 51 average loss: 0.1712\n"
     ]
    },
    {
     "name": "stderr",
     "output_type": "stream",
     "text": [
      "N foreground 14351, N  background 0,unable to generate class balanced samples.\n",
      "N foreground 16021, N  background 0,unable to generate class balanced samples.\n",
      "N foreground 10539, N  background 0,unable to generate class balanced samples.\n",
      "N foreground 13080, N  background 0,unable to generate class balanced samples.\n",
      "N foreground 18264, N  background 0,unable to generate class balanced samples.\n",
      "N foreground 14149, N  background 0,unable to generate class balanced samples.\n",
      "N foreground 13981, N  background 0,unable to generate class balanced samples.\n",
      "N foreground 14458, N  background 0,unable to generate class balanced samples.\n",
      "N foreground 14199, N  background 0,unable to generate class balanced samples.\n"
     ]
    },
    {
     "name": "stdout",
     "output_type": "stream",
     "text": [
      "current epoch: 51 current mean dice: 0.8585\n",
      "best mean dice: 0.8594at epoch: 48\n",
      "----------\n",
      "epoch 52/150\n"
     ]
    },
    {
     "name": "stderr",
     "output_type": "stream",
     "text": [
      "N foreground 17097, N  background 0,unable to generate class balanced samples.\n",
      "N foreground 8935, N  background 0,unable to generate class balanced samples.\n",
      "N foreground 10533, N  background 0,unable to generate class balanced samples.\n",
      "N foreground 10474, N  background 0,unable to generate class balanced samples.\n",
      "N foreground 14317, N  background 0,unable to generate class balanced samples.\n",
      "N foreground 14809, N  background 0,unable to generate class balanced samples.\n",
      "N foreground 15838, N  background 0,unable to generate class balanced samples.\n",
      "N foreground 13064, N  background 0,unable to generate class balanced samples.\n",
      "N foreground 14262, N  background 0,unable to generate class balanced samples.\n",
      "N foreground 14230, N  background 0,unable to generate class balanced samples.\n",
      "N foreground 16438, N  background 0,unable to generate class balanced samples.\n",
      "N foreground 10992, N  background 0,unable to generate class balanced samples.\n",
      "N foreground 13138, N  background 0,unable to generate class balanced samples.\n",
      "N foreground 16450, N  background 0,unable to generate class balanced samples.\n",
      "N foreground 15184, N  background 0,unable to generate class balanced samples.\n",
      "N foreground 15619, N  background 0,unable to generate class balanced samples.\n",
      "N foreground 16388, N  background 0,unable to generate class balanced samples.\n",
      "N foreground 12122, N  background 0,unable to generate class balanced samples.\n",
      "N foreground 13809, N  background 0,unable to generate class balanced samples.\n",
      "N foreground 15909, N  background 0,unable to generate class balanced samples.\n",
      "N foreground 13958, N  background 0,unable to generate class balanced samples.\n",
      "N foreground 19210, N  background 0,unable to generate class balanced samples.\n",
      "N foreground 16682, N  background 0,unable to generate class balanced samples.\n",
      "N foreground 17716, N  background 0,unable to generate class balanced samples.\n",
      "N foreground 16115, N  background 0,unable to generate class balanced samples.\n",
      "N foreground 22593, N  background 0,unable to generate class balanced samples.\n"
     ]
    },
    {
     "name": "stdout",
     "output_type": "stream",
     "text": [
      "1/13, train_loss: 0.1751\n",
      "2/13, train_loss: 0.1696\n",
      "3/13, train_loss: 0.1565\n",
      "4/13, train_loss: 0.1744\n",
      "5/13, train_loss: 0.1842\n",
      "6/13, train_loss: 0.1750\n",
      "7/13, train_loss: 0.1675\n",
      "8/13, train_loss: 0.1695\n",
      "9/13, train_loss: 0.1680\n",
      "10/13, train_loss: 0.1675\n",
      "11/13, train_loss: 0.1531\n",
      "12/13, train_loss: 0.1722\n",
      "13/13, train_loss: 0.1655\n",
      "epoch 52 average loss: 0.1691\n"
     ]
    },
    {
     "name": "stderr",
     "output_type": "stream",
     "text": [
      "N foreground 13981, N  background 0,unable to generate class balanced samples.\n",
      "N foreground 13080, N  background 0,unable to generate class balanced samples.\n",
      "N foreground 18264, N  background 0,unable to generate class balanced samples.\n",
      "N foreground 14149, N  background 0,unable to generate class balanced samples.\n",
      "N foreground 14351, N  background 0,unable to generate class balanced samples.\n",
      "N foreground 16021, N  background 0,unable to generate class balanced samples.\n",
      "N foreground 10539, N  background 0,unable to generate class balanced samples.\n",
      "N foreground 14458, N  background 0,unable to generate class balanced samples.\n",
      "N foreground 14199, N  background 0,unable to generate class balanced samples.\n"
     ]
    },
    {
     "name": "stdout",
     "output_type": "stream",
     "text": [
      "current epoch: 52 current mean dice: 0.8557\n",
      "best mean dice: 0.8594at epoch: 48\n",
      "----------\n",
      "epoch 53/150\n"
     ]
    },
    {
     "name": "stderr",
     "output_type": "stream",
     "text": [
      "N foreground 16450, N  background 0,unable to generate class balanced samples.\n",
      "N foreground 15909, N  background 0,unable to generate class balanced samples.\n",
      "N foreground 13958, N  background 0,unable to generate class balanced samples.\n",
      "N foreground 14809, N  background 0,unable to generate class balanced samples.\n",
      "N foreground 14317, N  background 0,unable to generate class balanced samples.\n",
      "N foreground 10474, N  background 0,unable to generate class balanced samples.\n",
      "N foreground 16438, N  background 0,unable to generate class balanced samples.\n",
      "N foreground 13809, N  background 0,unable to generate class balanced samples.\n",
      "N foreground 14262, N  background 0,unable to generate class balanced samples.\n",
      "N foreground 13064, N  background 0,unable to generate class balanced samples.\n",
      "N foreground 8935, N  background 0,unable to generate class balanced samples.\n",
      "N foreground 10992, N  background 0,unable to generate class balanced samples.\n",
      "N foreground 15619, N  background 0,unable to generate class balanced samples.\n",
      "N foreground 14230, N  background 0,unable to generate class balanced samples.\n",
      "N foreground 10533, N  background 0,unable to generate class balanced samples.\n",
      "N foreground 13138, N  background 0,unable to generate class balanced samples.\n",
      "N foreground 16682, N  background 0,unable to generate class balanced samples.\n",
      "N foreground 17716, N  background 0,unable to generate class balanced samples.\n",
      "N foreground 16115, N  background 0,unable to generate class balanced samples.\n",
      "N foreground 17097, N  background 0,unable to generate class balanced samples.\n",
      "N foreground 15838, N  background 0,unable to generate class balanced samples.\n",
      "N foreground 12122, N  background 0,unable to generate class balanced samples.\n",
      "N foreground 15184, N  background 0,unable to generate class balanced samples.\n",
      "N foreground 22593, N  background 0,unable to generate class balanced samples.\n",
      "N foreground 19210, N  background 0,unable to generate class balanced samples.\n",
      "N foreground 16388, N  background 0,unable to generate class balanced samples.\n"
     ]
    },
    {
     "name": "stdout",
     "output_type": "stream",
     "text": [
      "1/13, train_loss: 0.1760\n",
      "2/13, train_loss: 0.1618\n",
      "3/13, train_loss: 0.1782\n",
      "4/13, train_loss: 0.1834\n",
      "5/13, train_loss: 0.1726\n",
      "6/13, train_loss: 0.1757\n",
      "7/13, train_loss: 0.1478\n",
      "8/13, train_loss: 0.1572\n",
      "9/13, train_loss: 0.1625\n",
      "10/13, train_loss: 0.1748\n",
      "11/13, train_loss: 0.1454\n",
      "12/13, train_loss: 0.1581\n",
      "13/13, train_loss: 0.1694\n",
      "epoch 53 average loss: 0.1664\n"
     ]
    },
    {
     "name": "stderr",
     "output_type": "stream",
     "text": [
      "N foreground 13080, N  background 0,unable to generate class balanced samples.\n",
      "N foreground 13981, N  background 0,unable to generate class balanced samples.\n",
      "N foreground 10539, N  background 0,unable to generate class balanced samples.\n",
      "N foreground 14351, N  background 0,unable to generate class balanced samples.\n",
      "N foreground 14149, N  background 0,unable to generate class balanced samples.\n",
      "N foreground 18264, N  background 0,unable to generate class balanced samples.\n",
      "N foreground 16021, N  background 0,unable to generate class balanced samples.\n",
      "N foreground 14458, N  background 0,unable to generate class balanced samples.\n",
      "N foreground 14199, N  background 0,unable to generate class balanced samples.\n"
     ]
    },
    {
     "name": "stdout",
     "output_type": "stream",
     "text": [
      "current epoch: 53 current mean dice: 0.8579\n",
      "best mean dice: 0.8594at epoch: 48\n",
      "----------\n",
      "epoch 54/150\n"
     ]
    },
    {
     "name": "stderr",
     "output_type": "stream",
     "text": [
      "N foreground 22593, N  background 0,unable to generate class balanced samples.\n",
      "N foreground 17716, N  background 0,unable to generate class balanced samples.\n",
      "N foreground 13064, N  background 0,unable to generate class balanced samples.\n",
      "N foreground 16450, N  background 0,unable to generate class balanced samples.\n",
      "N foreground 13138, N  background 0,unable to generate class balanced samples.\n",
      "N foreground 15909, N  background 0,unable to generate class balanced samples.\n",
      "N foreground 13958, N  background 0,unable to generate class balanced samples.\n",
      "N foreground 14317, N  background 0,unable to generate class balanced samples.\n",
      "N foreground 14230, N  background 0,unable to generate class balanced samples.\n",
      "N foreground 16438, N  background 0,unable to generate class balanced samples.\n",
      "N foreground 15184, N  background 0,unable to generate class balanced samples.\n",
      "N foreground 10533, N  background 0,unable to generate class balanced samples.\n",
      "N foreground 12122, N  background 0,unable to generate class balanced samples.\n",
      "N foreground 16682, N  background 0,unable to generate class balanced samples.\n",
      "N foreground 14262, N  background 0,unable to generate class balanced samples.\n",
      "N foreground 19210, N  background 0,unable to generate class balanced samples.\n",
      "N foreground 10992, N  background 0,unable to generate class balanced samples.\n",
      "N foreground 13809, N  background 0,unable to generate class balanced samples.\n",
      "N foreground 16388, N  background 0,unable to generate class balanced samples.\n",
      "N foreground 17097, N  background 0,unable to generate class balanced samples.\n",
      "N foreground 10474, N  background 0,unable to generate class balanced samples.\n",
      "N foreground 8935, N  background 0,unable to generate class balanced samples.\n",
      "N foreground 14809, N  background 0,unable to generate class balanced samples.\n",
      "N foreground 16115, N  background 0,unable to generate class balanced samples.\n",
      "N foreground 15619, N  background 0,unable to generate class balanced samples.\n",
      "N foreground 15838, N  background 0,unable to generate class balanced samples.\n"
     ]
    },
    {
     "name": "stdout",
     "output_type": "stream",
     "text": [
      "1/13, train_loss: 0.1616\n",
      "2/13, train_loss: 0.1501\n",
      "3/13, train_loss: 0.1762\n",
      "4/13, train_loss: 0.1463\n",
      "5/13, train_loss: 0.1596\n",
      "6/13, train_loss: 0.1643\n",
      "7/13, train_loss: 0.1714\n",
      "8/13, train_loss: 0.1777\n",
      "9/13, train_loss: 0.1816\n",
      "10/13, train_loss: 0.1671\n",
      "11/13, train_loss: 0.1615\n",
      "12/13, train_loss: 0.1845\n",
      "13/13, train_loss: 0.1607\n",
      "epoch 54 average loss: 0.1663\n"
     ]
    },
    {
     "name": "stderr",
     "output_type": "stream",
     "text": [
      "N foreground 18264, N  background 0,unable to generate class balanced samples.\n",
      "N foreground 16021, N  background 0,unable to generate class balanced samples.\n",
      "N foreground 14149, N  background 0,unable to generate class balanced samples.\n",
      "N foreground 13981, N  background 0,unable to generate class balanced samples.\n",
      "N foreground 10539, N  background 0,unable to generate class balanced samples.\n",
      "N foreground 13080, N  background 0,unable to generate class balanced samples.\n",
      "N foreground 14351, N  background 0,unable to generate class balanced samples.\n",
      "N foreground 14458, N  background 0,unable to generate class balanced samples.\n",
      "N foreground 14199, N  background 0,unable to generate class balanced samples.\n"
     ]
    },
    {
     "name": "stdout",
     "output_type": "stream",
     "text": [
      "current epoch: 54 current mean dice: 0.8575\n",
      "best mean dice: 0.8594at epoch: 48\n",
      "----------\n",
      "epoch 55/150\n"
     ]
    },
    {
     "name": "stderr",
     "output_type": "stream",
     "text": [
      "N foreground 15838, N  background 0,unable to generate class balanced samples.\n",
      "N foreground 22593, N  background 0,unable to generate class balanced samples.\n",
      "N foreground 14317, N  background 0,unable to generate class balanced samples.\n",
      "N foreground 10992, N  background 0,unable to generate class balanced samples.\n",
      "N foreground 13064, N  background 0,unable to generate class balanced samples.\n",
      "N foreground 16682, N  background 0,unable to generate class balanced samples.\n",
      "N foreground 15619, N  background 0,unable to generate class balanced samples.\n",
      "N foreground 16388, N  background 0,unable to generate class balanced samples.\n",
      "N foreground 14262, N  background 0,unable to generate class balanced samples.\n",
      "N foreground 17097, N  background 0,unable to generate class balanced samples.\n",
      "N foreground 15909, N  background 0,unable to generate class balanced samples.\n",
      "N foreground 17716, N  background 0,unable to generate class balanced samples.\n",
      "N foreground 13958, N  background 0,unable to generate class balanced samples.\n",
      "N foreground 10533, N  background 0,unable to generate class balanced samples.\n",
      "N foreground 14809, N  background 0,unable to generate class balanced samples.\n",
      "N foreground 12122, N  background 0,unable to generate class balanced samples.\n",
      "N foreground 14230, N  background 0,unable to generate class balanced samples.\n",
      "N foreground 8935, N  background 0,unable to generate class balanced samples.\n",
      "N foreground 15184, N  background 0,unable to generate class balanced samples.\n",
      "N foreground 10474, N  background 0,unable to generate class balanced samples.\n",
      "N foreground 16450, N  background 0,unable to generate class balanced samples.\n",
      "N foreground 19210, N  background 0,unable to generate class balanced samples.\n",
      "N foreground 13809, N  background 0,unable to generate class balanced samples.\n",
      "N foreground 16438, N  background 0,unable to generate class balanced samples.\n",
      "N foreground 13138, N  background 0,unable to generate class balanced samples.\n",
      "N foreground 16115, N  background 0,unable to generate class balanced samples.\n"
     ]
    },
    {
     "name": "stdout",
     "output_type": "stream",
     "text": [
      "1/13, train_loss: 0.1761\n",
      "2/13, train_loss: 0.1709\n",
      "3/13, train_loss: 0.1705\n",
      "4/13, train_loss: 0.1496\n",
      "5/13, train_loss: 0.1612\n",
      "6/13, train_loss: 0.1691\n",
      "7/13, train_loss: 0.1426\n",
      "8/13, train_loss: 0.1612\n",
      "9/13, train_loss: 0.1791\n",
      "10/13, train_loss: 0.1692\n",
      "11/13, train_loss: 0.1648\n",
      "12/13, train_loss: 0.1636\n",
      "13/13, train_loss: 0.1777\n",
      "epoch 55 average loss: 0.1658\n"
     ]
    },
    {
     "name": "stderr",
     "output_type": "stream",
     "text": [
      "N foreground 16021, N  background 0,unable to generate class balanced samples.\n",
      "N foreground 13981, N  background 0,unable to generate class balanced samples.\n",
      "N foreground 18264, N  background 0,unable to generate class balanced samples.\n",
      "N foreground 10539, N  background 0,unable to generate class balanced samples.\n",
      "N foreground 14149, N  background 0,unable to generate class balanced samples.\n",
      "N foreground 13080, N  background 0,unable to generate class balanced samples.\n",
      "N foreground 14351, N  background 0,unable to generate class balanced samples.\n",
      "N foreground 14458, N  background 0,unable to generate class balanced samples.\n",
      "N foreground 14199, N  background 0,unable to generate class balanced samples.\n"
     ]
    },
    {
     "name": "stdout",
     "output_type": "stream",
     "text": [
      "saved new best metric model\n",
      "current epoch: 55 current mean dice: 0.8635\n",
      "best mean dice: 0.8635at epoch: 55\n",
      "----------\n",
      "epoch 56/150\n"
     ]
    },
    {
     "name": "stderr",
     "output_type": "stream",
     "text": [
      "N foreground 15838, N  background 0,unable to generate class balanced samples.\n",
      "N foreground 14809, N  background 0,unable to generate class balanced samples.\n",
      "N foreground 15619, N  background 0,unable to generate class balanced samples.\n",
      "N foreground 13138, N  background 0,unable to generate class balanced samples.\n",
      "N foreground 22593, N  background 0,unable to generate class balanced samples.\n",
      "N foreground 16388, N  background 0,unable to generate class balanced samples.\n",
      "N foreground 8935, N  background 0,unable to generate class balanced samples.\n",
      "N foreground 14262, N  background 0,unable to generate class balanced samples.\n",
      "N foreground 14230, N  background 0,unable to generate class balanced samples.\n",
      "N foreground 19210, N  background 0,unable to generate class balanced samples.\n",
      "N foreground 13958, N  background 0,unable to generate class balanced samples.\n",
      "N foreground 15184, N  background 0,unable to generate class balanced samples.\n",
      "N foreground 10533, N  background 0,unable to generate class balanced samples.\n",
      "N foreground 10992, N  background 0,unable to generate class balanced samples.\n",
      "N foreground 16682, N  background 0,unable to generate class balanced samples.\n",
      "N foreground 15909, N  background 0,unable to generate class balanced samples.\n",
      "N foreground 14317, N  background 0,unable to generate class balanced samples.\n",
      "N foreground 17716, N  background 0,unable to generate class balanced samples.\n",
      "N foreground 17097, N  background 0,unable to generate class balanced samples.\n",
      "N foreground 10474, N  background 0,unable to generate class balanced samples.\n",
      "N foreground 13064, N  background 0,unable to generate class balanced samples.\n",
      "N foreground 16450, N  background 0,unable to generate class balanced samples.\n",
      "N foreground 12122, N  background 0,unable to generate class balanced samples.\n",
      "N foreground 16438, N  background 0,unable to generate class balanced samples.\n",
      "N foreground 16115, N  background 0,unable to generate class balanced samples.\n",
      "N foreground 13809, N  background 0,unable to generate class balanced samples.\n"
     ]
    },
    {
     "name": "stdout",
     "output_type": "stream",
     "text": [
      "1/13, train_loss: 0.1625\n",
      "2/13, train_loss: 0.1611\n",
      "3/13, train_loss: 0.1539\n",
      "4/13, train_loss: 0.1704\n",
      "5/13, train_loss: 0.1578\n",
      "6/13, train_loss: 0.1579\n",
      "7/13, train_loss: 0.1805\n",
      "8/13, train_loss: 0.1493\n",
      "9/13, train_loss: 0.1823\n",
      "10/13, train_loss: 0.1550\n",
      "11/13, train_loss: 0.1597\n",
      "12/13, train_loss: 0.1474\n",
      "13/13, train_loss: 0.1680\n",
      "epoch 56 average loss: 0.1620\n"
     ]
    },
    {
     "name": "stderr",
     "output_type": "stream",
     "text": [
      "N foreground 13080, N  background 0,unable to generate class balanced samples.\n",
      "N foreground 13981, N  background 0,unable to generate class balanced samples.\n",
      "N foreground 16021, N  background 0,unable to generate class balanced samples.\n",
      "N foreground 18264, N  background 0,unable to generate class balanced samples.\n",
      "N foreground 14351, N  background 0,unable to generate class balanced samples.\n",
      "N foreground 10539, N  background 0,unable to generate class balanced samples.\n",
      "N foreground 14149, N  background 0,unable to generate class balanced samples.\n",
      "N foreground 14458, N  background 0,unable to generate class balanced samples.\n",
      "N foreground 14199, N  background 0,unable to generate class balanced samples.\n"
     ]
    },
    {
     "name": "stdout",
     "output_type": "stream",
     "text": [
      "current epoch: 56 current mean dice: 0.8598\n",
      "best mean dice: 0.8635at epoch: 55\n",
      "----------\n",
      "epoch 57/150\n"
     ]
    },
    {
     "name": "stderr",
     "output_type": "stream",
     "text": [
      "N foreground 19210, N  background 0,unable to generate class balanced samples.\n",
      "N foreground 16450, N  background 0,unable to generate class balanced samples.\n",
      "N foreground 14230, N  background 0,unable to generate class balanced samples.\n",
      "N foreground 17097, N  background 0,unable to generate class balanced samples.\n",
      "N foreground 16438, N  background 0,unable to generate class balanced samples.\n",
      "N foreground 13138, N  background 0,unable to generate class balanced samples.\n",
      "N foreground 12122, N  background 0,unable to generate class balanced samples.\n",
      "N foreground 15619, N  background 0,unable to generate class balanced samples.\n",
      "N foreground 10533, N  background 0,unable to generate class balanced samples.\n",
      "N foreground 10992, N  background 0,unable to generate class balanced samples.\n",
      "N foreground 13958, N  background 0,unable to generate class balanced samples.\n",
      "N foreground 16388, N  background 0,unable to generate class balanced samples.\n",
      "N foreground 15909, N  background 0,unable to generate class balanced samples.\n",
      "N foreground 15184, N  background 0,unable to generate class balanced samples.\n",
      "N foreground 14809, N  background 0,unable to generate class balanced samples.\n",
      "N foreground 22593, N  background 0,unable to generate class balanced samples.\n",
      "N foreground 16115, N  background 0,unable to generate class balanced samples.\n",
      "N foreground 17716, N  background 0,unable to generate class balanced samples.\n",
      "N foreground 16682, N  background 0,unable to generate class balanced samples.\n",
      "N foreground 13809, N  background 0,unable to generate class balanced samples.\n",
      "N foreground 15838, N  background 0,unable to generate class balanced samples.\n",
      "N foreground 13064, N  background 0,unable to generate class balanced samples.\n",
      "N foreground 14317, N  background 0,unable to generate class balanced samples.\n",
      "N foreground 8935, N  background 0,unable to generate class balanced samples.\n",
      "N foreground 14262, N  background 0,unable to generate class balanced samples.\n",
      "N foreground 10474, N  background 0,unable to generate class balanced samples.\n"
     ]
    },
    {
     "name": "stdout",
     "output_type": "stream",
     "text": [
      "1/13, train_loss: 0.1589\n",
      "2/13, train_loss: 0.1634\n",
      "3/13, train_loss: 0.1598\n",
      "4/13, train_loss: 0.1720\n",
      "5/13, train_loss: 0.1605\n",
      "6/13, train_loss: 0.1594\n",
      "7/13, train_loss: 0.1772\n",
      "8/13, train_loss: 0.1438\n",
      "9/13, train_loss: 0.1468\n",
      "10/13, train_loss: 0.1708\n",
      "11/13, train_loss: 0.1642\n",
      "12/13, train_loss: 0.1752\n",
      "13/13, train_loss: 0.1802\n",
      "epoch 57 average loss: 0.1640\n"
     ]
    },
    {
     "name": "stderr",
     "output_type": "stream",
     "text": [
      "N foreground 13080, N  background 0,unable to generate class balanced samples.\n",
      "N foreground 10539, N  background 0,unable to generate class balanced samples.\n",
      "N foreground 13981, N  background 0,unable to generate class balanced samples.\n",
      "N foreground 16021, N  background 0,unable to generate class balanced samples.\n",
      "N foreground 18264, N  background 0,unable to generate class balanced samples.\n",
      "N foreground 14149, N  background 0,unable to generate class balanced samples.\n",
      "N foreground 14351, N  background 0,unable to generate class balanced samples.\n",
      "N foreground 14458, N  background 0,unable to generate class balanced samples.\n",
      "N foreground 14199, N  background 0,unable to generate class balanced samples.\n"
     ]
    },
    {
     "name": "stdout",
     "output_type": "stream",
     "text": [
      "current epoch: 57 current mean dice: 0.8571\n",
      "best mean dice: 0.8635at epoch: 55\n",
      "----------\n",
      "epoch 58/150\n"
     ]
    },
    {
     "name": "stderr",
     "output_type": "stream",
     "text": [
      "N foreground 10992, N  background 0,unable to generate class balanced samples.\n",
      "N foreground 13064, N  background 0,unable to generate class balanced samples.\n",
      "N foreground 15184, N  background 0,unable to generate class balanced samples.\n",
      "N foreground 22593, N  background 0,unable to generate class balanced samples.\n",
      "N foreground 17097, N  background 0,unable to generate class balanced samples.\n",
      "N foreground 16450, N  background 0,unable to generate class balanced samples.\n",
      "N foreground 16682, N  background 0,unable to generate class balanced samples.\n",
      "N foreground 14230, N  background 0,unable to generate class balanced samples.\n",
      "N foreground 15838, N  background 0,unable to generate class balanced samples.\n",
      "N foreground 17716, N  background 0,unable to generate class balanced samples.\n",
      "N foreground 14262, N  background 0,unable to generate class balanced samples.\n",
      "N foreground 12122, N  background 0,unable to generate class balanced samples.\n",
      "N foreground 16115, N  background 0,unable to generate class balanced samples.\n",
      "N foreground 16388, N  background 0,unable to generate class balanced samples.\n",
      "N foreground 10533, N  background 0,unable to generate class balanced samples.\n",
      "N foreground 15619, N  background 0,unable to generate class balanced samples.\n",
      "N foreground 13958, N  background 0,unable to generate class balanced samples.\n",
      "N foreground 13138, N  background 0,unable to generate class balanced samples.\n",
      "N foreground 19210, N  background 0,unable to generate class balanced samples.\n",
      "N foreground 16438, N  background 0,unable to generate class balanced samples.\n",
      "N foreground 14317, N  background 0,unable to generate class balanced samples.\n",
      "N foreground 8935, N  background 0,unable to generate class balanced samples.\n",
      "N foreground 14809, N  background 0,unable to generate class balanced samples.\n",
      "N foreground 15909, N  background 0,unable to generate class balanced samples.\n",
      "N foreground 10474, N  background 0,unable to generate class balanced samples.\n",
      "N foreground 13809, N  background 0,unable to generate class balanced samples.\n"
     ]
    },
    {
     "name": "stdout",
     "output_type": "stream",
     "text": [
      "1/13, train_loss: 0.1690\n",
      "2/13, train_loss: 0.1441\n",
      "3/13, train_loss: 0.1472\n",
      "4/13, train_loss: 0.1434\n",
      "5/13, train_loss: 0.1649\n",
      "6/13, train_loss: 0.1551\n",
      "7/13, train_loss: 0.1589\n",
      "8/13, train_loss: 0.1523\n",
      "9/13, train_loss: 0.1577\n",
      "10/13, train_loss: 0.1888\n",
      "11/13, train_loss: 0.1774\n",
      "12/13, train_loss: 0.1644\n",
      "13/13, train_loss: 0.1643\n",
      "epoch 58 average loss: 0.1606\n"
     ]
    },
    {
     "name": "stderr",
     "output_type": "stream",
     "text": [
      "N foreground 10539, N  background 0,unable to generate class balanced samples.\n",
      "N foreground 13080, N  background 0,unable to generate class balanced samples.\n",
      "N foreground 18264, N  background 0,unable to generate class balanced samples.\n",
      "N foreground 14351, N  background 0,unable to generate class balanced samples.\n",
      "N foreground 16021, N  background 0,unable to generate class balanced samples.\n",
      "N foreground 14149, N  background 0,unable to generate class balanced samples.\n",
      "N foreground 13981, N  background 0,unable to generate class balanced samples.\n",
      "N foreground 14458, N  background 0,unable to generate class balanced samples.\n",
      "N foreground 14199, N  background 0,unable to generate class balanced samples.\n"
     ]
    },
    {
     "name": "stdout",
     "output_type": "stream",
     "text": [
      "current epoch: 58 current mean dice: 0.8603\n",
      "best mean dice: 0.8635at epoch: 55\n",
      "----------\n",
      "epoch 59/150\n"
     ]
    },
    {
     "name": "stderr",
     "output_type": "stream",
     "text": [
      "N foreground 15909, N  background 0,unable to generate class balanced samples.\n",
      "N foreground 10474, N  background 0,unable to generate class balanced samples.\n",
      "N foreground 15184, N  background 0,unable to generate class balanced samples.\n",
      "N foreground 13138, N  background 0,unable to generate class balanced samples.\n",
      "N foreground 14262, N  background 0,unable to generate class balanced samples.\n",
      "N foreground 22593, N  background 0,unable to generate class balanced samples.\n",
      "N foreground 14317, N  background 0,unable to generate class balanced samples.\n",
      "N foreground 12122, N  background 0,unable to generate class balanced samples.\n",
      "N foreground 16115, N  background 0,unable to generate class balanced samples.\n",
      "N foreground 13958, N  background 0,unable to generate class balanced samples.\n",
      "N foreground 16438, N  background 0,unable to generate class balanced samples.\n",
      "N foreground 13809, N  background 0,unable to generate class balanced samples.\n",
      "N foreground 10992, N  background 0,unable to generate class balanced samples.\n",
      "N foreground 15619, N  background 0,unable to generate class balanced samples.\n",
      "N foreground 14230, N  background 0,unable to generate class balanced samples.\n",
      "N foreground 17097, N  background 0,unable to generate class balanced samples.\n",
      "N foreground 16450, N  background 0,unable to generate class balanced samples.\n",
      "N foreground 19210, N  background 0,unable to generate class balanced samples.\n",
      "N foreground 17716, N  background 0,unable to generate class balanced samples.\n",
      "N foreground 10533, N  background 0,unable to generate class balanced samples.\n",
      "N foreground 13064, N  background 0,unable to generate class balanced samples.\n",
      "N foreground 16388, N  background 0,unable to generate class balanced samples.\n",
      "N foreground 8935, N  background 0,unable to generate class balanced samples.\n",
      "N foreground 16682, N  background 0,unable to generate class balanced samples.\n",
      "N foreground 15838, N  background 0,unable to generate class balanced samples.\n",
      "N foreground 14809, N  background 0,unable to generate class balanced samples.\n"
     ]
    },
    {
     "name": "stdout",
     "output_type": "stream",
     "text": [
      "1/13, train_loss: 0.1694\n",
      "2/13, train_loss: 0.1883\n",
      "3/13, train_loss: 0.1418\n",
      "4/13, train_loss: 0.1588\n",
      "5/13, train_loss: 0.1545\n",
      "6/13, train_loss: 0.1489\n",
      "7/13, train_loss: 0.1566\n",
      "8/13, train_loss: 0.1615\n",
      "9/13, train_loss: 0.1544\n",
      "10/13, train_loss: 0.1845\n",
      "11/13, train_loss: 0.1689\n",
      "12/13, train_loss: 0.1619\n",
      "13/13, train_loss: 0.1511\n",
      "epoch 59 average loss: 0.1616\n"
     ]
    },
    {
     "name": "stderr",
     "output_type": "stream",
     "text": [
      "N foreground 16021, N  background 0,unable to generate class balanced samples.\n",
      "N foreground 18264, N  background 0,unable to generate class balanced samples.\n",
      "N foreground 14351, N  background 0,unable to generate class balanced samples.\n",
      "N foreground 10539, N  background 0,unable to generate class balanced samples.\n",
      "N foreground 14149, N  background 0,unable to generate class balanced samples.\n",
      "N foreground 13981, N  background 0,unable to generate class balanced samples.\n",
      "N foreground 13080, N  background 0,unable to generate class balanced samples.\n",
      "N foreground 14458, N  background 0,unable to generate class balanced samples.\n",
      "N foreground 14199, N  background 0,unable to generate class balanced samples.\n"
     ]
    },
    {
     "name": "stdout",
     "output_type": "stream",
     "text": [
      "current epoch: 59 current mean dice: 0.8587\n",
      "best mean dice: 0.8635at epoch: 55\n",
      "----------\n",
      "epoch 60/150\n"
     ]
    },
    {
     "name": "stderr",
     "output_type": "stream",
     "text": [
      "N foreground 17716, N  background 0,unable to generate class balanced samples.\n",
      "N foreground 14230, N  background 0,unable to generate class balanced samples.\n",
      "N foreground 16450, N  background 0,unable to generate class balanced samples.\n",
      "N foreground 10992, N  background 0,unable to generate class balanced samples.\n",
      "N foreground 15909, N  background 0,unable to generate class balanced samples.\n",
      "N foreground 15619, N  background 0,unable to generate class balanced samples.\n",
      "N foreground 19210, N  background 0,unable to generate class balanced samples.\n",
      "N foreground 22593, N  background 0,unable to generate class balanced samples.\n",
      "N foreground 10533, N  background 0,unable to generate class balanced samples.\n",
      "N foreground 13064, N  background 0,unable to generate class balanced samples.\n",
      "N foreground 13809, N  background 0,unable to generate class balanced samples.\n",
      "N foreground 14317, N  background 0,unable to generate class balanced samples.\n",
      "N foreground 15184, N  background 0,unable to generate class balanced samples.\n",
      "N foreground 13138, N  background 0,unable to generate class balanced samples.\n",
      "N foreground 16682, N  background 0,unable to generate class balanced samples.\n",
      "N foreground 14262, N  background 0,unable to generate class balanced samples.\n",
      "N foreground 17097, N  background 0,unable to generate class balanced samples.\n",
      "N foreground 16115, N  background 0,unable to generate class balanced samples.\n",
      "N foreground 10474, N  background 0,unable to generate class balanced samples.\n",
      "N foreground 14809, N  background 0,unable to generate class balanced samples.\n",
      "N foreground 16388, N  background 0,unable to generate class balanced samples.\n",
      "N foreground 12122, N  background 0,unable to generate class balanced samples.\n",
      "N foreground 8935, N  background 0,unable to generate class balanced samples.\n",
      "N foreground 15838, N  background 0,unable to generate class balanced samples.\n",
      "N foreground 13958, N  background 0,unable to generate class balanced samples.\n",
      "N foreground 16438, N  background 0,unable to generate class balanced samples.\n"
     ]
    },
    {
     "name": "stdout",
     "output_type": "stream",
     "text": [
      "1/13, train_loss: 0.1662\n",
      "2/13, train_loss: 0.1643\n",
      "3/13, train_loss: 0.1569\n",
      "4/13, train_loss: 0.1579\n",
      "5/13, train_loss: 0.1642\n",
      "6/13, train_loss: 0.1510\n",
      "7/13, train_loss: 0.1590\n",
      "8/13, train_loss: 0.1355\n",
      "9/13, train_loss: 0.1544\n",
      "10/13, train_loss: 0.1784\n",
      "11/13, train_loss: 0.1596\n",
      "12/13, train_loss: 0.1751\n",
      "13/13, train_loss: 0.1805\n",
      "epoch 60 average loss: 0.1618\n"
     ]
    },
    {
     "name": "stderr",
     "output_type": "stream",
     "text": [
      "N foreground 14149, N  background 0,unable to generate class balanced samples.\n",
      "N foreground 16021, N  background 0,unable to generate class balanced samples.\n",
      "N foreground 10539, N  background 0,unable to generate class balanced samples.\n",
      "N foreground 13080, N  background 0,unable to generate class balanced samples.\n",
      "N foreground 14351, N  background 0,unable to generate class balanced samples.\n",
      "N foreground 18264, N  background 0,unable to generate class balanced samples.\n",
      "N foreground 13981, N  background 0,unable to generate class balanced samples.\n",
      "N foreground 14458, N  background 0,unable to generate class balanced samples.\n",
      "N foreground 14199, N  background 0,unable to generate class balanced samples.\n"
     ]
    },
    {
     "name": "stdout",
     "output_type": "stream",
     "text": [
      "current epoch: 60 current mean dice: 0.8544\n",
      "best mean dice: 0.8635at epoch: 55\n",
      "----------\n",
      "epoch 61/150\n"
     ]
    },
    {
     "name": "stderr",
     "output_type": "stream",
     "text": [
      "N foreground 13809, N  background 0,unable to generate class balanced samples.\n",
      "N foreground 10474, N  background 0,unable to generate class balanced samples.\n",
      "N foreground 16115, N  background 0,unable to generate class balanced samples.\n",
      "N foreground 10992, N  background 0,unable to generate class balanced samples.\n",
      "N foreground 14262, N  background 0,unable to generate class balanced samples.\n",
      "N foreground 15619, N  background 0,unable to generate class balanced samples.\n",
      "N foreground 15838, N  background 0,unable to generate class balanced samples.\n",
      "N foreground 19210, N  background 0,unable to generate class balanced samples.\n",
      "N foreground 13138, N  background 0,unable to generate class balanced samples.\n",
      "N foreground 16388, N  background 0,unable to generate class balanced samples.\n",
      "N foreground 14317, N  background 0,unable to generate class balanced samples.\n",
      "N foreground 17716, N  background 0,unable to generate class balanced samples.\n",
      "N foreground 13958, N  background 0,unable to generate class balanced samples.\n",
      "N foreground 13064, N  background 0,unable to generate class balanced samples.\n",
      "N foreground 10533, N  background 0,unable to generate class balanced samples.\n",
      "N foreground 16438, N  background 0,unable to generate class balanced samples.\n",
      "N foreground 12122, N  background 0,unable to generate class balanced samples.\n",
      "N foreground 15184, N  background 0,unable to generate class balanced samples.\n",
      "N foreground 17097, N  background 0,unable to generate class balanced samples.\n",
      "N foreground 14230, N  background 0,unable to generate class balanced samples.\n",
      "N foreground 15909, N  background 0,unable to generate class balanced samples.\n",
      "N foreground 16450, N  background 0,unable to generate class balanced samples.\n",
      "N foreground 16682, N  background 0,unable to generate class balanced samples.\n",
      "N foreground 14809, N  background 0,unable to generate class balanced samples.\n",
      "N foreground 8935, N  background 0,unable to generate class balanced samples.\n",
      "N foreground 22593, N  background 0,unable to generate class balanced samples.\n"
     ]
    },
    {
     "name": "stdout",
     "output_type": "stream",
     "text": [
      "1/13, train_loss: 0.1301\n",
      "2/13, train_loss: 0.1733\n",
      "3/13, train_loss: 0.1565\n",
      "4/13, train_loss: 0.1713\n",
      "5/13, train_loss: 0.1728\n",
      "6/13, train_loss: 0.1735\n",
      "7/13, train_loss: 0.1574\n",
      "8/13, train_loss: 0.1540\n",
      "9/13, train_loss: 0.1646\n",
      "10/13, train_loss: 0.1623\n",
      "11/13, train_loss: 0.1559\n",
      "12/13, train_loss: 0.1479\n",
      "13/13, train_loss: 0.1750\n",
      "epoch 61 average loss: 0.1611\n"
     ]
    },
    {
     "name": "stderr",
     "output_type": "stream",
     "text": [
      "N foreground 13981, N  background 0,unable to generate class balanced samples.\n",
      "N foreground 14149, N  background 0,unable to generate class balanced samples.\n",
      "N foreground 18264, N  background 0,unable to generate class balanced samples.\n",
      "N foreground 14351, N  background 0,unable to generate class balanced samples.\n",
      "N foreground 16021, N  background 0,unable to generate class balanced samples.\n",
      "N foreground 13080, N  background 0,unable to generate class balanced samples.\n",
      "N foreground 10539, N  background 0,unable to generate class balanced samples.\n",
      "N foreground 14458, N  background 0,unable to generate class balanced samples.\n",
      "N foreground 14199, N  background 0,unable to generate class balanced samples.\n"
     ]
    },
    {
     "name": "stdout",
     "output_type": "stream",
     "text": [
      "saved new best metric model\n",
      "current epoch: 61 current mean dice: 0.8658\n",
      "best mean dice: 0.8658at epoch: 61\n",
      "----------\n",
      "epoch 62/150\n"
     ]
    },
    {
     "name": "stderr",
     "output_type": "stream",
     "text": [
      "N foreground 13138, N  background 0,unable to generate class balanced samples.\n",
      "N foreground 16682, N  background 0,unable to generate class balanced samples.\n",
      "N foreground 16388, N  background 0,unable to generate class balanced samples.\n",
      "N foreground 13809, N  background 0,unable to generate class balanced samples.\n",
      "N foreground 10474, N  background 0,unable to generate class balanced samples.\n",
      "N foreground 15909, N  background 0,unable to generate class balanced samples.\n",
      "N foreground 14230, N  background 0,unable to generate class balanced samples.\n",
      "N foreground 10992, N  background 0,unable to generate class balanced samples.\n",
      "N foreground 17097, N  background 0,unable to generate class balanced samples.\n",
      "N foreground 14317, N  background 0,unable to generate class balanced samples.\n",
      "N foreground 22593, N  background 0,unable to generate class balanced samples.\n",
      "N foreground 16450, N  background 0,unable to generate class balanced samples.\n",
      "N foreground 12122, N  background 0,unable to generate class balanced samples.\n",
      "N foreground 16115, N  background 0,unable to generate class balanced samples.\n",
      "N foreground 15619, N  background 0,unable to generate class balanced samples.\n",
      "N foreground 15838, N  background 0,unable to generate class balanced samples.\n",
      "N foreground 8935, N  background 0,unable to generate class balanced samples.\n",
      "N foreground 13958, N  background 0,unable to generate class balanced samples.\n",
      "N foreground 14809, N  background 0,unable to generate class balanced samples.\n",
      "N foreground 17716, N  background 0,unable to generate class balanced samples.\n",
      "N foreground 13064, N  background 0,unable to generate class balanced samples.\n",
      "N foreground 10533, N  background 0,unable to generate class balanced samples.\n",
      "N foreground 16438, N  background 0,unable to generate class balanced samples.\n",
      "N foreground 19210, N  background 0,unable to generate class balanced samples.\n",
      "N foreground 14262, N  background 0,unable to generate class balanced samples.\n",
      "N foreground 15184, N  background 0,unable to generate class balanced samples.\n"
     ]
    },
    {
     "name": "stdout",
     "output_type": "stream",
     "text": [
      "1/13, train_loss: 0.1488\n",
      "2/13, train_loss: 0.1642\n",
      "3/13, train_loss: 0.1555\n",
      "4/13, train_loss: 0.1673\n",
      "5/13, train_loss: 0.1635\n",
      "6/13, train_loss: 0.1574\n",
      "7/13, train_loss: 0.1562\n",
      "8/13, train_loss: 0.1622\n",
      "9/13, train_loss: 0.1633\n",
      "10/13, train_loss: 0.1313\n",
      "11/13, train_loss: 0.1628\n",
      "12/13, train_loss: 0.1854\n",
      "13/13, train_loss: 0.1695\n",
      "epoch 62 average loss: 0.1606\n"
     ]
    },
    {
     "name": "stderr",
     "output_type": "stream",
     "text": [
      "N foreground 13981, N  background 0,unable to generate class balanced samples.\n",
      "N foreground 10539, N  background 0,unable to generate class balanced samples.\n",
      "N foreground 14351, N  background 0,unable to generate class balanced samples.\n",
      "N foreground 13080, N  background 0,unable to generate class balanced samples.\n",
      "N foreground 14149, N  background 0,unable to generate class balanced samples.\n",
      "N foreground 18264, N  background 0,unable to generate class balanced samples.\n",
      "N foreground 16021, N  background 0,unable to generate class balanced samples.\n",
      "N foreground 14458, N  background 0,unable to generate class balanced samples.\n",
      "N foreground 14199, N  background 0,unable to generate class balanced samples.\n"
     ]
    },
    {
     "name": "stdout",
     "output_type": "stream",
     "text": [
      "current epoch: 62 current mean dice: 0.8629\n",
      "best mean dice: 0.8658at epoch: 61\n",
      "----------\n",
      "epoch 63/150\n"
     ]
    },
    {
     "name": "stderr",
     "output_type": "stream",
     "text": [
      "N foreground 15838, N  background 0,unable to generate class balanced samples.\n",
      "N foreground 19210, N  background 0,unable to generate class balanced samples.\n",
      "N foreground 16438, N  background 0,unable to generate class balanced samples.\n",
      "N foreground 22593, N  background 0,unable to generate class balanced samples.\n",
      "N foreground 15619, N  background 0,unable to generate class balanced samples.\n",
      "N foreground 10533, N  background 0,unable to generate class balanced samples.\n",
      "N foreground 15909, N  background 0,unable to generate class balanced samples.\n",
      "N foreground 16682, N  background 0,unable to generate class balanced samples.\n",
      "N foreground 14809, N  background 0,unable to generate class balanced samples.\n",
      "N foreground 15184, N  background 0,unable to generate class balanced samples.\n",
      "N foreground 14262, N  background 0,unable to generate class balanced samples.\n",
      "N foreground 16388, N  background 0,unable to generate class balanced samples.\n",
      "N foreground 8935, N  background 0,unable to generate class balanced samples.\n",
      "N foreground 13138, N  background 0,unable to generate class balanced samples.\n",
      "N foreground 10992, N  background 0,unable to generate class balanced samples.\n",
      "N foreground 16450, N  background 0,unable to generate class balanced samples.\n",
      "N foreground 13958, N  background 0,unable to generate class balanced samples.\n",
      "N foreground 13064, N  background 0,unable to generate class balanced samples.\n",
      "N foreground 10474, N  background 0,unable to generate class balanced samples.\n",
      "N foreground 14317, N  background 0,unable to generate class balanced samples.\n",
      "N foreground 16115, N  background 0,unable to generate class balanced samples.\n",
      "N foreground 17716, N  background 0,unable to generate class balanced samples.\n",
      "N foreground 12122, N  background 0,unable to generate class balanced samples.\n",
      "N foreground 13809, N  background 0,unable to generate class balanced samples.\n",
      "N foreground 14230, N  background 0,unable to generate class balanced samples.\n",
      "N foreground 17097, N  background 0,unable to generate class balanced samples.\n"
     ]
    },
    {
     "name": "stdout",
     "output_type": "stream",
     "text": [
      "1/13, train_loss: 0.1335\n",
      "2/13, train_loss: 0.1513\n",
      "3/13, train_loss: 0.1595\n",
      "4/13, train_loss: 0.1681\n",
      "5/13, train_loss: 0.1555\n",
      "6/13, train_loss: 0.1583\n",
      "7/13, train_loss: 0.1605\n",
      "8/13, train_loss: 0.1586\n",
      "9/13, train_loss: 0.1539\n",
      "10/13, train_loss: 0.1598\n",
      "11/13, train_loss: 0.1532\n",
      "12/13, train_loss: 0.1623\n",
      "13/13, train_loss: 0.1657\n",
      "epoch 63 average loss: 0.1569\n"
     ]
    },
    {
     "name": "stderr",
     "output_type": "stream",
     "text": [
      "N foreground 10539, N  background 0,unable to generate class balanced samples.\n",
      "N foreground 14149, N  background 0,unable to generate class balanced samples.\n",
      "N foreground 13981, N  background 0,unable to generate class balanced samples.\n",
      "N foreground 18264, N  background 0,unable to generate class balanced samples.\n",
      "N foreground 13080, N  background 0,unable to generate class balanced samples.\n",
      "N foreground 16021, N  background 0,unable to generate class balanced samples.\n",
      "N foreground 14351, N  background 0,unable to generate class balanced samples.\n",
      "N foreground 14458, N  background 0,unable to generate class balanced samples.\n",
      "N foreground 14199, N  background 0,unable to generate class balanced samples.\n"
     ]
    },
    {
     "name": "stdout",
     "output_type": "stream",
     "text": [
      "saved new best metric model\n",
      "current epoch: 63 current mean dice: 0.8662\n",
      "best mean dice: 0.8662at epoch: 63\n",
      "----------\n",
      "epoch 64/150\n"
     ]
    },
    {
     "name": "stderr",
     "output_type": "stream",
     "text": [
      "N foreground 17716, N  background 0,unable to generate class balanced samples.\n",
      "N foreground 17097, N  background 0,unable to generate class balanced samples.\n",
      "N foreground 15619, N  background 0,unable to generate class balanced samples.\n",
      "N foreground 16438, N  background 0,unable to generate class balanced samples.\n",
      "N foreground 16388, N  background 0,unable to generate class balanced samples.\n",
      "N foreground 14262, N  background 0,unable to generate class balanced samples.\n",
      "N foreground 10533, N  background 0,unable to generate class balanced samples.\n",
      "N foreground 14317, N  background 0,unable to generate class balanced samples.\n",
      "N foreground 13138, N  background 0,unable to generate class balanced samples.\n",
      "N foreground 14230, N  background 0,unable to generate class balanced samples.\n",
      "N foreground 16450, N  background 0,unable to generate class balanced samples.\n",
      "N foreground 15909, N  background 0,unable to generate class balanced samples.\n",
      "N foreground 14809, N  background 0,unable to generate class balanced samples.\n",
      "N foreground 13958, N  background 0,unable to generate class balanced samples.\n",
      "N foreground 10992, N  background 0,unable to generate class balanced samples.\n",
      "N foreground 16115, N  background 0,unable to generate class balanced samples.\n",
      "N foreground 22593, N  background 0,unable to generate class balanced samples.\n",
      "N foreground 16682, N  background 0,unable to generate class balanced samples.\n",
      "N foreground 15838, N  background 0,unable to generate class balanced samples.\n",
      "N foreground 12122, N  background 0,unable to generate class balanced samples.\n",
      "N foreground 8935, N  background 0,unable to generate class balanced samples.\n",
      "N foreground 13064, N  background 0,unable to generate class balanced samples.\n",
      "N foreground 15184, N  background 0,unable to generate class balanced samples.\n",
      "N foreground 19210, N  background 0,unable to generate class balanced samples.\n",
      "N foreground 10474, N  background 0,unable to generate class balanced samples.\n",
      "N foreground 13809, N  background 0,unable to generate class balanced samples.\n"
     ]
    },
    {
     "name": "stdout",
     "output_type": "stream",
     "text": [
      "1/13, train_loss: 0.1408\n",
      "2/13, train_loss: 0.1525\n",
      "3/13, train_loss: 0.1521\n",
      "4/13, train_loss: 0.1495\n",
      "5/13, train_loss: 0.1385\n",
      "6/13, train_loss: 0.1585\n",
      "7/13, train_loss: 0.1669\n",
      "8/13, train_loss: 0.1693\n",
      "9/13, train_loss: 0.1614\n",
      "10/13, train_loss: 0.1581\n",
      "11/13, train_loss: 0.1522\n",
      "12/13, train_loss: 0.1725\n",
      "13/13, train_loss: 0.1678\n",
      "epoch 64 average loss: 0.1569\n"
     ]
    },
    {
     "name": "stderr",
     "output_type": "stream",
     "text": [
      "N foreground 13080, N  background 0,unable to generate class balanced samples.\n",
      "N foreground 10539, N  background 0,unable to generate class balanced samples.\n",
      "N foreground 16021, N  background 0,unable to generate class balanced samples.\n",
      "N foreground 18264, N  background 0,unable to generate class balanced samples.\n",
      "N foreground 14149, N  background 0,unable to generate class balanced samples.\n",
      "N foreground 13981, N  background 0,unable to generate class balanced samples.\n",
      "N foreground 14351, N  background 0,unable to generate class balanced samples.\n",
      "N foreground 14458, N  background 0,unable to generate class balanced samples.\n",
      "N foreground 14199, N  background 0,unable to generate class balanced samples.\n"
     ]
    },
    {
     "name": "stdout",
     "output_type": "stream",
     "text": [
      "current epoch: 64 current mean dice: 0.8639\n",
      "best mean dice: 0.8662at epoch: 63\n",
      "----------\n",
      "epoch 65/150\n"
     ]
    },
    {
     "name": "stderr",
     "output_type": "stream",
     "text": [
      "N foreground 10992, N  background 0,unable to generate class balanced samples.\n",
      "N foreground 14262, N  background 0,unable to generate class balanced samples.\n",
      "N foreground 13064, N  background 0,unable to generate class balanced samples.\n",
      "N foreground 15619, N  background 0,unable to generate class balanced samples.\n",
      "N foreground 10533, N  background 0,unable to generate class balanced samples.\n",
      "N foreground 16388, N  background 0,unable to generate class balanced samples.\n",
      "N foreground 14230, N  background 0,unable to generate class balanced samples.\n",
      "N foreground 22593, N  background 0,unable to generate class balanced samples.\n",
      "N foreground 17097, N  background 0,unable to generate class balanced samples.\n",
      "N foreground 16682, N  background 0,unable to generate class balanced samples.\n",
      "N foreground 19210, N  background 0,unable to generate class balanced samples.\n",
      "N foreground 16115, N  background 0,unable to generate class balanced samples.\n",
      "N foreground 14809, N  background 0,unable to generate class balanced samples.\n",
      "N foreground 16438, N  background 0,unable to generate class balanced samples.\n",
      "N foreground 17716, N  background 0,unable to generate class balanced samples.\n",
      "N foreground 13958, N  background 0,unable to generate class balanced samples.\n",
      "N foreground 13138, N  background 0,unable to generate class balanced samples.\n",
      "N foreground 15909, N  background 0,unable to generate class balanced samples.\n",
      "N foreground 15184, N  background 0,unable to generate class balanced samples.\n",
      "N foreground 16450, N  background 0,unable to generate class balanced samples.\n",
      "N foreground 14317, N  background 0,unable to generate class balanced samples.\n",
      "N foreground 12122, N  background 0,unable to generate class balanced samples.\n",
      "N foreground 13809, N  background 0,unable to generate class balanced samples.\n",
      "N foreground 15838, N  background 0,unable to generate class balanced samples.\n",
      "N foreground 10474, N  background 0,unable to generate class balanced samples.\n",
      "N foreground 8935, N  background 0,unable to generate class balanced samples.\n"
     ]
    },
    {
     "name": "stdout",
     "output_type": "stream",
     "text": [
      "1/13, train_loss: 0.1491\n",
      "2/13, train_loss: 0.1425\n",
      "3/13, train_loss: 0.1553\n",
      "4/13, train_loss: 0.1506\n",
      "5/13, train_loss: 0.1462\n",
      "6/13, train_loss: 0.1615\n",
      "7/13, train_loss: 0.1599\n",
      "8/13, train_loss: 0.1566\n",
      "9/13, train_loss: 0.1564\n",
      "10/13, train_loss: 0.1811\n",
      "11/13, train_loss: 0.1500\n",
      "12/13, train_loss: 0.1532\n",
      "13/13, train_loss: 0.1724\n",
      "epoch 65 average loss: 0.1565\n"
     ]
    },
    {
     "name": "stderr",
     "output_type": "stream",
     "text": [
      "N foreground 13981, N  background 0,unable to generate class balanced samples.\n",
      "N foreground 10539, N  background 0,unable to generate class balanced samples.\n",
      "N foreground 16021, N  background 0,unable to generate class balanced samples.\n",
      "N foreground 14149, N  background 0,unable to generate class balanced samples.\n",
      "N foreground 13080, N  background 0,unable to generate class balanced samples.\n",
      "N foreground 18264, N  background 0,unable to generate class balanced samples.\n",
      "N foreground 14351, N  background 0,unable to generate class balanced samples.\n",
      "N foreground 14458, N  background 0,unable to generate class balanced samples.\n",
      "N foreground 14199, N  background 0,unable to generate class balanced samples.\n"
     ]
    },
    {
     "name": "stdout",
     "output_type": "stream",
     "text": [
      "current epoch: 65 current mean dice: 0.8653\n",
      "best mean dice: 0.8662at epoch: 63\n",
      "----------\n",
      "epoch 66/150\n"
     ]
    },
    {
     "name": "stderr",
     "output_type": "stream",
     "text": [
      "N foreground 14317, N  background 0,unable to generate class balanced samples.\n",
      "N foreground 14262, N  background 0,unable to generate class balanced samples.\n",
      "N foreground 17097, N  background 0,unable to generate class balanced samples.\n",
      "N foreground 15619, N  background 0,unable to generate class balanced samples.\n",
      "N foreground 15909, N  background 0,unable to generate class balanced samples.\n",
      "N foreground 12122, N  background 0,unable to generate class balanced samples.\n",
      "N foreground 16438, N  background 0,unable to generate class balanced samples.\n",
      "N foreground 10474, N  background 0,unable to generate class balanced samples.\n",
      "N foreground 22593, N  background 0,unable to generate class balanced samples.\n",
      "N foreground 13809, N  background 0,unable to generate class balanced samples.\n",
      "N foreground 10533, N  background 0,unable to generate class balanced samples.\n",
      "N foreground 16115, N  background 0,unable to generate class balanced samples.\n",
      "N foreground 10992, N  background 0,unable to generate class balanced samples.\n",
      "N foreground 13064, N  background 0,unable to generate class balanced samples.\n",
      "N foreground 13138, N  background 0,unable to generate class balanced samples.\n",
      "N foreground 19210, N  background 0,unable to generate class balanced samples.\n",
      "N foreground 15184, N  background 0,unable to generate class balanced samples.\n",
      "N foreground 14809, N  background 0,unable to generate class balanced samples.\n",
      "N foreground 13958, N  background 0,unable to generate class balanced samples.\n",
      "N foreground 15838, N  background 0,unable to generate class balanced samples.\n",
      "N foreground 16388, N  background 0,unable to generate class balanced samples.\n",
      "N foreground 14230, N  background 0,unable to generate class balanced samples.\n",
      "N foreground 8935, N  background 0,unable to generate class balanced samples.\n",
      "N foreground 16682, N  background 0,unable to generate class balanced samples.\n",
      "N foreground 16450, N  background 0,unable to generate class balanced samples.\n",
      "N foreground 17716, N  background 0,unable to generate class balanced samples.\n"
     ]
    },
    {
     "name": "stdout",
     "output_type": "stream",
     "text": [
      "1/13, train_loss: 0.1579\n",
      "2/13, train_loss: 0.1463\n",
      "3/13, train_loss: 0.1331\n",
      "4/13, train_loss: 0.1594\n",
      "5/13, train_loss: 0.1568\n",
      "6/13, train_loss: 0.1520\n",
      "7/13, train_loss: 0.1649\n",
      "8/13, train_loss: 0.1687\n",
      "9/13, train_loss: 0.1530\n",
      "10/13, train_loss: 0.1769\n",
      "11/13, train_loss: 0.1543\n",
      "12/13, train_loss: 0.1680\n",
      "13/13, train_loss: 0.1364\n",
      "epoch 66 average loss: 0.1560\n"
     ]
    },
    {
     "name": "stderr",
     "output_type": "stream",
     "text": [
      "N foreground 18264, N  background 0,unable to generate class balanced samples.\n",
      "N foreground 14149, N  background 0,unable to generate class balanced samples.\n",
      "N foreground 16021, N  background 0,unable to generate class balanced samples.\n",
      "N foreground 13981, N  background 0,unable to generate class balanced samples.\n",
      "N foreground 10539, N  background 0,unable to generate class balanced samples.\n",
      "N foreground 14351, N  background 0,unable to generate class balanced samples.\n",
      "N foreground 13080, N  background 0,unable to generate class balanced samples.\n",
      "N foreground 14458, N  background 0,unable to generate class balanced samples.\n",
      "N foreground 14199, N  background 0,unable to generate class balanced samples.\n"
     ]
    },
    {
     "name": "stdout",
     "output_type": "stream",
     "text": [
      "saved new best metric model\n",
      "current epoch: 66 current mean dice: 0.8680\n",
      "best mean dice: 0.8680at epoch: 66\n",
      "----------\n",
      "epoch 67/150\n"
     ]
    },
    {
     "name": "stderr",
     "output_type": "stream",
     "text": [
      "N foreground 19210, N  background 0,unable to generate class balanced samples.\n",
      "N foreground 10533, N  background 0,unable to generate class balanced samples.\n",
      "N foreground 13064, N  background 0,unable to generate class balanced samples.\n",
      "N foreground 10474, N  background 0,unable to generate class balanced samples.\n",
      "N foreground 14809, N  background 0,unable to generate class balanced samples.\n",
      "N foreground 16438, N  background 0,unable to generate class balanced samples.\n",
      "N foreground 13809, N  background 0,unable to generate class balanced samples.\n",
      "N foreground 16388, N  background 0,unable to generate class balanced samples.\n",
      "N foreground 14262, N  background 0,unable to generate class balanced samples.\n",
      "N foreground 16450, N  background 0,unable to generate class balanced samples.\n",
      "N foreground 15184, N  background 0,unable to generate class balanced samples.\n",
      "N foreground 22593, N  background 0,unable to generate class balanced samples.\n",
      "N foreground 14317, N  background 0,unable to generate class balanced samples.\n",
      "N foreground 17097, N  background 0,unable to generate class balanced samples.\n",
      "N foreground 8935, N  background 0,unable to generate class balanced samples.\n",
      "N foreground 10992, N  background 0,unable to generate class balanced samples.\n",
      "N foreground 17716, N  background 0,unable to generate class balanced samples.\n",
      "N foreground 16115, N  background 0,unable to generate class balanced samples.\n",
      "N foreground 13958, N  background 0,unable to generate class balanced samples.\n",
      "N foreground 15909, N  background 0,unable to generate class balanced samples.\n",
      "N foreground 14230, N  background 0,unable to generate class balanced samples.\n",
      "N foreground 16682, N  background 0,unable to generate class balanced samples.\n",
      "N foreground 15838, N  background 0,unable to generate class balanced samples.\n",
      "N foreground 13138, N  background 0,unable to generate class balanced samples.\n",
      "N foreground 15619, N  background 0,unable to generate class balanced samples.\n",
      "N foreground 12122, N  background 0,unable to generate class balanced samples.\n"
     ]
    },
    {
     "name": "stdout",
     "output_type": "stream",
     "text": [
      "1/13, train_loss: 0.1497\n",
      "2/13, train_loss: 0.1741\n",
      "3/13, train_loss: 0.1517\n",
      "4/13, train_loss: 0.1739\n",
      "5/13, train_loss: 0.1447\n",
      "6/13, train_loss: 0.1703\n",
      "7/13, train_loss: 0.1518\n",
      "8/13, train_loss: 0.1514\n",
      "9/13, train_loss: 0.1430\n",
      "10/13, train_loss: 0.1482\n",
      "11/13, train_loss: 0.1529\n",
      "12/13, train_loss: 0.1663\n",
      "13/13, train_loss: 0.1662\n",
      "epoch 67 average loss: 0.1572\n"
     ]
    },
    {
     "name": "stderr",
     "output_type": "stream",
     "text": [
      "N foreground 13981, N  background 0,unable to generate class balanced samples.\n",
      "N foreground 10539, N  background 0,unable to generate class balanced samples.\n",
      "N foreground 14351, N  background 0,unable to generate class balanced samples.\n",
      "N foreground 14149, N  background 0,unable to generate class balanced samples.\n",
      "N foreground 13080, N  background 0,unable to generate class balanced samples.\n",
      "N foreground 16021, N  background 0,unable to generate class balanced samples.\n",
      "N foreground 18264, N  background 0,unable to generate class balanced samples.\n",
      "N foreground 14458, N  background 0,unable to generate class balanced samples.\n",
      "N foreground 14199, N  background 0,unable to generate class balanced samples.\n"
     ]
    },
    {
     "name": "stdout",
     "output_type": "stream",
     "text": [
      "current epoch: 67 current mean dice: 0.8680\n",
      "best mean dice: 0.8680at epoch: 66\n",
      "----------\n",
      "epoch 68/150\n"
     ]
    },
    {
     "name": "stderr",
     "output_type": "stream",
     "text": [
      "N foreground 13138, N  background 0,unable to generate class balanced samples.\n",
      "N foreground 13064, N  background 0,unable to generate class balanced samples.\n",
      "N foreground 22593, N  background 0,unable to generate class balanced samples.\n",
      "N foreground 8935, N  background 0,unable to generate class balanced samples.\n",
      "N foreground 16438, N  background 0,unable to generate class balanced samples.\n",
      "N foreground 16115, N  background 0,unable to generate class balanced samples.\n",
      "N foreground 15619, N  background 0,unable to generate class balanced samples.\n",
      "N foreground 13809, N  background 0,unable to generate class balanced samples.\n",
      "N foreground 14230, N  background 0,unable to generate class balanced samples.\n",
      "N foreground 10533, N  background 0,unable to generate class balanced samples.\n",
      "N foreground 14809, N  background 0,unable to generate class balanced samples.\n",
      "N foreground 15909, N  background 0,unable to generate class balanced samples.\n",
      "N foreground 15838, N  background 0,unable to generate class balanced samples.\n",
      "N foreground 16388, N  background 0,unable to generate class balanced samples.\n",
      "N foreground 10474, N  background 0,unable to generate class balanced samples.\n",
      "N foreground 16450, N  background 0,unable to generate class balanced samples.\n",
      "N foreground 16682, N  background 0,unable to generate class balanced samples.\n",
      "N foreground 14317, N  background 0,unable to generate class balanced samples.\n",
      "N foreground 13958, N  background 0,unable to generate class balanced samples.\n",
      "N foreground 17097, N  background 0,unable to generate class balanced samples.\n",
      "N foreground 12122, N  background 0,unable to generate class balanced samples.\n",
      "N foreground 15184, N  background 0,unable to generate class balanced samples.\n",
      "N foreground 19210, N  background 0,unable to generate class balanced samples.\n",
      "N foreground 17716, N  background 0,unable to generate class balanced samples.\n",
      "N foreground 10992, N  background 0,unable to generate class balanced samples.\n",
      "N foreground 14262, N  background 0,unable to generate class balanced samples.\n"
     ]
    },
    {
     "name": "stdout",
     "output_type": "stream",
     "text": [
      "1/13, train_loss: 0.1685\n",
      "2/13, train_loss: 0.1629\n",
      "3/13, train_loss: 0.1723\n",
      "4/13, train_loss: 0.1498\n",
      "5/13, train_loss: 0.1534\n",
      "6/13, train_loss: 0.1450\n",
      "7/13, train_loss: 0.1563\n",
      "8/13, train_loss: 0.1440\n",
      "9/13, train_loss: 0.1627\n",
      "10/13, train_loss: 0.1592\n",
      "11/13, train_loss: 0.1415\n",
      "12/13, train_loss: 0.1491\n",
      "13/13, train_loss: 0.1589\n",
      "epoch 68 average loss: 0.1557\n"
     ]
    },
    {
     "name": "stderr",
     "output_type": "stream",
     "text": [
      "N foreground 18264, N  background 0,unable to generate class balanced samples.\n",
      "N foreground 10539, N  background 0,unable to generate class balanced samples.\n",
      "N foreground 16021, N  background 0,unable to generate class balanced samples.\n",
      "N foreground 13981, N  background 0,unable to generate class balanced samples.\n",
      "N foreground 13080, N  background 0,unable to generate class balanced samples.\n",
      "N foreground 14149, N  background 0,unable to generate class balanced samples.\n",
      "N foreground 14351, N  background 0,unable to generate class balanced samples.\n",
      "N foreground 14458, N  background 0,unable to generate class balanced samples.\n",
      "N foreground 14199, N  background 0,unable to generate class balanced samples.\n"
     ]
    },
    {
     "name": "stdout",
     "output_type": "stream",
     "text": [
      "current epoch: 68 current mean dice: 0.8664\n",
      "best mean dice: 0.8680at epoch: 66\n",
      "----------\n",
      "epoch 69/150\n"
     ]
    },
    {
     "name": "stderr",
     "output_type": "stream",
     "text": [
      "N foreground 16682, N  background 0,unable to generate class balanced samples.\n",
      "N foreground 14317, N  background 0,unable to generate class balanced samples.\n",
      "N foreground 16388, N  background 0,unable to generate class balanced samples.\n",
      "N foreground 15184, N  background 0,unable to generate class balanced samples.\n",
      "N foreground 15909, N  background 0,unable to generate class balanced samples.\n",
      "N foreground 13809, N  background 0,unable to generate class balanced samples.\n",
      "N foreground 15619, N  background 0,unable to generate class balanced samples.\n",
      "N foreground 13138, N  background 0,unable to generate class balanced samples.\n",
      "N foreground 10533, N  background 0,unable to generate class balanced samples.\n",
      "N foreground 12122, N  background 0,unable to generate class balanced samples.\n",
      "N foreground 19210, N  background 0,unable to generate class balanced samples.\n",
      "N foreground 13064, N  background 0,unable to generate class balanced samples.\n",
      "N foreground 10992, N  background 0,unable to generate class balanced samples.\n",
      "N foreground 17716, N  background 0,unable to generate class balanced samples.\n",
      "N foreground 14809, N  background 0,unable to generate class balanced samples.\n",
      "N foreground 16438, N  background 0,unable to generate class balanced samples.\n",
      "N foreground 16115, N  background 0,unable to generate class balanced samples.\n",
      "N foreground 13958, N  background 0,unable to generate class balanced samples.\n",
      "N foreground 10474, N  background 0,unable to generate class balanced samples.\n",
      "N foreground 22593, N  background 0,unable to generate class balanced samples.\n",
      "N foreground 14262, N  background 0,unable to generate class balanced samples.\n",
      "N foreground 14230, N  background 0,unable to generate class balanced samples.\n",
      "N foreground 17097, N  background 0,unable to generate class balanced samples.\n",
      "N foreground 15838, N  background 0,unable to generate class balanced samples.\n",
      "N foreground 16450, N  background 0,unable to generate class balanced samples.\n",
      "N foreground 8935, N  background 0,unable to generate class balanced samples.\n"
     ]
    },
    {
     "name": "stdout",
     "output_type": "stream",
     "text": [
      "1/13, train_loss: 0.1555\n",
      "2/13, train_loss: 0.1447\n",
      "3/13, train_loss: 0.1600\n",
      "4/13, train_loss: 0.1669\n",
      "5/13, train_loss: 0.1574\n",
      "6/13, train_loss: 0.1544\n",
      "7/13, train_loss: 0.1389\n",
      "8/13, train_loss: 0.1481\n",
      "9/13, train_loss: 0.1585\n",
      "10/13, train_loss: 0.1368\n",
      "11/13, train_loss: 0.1900\n",
      "12/13, train_loss: 0.1570\n",
      "13/13, train_loss: 0.1509\n",
      "epoch 69 average loss: 0.1553\n"
     ]
    },
    {
     "name": "stderr",
     "output_type": "stream",
     "text": [
      "N foreground 18264, N  background 0,unable to generate class balanced samples.\n",
      "N foreground 13981, N  background 0,unable to generate class balanced samples.\n",
      "N foreground 16021, N  background 0,unable to generate class balanced samples.\n",
      "N foreground 10539, N  background 0,unable to generate class balanced samples.\n",
      "N foreground 14149, N  background 0,unable to generate class balanced samples.\n",
      "N foreground 14351, N  background 0,unable to generate class balanced samples.\n",
      "N foreground 13080, N  background 0,unable to generate class balanced samples.\n",
      "N foreground 14458, N  background 0,unable to generate class balanced samples.\n",
      "N foreground 14199, N  background 0,unable to generate class balanced samples.\n"
     ]
    },
    {
     "name": "stdout",
     "output_type": "stream",
     "text": [
      "current epoch: 69 current mean dice: 0.8641\n",
      "best mean dice: 0.8680at epoch: 66\n",
      "----------\n",
      "epoch 70/150\n"
     ]
    },
    {
     "name": "stderr",
     "output_type": "stream",
     "text": [
      "N foreground 15909, N  background 0,unable to generate class balanced samples.\n",
      "N foreground 10992, N  background 0,unable to generate class balanced samples.\n",
      "N foreground 14230, N  background 0,unable to generate class balanced samples.\n",
      "N foreground 15838, N  background 0,unable to generate class balanced samples.\n",
      "N foreground 16388, N  background 0,unable to generate class balanced samples.\n",
      "N foreground 14262, N  background 0,unable to generate class balanced samples.\n",
      "N foreground 8935, N  background 0,unable to generate class balanced samples.\n",
      "N foreground 16450, N  background 0,unable to generate class balanced samples.\n",
      "N foreground 10533, N  background 0,unable to generate class balanced samples.\n",
      "N foreground 13809, N  background 0,unable to generate class balanced samples.\n",
      "N foreground 15184, N  background 0,unable to generate class balanced samples.\n",
      "N foreground 17097, N  background 0,unable to generate class balanced samples.\n",
      "N foreground 22593, N  background 0,unable to generate class balanced samples.\n",
      "N foreground 10474, N  background 0,unable to generate class balanced samples.\n",
      "N foreground 16438, N  background 0,unable to generate class balanced samples.\n",
      "N foreground 16682, N  background 0,unable to generate class balanced samples.\n",
      "N foreground 15619, N  background 0,unable to generate class balanced samples.\n",
      "N foreground 13958, N  background 0,unable to generate class balanced samples.\n",
      "N foreground 14317, N  background 0,unable to generate class balanced samples.\n",
      "N foreground 13064, N  background 0,unable to generate class balanced samples.\n",
      "N foreground 17716, N  background 0,unable to generate class balanced samples.\n",
      "N foreground 19210, N  background 0,unable to generate class balanced samples.\n",
      "N foreground 12122, N  background 0,unable to generate class balanced samples.\n",
      "N foreground 16115, N  background 0,unable to generate class balanced samples.\n",
      "N foreground 14809, N  background 0,unable to generate class balanced samples.\n",
      "N foreground 13138, N  background 0,unable to generate class balanced samples.\n"
     ]
    },
    {
     "name": "stdout",
     "output_type": "stream",
     "text": [
      "1/13, train_loss: 0.1508\n",
      "2/13, train_loss: 0.1620\n",
      "3/13, train_loss: 0.1464\n",
      "4/13, train_loss: 0.1416\n",
      "5/13, train_loss: 0.1547\n",
      "6/13, train_loss: 0.1525\n",
      "7/13, train_loss: 0.1456\n",
      "8/13, train_loss: 0.1526\n",
      "9/13, train_loss: 0.1525\n",
      "10/13, train_loss: 0.1375\n",
      "11/13, train_loss: 0.1497\n",
      "12/13, train_loss: 0.1572\n",
      "13/13, train_loss: 0.1605\n",
      "epoch 70 average loss: 0.1510\n"
     ]
    },
    {
     "name": "stderr",
     "output_type": "stream",
     "text": [
      "N foreground 18264, N  background 0,unable to generate class balanced samples.\n",
      "N foreground 13080, N  background 0,unable to generate class balanced samples.\n",
      "N foreground 13981, N  background 0,unable to generate class balanced samples.\n",
      "N foreground 16021, N  background 0,unable to generate class balanced samples.\n",
      "N foreground 14351, N  background 0,unable to generate class balanced samples.\n",
      "N foreground 10539, N  background 0,unable to generate class balanced samples.\n",
      "N foreground 14149, N  background 0,unable to generate class balanced samples.\n",
      "N foreground 14458, N  background 0,unable to generate class balanced samples.\n",
      "N foreground 14199, N  background 0,unable to generate class balanced samples.\n"
     ]
    },
    {
     "name": "stdout",
     "output_type": "stream",
     "text": [
      "saved new best metric model\n",
      "current epoch: 70 current mean dice: 0.8714\n",
      "best mean dice: 0.8714at epoch: 70\n",
      "----------\n",
      "epoch 71/150\n"
     ]
    },
    {
     "name": "stderr",
     "output_type": "stream",
     "text": [
      "N foreground 12122, N  background 0,unable to generate class balanced samples.\n",
      "N foreground 15909, N  background 0,unable to generate class balanced samples.\n",
      "N foreground 15184, N  background 0,unable to generate class balanced samples.\n",
      "N foreground 16682, N  background 0,unable to generate class balanced samples.\n",
      "N foreground 16438, N  background 0,unable to generate class balanced samples.\n",
      "N foreground 16388, N  background 0,unable to generate class balanced samples.\n",
      "N foreground 13958, N  background 0,unable to generate class balanced samples.\n",
      "N foreground 8935, N  background 0,unable to generate class balanced samples.\n",
      "N foreground 10992, N  background 0,unable to generate class balanced samples.\n",
      "N foreground 15838, N  background 0,unable to generate class balanced samples.\n",
      "N foreground 14809, N  background 0,unable to generate class balanced samples.\n",
      "N foreground 13809, N  background 0,unable to generate class balanced samples.\n",
      "N foreground 16450, N  background 0,unable to generate class balanced samples.\n",
      "N foreground 10474, N  background 0,unable to generate class balanced samples.\n",
      "N foreground 17097, N  background 0,unable to generate class balanced samples.\n",
      "N foreground 13138, N  background 0,unable to generate class balanced samples.\n",
      "N foreground 14262, N  background 0,unable to generate class balanced samples.\n",
      "N foreground 15619, N  background 0,unable to generate class balanced samples.\n",
      "N foreground 16115, N  background 0,unable to generate class balanced samples.\n",
      "N foreground 22593, N  background 0,unable to generate class balanced samples.\n",
      "N foreground 19210, N  background 0,unable to generate class balanced samples.\n",
      "N foreground 10533, N  background 0,unable to generate class balanced samples.\n",
      "N foreground 17716, N  background 0,unable to generate class balanced samples.\n",
      "N foreground 13064, N  background 0,unable to generate class balanced samples.\n",
      "N foreground 14317, N  background 0,unable to generate class balanced samples.\n",
      "N foreground 14230, N  background 0,unable to generate class balanced samples.\n"
     ]
    },
    {
     "name": "stdout",
     "output_type": "stream",
     "text": [
      "1/13, train_loss: 0.1571\n",
      "2/13, train_loss: 0.1679\n",
      "3/13, train_loss: 0.1598\n",
      "4/13, train_loss: 0.1625\n",
      "5/13, train_loss: 0.1492\n",
      "6/13, train_loss: 0.1398\n",
      "7/13, train_loss: 0.1444\n",
      "8/13, train_loss: 0.1783\n",
      "9/13, train_loss: 0.1665\n",
      "10/13, train_loss: 0.1545\n",
      "11/13, train_loss: 0.1561\n",
      "12/13, train_loss: 0.1234\n",
      "13/13, train_loss: 0.1485\n",
      "epoch 71 average loss: 0.1545\n"
     ]
    },
    {
     "name": "stderr",
     "output_type": "stream",
     "text": [
      "N foreground 10539, N  background 0,unable to generate class balanced samples.\n",
      "N foreground 14351, N  background 0,unable to generate class balanced samples.\n",
      "N foreground 13080, N  background 0,unable to generate class balanced samples.\n",
      "N foreground 13981, N  background 0,unable to generate class balanced samples.\n",
      "N foreground 14149, N  background 0,unable to generate class balanced samples.\n",
      "N foreground 16021, N  background 0,unable to generate class balanced samples.\n",
      "N foreground 18264, N  background 0,unable to generate class balanced samples.\n",
      "N foreground 14458, N  background 0,unable to generate class balanced samples.\n",
      "N foreground 14199, N  background 0,unable to generate class balanced samples.\n"
     ]
    },
    {
     "name": "stdout",
     "output_type": "stream",
     "text": [
      "current epoch: 71 current mean dice: 0.8686\n",
      "best mean dice: 0.8714at epoch: 70\n",
      "----------\n",
      "epoch 72/150\n"
     ]
    },
    {
     "name": "stderr",
     "output_type": "stream",
     "text": [
      "N foreground 16388, N  background 0,unable to generate class balanced samples.\n",
      "N foreground 10533, N  background 0,unable to generate class balanced samples.\n",
      "N foreground 16438, N  background 0,unable to generate class balanced samples.\n",
      "N foreground 14230, N  background 0,unable to generate class balanced samples.\n",
      "N foreground 17716, N  background 0,unable to generate class balanced samples.\n",
      "N foreground 16450, N  background 0,unable to generate class balanced samples.\n",
      "N foreground 19210, N  background 0,unable to generate class balanced samples.\n",
      "N foreground 16682, N  background 0,unable to generate class balanced samples.\n",
      "N foreground 13958, N  background 0,unable to generate class balanced samples.\n",
      "N foreground 14317, N  background 0,unable to generate class balanced samples.\n",
      "N foreground 10474, N  background 0,unable to generate class balanced samples.\n",
      "N foreground 14262, N  background 0,unable to generate class balanced samples.\n",
      "N foreground 15184, N  background 0,unable to generate class balanced samples.\n",
      "N foreground 15838, N  background 0,unable to generate class balanced samples.\n",
      "N foreground 13064, N  background 0,unable to generate class balanced samples.\n",
      "N foreground 12122, N  background 0,unable to generate class balanced samples.\n",
      "N foreground 8935, N  background 0,unable to generate class balanced samples.\n",
      "N foreground 15909, N  background 0,unable to generate class balanced samples.\n",
      "N foreground 16115, N  background 0,unable to generate class balanced samples.\n",
      "N foreground 13809, N  background 0,unable to generate class balanced samples.\n",
      "N foreground 10992, N  background 0,unable to generate class balanced samples.\n",
      "N foreground 17097, N  background 0,unable to generate class balanced samples.\n",
      "N foreground 22593, N  background 0,unable to generate class balanced samples.\n",
      "N foreground 15619, N  background 0,unable to generate class balanced samples.\n",
      "N foreground 14809, N  background 0,unable to generate class balanced samples.\n",
      "N foreground 13138, N  background 0,unable to generate class balanced samples.\n"
     ]
    },
    {
     "name": "stdout",
     "output_type": "stream",
     "text": [
      "1/13, train_loss: 0.1663\n",
      "2/13, train_loss: 0.1610\n",
      "3/13, train_loss: 0.1432\n",
      "4/13, train_loss: 0.1576\n",
      "5/13, train_loss: 0.1560\n",
      "6/13, train_loss: 0.1356\n",
      "7/13, train_loss: 0.1562\n",
      "8/13, train_loss: 0.1542\n",
      "9/13, train_loss: 0.1592\n",
      "10/13, train_loss: 0.1625\n",
      "11/13, train_loss: 0.1549\n",
      "12/13, train_loss: 0.1458\n",
      "13/13, train_loss: 0.1409\n",
      "epoch 72 average loss: 0.1533\n"
     ]
    },
    {
     "name": "stderr",
     "output_type": "stream",
     "text": [
      "N foreground 14149, N  background 0,unable to generate class balanced samples.\n",
      "N foreground 13981, N  background 0,unable to generate class balanced samples.\n",
      "N foreground 18264, N  background 0,unable to generate class balanced samples.\n",
      "N foreground 14351, N  background 0,unable to generate class balanced samples.\n",
      "N foreground 16021, N  background 0,unable to generate class balanced samples.\n",
      "N foreground 13080, N  background 0,unable to generate class balanced samples.\n",
      "N foreground 10539, N  background 0,unable to generate class balanced samples.\n",
      "N foreground 14458, N  background 0,unable to generate class balanced samples.\n",
      "N foreground 14199, N  background 0,unable to generate class balanced samples.\n"
     ]
    },
    {
     "name": "stdout",
     "output_type": "stream",
     "text": [
      "current epoch: 72 current mean dice: 0.8685\n",
      "best mean dice: 0.8714at epoch: 70\n",
      "----------\n",
      "epoch 73/150\n"
     ]
    },
    {
     "name": "stderr",
     "output_type": "stream",
     "text": [
      "N foreground 13809, N  background 0,unable to generate class balanced samples.\n",
      "N foreground 16450, N  background 0,unable to generate class balanced samples.\n",
      "N foreground 17716, N  background 0,unable to generate class balanced samples.\n",
      "N foreground 10533, N  background 0,unable to generate class balanced samples.\n",
      "N foreground 19210, N  background 0,unable to generate class balanced samples.\n",
      "N foreground 10474, N  background 0,unable to generate class balanced samples.\n",
      "N foreground 15184, N  background 0,unable to generate class balanced samples.\n",
      "N foreground 14317, N  background 0,unable to generate class balanced samples.\n",
      "N foreground 17097, N  background 0,unable to generate class balanced samples.\n",
      "N foreground 13958, N  background 0,unable to generate class balanced samples.\n",
      "N foreground 15909, N  background 0,unable to generate class balanced samples.\n",
      "N foreground 14230, N  background 0,unable to generate class balanced samples.\n",
      "N foreground 15838, N  background 0,unable to generate class balanced samples.\n",
      "N foreground 14262, N  background 0,unable to generate class balanced samples.\n",
      "N foreground 22593, N  background 0,unable to generate class balanced samples.\n",
      "N foreground 8935, N  background 0,unable to generate class balanced samples.\n",
      "N foreground 12122, N  background 0,unable to generate class balanced samples.\n",
      "N foreground 16388, N  background 0,unable to generate class balanced samples.\n",
      "N foreground 16682, N  background 0,unable to generate class balanced samples.\n",
      "N foreground 16438, N  background 0,unable to generate class balanced samples.\n",
      "N foreground 16115, N  background 0,unable to generate class balanced samples.\n",
      "N foreground 14809, N  background 0,unable to generate class balanced samples.\n",
      "N foreground 13064, N  background 0,unable to generate class balanced samples.\n",
      "N foreground 15619, N  background 0,unable to generate class balanced samples.\n",
      "N foreground 13138, N  background 0,unable to generate class balanced samples.\n",
      "N foreground 10992, N  background 0,unable to generate class balanced samples.\n"
     ]
    },
    {
     "name": "stdout",
     "output_type": "stream",
     "text": [
      "1/13, train_loss: 0.1461\n",
      "2/13, train_loss: 0.1442\n",
      "3/13, train_loss: 0.1593\n",
      "4/13, train_loss: 0.1432\n",
      "5/13, train_loss: 0.1524\n",
      "6/13, train_loss: 0.1551\n",
      "7/13, train_loss: 0.1493\n",
      "8/13, train_loss: 0.1740\n",
      "9/13, train_loss: 0.1579\n",
      "10/13, train_loss: 0.1509\n",
      "11/13, train_loss: 0.1494\n",
      "12/13, train_loss: 0.1446\n",
      "13/13, train_loss: 0.1508\n",
      "epoch 73 average loss: 0.1521\n"
     ]
    },
    {
     "name": "stderr",
     "output_type": "stream",
     "text": [
      "N foreground 13080, N  background 0,unable to generate class balanced samples.\n",
      "N foreground 14149, N  background 0,unable to generate class balanced samples.\n",
      "N foreground 18264, N  background 0,unable to generate class balanced samples.\n",
      "N foreground 14351, N  background 0,unable to generate class balanced samples.\n",
      "N foreground 16021, N  background 0,unable to generate class balanced samples.\n",
      "N foreground 13981, N  background 0,unable to generate class balanced samples.\n",
      "N foreground 10539, N  background 0,unable to generate class balanced samples.\n",
      "N foreground 14458, N  background 0,unable to generate class balanced samples.\n",
      "N foreground 14199, N  background 0,unable to generate class balanced samples.\n"
     ]
    },
    {
     "name": "stdout",
     "output_type": "stream",
     "text": [
      "current epoch: 73 current mean dice: 0.8709\n",
      "best mean dice: 0.8714at epoch: 70\n",
      "----------\n",
      "epoch 74/150\n"
     ]
    },
    {
     "name": "stderr",
     "output_type": "stream",
     "text": [
      "N foreground 19210, N  background 0,unable to generate class balanced samples.\n",
      "N foreground 13138, N  background 0,unable to generate class balanced samples.\n",
      "N foreground 16450, N  background 0,unable to generate class balanced samples.\n",
      "N foreground 14317, N  background 0,unable to generate class balanced samples.\n",
      "N foreground 17716, N  background 0,unable to generate class balanced samples.\n",
      "N foreground 16682, N  background 0,unable to generate class balanced samples.\n",
      "N foreground 12122, N  background 0,unable to generate class balanced samples.\n",
      "N foreground 13809, N  background 0,unable to generate class balanced samples.\n",
      "N foreground 22593, N  background 0,unable to generate class balanced samples.\n",
      "N foreground 14262, N  background 0,unable to generate class balanced samples.\n",
      "N foreground 17097, N  background 0,unable to generate class balanced samples.\n",
      "N foreground 15838, N  background 0,unable to generate class balanced samples.\n",
      "N foreground 10474, N  background 0,unable to generate class balanced samples.\n",
      "N foreground 16115, N  background 0,unable to generate class balanced samples.\n",
      "N foreground 10992, N  background 0,unable to generate class balanced samples.\n",
      "N foreground 15619, N  background 0,unable to generate class balanced samples.\n",
      "N foreground 16438, N  background 0,unable to generate class balanced samples.\n",
      "N foreground 8935, N  background 0,unable to generate class balanced samples.\n",
      "N foreground 15184, N  background 0,unable to generate class balanced samples.\n",
      "N foreground 14230, N  background 0,unable to generate class balanced samples.\n",
      "N foreground 13958, N  background 0,unable to generate class balanced samples.\n",
      "N foreground 10533, N  background 0,unable to generate class balanced samples.\n",
      "N foreground 15909, N  background 0,unable to generate class balanced samples.\n",
      "N foreground 13064, N  background 0,unable to generate class balanced samples.\n",
      "N foreground 16388, N  background 0,unable to generate class balanced samples.\n",
      "N foreground 14809, N  background 0,unable to generate class balanced samples.\n"
     ]
    },
    {
     "name": "stdout",
     "output_type": "stream",
     "text": [
      "1/13, train_loss: 0.1324\n",
      "2/13, train_loss: 0.1444\n",
      "3/13, train_loss: 0.1415\n",
      "4/13, train_loss: 0.1520\n",
      "5/13, train_loss: 0.1541\n",
      "6/13, train_loss: 0.1485\n",
      "7/13, train_loss: 0.1471\n",
      "8/13, train_loss: 0.1429\n",
      "9/13, train_loss: 0.1511\n",
      "10/13, train_loss: 0.1540\n",
      "11/13, train_loss: 0.1705\n",
      "12/13, train_loss: 0.1488\n",
      "13/13, train_loss: 0.1625\n",
      "epoch 74 average loss: 0.1500\n"
     ]
    },
    {
     "name": "stderr",
     "output_type": "stream",
     "text": [
      "N foreground 13981, N  background 0,unable to generate class balanced samples.\n",
      "N foreground 18264, N  background 0,unable to generate class balanced samples.\n",
      "N foreground 13080, N  background 0,unable to generate class balanced samples.\n",
      "N foreground 16021, N  background 0,unable to generate class balanced samples.\n",
      "N foreground 10539, N  background 0,unable to generate class balanced samples.\n",
      "N foreground 14351, N  background 0,unable to generate class balanced samples.\n",
      "N foreground 14149, N  background 0,unable to generate class balanced samples.\n",
      "N foreground 14458, N  background 0,unable to generate class balanced samples.\n",
      "N foreground 14199, N  background 0,unable to generate class balanced samples.\n"
     ]
    },
    {
     "name": "stdout",
     "output_type": "stream",
     "text": [
      "current epoch: 74 current mean dice: 0.8695\n",
      "best mean dice: 0.8714at epoch: 70\n",
      "----------\n",
      "epoch 75/150\n"
     ]
    },
    {
     "name": "stderr",
     "output_type": "stream",
     "text": [
      "N foreground 15838, N  background 0,unable to generate class balanced samples.\n",
      "N foreground 12122, N  background 0,unable to generate class balanced samples.\n",
      "N foreground 14230, N  background 0,unable to generate class balanced samples.\n",
      "N foreground 22593, N  background 0,unable to generate class balanced samples.\n",
      "N foreground 15619, N  background 0,unable to generate class balanced samples.\n",
      "N foreground 13064, N  background 0,unable to generate class balanced samples.\n",
      "N foreground 16388, N  background 0,unable to generate class balanced samples.\n",
      "N foreground 13809, N  background 0,unable to generate class balanced samples.\n",
      "N foreground 16682, N  background 0,unable to generate class balanced samples.\n",
      "N foreground 16115, N  background 0,unable to generate class balanced samples.\n",
      "N foreground 15184, N  background 0,unable to generate class balanced samples.\n",
      "N foreground 15909, N  background 0,unable to generate class balanced samples.\n",
      "N foreground 17716, N  background 0,unable to generate class balanced samples.\n",
      "N foreground 17097, N  background 0,unable to generate class balanced samples.\n",
      "N foreground 10992, N  background 0,unable to generate class balanced samples.\n",
      "N foreground 13958, N  background 0,unable to generate class balanced samples.\n",
      "N foreground 14262, N  background 0,unable to generate class balanced samples.\n",
      "N foreground 10533, N  background 0,unable to generate class balanced samples.\n",
      "N foreground 14317, N  background 0,unable to generate class balanced samples.\n",
      "N foreground 13138, N  background 0,unable to generate class balanced samples.\n",
      "N foreground 14809, N  background 0,unable to generate class balanced samples.\n",
      "N foreground 16438, N  background 0,unable to generate class balanced samples.\n",
      "N foreground 16450, N  background 0,unable to generate class balanced samples.\n",
      "N foreground 8935, N  background 0,unable to generate class balanced samples.\n",
      "N foreground 10474, N  background 0,unable to generate class balanced samples.\n",
      "N foreground 19210, N  background 0,unable to generate class balanced samples.\n"
     ]
    },
    {
     "name": "stdout",
     "output_type": "stream",
     "text": [
      "1/13, train_loss: 0.1518\n",
      "2/13, train_loss: 0.1563\n",
      "3/13, train_loss: 0.1404\n",
      "4/13, train_loss: 0.1401\n",
      "5/13, train_loss: 0.1309\n",
      "6/13, train_loss: 0.1499\n",
      "7/13, train_loss: 0.1540\n",
      "8/13, train_loss: 0.1487\n",
      "9/13, train_loss: 0.1286\n",
      "10/13, train_loss: 0.1682\n",
      "11/13, train_loss: 0.1518\n",
      "12/13, train_loss: 0.1571\n",
      "13/13, train_loss: 0.1649\n",
      "epoch 75 average loss: 0.1494\n"
     ]
    },
    {
     "name": "stderr",
     "output_type": "stream",
     "text": [
      "N foreground 13981, N  background 0,unable to generate class balanced samples.\n",
      "N foreground 13080, N  background 0,unable to generate class balanced samples.\n",
      "N foreground 14351, N  background 0,unable to generate class balanced samples.\n",
      "N foreground 10539, N  background 0,unable to generate class balanced samples.\n",
      "N foreground 14149, N  background 0,unable to generate class balanced samples.\n",
      "N foreground 18264, N  background 0,unable to generate class balanced samples.\n",
      "N foreground 14458, N  background 0,unable to generate class balanced samples.\n",
      "N foreground 16021, N  background 0,unable to generate class balanced samples.\n",
      "N foreground 14199, N  background 0,unable to generate class balanced samples.\n"
     ]
    },
    {
     "name": "stdout",
     "output_type": "stream",
     "text": [
      "current epoch: 75 current mean dice: 0.8683\n",
      "best mean dice: 0.8714at epoch: 70\n",
      "----------\n",
      "epoch 76/150\n"
     ]
    },
    {
     "name": "stderr",
     "output_type": "stream",
     "text": [
      "N foreground 17716, N  background 0,unable to generate class balanced samples.\n",
      "N foreground 14230, N  background 0,unable to generate class balanced samples.\n",
      "N foreground 13138, N  background 0,unable to generate class balanced samples.\n",
      "N foreground 16438, N  background 0,unable to generate class balanced samples.\n",
      "N foreground 22593, N  background 0,unable to generate class balanced samples.\n",
      "N foreground 19210, N  background 0,unable to generate class balanced samples.\n",
      "N foreground 16450, N  background 0,unable to generate class balanced samples.\n",
      "N foreground 16388, N  background 0,unable to generate class balanced samples.\n",
      "N foreground 13809, N  background 0,unable to generate class balanced samples.\n",
      "N foreground 14809, N  background 0,unable to generate class balanced samples.\n",
      "N foreground 13064, N  background 0,unable to generate class balanced samples.\n",
      "N foreground 8935, N  background 0,unable to generate class balanced samples.\n",
      "N foreground 14262, N  background 0,unable to generate class balanced samples.\n",
      "N foreground 12122, N  background 0,unable to generate class balanced samples.\n",
      "N foreground 16682, N  background 0,unable to generate class balanced samples.\n",
      "N foreground 16115, N  background 0,unable to generate class balanced samples.\n",
      "N foreground 14317, N  background 0,unable to generate class balanced samples.\n",
      "N foreground 10992, N  background 0,unable to generate class balanced samples.\n",
      "N foreground 15184, N  background 0,unable to generate class balanced samples.\n",
      "N foreground 13958, N  background 0,unable to generate class balanced samples.\n",
      "N foreground 10533, N  background 0,unable to generate class balanced samples.\n",
      "N foreground 17097, N  background 0,unable to generate class balanced samples.\n",
      "N foreground 10474, N  background 0,unable to generate class balanced samples.\n",
      "N foreground 15838, N  background 0,unable to generate class balanced samples.\n",
      "N foreground 15619, N  background 0,unable to generate class balanced samples.\n",
      "N foreground 15909, N  background 0,unable to generate class balanced samples.\n"
     ]
    },
    {
     "name": "stdout",
     "output_type": "stream",
     "text": [
      "1/13, train_loss: 0.1494\n",
      "2/13, train_loss: 0.1330\n",
      "3/13, train_loss: 0.1618\n",
      "4/13, train_loss: 0.1522\n",
      "5/13, train_loss: 0.1334\n",
      "6/13, train_loss: 0.1440\n",
      "7/13, train_loss: 0.1445\n",
      "8/13, train_loss: 0.1620\n",
      "9/13, train_loss: 0.1418\n",
      "10/13, train_loss: 0.1493\n",
      "11/13, train_loss: 0.1563\n",
      "12/13, train_loss: 0.1575\n",
      "13/13, train_loss: 0.1577\n",
      "epoch 76 average loss: 0.1495\n"
     ]
    },
    {
     "name": "stderr",
     "output_type": "stream",
     "text": [
      "N foreground 13080, N  background 0,unable to generate class balanced samples.\n",
      "N foreground 14149, N  background 0,unable to generate class balanced samples.\n",
      "N foreground 18264, N  background 0,unable to generate class balanced samples.\n",
      "N foreground 16021, N  background 0,unable to generate class balanced samples.\n",
      "N foreground 14351, N  background 0,unable to generate class balanced samples.\n",
      "N foreground 13981, N  background 0,unable to generate class balanced samples.\n",
      "N foreground 10539, N  background 0,unable to generate class balanced samples.\n",
      "N foreground 14458, N  background 0,unable to generate class balanced samples.\n",
      "N foreground 14199, N  background 0,unable to generate class balanced samples.\n"
     ]
    },
    {
     "name": "stdout",
     "output_type": "stream",
     "text": [
      "current epoch: 76 current mean dice: 0.8628\n",
      "best mean dice: 0.8714at epoch: 70\n",
      "----------\n",
      "epoch 77/150\n"
     ]
    },
    {
     "name": "stderr",
     "output_type": "stream",
     "text": [
      "N foreground 8935, N  background 0,unable to generate class balanced samples.\n",
      "N foreground 22593, N  background 0,unable to generate class balanced samples.\n",
      "N foreground 10992, N  background 0,unable to generate class balanced samples.\n",
      "N foreground 14230, N  background 0,unable to generate class balanced samples.\n",
      "N foreground 17716, N  background 0,unable to generate class balanced samples.\n",
      "N foreground 16682, N  background 0,unable to generate class balanced samples.\n",
      "N foreground 10474, N  background 0,unable to generate class balanced samples.\n",
      "N foreground 13064, N  background 0,unable to generate class balanced samples.\n",
      "N foreground 15619, N  background 0,unable to generate class balanced samples.\n",
      "N foreground 19210, N  background 0,unable to generate class balanced samples.\n",
      "N foreground 15909, N  background 0,unable to generate class balanced samples.\n",
      "N foreground 14317, N  background 0,unable to generate class balanced samples.\n",
      "N foreground 17097, N  background 0,unable to generate class balanced samples.\n",
      "N foreground 13809, N  background 0,unable to generate class balanced samples.\n",
      "N foreground 12122, N  background 0,unable to generate class balanced samples.\n",
      "N foreground 14809, N  background 0,unable to generate class balanced samples.\n",
      "N foreground 16388, N  background 0,unable to generate class balanced samples.\n",
      "N foreground 15838, N  background 0,unable to generate class balanced samples.\n",
      "N foreground 15184, N  background 0,unable to generate class balanced samples.\n",
      "N foreground 13958, N  background 0,unable to generate class balanced samples.\n",
      "N foreground 16450, N  background 0,unable to generate class balanced samples.\n",
      "N foreground 10533, N  background 0,unable to generate class balanced samples.\n",
      "N foreground 16115, N  background 0,unable to generate class balanced samples.\n",
      "N foreground 13138, N  background 0,unable to generate class balanced samples.\n",
      "N foreground 16438, N  background 0,unable to generate class balanced samples.\n",
      "N foreground 14262, N  background 0,unable to generate class balanced samples.\n"
     ]
    },
    {
     "name": "stdout",
     "output_type": "stream",
     "text": [
      "1/13, train_loss: 0.1292\n",
      "2/13, train_loss: 0.1471\n",
      "3/13, train_loss: 0.1458\n",
      "4/13, train_loss: 0.1346\n",
      "5/13, train_loss: 0.1673\n",
      "6/13, train_loss: 0.1430\n",
      "7/13, train_loss: 0.1598\n",
      "8/13, train_loss: 0.1469\n",
      "9/13, train_loss: 0.1313\n",
      "10/13, train_loss: 0.1493\n",
      "11/13, train_loss: 0.1610\n",
      "12/13, train_loss: 0.1552\n",
      "13/13, train_loss: 0.1474\n",
      "epoch 77 average loss: 0.1475\n"
     ]
    },
    {
     "name": "stderr",
     "output_type": "stream",
     "text": [
      "N foreground 13080, N  background 0,unable to generate class balanced samples.\n",
      "N foreground 16021, N  background 0,unable to generate class balanced samples.\n",
      "N foreground 13981, N  background 0,unable to generate class balanced samples.\n",
      "N foreground 14149, N  background 0,unable to generate class balanced samples.\n",
      "N foreground 18264, N  background 0,unable to generate class balanced samples.\n",
      "N foreground 14351, N  background 0,unable to generate class balanced samples.\n",
      "N foreground 10539, N  background 0,unable to generate class balanced samples.\n",
      "N foreground 14458, N  background 0,unable to generate class balanced samples.\n",
      "N foreground 14199, N  background 0,unable to generate class balanced samples.\n"
     ]
    },
    {
     "name": "stdout",
     "output_type": "stream",
     "text": [
      "current epoch: 77 current mean dice: 0.8689\n",
      "best mean dice: 0.8714at epoch: 70\n",
      "----------\n",
      "epoch 78/150\n"
     ]
    },
    {
     "name": "stderr",
     "output_type": "stream",
     "text": [
      "N foreground 22593, N  background 0,unable to generate class balanced samples.\n",
      "N foreground 14317, N  background 0,unable to generate class balanced samples.\n",
      "N foreground 15184, N  background 0,unable to generate class balanced samples.\n",
      "N foreground 16438, N  background 0,unable to generate class balanced samples.\n",
      "N foreground 13809, N  background 0,unable to generate class balanced samples.\n",
      "N foreground 19210, N  background 0,unable to generate class balanced samples.\n",
      "N foreground 16388, N  background 0,unable to generate class balanced samples.\n",
      "N foreground 10474, N  background 0,unable to generate class balanced samples.\n",
      "N foreground 13064, N  background 0,unable to generate class balanced samples.\n",
      "N foreground 14262, N  background 0,unable to generate class balanced samples.\n",
      "N foreground 15909, N  background 0,unable to generate class balanced samples.\n",
      "N foreground 16450, N  background 0,unable to generate class balanced samples.\n",
      "N foreground 17097, N  background 0,unable to generate class balanced samples.\n",
      "N foreground 8935, N  background 0,unable to generate class balanced samples.\n",
      "N foreground 12122, N  background 0,unable to generate class balanced samples.\n",
      "N foreground 15619, N  background 0,unable to generate class balanced samples.\n",
      "N foreground 13138, N  background 0,unable to generate class balanced samples.\n",
      "N foreground 16682, N  background 0,unable to generate class balanced samples.\n",
      "N foreground 14809, N  background 0,unable to generate class balanced samples.\n",
      "N foreground 10533, N  background 0,unable to generate class balanced samples.\n",
      "N foreground 14230, N  background 0,unable to generate class balanced samples.\n",
      "N foreground 15838, N  background 0,unable to generate class balanced samples.\n",
      "N foreground 16115, N  background 0,unable to generate class balanced samples.\n",
      "N foreground 13958, N  background 0,unable to generate class balanced samples.\n",
      "N foreground 17716, N  background 0,unable to generate class balanced samples.\n",
      "N foreground 10992, N  background 0,unable to generate class balanced samples.\n"
     ]
    },
    {
     "name": "stdout",
     "output_type": "stream",
     "text": [
      "1/13, train_loss: 0.1625\n",
      "2/13, train_loss: 0.1576\n",
      "3/13, train_loss: 0.1433\n",
      "4/13, train_loss: 0.1407\n",
      "5/13, train_loss: 0.1258\n",
      "6/13, train_loss: 0.1466\n",
      "7/13, train_loss: 0.1454\n",
      "8/13, train_loss: 0.1550\n",
      "9/13, train_loss: 0.1594\n",
      "10/13, train_loss: 0.1450\n",
      "11/13, train_loss: 0.1392\n",
      "12/13, train_loss: 0.1565\n",
      "13/13, train_loss: 0.1447\n",
      "epoch 78 average loss: 0.1478\n"
     ]
    },
    {
     "name": "stderr",
     "output_type": "stream",
     "text": [
      "N foreground 14351, N  background 0,unable to generate class balanced samples.\n",
      "N foreground 13080, N  background 0,unable to generate class balanced samples.\n",
      "N foreground 16021, N  background 0,unable to generate class balanced samples.\n",
      "N foreground 18264, N  background 0,unable to generate class balanced samples.\n",
      "N foreground 10539, N  background 0,unable to generate class balanced samples.\n",
      "N foreground 13981, N  background 0,unable to generate class balanced samples.\n",
      "N foreground 14149, N  background 0,unable to generate class balanced samples.\n",
      "N foreground 14458, N  background 0,unable to generate class balanced samples.\n",
      "N foreground 14199, N  background 0,unable to generate class balanced samples.\n"
     ]
    },
    {
     "name": "stdout",
     "output_type": "stream",
     "text": [
      "saved new best metric model\n",
      "current epoch: 78 current mean dice: 0.8744\n",
      "best mean dice: 0.8744at epoch: 78\n",
      "----------\n",
      "epoch 79/150\n"
     ]
    },
    {
     "name": "stderr",
     "output_type": "stream",
     "text": [
      "N foreground 10474, N  background 0,unable to generate class balanced samples.\n",
      "N foreground 16115, N  background 0,unable to generate class balanced samples.\n",
      "N foreground 15619, N  background 0,unable to generate class balanced samples.\n",
      "N foreground 15838, N  background 0,unable to generate class balanced samples.\n",
      "N foreground 13809, N  background 0,unable to generate class balanced samples.\n",
      "N foreground 14317, N  background 0,unable to generate class balanced samples.\n",
      "N foreground 16450, N  background 0,unable to generate class balanced samples.\n",
      "N foreground 13138, N  background 0,unable to generate class balanced samples.\n",
      "N foreground 14230, N  background 0,unable to generate class balanced samples.\n",
      "N foreground 8935, N  background 0,unable to generate class balanced samples.\n",
      "N foreground 10533, N  background 0,unable to generate class balanced samples.\n",
      "N foreground 16438, N  background 0,unable to generate class balanced samples.\n",
      "N foreground 14809, N  background 0,unable to generate class balanced samples.\n",
      "N foreground 13064, N  background 0,unable to generate class balanced samples.\n",
      "N foreground 15909, N  background 0,unable to generate class balanced samples.\n",
      "N foreground 22593, N  background 0,unable to generate class balanced samples.\n",
      "N foreground 19210, N  background 0,unable to generate class balanced samples.\n",
      "N foreground 17097, N  background 0,unable to generate class balanced samples.\n",
      "N foreground 12122, N  background 0,unable to generate class balanced samples.\n",
      "N foreground 15184, N  background 0,unable to generate class balanced samples.\n",
      "N foreground 13958, N  background 0,unable to generate class balanced samples.\n",
      "N foreground 16388, N  background 0,unable to generate class balanced samples.\n",
      "N foreground 10992, N  background 0,unable to generate class balanced samples.\n",
      "N foreground 17716, N  background 0,unable to generate class balanced samples.\n",
      "N foreground 14262, N  background 0,unable to generate class balanced samples.\n",
      "N foreground 16682, N  background 0,unable to generate class balanced samples.\n"
     ]
    },
    {
     "name": "stdout",
     "output_type": "stream",
     "text": [
      "1/13, train_loss: 0.1562\n",
      "2/13, train_loss: 0.1568\n",
      "3/13, train_loss: 0.1433\n",
      "4/13, train_loss: 0.1616\n",
      "5/13, train_loss: 0.1380\n",
      "6/13, train_loss: 0.1442\n",
      "7/13, train_loss: 0.1612\n",
      "8/13, train_loss: 0.1399\n",
      "9/13, train_loss: 0.1435\n",
      "10/13, train_loss: 0.1351\n",
      "11/13, train_loss: 0.1550\n",
      "12/13, train_loss: 0.1538\n",
      "13/13, train_loss: 0.1372\n",
      "epoch 79 average loss: 0.1481\n"
     ]
    },
    {
     "name": "stderr",
     "output_type": "stream",
     "text": [
      "N foreground 10539, N  background 0,unable to generate class balanced samples.\n",
      "N foreground 18264, N  background 0,unable to generate class balanced samples.\n",
      "N foreground 13080, N  background 0,unable to generate class balanced samples.\n",
      "N foreground 14351, N  background 0,unable to generate class balanced samples.\n",
      "N foreground 14149, N  background 0,unable to generate class balanced samples.\n",
      "N foreground 13981, N  background 0,unable to generate class balanced samples.\n",
      "N foreground 16021, N  background 0,unable to generate class balanced samples.\n",
      "N foreground 14458, N  background 0,unable to generate class balanced samples.\n",
      "N foreground 14199, N  background 0,unable to generate class balanced samples.\n"
     ]
    },
    {
     "name": "stdout",
     "output_type": "stream",
     "text": [
      "saved new best metric model\n",
      "current epoch: 79 current mean dice: 0.8752\n",
      "best mean dice: 0.8752at epoch: 79\n",
      "----------\n",
      "epoch 80/150\n"
     ]
    },
    {
     "name": "stderr",
     "output_type": "stream",
     "text": [
      "N foreground 14317, N  background 0,unable to generate class balanced samples.\n",
      "N foreground 13138, N  background 0,unable to generate class balanced samples.\n",
      "N foreground 17097, N  background 0,unable to generate class balanced samples.\n",
      "N foreground 15184, N  background 0,unable to generate class balanced samples.\n",
      "N foreground 13809, N  background 0,unable to generate class balanced samples.\n",
      "N foreground 16115, N  background 0,unable to generate class balanced samples.\n",
      "N foreground 12122, N  background 0,unable to generate class balanced samples.\n",
      "N foreground 16388, N  background 0,unable to generate class balanced samples.\n",
      "N foreground 19210, N  background 0,unable to generate class balanced samples.\n",
      "N foreground 14230, N  background 0,unable to generate class balanced samples.\n",
      "N foreground 16438, N  background 0,unable to generate class balanced samples.\n",
      "N foreground 14262, N  background 0,unable to generate class balanced samples.\n",
      "N foreground 10992, N  background 0,unable to generate class balanced samples.\n",
      "N foreground 15909, N  background 0,unable to generate class balanced samples.\n",
      "N foreground 17716, N  background 0,unable to generate class balanced samples.\n",
      "N foreground 15838, N  background 0,unable to generate class balanced samples.\n",
      "N foreground 15619, N  background 0,unable to generate class balanced samples.\n",
      "N foreground 10474, N  background 0,unable to generate class balanced samples.\n",
      "N foreground 16450, N  background 0,unable to generate class balanced samples.\n",
      "N foreground 13958, N  background 0,unable to generate class balanced samples.\n",
      "N foreground 10533, N  background 0,unable to generate class balanced samples.\n",
      "N foreground 22593, N  background 0,unable to generate class balanced samples.\n",
      "N foreground 8935, N  background 0,unable to generate class balanced samples.\n",
      "N foreground 16682, N  background 0,unable to generate class balanced samples.\n",
      "N foreground 13064, N  background 0,unable to generate class balanced samples.\n",
      "N foreground 14809, N  background 0,unable to generate class balanced samples.\n"
     ]
    },
    {
     "name": "stdout",
     "output_type": "stream",
     "text": [
      "1/13, train_loss: 0.1546\n",
      "2/13, train_loss: 0.1440\n",
      "3/13, train_loss: 0.1350\n",
      "4/13, train_loss: 0.1382\n",
      "5/13, train_loss: 0.1397\n",
      "6/13, train_loss: 0.1356\n",
      "7/13, train_loss: 0.1458\n",
      "8/13, train_loss: 0.1495\n",
      "9/13, train_loss: 0.1337\n",
      "10/13, train_loss: 0.1556\n",
      "11/13, train_loss: 0.1507\n",
      "12/13, train_loss: 0.1431\n",
      "13/13, train_loss: 0.1703\n",
      "epoch 80 average loss: 0.1458\n"
     ]
    },
    {
     "name": "stderr",
     "output_type": "stream",
     "text": [
      "N foreground 13080, N  background 0,unable to generate class balanced samples.\n",
      "N foreground 18264, N  background 0,unable to generate class balanced samples.\n",
      "N foreground 13981, N  background 0,unable to generate class balanced samples.\n",
      "N foreground 14351, N  background 0,unable to generate class balanced samples.\n",
      "N foreground 16021, N  background 0,unable to generate class balanced samples.\n",
      "N foreground 14149, N  background 0,unable to generate class balanced samples.\n",
      "N foreground 10539, N  background 0,unable to generate class balanced samples.\n",
      "N foreground 14458, N  background 0,unable to generate class balanced samples.\n",
      "N foreground 14199, N  background 0,unable to generate class balanced samples.\n"
     ]
    },
    {
     "name": "stdout",
     "output_type": "stream",
     "text": [
      "current epoch: 80 current mean dice: 0.8737\n",
      "best mean dice: 0.8752at epoch: 79\n",
      "----------\n",
      "epoch 81/150\n"
     ]
    },
    {
     "name": "stderr",
     "output_type": "stream",
     "text": [
      "N foreground 17097, N  background 0,unable to generate class balanced samples.\n",
      "N foreground 10474, N  background 0,unable to generate class balanced samples.\n",
      "N foreground 16682, N  background 0,unable to generate class balanced samples.\n",
      "N foreground 17716, N  background 0,unable to generate class balanced samples.\n",
      "N foreground 14262, N  background 0,unable to generate class balanced samples.\n",
      "N foreground 16388, N  background 0,unable to generate class balanced samples.\n",
      "N foreground 22593, N  background 0,unable to generate class balanced samples.\n",
      "N foreground 16115, N  background 0,unable to generate class balanced samples.\n",
      "N foreground 16450, N  background 0,unable to generate class balanced samples.\n",
      "N foreground 15909, N  background 0,unable to generate class balanced samples.\n",
      "N foreground 14809, N  background 0,unable to generate class balanced samples.\n",
      "N foreground 10992, N  background 0,unable to generate class balanced samples.\n",
      "N foreground 16438, N  background 0,unable to generate class balanced samples.\n",
      "N foreground 13138, N  background 0,unable to generate class balanced samples.\n",
      "N foreground 14317, N  background 0,unable to generate class balanced samples.\n",
      "N foreground 13064, N  background 0,unable to generate class balanced samples.\n",
      "N foreground 15619, N  background 0,unable to generate class balanced samples.\n",
      "N foreground 13958, N  background 0,unable to generate class balanced samples.\n",
      "N foreground 12122, N  background 0,unable to generate class balanced samples.\n",
      "N foreground 13809, N  background 0,unable to generate class balanced samples.\n",
      "N foreground 10533, N  background 0,unable to generate class balanced samples.\n",
      "N foreground 15184, N  background 0,unable to generate class balanced samples.\n",
      "N foreground 8935, N  background 0,unable to generate class balanced samples.\n",
      "N foreground 19210, N  background 0,unable to generate class balanced samples.\n",
      "N foreground 14230, N  background 0,unable to generate class balanced samples.\n",
      "N foreground 15838, N  background 0,unable to generate class balanced samples.\n"
     ]
    },
    {
     "name": "stdout",
     "output_type": "stream",
     "text": [
      "1/13, train_loss: 0.1465\n",
      "2/13, train_loss: 0.1460\n",
      "3/13, train_loss: 0.1431\n",
      "4/13, train_loss: 0.1345\n",
      "5/13, train_loss: 0.1311\n",
      "6/13, train_loss: 0.1566\n",
      "7/13, train_loss: 0.1438\n",
      "8/13, train_loss: 0.1466\n",
      "9/13, train_loss: 0.1501\n",
      "10/13, train_loss: 0.1476\n",
      "11/13, train_loss: 0.1351\n",
      "12/13, train_loss: 0.1580\n",
      "13/13, train_loss: 0.1557\n",
      "epoch 81 average loss: 0.1457\n"
     ]
    },
    {
     "name": "stderr",
     "output_type": "stream",
     "text": [
      "N foreground 14351, N  background 0,unable to generate class balanced samples.\n",
      "N foreground 13080, N  background 0,unable to generate class balanced samples.\n",
      "N foreground 18264, N  background 0,unable to generate class balanced samples.\n",
      "N foreground 14149, N  background 0,unable to generate class balanced samples.\n",
      "N foreground 16021, N  background 0,unable to generate class balanced samples.\n",
      "N foreground 10539, N  background 0,unable to generate class balanced samples.\n",
      "N foreground 13981, N  background 0,unable to generate class balanced samples.\n",
      "N foreground 14458, N  background 0,unable to generate class balanced samples.\n",
      "N foreground 14199, N  background 0,unable to generate class balanced samples.\n"
     ]
    },
    {
     "name": "stdout",
     "output_type": "stream",
     "text": [
      "current epoch: 81 current mean dice: 0.8727\n",
      "best mean dice: 0.8752at epoch: 79\n",
      "----------\n",
      "epoch 82/150\n"
     ]
    },
    {
     "name": "stderr",
     "output_type": "stream",
     "text": [
      "N foreground 16115, N  background 0,unable to generate class balanced samples.\n",
      "N foreground 10533, N  background 0,unable to generate class balanced samples.\n",
      "N foreground 15838, N  background 0,unable to generate class balanced samples.\n",
      "N foreground 14317, N  background 0,unable to generate class balanced samples.\n",
      "N foreground 16682, N  background 0,unable to generate class balanced samples.\n",
      "N foreground 10992, N  background 0,unable to generate class balanced samples.\n",
      "N foreground 13138, N  background 0,unable to generate class balanced samples.\n",
      "N foreground 14262, N  background 0,unable to generate class balanced samples.\n",
      "N foreground 22593, N  background 0,unable to generate class balanced samples.\n",
      "N foreground 17097, N  background 0,unable to generate class balanced samples.\n",
      "N foreground 13064, N  background 0,unable to generate class balanced samples.\n",
      "N foreground 8935, N  background 0,unable to generate class balanced samples.\n",
      "N foreground 13809, N  background 0,unable to generate class balanced samples.\n",
      "N foreground 17716, N  background 0,unable to generate class balanced samples.\n",
      "N foreground 15909, N  background 0,unable to generate class balanced samples.\n",
      "N foreground 19210, N  background 0,unable to generate class balanced samples.\n",
      "N foreground 14809, N  background 0,unable to generate class balanced samples.\n",
      "N foreground 15619, N  background 0,unable to generate class balanced samples.\n",
      "N foreground 10474, N  background 0,unable to generate class balanced samples.\n",
      "N foreground 12122, N  background 0,unable to generate class balanced samples.\n",
      "N foreground 16450, N  background 0,unable to generate class balanced samples.\n",
      "N foreground 13958, N  background 0,unable to generate class balanced samples.\n",
      "N foreground 14230, N  background 0,unable to generate class balanced samples.\n",
      "N foreground 15184, N  background 0,unable to generate class balanced samples.\n",
      "N foreground 16388, N  background 0,unable to generate class balanced samples.\n",
      "N foreground 16438, N  background 0,unable to generate class balanced samples.\n"
     ]
    },
    {
     "name": "stdout",
     "output_type": "stream",
     "text": [
      "1/13, train_loss: 0.1562\n",
      "2/13, train_loss: 0.1346\n",
      "3/13, train_loss: 0.1319\n",
      "4/13, train_loss: 0.1535\n",
      "5/13, train_loss: 0.1452\n",
      "6/13, train_loss: 0.1372\n",
      "7/13, train_loss: 0.1448\n",
      "8/13, train_loss: 0.1351\n",
      "9/13, train_loss: 0.1630\n",
      "10/13, train_loss: 0.1498\n",
      "11/13, train_loss: 0.1427\n",
      "12/13, train_loss: 0.1483\n",
      "13/13, train_loss: 0.1394\n",
      "epoch 82 average loss: 0.1447\n"
     ]
    },
    {
     "name": "stderr",
     "output_type": "stream",
     "text": [
      "N foreground 13981, N  background 0,unable to generate class balanced samples.\n",
      "N foreground 18264, N  background 0,unable to generate class balanced samples.\n",
      "N foreground 14149, N  background 0,unable to generate class balanced samples.\n",
      "N foreground 13080, N  background 0,unable to generate class balanced samples.\n",
      "N foreground 14351, N  background 0,unable to generate class balanced samples.\n",
      "N foreground 10539, N  background 0,unable to generate class balanced samples.\n",
      "N foreground 16021, N  background 0,unable to generate class balanced samples.\n",
      "N foreground 14458, N  background 0,unable to generate class balanced samples.\n",
      "N foreground 14199, N  background 0,unable to generate class balanced samples.\n"
     ]
    },
    {
     "name": "stdout",
     "output_type": "stream",
     "text": [
      "saved new best metric model\n",
      "current epoch: 82 current mean dice: 0.8765\n",
      "best mean dice: 0.8765at epoch: 82\n",
      "----------\n",
      "epoch 83/150\n"
     ]
    },
    {
     "name": "stderr",
     "output_type": "stream",
     "text": [
      "N foreground 15838, N  background 0,unable to generate class balanced samples.\n",
      "N foreground 15619, N  background 0,unable to generate class balanced samples.\n",
      "N foreground 16388, N  background 0,unable to generate class balanced samples.\n",
      "N foreground 16682, N  background 0,unable to generate class balanced samples.\n",
      "N foreground 13064, N  background 0,unable to generate class balanced samples.\n",
      "N foreground 8935, N  background 0,unable to generate class balanced samples.\n",
      "N foreground 22593, N  background 0,unable to generate class balanced samples.\n",
      "N foreground 15909, N  background 0,unable to generate class balanced samples.\n",
      "N foreground 10533, N  background 0,unable to generate class balanced samples.\n",
      "N foreground 10474, N  background 0,unable to generate class balanced samples.\n",
      "N foreground 14809, N  background 0,unable to generate class balanced samples.\n",
      "N foreground 13138, N  background 0,unable to generate class balanced samples.\n",
      "N foreground 12122, N  background 0,unable to generate class balanced samples.\n",
      "N foreground 17716, N  background 0,unable to generate class balanced samples.\n",
      "N foreground 10992, N  background 0,unable to generate class balanced samples.\n",
      "N foreground 19210, N  background 0,unable to generate class balanced samples.\n",
      "N foreground 17097, N  background 0,unable to generate class balanced samples.\n",
      "N foreground 13809, N  background 0,unable to generate class balanced samples.\n",
      "N foreground 14262, N  background 0,unable to generate class balanced samples.\n",
      "N foreground 16115, N  background 0,unable to generate class balanced samples.\n",
      "N foreground 14230, N  background 0,unable to generate class balanced samples.\n",
      "N foreground 15184, N  background 0,unable to generate class balanced samples.\n",
      "N foreground 14317, N  background 0,unable to generate class balanced samples.\n",
      "N foreground 16450, N  background 0,unable to generate class balanced samples.\n",
      "N foreground 16438, N  background 0,unable to generate class balanced samples.\n",
      "N foreground 13958, N  background 0,unable to generate class balanced samples.\n"
     ]
    },
    {
     "name": "stdout",
     "output_type": "stream",
     "text": [
      "1/13, train_loss: 0.1382\n",
      "2/13, train_loss: 0.1553\n",
      "3/13, train_loss: 0.1339\n",
      "4/13, train_loss: 0.1490\n",
      "5/13, train_loss: 0.1580\n",
      "6/13, train_loss: 0.1503\n",
      "7/13, train_loss: 0.1266\n",
      "8/13, train_loss: 0.1421\n",
      "9/13, train_loss: 0.1388\n",
      "10/13, train_loss: 0.1318\n",
      "11/13, train_loss: 0.1423\n",
      "12/13, train_loss: 0.1573\n",
      "13/13, train_loss: 0.1491\n",
      "epoch 83 average loss: 0.1441\n"
     ]
    },
    {
     "name": "stderr",
     "output_type": "stream",
     "text": [
      "N foreground 14351, N  background 0,unable to generate class balanced samples.\n",
      "N foreground 13981, N  background 0,unable to generate class balanced samples.\n",
      "N foreground 18264, N  background 0,unable to generate class balanced samples.\n",
      "N foreground 14149, N  background 0,unable to generate class balanced samples.\n",
      "N foreground 13080, N  background 0,unable to generate class balanced samples.\n",
      "N foreground 10539, N  background 0,unable to generate class balanced samples.\n",
      "N foreground 16021, N  background 0,unable to generate class balanced samples.\n",
      "N foreground 14458, N  background 0,unable to generate class balanced samples.\n",
      "N foreground 14199, N  background 0,unable to generate class balanced samples.\n"
     ]
    },
    {
     "name": "stdout",
     "output_type": "stream",
     "text": [
      "current epoch: 83 current mean dice: 0.8690\n",
      "best mean dice: 0.8765at epoch: 82\n",
      "----------\n",
      "epoch 84/150\n"
     ]
    },
    {
     "name": "stderr",
     "output_type": "stream",
     "text": [
      "N foreground 15838, N  background 0,unable to generate class balanced samples.\n",
      "N foreground 12122, N  background 0,unable to generate class balanced samples.\n",
      "N foreground 10533, N  background 0,unable to generate class balanced samples.\n",
      "N foreground 19210, N  background 0,unable to generate class balanced samples.\n",
      "N foreground 16115, N  background 0,unable to generate class balanced samples.\n",
      "N foreground 13064, N  background 0,unable to generate class balanced samples.\n",
      "N foreground 16682, N  background 0,unable to generate class balanced samples.\n",
      "N foreground 15909, N  background 0,unable to generate class balanced samples.\n",
      "N foreground 16450, N  background 0,unable to generate class balanced samples.\n",
      "N foreground 22593, N  background 0,unable to generate class balanced samples.\n",
      "N foreground 10474, N  background 0,unable to generate class balanced samples.\n",
      "N foreground 13809, N  background 0,unable to generate class balanced samples.\n",
      "N foreground 10992, N  background 0,unable to generate class balanced samples.\n",
      "N foreground 14317, N  background 0,unable to generate class balanced samples.\n",
      "N foreground 14230, N  background 0,unable to generate class balanced samples.\n",
      "N foreground 15619, N  background 0,unable to generate class balanced samples.\n",
      "N foreground 14262, N  background 0,unable to generate class balanced samples.\n",
      "N foreground 8935, N  background 0,unable to generate class balanced samples.\n",
      "N foreground 13958, N  background 0,unable to generate class balanced samples.\n",
      "N foreground 14809, N  background 0,unable to generate class balanced samples.\n",
      "N foreground 16438, N  background 0,unable to generate class balanced samples.\n",
      "N foreground 17716, N  background 0,unable to generate class balanced samples.\n",
      "N foreground 17097, N  background 0,unable to generate class balanced samples.\n",
      "N foreground 15184, N  background 0,unable to generate class balanced samples.\n",
      "N foreground 13138, N  background 0,unable to generate class balanced samples.\n",
      "N foreground 16388, N  background 0,unable to generate class balanced samples.\n"
     ]
    },
    {
     "name": "stdout",
     "output_type": "stream",
     "text": [
      "1/13, train_loss: 0.1420\n",
      "2/13, train_loss: 0.1395\n",
      "3/13, train_loss: 0.1558\n",
      "4/13, train_loss: 0.1578\n",
      "5/13, train_loss: 0.1449\n",
      "6/13, train_loss: 0.1351\n",
      "7/13, train_loss: 0.1522\n",
      "8/13, train_loss: 0.1418\n",
      "9/13, train_loss: 0.1460\n",
      "10/13, train_loss: 0.1251\n",
      "11/13, train_loss: 0.1501\n",
      "12/13, train_loss: 0.1592\n",
      "13/13, train_loss: 0.1262\n",
      "epoch 84 average loss: 0.1443\n"
     ]
    },
    {
     "name": "stderr",
     "output_type": "stream",
     "text": [
      "N foreground 18264, N  background 0,unable to generate class balanced samples.\n",
      "N foreground 14149, N  background 0,unable to generate class balanced samples.\n",
      "N foreground 10539, N  background 0,unable to generate class balanced samples.\n",
      "N foreground 13080, N  background 0,unable to generate class balanced samples.\n",
      "N foreground 13981, N  background 0,unable to generate class balanced samples.\n",
      "N foreground 14351, N  background 0,unable to generate class balanced samples.\n",
      "N foreground 16021, N  background 0,unable to generate class balanced samples.\n",
      "N foreground 14458, N  background 0,unable to generate class balanced samples.\n",
      "N foreground 14199, N  background 0,unable to generate class balanced samples.\n"
     ]
    },
    {
     "name": "stdout",
     "output_type": "stream",
     "text": [
      "current epoch: 84 current mean dice: 0.8695\n",
      "best mean dice: 0.8765at epoch: 82\n",
      "----------\n",
      "epoch 85/150\n"
     ]
    },
    {
     "name": "stderr",
     "output_type": "stream",
     "text": [
      "N foreground 13958, N  background 0,unable to generate class balanced samples.\n",
      "N foreground 16388, N  background 0,unable to generate class balanced samples.\n",
      "N foreground 16450, N  background 0,unable to generate class balanced samples.\n",
      "N foreground 13809, N  background 0,unable to generate class balanced samples.\n",
      "N foreground 14809, N  background 0,unable to generate class balanced samples.\n",
      "N foreground 10992, N  background 0,unable to generate class balanced samples.\n",
      "N foreground 14230, N  background 0,unable to generate class balanced samples.\n",
      "N foreground 19210, N  background 0,unable to generate class balanced samples.\n",
      "N foreground 16115, N  background 0,unable to generate class balanced samples.\n",
      "N foreground 13138, N  background 0,unable to generate class balanced samples.\n",
      "N foreground 15619, N  background 0,unable to generate class balanced samples.\n",
      "N foreground 14317, N  background 0,unable to generate class balanced samples.\n",
      "N foreground 15184, N  background 0,unable to generate class balanced samples.\n",
      "N foreground 10474, N  background 0,unable to generate class balanced samples.\n",
      "N foreground 17716, N  background 0,unable to generate class balanced samples.\n",
      "N foreground 16682, N  background 0,unable to generate class balanced samples.\n",
      "N foreground 14262, N  background 0,unable to generate class balanced samples.\n",
      "N foreground 15838, N  background 0,unable to generate class balanced samples.\n",
      "N foreground 17097, N  background 0,unable to generate class balanced samples.\n",
      "N foreground 12122, N  background 0,unable to generate class balanced samples.\n",
      "N foreground 10533, N  background 0,unable to generate class balanced samples.\n",
      "N foreground 16438, N  background 0,unable to generate class balanced samples.\n",
      "N foreground 13064, N  background 0,unable to generate class balanced samples.\n",
      "N foreground 22593, N  background 0,unable to generate class balanced samples.\n",
      "N foreground 15909, N  background 0,unable to generate class balanced samples.\n",
      "N foreground 8935, N  background 0,unable to generate class balanced samples.\n"
     ]
    },
    {
     "name": "stdout",
     "output_type": "stream",
     "text": [
      "1/13, train_loss: 0.1369\n",
      "2/13, train_loss: 0.1218\n",
      "3/13, train_loss: 0.1497\n",
      "4/13, train_loss: 0.1540\n",
      "5/13, train_loss: 0.1462\n",
      "6/13, train_loss: 0.1509\n",
      "7/13, train_loss: 0.1485\n",
      "8/13, train_loss: 0.1462\n",
      "9/13, train_loss: 0.1284\n",
      "10/13, train_loss: 0.1490\n",
      "11/13, train_loss: 0.1407\n",
      "12/13, train_loss: 0.1429\n",
      "13/13, train_loss: 0.1647\n",
      "epoch 85 average loss: 0.1446\n"
     ]
    },
    {
     "name": "stderr",
     "output_type": "stream",
     "text": [
      "N foreground 10539, N  background 0,unable to generate class balanced samples.\n",
      "N foreground 14149, N  background 0,unable to generate class balanced samples.\n",
      "N foreground 13080, N  background 0,unable to generate class balanced samples.\n",
      "N foreground 14351, N  background 0,unable to generate class balanced samples.\n",
      "N foreground 13981, N  background 0,unable to generate class balanced samples.\n",
      "N foreground 18264, N  background 0,unable to generate class balanced samples.\n",
      "N foreground 16021, N  background 0,unable to generate class balanced samples.\n",
      "N foreground 14458, N  background 0,unable to generate class balanced samples.\n",
      "N foreground 14199, N  background 0,unable to generate class balanced samples.\n"
     ]
    },
    {
     "name": "stdout",
     "output_type": "stream",
     "text": [
      "current epoch: 85 current mean dice: 0.8763\n",
      "best mean dice: 0.8765at epoch: 82\n",
      "----------\n",
      "epoch 86/150\n"
     ]
    },
    {
     "name": "stderr",
     "output_type": "stream",
     "text": [
      "N foreground 15619, N  background 0,unable to generate class balanced samples.\n",
      "N foreground 14809, N  background 0,unable to generate class balanced samples.\n",
      "N foreground 15909, N  background 0,unable to generate class balanced samples.\n",
      "N foreground 10474, N  background 0,unable to generate class balanced samples.\n",
      "N foreground 19210, N  background 0,unable to generate class balanced samples.\n",
      "N foreground 13138, N  background 0,unable to generate class balanced samples.\n",
      "N foreground 14230, N  background 0,unable to generate class balanced samples.\n",
      "N foreground 15184, N  background 0,unable to generate class balanced samples.\n",
      "N foreground 16115, N  background 0,unable to generate class balanced samples.\n",
      "N foreground 8935, N  background 0,unable to generate class balanced samples.\n",
      "N foreground 13958, N  background 0,unable to generate class balanced samples.\n",
      "N foreground 14317, N  background 0,unable to generate class balanced samples.\n",
      "N foreground 15838, N  background 0,unable to generate class balanced samples.\n",
      "N foreground 16682, N  background 0,unable to generate class balanced samples.\n",
      "N foreground 16438, N  background 0,unable to generate class balanced samples.\n",
      "N foreground 22593, N  background 0,unable to generate class balanced samples.\n",
      "N foreground 16388, N  background 0,unable to generate class balanced samples.\n",
      "N foreground 17716, N  background 0,unable to generate class balanced samples.\n",
      "N foreground 10533, N  background 0,unable to generate class balanced samples.\n",
      "N foreground 14262, N  background 0,unable to generate class balanced samples.\n",
      "N foreground 13809, N  background 0,unable to generate class balanced samples.\n",
      "N foreground 10992, N  background 0,unable to generate class balanced samples.\n",
      "N foreground 17097, N  background 0,unable to generate class balanced samples.\n",
      "N foreground 16450, N  background 0,unable to generate class balanced samples.\n",
      "N foreground 13064, N  background 0,unable to generate class balanced samples.\n",
      "N foreground 12122, N  background 0,unable to generate class balanced samples.\n"
     ]
    },
    {
     "name": "stdout",
     "output_type": "stream",
     "text": [
      "1/13, train_loss: 0.1647\n",
      "2/13, train_loss: 0.1482\n",
      "3/13, train_loss: 0.1429\n",
      "4/13, train_loss: 0.1578\n",
      "5/13, train_loss: 0.1493\n",
      "6/13, train_loss: 0.1452\n",
      "7/13, train_loss: 0.1578\n",
      "8/13, train_loss: 0.1394\n",
      "9/13, train_loss: 0.1267\n",
      "10/13, train_loss: 0.1320\n",
      "11/13, train_loss: 0.1389\n",
      "12/13, train_loss: 0.1502\n",
      "13/13, train_loss: 0.1420\n",
      "epoch 86 average loss: 0.1458\n"
     ]
    },
    {
     "name": "stderr",
     "output_type": "stream",
     "text": [
      "N foreground 13080, N  background 0,unable to generate class balanced samples.\n",
      "N foreground 14351, N  background 0,unable to generate class balanced samples.\n",
      "N foreground 10539, N  background 0,unable to generate class balanced samples.\n",
      "N foreground 16021, N  background 0,unable to generate class balanced samples.\n",
      "N foreground 13981, N  background 0,unable to generate class balanced samples.\n",
      "N foreground 18264, N  background 0,unable to generate class balanced samples.\n",
      "N foreground 14149, N  background 0,unable to generate class balanced samples.\n",
      "N foreground 14458, N  background 0,unable to generate class balanced samples.\n",
      "N foreground 14199, N  background 0,unable to generate class balanced samples.\n"
     ]
    },
    {
     "name": "stdout",
     "output_type": "stream",
     "text": [
      "saved new best metric model\n",
      "current epoch: 86 current mean dice: 0.8768\n",
      "best mean dice: 0.8768at epoch: 86\n",
      "----------\n",
      "epoch 87/150\n"
     ]
    },
    {
     "name": "stderr",
     "output_type": "stream",
     "text": [
      "N foreground 14230, N  background 0,unable to generate class balanced samples.\n",
      "N foreground 14809, N  background 0,unable to generate class balanced samples.\n",
      "N foreground 16438, N  background 0,unable to generate class balanced samples.\n",
      "N foreground 13138, N  background 0,unable to generate class balanced samples.\n",
      "N foreground 17097, N  background 0,unable to generate class balanced samples.\n",
      "N foreground 14317, N  background 0,unable to generate class balanced samples.\n",
      "N foreground 16450, N  background 0,unable to generate class balanced samples.\n",
      "N foreground 10992, N  background 0,unable to generate class balanced samples.\n",
      "N foreground 13958, N  background 0,unable to generate class balanced samples.\n",
      "N foreground 15838, N  background 0,unable to generate class balanced samples.\n",
      "N foreground 16115, N  background 0,unable to generate class balanced samples.\n",
      "N foreground 15619, N  background 0,unable to generate class balanced samples.\n",
      "N foreground 16682, N  background 0,unable to generate class balanced samples.\n",
      "N foreground 19210, N  background 0,unable to generate class balanced samples.\n",
      "N foreground 13809, N  background 0,unable to generate class balanced samples.\n",
      "N foreground 17716, N  background 0,unable to generate class balanced samples.\n",
      "N foreground 13064, N  background 0,unable to generate class balanced samples.\n",
      "N foreground 12122, N  background 0,unable to generate class balanced samples.\n",
      "N foreground 16388, N  background 0,unable to generate class balanced samples.\n",
      "N foreground 10533, N  background 0,unable to generate class balanced samples.\n",
      "N foreground 8935, N  background 0,unable to generate class balanced samples.\n",
      "N foreground 14262, N  background 0,unable to generate class balanced samples.\n",
      "N foreground 10474, N  background 0,unable to generate class balanced samples.\n",
      "N foreground 15909, N  background 0,unable to generate class balanced samples.\n",
      "N foreground 15184, N  background 0,unable to generate class balanced samples.\n",
      "N foreground 22593, N  background 0,unable to generate class balanced samples.\n"
     ]
    },
    {
     "name": "stdout",
     "output_type": "stream",
     "text": [
      "1/13, train_loss: 0.1452\n",
      "2/13, train_loss: 0.1403\n",
      "3/13, train_loss: 0.1461\n",
      "4/13, train_loss: 0.1386\n",
      "5/13, train_loss: 0.1517\n",
      "6/13, train_loss: 0.1313\n",
      "7/13, train_loss: 0.1375\n",
      "8/13, train_loss: 0.1471\n",
      "9/13, train_loss: 0.1445\n",
      "10/13, train_loss: 0.1438\n",
      "11/13, train_loss: 0.1294\n",
      "12/13, train_loss: 0.1552\n",
      "13/13, train_loss: 0.1519\n",
      "epoch 87 average loss: 0.1433\n"
     ]
    },
    {
     "name": "stderr",
     "output_type": "stream",
     "text": [
      "N foreground 13981, N  background 0,unable to generate class balanced samples.\n",
      "N foreground 14351, N  background 0,unable to generate class balanced samples.\n",
      "N foreground 14149, N  background 0,unable to generate class balanced samples.\n",
      "N foreground 13080, N  background 0,unable to generate class balanced samples.\n",
      "N foreground 18264, N  background 0,unable to generate class balanced samples.\n",
      "N foreground 16021, N  background 0,unable to generate class balanced samples.\n",
      "N foreground 10539, N  background 0,unable to generate class balanced samples.\n",
      "N foreground 14458, N  background 0,unable to generate class balanced samples.\n",
      "N foreground 14199, N  background 0,unable to generate class balanced samples.\n"
     ]
    },
    {
     "name": "stdout",
     "output_type": "stream",
     "text": [
      "current epoch: 87 current mean dice: 0.8749\n",
      "best mean dice: 0.8768at epoch: 86\n",
      "----------\n",
      "epoch 88/150\n"
     ]
    },
    {
     "name": "stderr",
     "output_type": "stream",
     "text": [
      "N foreground 16388, N  background 0,unable to generate class balanced samples.\n",
      "N foreground 12122, N  background 0,unable to generate class balanced samples.\n",
      "N foreground 15909, N  background 0,unable to generate class balanced samples.\n",
      "N foreground 19210, N  background 0,unable to generate class balanced samples.\n",
      "N foreground 16438, N  background 0,unable to generate class balanced samples.\n",
      "N foreground 8935, N  background 0,unable to generate class balanced samples.\n",
      "N foreground 15184, N  background 0,unable to generate class balanced samples.\n",
      "N foreground 10992, N  background 0,unable to generate class balanced samples.\n",
      "N foreground 14317, N  background 0,unable to generate class balanced samples.\n",
      "N foreground 16115, N  background 0,unable to generate class balanced samples.\n",
      "N foreground 15619, N  background 0,unable to generate class balanced samples.\n",
      "N foreground 17097, N  background 0,unable to generate class balanced samples.\n",
      "N foreground 15838, N  background 0,unable to generate class balanced samples.\n",
      "N foreground 16450, N  background 0,unable to generate class balanced samples.\n",
      "N foreground 13138, N  background 0,unable to generate class balanced samples.\n",
      "N foreground 22593, N  background 0,unable to generate class balanced samples.\n",
      "N foreground 14809, N  background 0,unable to generate class balanced samples.\n",
      "N foreground 17716, N  background 0,unable to generate class balanced samples.\n",
      "N foreground 10533, N  background 0,unable to generate class balanced samples.\n",
      "N foreground 13958, N  background 0,unable to generate class balanced samples.\n",
      "N foreground 10474, N  background 0,unable to generate class balanced samples.\n",
      "N foreground 13809, N  background 0,unable to generate class balanced samples.\n",
      "N foreground 13064, N  background 0,unable to generate class balanced samples.\n",
      "N foreground 14230, N  background 0,unable to generate class balanced samples.\n",
      "N foreground 16682, N  background 0,unable to generate class balanced samples.\n",
      "N foreground 14262, N  background 0,unable to generate class balanced samples.\n"
     ]
    },
    {
     "name": "stdout",
     "output_type": "stream",
     "text": [
      "1/13, train_loss: 0.1424\n",
      "2/13, train_loss: 0.1333\n",
      "3/13, train_loss: 0.1531\n",
      "4/13, train_loss: 0.1368\n",
      "5/13, train_loss: 0.1347\n",
      "6/13, train_loss: 0.1369\n",
      "7/13, train_loss: 0.1489\n",
      "8/13, train_loss: 0.1343\n",
      "9/13, train_loss: 0.1388\n",
      "10/13, train_loss: 0.1394\n",
      "11/13, train_loss: 0.1509\n",
      "12/13, train_loss: 0.1427\n",
      "13/13, train_loss: 0.1283\n",
      "epoch 88 average loss: 0.1400\n"
     ]
    },
    {
     "name": "stderr",
     "output_type": "stream",
     "text": [
      "N foreground 10539, N  background 0,unable to generate class balanced samples.\n",
      "N foreground 16021, N  background 0,unable to generate class balanced samples.\n",
      "N foreground 14351, N  background 0,unable to generate class balanced samples.\n",
      "N foreground 14149, N  background 0,unable to generate class balanced samples.\n",
      "N foreground 18264, N  background 0,unable to generate class balanced samples.\n",
      "N foreground 13981, N  background 0,unable to generate class balanced samples.\n",
      "N foreground 13080, N  background 0,unable to generate class balanced samples.\n",
      "N foreground 14458, N  background 0,unable to generate class balanced samples.\n",
      "N foreground 14199, N  background 0,unable to generate class balanced samples.\n"
     ]
    },
    {
     "name": "stdout",
     "output_type": "stream",
     "text": [
      "saved new best metric model\n",
      "current epoch: 88 current mean dice: 0.8770\n",
      "best mean dice: 0.8770at epoch: 88\n",
      "----------\n",
      "epoch 89/150\n"
     ]
    },
    {
     "name": "stderr",
     "output_type": "stream",
     "text": [
      "N foreground 8935, N  background 0,unable to generate class balanced samples.\n",
      "N foreground 13138, N  background 0,unable to generate class balanced samples.\n",
      "N foreground 13958, N  background 0,unable to generate class balanced samples.\n",
      "N foreground 14317, N  background 0,unable to generate class balanced samples.\n",
      "N foreground 16450, N  background 0,unable to generate class balanced samples.\n",
      "N foreground 10474, N  background 0,unable to generate class balanced samples.\n",
      "N foreground 15184, N  background 0,unable to generate class balanced samples.\n",
      "N foreground 10992, N  background 0,unable to generate class balanced samples.\n",
      "N foreground 22593, N  background 0,unable to generate class balanced samples.\n",
      "N foreground 15619, N  background 0,unable to generate class balanced samples.\n",
      "N foreground 14262, N  background 0,unable to generate class balanced samples.\n",
      "N foreground 12122, N  background 0,unable to generate class balanced samples.\n",
      "N foreground 14230, N  background 0,unable to generate class balanced samples.\n",
      "N foreground 16115, N  background 0,unable to generate class balanced samples.\n",
      "N foreground 16682, N  background 0,unable to generate class balanced samples.\n",
      "N foreground 17097, N  background 0,unable to generate class balanced samples.\n",
      "N foreground 17716, N  background 0,unable to generate class balanced samples.\n",
      "N foreground 13064, N  background 0,unable to generate class balanced samples.\n",
      "N foreground 16388, N  background 0,unable to generate class balanced samples.\n",
      "N foreground 13809, N  background 0,unable to generate class balanced samples.\n",
      "N foreground 10533, N  background 0,unable to generate class balanced samples.\n",
      "N foreground 19210, N  background 0,unable to generate class balanced samples.\n",
      "N foreground 14809, N  background 0,unable to generate class balanced samples.\n",
      "N foreground 16438, N  background 0,unable to generate class balanced samples.\n",
      "N foreground 15909, N  background 0,unable to generate class balanced samples.\n",
      "N foreground 15838, N  background 0,unable to generate class balanced samples.\n"
     ]
    },
    {
     "name": "stdout",
     "output_type": "stream",
     "text": [
      "1/13, train_loss: 0.1352\n",
      "2/13, train_loss: 0.1348\n",
      "3/13, train_loss: 0.1384\n",
      "4/13, train_loss: 0.1435\n",
      "5/13, train_loss: 0.1570\n",
      "6/13, train_loss: 0.1438\n",
      "7/13, train_loss: 0.1362\n",
      "8/13, train_loss: 0.1534\n",
      "9/13, train_loss: 0.1449\n",
      "10/13, train_loss: 0.1402\n",
      "11/13, train_loss: 0.1301\n",
      "12/13, train_loss: 0.1271\n",
      "13/13, train_loss: 0.1422\n",
      "epoch 89 average loss: 0.1405\n"
     ]
    },
    {
     "name": "stderr",
     "output_type": "stream",
     "text": [
      "N foreground 13981, N  background 0,unable to generate class balanced samples.\n",
      "N foreground 13080, N  background 0,unable to generate class balanced samples.\n",
      "N foreground 16021, N  background 0,unable to generate class balanced samples.\n",
      "N foreground 10539, N  background 0,unable to generate class balanced samples.\n",
      "N foreground 14351, N  background 0,unable to generate class balanced samples.\n",
      "N foreground 14149, N  background 0,unable to generate class balanced samples.\n",
      "N foreground 18264, N  background 0,unable to generate class balanced samples.\n",
      "N foreground 14458, N  background 0,unable to generate class balanced samples.\n",
      "N foreground 14199, N  background 0,unable to generate class balanced samples.\n"
     ]
    },
    {
     "name": "stdout",
     "output_type": "stream",
     "text": [
      "current epoch: 89 current mean dice: 0.8737\n",
      "best mean dice: 0.8770at epoch: 88\n",
      "----------\n",
      "epoch 90/150\n"
     ]
    },
    {
     "name": "stderr",
     "output_type": "stream",
     "text": [
      "N foreground 10992, N  background 0,unable to generate class balanced samples.\n",
      "N foreground 22593, N  background 0,unable to generate class balanced samples.\n",
      "N foreground 16450, N  background 0,unable to generate class balanced samples.\n",
      "N foreground 16388, N  background 0,unable to generate class balanced samples.\n",
      "N foreground 15619, N  background 0,unable to generate class balanced samples.\n",
      "N foreground 17716, N  background 0,unable to generate class balanced samples.\n",
      "N foreground 14230, N  background 0,unable to generate class balanced samples.\n",
      "N foreground 19210, N  background 0,unable to generate class balanced samples.\n",
      "N foreground 15838, N  background 0,unable to generate class balanced samples.\n",
      "N foreground 14809, N  background 0,unable to generate class balanced samples.\n",
      "N foreground 14317, N  background 0,unable to generate class balanced samples.\n",
      "N foreground 13064, N  background 0,unable to generate class balanced samples.\n",
      "N foreground 12122, N  background 0,unable to generate class balanced samples.\n",
      "N foreground 16682, N  background 0,unable to generate class balanced samples.\n",
      "N foreground 16438, N  background 0,unable to generate class balanced samples.\n",
      "N foreground 15184, N  background 0,unable to generate class balanced samples.\n",
      "N foreground 14262, N  background 0,unable to generate class balanced samples.\n",
      "N foreground 16115, N  background 0,unable to generate class balanced samples.\n",
      "N foreground 8935, N  background 0,unable to generate class balanced samples.\n",
      "N foreground 10474, N  background 0,unable to generate class balanced samples.\n",
      "N foreground 15909, N  background 0,unable to generate class balanced samples.\n",
      "N foreground 10533, N  background 0,unable to generate class balanced samples.\n",
      "N foreground 13958, N  background 0,unable to generate class balanced samples.\n",
      "N foreground 17097, N  background 0,unable to generate class balanced samples.\n",
      "N foreground 13809, N  background 0,unable to generate class balanced samples.\n",
      "N foreground 13138, N  background 0,unable to generate class balanced samples.\n"
     ]
    },
    {
     "name": "stdout",
     "output_type": "stream",
     "text": [
      "1/13, train_loss: 0.1472\n",
      "2/13, train_loss: 0.1348\n",
      "3/13, train_loss: 0.1347\n",
      "4/13, train_loss: 0.1270\n",
      "5/13, train_loss: 0.1367\n",
      "6/13, train_loss: 0.1446\n",
      "7/13, train_loss: 0.1293\n",
      "8/13, train_loss: 0.1418\n",
      "9/13, train_loss: 0.1551\n",
      "10/13, train_loss: 0.1646\n",
      "11/13, train_loss: 0.1500\n",
      "12/13, train_loss: 0.1336\n",
      "13/13, train_loss: 0.1285\n",
      "epoch 90 average loss: 0.1406\n"
     ]
    },
    {
     "name": "stderr",
     "output_type": "stream",
     "text": [
      "N foreground 13981, N  background 0,unable to generate class balanced samples.\n",
      "N foreground 16021, N  background 0,unable to generate class balanced samples.\n",
      "N foreground 18264, N  background 0,unable to generate class balanced samples.\n",
      "N foreground 14149, N  background 0,unable to generate class balanced samples.\n",
      "N foreground 14351, N  background 0,unable to generate class balanced samples.\n",
      "N foreground 10539, N  background 0,unable to generate class balanced samples.\n",
      "N foreground 13080, N  background 0,unable to generate class balanced samples.\n",
      "N foreground 14458, N  background 0,unable to generate class balanced samples.\n",
      "N foreground 14199, N  background 0,unable to generate class balanced samples.\n"
     ]
    },
    {
     "name": "stdout",
     "output_type": "stream",
     "text": [
      "current epoch: 90 current mean dice: 0.8744\n",
      "best mean dice: 0.8770at epoch: 88\n",
      "----------\n",
      "epoch 91/150\n"
     ]
    },
    {
     "name": "stderr",
     "output_type": "stream",
     "text": [
      "N foreground 13138, N  background 0,unable to generate class balanced samples.\n",
      "N foreground 10992, N  background 0,unable to generate class balanced samples.\n",
      "N foreground 10533, N  background 0,unable to generate class balanced samples.\n",
      "N foreground 16388, N  background 0,unable to generate class balanced samples.\n",
      "N foreground 16450, N  background 0,unable to generate class balanced samples.\n",
      "N foreground 14809, N  background 0,unable to generate class balanced samples.\n",
      "N foreground 16682, N  background 0,unable to generate class balanced samples.\n",
      "N foreground 13064, N  background 0,unable to generate class balanced samples.\n",
      "N foreground 13958, N  background 0,unable to generate class balanced samples.\n",
      "N foreground 12122, N  background 0,unable to generate class balanced samples.\n",
      "N foreground 15619, N  background 0,unable to generate class balanced samples.\n",
      "N foreground 16115, N  background 0,unable to generate class balanced samples.\n",
      "N foreground 10474, N  background 0,unable to generate class balanced samples.\n",
      "N foreground 17716, N  background 0,unable to generate class balanced samples.\n",
      "N foreground 15184, N  background 0,unable to generate class balanced samples.\n",
      "N foreground 8935, N  background 0,unable to generate class balanced samples.\n",
      "N foreground 15909, N  background 0,unable to generate class balanced samples.\n",
      "N foreground 16438, N  background 0,unable to generate class balanced samples.\n",
      "N foreground 19210, N  background 0,unable to generate class balanced samples.\n",
      "N foreground 14262, N  background 0,unable to generate class balanced samples.\n",
      "N foreground 17097, N  background 0,unable to generate class balanced samples.\n",
      "N foreground 15838, N  background 0,unable to generate class balanced samples.\n",
      "N foreground 22593, N  background 0,unable to generate class balanced samples.\n",
      "N foreground 13809, N  background 0,unable to generate class balanced samples.\n",
      "N foreground 14317, N  background 0,unable to generate class balanced samples.\n",
      "N foreground 14230, N  background 0,unable to generate class balanced samples.\n"
     ]
    },
    {
     "name": "stdout",
     "output_type": "stream",
     "text": [
      "1/13, train_loss: 0.1419\n",
      "2/13, train_loss: 0.1448\n",
      "3/13, train_loss: 0.1440\n",
      "4/13, train_loss: 0.1450\n",
      "5/13, train_loss: 0.1474\n",
      "6/13, train_loss: 0.1355\n",
      "7/13, train_loss: 0.1263\n",
      "8/13, train_loss: 0.1593\n",
      "9/13, train_loss: 0.1427\n",
      "10/13, train_loss: 0.1233\n",
      "11/13, train_loss: 0.1336\n",
      "12/13, train_loss: 0.1370\n",
      "13/13, train_loss: 0.1354\n",
      "epoch 91 average loss: 0.1397\n"
     ]
    },
    {
     "name": "stderr",
     "output_type": "stream",
     "text": [
      "N foreground 13981, N  background 0,unable to generate class balanced samples.\n",
      "N foreground 14351, N  background 0,unable to generate class balanced samples.\n",
      "N foreground 14149, N  background 0,unable to generate class balanced samples.\n",
      "N foreground 16021, N  background 0,unable to generate class balanced samples.\n",
      "N foreground 18264, N  background 0,unable to generate class balanced samples.\n",
      "N foreground 13080, N  background 0,unable to generate class balanced samples.\n",
      "N foreground 10539, N  background 0,unable to generate class balanced samples.\n",
      "N foreground 14458, N  background 0,unable to generate class balanced samples.\n",
      "N foreground 14199, N  background 0,unable to generate class balanced samples.\n"
     ]
    },
    {
     "name": "stdout",
     "output_type": "stream",
     "text": [
      "current epoch: 91 current mean dice: 0.8734\n",
      "best mean dice: 0.8770at epoch: 88\n",
      "----------\n",
      "epoch 92/150\n"
     ]
    },
    {
     "name": "stderr",
     "output_type": "stream",
     "text": [
      "N foreground 19210, N  background 0,unable to generate class balanced samples.\n",
      "N foreground 17097, N  background 0,unable to generate class balanced samples.\n",
      "N foreground 16682, N  background 0,unable to generate class balanced samples.\n",
      "N foreground 13809, N  background 0,unable to generate class balanced samples.\n",
      "N foreground 16388, N  background 0,unable to generate class balanced samples.\n",
      "N foreground 15838, N  background 0,unable to generate class balanced samples.\n",
      "N foreground 16438, N  background 0,unable to generate class balanced samples.\n",
      "N foreground 15619, N  background 0,unable to generate class balanced samples.\n",
      "N foreground 14230, N  background 0,unable to generate class balanced samples.\n",
      "N foreground 14262, N  background 0,unable to generate class balanced samples.\n",
      "N foreground 13958, N  background 0,unable to generate class balanced samples.\n",
      "N foreground 14317, N  background 0,unable to generate class balanced samples.\n",
      "N foreground 13138, N  background 0,unable to generate class balanced samples.\n",
      "N foreground 10533, N  background 0,unable to generate class balanced samples.\n",
      "N foreground 14809, N  background 0,unable to generate class balanced samples.\n",
      "N foreground 12122, N  background 0,unable to generate class balanced samples.\n",
      "N foreground 15909, N  background 0,unable to generate class balanced samples.\n",
      "N foreground 8935, N  background 0,unable to generate class balanced samples.\n",
      "N foreground 15184, N  background 0,unable to generate class balanced samples.\n",
      "N foreground 16115, N  background 0,unable to generate class balanced samples.\n",
      "N foreground 13064, N  background 0,unable to generate class balanced samples.\n",
      "N foreground 22593, N  background 0,unable to generate class balanced samples.\n",
      "N foreground 17716, N  background 0,unable to generate class balanced samples.\n",
      "N foreground 10992, N  background 0,unable to generate class balanced samples.\n",
      "N foreground 10474, N  background 0,unable to generate class balanced samples.\n",
      "N foreground 16450, N  background 0,unable to generate class balanced samples.\n"
     ]
    },
    {
     "name": "stdout",
     "output_type": "stream",
     "text": [
      "1/13, train_loss: 0.1465\n",
      "2/13, train_loss: 0.1421\n",
      "3/13, train_loss: 0.1436\n",
      "4/13, train_loss: 0.1362\n",
      "5/13, train_loss: 0.1306\n",
      "6/13, train_loss: 0.1253\n",
      "7/13, train_loss: 0.1510\n",
      "8/13, train_loss: 0.1335\n",
      "9/13, train_loss: 0.1620\n",
      "10/13, train_loss: 0.1384\n",
      "11/13, train_loss: 0.1385\n",
      "12/13, train_loss: 0.1300\n",
      "13/13, train_loss: 0.1372\n",
      "epoch 92 average loss: 0.1396\n"
     ]
    },
    {
     "name": "stderr",
     "output_type": "stream",
     "text": [
      "N foreground 13981, N  background 0,unable to generate class balanced samples.\n",
      "N foreground 18264, N  background 0,unable to generate class balanced samples.\n",
      "N foreground 16021, N  background 0,unable to generate class balanced samples.\n",
      "N foreground 14351, N  background 0,unable to generate class balanced samples.\n",
      "N foreground 10539, N  background 0,unable to generate class balanced samples.\n",
      "N foreground 13080, N  background 0,unable to generate class balanced samples.\n",
      "N foreground 14149, N  background 0,unable to generate class balanced samples.\n",
      "N foreground 14458, N  background 0,unable to generate class balanced samples.\n",
      "N foreground 14199, N  background 0,unable to generate class balanced samples.\n"
     ]
    },
    {
     "name": "stdout",
     "output_type": "stream",
     "text": [
      "saved new best metric model\n",
      "current epoch: 92 current mean dice: 0.8786\n",
      "best mean dice: 0.8786at epoch: 92\n",
      "----------\n",
      "epoch 93/150\n"
     ]
    },
    {
     "name": "stderr",
     "output_type": "stream",
     "text": [
      "N foreground 16682, N  background 0,unable to generate class balanced samples.\n",
      "N foreground 15909, N  background 0,unable to generate class balanced samples.\n",
      "N foreground 15619, N  background 0,unable to generate class balanced samples.\n",
      "N foreground 14317, N  background 0,unable to generate class balanced samples.\n",
      "N foreground 13809, N  background 0,unable to generate class balanced samples.\n",
      "N foreground 14262, N  background 0,unable to generate class balanced samples.\n",
      "N foreground 14230, N  background 0,unable to generate class balanced samples.\n",
      "N foreground 8935, N  background 0,unable to generate class balanced samples.\n",
      "N foreground 19210, N  background 0,unable to generate class balanced samples.\n",
      "N foreground 15838, N  background 0,unable to generate class balanced samples.\n",
      "N foreground 16115, N  background 0,unable to generate class balanced samples.\n",
      "N foreground 10992, N  background 0,unable to generate class balanced samples.\n",
      "N foreground 16388, N  background 0,unable to generate class balanced samples.\n",
      "N foreground 12122, N  background 0,unable to generate class balanced samples.\n",
      "N foreground 17097, N  background 0,unable to generate class balanced samples.\n",
      "N foreground 14809, N  background 0,unable to generate class balanced samples.\n",
      "N foreground 16450, N  background 0,unable to generate class balanced samples.\n",
      "N foreground 10474, N  background 0,unable to generate class balanced samples.\n",
      "N foreground 17716, N  background 0,unable to generate class balanced samples.\n",
      "N foreground 13064, N  background 0,unable to generate class balanced samples.\n",
      "N foreground 15184, N  background 0,unable to generate class balanced samples.\n",
      "N foreground 13138, N  background 0,unable to generate class balanced samples.\n",
      "N foreground 13958, N  background 0,unable to generate class balanced samples.\n",
      "N foreground 10533, N  background 0,unable to generate class balanced samples.\n",
      "N foreground 22593, N  background 0,unable to generate class balanced samples.\n",
      "N foreground 16438, N  background 0,unable to generate class balanced samples.\n"
     ]
    },
    {
     "name": "stdout",
     "output_type": "stream",
     "text": [
      "1/13, train_loss: 0.1309\n",
      "2/13, train_loss: 0.1248\n",
      "3/13, train_loss: 0.1410\n",
      "4/13, train_loss: 0.1300\n",
      "5/13, train_loss: 0.1451\n",
      "6/13, train_loss: 0.1337\n",
      "7/13, train_loss: 0.1365\n",
      "8/13, train_loss: 0.1546\n",
      "9/13, train_loss: 0.1385\n",
      "10/13, train_loss: 0.1503\n",
      "11/13, train_loss: 0.1440\n",
      "12/13, train_loss: 0.1260\n",
      "13/13, train_loss: 0.1334\n",
      "epoch 93 average loss: 0.1376\n"
     ]
    },
    {
     "name": "stderr",
     "output_type": "stream",
     "text": [
      "N foreground 18264, N  background 0,unable to generate class balanced samples.\n",
      "N foreground 14351, N  background 0,unable to generate class balanced samples.\n",
      "N foreground 13080, N  background 0,unable to generate class balanced samples.\n",
      "N foreground 13981, N  background 0,unable to generate class balanced samples.\n",
      "N foreground 10539, N  background 0,unable to generate class balanced samples.\n",
      "N foreground 16021, N  background 0,unable to generate class balanced samples.\n",
      "N foreground 14149, N  background 0,unable to generate class balanced samples.\n",
      "N foreground 14458, N  background 0,unable to generate class balanced samples.\n",
      "N foreground 14199, N  background 0,unable to generate class balanced samples.\n"
     ]
    },
    {
     "name": "stdout",
     "output_type": "stream",
     "text": [
      "saved new best metric model\n",
      "current epoch: 93 current mean dice: 0.8819\n",
      "best mean dice: 0.8819at epoch: 93\n",
      "----------\n",
      "epoch 94/150\n"
     ]
    },
    {
     "name": "stderr",
     "output_type": "stream",
     "text": [
      "N foreground 10474, N  background 0,unable to generate class balanced samples.\n",
      "N foreground 8935, N  background 0,unable to generate class balanced samples.\n",
      "N foreground 15909, N  background 0,unable to generate class balanced samples.\n",
      "N foreground 15184, N  background 0,unable to generate class balanced samples.\n",
      "N foreground 19210, N  background 0,unable to generate class balanced samples.\n",
      "N foreground 16450, N  background 0,unable to generate class balanced samples.\n",
      "N foreground 10533, N  background 0,unable to generate class balanced samples.\n",
      "N foreground 14317, N  background 0,unable to generate class balanced samples.\n",
      "N foreground 15838, N  background 0,unable to generate class balanced samples.\n",
      "N foreground 13064, N  background 0,unable to generate class balanced samples.\n",
      "N foreground 14809, N  background 0,unable to generate class balanced samples.\n",
      "N foreground 17716, N  background 0,unable to generate class balanced samples.\n",
      "N foreground 12122, N  background 0,unable to generate class balanced samples.\n",
      "N foreground 10992, N  background 0,unable to generate class balanced samples.\n",
      "N foreground 15619, N  background 0,unable to generate class balanced samples.\n",
      "N foreground 16115, N  background 0,unable to generate class balanced samples.\n",
      "N foreground 16388, N  background 0,unable to generate class balanced samples.\n",
      "N foreground 13138, N  background 0,unable to generate class balanced samples.\n",
      "N foreground 13958, N  background 0,unable to generate class balanced samples.\n",
      "N foreground 16438, N  background 0,unable to generate class balanced samples.\n",
      "N foreground 13809, N  background 0,unable to generate class balanced samples.\n",
      "N foreground 22593, N  background 0,unable to generate class balanced samples.\n",
      "N foreground 16682, N  background 0,unable to generate class balanced samples.\n",
      "N foreground 14262, N  background 0,unable to generate class balanced samples.\n",
      "N foreground 14230, N  background 0,unable to generate class balanced samples.\n",
      "N foreground 17097, N  background 0,unable to generate class balanced samples.\n"
     ]
    },
    {
     "name": "stdout",
     "output_type": "stream",
     "text": [
      "1/13, train_loss: 0.1547\n",
      "2/13, train_loss: 0.1406\n",
      "3/13, train_loss: 0.1381\n",
      "4/13, train_loss: 0.1324\n",
      "5/13, train_loss: 0.1517\n",
      "6/13, train_loss: 0.1366\n",
      "7/13, train_loss: 0.1273\n",
      "8/13, train_loss: 0.1502\n",
      "9/13, train_loss: 0.1348\n",
      "10/13, train_loss: 0.1430\n",
      "11/13, train_loss: 0.1340\n",
      "12/13, train_loss: 0.1290\n",
      "13/13, train_loss: 0.1338\n",
      "epoch 94 average loss: 0.1389\n"
     ]
    },
    {
     "name": "stderr",
     "output_type": "stream",
     "text": [
      "N foreground 14351, N  background 0,unable to generate class balanced samples.\n",
      "N foreground 13981, N  background 0,unable to generate class balanced samples.\n",
      "N foreground 18264, N  background 0,unable to generate class balanced samples.\n",
      "N foreground 13080, N  background 0,unable to generate class balanced samples.\n",
      "N foreground 16021, N  background 0,unable to generate class balanced samples.\n",
      "N foreground 10539, N  background 0,unable to generate class balanced samples.\n",
      "N foreground 14149, N  background 0,unable to generate class balanced samples.\n",
      "N foreground 14458, N  background 0,unable to generate class balanced samples.\n",
      "N foreground 14199, N  background 0,unable to generate class balanced samples.\n"
     ]
    },
    {
     "name": "stdout",
     "output_type": "stream",
     "text": [
      "current epoch: 94 current mean dice: 0.8811\n",
      "best mean dice: 0.8819at epoch: 93\n",
      "----------\n",
      "epoch 95/150\n"
     ]
    },
    {
     "name": "stderr",
     "output_type": "stream",
     "text": [
      "N foreground 15184, N  background 0,unable to generate class balanced samples.\n",
      "N foreground 13138, N  background 0,unable to generate class balanced samples.\n",
      "N foreground 22593, N  background 0,unable to generate class balanced samples.\n",
      "N foreground 16438, N  background 0,unable to generate class balanced samples.\n",
      "N foreground 14262, N  background 0,unable to generate class balanced samples.\n",
      "N foreground 16115, N  background 0,unable to generate class balanced samples.\n",
      "N foreground 17716, N  background 0,unable to generate class balanced samples.\n",
      "N foreground 10992, N  background 0,unable to generate class balanced samples.\n",
      "N foreground 12122, N  background 0,unable to generate class balanced samples.\n",
      "N foreground 13809, N  background 0,unable to generate class balanced samples.\n",
      "N foreground 13064, N  background 0,unable to generate class balanced samples.\n",
      "N foreground 14317, N  background 0,unable to generate class balanced samples.\n",
      "N foreground 16450, N  background 0,unable to generate class balanced samples.\n",
      "N foreground 14809, N  background 0,unable to generate class balanced samples.\n",
      "N foreground 10474, N  background 0,unable to generate class balanced samples.\n",
      "N foreground 16388, N  background 0,unable to generate class balanced samples.\n",
      "N foreground 17097, N  background 0,unable to generate class balanced samples.\n",
      "N foreground 13958, N  background 0,unable to generate class balanced samples.\n",
      "N foreground 15619, N  background 0,unable to generate class balanced samples.\n",
      "N foreground 10533, N  background 0,unable to generate class balanced samples.\n",
      "N foreground 8935, N  background 0,unable to generate class balanced samples.\n",
      "N foreground 15909, N  background 0,unable to generate class balanced samples.\n",
      "N foreground 16682, N  background 0,unable to generate class balanced samples.\n",
      "N foreground 15838, N  background 0,unable to generate class balanced samples.\n",
      "N foreground 19210, N  background 0,unable to generate class balanced samples.\n",
      "N foreground 14230, N  background 0,unable to generate class balanced samples.\n"
     ]
    },
    {
     "name": "stdout",
     "output_type": "stream",
     "text": [
      "1/13, train_loss: 0.1252\n",
      "2/13, train_loss: 0.1409\n",
      "3/13, train_loss: 0.1462\n",
      "4/13, train_loss: 0.1295\n",
      "5/13, train_loss: 0.1286\n",
      "6/13, train_loss: 0.1358\n",
      "7/13, train_loss: 0.1348\n",
      "8/13, train_loss: 0.1399\n",
      "9/13, train_loss: 0.1470\n",
      "10/13, train_loss: 0.1423\n",
      "11/13, train_loss: 0.1471\n",
      "12/13, train_loss: 0.1342\n",
      "13/13, train_loss: 0.1328\n",
      "epoch 95 average loss: 0.1372\n"
     ]
    },
    {
     "name": "stderr",
     "output_type": "stream",
     "text": [
      "N foreground 13080, N  background 0,unable to generate class balanced samples.\n",
      "N foreground 14149, N  background 0,unable to generate class balanced samples.\n",
      "N foreground 13981, N  background 0,unable to generate class balanced samples.\n",
      "N foreground 14351, N  background 0,unable to generate class balanced samples.\n",
      "N foreground 10539, N  background 0,unable to generate class balanced samples.\n",
      "N foreground 18264, N  background 0,unable to generate class balanced samples.\n",
      "N foreground 16021, N  background 0,unable to generate class balanced samples.\n",
      "N foreground 14458, N  background 0,unable to generate class balanced samples.\n",
      "N foreground 14199, N  background 0,unable to generate class balanced samples.\n"
     ]
    },
    {
     "name": "stdout",
     "output_type": "stream",
     "text": [
      "current epoch: 95 current mean dice: 0.8750\n",
      "best mean dice: 0.8819at epoch: 93\n",
      "----------\n",
      "epoch 96/150\n"
     ]
    },
    {
     "name": "stderr",
     "output_type": "stream",
     "text": [
      "N foreground 19210, N  background 0,unable to generate class balanced samples.\n",
      "N foreground 16682, N  background 0,unable to generate class balanced samples.\n",
      "N foreground 17097, N  background 0,unable to generate class balanced samples.\n",
      "N foreground 16438, N  background 0,unable to generate class balanced samples.\n",
      "N foreground 8935, N  background 0,unable to generate class balanced samples.\n",
      "N foreground 10533, N  background 0,unable to generate class balanced samples.\n",
      "N foreground 22593, N  background 0,unable to generate class balanced samples.\n",
      "N foreground 15184, N  background 0,unable to generate class balanced samples.\n",
      "N foreground 13809, N  background 0,unable to generate class balanced samples.\n",
      "N foreground 10992, N  background 0,unable to generate class balanced samples.\n",
      "N foreground 15909, N  background 0,unable to generate class balanced samples.\n",
      "N foreground 10474, N  background 0,unable to generate class balanced samples.\n",
      "N foreground 13064, N  background 0,unable to generate class balanced samples.\n",
      "N foreground 12122, N  background 0,unable to generate class balanced samples.\n",
      "N foreground 13138, N  background 0,unable to generate class balanced samples.\n",
      "N foreground 13958, N  background 0,unable to generate class balanced samples.\n",
      "N foreground 15619, N  background 0,unable to generate class balanced samples.\n",
      "N foreground 14317, N  background 0,unable to generate class balanced samples.\n",
      "N foreground 15838, N  background 0,unable to generate class balanced samples.\n",
      "N foreground 14809, N  background 0,unable to generate class balanced samples.\n",
      "N foreground 16388, N  background 0,unable to generate class balanced samples.\n",
      "N foreground 14262, N  background 0,unable to generate class balanced samples.\n",
      "N foreground 16450, N  background 0,unable to generate class balanced samples.\n",
      "N foreground 17716, N  background 0,unable to generate class balanced samples.\n",
      "N foreground 14230, N  background 0,unable to generate class balanced samples.\n",
      "N foreground 16115, N  background 0,unable to generate class balanced samples.\n"
     ]
    },
    {
     "name": "stdout",
     "output_type": "stream",
     "text": [
      "1/13, train_loss: 0.1319\n",
      "2/13, train_loss: 0.1338\n",
      "3/13, train_loss: 0.1286\n",
      "4/13, train_loss: 0.1474\n",
      "5/13, train_loss: 0.1344\n",
      "6/13, train_loss: 0.1487\n",
      "7/13, train_loss: 0.1397\n",
      "8/13, train_loss: 0.1478\n",
      "9/13, train_loss: 0.1466\n",
      "10/13, train_loss: 0.1242\n",
      "11/13, train_loss: 0.1508\n",
      "12/13, train_loss: 0.1428\n",
      "13/13, train_loss: 0.1196\n",
      "epoch 96 average loss: 0.1382\n"
     ]
    },
    {
     "name": "stderr",
     "output_type": "stream",
     "text": [
      "N foreground 18264, N  background 0,unable to generate class balanced samples.\n",
      "N foreground 13080, N  background 0,unable to generate class balanced samples.\n",
      "N foreground 14149, N  background 0,unable to generate class balanced samples.\n",
      "N foreground 16021, N  background 0,unable to generate class balanced samples.\n",
      "N foreground 13981, N  background 0,unable to generate class balanced samples.\n",
      "N foreground 10539, N  background 0,unable to generate class balanced samples.\n",
      "N foreground 14351, N  background 0,unable to generate class balanced samples.\n",
      "N foreground 14458, N  background 0,unable to generate class balanced samples.\n",
      "N foreground 14199, N  background 0,unable to generate class balanced samples.\n"
     ]
    },
    {
     "name": "stdout",
     "output_type": "stream",
     "text": [
      "current epoch: 96 current mean dice: 0.8781\n",
      "best mean dice: 0.8819at epoch: 93\n",
      "----------\n",
      "epoch 97/150\n"
     ]
    },
    {
     "name": "stderr",
     "output_type": "stream",
     "text": [
      "N foreground 14230, N  background 0,unable to generate class balanced samples.\n",
      "N foreground 16450, N  background 0,unable to generate class balanced samples.\n",
      "N foreground 15184, N  background 0,unable to generate class balanced samples.\n",
      "N foreground 10992, N  background 0,unable to generate class balanced samples.\n",
      "N foreground 16388, N  background 0,unable to generate class balanced samples.\n",
      "N foreground 16438, N  background 0,unable to generate class balanced samples.\n",
      "N foreground 14262, N  background 0,unable to generate class balanced samples.\n",
      "N foreground 13958, N  background 0,unable to generate class balanced samples.\n",
      "N foreground 15909, N  background 0,unable to generate class balanced samples.\n",
      "N foreground 13138, N  background 0,unable to generate class balanced samples.\n",
      "N foreground 14809, N  background 0,unable to generate class balanced samples.\n",
      "N foreground 16115, N  background 0,unable to generate class balanced samples.\n",
      "N foreground 8935, N  background 0,unable to generate class balanced samples.\n",
      "N foreground 19210, N  background 0,unable to generate class balanced samples.\n",
      "N foreground 17097, N  background 0,unable to generate class balanced samples.\n",
      "N foreground 13809, N  background 0,unable to generate class balanced samples.\n",
      "N foreground 17716, N  background 0,unable to generate class balanced samples.\n",
      "N foreground 15619, N  background 0,unable to generate class balanced samples.\n",
      "N foreground 12122, N  background 0,unable to generate class balanced samples.\n",
      "N foreground 22593, N  background 0,unable to generate class balanced samples.\n",
      "N foreground 16682, N  background 0,unable to generate class balanced samples.\n",
      "N foreground 14317, N  background 0,unable to generate class balanced samples.\n",
      "N foreground 10533, N  background 0,unable to generate class balanced samples.\n",
      "N foreground 10474, N  background 0,unable to generate class balanced samples.\n",
      "N foreground 15838, N  background 0,unable to generate class balanced samples.\n",
      "N foreground 13064, N  background 0,unable to generate class balanced samples.\n"
     ]
    },
    {
     "name": "stdout",
     "output_type": "stream",
     "text": [
      "1/13, train_loss: 0.1414\n",
      "2/13, train_loss: 0.1427\n",
      "3/13, train_loss: 0.1348\n",
      "4/13, train_loss: 0.1373\n",
      "5/13, train_loss: 0.1343\n",
      "6/13, train_loss: 0.1379\n",
      "7/13, train_loss: 0.1361\n",
      "8/13, train_loss: 0.1348\n",
      "9/13, train_loss: 0.1374\n",
      "10/13, train_loss: 0.1403\n",
      "11/13, train_loss: 0.1428\n",
      "12/13, train_loss: 0.1346\n",
      "13/13, train_loss: 0.1392\n",
      "epoch 97 average loss: 0.1380\n"
     ]
    },
    {
     "name": "stderr",
     "output_type": "stream",
     "text": [
      "N foreground 14149, N  background 0,unable to generate class balanced samples.\n",
      "N foreground 13981, N  background 0,unable to generate class balanced samples.\n",
      "N foreground 10539, N  background 0,unable to generate class balanced samples.\n",
      "N foreground 16021, N  background 0,unable to generate class balanced samples.\n",
      "N foreground 13080, N  background 0,unable to generate class balanced samples.\n",
      "N foreground 18264, N  background 0,unable to generate class balanced samples.\n",
      "N foreground 14351, N  background 0,unable to generate class balanced samples.\n",
      "N foreground 14458, N  background 0,unable to generate class balanced samples.\n",
      "N foreground 14199, N  background 0,unable to generate class balanced samples.\n"
     ]
    },
    {
     "name": "stdout",
     "output_type": "stream",
     "text": [
      "saved new best metric model\n",
      "current epoch: 97 current mean dice: 0.8858\n",
      "best mean dice: 0.8858at epoch: 97\n",
      "----------\n",
      "epoch 98/150\n"
     ]
    },
    {
     "name": "stderr",
     "output_type": "stream",
     "text": [
      "N foreground 10533, N  background 0,unable to generate class balanced samples.\n",
      "N foreground 15909, N  background 0,unable to generate class balanced samples.\n",
      "N foreground 16115, N  background 0,unable to generate class balanced samples.\n",
      "N foreground 13064, N  background 0,unable to generate class balanced samples.\n",
      "N foreground 14809, N  background 0,unable to generate class balanced samples.\n",
      "N foreground 17097, N  background 0,unable to generate class balanced samples.\n",
      "N foreground 8935, N  background 0,unable to generate class balanced samples.\n",
      "N foreground 22593, N  background 0,unable to generate class balanced samples.\n",
      "N foreground 15184, N  background 0,unable to generate class balanced samples.\n",
      "N foreground 14317, N  background 0,unable to generate class balanced samples.\n",
      "N foreground 16682, N  background 0,unable to generate class balanced samples.\n",
      "N foreground 16438, N  background 0,unable to generate class balanced samples.\n",
      "N foreground 13809, N  background 0,unable to generate class balanced samples.\n",
      "N foreground 12122, N  background 0,unable to generate class balanced samples.\n",
      "N foreground 15619, N  background 0,unable to generate class balanced samples.\n",
      "N foreground 10474, N  background 0,unable to generate class balanced samples.\n",
      "N foreground 10992, N  background 0,unable to generate class balanced samples.\n",
      "N foreground 19210, N  background 0,unable to generate class balanced samples.\n",
      "N foreground 17716, N  background 0,unable to generate class balanced samples.\n",
      "N foreground 16388, N  background 0,unable to generate class balanced samples.\n",
      "N foreground 16450, N  background 0,unable to generate class balanced samples.\n",
      "N foreground 14262, N  background 0,unable to generate class balanced samples.\n",
      "N foreground 14230, N  background 0,unable to generate class balanced samples.\n",
      "N foreground 13138, N  background 0,unable to generate class balanced samples.\n",
      "N foreground 13958, N  background 0,unable to generate class balanced samples.\n",
      "N foreground 15838, N  background 0,unable to generate class balanced samples.\n"
     ]
    },
    {
     "name": "stdout",
     "output_type": "stream",
     "text": [
      "1/13, train_loss: 0.1420\n",
      "2/13, train_loss: 0.1303\n",
      "3/13, train_loss: 0.1378\n",
      "4/13, train_loss: 0.1409\n",
      "5/13, train_loss: 0.1290\n",
      "6/13, train_loss: 0.1405\n",
      "7/13, train_loss: 0.1440\n",
      "8/13, train_loss: 0.1392\n",
      "9/13, train_loss: 0.1445\n",
      "10/13, train_loss: 0.1257\n",
      "11/13, train_loss: 0.1244\n",
      "12/13, train_loss: 0.1301\n",
      "13/13, train_loss: 0.1392\n",
      "epoch 98 average loss: 0.1360\n"
     ]
    },
    {
     "name": "stderr",
     "output_type": "stream",
     "text": [
      "N foreground 10539, N  background 0,unable to generate class balanced samples.\n",
      "N foreground 13981, N  background 0,unable to generate class balanced samples.\n",
      "N foreground 14149, N  background 0,unable to generate class balanced samples.\n",
      "N foreground 18264, N  background 0,unable to generate class balanced samples.\n",
      "N foreground 13080, N  background 0,unable to generate class balanced samples.\n",
      "N foreground 16021, N  background 0,unable to generate class balanced samples.\n",
      "N foreground 14351, N  background 0,unable to generate class balanced samples.\n",
      "N foreground 14458, N  background 0,unable to generate class balanced samples.\n",
      "N foreground 14199, N  background 0,unable to generate class balanced samples.\n"
     ]
    },
    {
     "name": "stdout",
     "output_type": "stream",
     "text": [
      "current epoch: 98 current mean dice: 0.8856\n",
      "best mean dice: 0.8858at epoch: 97\n",
      "----------\n",
      "epoch 99/150\n"
     ]
    },
    {
     "name": "stderr",
     "output_type": "stream",
     "text": [
      "N foreground 14317, N  background 0,unable to generate class balanced samples.\n",
      "N foreground 10533, N  background 0,unable to generate class balanced samples.\n",
      "N foreground 13064, N  background 0,unable to generate class balanced samples.\n",
      "N foreground 15184, N  background 0,unable to generate class balanced samples.\n",
      "N foreground 17097, N  background 0,unable to generate class balanced samples.\n",
      "N foreground 13958, N  background 0,unable to generate class balanced samples.\n",
      "N foreground 22593, N  background 0,unable to generate class balanced samples.\n",
      "N foreground 10474, N  background 0,unable to generate class balanced samples.\n",
      "N foreground 15619, N  background 0,unable to generate class balanced samples.\n",
      "N foreground 10992, N  background 0,unable to generate class balanced samples.\n",
      "N foreground 12122, N  background 0,unable to generate class balanced samples.\n",
      "N foreground 15838, N  background 0,unable to generate class balanced samples.\n",
      "N foreground 16682, N  background 0,unable to generate class balanced samples.\n",
      "N foreground 16450, N  background 0,unable to generate class balanced samples.\n",
      "N foreground 16388, N  background 0,unable to generate class balanced samples.\n",
      "N foreground 14809, N  background 0,unable to generate class balanced samples.\n",
      "N foreground 19210, N  background 0,unable to generate class balanced samples.\n",
      "N foreground 16438, N  background 0,unable to generate class balanced samples.\n",
      "N foreground 8935, N  background 0,unable to generate class balanced samples.\n",
      "N foreground 16115, N  background 0,unable to generate class balanced samples.\n",
      "N foreground 13138, N  background 0,unable to generate class balanced samples.\n",
      "N foreground 13809, N  background 0,unable to generate class balanced samples.\n",
      "N foreground 17716, N  background 0,unable to generate class balanced samples.\n",
      "N foreground 15909, N  background 0,unable to generate class balanced samples.\n",
      "N foreground 14262, N  background 0,unable to generate class balanced samples.\n",
      "N foreground 14230, N  background 0,unable to generate class balanced samples.\n"
     ]
    },
    {
     "name": "stdout",
     "output_type": "stream",
     "text": [
      "1/13, train_loss: 0.1300\n",
      "2/13, train_loss: 0.1305\n",
      "3/13, train_loss: 0.1245\n",
      "4/13, train_loss: 0.1402\n",
      "5/13, train_loss: 0.1439\n",
      "6/13, train_loss: 0.1364\n",
      "7/13, train_loss: 0.1301\n",
      "8/13, train_loss: 0.1485\n",
      "9/13, train_loss: 0.1315\n",
      "10/13, train_loss: 0.1224\n",
      "11/13, train_loss: 0.1226\n",
      "12/13, train_loss: 0.1466\n",
      "13/13, train_loss: 0.1311\n",
      "epoch 99 average loss: 0.1337\n"
     ]
    },
    {
     "name": "stderr",
     "output_type": "stream",
     "text": [
      "N foreground 10539, N  background 0,unable to generate class balanced samples.\n",
      "N foreground 18264, N  background 0,unable to generate class balanced samples.\n",
      "N foreground 13981, N  background 0,unable to generate class balanced samples.\n",
      "N foreground 14149, N  background 0,unable to generate class balanced samples.\n",
      "N foreground 14351, N  background 0,unable to generate class balanced samples.\n",
      "N foreground 13080, N  background 0,unable to generate class balanced samples.\n",
      "N foreground 16021, N  background 0,unable to generate class balanced samples.\n",
      "N foreground 14458, N  background 0,unable to generate class balanced samples.\n",
      "N foreground 14199, N  background 0,unable to generate class balanced samples.\n"
     ]
    },
    {
     "name": "stdout",
     "output_type": "stream",
     "text": [
      "current epoch: 99 current mean dice: 0.8796\n",
      "best mean dice: 0.8858at epoch: 97\n",
      "----------\n",
      "epoch 100/150\n"
     ]
    },
    {
     "name": "stderr",
     "output_type": "stream",
     "text": [
      "N foreground 16682, N  background 0,unable to generate class balanced samples.\n",
      "N foreground 15184, N  background 0,unable to generate class balanced samples.\n",
      "N foreground 15619, N  background 0,unable to generate class balanced samples.\n",
      "N foreground 22593, N  background 0,unable to generate class balanced samples.\n",
      "N foreground 16388, N  background 0,unable to generate class balanced samples.\n",
      "N foreground 14230, N  background 0,unable to generate class balanced samples.\n",
      "N foreground 17716, N  background 0,unable to generate class balanced samples.\n",
      "N foreground 19210, N  background 0,unable to generate class balanced samples.\n",
      "N foreground 13958, N  background 0,unable to generate class balanced samples.\n",
      "N foreground 10474, N  background 0,unable to generate class balanced samples.\n",
      "N foreground 13809, N  background 0,unable to generate class balanced samples.\n",
      "N foreground 15838, N  background 0,unable to generate class balanced samples.\n",
      "N foreground 13064, N  background 0,unable to generate class balanced samples.\n",
      "N foreground 14262, N  background 0,unable to generate class balanced samples.\n",
      "N foreground 16115, N  background 0,unable to generate class balanced samples.\n",
      "N foreground 16438, N  background 0,unable to generate class balanced samples.\n",
      "N foreground 13138, N  background 0,unable to generate class balanced samples.\n",
      "N foreground 15909, N  background 0,unable to generate class balanced samples.\n",
      "N foreground 16450, N  background 0,unable to generate class balanced samples.\n",
      "N foreground 12122, N  background 0,unable to generate class balanced samples.\n",
      "N foreground 14809, N  background 0,unable to generate class balanced samples.\n",
      "N foreground 10533, N  background 0,unable to generate class balanced samples.\n",
      "N foreground 14317, N  background 0,unable to generate class balanced samples.\n",
      "N foreground 8935, N  background 0,unable to generate class balanced samples.\n",
      "N foreground 10992, N  background 0,unable to generate class balanced samples.\n",
      "N foreground 17097, N  background 0,unable to generate class balanced samples.\n"
     ]
    },
    {
     "name": "stdout",
     "output_type": "stream",
     "text": [
      "1/13, train_loss: 0.1298\n",
      "2/13, train_loss: 0.1155\n",
      "3/13, train_loss: 0.1282\n",
      "4/13, train_loss: 0.1346\n",
      "5/13, train_loss: 0.1461\n",
      "6/13, train_loss: 0.1459\n",
      "7/13, train_loss: 0.1244\n",
      "8/13, train_loss: 0.1376\n",
      "9/13, train_loss: 0.1298\n",
      "10/13, train_loss: 0.1414\n",
      "11/13, train_loss: 0.1396\n",
      "12/13, train_loss: 0.1390\n",
      "13/13, train_loss: 0.1351\n",
      "epoch 100 average loss: 0.1344\n"
     ]
    },
    {
     "name": "stderr",
     "output_type": "stream",
     "text": [
      "N foreground 13080, N  background 0,unable to generate class balanced samples.\n",
      "N foreground 14149, N  background 0,unable to generate class balanced samples.\n",
      "N foreground 16021, N  background 0,unable to generate class balanced samples.\n",
      "N foreground 14351, N  background 0,unable to generate class balanced samples.\n",
      "N foreground 18264, N  background 0,unable to generate class balanced samples.\n",
      "N foreground 13981, N  background 0,unable to generate class balanced samples.\n",
      "N foreground 10539, N  background 0,unable to generate class balanced samples.\n",
      "N foreground 14458, N  background 0,unable to generate class balanced samples.\n",
      "N foreground 14199, N  background 0,unable to generate class balanced samples.\n"
     ]
    },
    {
     "name": "stdout",
     "output_type": "stream",
     "text": [
      "current epoch: 100 current mean dice: 0.8828\n",
      "best mean dice: 0.8858at epoch: 97\n",
      "----------\n",
      "epoch 101/150\n"
     ]
    },
    {
     "name": "stderr",
     "output_type": "stream",
     "text": [
      "N foreground 16682, N  background 0,unable to generate class balanced samples.\n",
      "N foreground 10474, N  background 0,unable to generate class balanced samples.\n",
      "N foreground 16115, N  background 0,unable to generate class balanced samples.\n",
      "N foreground 15838, N  background 0,unable to generate class balanced samples.\n",
      "N foreground 16450, N  background 0,unable to generate class balanced samples.\n",
      "N foreground 13958, N  background 0,unable to generate class balanced samples.\n",
      "N foreground 8935, N  background 0,unable to generate class balanced samples.\n",
      "N foreground 14230, N  background 0,unable to generate class balanced samples.\n",
      "N foreground 10992, N  background 0,unable to generate class balanced samples.\n",
      "N foreground 10533, N  background 0,unable to generate class balanced samples.\n",
      "N foreground 12122, N  background 0,unable to generate class balanced samples.\n",
      "N foreground 13138, N  background 0,unable to generate class balanced samples.\n",
      "N foreground 16438, N  background 0,unable to generate class balanced samples.\n",
      "N foreground 16388, N  background 0,unable to generate class balanced samples.\n",
      "N foreground 14317, N  background 0,unable to generate class balanced samples.\n",
      "N foreground 17716, N  background 0,unable to generate class balanced samples.\n",
      "N foreground 15184, N  background 0,unable to generate class balanced samples.\n",
      "N foreground 22593, N  background 0,unable to generate class balanced samples.\n",
      "N foreground 17097, N  background 0,unable to generate class balanced samples.\n",
      "N foreground 19210, N  background 0,unable to generate class balanced samples.\n",
      "N foreground 13809, N  background 0,unable to generate class balanced samples.\n",
      "N foreground 15619, N  background 0,unable to generate class balanced samples.\n",
      "N foreground 13064, N  background 0,unable to generate class balanced samples.\n",
      "N foreground 14809, N  background 0,unable to generate class balanced samples.\n",
      "N foreground 14262, N  background 0,unable to generate class balanced samples.\n",
      "N foreground 15909, N  background 0,unable to generate class balanced samples.\n"
     ]
    },
    {
     "name": "stdout",
     "output_type": "stream",
     "text": [
      "1/13, train_loss: 0.1342\n",
      "2/13, train_loss: 0.1424\n",
      "3/13, train_loss: 0.1280\n",
      "4/13, train_loss: 0.1483\n",
      "5/13, train_loss: 0.1458\n",
      "6/13, train_loss: 0.1297\n",
      "7/13, train_loss: 0.1439\n",
      "8/13, train_loss: 0.1198\n",
      "9/13, train_loss: 0.1288\n",
      "10/13, train_loss: 0.1324\n",
      "11/13, train_loss: 0.1297\n",
      "12/13, train_loss: 0.1200\n",
      "13/13, train_loss: 0.1336\n",
      "epoch 101 average loss: 0.1336\n"
     ]
    },
    {
     "name": "stderr",
     "output_type": "stream",
     "text": [
      "N foreground 14149, N  background 0,unable to generate class balanced samples.\n",
      "N foreground 10539, N  background 0,unable to generate class balanced samples.\n",
      "N foreground 16021, N  background 0,unable to generate class balanced samples.\n",
      "N foreground 18264, N  background 0,unable to generate class balanced samples.\n",
      "N foreground 14351, N  background 0,unable to generate class balanced samples.\n",
      "N foreground 13080, N  background 0,unable to generate class balanced samples.\n",
      "N foreground 13981, N  background 0,unable to generate class balanced samples.\n",
      "N foreground 14458, N  background 0,unable to generate class balanced samples.\n",
      "N foreground 14199, N  background 0,unable to generate class balanced samples.\n"
     ]
    },
    {
     "name": "stdout",
     "output_type": "stream",
     "text": [
      "current epoch: 101 current mean dice: 0.8808\n",
      "best mean dice: 0.8858at epoch: 97\n",
      "----------\n",
      "epoch 102/150\n"
     ]
    },
    {
     "name": "stderr",
     "output_type": "stream",
     "text": [
      "N foreground 14262, N  background 0,unable to generate class balanced samples.\n",
      "N foreground 22593, N  background 0,unable to generate class balanced samples.\n",
      "N foreground 16388, N  background 0,unable to generate class balanced samples.\n",
      "N foreground 10474, N  background 0,unable to generate class balanced samples.\n",
      "N foreground 13064, N  background 0,unable to generate class balanced samples.\n",
      "N foreground 13958, N  background 0,unable to generate class balanced samples.\n",
      "N foreground 15838, N  background 0,unable to generate class balanced samples.\n",
      "N foreground 14230, N  background 0,unable to generate class balanced samples.\n",
      "N foreground 8935, N  background 0,unable to generate class balanced samples.\n",
      "N foreground 19210, N  background 0,unable to generate class balanced samples.\n",
      "N foreground 15909, N  background 0,unable to generate class balanced samples.\n",
      "N foreground 12122, N  background 0,unable to generate class balanced samples.\n",
      "N foreground 13809, N  background 0,unable to generate class balanced samples.\n",
      "N foreground 17097, N  background 0,unable to generate class balanced samples.\n",
      "N foreground 14809, N  background 0,unable to generate class balanced samples.\n",
      "N foreground 17716, N  background 0,unable to generate class balanced samples.\n",
      "N foreground 10533, N  background 0,unable to generate class balanced samples.\n",
      "N foreground 13138, N  background 0,unable to generate class balanced samples.\n",
      "N foreground 15184, N  background 0,unable to generate class balanced samples.\n",
      "N foreground 16682, N  background 0,unable to generate class balanced samples.\n",
      "N foreground 10992, N  background 0,unable to generate class balanced samples.\n",
      "N foreground 16115, N  background 0,unable to generate class balanced samples.\n",
      "N foreground 16438, N  background 0,unable to generate class balanced samples.\n",
      "N foreground 14317, N  background 0,unable to generate class balanced samples.\n",
      "N foreground 16450, N  background 0,unable to generate class balanced samples.\n",
      "N foreground 15619, N  background 0,unable to generate class balanced samples.\n"
     ]
    },
    {
     "name": "stdout",
     "output_type": "stream",
     "text": [
      "1/13, train_loss: 0.1267\n",
      "2/13, train_loss: 0.1455\n",
      "3/13, train_loss: 0.1410\n",
      "4/13, train_loss: 0.1442\n",
      "5/13, train_loss: 0.1283\n",
      "6/13, train_loss: 0.1206\n",
      "7/13, train_loss: 0.1398\n",
      "8/13, train_loss: 0.1268\n",
      "9/13, train_loss: 0.1461\n",
      "10/13, train_loss: 0.1261\n",
      "11/13, train_loss: 0.1432\n",
      "12/13, train_loss: 0.1295\n",
      "13/13, train_loss: 0.1251\n",
      "epoch 102 average loss: 0.1341\n"
     ]
    },
    {
     "name": "stderr",
     "output_type": "stream",
     "text": [
      "N foreground 13981, N  background 0,unable to generate class balanced samples.\n",
      "N foreground 14351, N  background 0,unable to generate class balanced samples.\n",
      "N foreground 18264, N  background 0,unable to generate class balanced samples.\n",
      "N foreground 16021, N  background 0,unable to generate class balanced samples.\n",
      "N foreground 14149, N  background 0,unable to generate class balanced samples.\n",
      "N foreground 10539, N  background 0,unable to generate class balanced samples.\n",
      "N foreground 13080, N  background 0,unable to generate class balanced samples.\n",
      "N foreground 14458, N  background 0,unable to generate class balanced samples.\n",
      "N foreground 14199, N  background 0,unable to generate class balanced samples.\n"
     ]
    },
    {
     "name": "stdout",
     "output_type": "stream",
     "text": [
      "current epoch: 102 current mean dice: 0.8844\n",
      "best mean dice: 0.8858at epoch: 97\n",
      "----------\n",
      "epoch 103/150\n"
     ]
    },
    {
     "name": "stderr",
     "output_type": "stream",
     "text": [
      "N foreground 15909, N  background 0,unable to generate class balanced samples.\n",
      "N foreground 15838, N  background 0,unable to generate class balanced samples.\n",
      "N foreground 14230, N  background 0,unable to generate class balanced samples.\n",
      "N foreground 13064, N  background 0,unable to generate class balanced samples.\n",
      "N foreground 14317, N  background 0,unable to generate class balanced samples.\n",
      "N foreground 13958, N  background 0,unable to generate class balanced samples.\n",
      "N foreground 16682, N  background 0,unable to generate class balanced samples.\n",
      "N foreground 13138, N  background 0,unable to generate class balanced samples.\n",
      "N foreground 16115, N  background 0,unable to generate class balanced samples.\n",
      "N foreground 19210, N  background 0,unable to generate class balanced samples.\n",
      "N foreground 15619, N  background 0,unable to generate class balanced samples.\n",
      "N foreground 16438, N  background 0,unable to generate class balanced samples.\n",
      "N foreground 17716, N  background 0,unable to generate class balanced samples.\n",
      "N foreground 10474, N  background 0,unable to generate class balanced samples.\n",
      "N foreground 10992, N  background 0,unable to generate class balanced samples.\n",
      "N foreground 14809, N  background 0,unable to generate class balanced samples.\n",
      "N foreground 17097, N  background 0,unable to generate class balanced samples.\n",
      "N foreground 16388, N  background 0,unable to generate class balanced samples.\n",
      "N foreground 12122, N  background 0,unable to generate class balanced samples.\n",
      "N foreground 16450, N  background 0,unable to generate class balanced samples.\n",
      "N foreground 22593, N  background 0,unable to generate class balanced samples.\n",
      "N foreground 13809, N  background 0,unable to generate class balanced samples.\n",
      "N foreground 8935, N  background 0,unable to generate class balanced samples.\n",
      "N foreground 10533, N  background 0,unable to generate class balanced samples.\n",
      "N foreground 15184, N  background 0,unable to generate class balanced samples.\n",
      "N foreground 14262, N  background 0,unable to generate class balanced samples.\n"
     ]
    },
    {
     "name": "stdout",
     "output_type": "stream",
     "text": [
      "1/13, train_loss: 0.1362\n",
      "2/13, train_loss: 0.1325\n",
      "3/13, train_loss: 0.1370\n",
      "4/13, train_loss: 0.1454\n",
      "5/13, train_loss: 0.1205\n",
      "6/13, train_loss: 0.1381\n",
      "7/13, train_loss: 0.1448\n",
      "8/13, train_loss: 0.1343\n",
      "9/13, train_loss: 0.1494\n",
      "10/13, train_loss: 0.1337\n",
      "11/13, train_loss: 0.1331\n",
      "12/13, train_loss: 0.1212\n",
      "13/13, train_loss: 0.1158\n",
      "epoch 103 average loss: 0.1340\n"
     ]
    },
    {
     "name": "stderr",
     "output_type": "stream",
     "text": [
      "N foreground 16021, N  background 0,unable to generate class balanced samples.\n",
      "N foreground 13981, N  background 0,unable to generate class balanced samples.\n",
      "N foreground 18264, N  background 0,unable to generate class balanced samples.\n",
      "N foreground 14351, N  background 0,unable to generate class balanced samples.\n",
      "N foreground 14149, N  background 0,unable to generate class balanced samples.\n",
      "N foreground 13080, N  background 0,unable to generate class balanced samples.\n",
      "N foreground 10539, N  background 0,unable to generate class balanced samples.\n",
      "N foreground 14458, N  background 0,unable to generate class balanced samples.\n",
      "N foreground 14199, N  background 0,unable to generate class balanced samples.\n"
     ]
    },
    {
     "name": "stdout",
     "output_type": "stream",
     "text": [
      "current epoch: 103 current mean dice: 0.8832\n",
      "best mean dice: 0.8858at epoch: 97\n",
      "----------\n",
      "epoch 104/150\n"
     ]
    },
    {
     "name": "stderr",
     "output_type": "stream",
     "text": [
      "N foreground 15909, N  background 0,unable to generate class balanced samples.\n",
      "N foreground 19210, N  background 0,unable to generate class balanced samples.\n",
      "N foreground 22593, N  background 0,unable to generate class balanced samples.\n",
      "N foreground 10474, N  background 0,unable to generate class balanced samples.\n",
      "N foreground 15184, N  background 0,unable to generate class balanced samples.\n",
      "N foreground 8935, N  background 0,unable to generate class balanced samples.\n",
      "N foreground 17097, N  background 0,unable to generate class balanced samples.\n",
      "N foreground 16438, N  background 0,unable to generate class balanced samples.\n",
      "N foreground 13138, N  background 0,unable to generate class balanced samples.\n",
      "N foreground 14230, N  background 0,unable to generate class balanced samples.\n",
      "N foreground 16682, N  background 0,unable to generate class balanced samples.\n",
      "N foreground 10992, N  background 0,unable to generate class balanced samples.\n",
      "N foreground 14317, N  background 0,unable to generate class balanced samples.\n",
      "N foreground 10533, N  background 0,unable to generate class balanced samples.\n",
      "N foreground 15619, N  background 0,unable to generate class balanced samples.\n",
      "N foreground 16388, N  background 0,unable to generate class balanced samples.\n",
      "N foreground 13064, N  background 0,unable to generate class balanced samples.\n",
      "N foreground 13809, N  background 0,unable to generate class balanced samples.\n",
      "N foreground 14809, N  background 0,unable to generate class balanced samples.\n",
      "N foreground 16115, N  background 0,unable to generate class balanced samples.\n",
      "N foreground 15838, N  background 0,unable to generate class balanced samples.\n",
      "N foreground 14262, N  background 0,unable to generate class balanced samples.\n",
      "N foreground 16450, N  background 0,unable to generate class balanced samples.\n",
      "N foreground 13958, N  background 0,unable to generate class balanced samples.\n",
      "N foreground 12122, N  background 0,unable to generate class balanced samples.\n",
      "N foreground 17716, N  background 0,unable to generate class balanced samples.\n"
     ]
    },
    {
     "name": "stdout",
     "output_type": "stream",
     "text": [
      "1/13, train_loss: 0.1375\n",
      "2/13, train_loss: 0.1322\n",
      "3/13, train_loss: 0.1253\n",
      "4/13, train_loss: 0.1246\n",
      "5/13, train_loss: 0.1491\n",
      "6/13, train_loss: 0.1349\n",
      "7/13, train_loss: 0.1368\n",
      "8/13, train_loss: 0.1296\n",
      "9/13, train_loss: 0.1416\n",
      "10/13, train_loss: 0.1180\n",
      "11/13, train_loss: 0.1206\n",
      "12/13, train_loss: 0.1272\n",
      "13/13, train_loss: 0.1227\n",
      "epoch 104 average loss: 0.1308\n"
     ]
    },
    {
     "name": "stderr",
     "output_type": "stream",
     "text": [
      "N foreground 13981, N  background 0,unable to generate class balanced samples.\n",
      "N foreground 14149, N  background 0,unable to generate class balanced samples.\n",
      "N foreground 13080, N  background 0,unable to generate class balanced samples.\n",
      "N foreground 16021, N  background 0,unable to generate class balanced samples.\n",
      "N foreground 18264, N  background 0,unable to generate class balanced samples.\n",
      "N foreground 14351, N  background 0,unable to generate class balanced samples.\n",
      "N foreground 10539, N  background 0,unable to generate class balanced samples.\n",
      "N foreground 14458, N  background 0,unable to generate class balanced samples.\n",
      "N foreground 14199, N  background 0,unable to generate class balanced samples.\n"
     ]
    },
    {
     "name": "stdout",
     "output_type": "stream",
     "text": [
      "current epoch: 104 current mean dice: 0.8841\n",
      "best mean dice: 0.8858at epoch: 97\n",
      "----------\n",
      "epoch 105/150\n"
     ]
    },
    {
     "name": "stderr",
     "output_type": "stream",
     "text": [
      "N foreground 14809, N  background 0,unable to generate class balanced samples.\n",
      "N foreground 12122, N  background 0,unable to generate class balanced samples.\n",
      "N foreground 13064, N  background 0,unable to generate class balanced samples.\n",
      "N foreground 15619, N  background 0,unable to generate class balanced samples.\n",
      "N foreground 16115, N  background 0,unable to generate class balanced samples.\n",
      "N foreground 16388, N  background 0,unable to generate class balanced samples.\n",
      "N foreground 15184, N  background 0,unable to generate class balanced samples.\n",
      "N foreground 15909, N  background 0,unable to generate class balanced samples.\n",
      "N foreground 15838, N  background 0,unable to generate class balanced samples.\n",
      "N foreground 10992, N  background 0,unable to generate class balanced samples.\n",
      "N foreground 16450, N  background 0,unable to generate class balanced samples.\n",
      "N foreground 8935, N  background 0,unable to generate class balanced samples.\n",
      "N foreground 10474, N  background 0,unable to generate class balanced samples.\n",
      "N foreground 13958, N  background 0,unable to generate class balanced samples.\n",
      "N foreground 17097, N  background 0,unable to generate class balanced samples.\n",
      "N foreground 13138, N  background 0,unable to generate class balanced samples.\n",
      "N foreground 17716, N  background 0,unable to generate class balanced samples.\n",
      "N foreground 13809, N  background 0,unable to generate class balanced samples.\n",
      "N foreground 19210, N  background 0,unable to generate class balanced samples.\n",
      "N foreground 16438, N  background 0,unable to generate class balanced samples.\n",
      "N foreground 22593, N  background 0,unable to generate class balanced samples.\n",
      "N foreground 14317, N  background 0,unable to generate class balanced samples.\n",
      "N foreground 14230, N  background 0,unable to generate class balanced samples.\n",
      "N foreground 16682, N  background 0,unable to generate class balanced samples.\n",
      "N foreground 14262, N  background 0,unable to generate class balanced samples.\n",
      "N foreground 10533, N  background 0,unable to generate class balanced samples.\n"
     ]
    },
    {
     "name": "stdout",
     "output_type": "stream",
     "text": [
      "1/13, train_loss: 0.1408\n",
      "2/13, train_loss: 0.1403\n",
      "3/13, train_loss: 0.1430\n",
      "4/13, train_loss: 0.1307\n",
      "5/13, train_loss: 0.1451\n",
      "6/13, train_loss: 0.1263\n",
      "7/13, train_loss: 0.1255\n",
      "8/13, train_loss: 0.1337\n",
      "9/13, train_loss: 0.1324\n",
      "10/13, train_loss: 0.1317\n",
      "11/13, train_loss: 0.1287\n",
      "12/13, train_loss: 0.1156\n",
      "13/13, train_loss: 0.1252\n",
      "epoch 105 average loss: 0.1322\n"
     ]
    },
    {
     "name": "stderr",
     "output_type": "stream",
     "text": [
      "N foreground 14351, N  background 0,unable to generate class balanced samples.\n",
      "N foreground 10539, N  background 0,unable to generate class balanced samples.\n",
      "N foreground 18264, N  background 0,unable to generate class balanced samples.\n",
      "N foreground 16021, N  background 0,unable to generate class balanced samples.\n",
      "N foreground 13080, N  background 0,unable to generate class balanced samples.\n",
      "N foreground 14149, N  background 0,unable to generate class balanced samples.\n",
      "N foreground 13981, N  background 0,unable to generate class balanced samples.\n",
      "N foreground 14458, N  background 0,unable to generate class balanced samples.\n",
      "N foreground 14199, N  background 0,unable to generate class balanced samples.\n"
     ]
    },
    {
     "name": "stdout",
     "output_type": "stream",
     "text": [
      "saved new best metric model\n",
      "current epoch: 105 current mean dice: 0.8882\n",
      "best mean dice: 0.8882at epoch: 105\n",
      "----------\n",
      "epoch 106/150\n"
     ]
    },
    {
     "name": "stderr",
     "output_type": "stream",
     "text": [
      "N foreground 16388, N  background 0,unable to generate class balanced samples.\n",
      "N foreground 22593, N  background 0,unable to generate class balanced samples.\n",
      "N foreground 19210, N  background 0,unable to generate class balanced samples.\n",
      "N foreground 14317, N  background 0,unable to generate class balanced samples.\n",
      "N foreground 10474, N  background 0,unable to generate class balanced samples.\n",
      "N foreground 12122, N  background 0,unable to generate class balanced samples.\n",
      "N foreground 16115, N  background 0,unable to generate class balanced samples.\n",
      "N foreground 14262, N  background 0,unable to generate class balanced samples.\n",
      "N foreground 14809, N  background 0,unable to generate class balanced samples.\n",
      "N foreground 8935, N  background 0,unable to generate class balanced samples.\n",
      "N foreground 16450, N  background 0,unable to generate class balanced samples.\n",
      "N foreground 15838, N  background 0,unable to generate class balanced samples.\n",
      "N foreground 15619, N  background 0,unable to generate class balanced samples.\n",
      "N foreground 16438, N  background 0,unable to generate class balanced samples.\n",
      "N foreground 13064, N  background 0,unable to generate class balanced samples.\n",
      "N foreground 13138, N  background 0,unable to generate class balanced samples.\n",
      "N foreground 16682, N  background 0,unable to generate class balanced samples.\n",
      "N foreground 15184, N  background 0,unable to generate class balanced samples.\n",
      "N foreground 15909, N  background 0,unable to generate class balanced samples.\n",
      "N foreground 17097, N  background 0,unable to generate class balanced samples.\n",
      "N foreground 17716, N  background 0,unable to generate class balanced samples.\n",
      "N foreground 14230, N  background 0,unable to generate class balanced samples.\n",
      "N foreground 10533, N  background 0,unable to generate class balanced samples.\n",
      "N foreground 13809, N  background 0,unable to generate class balanced samples.\n",
      "N foreground 10992, N  background 0,unable to generate class balanced samples.\n",
      "N foreground 13958, N  background 0,unable to generate class balanced samples.\n"
     ]
    },
    {
     "name": "stdout",
     "output_type": "stream",
     "text": [
      "1/13, train_loss: 0.1324\n",
      "2/13, train_loss: 0.1441\n",
      "3/13, train_loss: 0.1368\n",
      "4/13, train_loss: 0.1394\n",
      "5/13, train_loss: 0.1268\n",
      "6/13, train_loss: 0.1177\n",
      "7/13, train_loss: 0.1383\n",
      "8/13, train_loss: 0.1161\n",
      "9/13, train_loss: 0.1366\n",
      "10/13, train_loss: 0.1249\n",
      "11/13, train_loss: 0.1194\n",
      "12/13, train_loss: 0.1277\n",
      "13/13, train_loss: 0.1293\n",
      "epoch 106 average loss: 0.1300\n"
     ]
    },
    {
     "name": "stderr",
     "output_type": "stream",
     "text": [
      "N foreground 18264, N  background 0,unable to generate class balanced samples.\n",
      "N foreground 14351, N  background 0,unable to generate class balanced samples.\n",
      "N foreground 14149, N  background 0,unable to generate class balanced samples.\n",
      "N foreground 13981, N  background 0,unable to generate class balanced samples.\n",
      "N foreground 10539, N  background 0,unable to generate class balanced samples.\n",
      "N foreground 13080, N  background 0,unable to generate class balanced samples.\n",
      "N foreground 16021, N  background 0,unable to generate class balanced samples.\n",
      "N foreground 14458, N  background 0,unable to generate class balanced samples.\n",
      "N foreground 14199, N  background 0,unable to generate class balanced samples.\n"
     ]
    },
    {
     "name": "stdout",
     "output_type": "stream",
     "text": [
      "saved new best metric model\n",
      "current epoch: 106 current mean dice: 0.8887\n",
      "best mean dice: 0.8887at epoch: 106\n",
      "----------\n",
      "epoch 107/150\n"
     ]
    },
    {
     "name": "stderr",
     "output_type": "stream",
     "text": [
      "N foreground 10533, N  background 0,unable to generate class balanced samples.\n",
      "N foreground 15619, N  background 0,unable to generate class balanced samples.\n",
      "N foreground 8935, N  background 0,unable to generate class balanced samples.\n",
      "N foreground 14809, N  background 0,unable to generate class balanced samples.\n",
      "N foreground 15838, N  background 0,unable to generate class balanced samples.\n",
      "N foreground 16438, N  background 0,unable to generate class balanced samples.\n",
      "N foreground 22593, N  background 0,unable to generate class balanced samples.\n",
      "N foreground 13138, N  background 0,unable to generate class balanced samples.\n",
      "N foreground 15909, N  background 0,unable to generate class balanced samples.\n",
      "N foreground 13064, N  background 0,unable to generate class balanced samples.\n",
      "N foreground 10992, N  background 0,unable to generate class balanced samples.\n",
      "N foreground 13958, N  background 0,unable to generate class balanced samples.\n",
      "N foreground 17097, N  background 0,unable to generate class balanced samples.\n",
      "N foreground 16682, N  background 0,unable to generate class balanced samples.\n",
      "N foreground 14230, N  background 0,unable to generate class balanced samples.\n",
      "N foreground 15184, N  background 0,unable to generate class balanced samples.\n",
      "N foreground 19210, N  background 0,unable to generate class balanced samples.\n",
      "N foreground 16450, N  background 0,unable to generate class balanced samples.\n",
      "N foreground 10474, N  background 0,unable to generate class balanced samples.\n",
      "N foreground 16115, N  background 0,unable to generate class balanced samples.\n",
      "N foreground 14262, N  background 0,unable to generate class balanced samples.\n",
      "N foreground 13809, N  background 0,unable to generate class balanced samples.\n",
      "N foreground 16388, N  background 0,unable to generate class balanced samples.\n",
      "N foreground 17716, N  background 0,unable to generate class balanced samples.\n",
      "N foreground 14317, N  background 0,unable to generate class balanced samples.\n",
      "N foreground 12122, N  background 0,unable to generate class balanced samples.\n"
     ]
    },
    {
     "name": "stdout",
     "output_type": "stream",
     "text": [
      "1/13, train_loss: 0.1241\n",
      "2/13, train_loss: 0.1346\n",
      "3/13, train_loss: 0.1277\n",
      "4/13, train_loss: 0.1221\n",
      "5/13, train_loss: 0.1308\n",
      "6/13, train_loss: 0.1390\n",
      "7/13, train_loss: 0.1306\n",
      "8/13, train_loss: 0.1278\n",
      "9/13, train_loss: 0.1291\n",
      "10/13, train_loss: 0.1442\n",
      "11/13, train_loss: 0.1228\n",
      "12/13, train_loss: 0.1330\n",
      "13/13, train_loss: 0.1186\n",
      "epoch 107 average loss: 0.1296\n"
     ]
    },
    {
     "name": "stderr",
     "output_type": "stream",
     "text": [
      "N foreground 14149, N  background 0,unable to generate class balanced samples.\n",
      "N foreground 10539, N  background 0,unable to generate class balanced samples.\n",
      "N foreground 13981, N  background 0,unable to generate class balanced samples.\n",
      "N foreground 16021, N  background 0,unable to generate class balanced samples.\n",
      "N foreground 14351, N  background 0,unable to generate class balanced samples.\n",
      "N foreground 18264, N  background 0,unable to generate class balanced samples.\n",
      "N foreground 13080, N  background 0,unable to generate class balanced samples.\n",
      "N foreground 14458, N  background 0,unable to generate class balanced samples.\n",
      "N foreground 14199, N  background 0,unable to generate class balanced samples.\n"
     ]
    },
    {
     "name": "stdout",
     "output_type": "stream",
     "text": [
      "current epoch: 107 current mean dice: 0.8852\n",
      "best mean dice: 0.8887at epoch: 106\n",
      "----------\n",
      "epoch 108/150\n"
     ]
    },
    {
     "name": "stderr",
     "output_type": "stream",
     "text": [
      "N foreground 13958, N  background 0,unable to generate class balanced samples.\n",
      "N foreground 10474, N  background 0,unable to generate class balanced samples.\n",
      "N foreground 16450, N  background 0,unable to generate class balanced samples.\n",
      "N foreground 22593, N  background 0,unable to generate class balanced samples.\n",
      "N foreground 16115, N  background 0,unable to generate class balanced samples.\n",
      "N foreground 14809, N  background 0,unable to generate class balanced samples.\n",
      "N foreground 15838, N  background 0,unable to generate class balanced samples.\n",
      "N foreground 17097, N  background 0,unable to generate class balanced samples.\n",
      "N foreground 8935, N  background 0,unable to generate class balanced samples.\n",
      "N foreground 10533, N  background 0,unable to generate class balanced samples.\n",
      "N foreground 13809, N  background 0,unable to generate class balanced samples.\n",
      "N foreground 15184, N  background 0,unable to generate class balanced samples.\n",
      "N foreground 15619, N  background 0,unable to generate class balanced samples.\n",
      "N foreground 19210, N  background 0,unable to generate class balanced samples.\n",
      "N foreground 14317, N  background 0,unable to generate class balanced samples.\n",
      "N foreground 15909, N  background 0,unable to generate class balanced samples.\n",
      "N foreground 14230, N  background 0,unable to generate class balanced samples.\n",
      "N foreground 16388, N  background 0,unable to generate class balanced samples.\n",
      "N foreground 14262, N  background 0,unable to generate class balanced samples.\n",
      "N foreground 17716, N  background 0,unable to generate class balanced samples.\n",
      "N foreground 12122, N  background 0,unable to generate class balanced samples.\n",
      "N foreground 13064, N  background 0,unable to generate class balanced samples.\n",
      "N foreground 10992, N  background 0,unable to generate class balanced samples.\n",
      "N foreground 16682, N  background 0,unable to generate class balanced samples.\n",
      "N foreground 16438, N  background 0,unable to generate class balanced samples.\n",
      "N foreground 13138, N  background 0,unable to generate class balanced samples.\n"
     ]
    },
    {
     "name": "stdout",
     "output_type": "stream",
     "text": [
      "1/13, train_loss: 0.1339\n",
      "2/13, train_loss: 0.1484\n",
      "3/13, train_loss: 0.1287\n",
      "4/13, train_loss: 0.1333\n",
      "5/13, train_loss: 0.1340\n",
      "6/13, train_loss: 0.1197\n",
      "7/13, train_loss: 0.1259\n",
      "8/13, train_loss: 0.1278\n",
      "9/13, train_loss: 0.1133\n",
      "10/13, train_loss: 0.1280\n",
      "11/13, train_loss: 0.1298\n",
      "12/13, train_loss: 0.1177\n",
      "13/13, train_loss: 0.1320\n",
      "epoch 108 average loss: 0.1287\n"
     ]
    },
    {
     "name": "stderr",
     "output_type": "stream",
     "text": [
      "N foreground 14351, N  background 0,unable to generate class balanced samples.\n",
      "N foreground 10539, N  background 0,unable to generate class balanced samples.\n",
      "N foreground 18264, N  background 0,unable to generate class balanced samples.\n",
      "N foreground 13981, N  background 0,unable to generate class balanced samples.\n",
      "N foreground 14149, N  background 0,unable to generate class balanced samples.\n",
      "N foreground 13080, N  background 0,unable to generate class balanced samples.\n",
      "N foreground 16021, N  background 0,unable to generate class balanced samples.\n",
      "N foreground 14458, N  background 0,unable to generate class balanced samples.\n",
      "N foreground 14199, N  background 0,unable to generate class balanced samples.\n"
     ]
    },
    {
     "name": "stdout",
     "output_type": "stream",
     "text": [
      "saved new best metric model\n",
      "current epoch: 108 current mean dice: 0.8889\n",
      "best mean dice: 0.8889at epoch: 108\n",
      "----------\n",
      "epoch 109/150\n"
     ]
    },
    {
     "name": "stderr",
     "output_type": "stream",
     "text": [
      "N foreground 15838, N  background 0,unable to generate class balanced samples.\n",
      "N foreground 13958, N  background 0,unable to generate class balanced samples.\n",
      "N foreground 22593, N  background 0,unable to generate class balanced samples.\n",
      "N foreground 17097, N  background 0,unable to generate class balanced samples.\n",
      "N foreground 14317, N  background 0,unable to generate class balanced samples.\n",
      "N foreground 10533, N  background 0,unable to generate class balanced samples.\n",
      "N foreground 19210, N  background 0,unable to generate class balanced samples.\n",
      "N foreground 16388, N  background 0,unable to generate class balanced samples.\n",
      "N foreground 13064, N  background 0,unable to generate class balanced samples.\n",
      "N foreground 12122, N  background 0,unable to generate class balanced samples.\n",
      "N foreground 10474, N  background 0,unable to generate class balanced samples.\n",
      "N foreground 15909, N  background 0,unable to generate class balanced samples.\n",
      "N foreground 14809, N  background 0,unable to generate class balanced samples.\n",
      "N foreground 10992, N  background 0,unable to generate class balanced samples.\n",
      "N foreground 16438, N  background 0,unable to generate class balanced samples.\n",
      "N foreground 14262, N  background 0,unable to generate class balanced samples.\n",
      "N foreground 15619, N  background 0,unable to generate class balanced samples.\n",
      "N foreground 16682, N  background 0,unable to generate class balanced samples.\n",
      "N foreground 8935, N  background 0,unable to generate class balanced samples.\n",
      "N foreground 16450, N  background 0,unable to generate class balanced samples.\n",
      "N foreground 13138, N  background 0,unable to generate class balanced samples.\n",
      "N foreground 13809, N  background 0,unable to generate class balanced samples.\n",
      "N foreground 17716, N  background 0,unable to generate class balanced samples.\n",
      "N foreground 14230, N  background 0,unable to generate class balanced samples.\n",
      "N foreground 15184, N  background 0,unable to generate class balanced samples.\n",
      "N foreground 16115, N  background 0,unable to generate class balanced samples.\n"
     ]
    },
    {
     "name": "stdout",
     "output_type": "stream",
     "text": [
      "1/13, train_loss: 0.1260\n",
      "2/13, train_loss: 0.1213\n",
      "3/13, train_loss: 0.1304\n",
      "4/13, train_loss: 0.1271\n",
      "5/13, train_loss: 0.1457\n",
      "6/13, train_loss: 0.1206\n",
      "7/13, train_loss: 0.1251\n",
      "8/13, train_loss: 0.1310\n",
      "9/13, train_loss: 0.1284\n",
      "10/13, train_loss: 0.1312\n",
      "11/13, train_loss: 0.1283\n",
      "12/13, train_loss: 0.1308\n",
      "13/13, train_loss: 0.1168\n",
      "epoch 109 average loss: 0.1279\n"
     ]
    },
    {
     "name": "stderr",
     "output_type": "stream",
     "text": [
      "N foreground 10539, N  background 0,unable to generate class balanced samples.\n",
      "N foreground 14149, N  background 0,unable to generate class balanced samples.\n",
      "N foreground 13981, N  background 0,unable to generate class balanced samples.\n",
      "N foreground 16021, N  background 0,unable to generate class balanced samples.\n",
      "N foreground 18264, N  background 0,unable to generate class balanced samples.\n",
      "N foreground 13080, N  background 0,unable to generate class balanced samples.\n",
      "N foreground 14351, N  background 0,unable to generate class balanced samples.\n",
      "N foreground 14458, N  background 0,unable to generate class balanced samples.\n",
      "N foreground 14199, N  background 0,unable to generate class balanced samples.\n"
     ]
    },
    {
     "name": "stdout",
     "output_type": "stream",
     "text": [
      "current epoch: 109 current mean dice: 0.8865\n",
      "best mean dice: 0.8889at epoch: 108\n",
      "----------\n",
      "epoch 110/150\n"
     ]
    },
    {
     "name": "stderr",
     "output_type": "stream",
     "text": [
      "N foreground 15619, N  background 0,unable to generate class balanced samples.\n",
      "N foreground 15184, N  background 0,unable to generate class balanced samples.\n",
      "N foreground 14317, N  background 0,unable to generate class balanced samples.\n",
      "N foreground 16438, N  background 0,unable to generate class balanced samples.\n",
      "N foreground 10992, N  background 0,unable to generate class balanced samples.\n",
      "N foreground 13809, N  background 0,unable to generate class balanced samples.\n",
      "N foreground 16682, N  background 0,unable to generate class balanced samples.\n",
      "N foreground 13064, N  background 0,unable to generate class balanced samples.\n",
      "N foreground 16450, N  background 0,unable to generate class balanced samples.\n",
      "N foreground 15838, N  background 0,unable to generate class balanced samples.\n",
      "N foreground 10533, N  background 0,unable to generate class balanced samples.\n",
      "N foreground 14262, N  background 0,unable to generate class balanced samples.\n",
      "N foreground 12122, N  background 0,unable to generate class balanced samples.\n",
      "N foreground 19210, N  background 0,unable to generate class balanced samples.\n",
      "N foreground 16115, N  background 0,unable to generate class balanced samples.\n",
      "N foreground 13138, N  background 0,unable to generate class balanced samples.\n",
      "N foreground 16388, N  background 0,unable to generate class balanced samples.\n",
      "N foreground 17716, N  background 0,unable to generate class balanced samples.\n",
      "N foreground 10474, N  background 0,unable to generate class balanced samples.\n",
      "N foreground 17097, N  background 0,unable to generate class balanced samples.\n",
      "N foreground 13958, N  background 0,unable to generate class balanced samples.\n",
      "N foreground 22593, N  background 0,unable to generate class balanced samples.\n",
      "N foreground 14230, N  background 0,unable to generate class balanced samples.\n",
      "N foreground 14809, N  background 0,unable to generate class balanced samples.\n",
      "N foreground 8935, N  background 0,unable to generate class balanced samples.\n",
      "N foreground 15909, N  background 0,unable to generate class balanced samples.\n"
     ]
    },
    {
     "name": "stdout",
     "output_type": "stream",
     "text": [
      "1/13, train_loss: 0.1212\n",
      "2/13, train_loss: 0.1353\n",
      "3/13, train_loss: 0.1129\n",
      "4/13, train_loss: 0.1306\n",
      "5/13, train_loss: 0.1275\n",
      "6/13, train_loss: 0.1318\n",
      "7/13, train_loss: 0.1187\n",
      "8/13, train_loss: 0.1286\n",
      "9/13, train_loss: 0.1259\n",
      "10/13, train_loss: 0.1070\n",
      "11/13, train_loss: 0.1455\n",
      "12/13, train_loss: 0.1340\n",
      "13/13, train_loss: 0.1349\n",
      "epoch 110 average loss: 0.1272\n"
     ]
    },
    {
     "name": "stderr",
     "output_type": "stream",
     "text": [
      "N foreground 18264, N  background 0,unable to generate class balanced samples.\n",
      "N foreground 13981, N  background 0,unable to generate class balanced samples.\n",
      "N foreground 16021, N  background 0,unable to generate class balanced samples.\n",
      "N foreground 14351, N  background 0,unable to generate class balanced samples.\n",
      "N foreground 14149, N  background 0,unable to generate class balanced samples.\n",
      "N foreground 13080, N  background 0,unable to generate class balanced samples.\n",
      "N foreground 10539, N  background 0,unable to generate class balanced samples.\n",
      "N foreground 14458, N  background 0,unable to generate class balanced samples.\n",
      "N foreground 14199, N  background 0,unable to generate class balanced samples.\n"
     ]
    },
    {
     "name": "stdout",
     "output_type": "stream",
     "text": [
      "current epoch: 110 current mean dice: 0.8884\n",
      "best mean dice: 0.8889at epoch: 108\n",
      "----------\n",
      "epoch 111/150\n"
     ]
    },
    {
     "name": "stderr",
     "output_type": "stream",
     "text": [
      "N foreground 15184, N  background 0,unable to generate class balanced samples.\n",
      "N foreground 16450, N  background 0,unable to generate class balanced samples.\n",
      "N foreground 8935, N  background 0,unable to generate class balanced samples.\n",
      "N foreground 10474, N  background 0,unable to generate class balanced samples.\n",
      "N foreground 16438, N  background 0,unable to generate class balanced samples.\n",
      "N foreground 15619, N  background 0,unable to generate class balanced samples.\n",
      "N foreground 16388, N  background 0,unable to generate class balanced samples.\n",
      "N foreground 17716, N  background 0,unable to generate class balanced samples.\n",
      "N foreground 14317, N  background 0,unable to generate class balanced samples.\n",
      "N foreground 17097, N  background 0,unable to generate class balanced samples.\n",
      "N foreground 16115, N  background 0,unable to generate class balanced samples.\n",
      "N foreground 12122, N  background 0,unable to generate class balanced samples.\n",
      "N foreground 10992, N  background 0,unable to generate class balanced samples.\n",
      "N foreground 19210, N  background 0,unable to generate class balanced samples.\n",
      "N foreground 13138, N  background 0,unable to generate class balanced samples.\n",
      "N foreground 15909, N  background 0,unable to generate class balanced samples.\n",
      "N foreground 22593, N  background 0,unable to generate class balanced samples.\n",
      "N foreground 15838, N  background 0,unable to generate class balanced samples.\n",
      "N foreground 14230, N  background 0,unable to generate class balanced samples.\n",
      "N foreground 16682, N  background 0,unable to generate class balanced samples.\n",
      "N foreground 13958, N  background 0,unable to generate class balanced samples.\n",
      "N foreground 13809, N  background 0,unable to generate class balanced samples.\n",
      "N foreground 14809, N  background 0,unable to generate class balanced samples.\n",
      "N foreground 10533, N  background 0,unable to generate class balanced samples.\n",
      "N foreground 13064, N  background 0,unable to generate class balanced samples.\n",
      "N foreground 14262, N  background 0,unable to generate class balanced samples.\n"
     ]
    },
    {
     "name": "stdout",
     "output_type": "stream",
     "text": [
      "1/13, train_loss: 0.1218\n",
      "2/13, train_loss: 0.1283\n",
      "3/13, train_loss: 0.1226\n",
      "4/13, train_loss: 0.1355\n",
      "5/13, train_loss: 0.1298\n",
      "6/13, train_loss: 0.1286\n",
      "7/13, train_loss: 0.1465\n",
      "8/13, train_loss: 0.1168\n",
      "9/13, train_loss: 0.1314\n",
      "10/13, train_loss: 0.1227\n",
      "11/13, train_loss: 0.1279\n",
      "12/13, train_loss: 0.1237\n",
      "13/13, train_loss: 0.1236\n",
      "epoch 111 average loss: 0.1276\n"
     ]
    },
    {
     "name": "stderr",
     "output_type": "stream",
     "text": [
      "N foreground 13981, N  background 0,unable to generate class balanced samples.\n",
      "N foreground 14149, N  background 0,unable to generate class balanced samples.\n",
      "N foreground 16021, N  background 0,unable to generate class balanced samples.\n",
      "N foreground 14351, N  background 0,unable to generate class balanced samples.\n",
      "N foreground 10539, N  background 0,unable to generate class balanced samples.\n",
      "N foreground 13080, N  background 0,unable to generate class balanced samples.\n",
      "N foreground 18264, N  background 0,unable to generate class balanced samples.\n",
      "N foreground 14458, N  background 0,unable to generate class balanced samples.\n",
      "N foreground 14199, N  background 0,unable to generate class balanced samples.\n"
     ]
    },
    {
     "name": "stdout",
     "output_type": "stream",
     "text": [
      "current epoch: 111 current mean dice: 0.8884\n",
      "best mean dice: 0.8889at epoch: 108\n",
      "----------\n",
      "epoch 112/150\n"
     ]
    },
    {
     "name": "stderr",
     "output_type": "stream",
     "text": [
      "N foreground 8935, N  background 0,unable to generate class balanced samples.\n",
      "N foreground 13064, N  background 0,unable to generate class balanced samples.\n",
      "N foreground 17097, N  background 0,unable to generate class balanced samples.\n",
      "N foreground 12122, N  background 0,unable to generate class balanced samples.\n",
      "N foreground 14230, N  background 0,unable to generate class balanced samples.\n",
      "N foreground 15619, N  background 0,unable to generate class balanced samples.\n",
      "N foreground 15184, N  background 0,unable to generate class balanced samples.\n",
      "N foreground 16388, N  background 0,unable to generate class balanced samples.\n",
      "N foreground 16115, N  background 0,unable to generate class balanced samples.\n",
      "N foreground 16450, N  background 0,unable to generate class balanced samples.\n",
      "N foreground 10533, N  background 0,unable to generate class balanced samples.\n",
      "N foreground 10992, N  background 0,unable to generate class balanced samples.\n",
      "N foreground 16438, N  background 0,unable to generate class balanced samples.\n",
      "N foreground 14809, N  background 0,unable to generate class balanced samples.\n",
      "N foreground 22593, N  background 0,unable to generate class balanced samples.\n",
      "N foreground 10474, N  background 0,unable to generate class balanced samples.\n",
      "N foreground 16682, N  background 0,unable to generate class balanced samples.\n",
      "N foreground 14262, N  background 0,unable to generate class balanced samples.\n",
      "N foreground 13809, N  background 0,unable to generate class balanced samples.\n",
      "N foreground 13958, N  background 0,unable to generate class balanced samples.\n",
      "N foreground 13138, N  background 0,unable to generate class balanced samples.\n",
      "N foreground 19210, N  background 0,unable to generate class balanced samples.\n",
      "N foreground 14317, N  background 0,unable to generate class balanced samples.\n",
      "N foreground 15838, N  background 0,unable to generate class balanced samples.\n",
      "N foreground 17716, N  background 0,unable to generate class balanced samples.\n",
      "N foreground 15909, N  background 0,unable to generate class balanced samples.\n"
     ]
    },
    {
     "name": "stdout",
     "output_type": "stream",
     "text": [
      "1/13, train_loss: 0.1253\n",
      "2/13, train_loss: 0.1284\n",
      "3/13, train_loss: 0.1344\n",
      "4/13, train_loss: 0.1381\n",
      "5/13, train_loss: 0.1218\n",
      "6/13, train_loss: 0.1264\n",
      "7/13, train_loss: 0.1208\n",
      "8/13, train_loss: 0.1352\n",
      "9/13, train_loss: 0.1328\n",
      "10/13, train_loss: 0.1126\n",
      "11/13, train_loss: 0.1158\n",
      "12/13, train_loss: 0.1216\n",
      "13/13, train_loss: 0.1351\n",
      "epoch 112 average loss: 0.1268\n"
     ]
    },
    {
     "name": "stderr",
     "output_type": "stream",
     "text": [
      "N foreground 10539, N  background 0,unable to generate class balanced samples.\n",
      "N foreground 14149, N  background 0,unable to generate class balanced samples.\n",
      "N foreground 13981, N  background 0,unable to generate class balanced samples.\n",
      "N foreground 16021, N  background 0,unable to generate class balanced samples.\n",
      "N foreground 18264, N  background 0,unable to generate class balanced samples.\n",
      "N foreground 13080, N  background 0,unable to generate class balanced samples.\n",
      "N foreground 14351, N  background 0,unable to generate class balanced samples.\n",
      "N foreground 14458, N  background 0,unable to generate class balanced samples.\n",
      "N foreground 14199, N  background 0,unable to generate class balanced samples.\n"
     ]
    },
    {
     "name": "stdout",
     "output_type": "stream",
     "text": [
      "saved new best metric model\n",
      "current epoch: 112 current mean dice: 0.8913\n",
      "best mean dice: 0.8913at epoch: 112\n",
      "----------\n",
      "epoch 113/150\n"
     ]
    },
    {
     "name": "stderr",
     "output_type": "stream",
     "text": [
      "N foreground 12122, N  background 0,unable to generate class balanced samples.\n",
      "N foreground 10533, N  background 0,unable to generate class balanced samples.\n",
      "N foreground 14262, N  background 0,unable to generate class balanced samples.\n",
      "N foreground 22593, N  background 0,unable to generate class balanced samples.\n",
      "N foreground 15838, N  background 0,unable to generate class balanced samples.\n",
      "N foreground 14809, N  background 0,unable to generate class balanced samples.\n",
      "N foreground 13138, N  background 0,unable to generate class balanced samples.\n",
      "N foreground 15909, N  background 0,unable to generate class balanced samples.\n",
      "N foreground 15184, N  background 0,unable to generate class balanced samples.\n",
      "N foreground 8935, N  background 0,unable to generate class balanced samples.\n",
      "N foreground 13958, N  background 0,unable to generate class balanced samples.\n",
      "N foreground 13809, N  background 0,unable to generate class balanced samples.\n",
      "N foreground 10992, N  background 0,unable to generate class balanced samples.\n",
      "N foreground 16438, N  background 0,unable to generate class balanced samples.\n",
      "N foreground 16450, N  background 0,unable to generate class balanced samples.\n",
      "N foreground 17716, N  background 0,unable to generate class balanced samples.\n",
      "N foreground 17097, N  background 0,unable to generate class balanced samples.\n",
      "N foreground 14230, N  background 0,unable to generate class balanced samples.\n",
      "N foreground 10474, N  background 0,unable to generate class balanced samples.\n",
      "N foreground 16388, N  background 0,unable to generate class balanced samples.\n",
      "N foreground 15619, N  background 0,unable to generate class balanced samples.\n",
      "N foreground 13064, N  background 0,unable to generate class balanced samples.\n",
      "N foreground 14317, N  background 0,unable to generate class balanced samples.\n",
      "N foreground 16682, N  background 0,unable to generate class balanced samples.\n",
      "N foreground 16115, N  background 0,unable to generate class balanced samples.\n",
      "N foreground 19210, N  background 0,unable to generate class balanced samples.\n"
     ]
    },
    {
     "name": "stdout",
     "output_type": "stream",
     "text": [
      "1/13, train_loss: 0.1264\n",
      "2/13, train_loss: 0.1263\n",
      "3/13, train_loss: 0.1270\n",
      "4/13, train_loss: 0.1197\n",
      "5/13, train_loss: 0.1212\n",
      "6/13, train_loss: 0.1207\n",
      "7/13, train_loss: 0.1245\n",
      "8/13, train_loss: 0.1151\n",
      "9/13, train_loss: 0.1239\n",
      "10/13, train_loss: 0.1217\n",
      "11/13, train_loss: 0.1297\n",
      "12/13, train_loss: 0.1427\n",
      "13/13, train_loss: 0.1351\n",
      "epoch 113 average loss: 0.1257\n"
     ]
    },
    {
     "name": "stderr",
     "output_type": "stream",
     "text": [
      "N foreground 14149, N  background 0,unable to generate class balanced samples.\n",
      "N foreground 16021, N  background 0,unable to generate class balanced samples.\n",
      "N foreground 13981, N  background 0,unable to generate class balanced samples.\n",
      "N foreground 13080, N  background 0,unable to generate class balanced samples.\n",
      "N foreground 10539, N  background 0,unable to generate class balanced samples.\n",
      "N foreground 14351, N  background 0,unable to generate class balanced samples.\n",
      "N foreground 18264, N  background 0,unable to generate class balanced samples.\n",
      "N foreground 14458, N  background 0,unable to generate class balanced samples.\n",
      "N foreground 14199, N  background 0,unable to generate class balanced samples.\n"
     ]
    },
    {
     "name": "stdout",
     "output_type": "stream",
     "text": [
      "current epoch: 113 current mean dice: 0.8891\n",
      "best mean dice: 0.8913at epoch: 112\n",
      "----------\n",
      "epoch 114/150\n"
     ]
    },
    {
     "name": "stderr",
     "output_type": "stream",
     "text": [
      "N foreground 14809, N  background 0,unable to generate class balanced samples.\n",
      "N foreground 17716, N  background 0,unable to generate class balanced samples.\n",
      "N foreground 14230, N  background 0,unable to generate class balanced samples.\n",
      "N foreground 15909, N  background 0,unable to generate class balanced samples.\n",
      "N foreground 13809, N  background 0,unable to generate class balanced samples.\n",
      "N foreground 10992, N  background 0,unable to generate class balanced samples.\n",
      "N foreground 22593, N  background 0,unable to generate class balanced samples.\n",
      "N foreground 15838, N  background 0,unable to generate class balanced samples.\n",
      "N foreground 16682, N  background 0,unable to generate class balanced samples.\n",
      "N foreground 16388, N  background 0,unable to generate class balanced samples.\n",
      "N foreground 13138, N  background 0,unable to generate class balanced samples.\n",
      "N foreground 13064, N  background 0,unable to generate class balanced samples.\n",
      "N foreground 17097, N  background 0,unable to generate class balanced samples.\n",
      "N foreground 16115, N  background 0,unable to generate class balanced samples.\n",
      "N foreground 8935, N  background 0,unable to generate class balanced samples.\n",
      "N foreground 16450, N  background 0,unable to generate class balanced samples.\n",
      "N foreground 15619, N  background 0,unable to generate class balanced samples.\n",
      "N foreground 10474, N  background 0,unable to generate class balanced samples.\n",
      "N foreground 19210, N  background 0,unable to generate class balanced samples.\n",
      "N foreground 13958, N  background 0,unable to generate class balanced samples.\n",
      "N foreground 14262, N  background 0,unable to generate class balanced samples.\n",
      "N foreground 16438, N  background 0,unable to generate class balanced samples.\n",
      "N foreground 15184, N  background 0,unable to generate class balanced samples.\n",
      "N foreground 10533, N  background 0,unable to generate class balanced samples.\n",
      "N foreground 14317, N  background 0,unable to generate class balanced samples.\n",
      "N foreground 12122, N  background 0,unable to generate class balanced samples.\n"
     ]
    },
    {
     "name": "stdout",
     "output_type": "stream",
     "text": [
      "1/13, train_loss: 0.1195\n",
      "2/13, train_loss: 0.1136\n",
      "3/13, train_loss: 0.1318\n",
      "4/13, train_loss: 0.1197\n",
      "5/13, train_loss: 0.1253\n",
      "6/13, train_loss: 0.1219\n",
      "7/13, train_loss: 0.1300\n",
      "8/13, train_loss: 0.1196\n",
      "9/13, train_loss: 0.1242\n",
      "10/13, train_loss: 0.1387\n",
      "11/13, train_loss: 0.1145\n",
      "12/13, train_loss: 0.1174\n",
      "13/13, train_loss: 0.1361\n",
      "epoch 114 average loss: 0.1240\n"
     ]
    },
    {
     "name": "stderr",
     "output_type": "stream",
     "text": [
      "N foreground 14149, N  background 0,unable to generate class balanced samples.\n",
      "N foreground 10539, N  background 0,unable to generate class balanced samples.\n",
      "N foreground 13981, N  background 0,unable to generate class balanced samples.\n",
      "N foreground 13080, N  background 0,unable to generate class balanced samples.\n",
      "N foreground 16021, N  background 0,unable to generate class balanced samples.\n",
      "N foreground 14351, N  background 0,unable to generate class balanced samples.\n",
      "N foreground 18264, N  background 0,unable to generate class balanced samples.\n",
      "N foreground 14458, N  background 0,unable to generate class balanced samples.\n",
      "N foreground 14199, N  background 0,unable to generate class balanced samples.\n"
     ]
    },
    {
     "name": "stdout",
     "output_type": "stream",
     "text": [
      "saved new best metric model\n",
      "current epoch: 114 current mean dice: 0.8948\n",
      "best mean dice: 0.8948at epoch: 114\n",
      "----------\n",
      "epoch 115/150\n"
     ]
    },
    {
     "name": "stderr",
     "output_type": "stream",
     "text": [
      "N foreground 15838, N  background 0,unable to generate class balanced samples.\n",
      "N foreground 16682, N  background 0,unable to generate class balanced samples.\n",
      "N foreground 16438, N  background 0,unable to generate class balanced samples.\n",
      "N foreground 15619, N  background 0,unable to generate class balanced samples.\n",
      "N foreground 16450, N  background 0,unable to generate class balanced samples.\n",
      "N foreground 13809, N  background 0,unable to generate class balanced samples.\n",
      "N foreground 19210, N  background 0,unable to generate class balanced samples.\n",
      "N foreground 17716, N  background 0,unable to generate class balanced samples.\n",
      "N foreground 13138, N  background 0,unable to generate class balanced samples.\n",
      "N foreground 14809, N  background 0,unable to generate class balanced samples.\n",
      "N foreground 10992, N  background 0,unable to generate class balanced samples.\n",
      "N foreground 17097, N  background 0,unable to generate class balanced samples.\n",
      "N foreground 22593, N  background 0,unable to generate class balanced samples.\n",
      "N foreground 14230, N  background 0,unable to generate class balanced samples.\n",
      "N foreground 16388, N  background 0,unable to generate class balanced samples.\n",
      "N foreground 14262, N  background 0,unable to generate class balanced samples.\n",
      "N foreground 10474, N  background 0,unable to generate class balanced samples.\n",
      "N foreground 12122, N  background 0,unable to generate class balanced samples.\n",
      "N foreground 15909, N  background 0,unable to generate class balanced samples.\n",
      "N foreground 13064, N  background 0,unable to generate class balanced samples.\n",
      "N foreground 8935, N  background 0,unable to generate class balanced samples.\n",
      "N foreground 15184, N  background 0,unable to generate class balanced samples.\n",
      "N foreground 14317, N  background 0,unable to generate class balanced samples.\n",
      "N foreground 10533, N  background 0,unable to generate class balanced samples.\n",
      "N foreground 13958, N  background 0,unable to generate class balanced samples.\n",
      "N foreground 16115, N  background 0,unable to generate class balanced samples.\n"
     ]
    },
    {
     "name": "stdout",
     "output_type": "stream",
     "text": [
      "1/13, train_loss: 0.1282\n",
      "2/13, train_loss: 0.1260\n",
      "3/13, train_loss: 0.1150\n",
      "4/13, train_loss: 0.1168\n",
      "5/13, train_loss: 0.1194\n",
      "6/13, train_loss: 0.1144\n",
      "7/13, train_loss: 0.1244\n",
      "8/13, train_loss: 0.1119\n",
      "9/13, train_loss: 0.1351\n",
      "10/13, train_loss: 0.1281\n",
      "11/13, train_loss: 0.1398\n",
      "12/13, train_loss: 0.1353\n",
      "13/13, train_loss: 0.1318\n",
      "epoch 115 average loss: 0.1251\n"
     ]
    },
    {
     "name": "stderr",
     "output_type": "stream",
     "text": [
      "N foreground 13080, N  background 0,unable to generate class balanced samples.\n",
      "N foreground 13981, N  background 0,unable to generate class balanced samples.\n",
      "N foreground 16021, N  background 0,unable to generate class balanced samples.\n",
      "N foreground 10539, N  background 0,unable to generate class balanced samples.\n",
      "N foreground 14149, N  background 0,unable to generate class balanced samples.\n",
      "N foreground 14351, N  background 0,unable to generate class balanced samples.\n",
      "N foreground 18264, N  background 0,unable to generate class balanced samples.\n",
      "N foreground 14458, N  background 0,unable to generate class balanced samples.\n",
      "N foreground 14199, N  background 0,unable to generate class balanced samples.\n"
     ]
    },
    {
     "name": "stdout",
     "output_type": "stream",
     "text": [
      "current epoch: 115 current mean dice: 0.8914\n",
      "best mean dice: 0.8948at epoch: 114\n",
      "----------\n",
      "epoch 116/150\n"
     ]
    },
    {
     "name": "stderr",
     "output_type": "stream",
     "text": [
      "N foreground 15184, N  background 0,unable to generate class balanced samples.\n",
      "N foreground 14262, N  background 0,unable to generate class balanced samples.\n",
      "N foreground 16388, N  background 0,unable to generate class balanced samples.\n",
      "N foreground 16450, N  background 0,unable to generate class balanced samples.\n",
      "N foreground 22593, N  background 0,unable to generate class balanced samples.\n",
      "N foreground 16682, N  background 0,unable to generate class balanced samples.\n",
      "N foreground 17097, N  background 0,unable to generate class balanced samples.\n",
      "N foreground 15838, N  background 0,unable to generate class balanced samples.\n",
      "N foreground 17716, N  background 0,unable to generate class balanced samples.\n",
      "N foreground 8935, N  background 0,unable to generate class balanced samples.\n",
      "N foreground 19210, N  background 0,unable to generate class balanced samples.\n",
      "N foreground 16115, N  background 0,unable to generate class balanced samples.\n",
      "N foreground 13138, N  background 0,unable to generate class balanced samples.\n",
      "N foreground 12122, N  background 0,unable to generate class balanced samples.\n",
      "N foreground 10992, N  background 0,unable to generate class balanced samples.\n",
      "N foreground 14230, N  background 0,unable to generate class balanced samples.\n",
      "N foreground 13064, N  background 0,unable to generate class balanced samples.\n",
      "N foreground 15909, N  background 0,unable to generate class balanced samples.\n",
      "N foreground 14317, N  background 0,unable to generate class balanced samples.\n",
      "N foreground 10533, N  background 0,unable to generate class balanced samples.\n",
      "N foreground 13809, N  background 0,unable to generate class balanced samples.\n",
      "N foreground 15619, N  background 0,unable to generate class balanced samples.\n",
      "N foreground 16438, N  background 0,unable to generate class balanced samples.\n",
      "N foreground 14809, N  background 0,unable to generate class balanced samples.\n",
      "N foreground 10474, N  background 0,unable to generate class balanced samples.\n",
      "N foreground 13958, N  background 0,unable to generate class balanced samples.\n"
     ]
    },
    {
     "name": "stdout",
     "output_type": "stream",
     "text": [
      "1/13, train_loss: 0.1206\n",
      "2/13, train_loss: 0.1118\n",
      "3/13, train_loss: 0.1248\n",
      "4/13, train_loss: 0.1262\n",
      "5/13, train_loss: 0.1358\n",
      "6/13, train_loss: 0.1137\n",
      "7/13, train_loss: 0.1232\n",
      "8/13, train_loss: 0.1252\n",
      "9/13, train_loss: 0.1292\n",
      "10/13, train_loss: 0.1453\n",
      "11/13, train_loss: 0.1195\n",
      "12/13, train_loss: 0.1339\n",
      "13/13, train_loss: 0.1200\n",
      "epoch 116 average loss: 0.1253\n"
     ]
    },
    {
     "name": "stderr",
     "output_type": "stream",
     "text": [
      "N foreground 13080, N  background 0,unable to generate class balanced samples.\n",
      "N foreground 10539, N  background 0,unable to generate class balanced samples.\n",
      "N foreground 16021, N  background 0,unable to generate class balanced samples.\n",
      "N foreground 13981, N  background 0,unable to generate class balanced samples.\n",
      "N foreground 18264, N  background 0,unable to generate class balanced samples.\n",
      "N foreground 14351, N  background 0,unable to generate class balanced samples.\n",
      "N foreground 14149, N  background 0,unable to generate class balanced samples.\n",
      "N foreground 14458, N  background 0,unable to generate class balanced samples.\n",
      "N foreground 14199, N  background 0,unable to generate class balanced samples.\n"
     ]
    },
    {
     "name": "stdout",
     "output_type": "stream",
     "text": [
      "saved new best metric model\n",
      "current epoch: 116 current mean dice: 0.8965\n",
      "best mean dice: 0.8965at epoch: 116\n",
      "----------\n",
      "epoch 117/150\n"
     ]
    },
    {
     "name": "stderr",
     "output_type": "stream",
     "text": [
      "N foreground 13958, N  background 0,unable to generate class balanced samples.\n",
      "N foreground 15838, N  background 0,unable to generate class balanced samples.\n",
      "N foreground 19210, N  background 0,unable to generate class balanced samples.\n",
      "N foreground 15184, N  background 0,unable to generate class balanced samples.\n",
      "N foreground 13064, N  background 0,unable to generate class balanced samples.\n",
      "N foreground 14262, N  background 0,unable to generate class balanced samples.\n",
      "N foreground 16388, N  background 0,unable to generate class balanced samples.\n",
      "N foreground 16682, N  background 0,unable to generate class balanced samples.\n",
      "N foreground 17716, N  background 0,unable to generate class balanced samples.\n",
      "N foreground 16450, N  background 0,unable to generate class balanced samples.\n",
      "N foreground 14230, N  background 0,unable to generate class balanced samples.\n",
      "N foreground 15909, N  background 0,unable to generate class balanced samples.\n",
      "N foreground 10533, N  background 0,unable to generate class balanced samples.\n",
      "N foreground 16115, N  background 0,unable to generate class balanced samples.\n",
      "N foreground 10992, N  background 0,unable to generate class balanced samples.\n",
      "N foreground 16438, N  background 0,unable to generate class balanced samples.\n",
      "N foreground 12122, N  background 0,unable to generate class balanced samples.\n",
      "N foreground 22593, N  background 0,unable to generate class balanced samples.\n",
      "N foreground 15619, N  background 0,unable to generate class balanced samples.\n",
      "N foreground 10474, N  background 0,unable to generate class balanced samples.\n",
      "N foreground 14317, N  background 0,unable to generate class balanced samples.\n",
      "N foreground 14809, N  background 0,unable to generate class balanced samples.\n",
      "N foreground 8935, N  background 0,unable to generate class balanced samples.\n",
      "N foreground 17097, N  background 0,unable to generate class balanced samples.\n",
      "N foreground 13809, N  background 0,unable to generate class balanced samples.\n",
      "N foreground 13138, N  background 0,unable to generate class balanced samples.\n"
     ]
    },
    {
     "name": "stdout",
     "output_type": "stream",
     "text": [
      "1/13, train_loss: 0.1324\n",
      "2/13, train_loss: 0.1311\n",
      "3/13, train_loss: 0.1181\n",
      "4/13, train_loss: 0.1403\n",
      "5/13, train_loss: 0.1213\n",
      "6/13, train_loss: 0.1099\n",
      "7/13, train_loss: 0.1268\n",
      "8/13, train_loss: 0.1237\n",
      "9/13, train_loss: 0.1365\n",
      "10/13, train_loss: 0.1284\n",
      "11/13, train_loss: 0.1108\n",
      "12/13, train_loss: 0.1288\n",
      "13/13, train_loss: 0.1261\n",
      "epoch 117 average loss: 0.1257\n"
     ]
    },
    {
     "name": "stderr",
     "output_type": "stream",
     "text": [
      "N foreground 18264, N  background 0,unable to generate class balanced samples.\n",
      "N foreground 14351, N  background 0,unable to generate class balanced samples.\n",
      "N foreground 14149, N  background 0,unable to generate class balanced samples.\n",
      "N foreground 13080, N  background 0,unable to generate class balanced samples.\n",
      "N foreground 13981, N  background 0,unable to generate class balanced samples.\n",
      "N foreground 16021, N  background 0,unable to generate class balanced samples.\n",
      "N foreground 10539, N  background 0,unable to generate class balanced samples.\n",
      "N foreground 14458, N  background 0,unable to generate class balanced samples.\n",
      "N foreground 14199, N  background 0,unable to generate class balanced samples.\n"
     ]
    },
    {
     "name": "stdout",
     "output_type": "stream",
     "text": [
      "current epoch: 117 current mean dice: 0.8938\n",
      "best mean dice: 0.8965at epoch: 116\n",
      "----------\n",
      "epoch 118/150\n"
     ]
    },
    {
     "name": "stderr",
     "output_type": "stream",
     "text": [
      "N foreground 8935, N  background 0,unable to generate class balanced samples.\n",
      "N foreground 15184, N  background 0,unable to generate class balanced samples.\n",
      "N foreground 15838, N  background 0,unable to generate class balanced samples.\n",
      "N foreground 19210, N  background 0,unable to generate class balanced samples.\n",
      "N foreground 16450, N  background 0,unable to generate class balanced samples.\n",
      "N foreground 14230, N  background 0,unable to generate class balanced samples.\n",
      "N foreground 17097, N  background 0,unable to generate class balanced samples.\n",
      "N foreground 14317, N  background 0,unable to generate class balanced samples.\n",
      "N foreground 16438, N  background 0,unable to generate class balanced samples.\n",
      "N foreground 14809, N  background 0,unable to generate class balanced samples.\n",
      "N foreground 10992, N  background 0,unable to generate class balanced samples.\n",
      "N foreground 17716, N  background 0,unable to generate class balanced samples.\n",
      "N foreground 15619, N  background 0,unable to generate class balanced samples.\n",
      "N foreground 10474, N  background 0,unable to generate class balanced samples.\n",
      "N foreground 13138, N  background 0,unable to generate class balanced samples.\n",
      "N foreground 15909, N  background 0,unable to generate class balanced samples.\n",
      "N foreground 13958, N  background 0,unable to generate class balanced samples.\n",
      "N foreground 14262, N  background 0,unable to generate class balanced samples.\n",
      "N foreground 13064, N  background 0,unable to generate class balanced samples.\n",
      "N foreground 12122, N  background 0,unable to generate class balanced samples.\n",
      "N foreground 13809, N  background 0,unable to generate class balanced samples.\n",
      "N foreground 16388, N  background 0,unable to generate class balanced samples.\n",
      "N foreground 22593, N  background 0,unable to generate class balanced samples.\n",
      "N foreground 16682, N  background 0,unable to generate class balanced samples.\n",
      "N foreground 10533, N  background 0,unable to generate class balanced samples.\n",
      "N foreground 16115, N  background 0,unable to generate class balanced samples.\n"
     ]
    },
    {
     "name": "stdout",
     "output_type": "stream",
     "text": [
      "1/13, train_loss: 0.1174\n",
      "2/13, train_loss: 0.1276\n",
      "3/13, train_loss: 0.1345\n",
      "4/13, train_loss: 0.1108\n",
      "5/13, train_loss: 0.1177\n",
      "6/13, train_loss: 0.1209\n",
      "7/13, train_loss: 0.1256\n",
      "8/13, train_loss: 0.1292\n",
      "9/13, train_loss: 0.1318\n",
      "10/13, train_loss: 0.1255\n",
      "11/13, train_loss: 0.1231\n",
      "12/13, train_loss: 0.1044\n",
      "13/13, train_loss: 0.1285\n",
      "epoch 118 average loss: 0.1228\n"
     ]
    },
    {
     "name": "stderr",
     "output_type": "stream",
     "text": [
      "N foreground 13080, N  background 0,unable to generate class balanced samples.\n",
      "N foreground 16021, N  background 0,unable to generate class balanced samples.\n",
      "N foreground 18264, N  background 0,unable to generate class balanced samples.\n",
      "N foreground 13981, N  background 0,unable to generate class balanced samples.\n",
      "N foreground 10539, N  background 0,unable to generate class balanced samples.\n",
      "N foreground 14149, N  background 0,unable to generate class balanced samples.\n",
      "N foreground 14351, N  background 0,unable to generate class balanced samples.\n",
      "N foreground 14458, N  background 0,unable to generate class balanced samples.\n",
      "N foreground 14199, N  background 0,unable to generate class balanced samples.\n"
     ]
    },
    {
     "name": "stdout",
     "output_type": "stream",
     "text": [
      "current epoch: 118 current mean dice: 0.8897\n",
      "best mean dice: 0.8965at epoch: 116\n",
      "----------\n",
      "epoch 119/150\n"
     ]
    },
    {
     "name": "stderr",
     "output_type": "stream",
     "text": [
      "N foreground 13138, N  background 0,unable to generate class balanced samples.\n",
      "N foreground 13809, N  background 0,unable to generate class balanced samples.\n",
      "N foreground 13958, N  background 0,unable to generate class balanced samples.\n",
      "N foreground 16438, N  background 0,unable to generate class balanced samples.\n",
      "N foreground 16682, N  background 0,unable to generate class balanced samples.\n",
      "N foreground 12122, N  background 0,unable to generate class balanced samples.\n",
      "N foreground 14809, N  background 0,unable to generate class balanced samples.\n",
      "N foreground 13064, N  background 0,unable to generate class balanced samples.\n",
      "N foreground 17097, N  background 0,unable to generate class balanced samples.\n",
      "N foreground 16115, N  background 0,unable to generate class balanced samples.\n",
      "N foreground 14262, N  background 0,unable to generate class balanced samples.\n",
      "N foreground 14317, N  background 0,unable to generate class balanced samples.\n",
      "N foreground 14230, N  background 0,unable to generate class balanced samples.\n",
      "N foreground 17716, N  background 0,unable to generate class balanced samples.\n",
      "N foreground 10992, N  background 0,unable to generate class balanced samples.\n",
      "N foreground 15838, N  background 0,unable to generate class balanced samples.\n",
      "N foreground 16388, N  background 0,unable to generate class balanced samples.\n",
      "N foreground 10474, N  background 0,unable to generate class balanced samples.\n",
      "N foreground 22593, N  background 0,unable to generate class balanced samples.\n",
      "N foreground 10533, N  background 0,unable to generate class balanced samples.\n",
      "N foreground 15909, N  background 0,unable to generate class balanced samples.\n",
      "N foreground 16450, N  background 0,unable to generate class balanced samples.\n",
      "N foreground 19210, N  background 0,unable to generate class balanced samples.\n",
      "N foreground 8935, N  background 0,unable to generate class balanced samples.\n",
      "N foreground 15619, N  background 0,unable to generate class balanced samples.\n",
      "N foreground 15184, N  background 0,unable to generate class balanced samples.\n"
     ]
    },
    {
     "name": "stdout",
     "output_type": "stream",
     "text": [
      "1/13, train_loss: 0.1192\n",
      "2/13, train_loss: 0.1316\n",
      "3/13, train_loss: 0.1201\n",
      "4/13, train_loss: 0.1323\n",
      "5/13, train_loss: 0.1312\n",
      "6/13, train_loss: 0.1070\n",
      "7/13, train_loss: 0.1110\n",
      "8/13, train_loss: 0.1227\n",
      "9/13, train_loss: 0.1272\n",
      "10/13, train_loss: 0.1335\n",
      "11/13, train_loss: 0.1331\n",
      "12/13, train_loss: 0.1217\n",
      "13/13, train_loss: 0.1110\n",
      "epoch 119 average loss: 0.1232\n"
     ]
    },
    {
     "name": "stderr",
     "output_type": "stream",
     "text": [
      "N foreground 10539, N  background 0,unable to generate class balanced samples.\n",
      "N foreground 13080, N  background 0,unable to generate class balanced samples.\n",
      "N foreground 18264, N  background 0,unable to generate class balanced samples.\n",
      "N foreground 14149, N  background 0,unable to generate class balanced samples.\n",
      "N foreground 14351, N  background 0,unable to generate class balanced samples.\n",
      "N foreground 13981, N  background 0,unable to generate class balanced samples.\n",
      "N foreground 16021, N  background 0,unable to generate class balanced samples.\n",
      "N foreground 14458, N  background 0,unable to generate class balanced samples.\n",
      "N foreground 14199, N  background 0,unable to generate class balanced samples.\n"
     ]
    },
    {
     "name": "stdout",
     "output_type": "stream",
     "text": [
      "current epoch: 119 current mean dice: 0.8921\n",
      "best mean dice: 0.8965at epoch: 116\n",
      "----------\n",
      "epoch 120/150\n"
     ]
    },
    {
     "name": "stderr",
     "output_type": "stream",
     "text": [
      "N foreground 15838, N  background 0,unable to generate class balanced samples.\n",
      "N foreground 10474, N  background 0,unable to generate class balanced samples.\n",
      "N foreground 19210, N  background 0,unable to generate class balanced samples.\n",
      "N foreground 22593, N  background 0,unable to generate class balanced samples.\n",
      "N foreground 10992, N  background 0,unable to generate class balanced samples.\n",
      "N foreground 13138, N  background 0,unable to generate class balanced samples.\n",
      "N foreground 16388, N  background 0,unable to generate class balanced samples.\n",
      "N foreground 14317, N  background 0,unable to generate class balanced samples.\n",
      "N foreground 16115, N  background 0,unable to generate class balanced samples.\n",
      "N foreground 16438, N  background 0,unable to generate class balanced samples.\n",
      "N foreground 8935, N  background 0,unable to generate class balanced samples.\n",
      "N foreground 10533, N  background 0,unable to generate class balanced samples.\n",
      "N foreground 15909, N  background 0,unable to generate class balanced samples.\n",
      "N foreground 16450, N  background 0,unable to generate class balanced samples.\n",
      "N foreground 15619, N  background 0,unable to generate class balanced samples.\n",
      "N foreground 13809, N  background 0,unable to generate class balanced samples.\n",
      "N foreground 14262, N  background 0,unable to generate class balanced samples.\n",
      "N foreground 17716, N  background 0,unable to generate class balanced samples.\n",
      "N foreground 13958, N  background 0,unable to generate class balanced samples.\n",
      "N foreground 15184, N  background 0,unable to generate class balanced samples.\n",
      "N foreground 14230, N  background 0,unable to generate class balanced samples.\n",
      "N foreground 17097, N  background 0,unable to generate class balanced samples.\n",
      "N foreground 13064, N  background 0,unable to generate class balanced samples.\n",
      "N foreground 12122, N  background 0,unable to generate class balanced samples.\n",
      "N foreground 14809, N  background 0,unable to generate class balanced samples.\n",
      "N foreground 16682, N  background 0,unable to generate class balanced samples.\n"
     ]
    },
    {
     "name": "stdout",
     "output_type": "stream",
     "text": [
      "1/13, train_loss: 0.1271\n",
      "2/13, train_loss: 0.1358\n",
      "3/13, train_loss: 0.1218\n",
      "4/13, train_loss: 0.1157\n",
      "5/13, train_loss: 0.1223\n",
      "6/13, train_loss: 0.1234\n",
      "7/13, train_loss: 0.1229\n",
      "8/13, train_loss: 0.1201\n",
      "9/13, train_loss: 0.1297\n",
      "10/13, train_loss: 0.1124\n",
      "11/13, train_loss: 0.1265\n",
      "12/13, train_loss: 0.1125\n",
      "13/13, train_loss: 0.1184\n",
      "epoch 120 average loss: 0.1222\n"
     ]
    },
    {
     "name": "stderr",
     "output_type": "stream",
     "text": [
      "N foreground 13981, N  background 0,unable to generate class balanced samples.\n",
      "N foreground 10539, N  background 0,unable to generate class balanced samples.\n",
      "N foreground 16021, N  background 0,unable to generate class balanced samples.\n",
      "N foreground 14149, N  background 0,unable to generate class balanced samples.\n",
      "N foreground 13080, N  background 0,unable to generate class balanced samples.\n",
      "N foreground 14351, N  background 0,unable to generate class balanced samples.\n",
      "N foreground 18264, N  background 0,unable to generate class balanced samples.\n",
      "N foreground 14458, N  background 0,unable to generate class balanced samples.\n",
      "N foreground 14199, N  background 0,unable to generate class balanced samples.\n"
     ]
    },
    {
     "name": "stdout",
     "output_type": "stream",
     "text": [
      "current epoch: 120 current mean dice: 0.8953\n",
      "best mean dice: 0.8965at epoch: 116\n",
      "----------\n",
      "epoch 121/150\n"
     ]
    },
    {
     "name": "stderr",
     "output_type": "stream",
     "text": [
      "N foreground 17716, N  background 0,unable to generate class balanced samples.\n",
      "N foreground 16438, N  background 0,unable to generate class balanced samples.\n",
      "N foreground 15184, N  background 0,unable to generate class balanced samples.\n",
      "N foreground 13958, N  background 0,unable to generate class balanced samples.\n",
      "N foreground 16682, N  background 0,unable to generate class balanced samples.\n",
      "N foreground 10533, N  background 0,unable to generate class balanced samples.\n",
      "N foreground 13809, N  background 0,unable to generate class balanced samples.\n",
      "N foreground 8935, N  background 0,unable to generate class balanced samples.\n",
      "N foreground 13064, N  background 0,unable to generate class balanced samples.\n",
      "N foreground 12122, N  background 0,unable to generate class balanced samples.\n",
      "N foreground 10474, N  background 0,unable to generate class balanced samples.\n",
      "N foreground 13138, N  background 0,unable to generate class balanced samples.\n",
      "N foreground 19210, N  background 0,unable to generate class balanced samples.\n",
      "N foreground 16115, N  background 0,unable to generate class balanced samples.\n",
      "N foreground 14262, N  background 0,unable to generate class balanced samples.\n",
      "N foreground 16388, N  background 0,unable to generate class balanced samples.\n",
      "N foreground 22593, N  background 0,unable to generate class balanced samples.\n",
      "N foreground 14230, N  background 0,unable to generate class balanced samples.\n",
      "N foreground 16450, N  background 0,unable to generate class balanced samples.\n",
      "N foreground 15619, N  background 0,unable to generate class balanced samples.\n",
      "N foreground 15838, N  background 0,unable to generate class balanced samples.\n",
      "N foreground 17097, N  background 0,unable to generate class balanced samples.\n",
      "N foreground 14809, N  background 0,unable to generate class balanced samples.\n",
      "N foreground 14317, N  background 0,unable to generate class balanced samples.\n",
      "N foreground 15909, N  background 0,unable to generate class balanced samples.\n",
      "N foreground 10992, N  background 0,unable to generate class balanced samples.\n"
     ]
    },
    {
     "name": "stdout",
     "output_type": "stream",
     "text": [
      "1/13, train_loss: 0.1228\n",
      "2/13, train_loss: 0.1149\n",
      "3/13, train_loss: 0.1344\n",
      "4/13, train_loss: 0.1087\n",
      "5/13, train_loss: 0.1176\n",
      "6/13, train_loss: 0.1294\n",
      "7/13, train_loss: 0.1290\n",
      "8/13, train_loss: 0.1208\n",
      "9/13, train_loss: 0.1217\n",
      "10/13, train_loss: 0.1272\n",
      "11/13, train_loss: 0.1270\n",
      "12/13, train_loss: 0.1143\n",
      "13/13, train_loss: 0.1157\n",
      "epoch 121 average loss: 0.1218\n"
     ]
    },
    {
     "name": "stderr",
     "output_type": "stream",
     "text": [
      "N foreground 14351, N  background 0,unable to generate class balanced samples.\n",
      "N foreground 10539, N  background 0,unable to generate class balanced samples.\n",
      "N foreground 18264, N  background 0,unable to generate class balanced samples.\n",
      "N foreground 13981, N  background 0,unable to generate class balanced samples.\n",
      "N foreground 16021, N  background 0,unable to generate class balanced samples.\n",
      "N foreground 14149, N  background 0,unable to generate class balanced samples.\n",
      "N foreground 13080, N  background 0,unable to generate class balanced samples.\n",
      "N foreground 14458, N  background 0,unable to generate class balanced samples.\n",
      "N foreground 14199, N  background 0,unable to generate class balanced samples.\n"
     ]
    },
    {
     "name": "stdout",
     "output_type": "stream",
     "text": [
      "current epoch: 121 current mean dice: 0.8846\n",
      "best mean dice: 0.8965at epoch: 116\n",
      "----------\n",
      "epoch 122/150\n"
     ]
    },
    {
     "name": "stderr",
     "output_type": "stream",
     "text": [
      "N foreground 13064, N  background 0,unable to generate class balanced samples.\n",
      "N foreground 10992, N  background 0,unable to generate class balanced samples.\n",
      "N foreground 14230, N  background 0,unable to generate class balanced samples.\n",
      "N foreground 13809, N  background 0,unable to generate class balanced samples.\n",
      "N foreground 16115, N  background 0,unable to generate class balanced samples.\n",
      "N foreground 16450, N  background 0,unable to generate class balanced samples.\n",
      "N foreground 17716, N  background 0,unable to generate class balanced samples.\n",
      "N foreground 14262, N  background 0,unable to generate class balanced samples.\n",
      "N foreground 12122, N  background 0,unable to generate class balanced samples.\n",
      "N foreground 8935, N  background 0,unable to generate class balanced samples.\n",
      "N foreground 16682, N  background 0,unable to generate class balanced samples.\n",
      "N foreground 13138, N  background 0,unable to generate class balanced samples.\n",
      "N foreground 14809, N  background 0,unable to generate class balanced samples.\n",
      "N foreground 16438, N  background 0,unable to generate class balanced samples.\n",
      "N foreground 15184, N  background 0,unable to generate class balanced samples.\n",
      "N foreground 10533, N  background 0,unable to generate class balanced samples.\n",
      "N foreground 10474, N  background 0,unable to generate class balanced samples.\n",
      "N foreground 13958, N  background 0,unable to generate class balanced samples.\n",
      "N foreground 19210, N  background 0,unable to generate class balanced samples.\n",
      "N foreground 15619, N  background 0,unable to generate class balanced samples.\n",
      "N foreground 22593, N  background 0,unable to generate class balanced samples.\n",
      "N foreground 15909, N  background 0,unable to generate class balanced samples.\n",
      "N foreground 16388, N  background 0,unable to generate class balanced samples.\n",
      "N foreground 17097, N  background 0,unable to generate class balanced samples.\n",
      "N foreground 15838, N  background 0,unable to generate class balanced samples.\n",
      "N foreground 14317, N  background 0,unable to generate class balanced samples.\n"
     ]
    },
    {
     "name": "stdout",
     "output_type": "stream",
     "text": [
      "1/13, train_loss: 0.1195\n",
      "2/13, train_loss: 0.1169\n",
      "3/13, train_loss: 0.1294\n",
      "4/13, train_loss: 0.1140\n",
      "5/13, train_loss: 0.1299\n",
      "6/13, train_loss: 0.1205\n",
      "7/13, train_loss: 0.1107\n",
      "8/13, train_loss: 0.1227\n",
      "9/13, train_loss: 0.1267\n",
      "10/13, train_loss: 0.1152\n",
      "11/13, train_loss: 0.1371\n",
      "12/13, train_loss: 0.1189\n",
      "13/13, train_loss: 0.1195\n",
      "epoch 122 average loss: 0.1216\n"
     ]
    },
    {
     "name": "stderr",
     "output_type": "stream",
     "text": [
      "N foreground 16021, N  background 0,unable to generate class balanced samples.\n",
      "N foreground 13981, N  background 0,unable to generate class balanced samples.\n",
      "N foreground 18264, N  background 0,unable to generate class balanced samples.\n",
      "N foreground 10539, N  background 0,unable to generate class balanced samples.\n",
      "N foreground 13080, N  background 0,unable to generate class balanced samples.\n",
      "N foreground 14351, N  background 0,unable to generate class balanced samples.\n",
      "N foreground 14149, N  background 0,unable to generate class balanced samples.\n",
      "N foreground 14458, N  background 0,unable to generate class balanced samples.\n",
      "N foreground 14199, N  background 0,unable to generate class balanced samples.\n"
     ]
    },
    {
     "name": "stdout",
     "output_type": "stream",
     "text": [
      "current epoch: 122 current mean dice: 0.8943\n",
      "best mean dice: 0.8965at epoch: 116\n",
      "----------\n",
      "epoch 123/150\n"
     ]
    },
    {
     "name": "stderr",
     "output_type": "stream",
     "text": [
      "N foreground 13809, N  background 0,unable to generate class balanced samples.\n",
      "N foreground 16450, N  background 0,unable to generate class balanced samples.\n",
      "N foreground 16115, N  background 0,unable to generate class balanced samples.\n",
      "N foreground 17097, N  background 0,unable to generate class balanced samples.\n",
      "N foreground 10533, N  background 0,unable to generate class balanced samples.\n",
      "N foreground 10992, N  background 0,unable to generate class balanced samples.\n",
      "N foreground 12122, N  background 0,unable to generate class balanced samples.\n",
      "N foreground 14317, N  background 0,unable to generate class balanced samples.\n",
      "N foreground 16682, N  background 0,unable to generate class balanced samples.\n",
      "N foreground 19210, N  background 0,unable to generate class balanced samples.\n",
      "N foreground 13138, N  background 0,unable to generate class balanced samples.\n",
      "N foreground 8935, N  background 0,unable to generate class balanced samples.\n",
      "N foreground 22593, N  background 0,unable to generate class balanced samples.\n",
      "N foreground 16388, N  background 0,unable to generate class balanced samples.\n",
      "N foreground 15838, N  background 0,unable to generate class balanced samples.\n",
      "N foreground 14262, N  background 0,unable to generate class balanced samples.\n",
      "N foreground 10474, N  background 0,unable to generate class balanced samples.\n",
      "N foreground 15909, N  background 0,unable to generate class balanced samples.\n",
      "N foreground 14230, N  background 0,unable to generate class balanced samples.\n",
      "N foreground 16438, N  background 0,unable to generate class balanced samples.\n",
      "N foreground 13064, N  background 0,unable to generate class balanced samples.\n",
      "N foreground 14809, N  background 0,unable to generate class balanced samples.\n",
      "N foreground 17716, N  background 0,unable to generate class balanced samples.\n",
      "N foreground 13958, N  background 0,unable to generate class balanced samples.\n",
      "N foreground 15619, N  background 0,unable to generate class balanced samples.\n",
      "N foreground 15184, N  background 0,unable to generate class balanced samples.\n"
     ]
    },
    {
     "name": "stdout",
     "output_type": "stream",
     "text": [
      "1/13, train_loss: 0.1245\n",
      "2/13, train_loss: 0.1025\n",
      "3/13, train_loss: 0.1225\n",
      "4/13, train_loss: 0.1163\n",
      "5/13, train_loss: 0.1224\n",
      "6/13, train_loss: 0.1246\n",
      "7/13, train_loss: 0.1172\n",
      "8/13, train_loss: 0.1130\n",
      "9/13, train_loss: 0.1224\n",
      "10/13, train_loss: 0.1106\n",
      "11/13, train_loss: 0.1070\n",
      "12/13, train_loss: 0.1294\n",
      "13/13, train_loss: 0.1298\n",
      "epoch 123 average loss: 0.1186\n"
     ]
    },
    {
     "name": "stderr",
     "output_type": "stream",
     "text": [
      "N foreground 14149, N  background 0,unable to generate class balanced samples.\n",
      "N foreground 18264, N  background 0,unable to generate class balanced samples.\n",
      "N foreground 14351, N  background 0,unable to generate class balanced samples.\n",
      "N foreground 13080, N  background 0,unable to generate class balanced samples.\n",
      "N foreground 10539, N  background 0,unable to generate class balanced samples.\n",
      "N foreground 13981, N  background 0,unable to generate class balanced samples.\n",
      "N foreground 16021, N  background 0,unable to generate class balanced samples.\n",
      "N foreground 14458, N  background 0,unable to generate class balanced samples.\n",
      "N foreground 14199, N  background 0,unable to generate class balanced samples.\n"
     ]
    },
    {
     "name": "stdout",
     "output_type": "stream",
     "text": [
      "saved new best metric model\n",
      "current epoch: 123 current mean dice: 0.9020\n",
      "best mean dice: 0.9020at epoch: 123\n",
      "----------\n",
      "epoch 124/150\n"
     ]
    },
    {
     "name": "stderr",
     "output_type": "stream",
     "text": [
      "N foreground 16115, N  background 0,unable to generate class balanced samples.\n",
      "N foreground 14262, N  background 0,unable to generate class balanced samples.\n",
      "N foreground 8935, N  background 0,unable to generate class balanced samples.\n",
      "N foreground 10533, N  background 0,unable to generate class balanced samples.\n",
      "N foreground 15909, N  background 0,unable to generate class balanced samples.\n",
      "N foreground 13138, N  background 0,unable to generate class balanced samples.\n",
      "N foreground 15838, N  background 0,unable to generate class balanced samples.\n",
      "N foreground 15184, N  background 0,unable to generate class balanced samples.\n",
      "N foreground 17097, N  background 0,unable to generate class balanced samples.\n",
      "N foreground 19210, N  background 0,unable to generate class balanced samples.\n",
      "N foreground 10992, N  background 0,unable to generate class balanced samples.\n",
      "N foreground 16450, N  background 0,unable to generate class balanced samples.\n",
      "N foreground 12122, N  background 0,unable to generate class balanced samples.\n",
      "N foreground 22593, N  background 0,unable to generate class balanced samples.\n",
      "N foreground 13809, N  background 0,unable to generate class balanced samples.\n",
      "N foreground 14317, N  background 0,unable to generate class balanced samples.\n",
      "N foreground 13064, N  background 0,unable to generate class balanced samples.\n",
      "N foreground 17716, N  background 0,unable to generate class balanced samples.\n",
      "N foreground 16438, N  background 0,unable to generate class balanced samples.\n",
      "N foreground 14230, N  background 0,unable to generate class balanced samples.\n",
      "N foreground 16682, N  background 0,unable to generate class balanced samples.\n",
      "N foreground 15619, N  background 0,unable to generate class balanced samples.\n",
      "N foreground 14809, N  background 0,unable to generate class balanced samples.\n",
      "N foreground 10474, N  background 0,unable to generate class balanced samples.\n",
      "N foreground 16388, N  background 0,unable to generate class balanced samples.\n",
      "N foreground 13958, N  background 0,unable to generate class balanced samples.\n"
     ]
    },
    {
     "name": "stdout",
     "output_type": "stream",
     "text": [
      "1/13, train_loss: 0.1142\n",
      "2/13, train_loss: 0.1253\n",
      "3/13, train_loss: 0.1138\n",
      "4/13, train_loss: 0.1107\n",
      "5/13, train_loss: 0.1247\n",
      "6/13, train_loss: 0.1230\n",
      "7/13, train_loss: 0.1233\n",
      "8/13, train_loss: 0.1282\n",
      "9/13, train_loss: 0.1192\n",
      "10/13, train_loss: 0.1129\n",
      "11/13, train_loss: 0.1280\n",
      "12/13, train_loss: 0.1276\n",
      "13/13, train_loss: 0.1155\n",
      "epoch 124 average loss: 0.1205\n"
     ]
    },
    {
     "name": "stderr",
     "output_type": "stream",
     "text": [
      "N foreground 18264, N  background 0,unable to generate class balanced samples.\n",
      "N foreground 16021, N  background 0,unable to generate class balanced samples.\n",
      "N foreground 13981, N  background 0,unable to generate class balanced samples.\n",
      "N foreground 13080, N  background 0,unable to generate class balanced samples.\n",
      "N foreground 10539, N  background 0,unable to generate class balanced samples.\n",
      "N foreground 14351, N  background 0,unable to generate class balanced samples.\n",
      "N foreground 14149, N  background 0,unable to generate class balanced samples.\n",
      "N foreground 14458, N  background 0,unable to generate class balanced samples.\n",
      "N foreground 14199, N  background 0,unable to generate class balanced samples.\n"
     ]
    },
    {
     "name": "stdout",
     "output_type": "stream",
     "text": [
      "current epoch: 124 current mean dice: 0.8985\n",
      "best mean dice: 0.9020at epoch: 123\n",
      "----------\n",
      "epoch 125/150\n"
     ]
    },
    {
     "name": "stderr",
     "output_type": "stream",
     "text": [
      "N foreground 15838, N  background 0,unable to generate class balanced samples.\n",
      "N foreground 16682, N  background 0,unable to generate class balanced samples.\n",
      "N foreground 10474, N  background 0,unable to generate class balanced samples.\n",
      "N foreground 13809, N  background 0,unable to generate class balanced samples.\n",
      "N foreground 16388, N  background 0,unable to generate class balanced samples.\n",
      "N foreground 10992, N  background 0,unable to generate class balanced samples.\n",
      "N foreground 14262, N  background 0,unable to generate class balanced samples.\n",
      "N foreground 10533, N  background 0,unable to generate class balanced samples.\n",
      "N foreground 14317, N  background 0,unable to generate class balanced samples.\n",
      "N foreground 15909, N  background 0,unable to generate class balanced samples.\n",
      "N foreground 14230, N  background 0,unable to generate class balanced samples.\n",
      "N foreground 13138, N  background 0,unable to generate class balanced samples.\n",
      "N foreground 12122, N  background 0,unable to generate class balanced samples.\n",
      "N foreground 8935, N  background 0,unable to generate class balanced samples.\n",
      "N foreground 13064, N  background 0,unable to generate class balanced samples.\n",
      "N foreground 17716, N  background 0,unable to generate class balanced samples.\n",
      "N foreground 15184, N  background 0,unable to generate class balanced samples.\n",
      "N foreground 16115, N  background 0,unable to generate class balanced samples.\n",
      "N foreground 14809, N  background 0,unable to generate class balanced samples.\n",
      "N foreground 15619, N  background 0,unable to generate class balanced samples.\n",
      "N foreground 13958, N  background 0,unable to generate class balanced samples.\n",
      "N foreground 17097, N  background 0,unable to generate class balanced samples.\n",
      "N foreground 22593, N  background 0,unable to generate class balanced samples.\n",
      "N foreground 19210, N  background 0,unable to generate class balanced samples.\n",
      "N foreground 16450, N  background 0,unable to generate class balanced samples.\n",
      "N foreground 16438, N  background 0,unable to generate class balanced samples.\n"
     ]
    },
    {
     "name": "stdout",
     "output_type": "stream",
     "text": [
      "1/13, train_loss: 0.1215\n",
      "2/13, train_loss: 0.1314\n",
      "3/13, train_loss: 0.1188\n",
      "4/13, train_loss: 0.1166\n",
      "5/13, train_loss: 0.1169\n",
      "6/13, train_loss: 0.1211\n",
      "7/13, train_loss: 0.1061\n",
      "8/13, train_loss: 0.1079\n",
      "9/13, train_loss: 0.1159\n",
      "10/13, train_loss: 0.1169\n",
      "11/13, train_loss: 0.1104\n",
      "12/13, train_loss: 0.1247\n",
      "13/13, train_loss: 0.1262\n",
      "epoch 125 average loss: 0.1180\n"
     ]
    },
    {
     "name": "stderr",
     "output_type": "stream",
     "text": [
      "N foreground 10539, N  background 0,unable to generate class balanced samples.\n",
      "N foreground 16021, N  background 0,unable to generate class balanced samples.\n",
      "N foreground 18264, N  background 0,unable to generate class balanced samples.\n",
      "N foreground 14351, N  background 0,unable to generate class balanced samples.\n",
      "N foreground 13981, N  background 0,unable to generate class balanced samples.\n",
      "N foreground 13080, N  background 0,unable to generate class balanced samples.\n",
      "N foreground 14458, N  background 0,unable to generate class balanced samples.\n",
      "N foreground 14149, N  background 0,unable to generate class balanced samples.\n",
      "N foreground 14199, N  background 0,unable to generate class balanced samples.\n"
     ]
    },
    {
     "name": "stdout",
     "output_type": "stream",
     "text": [
      "current epoch: 125 current mean dice: 0.8958\n",
      "best mean dice: 0.9020at epoch: 123\n",
      "----------\n",
      "epoch 126/150\n"
     ]
    },
    {
     "name": "stderr",
     "output_type": "stream",
     "text": [
      "N foreground 13809, N  background 0,unable to generate class balanced samples.\n",
      "N foreground 16682, N  background 0,unable to generate class balanced samples.\n",
      "N foreground 14230, N  background 0,unable to generate class balanced samples.\n",
      "N foreground 15838, N  background 0,unable to generate class balanced samples.\n",
      "N foreground 10992, N  background 0,unable to generate class balanced samples.\n",
      "N foreground 15909, N  background 0,unable to generate class balanced samples.\n",
      "N foreground 13138, N  background 0,unable to generate class balanced samples.\n",
      "N foreground 13064, N  background 0,unable to generate class balanced samples.\n",
      "N foreground 10474, N  background 0,unable to generate class balanced samples.\n",
      "N foreground 19210, N  background 0,unable to generate class balanced samples.\n",
      "N foreground 17097, N  background 0,unable to generate class balanced samples.\n",
      "N foreground 10533, N  background 0,unable to generate class balanced samples.\n",
      "N foreground 15184, N  background 0,unable to generate class balanced samples.\n",
      "N foreground 12122, N  background 0,unable to generate class balanced samples.\n",
      "N foreground 14262, N  background 0,unable to generate class balanced samples.\n",
      "N foreground 16438, N  background 0,unable to generate class balanced samples.\n",
      "N foreground 15619, N  background 0,unable to generate class balanced samples.\n",
      "N foreground 14317, N  background 0,unable to generate class balanced samples.\n",
      "N foreground 17716, N  background 0,unable to generate class balanced samples.\n",
      "N foreground 16115, N  background 0,unable to generate class balanced samples.\n",
      "N foreground 8935, N  background 0,unable to generate class balanced samples.\n",
      "N foreground 16388, N  background 0,unable to generate class balanced samples.\n",
      "N foreground 22593, N  background 0,unable to generate class balanced samples.\n",
      "N foreground 16450, N  background 0,unable to generate class balanced samples.\n",
      "N foreground 14809, N  background 0,unable to generate class balanced samples.\n",
      "N foreground 13958, N  background 0,unable to generate class balanced samples.\n"
     ]
    },
    {
     "name": "stdout",
     "output_type": "stream",
     "text": [
      "1/13, train_loss: 0.1263\n",
      "2/13, train_loss: 0.1064\n",
      "3/13, train_loss: 0.1112\n",
      "4/13, train_loss: 0.1209\n",
      "5/13, train_loss: 0.1163\n",
      "6/13, train_loss: 0.1197\n",
      "7/13, train_loss: 0.1133\n",
      "8/13, train_loss: 0.1099\n",
      "9/13, train_loss: 0.1163\n",
      "10/13, train_loss: 0.1336\n",
      "11/13, train_loss: 0.1252\n",
      "12/13, train_loss: 0.1167\n",
      "13/13, train_loss: 0.1054\n",
      "epoch 126 average loss: 0.1170\n"
     ]
    },
    {
     "name": "stderr",
     "output_type": "stream",
     "text": [
      "N foreground 14351, N  background 0,unable to generate class balanced samples.\n",
      "N foreground 16021, N  background 0,unable to generate class balanced samples.\n",
      "N foreground 13981, N  background 0,unable to generate class balanced samples.\n",
      "N foreground 14149, N  background 0,unable to generate class balanced samples.\n",
      "N foreground 13080, N  background 0,unable to generate class balanced samples.\n",
      "N foreground 18264, N  background 0,unable to generate class balanced samples.\n",
      "N foreground 10539, N  background 0,unable to generate class balanced samples.\n",
      "N foreground 14458, N  background 0,unable to generate class balanced samples.\n",
      "N foreground 14199, N  background 0,unable to generate class balanced samples.\n"
     ]
    },
    {
     "name": "stdout",
     "output_type": "stream",
     "text": [
      "current epoch: 126 current mean dice: 0.8988\n",
      "best mean dice: 0.9020at epoch: 123\n",
      "----------\n",
      "epoch 127/150\n"
     ]
    },
    {
     "name": "stderr",
     "output_type": "stream",
     "text": [
      "N foreground 16438, N  background 0,unable to generate class balanced samples.\n",
      "N foreground 13809, N  background 0,unable to generate class balanced samples.\n",
      "N foreground 16115, N  background 0,unable to generate class balanced samples.\n",
      "N foreground 10533, N  background 0,unable to generate class balanced samples.\n",
      "N foreground 14262, N  background 0,unable to generate class balanced samples.\n",
      "N foreground 17097, N  background 0,unable to generate class balanced samples.\n",
      "N foreground 22593, N  background 0,unable to generate class balanced samples.\n",
      "N foreground 15838, N  background 0,unable to generate class balanced samples.\n",
      "N foreground 8935, N  background 0,unable to generate class balanced samples.\n",
      "N foreground 16388, N  background 0,unable to generate class balanced samples.\n",
      "N foreground 13138, N  background 0,unable to generate class balanced samples.\n",
      "N foreground 10992, N  background 0,unable to generate class balanced samples.\n",
      "N foreground 14317, N  background 0,unable to generate class balanced samples.\n",
      "N foreground 14230, N  background 0,unable to generate class balanced samples.\n",
      "N foreground 15909, N  background 0,unable to generate class balanced samples.\n",
      "N foreground 12122, N  background 0,unable to generate class balanced samples.\n",
      "N foreground 16682, N  background 0,unable to generate class balanced samples.\n",
      "N foreground 13958, N  background 0,unable to generate class balanced samples.\n",
      "N foreground 17716, N  background 0,unable to generate class balanced samples.\n",
      "N foreground 15184, N  background 0,unable to generate class balanced samples.\n",
      "N foreground 13064, N  background 0,unable to generate class balanced samples.\n",
      "N foreground 16450, N  background 0,unable to generate class balanced samples.\n",
      "N foreground 10474, N  background 0,unable to generate class balanced samples.\n",
      "N foreground 19210, N  background 0,unable to generate class balanced samples.\n",
      "N foreground 15619, N  background 0,unable to generate class balanced samples.\n",
      "N foreground 14809, N  background 0,unable to generate class balanced samples.\n"
     ]
    },
    {
     "name": "stdout",
     "output_type": "stream",
     "text": [
      "1/13, train_loss: 0.1236\n",
      "2/13, train_loss: 0.1145\n",
      "3/13, train_loss: 0.1167\n",
      "4/13, train_loss: 0.1161\n",
      "5/13, train_loss: 0.1117\n",
      "6/13, train_loss: 0.1210\n",
      "7/13, train_loss: 0.1075\n",
      "8/13, train_loss: 0.1201\n",
      "9/13, train_loss: 0.1364\n",
      "10/13, train_loss: 0.1147\n",
      "11/13, train_loss: 0.1133\n",
      "12/13, train_loss: 0.1193\n",
      "13/13, train_loss: 0.1125\n",
      "epoch 127 average loss: 0.1175\n"
     ]
    },
    {
     "name": "stderr",
     "output_type": "stream",
     "text": [
      "N foreground 13981, N  background 0,unable to generate class balanced samples.\n",
      "N foreground 14351, N  background 0,unable to generate class balanced samples.\n",
      "N foreground 18264, N  background 0,unable to generate class balanced samples.\n",
      "N foreground 16021, N  background 0,unable to generate class balanced samples.\n",
      "N foreground 13080, N  background 0,unable to generate class balanced samples.\n",
      "N foreground 14149, N  background 0,unable to generate class balanced samples.\n",
      "N foreground 10539, N  background 0,unable to generate class balanced samples.\n",
      "N foreground 14458, N  background 0,unable to generate class balanced samples.\n",
      "N foreground 14199, N  background 0,unable to generate class balanced samples.\n"
     ]
    },
    {
     "name": "stdout",
     "output_type": "stream",
     "text": [
      "saved new best metric model\n",
      "current epoch: 127 current mean dice: 0.9020\n",
      "best mean dice: 0.9020at epoch: 127\n",
      "----------\n",
      "epoch 128/150\n"
     ]
    },
    {
     "name": "stderr",
     "output_type": "stream",
     "text": [
      "N foreground 16438, N  background 0,unable to generate class balanced samples.\n",
      "N foreground 16388, N  background 0,unable to generate class balanced samples.\n",
      "N foreground 15184, N  background 0,unable to generate class balanced samples.\n",
      "N foreground 15909, N  background 0,unable to generate class balanced samples.\n",
      "N foreground 10474, N  background 0,unable to generate class balanced samples.\n",
      "N foreground 16682, N  background 0,unable to generate class balanced samples.\n",
      "N foreground 13138, N  background 0,unable to generate class balanced samples.\n",
      "N foreground 15838, N  background 0,unable to generate class balanced samples.\n",
      "N foreground 22593, N  background 0,unable to generate class balanced samples.\n",
      "N foreground 17716, N  background 0,unable to generate class balanced samples.\n",
      "N foreground 8935, N  background 0,unable to generate class balanced samples.\n",
      "N foreground 13064, N  background 0,unable to generate class balanced samples.\n",
      "N foreground 10533, N  background 0,unable to generate class balanced samples.\n",
      "N foreground 13958, N  background 0,unable to generate class balanced samples.\n",
      "N foreground 16450, N  background 0,unable to generate class balanced samples.\n",
      "N foreground 10992, N  background 0,unable to generate class balanced samples.\n",
      "N foreground 15619, N  background 0,unable to generate class balanced samples.\n",
      "N foreground 14262, N  background 0,unable to generate class balanced samples.\n",
      "N foreground 14317, N  background 0,unable to generate class balanced samples.\n",
      "N foreground 14230, N  background 0,unable to generate class balanced samples.\n",
      "N foreground 14809, N  background 0,unable to generate class balanced samples.\n",
      "N foreground 17097, N  background 0,unable to generate class balanced samples.\n",
      "N foreground 13809, N  background 0,unable to generate class balanced samples.\n",
      "N foreground 12122, N  background 0,unable to generate class balanced samples.\n",
      "N foreground 19210, N  background 0,unable to generate class balanced samples.\n",
      "N foreground 16115, N  background 0,unable to generate class balanced samples.\n"
     ]
    },
    {
     "name": "stdout",
     "output_type": "stream",
     "text": [
      "1/13, train_loss: 0.1048\n",
      "2/13, train_loss: 0.1213\n",
      "3/13, train_loss: 0.1223\n",
      "4/13, train_loss: 0.1120\n",
      "5/13, train_loss: 0.1306\n",
      "6/13, train_loss: 0.1240\n",
      "7/13, train_loss: 0.1182\n",
      "8/13, train_loss: 0.1109\n",
      "9/13, train_loss: 0.0998\n",
      "10/13, train_loss: 0.1217\n",
      "11/13, train_loss: 0.1169\n",
      "12/13, train_loss: 0.1236\n",
      "13/13, train_loss: 0.1115\n",
      "epoch 128 average loss: 0.1167\n"
     ]
    },
    {
     "name": "stderr",
     "output_type": "stream",
     "text": [
      "N foreground 10539, N  background 0,unable to generate class balanced samples.\n",
      "N foreground 14149, N  background 0,unable to generate class balanced samples.\n",
      "N foreground 13080, N  background 0,unable to generate class balanced samples.\n",
      "N foreground 16021, N  background 0,unable to generate class balanced samples.\n",
      "N foreground 18264, N  background 0,unable to generate class balanced samples.\n",
      "N foreground 14351, N  background 0,unable to generate class balanced samples.\n",
      "N foreground 13981, N  background 0,unable to generate class balanced samples.\n",
      "N foreground 14458, N  background 0,unable to generate class balanced samples.\n",
      "N foreground 14199, N  background 0,unable to generate class balanced samples.\n"
     ]
    },
    {
     "name": "stdout",
     "output_type": "stream",
     "text": [
      "current epoch: 128 current mean dice: 0.8954\n",
      "best mean dice: 0.9020at epoch: 127\n",
      "----------\n",
      "epoch 129/150\n"
     ]
    },
    {
     "name": "stderr",
     "output_type": "stream",
     "text": [
      "N foreground 10533, N  background 0,unable to generate class balanced samples.\n",
      "N foreground 10992, N  background 0,unable to generate class balanced samples.\n",
      "N foreground 8935, N  background 0,unable to generate class balanced samples.\n",
      "N foreground 22593, N  background 0,unable to generate class balanced samples.\n",
      "N foreground 17716, N  background 0,unable to generate class balanced samples.\n",
      "N foreground 15619, N  background 0,unable to generate class balanced samples.\n",
      "N foreground 12122, N  background 0,unable to generate class balanced samples.\n",
      "N foreground 13809, N  background 0,unable to generate class balanced samples.\n",
      "N foreground 15838, N  background 0,unable to generate class balanced samples.\n",
      "N foreground 14809, N  background 0,unable to generate class balanced samples.\n",
      "N foreground 14230, N  background 0,unable to generate class balanced samples.\n",
      "N foreground 16450, N  background 0,unable to generate class balanced samples.\n",
      "N foreground 17097, N  background 0,unable to generate class balanced samples.\n",
      "N foreground 10474, N  background 0,unable to generate class balanced samples.\n",
      "N foreground 16682, N  background 0,unable to generate class balanced samples.\n",
      "N foreground 16438, N  background 0,unable to generate class balanced samples.\n",
      "N foreground 16115, N  background 0,unable to generate class balanced samples.\n",
      "N foreground 15184, N  background 0,unable to generate class balanced samples.\n",
      "N foreground 14317, N  background 0,unable to generate class balanced samples.\n",
      "N foreground 14262, N  background 0,unable to generate class balanced samples.\n",
      "N foreground 13138, N  background 0,unable to generate class balanced samples.\n",
      "N foreground 16388, N  background 0,unable to generate class balanced samples.\n",
      "N foreground 15909, N  background 0,unable to generate class balanced samples.\n",
      "N foreground 13958, N  background 0,unable to generate class balanced samples.\n",
      "N foreground 19210, N  background 0,unable to generate class balanced samples.\n",
      "N foreground 13064, N  background 0,unable to generate class balanced samples.\n"
     ]
    },
    {
     "name": "stdout",
     "output_type": "stream",
     "text": [
      "1/13, train_loss: 0.1136\n",
      "2/13, train_loss: 0.1138\n",
      "3/13, train_loss: 0.1246\n",
      "4/13, train_loss: 0.1125\n",
      "5/13, train_loss: 0.1120\n",
      "6/13, train_loss: 0.1159\n",
      "7/13, train_loss: 0.1110\n",
      "8/13, train_loss: 0.1106\n",
      "9/13, train_loss: 0.1272\n",
      "10/13, train_loss: 0.1067\n",
      "11/13, train_loss: 0.1183\n",
      "12/13, train_loss: 0.1183\n",
      "13/13, train_loss: 0.1262\n",
      "epoch 129 average loss: 0.1162\n"
     ]
    },
    {
     "name": "stderr",
     "output_type": "stream",
     "text": [
      "N foreground 14149, N  background 0,unable to generate class balanced samples.\n",
      "N foreground 13981, N  background 0,unable to generate class balanced samples.\n",
      "N foreground 18264, N  background 0,unable to generate class balanced samples.\n",
      "N foreground 16021, N  background 0,unable to generate class balanced samples.\n",
      "N foreground 14351, N  background 0,unable to generate class balanced samples.\n",
      "N foreground 10539, N  background 0,unable to generate class balanced samples.\n",
      "N foreground 13080, N  background 0,unable to generate class balanced samples.\n",
      "N foreground 14458, N  background 0,unable to generate class balanced samples.\n",
      "N foreground 14199, N  background 0,unable to generate class balanced samples.\n"
     ]
    },
    {
     "name": "stdout",
     "output_type": "stream",
     "text": [
      "current epoch: 129 current mean dice: 0.8983\n",
      "best mean dice: 0.9020at epoch: 127\n",
      "----------\n",
      "epoch 130/150\n"
     ]
    },
    {
     "name": "stderr",
     "output_type": "stream",
     "text": [
      "N foreground 16682, N  background 0,unable to generate class balanced samples.\n",
      "N foreground 13138, N  background 0,unable to generate class balanced samples.\n",
      "N foreground 10533, N  background 0,unable to generate class balanced samples.\n",
      "N foreground 8935, N  background 0,unable to generate class balanced samples.\n",
      "N foreground 16388, N  background 0,unable to generate class balanced samples.\n",
      "N foreground 14809, N  background 0,unable to generate class balanced samples.\n",
      "N foreground 10992, N  background 0,unable to generate class balanced samples.\n",
      "N foreground 12122, N  background 0,unable to generate class balanced samples.\n",
      "N foreground 14262, N  background 0,unable to generate class balanced samples.\n",
      "N foreground 16450, N  background 0,unable to generate class balanced samples.\n",
      "N foreground 17716, N  background 0,unable to generate class balanced samples.\n",
      "N foreground 15909, N  background 0,unable to generate class balanced samples.\n",
      "N foreground 17097, N  background 0,unable to generate class balanced samples.\n",
      "N foreground 16438, N  background 0,unable to generate class balanced samples.\n",
      "N foreground 15184, N  background 0,unable to generate class balanced samples.\n",
      "N foreground 14230, N  background 0,unable to generate class balanced samples.\n",
      "N foreground 10474, N  background 0,unable to generate class balanced samples.\n",
      "N foreground 14317, N  background 0,unable to generate class balanced samples.\n",
      "N foreground 13958, N  background 0,unable to generate class balanced samples.\n",
      "N foreground 13064, N  background 0,unable to generate class balanced samples.\n",
      "N foreground 19210, N  background 0,unable to generate class balanced samples.\n",
      "N foreground 15838, N  background 0,unable to generate class balanced samples.\n",
      "N foreground 16115, N  background 0,unable to generate class balanced samples.\n",
      "N foreground 22593, N  background 0,unable to generate class balanced samples.\n",
      "N foreground 13809, N  background 0,unable to generate class balanced samples.\n",
      "N foreground 15619, N  background 0,unable to generate class balanced samples.\n"
     ]
    },
    {
     "name": "stdout",
     "output_type": "stream",
     "text": [
      "1/13, train_loss: 0.1046\n",
      "2/13, train_loss: 0.1086\n",
      "3/13, train_loss: 0.1158\n",
      "4/13, train_loss: 0.1148\n",
      "5/13, train_loss: 0.1309\n",
      "6/13, train_loss: 0.1263\n",
      "7/13, train_loss: 0.1063\n",
      "8/13, train_loss: 0.1136\n",
      "9/13, train_loss: 0.1234\n",
      "10/13, train_loss: 0.1282\n",
      "11/13, train_loss: 0.1161\n",
      "12/13, train_loss: 0.1089\n",
      "13/13, train_loss: 0.1184\n",
      "epoch 130 average loss: 0.1166\n"
     ]
    },
    {
     "name": "stderr",
     "output_type": "stream",
     "text": [
      "N foreground 14351, N  background 0,unable to generate class balanced samples.\n",
      "N foreground 13981, N  background 0,unable to generate class balanced samples.\n",
      "N foreground 16021, N  background 0,unable to generate class balanced samples.\n",
      "N foreground 13080, N  background 0,unable to generate class balanced samples.\n",
      "N foreground 10539, N  background 0,unable to generate class balanced samples.\n",
      "N foreground 14149, N  background 0,unable to generate class balanced samples.\n",
      "N foreground 18264, N  background 0,unable to generate class balanced samples.\n",
      "N foreground 14458, N  background 0,unable to generate class balanced samples.\n",
      "N foreground 14199, N  background 0,unable to generate class balanced samples.\n"
     ]
    },
    {
     "name": "stdout",
     "output_type": "stream",
     "text": [
      "current epoch: 130 current mean dice: 0.8991\n",
      "best mean dice: 0.9020at epoch: 127\n",
      "----------\n",
      "epoch 131/150\n"
     ]
    },
    {
     "name": "stderr",
     "output_type": "stream",
     "text": [
      "N foreground 14317, N  background 0,unable to generate class balanced samples.\n",
      "N foreground 16115, N  background 0,unable to generate class balanced samples.\n",
      "N foreground 10474, N  background 0,unable to generate class balanced samples.\n",
      "N foreground 17716, N  background 0,unable to generate class balanced samples.\n",
      "N foreground 13958, N  background 0,unable to generate class balanced samples.\n",
      "N foreground 14230, N  background 0,unable to generate class balanced samples.\n",
      "N foreground 16450, N  background 0,unable to generate class balanced samples.\n",
      "N foreground 17097, N  background 0,unable to generate class balanced samples.\n",
      "N foreground 16388, N  background 0,unable to generate class balanced samples.\n",
      "N foreground 8935, N  background 0,unable to generate class balanced samples.\n",
      "N foreground 22593, N  background 0,unable to generate class balanced samples.\n",
      "N foreground 10533, N  background 0,unable to generate class balanced samples.\n",
      "N foreground 13064, N  background 0,unable to generate class balanced samples.\n",
      "N foreground 14809, N  background 0,unable to generate class balanced samples.\n",
      "N foreground 12122, N  background 0,unable to generate class balanced samples.\n",
      "N foreground 14262, N  background 0,unable to generate class balanced samples.\n",
      "N foreground 15909, N  background 0,unable to generate class balanced samples.\n",
      "N foreground 16438, N  background 0,unable to generate class balanced samples.\n",
      "N foreground 10992, N  background 0,unable to generate class balanced samples.\n",
      "N foreground 13138, N  background 0,unable to generate class balanced samples.\n",
      "N foreground 16682, N  background 0,unable to generate class balanced samples.\n",
      "N foreground 13809, N  background 0,unable to generate class balanced samples.\n",
      "N foreground 19210, N  background 0,unable to generate class balanced samples.\n",
      "N foreground 15184, N  background 0,unable to generate class balanced samples.\n",
      "N foreground 15619, N  background 0,unable to generate class balanced samples.\n",
      "N foreground 15838, N  background 0,unable to generate class balanced samples.\n"
     ]
    },
    {
     "name": "stdout",
     "output_type": "stream",
     "text": [
      "1/13, train_loss: 0.1206\n",
      "2/13, train_loss: 0.1270\n",
      "3/13, train_loss: 0.1117\n",
      "4/13, train_loss: 0.1286\n",
      "5/13, train_loss: 0.1333\n",
      "6/13, train_loss: 0.1099\n",
      "7/13, train_loss: 0.0959\n",
      "8/13, train_loss: 0.0999\n",
      "9/13, train_loss: 0.1118\n",
      "10/13, train_loss: 0.1141\n",
      "11/13, train_loss: 0.1219\n",
      "12/13, train_loss: 0.1120\n",
      "13/13, train_loss: 0.1070\n",
      "epoch 131 average loss: 0.1149\n"
     ]
    },
    {
     "name": "stderr",
     "output_type": "stream",
     "text": [
      "N foreground 16021, N  background 0,unable to generate class balanced samples.\n",
      "N foreground 10539, N  background 0,unable to generate class balanced samples.\n",
      "N foreground 18264, N  background 0,unable to generate class balanced samples.\n",
      "N foreground 14351, N  background 0,unable to generate class balanced samples.\n",
      "N foreground 13981, N  background 0,unable to generate class balanced samples.\n",
      "N foreground 14149, N  background 0,unable to generate class balanced samples.\n",
      "N foreground 13080, N  background 0,unable to generate class balanced samples.\n",
      "N foreground 14458, N  background 0,unable to generate class balanced samples.\n",
      "N foreground 14199, N  background 0,unable to generate class balanced samples.\n"
     ]
    },
    {
     "name": "stdout",
     "output_type": "stream",
     "text": [
      "current epoch: 131 current mean dice: 0.9016\n",
      "best mean dice: 0.9020at epoch: 127\n",
      "----------\n",
      "epoch 132/150\n"
     ]
    },
    {
     "name": "stderr",
     "output_type": "stream",
     "text": [
      "N foreground 16388, N  background 0,unable to generate class balanced samples.\n",
      "N foreground 15184, N  background 0,unable to generate class balanced samples.\n",
      "N foreground 13138, N  background 0,unable to generate class balanced samples.\n",
      "N foreground 16682, N  background 0,unable to generate class balanced samples.\n",
      "N foreground 15619, N  background 0,unable to generate class balanced samples.\n",
      "N foreground 17716, N  background 0,unable to generate class balanced samples.\n",
      "N foreground 16115, N  background 0,unable to generate class balanced samples.\n",
      "N foreground 19210, N  background 0,unable to generate class balanced samples.\n",
      "N foreground 14809, N  background 0,unable to generate class balanced samples.\n",
      "N foreground 10992, N  background 0,unable to generate class balanced samples.\n",
      "N foreground 16438, N  background 0,unable to generate class balanced samples.\n",
      "N foreground 10533, N  background 0,unable to generate class balanced samples.\n",
      "N foreground 13809, N  background 0,unable to generate class balanced samples.\n",
      "N foreground 10474, N  background 0,unable to generate class balanced samples.\n",
      "N foreground 15909, N  background 0,unable to generate class balanced samples.\n",
      "N foreground 13958, N  background 0,unable to generate class balanced samples.\n",
      "N foreground 17097, N  background 0,unable to generate class balanced samples.\n",
      "N foreground 14262, N  background 0,unable to generate class balanced samples.\n",
      "N foreground 14317, N  background 0,unable to generate class balanced samples.\n",
      "N foreground 13064, N  background 0,unable to generate class balanced samples.\n",
      "N foreground 8935, N  background 0,unable to generate class balanced samples.\n",
      "N foreground 22593, N  background 0,unable to generate class balanced samples.\n",
      "N foreground 12122, N  background 0,unable to generate class balanced samples.\n",
      "N foreground 16450, N  background 0,unable to generate class balanced samples.\n",
      "N foreground 15838, N  background 0,unable to generate class balanced samples.\n",
      "N foreground 14230, N  background 0,unable to generate class balanced samples.\n"
     ]
    },
    {
     "name": "stdout",
     "output_type": "stream",
     "text": [
      "1/13, train_loss: 0.1096\n",
      "2/13, train_loss: 0.1076\n",
      "3/13, train_loss: 0.1088\n",
      "4/13, train_loss: 0.1230\n",
      "5/13, train_loss: 0.1159\n",
      "6/13, train_loss: 0.1142\n",
      "7/13, train_loss: 0.1125\n",
      "8/13, train_loss: 0.1219\n",
      "9/13, train_loss: 0.1061\n",
      "10/13, train_loss: 0.1048\n",
      "11/13, train_loss: 0.1181\n",
      "12/13, train_loss: 0.1155\n",
      "13/13, train_loss: 0.1108\n",
      "epoch 132 average loss: 0.1130\n"
     ]
    },
    {
     "name": "stderr",
     "output_type": "stream",
     "text": [
      "N foreground 18264, N  background 0,unable to generate class balanced samples.\n",
      "N foreground 14149, N  background 0,unable to generate class balanced samples.\n",
      "N foreground 13981, N  background 0,unable to generate class balanced samples.\n",
      "N foreground 10539, N  background 0,unable to generate class balanced samples.\n",
      "N foreground 16021, N  background 0,unable to generate class balanced samples.\n",
      "N foreground 13080, N  background 0,unable to generate class balanced samples.\n",
      "N foreground 14351, N  background 0,unable to generate class balanced samples.\n",
      "N foreground 14458, N  background 0,unable to generate class balanced samples.\n",
      "N foreground 14199, N  background 0,unable to generate class balanced samples.\n"
     ]
    },
    {
     "name": "stdout",
     "output_type": "stream",
     "text": [
      "current epoch: 132 current mean dice: 0.9019\n",
      "best mean dice: 0.9020at epoch: 127\n",
      "----------\n",
      "epoch 133/150\n"
     ]
    },
    {
     "name": "stderr",
     "output_type": "stream",
     "text": [
      "N foreground 16450, N  background 0,unable to generate class balanced samples.\n",
      "N foreground 15619, N  background 0,unable to generate class balanced samples.\n",
      "N foreground 15184, N  background 0,unable to generate class balanced samples.\n",
      "N foreground 13138, N  background 0,unable to generate class balanced samples.\n",
      "N foreground 10474, N  background 0,unable to generate class balanced samples.\n",
      "N foreground 16388, N  background 0,unable to generate class balanced samples.\n",
      "N foreground 15909, N  background 0,unable to generate class balanced samples.\n",
      "N foreground 14317, N  background 0,unable to generate class balanced samples.\n",
      "N foreground 15838, N  background 0,unable to generate class balanced samples.\n",
      "N foreground 10992, N  background 0,unable to generate class balanced samples.\n",
      "N foreground 8935, N  background 0,unable to generate class balanced samples.\n",
      "N foreground 17097, N  background 0,unable to generate class balanced samples.\n",
      "N foreground 12122, N  background 0,unable to generate class balanced samples.\n",
      "N foreground 16682, N  background 0,unable to generate class balanced samples.\n",
      "N foreground 16115, N  background 0,unable to generate class balanced samples.\n",
      "N foreground 13958, N  background 0,unable to generate class balanced samples.\n",
      "N foreground 13064, N  background 0,unable to generate class balanced samples.\n",
      "N foreground 14230, N  background 0,unable to generate class balanced samples.\n",
      "N foreground 10533, N  background 0,unable to generate class balanced samples.\n",
      "N foreground 17716, N  background 0,unable to generate class balanced samples.\n",
      "N foreground 19210, N  background 0,unable to generate class balanced samples.\n",
      "N foreground 14809, N  background 0,unable to generate class balanced samples.\n",
      "N foreground 14262, N  background 0,unable to generate class balanced samples.\n",
      "N foreground 16438, N  background 0,unable to generate class balanced samples.\n",
      "N foreground 13809, N  background 0,unable to generate class balanced samples.\n",
      "N foreground 22593, N  background 0,unable to generate class balanced samples.\n"
     ]
    },
    {
     "name": "stdout",
     "output_type": "stream",
     "text": [
      "1/13, train_loss: 0.1207\n",
      "2/13, train_loss: 0.1240\n",
      "3/13, train_loss: 0.1086\n",
      "4/13, train_loss: 0.1103\n",
      "5/13, train_loss: 0.1081\n",
      "6/13, train_loss: 0.1218\n",
      "7/13, train_loss: 0.1103\n",
      "8/13, train_loss: 0.1240\n",
      "9/13, train_loss: 0.1125\n",
      "10/13, train_loss: 0.0968\n",
      "11/13, train_loss: 0.1144\n",
      "12/13, train_loss: 0.1070\n",
      "13/13, train_loss: 0.1014\n",
      "epoch 133 average loss: 0.1123\n"
     ]
    },
    {
     "name": "stderr",
     "output_type": "stream",
     "text": [
      "N foreground 14351, N  background 0,unable to generate class balanced samples.\n",
      "N foreground 10539, N  background 0,unable to generate class balanced samples.\n",
      "N foreground 18264, N  background 0,unable to generate class balanced samples.\n",
      "N foreground 13981, N  background 0,unable to generate class balanced samples.\n",
      "N foreground 13080, N  background 0,unable to generate class balanced samples.\n",
      "N foreground 16021, N  background 0,unable to generate class balanced samples.\n",
      "N foreground 14149, N  background 0,unable to generate class balanced samples.\n",
      "N foreground 14458, N  background 0,unable to generate class balanced samples.\n",
      "N foreground 14199, N  background 0,unable to generate class balanced samples.\n"
     ]
    },
    {
     "name": "stdout",
     "output_type": "stream",
     "text": [
      "saved new best metric model\n",
      "current epoch: 133 current mean dice: 0.9043\n",
      "best mean dice: 0.9043at epoch: 133\n",
      "----------\n",
      "epoch 134/150\n"
     ]
    },
    {
     "name": "stderr",
     "output_type": "stream",
     "text": [
      "N foreground 15184, N  background 0,unable to generate class balanced samples.\n",
      "N foreground 13958, N  background 0,unable to generate class balanced samples.\n",
      "N foreground 19210, N  background 0,unable to generate class balanced samples.\n",
      "N foreground 16388, N  background 0,unable to generate class balanced samples.\n",
      "N foreground 16450, N  background 0,unable to generate class balanced samples.\n",
      "N foreground 13064, N  background 0,unable to generate class balanced samples.\n",
      "N foreground 22593, N  background 0,unable to generate class balanced samples.\n",
      "N foreground 10474, N  background 0,unable to generate class balanced samples.\n",
      "N foreground 15838, N  background 0,unable to generate class balanced samples.\n",
      "N foreground 16115, N  background 0,unable to generate class balanced samples.\n",
      "N foreground 13138, N  background 0,unable to generate class balanced samples.\n",
      "N foreground 14230, N  background 0,unable to generate class balanced samples.\n",
      "N foreground 16682, N  background 0,unable to generate class balanced samples.\n",
      "N foreground 16438, N  background 0,unable to generate class balanced samples.\n",
      "N foreground 13809, N  background 0,unable to generate class balanced samples.\n",
      "N foreground 14317, N  background 0,unable to generate class balanced samples.\n",
      "N foreground 14809, N  background 0,unable to generate class balanced samples.\n",
      "N foreground 17097, N  background 0,unable to generate class balanced samples.\n",
      "N foreground 14262, N  background 0,unable to generate class balanced samples.\n",
      "N foreground 15909, N  background 0,unable to generate class balanced samples.\n",
      "N foreground 10992, N  background 0,unable to generate class balanced samples.\n",
      "N foreground 12122, N  background 0,unable to generate class balanced samples.\n",
      "N foreground 15619, N  background 0,unable to generate class balanced samples.\n",
      "N foreground 10533, N  background 0,unable to generate class balanced samples.\n",
      "N foreground 8935, N  background 0,unable to generate class balanced samples.\n",
      "N foreground 17716, N  background 0,unable to generate class balanced samples.\n"
     ]
    },
    {
     "name": "stdout",
     "output_type": "stream",
     "text": [
      "1/13, train_loss: 0.1216\n",
      "2/13, train_loss: 0.1189\n",
      "3/13, train_loss: 0.1132\n",
      "4/13, train_loss: 0.0973\n",
      "5/13, train_loss: 0.1038\n",
      "6/13, train_loss: 0.1103\n",
      "7/13, train_loss: 0.1139\n",
      "8/13, train_loss: 0.1276\n",
      "9/13, train_loss: 0.1069\n",
      "10/13, train_loss: 0.1038\n",
      "11/13, train_loss: 0.1156\n",
      "12/13, train_loss: 0.1145\n",
      "13/13, train_loss: 0.1043\n",
      "epoch 134 average loss: 0.1117\n"
     ]
    },
    {
     "name": "stderr",
     "output_type": "stream",
     "text": [
      "N foreground 13981, N  background 0,unable to generate class balanced samples.\n",
      "N foreground 13080, N  background 0,unable to generate class balanced samples.\n",
      "N foreground 18264, N  background 0,unable to generate class balanced samples.\n",
      "N foreground 14351, N  background 0,unable to generate class balanced samples.\n",
      "N foreground 16021, N  background 0,unable to generate class balanced samples.\n",
      "N foreground 10539, N  background 0,unable to generate class balanced samples.\n",
      "N foreground 14149, N  background 0,unable to generate class balanced samples.\n",
      "N foreground 14458, N  background 0,unable to generate class balanced samples.\n",
      "N foreground 14199, N  background 0,unable to generate class balanced samples.\n"
     ]
    },
    {
     "name": "stdout",
     "output_type": "stream",
     "text": [
      "current epoch: 134 current mean dice: 0.9031\n",
      "best mean dice: 0.9043at epoch: 133\n",
      "----------\n",
      "epoch 135/150\n"
     ]
    },
    {
     "name": "stderr",
     "output_type": "stream",
     "text": [
      "N foreground 13958, N  background 0,unable to generate class balanced samples.\n",
      "N foreground 17716, N  background 0,unable to generate class balanced samples.\n",
      "N foreground 12122, N  background 0,unable to generate class balanced samples.\n",
      "N foreground 16450, N  background 0,unable to generate class balanced samples.\n",
      "N foreground 13138, N  background 0,unable to generate class balanced samples.\n",
      "N foreground 14317, N  background 0,unable to generate class balanced samples.\n",
      "N foreground 13064, N  background 0,unable to generate class balanced samples.\n",
      "N foreground 10533, N  background 0,unable to generate class balanced samples.\n",
      "N foreground 16388, N  background 0,unable to generate class balanced samples.\n",
      "N foreground 22593, N  background 0,unable to generate class balanced samples.\n",
      "N foreground 10992, N  background 0,unable to generate class balanced samples.\n",
      "N foreground 14230, N  background 0,unable to generate class balanced samples.\n",
      "N foreground 15619, N  background 0,unable to generate class balanced samples.\n",
      "N foreground 13809, N  background 0,unable to generate class balanced samples.\n",
      "N foreground 16682, N  background 0,unable to generate class balanced samples.\n",
      "N foreground 15909, N  background 0,unable to generate class balanced samples.\n",
      "N foreground 10474, N  background 0,unable to generate class balanced samples.\n",
      "N foreground 19210, N  background 0,unable to generate class balanced samples.\n",
      "N foreground 14809, N  background 0,unable to generate class balanced samples.\n",
      "N foreground 8935, N  background 0,unable to generate class balanced samples.\n",
      "N foreground 16115, N  background 0,unable to generate class balanced samples.\n",
      "N foreground 15184, N  background 0,unable to generate class balanced samples.\n",
      "N foreground 15838, N  background 0,unable to generate class balanced samples.\n",
      "N foreground 14262, N  background 0,unable to generate class balanced samples.\n",
      "N foreground 16438, N  background 0,unable to generate class balanced samples.\n",
      "N foreground 17097, N  background 0,unable to generate class balanced samples.\n"
     ]
    },
    {
     "name": "stdout",
     "output_type": "stream",
     "text": [
      "1/13, train_loss: 0.0980\n",
      "2/13, train_loss: 0.1107\n",
      "3/13, train_loss: 0.1119\n",
      "4/13, train_loss: 0.1066\n",
      "5/13, train_loss: 0.1017\n",
      "6/13, train_loss: 0.1122\n",
      "7/13, train_loss: 0.1236\n",
      "8/13, train_loss: 0.1138\n",
      "9/13, train_loss: 0.1128\n",
      "10/13, train_loss: 0.1214\n",
      "11/13, train_loss: 0.1093\n",
      "12/13, train_loss: 0.1164\n",
      "13/13, train_loss: 0.1226\n",
      "epoch 135 average loss: 0.1124\n"
     ]
    },
    {
     "name": "stderr",
     "output_type": "stream",
     "text": [
      "N foreground 10539, N  background 0,unable to generate class balanced samples.\n",
      "N foreground 16021, N  background 0,unable to generate class balanced samples.\n",
      "N foreground 13080, N  background 0,unable to generate class balanced samples.\n",
      "N foreground 14351, N  background 0,unable to generate class balanced samples.\n",
      "N foreground 18264, N  background 0,unable to generate class balanced samples.\n",
      "N foreground 14149, N  background 0,unable to generate class balanced samples.\n",
      "N foreground 13981, N  background 0,unable to generate class balanced samples.\n",
      "N foreground 14458, N  background 0,unable to generate class balanced samples.\n",
      "N foreground 14199, N  background 0,unable to generate class balanced samples.\n"
     ]
    },
    {
     "name": "stdout",
     "output_type": "stream",
     "text": [
      "current epoch: 135 current mean dice: 0.8992\n",
      "best mean dice: 0.9043at epoch: 133\n",
      "----------\n",
      "epoch 136/150\n"
     ]
    },
    {
     "name": "stderr",
     "output_type": "stream",
     "text": [
      "N foreground 12122, N  background 0,unable to generate class balanced samples.\n",
      "N foreground 13138, N  background 0,unable to generate class balanced samples.\n",
      "N foreground 17716, N  background 0,unable to generate class balanced samples.\n",
      "N foreground 8935, N  background 0,unable to generate class balanced samples.\n",
      "N foreground 17097, N  background 0,unable to generate class balanced samples.\n",
      "N foreground 10992, N  background 0,unable to generate class balanced samples.\n",
      "N foreground 14262, N  background 0,unable to generate class balanced samples.\n",
      "N foreground 13064, N  background 0,unable to generate class balanced samples.\n",
      "N foreground 14230, N  background 0,unable to generate class balanced samples.\n",
      "N foreground 14317, N  background 0,unable to generate class balanced samples.\n",
      "N foreground 16450, N  background 0,unable to generate class balanced samples.\n",
      "N foreground 19210, N  background 0,unable to generate class balanced samples.\n",
      "N foreground 14809, N  background 0,unable to generate class balanced samples.\n",
      "N foreground 15838, N  background 0,unable to generate class balanced samples.\n",
      "N foreground 10533, N  background 0,unable to generate class balanced samples.\n",
      "N foreground 16388, N  background 0,unable to generate class balanced samples.\n",
      "N foreground 15619, N  background 0,unable to generate class balanced samples.\n",
      "N foreground 22593, N  background 0,unable to generate class balanced samples.\n",
      "N foreground 15184, N  background 0,unable to generate class balanced samples.\n",
      "N foreground 16438, N  background 0,unable to generate class balanced samples.\n",
      "N foreground 13809, N  background 0,unable to generate class balanced samples.\n",
      "N foreground 16682, N  background 0,unable to generate class balanced samples.\n",
      "N foreground 16115, N  background 0,unable to generate class balanced samples.\n",
      "N foreground 10474, N  background 0,unable to generate class balanced samples.\n",
      "N foreground 15909, N  background 0,unable to generate class balanced samples.\n",
      "N foreground 13958, N  background 0,unable to generate class balanced samples.\n"
     ]
    },
    {
     "name": "stdout",
     "output_type": "stream",
     "text": [
      "1/13, train_loss: 0.1025\n",
      "2/13, train_loss: 0.1032\n",
      "3/13, train_loss: 0.1057\n",
      "4/13, train_loss: 0.1169\n",
      "5/13, train_loss: 0.1131\n",
      "6/13, train_loss: 0.1175\n",
      "7/13, train_loss: 0.1122\n",
      "8/13, train_loss: 0.1108\n",
      "9/13, train_loss: 0.1134\n",
      "10/13, train_loss: 0.1124\n",
      "11/13, train_loss: 0.1098\n",
      "12/13, train_loss: 0.1036\n",
      "13/13, train_loss: 0.1157\n",
      "epoch 136 average loss: 0.1105\n"
     ]
    },
    {
     "name": "stderr",
     "output_type": "stream",
     "text": [
      "N foreground 14149, N  background 0,unable to generate class balanced samples.\n",
      "N foreground 13981, N  background 0,unable to generate class balanced samples.\n",
      "N foreground 14351, N  background 0,unable to generate class balanced samples.\n",
      "N foreground 16021, N  background 0,unable to generate class balanced samples.\n",
      "N foreground 13080, N  background 0,unable to generate class balanced samples.\n",
      "N foreground 10539, N  background 0,unable to generate class balanced samples.\n",
      "N foreground 18264, N  background 0,unable to generate class balanced samples.\n",
      "N foreground 14458, N  background 0,unable to generate class balanced samples.\n",
      "N foreground 14199, N  background 0,unable to generate class balanced samples.\n"
     ]
    },
    {
     "name": "stdout",
     "output_type": "stream",
     "text": [
      "current epoch: 136 current mean dice: 0.9042\n",
      "best mean dice: 0.9043at epoch: 133\n",
      "----------\n",
      "epoch 137/150\n"
     ]
    },
    {
     "name": "stderr",
     "output_type": "stream",
     "text": [
      "N foreground 17716, N  background 0,unable to generate class balanced samples.\n",
      "N foreground 16388, N  background 0,unable to generate class balanced samples.\n",
      "N foreground 15909, N  background 0,unable to generate class balanced samples.\n",
      "N foreground 15838, N  background 0,unable to generate class balanced samples.\n",
      "N foreground 13958, N  background 0,unable to generate class balanced samples.\n",
      "N foreground 16438, N  background 0,unable to generate class balanced samples.\n",
      "N foreground 10474, N  background 0,unable to generate class balanced samples.\n",
      "N foreground 14230, N  background 0,unable to generate class balanced samples.\n",
      "N foreground 13064, N  background 0,unable to generate class balanced samples.\n",
      "N foreground 19210, N  background 0,unable to generate class balanced samples.\n",
      "N foreground 10533, N  background 0,unable to generate class balanced samples.\n",
      "N foreground 13138, N  background 0,unable to generate class balanced samples.\n",
      "N foreground 12122, N  background 0,unable to generate class balanced samples.\n",
      "N foreground 13809, N  background 0,unable to generate class balanced samples.\n",
      "N foreground 15619, N  background 0,unable to generate class balanced samples.\n",
      "N foreground 16115, N  background 0,unable to generate class balanced samples.\n",
      "N foreground 10992, N  background 0,unable to generate class balanced samples.\n",
      "N foreground 14262, N  background 0,unable to generate class balanced samples.\n",
      "N foreground 8935, N  background 0,unable to generate class balanced samples.\n",
      "N foreground 16682, N  background 0,unable to generate class balanced samples.\n",
      "N foreground 15184, N  background 0,unable to generate class balanced samples.\n",
      "N foreground 17097, N  background 0,unable to generate class balanced samples.\n",
      "N foreground 14317, N  background 0,unable to generate class balanced samples.\n",
      "N foreground 16450, N  background 0,unable to generate class balanced samples.\n",
      "N foreground 22593, N  background 0,unable to generate class balanced samples.\n",
      "N foreground 14809, N  background 0,unable to generate class balanced samples.\n"
     ]
    },
    {
     "name": "stdout",
     "output_type": "stream",
     "text": [
      "1/13, train_loss: 0.1090\n",
      "2/13, train_loss: 0.1210\n",
      "3/13, train_loss: 0.1024\n",
      "4/13, train_loss: 0.1060\n",
      "5/13, train_loss: 0.1137\n",
      "6/13, train_loss: 0.1118\n",
      "7/13, train_loss: 0.1116\n",
      "8/13, train_loss: 0.1220\n",
      "9/13, train_loss: 0.1088\n",
      "10/13, train_loss: 0.1115\n",
      "11/13, train_loss: 0.1052\n",
      "12/13, train_loss: 0.1136\n",
      "13/13, train_loss: 0.1099\n",
      "epoch 137 average loss: 0.1113\n"
     ]
    },
    {
     "name": "stderr",
     "output_type": "stream",
     "text": [
      "N foreground 10539, N  background 0,unable to generate class balanced samples.\n",
      "N foreground 16021, N  background 0,unable to generate class balanced samples.\n",
      "N foreground 13981, N  background 0,unable to generate class balanced samples.\n",
      "N foreground 13080, N  background 0,unable to generate class balanced samples.\n",
      "N foreground 14149, N  background 0,unable to generate class balanced samples.\n",
      "N foreground 14351, N  background 0,unable to generate class balanced samples.\n",
      "N foreground 18264, N  background 0,unable to generate class balanced samples.\n",
      "N foreground 14458, N  background 0,unable to generate class balanced samples.\n",
      "N foreground 14199, N  background 0,unable to generate class balanced samples.\n"
     ]
    },
    {
     "name": "stdout",
     "output_type": "stream",
     "text": [
      "current epoch: 137 current mean dice: 0.9035\n",
      "best mean dice: 0.9043at epoch: 133\n",
      "----------\n",
      "epoch 138/150\n"
     ]
    },
    {
     "name": "stderr",
     "output_type": "stream",
     "text": [
      "N foreground 13064, N  background 0,unable to generate class balanced samples.\n",
      "N foreground 19210, N  background 0,unable to generate class balanced samples.\n",
      "N foreground 13958, N  background 0,unable to generate class balanced samples.\n",
      "N foreground 15909, N  background 0,unable to generate class balanced samples.\n",
      "N foreground 22593, N  background 0,unable to generate class balanced samples.\n",
      "N foreground 12122, N  background 0,unable to generate class balanced samples.\n",
      "N foreground 16450, N  background 0,unable to generate class balanced samples.\n",
      "N foreground 14317, N  background 0,unable to generate class balanced samples.\n",
      "N foreground 8935, N  background 0,unable to generate class balanced samples.\n",
      "N foreground 15184, N  background 0,unable to generate class balanced samples.\n",
      "N foreground 14230, N  background 0,unable to generate class balanced samples.\n",
      "N foreground 13138, N  background 0,unable to generate class balanced samples.\n",
      "N foreground 16438, N  background 0,unable to generate class balanced samples.\n",
      "N foreground 10992, N  background 0,unable to generate class balanced samples.\n",
      "N foreground 10474, N  background 0,unable to generate class balanced samples.\n",
      "N foreground 16115, N  background 0,unable to generate class balanced samples.\n",
      "N foreground 14262, N  background 0,unable to generate class balanced samples.\n",
      "N foreground 14809, N  background 0,unable to generate class balanced samples.\n",
      "N foreground 17097, N  background 0,unable to generate class balanced samples.\n",
      "N foreground 13809, N  background 0,unable to generate class balanced samples.\n",
      "N foreground 16682, N  background 0,unable to generate class balanced samples.\n",
      "N foreground 10533, N  background 0,unable to generate class balanced samples.\n",
      "N foreground 17716, N  background 0,unable to generate class balanced samples.\n",
      "N foreground 15838, N  background 0,unable to generate class balanced samples.\n",
      "N foreground 16388, N  background 0,unable to generate class balanced samples.\n",
      "N foreground 15619, N  background 0,unable to generate class balanced samples.\n"
     ]
    },
    {
     "name": "stdout",
     "output_type": "stream",
     "text": [
      "1/13, train_loss: 0.1133\n",
      "2/13, train_loss: 0.1091\n",
      "3/13, train_loss: 0.1191\n",
      "4/13, train_loss: 0.1093\n",
      "5/13, train_loss: 0.1152\n",
      "6/13, train_loss: 0.1118\n",
      "7/13, train_loss: 0.1031\n",
      "8/13, train_loss: 0.1203\n",
      "9/13, train_loss: 0.1035\n",
      "10/13, train_loss: 0.1093\n",
      "11/13, train_loss: 0.1016\n",
      "12/13, train_loss: 0.1067\n",
      "13/13, train_loss: 0.1061\n",
      "epoch 138 average loss: 0.1099\n"
     ]
    },
    {
     "name": "stderr",
     "output_type": "stream",
     "text": [
      "N foreground 16021, N  background 0,unable to generate class balanced samples.\n",
      "N foreground 13981, N  background 0,unable to generate class balanced samples.\n",
      "N foreground 14149, N  background 0,unable to generate class balanced samples.\n",
      "N foreground 10539, N  background 0,unable to generate class balanced samples.\n",
      "N foreground 18264, N  background 0,unable to generate class balanced samples.\n",
      "N foreground 14351, N  background 0,unable to generate class balanced samples.\n",
      "N foreground 13080, N  background 0,unable to generate class balanced samples.\n",
      "N foreground 14458, N  background 0,unable to generate class balanced samples.\n",
      "N foreground 14199, N  background 0,unable to generate class balanced samples.\n"
     ]
    },
    {
     "name": "stdout",
     "output_type": "stream",
     "text": [
      "current epoch: 138 current mean dice: 0.9025\n",
      "best mean dice: 0.9043at epoch: 133\n",
      "----------\n",
      "epoch 139/150\n"
     ]
    },
    {
     "name": "stderr",
     "output_type": "stream",
     "text": [
      "N foreground 13958, N  background 0,unable to generate class balanced samples.\n",
      "N foreground 15909, N  background 0,unable to generate class balanced samples.\n",
      "N foreground 14317, N  background 0,unable to generate class balanced samples.\n",
      "N foreground 13809, N  background 0,unable to generate class balanced samples.\n",
      "N foreground 16388, N  background 0,unable to generate class balanced samples.\n",
      "N foreground 13064, N  background 0,unable to generate class balanced samples.\n",
      "N foreground 10474, N  background 0,unable to generate class balanced samples.\n",
      "N foreground 8935, N  background 0,unable to generate class balanced samples.\n",
      "N foreground 16115, N  background 0,unable to generate class balanced samples.\n",
      "N foreground 10992, N  background 0,unable to generate class balanced samples.\n",
      "N foreground 17097, N  background 0,unable to generate class balanced samples.\n",
      "N foreground 17716, N  background 0,unable to generate class balanced samples.\n",
      "N foreground 14230, N  background 0,unable to generate class balanced samples.\n",
      "N foreground 16438, N  background 0,unable to generate class balanced samples.\n",
      "N foreground 15838, N  background 0,unable to generate class balanced samples.\n",
      "N foreground 15619, N  background 0,unable to generate class balanced samples.\n",
      "N foreground 16682, N  background 0,unable to generate class balanced samples.\n",
      "N foreground 14809, N  background 0,unable to generate class balanced samples.\n",
      "N foreground 14262, N  background 0,unable to generate class balanced samples.\n",
      "N foreground 22593, N  background 0,unable to generate class balanced samples.\n",
      "N foreground 10533, N  background 0,unable to generate class balanced samples.\n",
      "N foreground 19210, N  background 0,unable to generate class balanced samples.\n",
      "N foreground 13138, N  background 0,unable to generate class balanced samples.\n",
      "N foreground 12122, N  background 0,unable to generate class balanced samples.\n",
      "N foreground 16450, N  background 0,unable to generate class balanced samples.\n",
      "N foreground 15184, N  background 0,unable to generate class balanced samples.\n"
     ]
    },
    {
     "name": "stdout",
     "output_type": "stream",
     "text": [
      "1/13, train_loss: 0.0945\n",
      "2/13, train_loss: 0.1189\n",
      "3/13, train_loss: 0.1057\n",
      "4/13, train_loss: 0.1149\n",
      "5/13, train_loss: 0.1176\n",
      "6/13, train_loss: 0.1115\n",
      "7/13, train_loss: 0.1128\n",
      "8/13, train_loss: 0.1134\n",
      "9/13, train_loss: 0.1061\n",
      "10/13, train_loss: 0.1032\n",
      "11/13, train_loss: 0.1101\n",
      "12/13, train_loss: 0.1104\n",
      "13/13, train_loss: 0.1012\n",
      "epoch 139 average loss: 0.1093\n"
     ]
    },
    {
     "name": "stderr",
     "output_type": "stream",
     "text": [
      "N foreground 14351, N  background 0,unable to generate class balanced samples.\n",
      "N foreground 13080, N  background 0,unable to generate class balanced samples.\n",
      "N foreground 10539, N  background 0,unable to generate class balanced samples.\n",
      "N foreground 13981, N  background 0,unable to generate class balanced samples.\n",
      "N foreground 16021, N  background 0,unable to generate class balanced samples.\n",
      "N foreground 14149, N  background 0,unable to generate class balanced samples.\n",
      "N foreground 18264, N  background 0,unable to generate class balanced samples.\n",
      "N foreground 14458, N  background 0,unable to generate class balanced samples.\n",
      "N foreground 14199, N  background 0,unable to generate class balanced samples.\n"
     ]
    },
    {
     "name": "stdout",
     "output_type": "stream",
     "text": [
      "saved new best metric model\n",
      "current epoch: 139 current mean dice: 0.9072\n",
      "best mean dice: 0.9072at epoch: 139\n",
      "----------\n",
      "epoch 140/150\n"
     ]
    },
    {
     "name": "stderr",
     "output_type": "stream",
     "text": [
      "N foreground 12122, N  background 0,unable to generate class balanced samples.\n",
      "N foreground 17716, N  background 0,unable to generate class balanced samples.\n",
      "N foreground 14809, N  background 0,unable to generate class balanced samples.\n",
      "N foreground 16450, N  background 0,unable to generate class balanced samples.\n",
      "N foreground 13064, N  background 0,unable to generate class balanced samples.\n",
      "N foreground 16682, N  background 0,unable to generate class balanced samples.\n",
      "N foreground 22593, N  background 0,unable to generate class balanced samples.\n",
      "N foreground 16438, N  background 0,unable to generate class balanced samples.\n",
      "N foreground 10474, N  background 0,unable to generate class balanced samples.\n",
      "N foreground 14317, N  background 0,unable to generate class balanced samples.\n",
      "N foreground 14230, N  background 0,unable to generate class balanced samples.\n",
      "N foreground 13138, N  background 0,unable to generate class balanced samples.\n",
      "N foreground 16388, N  background 0,unable to generate class balanced samples.\n",
      "N foreground 15619, N  background 0,unable to generate class balanced samples.\n",
      "N foreground 15184, N  background 0,unable to generate class balanced samples.\n",
      "N foreground 16115, N  background 0,unable to generate class balanced samples.\n",
      "N foreground 13809, N  background 0,unable to generate class balanced samples.\n",
      "N foreground 19210, N  background 0,unable to generate class balanced samples.\n",
      "N foreground 17097, N  background 0,unable to generate class balanced samples.\n",
      "N foreground 8935, N  background 0,unable to generate class balanced samples.\n",
      "N foreground 13958, N  background 0,unable to generate class balanced samples.\n",
      "N foreground 10992, N  background 0,unable to generate class balanced samples.\n",
      "N foreground 15838, N  background 0,unable to generate class balanced samples.\n",
      "N foreground 10533, N  background 0,unable to generate class balanced samples.\n",
      "N foreground 15909, N  background 0,unable to generate class balanced samples.\n",
      "N foreground 14262, N  background 0,unable to generate class balanced samples.\n"
     ]
    },
    {
     "name": "stdout",
     "output_type": "stream",
     "text": [
      "1/13, train_loss: 0.1130\n",
      "2/13, train_loss: 0.1030\n",
      "3/13, train_loss: 0.1176\n",
      "4/13, train_loss: 0.0999\n",
      "5/13, train_loss: 0.1112\n",
      "6/13, train_loss: 0.1098\n",
      "7/13, train_loss: 0.1009\n",
      "8/13, train_loss: 0.1140\n",
      "9/13, train_loss: 0.1066\n",
      "10/13, train_loss: 0.1033\n",
      "11/13, train_loss: 0.1179\n",
      "12/13, train_loss: 0.1051\n",
      "13/13, train_loss: 0.1062\n",
      "epoch 140 average loss: 0.1083\n"
     ]
    },
    {
     "name": "stderr",
     "output_type": "stream",
     "text": [
      "N foreground 10539, N  background 0,unable to generate class balanced samples.\n",
      "N foreground 13981, N  background 0,unable to generate class balanced samples.\n",
      "N foreground 18264, N  background 0,unable to generate class balanced samples.\n",
      "N foreground 14351, N  background 0,unable to generate class balanced samples.\n",
      "N foreground 14149, N  background 0,unable to generate class balanced samples.\n",
      "N foreground 16021, N  background 0,unable to generate class balanced samples.\n",
      "N foreground 14458, N  background 0,unable to generate class balanced samples.\n",
      "N foreground 13080, N  background 0,unable to generate class balanced samples.\n",
      "N foreground 14199, N  background 0,unable to generate class balanced samples.\n"
     ]
    },
    {
     "name": "stdout",
     "output_type": "stream",
     "text": [
      "current epoch: 140 current mean dice: 0.9038\n",
      "best mean dice: 0.9072at epoch: 139\n",
      "----------\n",
      "epoch 141/150\n"
     ]
    },
    {
     "name": "stderr",
     "output_type": "stream",
     "text": [
      "N foreground 13958, N  background 0,unable to generate class balanced samples.\n",
      "N foreground 16438, N  background 0,unable to generate class balanced samples.\n",
      "N foreground 16115, N  background 0,unable to generate class balanced samples.\n",
      "N foreground 16450, N  background 0,unable to generate class balanced samples.\n",
      "N foreground 14262, N  background 0,unable to generate class balanced samples.\n",
      "N foreground 15184, N  background 0,unable to generate class balanced samples.\n",
      "N foreground 15838, N  background 0,unable to generate class balanced samples.\n",
      "N foreground 13809, N  background 0,unable to generate class balanced samples.\n",
      "N foreground 19210, N  background 0,unable to generate class balanced samples.\n",
      "N foreground 16682, N  background 0,unable to generate class balanced samples.\n",
      "N foreground 17716, N  background 0,unable to generate class balanced samples.\n",
      "N foreground 17097, N  background 0,unable to generate class balanced samples.\n",
      "N foreground 14809, N  background 0,unable to generate class balanced samples.\n",
      "N foreground 22593, N  background 0,unable to generate class balanced samples.\n",
      "N foreground 10474, N  background 0,unable to generate class balanced samples.\n",
      "N foreground 10992, N  background 0,unable to generate class balanced samples.\n",
      "N foreground 14317, N  background 0,unable to generate class balanced samples.\n",
      "N foreground 15619, N  background 0,unable to generate class balanced samples.\n",
      "N foreground 15909, N  background 0,unable to generate class balanced samples.\n",
      "N foreground 16388, N  background 0,unable to generate class balanced samples.\n",
      "N foreground 12122, N  background 0,unable to generate class balanced samples.\n",
      "N foreground 14230, N  background 0,unable to generate class balanced samples.\n",
      "N foreground 10533, N  background 0,unable to generate class balanced samples.\n",
      "N foreground 8935, N  background 0,unable to generate class balanced samples.\n",
      "N foreground 13138, N  background 0,unable to generate class balanced samples.\n",
      "N foreground 13064, N  background 0,unable to generate class balanced samples.\n"
     ]
    },
    {
     "name": "stdout",
     "output_type": "stream",
     "text": [
      "1/13, train_loss: 0.1100\n",
      "2/13, train_loss: 0.1044\n",
      "3/13, train_loss: 0.1052\n",
      "4/13, train_loss: 0.1171\n",
      "5/13, train_loss: 0.1164\n",
      "6/13, train_loss: 0.1003\n",
      "7/13, train_loss: 0.1082\n",
      "8/13, train_loss: 0.0916\n",
      "9/13, train_loss: 0.1056\n",
      "10/13, train_loss: 0.1129\n",
      "11/13, train_loss: 0.1112\n",
      "12/13, train_loss: 0.1110\n",
      "13/13, train_loss: 0.1082\n",
      "epoch 141 average loss: 0.1079\n"
     ]
    },
    {
     "name": "stderr",
     "output_type": "stream",
     "text": [
      "N foreground 13080, N  background 0,unable to generate class balanced samples.\n",
      "N foreground 13981, N  background 0,unable to generate class balanced samples.\n",
      "N foreground 18264, N  background 0,unable to generate class balanced samples.\n",
      "N foreground 14149, N  background 0,unable to generate class balanced samples.\n",
      "N foreground 14351, N  background 0,unable to generate class balanced samples.\n",
      "N foreground 10539, N  background 0,unable to generate class balanced samples.\n",
      "N foreground 16021, N  background 0,unable to generate class balanced samples.\n",
      "N foreground 14458, N  background 0,unable to generate class balanced samples.\n",
      "N foreground 14199, N  background 0,unable to generate class balanced samples.\n"
     ]
    },
    {
     "name": "stdout",
     "output_type": "stream",
     "text": [
      "current epoch: 141 current mean dice: 0.9053\n",
      "best mean dice: 0.9072at epoch: 139\n",
      "----------\n",
      "epoch 142/150\n"
     ]
    },
    {
     "name": "stderr",
     "output_type": "stream",
     "text": [
      "N foreground 8935, N  background 0,unable to generate class balanced samples.\n",
      "N foreground 14230, N  background 0,unable to generate class balanced samples.\n",
      "N foreground 13138, N  background 0,unable to generate class balanced samples.\n",
      "N foreground 15838, N  background 0,unable to generate class balanced samples.\n",
      "N foreground 14317, N  background 0,unable to generate class balanced samples.\n",
      "N foreground 22593, N  background 0,unable to generate class balanced samples.\n",
      "N foreground 17716, N  background 0,unable to generate class balanced samples.\n",
      "N foreground 14262, N  background 0,unable to generate class balanced samples.\n",
      "N foreground 10992, N  background 0,unable to generate class balanced samples.\n",
      "N foreground 10533, N  background 0,unable to generate class balanced samples.\n",
      "N foreground 16450, N  background 0,unable to generate class balanced samples.\n",
      "N foreground 14809, N  background 0,unable to generate class balanced samples.\n",
      "N foreground 16115, N  background 0,unable to generate class balanced samples.\n",
      "N foreground 13064, N  background 0,unable to generate class balanced samples.\n",
      "N foreground 10474, N  background 0,unable to generate class balanced samples.\n",
      "N foreground 16438, N  background 0,unable to generate class balanced samples.\n",
      "N foreground 15184, N  background 0,unable to generate class balanced samples.\n",
      "N foreground 15619, N  background 0,unable to generate class balanced samples.\n",
      "N foreground 12122, N  background 0,unable to generate class balanced samples.\n",
      "N foreground 15909, N  background 0,unable to generate class balanced samples.\n",
      "N foreground 19210, N  background 0,unable to generate class balanced samples.\n",
      "N foreground 13958, N  background 0,unable to generate class balanced samples.\n",
      "N foreground 17097, N  background 0,unable to generate class balanced samples.\n",
      "N foreground 16388, N  background 0,unable to generate class balanced samples.\n",
      "N foreground 13809, N  background 0,unable to generate class balanced samples.\n",
      "N foreground 16682, N  background 0,unable to generate class balanced samples.\n"
     ]
    },
    {
     "name": "stdout",
     "output_type": "stream",
     "text": [
      "1/13, train_loss: 0.1161\n",
      "2/13, train_loss: 0.1009\n",
      "3/13, train_loss: 0.1037\n",
      "4/13, train_loss: 0.1063\n",
      "5/13, train_loss: 0.1210\n",
      "6/13, train_loss: 0.1091\n",
      "7/13, train_loss: 0.1125\n",
      "8/13, train_loss: 0.0952\n",
      "9/13, train_loss: 0.1060\n",
      "10/13, train_loss: 0.1113\n",
      "11/13, train_loss: 0.1156\n",
      "12/13, train_loss: 0.1010\n",
      "13/13, train_loss: 0.1086\n",
      "epoch 142 average loss: 0.1083\n"
     ]
    },
    {
     "name": "stderr",
     "output_type": "stream",
     "text": [
      "N foreground 14149, N  background 0,unable to generate class balanced samples.\n",
      "N foreground 13080, N  background 0,unable to generate class balanced samples.\n",
      "N foreground 14351, N  background 0,unable to generate class balanced samples.\n",
      "N foreground 16021, N  background 0,unable to generate class balanced samples.\n",
      "N foreground 18264, N  background 0,unable to generate class balanced samples.\n",
      "N foreground 10539, N  background 0,unable to generate class balanced samples.\n",
      "N foreground 13981, N  background 0,unable to generate class balanced samples.\n",
      "N foreground 14458, N  background 0,unable to generate class balanced samples.\n",
      "N foreground 14199, N  background 0,unable to generate class balanced samples.\n"
     ]
    },
    {
     "name": "stdout",
     "output_type": "stream",
     "text": [
      "current epoch: 142 current mean dice: 0.9067\n",
      "best mean dice: 0.9072at epoch: 139\n",
      "----------\n",
      "epoch 143/150\n"
     ]
    },
    {
     "name": "stderr",
     "output_type": "stream",
     "text": [
      "N foreground 19210, N  background 0,unable to generate class balanced samples.\n",
      "N foreground 10992, N  background 0,unable to generate class balanced samples.\n",
      "N foreground 13809, N  background 0,unable to generate class balanced samples.\n",
      "N foreground 13958, N  background 0,unable to generate class balanced samples.\n",
      "N foreground 14809, N  background 0,unable to generate class balanced samples.\n",
      "N foreground 15619, N  background 0,unable to generate class balanced samples.\n",
      "N foreground 15838, N  background 0,unable to generate class balanced samples.\n",
      "N foreground 10474, N  background 0,unable to generate class balanced samples.\n",
      "N foreground 16438, N  background 0,unable to generate class balanced samples.\n",
      "N foreground 14262, N  background 0,unable to generate class balanced samples.\n",
      "N foreground 10533, N  background 0,unable to generate class balanced samples.\n",
      "N foreground 16388, N  background 0,unable to generate class balanced samples.\n",
      "N foreground 16450, N  background 0,unable to generate class balanced samples.\n",
      "N foreground 15184, N  background 0,unable to generate class balanced samples.\n",
      "N foreground 12122, N  background 0,unable to generate class balanced samples.\n",
      "N foreground 22593, N  background 0,unable to generate class balanced samples.\n",
      "N foreground 16115, N  background 0,unable to generate class balanced samples.\n",
      "N foreground 13138, N  background 0,unable to generate class balanced samples.\n",
      "N foreground 15909, N  background 0,unable to generate class balanced samples.\n",
      "N foreground 17097, N  background 0,unable to generate class balanced samples.\n",
      "N foreground 14317, N  background 0,unable to generate class balanced samples.\n",
      "N foreground 14230, N  background 0,unable to generate class balanced samples.\n",
      "N foreground 17716, N  background 0,unable to generate class balanced samples.\n",
      "N foreground 16682, N  background 0,unable to generate class balanced samples.\n",
      "N foreground 13064, N  background 0,unable to generate class balanced samples.\n",
      "N foreground 8935, N  background 0,unable to generate class balanced samples.\n"
     ]
    },
    {
     "name": "stdout",
     "output_type": "stream",
     "text": [
      "1/13, train_loss: 0.0977\n",
      "2/13, train_loss: 0.1053\n",
      "3/13, train_loss: 0.1041\n",
      "4/13, train_loss: 0.1142\n",
      "5/13, train_loss: 0.1021\n",
      "6/13, train_loss: 0.0956\n",
      "7/13, train_loss: 0.1098\n",
      "8/13, train_loss: 0.1070\n",
      "9/13, train_loss: 0.1051\n",
      "10/13, train_loss: 0.1143\n",
      "11/13, train_loss: 0.1022\n",
      "12/13, train_loss: 0.1090\n",
      "13/13, train_loss: 0.1031\n",
      "epoch 143 average loss: 0.1053\n"
     ]
    },
    {
     "name": "stderr",
     "output_type": "stream",
     "text": [
      "N foreground 14149, N  background 0,unable to generate class balanced samples.\n",
      "N foreground 14351, N  background 0,unable to generate class balanced samples.\n",
      "N foreground 13981, N  background 0,unable to generate class balanced samples.\n",
      "N foreground 18264, N  background 0,unable to generate class balanced samples.\n",
      "N foreground 13080, N  background 0,unable to generate class balanced samples.\n",
      "N foreground 10539, N  background 0,unable to generate class balanced samples.\n",
      "N foreground 16021, N  background 0,unable to generate class balanced samples.\n",
      "N foreground 14458, N  background 0,unable to generate class balanced samples.\n",
      "N foreground 14199, N  background 0,unable to generate class balanced samples.\n"
     ]
    },
    {
     "name": "stdout",
     "output_type": "stream",
     "text": [
      "saved new best metric model\n",
      "current epoch: 143 current mean dice: 0.9085\n",
      "best mean dice: 0.9085at epoch: 143\n",
      "----------\n",
      "epoch 144/150\n"
     ]
    },
    {
     "name": "stderr",
     "output_type": "stream",
     "text": [
      "N foreground 16388, N  background 0,unable to generate class balanced samples.\n",
      "N foreground 14230, N  background 0,unable to generate class balanced samples.\n",
      "N foreground 8935, N  background 0,unable to generate class balanced samples.\n",
      "N foreground 12122, N  background 0,unable to generate class balanced samples.\n",
      "N foreground 16115, N  background 0,unable to generate class balanced samples.\n",
      "N foreground 14317, N  background 0,unable to generate class balanced samples.\n",
      "N foreground 15184, N  background 0,unable to generate class balanced samples.\n",
      "N foreground 16682, N  background 0,unable to generate class balanced samples.\n",
      "N foreground 16438, N  background 0,unable to generate class balanced samples.\n",
      "N foreground 16450, N  background 0,unable to generate class balanced samples.\n",
      "N foreground 13958, N  background 0,unable to generate class balanced samples.\n",
      "N foreground 13809, N  background 0,unable to generate class balanced samples.\n",
      "N foreground 13138, N  background 0,unable to generate class balanced samples.\n",
      "N foreground 15909, N  background 0,unable to generate class balanced samples.\n",
      "N foreground 15619, N  background 0,unable to generate class balanced samples.\n",
      "N foreground 22593, N  background 0,unable to generate class balanced samples.\n",
      "N foreground 17097, N  background 0,unable to generate class balanced samples.\n",
      "N foreground 10533, N  background 0,unable to generate class balanced samples.\n",
      "N foreground 15838, N  background 0,unable to generate class balanced samples.\n",
      "N foreground 10474, N  background 0,unable to generate class balanced samples.\n",
      "N foreground 19210, N  background 0,unable to generate class balanced samples.\n",
      "N foreground 13064, N  background 0,unable to generate class balanced samples.\n",
      "N foreground 14809, N  background 0,unable to generate class balanced samples.\n",
      "N foreground 10992, N  background 0,unable to generate class balanced samples.\n",
      "N foreground 17716, N  background 0,unable to generate class balanced samples.\n",
      "N foreground 14262, N  background 0,unable to generate class balanced samples.\n"
     ]
    },
    {
     "name": "stdout",
     "output_type": "stream",
     "text": [
      "1/13, train_loss: 0.0981\n",
      "2/13, train_loss: 0.1029\n",
      "3/13, train_loss: 0.1160\n",
      "4/13, train_loss: 0.1112\n",
      "5/13, train_loss: 0.1020\n",
      "6/13, train_loss: 0.1117\n",
      "7/13, train_loss: 0.1090\n",
      "8/13, train_loss: 0.1026\n",
      "9/13, train_loss: 0.1070\n",
      "10/13, train_loss: 0.1028\n",
      "11/13, train_loss: 0.1070\n",
      "12/13, train_loss: 0.1045\n",
      "13/13, train_loss: 0.0987\n",
      "epoch 144 average loss: 0.1057\n"
     ]
    },
    {
     "name": "stderr",
     "output_type": "stream",
     "text": [
      "N foreground 13080, N  background 0,unable to generate class balanced samples.\n",
      "N foreground 14149, N  background 0,unable to generate class balanced samples.\n",
      "N foreground 14351, N  background 0,unable to generate class balanced samples.\n",
      "N foreground 16021, N  background 0,unable to generate class balanced samples.\n",
      "N foreground 10539, N  background 0,unable to generate class balanced samples.\n",
      "N foreground 13981, N  background 0,unable to generate class balanced samples.\n",
      "N foreground 18264, N  background 0,unable to generate class balanced samples.\n",
      "N foreground 14458, N  background 0,unable to generate class balanced samples.\n",
      "N foreground 14199, N  background 0,unable to generate class balanced samples.\n"
     ]
    },
    {
     "name": "stdout",
     "output_type": "stream",
     "text": [
      "saved new best metric model\n",
      "current epoch: 144 current mean dice: 0.9103\n",
      "best mean dice: 0.9103at epoch: 144\n",
      "----------\n",
      "epoch 145/150\n"
     ]
    },
    {
     "name": "stderr",
     "output_type": "stream",
     "text": [
      "N foreground 16438, N  background 0,unable to generate class balanced samples.\n",
      "N foreground 15619, N  background 0,unable to generate class balanced samples.\n",
      "N foreground 10533, N  background 0,unable to generate class balanced samples.\n",
      "N foreground 10474, N  background 0,unable to generate class balanced samples.\n",
      "N foreground 15184, N  background 0,unable to generate class balanced samples.\n",
      "N foreground 14317, N  background 0,unable to generate class balanced samples.\n",
      "N foreground 10992, N  background 0,unable to generate class balanced samples.\n",
      "N foreground 22593, N  background 0,unable to generate class balanced samples.\n",
      "N foreground 13064, N  background 0,unable to generate class balanced samples.\n",
      "N foreground 17097, N  background 0,unable to generate class balanced samples.\n",
      "N foreground 14230, N  background 0,unable to generate class balanced samples.\n",
      "N foreground 15909, N  background 0,unable to generate class balanced samples.\n",
      "N foreground 12122, N  background 0,unable to generate class balanced samples.\n",
      "N foreground 16450, N  background 0,unable to generate class balanced samples.\n",
      "N foreground 8935, N  background 0,unable to generate class balanced samples.\n",
      "N foreground 13809, N  background 0,unable to generate class balanced samples.\n",
      "N foreground 14809, N  background 0,unable to generate class balanced samples.\n",
      "N foreground 17716, N  background 0,unable to generate class balanced samples.\n",
      "N foreground 15838, N  background 0,unable to generate class balanced samples.\n",
      "N foreground 13138, N  background 0,unable to generate class balanced samples.\n",
      "N foreground 13958, N  background 0,unable to generate class balanced samples.\n",
      "N foreground 16388, N  background 0,unable to generate class balanced samples.\n",
      "N foreground 16682, N  background 0,unable to generate class balanced samples.\n",
      "N foreground 16115, N  background 0,unable to generate class balanced samples.\n",
      "N foreground 14262, N  background 0,unable to generate class balanced samples.\n",
      "N foreground 19210, N  background 0,unable to generate class balanced samples.\n"
     ]
    },
    {
     "name": "stdout",
     "output_type": "stream",
     "text": [
      "1/13, train_loss: 0.1134\n",
      "2/13, train_loss: 0.1000\n",
      "3/13, train_loss: 0.1045\n",
      "4/13, train_loss: 0.1005\n",
      "5/13, train_loss: 0.1031\n",
      "6/13, train_loss: 0.1023\n",
      "7/13, train_loss: 0.1019\n",
      "8/13, train_loss: 0.1052\n",
      "9/13, train_loss: 0.1044\n",
      "10/13, train_loss: 0.1080\n",
      "11/13, train_loss: 0.1146\n",
      "12/13, train_loss: 0.0983\n",
      "13/13, train_loss: 0.0961\n",
      "epoch 145 average loss: 0.1040\n"
     ]
    },
    {
     "name": "stderr",
     "output_type": "stream",
     "text": [
      "N foreground 13080, N  background 0,unable to generate class balanced samples.\n",
      "N foreground 10539, N  background 0,unable to generate class balanced samples.\n",
      "N foreground 16021, N  background 0,unable to generate class balanced samples.\n",
      "N foreground 14149, N  background 0,unable to generate class balanced samples.\n",
      "N foreground 13981, N  background 0,unable to generate class balanced samples.\n",
      "N foreground 18264, N  background 0,unable to generate class balanced samples.\n",
      "N foreground 14351, N  background 0,unable to generate class balanced samples.\n",
      "N foreground 14458, N  background 0,unable to generate class balanced samples.\n",
      "N foreground 14199, N  background 0,unable to generate class balanced samples.\n"
     ]
    },
    {
     "name": "stdout",
     "output_type": "stream",
     "text": [
      "current epoch: 145 current mean dice: 0.9052\n",
      "best mean dice: 0.9103at epoch: 144\n",
      "----------\n",
      "epoch 146/150\n"
     ]
    },
    {
     "name": "stderr",
     "output_type": "stream",
     "text": [
      "N foreground 22593, N  background 0,unable to generate class balanced samples.\n",
      "N foreground 16682, N  background 0,unable to generate class balanced samples.\n",
      "N foreground 10992, N  background 0,unable to generate class balanced samples.\n",
      "N foreground 15838, N  background 0,unable to generate class balanced samples.\n",
      "N foreground 13958, N  background 0,unable to generate class balanced samples.\n",
      "N foreground 13138, N  background 0,unable to generate class balanced samples.\n",
      "N foreground 15909, N  background 0,unable to generate class balanced samples.\n",
      "N foreground 17716, N  background 0,unable to generate class balanced samples.\n",
      "N foreground 14262, N  background 0,unable to generate class balanced samples.\n",
      "N foreground 16388, N  background 0,unable to generate class balanced samples.\n",
      "N foreground 10533, N  background 0,unable to generate class balanced samples.\n",
      "N foreground 14230, N  background 0,unable to generate class balanced samples.\n",
      "N foreground 14809, N  background 0,unable to generate class balanced samples.\n",
      "N foreground 16438, N  background 0,unable to generate class balanced samples.\n",
      "N foreground 8935, N  background 0,unable to generate class balanced samples.\n",
      "N foreground 13809, N  background 0,unable to generate class balanced samples.\n",
      "N foreground 12122, N  background 0,unable to generate class balanced samples.\n",
      "N foreground 17097, N  background 0,unable to generate class balanced samples.\n",
      "N foreground 16115, N  background 0,unable to generate class balanced samples.\n",
      "N foreground 10474, N  background 0,unable to generate class balanced samples.\n",
      "N foreground 13064, N  background 0,unable to generate class balanced samples.\n",
      "N foreground 16450, N  background 0,unable to generate class balanced samples.\n",
      "N foreground 19210, N  background 0,unable to generate class balanced samples.\n",
      "N foreground 14317, N  background 0,unable to generate class balanced samples.\n",
      "N foreground 15184, N  background 0,unable to generate class balanced samples.\n",
      "N foreground 15619, N  background 0,unable to generate class balanced samples.\n"
     ]
    },
    {
     "name": "stdout",
     "output_type": "stream",
     "text": [
      "1/13, train_loss: 0.1047\n",
      "2/13, train_loss: 0.1073\n",
      "3/13, train_loss: 0.1057\n",
      "4/13, train_loss: 0.1011\n",
      "5/13, train_loss: 0.1060\n",
      "6/13, train_loss: 0.0940\n",
      "7/13, train_loss: 0.1049\n",
      "8/13, train_loss: 0.1000\n",
      "9/13, train_loss: 0.0951\n",
      "10/13, train_loss: 0.0990\n",
      "11/13, train_loss: 0.1156\n",
      "12/13, train_loss: 0.1060\n",
      "13/13, train_loss: 0.1210\n",
      "epoch 146 average loss: 0.1046\n"
     ]
    },
    {
     "name": "stderr",
     "output_type": "stream",
     "text": [
      "N foreground 14149, N  background 0,unable to generate class balanced samples.\n",
      "N foreground 18264, N  background 0,unable to generate class balanced samples.\n",
      "N foreground 10539, N  background 0,unable to generate class balanced samples.\n",
      "N foreground 13981, N  background 0,unable to generate class balanced samples.\n",
      "N foreground 16021, N  background 0,unable to generate class balanced samples.\n",
      "N foreground 14351, N  background 0,unable to generate class balanced samples.\n",
      "N foreground 13080, N  background 0,unable to generate class balanced samples.\n",
      "N foreground 14458, N  background 0,unable to generate class balanced samples.\n",
      "N foreground 14199, N  background 0,unable to generate class balanced samples.\n"
     ]
    },
    {
     "name": "stdout",
     "output_type": "stream",
     "text": [
      "saved new best metric model\n",
      "current epoch: 146 current mean dice: 0.9115\n",
      "best mean dice: 0.9115at epoch: 146\n",
      "----------\n",
      "epoch 147/150\n"
     ]
    },
    {
     "name": "stderr",
     "output_type": "stream",
     "text": [
      "N foreground 13958, N  background 0,unable to generate class balanced samples.\n",
      "N foreground 15619, N  background 0,unable to generate class balanced samples.\n",
      "N foreground 14230, N  background 0,unable to generate class balanced samples.\n",
      "N foreground 12122, N  background 0,unable to generate class balanced samples.\n",
      "N foreground 16682, N  background 0,unable to generate class balanced samples.\n",
      "N foreground 15909, N  background 0,unable to generate class balanced samples.\n",
      "N foreground 10533, N  background 0,unable to generate class balanced samples.\n",
      "N foreground 14262, N  background 0,unable to generate class balanced samples.\n",
      "N foreground 13064, N  background 0,unable to generate class balanced samples.\n",
      "N foreground 13138, N  background 0,unable to generate class balanced samples.\n",
      "N foreground 22593, N  background 0,unable to generate class balanced samples.\n",
      "N foreground 14317, N  background 0,unable to generate class balanced samples.\n",
      "N foreground 17716, N  background 0,unable to generate class balanced samples.\n",
      "N foreground 16388, N  background 0,unable to generate class balanced samples.\n",
      "N foreground 13809, N  background 0,unable to generate class balanced samples.\n",
      "N foreground 8935, N  background 0,unable to generate class balanced samples.\n",
      "N foreground 10474, N  background 0,unable to generate class balanced samples.\n",
      "N foreground 17097, N  background 0,unable to generate class balanced samples.\n",
      "N foreground 14809, N  background 0,unable to generate class balanced samples.\n",
      "N foreground 10992, N  background 0,unable to generate class balanced samples.\n",
      "N foreground 15838, N  background 0,unable to generate class balanced samples.\n",
      "N foreground 16450, N  background 0,unable to generate class balanced samples.\n",
      "N foreground 15184, N  background 0,unable to generate class balanced samples.\n",
      "N foreground 16115, N  background 0,unable to generate class balanced samples.\n",
      "N foreground 16438, N  background 0,unable to generate class balanced samples.\n",
      "N foreground 19210, N  background 0,unable to generate class balanced samples.\n"
     ]
    },
    {
     "name": "stdout",
     "output_type": "stream",
     "text": [
      "1/13, train_loss: 0.1062\n",
      "2/13, train_loss: 0.1006\n",
      "3/13, train_loss: 0.0987\n",
      "4/13, train_loss: 0.1114\n",
      "5/13, train_loss: 0.1004\n",
      "6/13, train_loss: 0.0972\n",
      "7/13, train_loss: 0.0987\n",
      "8/13, train_loss: 0.0979\n",
      "9/13, train_loss: 0.1147\n",
      "10/13, train_loss: 0.1151\n",
      "11/13, train_loss: 0.0950\n",
      "12/13, train_loss: 0.1053\n",
      "13/13, train_loss: 0.0962\n",
      "epoch 147 average loss: 0.1029\n"
     ]
    },
    {
     "name": "stderr",
     "output_type": "stream",
     "text": [
      "N foreground 18264, N  background 0,unable to generate class balanced samples.\n",
      "N foreground 16021, N  background 0,unable to generate class balanced samples.\n",
      "N foreground 10539, N  background 0,unable to generate class balanced samples.\n",
      "N foreground 14351, N  background 0,unable to generate class balanced samples.\n",
      "N foreground 13080, N  background 0,unable to generate class balanced samples.\n",
      "N foreground 13981, N  background 0,unable to generate class balanced samples.\n",
      "N foreground 14149, N  background 0,unable to generate class balanced samples.\n",
      "N foreground 14458, N  background 0,unable to generate class balanced samples.\n",
      "N foreground 14199, N  background 0,unable to generate class balanced samples.\n"
     ]
    },
    {
     "name": "stdout",
     "output_type": "stream",
     "text": [
      "saved new best metric model\n",
      "current epoch: 147 current mean dice: 0.9126\n",
      "best mean dice: 0.9126at epoch: 147\n",
      "----------\n",
      "epoch 148/150\n"
     ]
    },
    {
     "name": "stderr",
     "output_type": "stream",
     "text": [
      "N foreground 16438, N  background 0,unable to generate class balanced samples.\n",
      "N foreground 16682, N  background 0,unable to generate class balanced samples.\n",
      "N foreground 14317, N  background 0,unable to generate class balanced samples.\n",
      "N foreground 13809, N  background 0,unable to generate class balanced samples.\n",
      "N foreground 14809, N  background 0,unable to generate class balanced samples.\n",
      "N foreground 13064, N  background 0,unable to generate class balanced samples.\n",
      "N foreground 12122, N  background 0,unable to generate class balanced samples.\n",
      "N foreground 10533, N  background 0,unable to generate class balanced samples.\n",
      "N foreground 13138, N  background 0,unable to generate class balanced samples.\n",
      "N foreground 17097, N  background 0,unable to generate class balanced samples.\n",
      "N foreground 22593, N  background 0,unable to generate class balanced samples.\n",
      "N foreground 16388, N  background 0,unable to generate class balanced samples.\n",
      "N foreground 16450, N  background 0,unable to generate class balanced samples.\n",
      "N foreground 16115, N  background 0,unable to generate class balanced samples.\n",
      "N foreground 19210, N  background 0,unable to generate class balanced samples.\n",
      "N foreground 15184, N  background 0,unable to generate class balanced samples.\n",
      "N foreground 15909, N  background 0,unable to generate class balanced samples.\n",
      "N foreground 13958, N  background 0,unable to generate class balanced samples.\n",
      "N foreground 17716, N  background 0,unable to generate class balanced samples.\n",
      "N foreground 8935, N  background 0,unable to generate class balanced samples.\n",
      "N foreground 15838, N  background 0,unable to generate class balanced samples.\n",
      "N foreground 14262, N  background 0,unable to generate class balanced samples.\n",
      "N foreground 14230, N  background 0,unable to generate class balanced samples.\n",
      "N foreground 10474, N  background 0,unable to generate class balanced samples.\n",
      "N foreground 10992, N  background 0,unable to generate class balanced samples.\n",
      "N foreground 15619, N  background 0,unable to generate class balanced samples.\n"
     ]
    },
    {
     "name": "stdout",
     "output_type": "stream",
     "text": [
      "1/13, train_loss: 0.0911\n",
      "2/13, train_loss: 0.1002\n",
      "3/13, train_loss: 0.1033\n",
      "4/13, train_loss: 0.1132\n",
      "5/13, train_loss: 0.1053\n",
      "6/13, train_loss: 0.1041\n",
      "7/13, train_loss: 0.0947\n",
      "8/13, train_loss: 0.1076\n",
      "9/13, train_loss: 0.1181\n",
      "10/13, train_loss: 0.1070\n",
      "11/13, train_loss: 0.0979\n",
      "12/13, train_loss: 0.0968\n",
      "13/13, train_loss: 0.0980\n",
      "epoch 148 average loss: 0.1029\n"
     ]
    },
    {
     "name": "stderr",
     "output_type": "stream",
     "text": [
      "N foreground 13080, N  background 0,unable to generate class balanced samples.\n",
      "N foreground 13981, N  background 0,unable to generate class balanced samples.\n",
      "N foreground 16021, N  background 0,unable to generate class balanced samples.\n",
      "N foreground 18264, N  background 0,unable to generate class balanced samples.\n",
      "N foreground 14149, N  background 0,unable to generate class balanced samples.\n",
      "N foreground 14351, N  background 0,unable to generate class balanced samples.\n",
      "N foreground 10539, N  background 0,unable to generate class balanced samples.\n",
      "N foreground 14458, N  background 0,unable to generate class balanced samples.\n",
      "N foreground 14199, N  background 0,unable to generate class balanced samples.\n"
     ]
    },
    {
     "name": "stdout",
     "output_type": "stream",
     "text": [
      "saved new best metric model\n",
      "current epoch: 148 current mean dice: 0.9133\n",
      "best mean dice: 0.9133at epoch: 148\n",
      "----------\n",
      "epoch 149/150\n"
     ]
    },
    {
     "name": "stderr",
     "output_type": "stream",
     "text": [
      "N foreground 13958, N  background 0,unable to generate class balanced samples.\n",
      "N foreground 14262, N  background 0,unable to generate class balanced samples.\n",
      "N foreground 22593, N  background 0,unable to generate class balanced samples.\n",
      "N foreground 15619, N  background 0,unable to generate class balanced samples.\n",
      "N foreground 13809, N  background 0,unable to generate class balanced samples.\n",
      "N foreground 10533, N  background 0,unable to generate class balanced samples.\n",
      "N foreground 12122, N  background 0,unable to generate class balanced samples.\n",
      "N foreground 15909, N  background 0,unable to generate class balanced samples.\n",
      "N foreground 16438, N  background 0,unable to generate class balanced samples.\n",
      "N foreground 14230, N  background 0,unable to generate class balanced samples.\n",
      "N foreground 15838, N  background 0,unable to generate class balanced samples.\n",
      "N foreground 16682, N  background 0,unable to generate class balanced samples.\n",
      "N foreground 10474, N  background 0,unable to generate class balanced samples.\n",
      "N foreground 16388, N  background 0,unable to generate class balanced samples.\n",
      "N foreground 16450, N  background 0,unable to generate class balanced samples.\n",
      "N foreground 14317, N  background 0,unable to generate class balanced samples.\n",
      "N foreground 19210, N  background 0,unable to generate class balanced samples.\n",
      "N foreground 14809, N  background 0,unable to generate class balanced samples.\n",
      "N foreground 16115, N  background 0,unable to generate class balanced samples.\n",
      "N foreground 10992, N  background 0,unable to generate class balanced samples.\n",
      "N foreground 13064, N  background 0,unable to generate class balanced samples.\n",
      "N foreground 17716, N  background 0,unable to generate class balanced samples.\n",
      "N foreground 8935, N  background 0,unable to generate class balanced samples.\n",
      "N foreground 13138, N  background 0,unable to generate class balanced samples.\n",
      "N foreground 15184, N  background 0,unable to generate class balanced samples.\n",
      "N foreground 17097, N  background 0,unable to generate class balanced samples.\n"
     ]
    },
    {
     "name": "stdout",
     "output_type": "stream",
     "text": [
      "1/13, train_loss: 0.1083\n",
      "2/13, train_loss: 0.1098\n",
      "3/13, train_loss: 0.1077\n",
      "4/13, train_loss: 0.0919\n",
      "5/13, train_loss: 0.0916\n",
      "6/13, train_loss: 0.1010\n",
      "7/13, train_loss: 0.0940\n",
      "8/13, train_loss: 0.1070\n",
      "9/13, train_loss: 0.1007\n",
      "10/13, train_loss: 0.0960\n",
      "11/13, train_loss: 0.0961\n",
      "12/13, train_loss: 0.1058\n",
      "13/13, train_loss: 0.1098\n",
      "epoch 149 average loss: 0.1015\n"
     ]
    },
    {
     "name": "stderr",
     "output_type": "stream",
     "text": [
      "N foreground 10539, N  background 0,unable to generate class balanced samples.\n",
      "N foreground 14351, N  background 0,unable to generate class balanced samples.\n",
      "N foreground 18264, N  background 0,unable to generate class balanced samples.\n",
      "N foreground 14149, N  background 0,unable to generate class balanced samples.\n",
      "N foreground 16021, N  background 0,unable to generate class balanced samples.\n",
      "N foreground 13080, N  background 0,unable to generate class balanced samples.\n",
      "N foreground 13981, N  background 0,unable to generate class balanced samples.\n",
      "N foreground 14458, N  background 0,unable to generate class balanced samples.\n",
      "N foreground 14199, N  background 0,unable to generate class balanced samples.\n"
     ]
    },
    {
     "name": "stdout",
     "output_type": "stream",
     "text": [
      "saved new best metric model\n",
      "current epoch: 149 current mean dice: 0.9135\n",
      "best mean dice: 0.9135at epoch: 149\n",
      "----------\n",
      "epoch 150/150\n"
     ]
    },
    {
     "name": "stderr",
     "output_type": "stream",
     "text": [
      "N foreground 10992, N  background 0,unable to generate class balanced samples.\n",
      "N foreground 13138, N  background 0,unable to generate class balanced samples.\n",
      "N foreground 15909, N  background 0,unable to generate class balanced samples.\n",
      "N foreground 13958, N  background 0,unable to generate class balanced samples.\n",
      "N foreground 8935, N  background 0,unable to generate class balanced samples.\n",
      "N foreground 22593, N  background 0,unable to generate class balanced samples.\n",
      "N foreground 14317, N  background 0,unable to generate class balanced samples.\n",
      "N foreground 15619, N  background 0,unable to generate class balanced samples.\n",
      "N foreground 14809, N  background 0,unable to generate class balanced samples.\n",
      "N foreground 17097, N  background 0,unable to generate class balanced samples.\n",
      "N foreground 16450, N  background 0,unable to generate class balanced samples.\n",
      "N foreground 10533, N  background 0,unable to generate class balanced samples.\n",
      "N foreground 19210, N  background 0,unable to generate class balanced samples.\n",
      "N foreground 12122, N  background 0,unable to generate class balanced samples.\n",
      "N foreground 17716, N  background 0,unable to generate class balanced samples.\n",
      "N foreground 16682, N  background 0,unable to generate class balanced samples.\n",
      "N foreground 16388, N  background 0,unable to generate class balanced samples.\n",
      "N foreground 16438, N  background 0,unable to generate class balanced samples.\n",
      "N foreground 13809, N  background 0,unable to generate class balanced samples.\n",
      "N foreground 10474, N  background 0,unable to generate class balanced samples.\n",
      "N foreground 14230, N  background 0,unable to generate class balanced samples.\n",
      "N foreground 14262, N  background 0,unable to generate class balanced samples.\n",
      "N foreground 13064, N  background 0,unable to generate class balanced samples.\n",
      "N foreground 15184, N  background 0,unable to generate class balanced samples.\n",
      "N foreground 16115, N  background 0,unable to generate class balanced samples.\n",
      "N foreground 15838, N  background 0,unable to generate class balanced samples.\n"
     ]
    },
    {
     "name": "stdout",
     "output_type": "stream",
     "text": [
      "1/13, train_loss: 0.1093\n",
      "2/13, train_loss: 0.0937\n",
      "3/13, train_loss: 0.0906\n",
      "4/13, train_loss: 0.1039\n",
      "5/13, train_loss: 0.0966\n",
      "6/13, train_loss: 0.1018\n",
      "7/13, train_loss: 0.1078\n",
      "8/13, train_loss: 0.0973\n",
      "9/13, train_loss: 0.1145\n",
      "10/13, train_loss: 0.0974\n",
      "11/13, train_loss: 0.1023\n",
      "12/13, train_loss: 0.0882\n",
      "13/13, train_loss: 0.1029\n",
      "epoch 150 average loss: 0.1005\n"
     ]
    },
    {
     "name": "stderr",
     "output_type": "stream",
     "text": [
      "N foreground 18264, N  background 0,unable to generate class balanced samples.\n",
      "N foreground 13080, N  background 0,unable to generate class balanced samples.\n",
      "N foreground 14149, N  background 0,unable to generate class balanced samples.\n",
      "N foreground 13981, N  background 0,unable to generate class balanced samples.\n",
      "N foreground 14351, N  background 0,unable to generate class balanced samples.\n",
      "N foreground 16021, N  background 0,unable to generate class balanced samples.\n",
      "N foreground 14458, N  background 0,unable to generate class balanced samples.\n",
      "N foreground 10539, N  background 0,unable to generate class balanced samples.\n",
      "N foreground 14199, N  background 0,unable to generate class balanced samples.\n"
     ]
    },
    {
     "name": "stdout",
     "output_type": "stream",
     "text": [
      "current epoch: 150 current mean dice: 0.9128\n",
      "best mean dice: 0.9135at epoch: 149\n"
     ]
    }
   ],
   "source": [
    "FILE = \"v2_num_samples_4.pth\"\n",
    "\n",
    "max_epochs = 150\n",
    "val_interval = 1\n",
    "best_metric = -1\n",
    "best_metric_epoch = -1\n",
    "\n",
    "epoch_train_loss_values = []\n",
    "epoch_validation_loss_values = []\n",
    "metric_values = []\n",
    "\n",
    "post_pred = Compose([AsDiscrete(argmax=True, to_onehot=10)])\n",
    "post_label = Compose([AsDiscrete(to_onehot=10)])\n",
    "\n",
    "for epoch in range(max_epochs):\n",
    "    print(\"-\" * 10)\n",
    "    print(f\"epoch {epoch + 1}/{max_epochs}\")\n",
    "    model.train()\n",
    "    epoch_loss = 0\n",
    "    step = 0\n",
    "    for batch_data in train_loader:\n",
    "        step += 1\n",
    "        inputs, labels = (\n",
    "            batch_data[\"image\"].to(device),\n",
    "            batch_data[\"label\"].to(device),\n",
    "        )\n",
    "\n",
    "        # Forward pass\n",
    "        outputs = model(inputs)\n",
    "        loss = loss_function(outputs, labels)\n",
    "\n",
    "        # Backward and optimize\n",
    "        optimizer.zero_grad()\n",
    "        loss.backward()\n",
    "        optimizer.step()\n",
    "        \n",
    "        epoch_loss += loss.item()\n",
    "        print(\n",
    "            f\"{step}/{len(train_ds) // train_loader.batch_size}, \"\n",
    "            f\"train_loss: {loss.item():.4f}\")\n",
    "    epoch_loss /= step\n",
    "    epoch_train_loss_values.append(epoch_loss)\n",
    "    print(f\"epoch {epoch + 1} average loss: {epoch_loss:.4f}\")\n",
    "\n",
    "    if (epoch + 1) % val_interval == 0:\n",
    "        model.eval()\n",
    "        with torch.no_grad():\n",
    "            step_validation = 0\n",
    "            epoch_validation_loss = 0\n",
    "            for validation_data in validation_loader:\n",
    "                step_validation += 1\n",
    "                validation_inputs, validation_labels = (\n",
    "                    validation_data[\"image\"].to(device),\n",
    "                    validation_data[\"label\"].to(device),\n",
    "                )\n",
    "                roi_size = (160, 160, 160)\n",
    "                sw_batch_size = 4\n",
    "\n",
    "                # Forward pass\n",
    "                validation_predictions = model(validation_inputs)\n",
    "                validation_loss = loss_function(validation_predictions, validation_labels)\n",
    "                epoch_validation_loss += validation_loss.item()\n",
    "\n",
    "                # Inference\n",
    "                validation_outputs = sliding_window_inference(\n",
    "                    validation_inputs, roi_size, sw_batch_size, model)\n",
    "                validation_outputs = [post_pred(i) for i in decollate_batch(validation_outputs)]\n",
    "                validation_labels = [post_label(i) for i in decollate_batch(validation_labels)]\n",
    "                # compute metric for current iteration\n",
    "                dice_metric(y_pred=validation_outputs, y=validation_labels)\n",
    "\n",
    "            epoch_validation_loss /= step_validation\n",
    "            epoch_validation_loss_values.append(epoch_validation_loss)\n",
    "            # aggregate the final mean dice result\n",
    "            metric = dice_metric.aggregate().item()\n",
    "            # reset the status for next validation round\n",
    "            dice_metric.reset()\n",
    "\n",
    "            metric_values.append(metric)\n",
    "            if metric > best_metric:\n",
    "                best_metric = metric\n",
    "                best_metric_epoch = epoch + 1\n",
    "                torch.save(model.state_dict(), os.path.join(\n",
    "                    main_dir, FILE))\n",
    "                print(\"saved new best metric model\")\n",
    "            print(\n",
    "                f\"current epoch: {epoch + 1} current mean dice: {metric:.4f}\"\n",
    "                f\"\\nbest mean dice: {best_metric:.4f}\"\n",
    "                f\"at epoch: {best_metric_epoch}\"\n",
    "            )"
   ]
  },
  {
   "cell_type": "code",
   "execution_count": 10,
   "metadata": {},
   "outputs": [
    {
     "name": "stdout",
     "output_type": "stream",
     "text": [
      "train completed, best_metric: 0.9135 at epoch: 149\n"
     ]
    }
   ],
   "source": [
    "print(f\"train completed, best_metric: {best_metric:.4f} at epoch: {best_metric_epoch}\")"
   ]
  },
  {
   "cell_type": "markdown",
   "metadata": {},
   "source": [
    "### Plot the loss and metric"
   ]
  },
  {
   "cell_type": "code",
   "execution_count": 11,
   "metadata": {},
   "outputs": [
    {
     "data": {
      "image/png": "[encoded data removed]",
      "text/plain": [
       "<Figure size 864x432 with 2 Axes>"
      ]
     },
     "metadata": {
      "needs_background": "light"
     },
     "output_type": "display_data"
    }
   ],
   "source": [
    "plt.figure(\"train\", (12, 6))\n",
    "plt.subplot(1, 2, 1)\n",
    "plt.title(\"Epoch Average Loss\")\n",
    "x = [i + 1 for i in range(len(epoch_train_loss_values))]\n",
    "plt.xlabel(\"epoch\")\n",
    "plt.plot(x, epoch_train_loss_values, label=\"train\")\n",
    "plt.plot(x, epoch_validation_loss_values, label= \"validation\")\n",
    "plt.legend()\n",
    "plt.subplot(1, 2, 2)\n",
    "plt.title(\"Val Mean Dice\")\n",
    "x = [val_interval * (i + 1) for i in range(len(metric_values))]\n",
    "y = metric_values\n",
    "plt.xlabel(\"epoch\")\n",
    "plt.plot(x, y)\n",
    "plt.show()"
   ]
  },
  {
   "cell_type": "markdown",
   "metadata": {},
   "source": [
    "## Inference"
   ]
  },
  {
   "cell_type": "code",
   "execution_count": 17,
   "metadata": {},
   "outputs": [
    {
     "name": "stderr",
     "output_type": "stream",
     "text": [
      "N foreground 14149, N  background 0,unable to generate class balanced samples.\n",
      "N foreground 13080, N  background 0,unable to generate class balanced samples.\n",
      "N foreground 14351, N  background 0,unable to generate class balanced samples.\n",
      "N foreground 16021, N  background 0,unable to generate class balanced samples.\n",
      "N foreground 18264, N  background 0,unable to generate class balanced samples.\n",
      "N foreground 13981, N  background 0,unable to generate class balanced samples.\n",
      "N foreground 10539, N  background 0,unable to generate class balanced samples.\n",
      "N foreground 14458, N  background 0,unable to generate class balanced samples.\n",
      "N foreground 14199, N  background 0,unable to generate class balanced samples.\n"
     ]
    },
    {
     "name": "stdout",
     "output_type": "stream",
     "text": [
      "Total DSC is 0.9136801958084106. \n",
      "Total IoU score is 0.8423745036125183.\n",
      "Dice per class: [0.9031568765640259, 0.9074084758758545, 0.9103732109069824, 0.8980523347854614, 0.9116470813751221, 0.909553050994873, 0.9111635684967041, 0.910991907119751]. \n",
      "IoU per class: [0.8354126214981079, 0.8374286890029907, 0.8687853813171387, 0.8291696310043335, 0.8506565093994141, 0.8328588008880615, 0.8728522062301636, 0.83981853723526]\n"
     ]
    },
    {
     "data": {
      "image/png": "[encoded data removed]",
      "text/plain": [
       "<Figure size 1296x432 with 3 Axes>"
      ]
     },
     "metadata": {
      "needs_background": "light"
     },
     "output_type": "display_data"
    }
   ],
   "source": [
    "import SimpleITK as sitk\n",
    "\n",
    "FILE = \"v2_num_samples_4.pth\"\n",
    "\n",
    "device = torch.device(\"cuda:0\")\n",
    "model = UNet(\n",
    "    spatial_dims = 3,\n",
    "    in_channels = 1,\n",
    "    out_channels = 10,\n",
    "    channels = (16, 32, 64, 128, 256),\n",
    "    strides = (2, 2, 2, 2),\n",
    "    num_res_units = 2,\n",
    "    norm = Norm.BATCH,\n",
    "    dropout = 0.5\n",
    ").to(device)\n",
    "\n",
    "model.load_state_dict(torch.load(\n",
    "    os.path.join(main_dir, FILE)))\n",
    "\n",
    "# IoU metric\n",
    "post_pred = Compose([AsDiscrete(argmax=True, to_onehot=10)])\n",
    "post_label = Compose([AsDiscrete(to_onehot=10)])\n",
    "iou_metric = MeanIoU(include_background=False, reduction=\"mean\")\n",
    "metric_iou_values = []\n",
    "\n",
    "model.eval()\n",
    "\n",
    "test_loader = validation_loader # This is not right, but just to test and compute similarity metrics\n",
    "\n",
    "with torch.no_grad():\n",
    "    for i, val_data in enumerate(test_loader):\n",
    "        test_inputs, test_labels = (\n",
    "            val_data[\"image\"].to(device),\n",
    "            val_data[\"label\"].to(device),\n",
    "        )\n",
    "        roi_size = (160, 160, 160)\n",
    "        sw_batch_size = 4\n",
    "\n",
    "        val_outputs = sliding_window_inference(\n",
    "            test_inputs, roi_size, sw_batch_size, model\n",
    "        )\n",
    "\n",
    "        test_outputs = [post_pred(j) for j in decollate_batch(val_outputs)]\n",
    "        test_labels = [post_label(j) for j in decollate_batch(test_labels)]\n",
    "        iou_metric(y_pred=test_outputs, y=test_labels)\n",
    "        dice_metric(y_pred=test_outputs, y=test_labels)\n",
    "\n",
    "        # plot the slice [:, :, 80]\n",
    "        fig = plt.figure(\"check\", (18, 6))\n",
    "        plt.subplot(1, 3, 1)\n",
    "        plt.title(f\"image {i}\")\n",
    "        plt.imshow(val_data[\"image\"][0, 0, :, :, 70], cmap=\"gray\")\n",
    "        plt.subplot(1, 3, 2)\n",
    "        plt.title(f\"label {i}\")\n",
    "        plt.imshow(val_data[\"label\"][0, 0, :, :, 70])\n",
    "        plt.subplot(1, 3, 3)\n",
    "        plt.title(f\"output {i}\")\n",
    "        plt.imshow(torch.argmax(\n",
    "            val_outputs, dim=1).detach().cpu()[0, :, :, 70])\n",
    "        # print(val_outputs.shape)\n",
    "        im_result = sitk.GetImageFromArray(np.transpose(torch.argmax(val_outputs, dim=1).detach().cpu().numpy(), (3,2,1,0)))\n",
    "        if i == 0:\n",
    "            sitk.WriteImage(im_result, main_dir+'result_'+str(i)+'.nii.gz')\n",
    "        fig.suptitle('Test Monai A-Eye')\n",
    "        # plt.show()\n",
    "    \n",
    "    # aggregate the final mean dice and IoU results\n",
    "    dice_array = dice_metric.get_buffer()\n",
    "    test_metric_dice = dice_metric.aggregate().item()\n",
    "    iou_array = iou_metric.get_buffer() #(9, 10) --> 25 subjects and 10 classes\n",
    "    test_metric_iou = iou_metric.aggregate().item()\n",
    "    print(f\"Total DSC is {test_metric_dice}. \\nTotal IoU score is {test_metric_iou}.\")\n",
    "    \n",
    "    # DSC per class\n",
    "    dice_array_n = dice_array[:,:-1].transpose(0, 1) # to get in each line the IoU of each class (and eliminate NaN values of backgrounf)--> (6, 25)\n",
    "    dice_array_mean = []\n",
    "    for i, val in enumerate(dice_array_n):\n",
    "        dice_array_mean.append(torch.mean(dice_array_n[:, i]).item())\n",
    "\n",
    "    # IoU per class\n",
    "    iou_array_n = iou_array[:,:-1].transpose(0, 1) # to get in each line the IoU of each class (and eliminate NaN values of backgrounf)--> (6, 25)\n",
    "    iou_array_mean = []\n",
    "    for i, val in enumerate(iou_array_n):\n",
    "        iou_array_mean.append(torch.mean(iou_array_n[:, i]).item())\n",
    "\n",
    "    print(f\"Dice per class: {dice_array_mean}. \\nIoU per class: {iou_array_mean}\")"
   ]
  }
 ],
 "metadata": {
  "kernelspec": {
   "display_name": "Python 3.9.12 ('3dmultilabel')",
   "language": "python",
   "name": "python3"
  },
  "language_info": {
   "codemirror_mode": {
    "name": "ipython",
    "version": 3
   },
   "file_extension": ".py",
   "mimetype": "text/x-python",
   "name": "python",
   "nbconvert_exporter": "python",
   "pygments_lexer": "ipython3",
   "version": "3.9.12"
  },
  "orig_nbformat": 4,
  "vscode": {
   "interpreter": {
    "hash": "236677abf66ddcf33094279068f0bab187d6786b2da11104f264e332fab0dfcc"
   }
  }
 },
 "nbformat": 4,
 "nbformat_minor": 2
}

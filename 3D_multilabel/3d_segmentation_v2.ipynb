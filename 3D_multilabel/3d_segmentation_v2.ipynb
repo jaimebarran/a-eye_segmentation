{
 "cells": [
  {
   "cell_type": "markdown",
   "metadata": {},
   "source": [
    "# 3D patch-based segmentation with U-Net\n",
    "\n",
    "Code started from [Francesco's tutorials](https://github.com/FrancescoLR/tutorials)\n",
    "\n"
   ]
  },
  {
   "cell_type": "markdown",
   "metadata": {},
   "source": [
    "## Imports"
   ]
  },
  {
   "cell_type": "code",
   "execution_count": 1,
   "metadata": {},
   "outputs": [
    {
     "name": "stderr",
     "output_type": "stream",
     "text": [
      "/home/jaimebarranco/miniconda3/envs/3dmultilabel/lib/python3.9/site-packages/tqdm/auto.py:22: TqdmWarning: IProgress not found. Please update jupyter and ipywidgets. See https://ipywidgets.readthedocs.io/en/stable/user_install.html\n",
      "  from .autonotebook import tqdm as notebook_tqdm\n"
     ]
    },
    {
     "name": "stdout",
     "output_type": "stream",
     "text": [
      "MONAI version: 0.9.1rc3\n",
      "Numpy version: 1.22.4\n",
      "Pytorch version: 1.12.1+cu116\n",
      "MONAI flags: HAS_EXT = False, USE_COMPILED = False, USE_META_DICT = False\n",
      "MONAI rev id: 7a5de8b7b9db101a431e70ae2aa8ea7ebb8dfffe\n",
      "MONAI __file__: /home/jaimebarranco/miniconda3/envs/3dmultilabel/lib/python3.9/site-packages/monai/__init__.py\n",
      "\n",
      "Optional dependencies:\n",
      "Pytorch Ignite version: 0.4.9\n",
      "Nibabel version: 4.0.1\n",
      "scikit-image version: 0.19.3\n",
      "Pillow version: 9.2.0\n",
      "Tensorboard version: 2.9.1\n",
      "gdown version: 4.5.1\n",
      "TorchVision version: 0.13.1+cu116\n",
      "tqdm version: 4.64.0\n",
      "lmdb version: 1.3.0\n",
      "psutil version: 5.9.1\n",
      "pandas version: 1.4.3\n",
      "einops version: 0.4.1\n",
      "transformers version: 4.20.1\n",
      "mlflow version: 1.27.0\n",
      "pynrrd version: 0.4.3\n",
      "\n",
      "For details about installing the optional dependencies, please visit:\n",
      "    https://docs.monai.io/en/latest/installation.html#installing-the-recommended-dependencies\n",
      "\n"
     ]
    }
   ],
   "source": [
    "import glob\n",
    "import logging\n",
    "import os\n",
    "from pathlib import Path\n",
    "import shutil\n",
    "import sys\n",
    "import tempfile\n",
    "import matplotlib.pyplot as plt\n",
    "\n",
    "\n",
    "import nibabel as nib\n",
    "import numpy as np\n",
    "from monai.config import print_config\n",
    "from monai.data import ArrayDataset, decollate_batch, DataLoader, CacheDataset, Dataset\n",
    "from monai.losses import DiceLoss\n",
    "from monai.metrics import DiceMetric, MeanIoU, compute_meaniou\n",
    "from monai.inferers import sliding_window_inference\n",
    "from monai.networks.nets import UNet\n",
    "from monai.networks.layers import Norm\n",
    "from monai.transforms import (\n",
    "    AsDiscrete,\n",
    "    Compose,\n",
    "    LoadImaged,\n",
    "    EnsureChannelFirstd,\n",
    "    Orientationd,\n",
    "    Spacingd,\n",
    "    ResizeWithPadOrCropd,\n",
    "    RandCropByPosNegLabeld,\n",
    "    Lambdad,\n",
    "    ScaleIntensityd,\n",
    ")\n",
    "from monai.utils import first\n",
    "\n",
    "import ignite\n",
    "import torch, torchvision\n",
    "\n",
    "print_config()"
   ]
  },
  {
   "cell_type": "markdown",
   "metadata": {},
   "source": [
    "## Setup \n"
   ]
  },
  {
   "cell_type": "markdown",
   "metadata": {},
   "source": [
    "### Paths and cuda check"
   ]
  },
  {
   "cell_type": "code",
   "execution_count": 2,
   "metadata": {},
   "outputs": [
    {
     "name": "stdout",
     "output_type": "stream",
     "text": [
      "Data directory is: /mnt/sda1/Repos/a-eye/a-eye_preprocessing/ANTs/\n",
      "True\n"
     ]
    }
   ],
   "source": [
    "main_dir = '/mnt/sda1/Repos/a-eye/a-eye_segmentation/3D_multilabel/'\n",
    "data_dir = '/mnt/sda1/Repos/a-eye/a-eye_preprocessing/ANTs/' # train and validation\n",
    "test_data_dir = '/mnt/sda1/Repos/a-eye/Data'\n",
    "\n",
    "[print(f\"Data directory is: {data_dir}\") if os.path.isdir(data_dir) else print(\"Check your data directory\")]\n",
    "os.environ['CUDA_LAUNCH_BLOCKING'] = '1'\n",
    "\n",
    "print(torch.cuda.is_available())"
   ]
  },
  {
   "cell_type": "markdown",
   "metadata": {},
   "source": [
    "### Set images and segmentation paths"
   ]
  },
  {
   "cell_type": "code",
   "execution_count": 3,
   "metadata": {},
   "outputs": [
    {
     "name": "stdout",
     "output_type": "stream",
     "text": [
      "Train dataset is composed by 26 (74.29%) subjects and validation by 9 (25.71%).\n"
     ]
    }
   ],
   "source": [
    "train_images_1 = []\n",
    "train_labels_1 = []\n",
    "validation_images = []\n",
    "validation_labels = []\n",
    "\n",
    "# List of subjects taken for the template construction\n",
    "best_subjects_cc = ['sub-02','sub-03','sub-08','sub-09','sub-20','sub-29','sub-30','sub-33','sub-34'] # 9\n",
    "\n",
    "# List of remaining subjects\n",
    "all_subjects = list()\n",
    "for i in range(35):\n",
    "    all_subjects.append('sub-'+str(i+1).zfill(2))\n",
    "rest_subjects = [elem for elem in all_subjects if elem not in best_subjects_cc]\n",
    "\n",
    "# Train (rest subjects)\n",
    "for i in range(len(rest_subjects)):\n",
    "    input_t1 = data_dir + 'a123/' + rest_subjects[i] + '/input/' + rest_subjects[i] + '_T1.nii.gz'\n",
    "    input_labels = data_dir + 'a123/' + rest_subjects[i] + '/input/' + rest_subjects[i] + '_labels.nii.gz'\n",
    "    train_images_1.append(input_t1)\n",
    "    train_labels_1.append(input_labels)\n",
    "# Train dictionary\n",
    "data_train_dicts_1 = [\n",
    "    {\"image\": image_name, \"label\": label_name}\n",
    "    for image_name, label_name in zip(train_images_1, train_labels_1)\n",
    "]   \n",
    "\n",
    "# Validation (best subjects)\n",
    "for i in range(len(best_subjects_cc)):\n",
    "    input_t1 = data_dir + 'a123/' + best_subjects_cc[i] + '/input/' + best_subjects_cc[i] + '_T1.nii.gz'\n",
    "    input_labels = data_dir + 'a123/' + best_subjects_cc[i] + '/input/' + best_subjects_cc[i] + '_labels.nii.gz'\n",
    "    validation_images.append(input_t1)\n",
    "    validation_labels.append(input_labels)\n",
    "# Validation dictionary\n",
    "data_validation_dicts = [\n",
    "    {\"image\": image_name, \"label\": label_name}\n",
    "    for image_name, label_name in zip(validation_images, validation_labels)\n",
    "]\n",
    "\n",
    "num_train_samples = len(data_train_dicts_1)\n",
    "num_validation_samples = len(data_validation_dicts)\n",
    "num_total_samples = num_train_samples + num_validation_samples\n",
    "print(f\"Train dataset is composed by {len(data_train_dicts_1)} ({num_train_samples/num_total_samples*100:.2f}%) subjects and validation by {len(data_validation_dicts)} ({num_validation_samples/num_total_samples*100:.2f}%).\")"
   ]
  },
  {
   "cell_type": "markdown",
   "metadata": {},
   "source": [
    "### Set transforms and dataset"
   ]
  },
  {
   "cell_type": "code",
   "execution_count": 4,
   "metadata": {},
   "outputs": [],
   "source": [
    "# Function to crop the eye from the medical image\n",
    "def masked(data_dict):\n",
    "    eye_mask = (data_dict[\"label\"] != 0)\n",
    "    eye_mask[eye_mask == True] = 1\n",
    "    eye_mask[eye_mask == False] = 0\n",
    "    data_dict[\"image\"] = data_dict[\"image\"] * eye_mask\n",
    "\n",
    "    return data_dict\n",
    "    \n",
    "train_transforms = Compose(\n",
    "    [\n",
    "        LoadImaged(keys=[\"image\", \"label\"]), #Load image file or files from provided path based on reader.\n",
    "        Lambdad(keys=[\"image\"], func=lambda image: torch.nan_to_num(image, nan=0)),\n",
    "        ScaleIntensityd(keys=[\"image\"]), #Scale the intensity of input image to the given value range (minv, maxv). If minv and maxv and factor not provided, Normalize the data\n",
    "        EnsureChannelFirstd(keys=[\"image\", \"label\"]), #Automatically adjust or add the channel dimension of input data to ensure channel_first shape.\n",
    "        Orientationd(keys=[\"image\", \"label\"], axcodes=\"RAS\"), #Change the input image’s orientation into the specified based on axcodes.\n",
    "        Spacingd(keys=[\"image\", \"label\"], pixdim=(\n",
    "            1, 1, 1), mode=(\"bilinear\", \"nearest\")),\n",
    "        ResizeWithPadOrCropd(keys=[\"image\", \"label\"], spatial_size=(160, 160, 160)),\n",
    "        masked,\n",
    "        RandCropByPosNegLabeld( #Crop random fixed sized regions with the center being a foreground or background voxel based on the Pos Neg Ratio. I recommend to use it since improves dice and IoU score\n",
    "            keys=[\"image\", \"label\"],\n",
    "            label_key=\"label\",\n",
    "            spatial_size=(96, 96, 96),\n",
    "            pos=1,\n",
    "            neg=1,\n",
    "            num_samples=1,\n",
    "            image_key=\"image\",\n",
    "            image_threshold=0,\n",
    "        ),\n",
    "    ]    \n",
    ")\n",
    "\n",
    "validation_transforms = Compose(\n",
    "    [\n",
    "        LoadImaged(keys=[\"image\", \"label\"]),\n",
    "        Lambdad(keys=[\"image\"], func=lambda image: torch.nan_to_num(image, nan=0)),\n",
    "        ScaleIntensityd(keys=[\"image\"],),\n",
    "        EnsureChannelFirstd(keys=[\"image\", \"label\"]),\n",
    "        Orientationd(keys=[\"image\", \"label\"], axcodes=\"RAS\"),\n",
    "        Spacingd(keys=[\"image\", \"label\"], pixdim=(\n",
    "            1, 1, 1), mode=(\"bilinear\", \"nearest\")),\n",
    "        ResizeWithPadOrCropd(keys=[\"image\", \"label\"], spatial_size=(160, 160, 160)),\n",
    "        masked,\n",
    "        RandCropByPosNegLabeld( #Crop random fixed sized regions with the center being a foreground or background voxel based on the Pos Neg Ratio. \n",
    "            keys=[\"image\", \"label\"],\n",
    "            label_key=\"label\",\n",
    "            spatial_size=(96, 96, 96),\n",
    "            pos=1,\n",
    "            neg=1,\n",
    "            num_samples=1,\n",
    "            image_key=\"image\",\n",
    "            image_threshold=0,\n",
    "        ),\n",
    "    ]\n",
    ")"
   ]
  },
  {
   "cell_type": "markdown",
   "metadata": {},
   "source": [
    "Here we use CacheDataset to accelerate training and validation process, it's 10x faster than the regular Dataset.  \n",
    "To achieve best performance, set `cache_rate=1.0` to cache all the data, if memory is not enough, set lower value.  \n",
    "Users can also set `cache_num` instead of `cache_rate`, will use the minimum value of the 2 settings.  \n",
    "And set `num_workers` to enable multi-threads during caching.  \n",
    "If want to try the regular Dataset, just change to use the commented code below."
   ]
  },
  {
   "cell_type": "code",
   "execution_count": 5,
   "metadata": {},
   "outputs": [
    {
     "name": "stderr",
     "output_type": "stream",
     "text": [
      "Loading dataset: 100%|██████████| 26/26 [00:02<00:00, 11.27it/s]\n",
      "Loading dataset: 100%|██████████| 9/9 [00:00<00:00, 11.09it/s]\n"
     ]
    }
   ],
   "source": [
    "train_ds = CacheDataset(\n",
    "    data=data_train_dicts_1, transform=train_transforms,\n",
    "    cache_rate=1.0, num_workers=8)\n",
    "# train_ds = Dataset(data=train_files, transform=train_transforms)\n",
    "\n",
    "# use batch_size=2 to load images and use RandCropByPosNegLabeld\n",
    "# to generate 2 x 4 images for network training\n",
    "train_loader = DataLoader(train_ds, batch_size=2, shuffle=True, num_workers=8)\n",
    "\n",
    "validation_ds = CacheDataset(\n",
    "    data=data_validation_dicts, transform=validation_transforms, cache_rate=1.0, num_workers=8)\n",
    "# val_ds = Dataset(data=val_files, transform=val_transforms)\n",
    "validation_loader = DataLoader(validation_ds, batch_size=1, shuffle=False, num_workers=8)"
   ]
  },
  {
   "cell_type": "markdown",
   "metadata": {},
   "source": [
    "#### Check transforms in DataLoader"
   ]
  },
  {
   "cell_type": "code",
   "execution_count": 6,
   "metadata": {},
   "outputs": [
    {
     "name": "stderr",
     "output_type": "stream",
     "text": [
      "N foreground 16021, N  background 0,unable to generate class balanced samples.\n",
      "N foreground 13080, N  background 0,unable to generate class balanced samples.\n",
      "N foreground 14149, N  background 0,unable to generate class balanced samples.\n",
      "N foreground 14458, N  background 0,unable to generate class balanced samples.\n",
      "N foreground 10539, N  background 0,unable to generate class balanced samples.\n",
      "N foreground 13981, N  background 0,unable to generate class balanced samples.\n",
      "N foreground 14351, N  background 0,unable to generate class balanced samples.\n",
      "N foreground 18264, N  background 0,unable to generate class balanced samples.\n",
      "N foreground 14199, N  background 0,unable to generate class balanced samples.\n"
     ]
    },
    {
     "name": "stdout",
     "output_type": "stream",
     "text": [
      "image shape: (96, 96, 96), label shape: (96, 96, 96)\n"
     ]
    },
    {
     "data": {
      "image/png": "[encoded data removed]",
      "text/plain": [
       "<Figure size 720x360 with 2 Axes>"
      ]
     },
     "metadata": {
      "needs_background": "light"
     },
     "output_type": "display_data"
    }
   ],
   "source": [
    "data_iter = iter(validation_loader)\n",
    "random_data = data_iter.next()\n",
    "image, label = (random_data[\"image\"][0][0], random_data[\"label\"][0][0]) # [0][0] is to show only the image shape\n",
    "print(f\"image shape: {image.shape}, label shape: {label.shape}\")\n",
    "\n",
    "# plot the slice [:, :, 80]\n",
    "plt.figure(\"check\", (10,5))\n",
    "plt.subplot(1, 2, 1)\n",
    "plt.title(\"image\")\n",
    "plt.imshow(image[:, :, 80], cmap=\"gray\")\n",
    "plt.subplot(1, 2, 2)\n",
    "plt.title(\"label\")\n",
    "plt.imshow(label[:, :, 80])\n",
    "plt.show()\n",
    "#print(len(torch.unique(label)))"
   ]
  },
  {
   "cell_type": "markdown",
   "metadata": {},
   "source": [
    "#### Save transformed images from validation_loader"
   ]
  },
  {
   "cell_type": "code",
   "execution_count": 7,
   "metadata": {},
   "outputs": [
    {
     "name": "stderr",
     "output_type": "stream",
     "text": [
      "N foreground 14351, N  background 0,unable to generate class balanced samples.\n",
      "N foreground 16021, N  background 0,unable to generate class balanced samples.\n",
      "N foreground 13080, N  background 0,unable to generate class balanced samples.\n",
      "N foreground 13981, N  background 0,unable to generate class balanced samples.\n",
      "N foreground 10539, N  background 0,unable to generate class balanced samples.\n",
      "N foreground 14458, N  background 0,unable to generate class balanced samples.\n",
      "N foreground 14149, N  background 0,unable to generate class balanced samples.\n",
      "N foreground 18264, N  background 0,unable to generate class balanced samples.\n",
      "N foreground 14199, N  background 0,unable to generate class balanced samples.\n"
     ]
    },
    {
     "name": "stdout",
     "output_type": "stream",
     "text": [
      "dict: (1, 1, 96, 96, 96)\n",
      "(1, 96, 96, 96)\n"
     ]
    }
   ],
   "source": [
    "# '''\n",
    "import SimpleITK as sitk\n",
    "\n",
    "# Saving validation_loader images\n",
    "i = 0\n",
    "for _, dict in enumerate(validation_loader):\n",
    "    print(f\"dict: {dict['image'].shape}\")\n",
    "    im_tensors = dict['image']\n",
    "    print(im_tensors[0].detach().cpu().numpy().shape)\n",
    "    im_trans = sitk.GetImageFromArray(np.transpose(im_tensors[0].detach().cpu().numpy(), (3,2,1,0)))\n",
    "    sitk.WriteImage(im_trans, main_dir+'im_trans_masked'+str(i)+'.nii.gz')\n",
    "    i += 1\n",
    "    if i == 1:\n",
    "        break\n",
    "# '''"
   ]
  },
  {
   "cell_type": "markdown",
   "metadata": {},
   "source": [
    "## Training"
   ]
  },
  {
   "cell_type": "markdown",
   "metadata": {},
   "source": [
    "### Create Model, Loss, Optimizer"
   ]
  },
  {
   "cell_type": "code",
   "execution_count": 8,
   "metadata": {},
   "outputs": [],
   "source": [
    "# Create UNet, DiceLoss and Adam optimizer\n",
    "import gc \n",
    "gc.collect()\n",
    "torch.cuda.empty_cache()\n",
    "device = torch.device(\"cuda:0\")\n",
    "model = UNet(\n",
    "    spatial_dims = 3,\n",
    "    in_channels = 1,\n",
    "    out_channels = 10,\n",
    "    channels = (16, 32, 64, 128, 256),\n",
    "    strides = (2, 2, 2, 2),\n",
    "    num_res_units = 2,\n",
    "    norm = Norm.BATCH,\n",
    "    dropout = 0.5\n",
    ").to(device)\n",
    "\n",
    "loss_function = DiceLoss(to_onehot_y=True, softmax=True)\n",
    "optimizer = torch.optim.Adam(params=model.parameters(), lr=1e-3)\n",
    "dice_metric = DiceMetric(include_background=False, reduction=\"mean\")"
   ]
  },
  {
   "cell_type": "markdown",
   "metadata": {},
   "source": [
    "### Train "
   ]
  },
  {
   "cell_type": "code",
   "execution_count": 9,
   "metadata": {},
   "outputs": [
    {
     "name": "stdout",
     "output_type": "stream",
     "text": [
      "----------\n",
      "epoch 1/150\n"
     ]
    },
    {
     "name": "stderr",
     "output_type": "stream",
     "text": [
      "N foreground 16438, N  background 0,unable to generate class balanced samples.\n",
      "N foreground 16115, N  background 0,unable to generate class balanced samples.\n",
      "N foreground 14262, N  background 0,unable to generate class balanced samples.\n",
      "N foreground 10992, N  background 0,unable to generate class balanced samples.\n",
      "N foreground 14317, N  background 0,unable to generate class balanced samples.\n",
      "N foreground 15184, N  background 0,unable to generate class balanced samples.\n",
      "N foreground 16388, N  background 0,unable to generate class balanced samples.\n",
      "N foreground 17097, N  background 0,unable to generate class balanced samples.\n",
      "N foreground 8935, N  background 0,unable to generate class balanced samples.\n",
      "N foreground 10533, N  background 0,unable to generate class balanced samples.\n",
      "N foreground 16682, N  background 0,unable to generate class balanced samples.\n",
      "N foreground 13064, N  background 0,unable to generate class balanced samples.\n",
      "N foreground 14230, N  background 0,unable to generate class balanced samples.\n",
      "N foreground 12122, N  background 0,unable to generate class balanced samples.\n",
      "N foreground 13138, N  background 0,unable to generate class balanced samples.\n",
      "N foreground 22593, N  background 0,unable to generate class balanced samples.\n",
      "N foreground 15838, N  background 0,unable to generate class balanced samples.\n",
      "N foreground 17716, N  background 0,unable to generate class balanced samples.\n",
      "N foreground 15619, N  background 0,unable to generate class balanced samples.\n",
      "N foreground 10474, N  background 0,unable to generate class balanced samples.\n",
      "N foreground 16450, N  background 0,unable to generate class balanced samples.\n",
      "N foreground 19210, N  background 0,unable to generate class balanced samples.\n",
      "N foreground 14809, N  background 0,unable to generate class balanced samples.\n",
      "N foreground 13958, N  background 0,unable to generate class balanced samples.\n",
      "N foreground 13809, N  background 0,unable to generate class balanced samples.\n",
      "N foreground 15909, N  background 0,unable to generate class balanced samples.\n"
     ]
    },
    {
     "name": "stdout",
     "output_type": "stream",
     "text": [
      "1/13, train_loss: 0.9796\n",
      "2/13, train_loss: 0.9766\n",
      "3/13, train_loss: 0.9735\n",
      "4/13, train_loss: 0.9721\n",
      "5/13, train_loss: 0.9686\n",
      "6/13, train_loss: 0.9658\n",
      "7/13, train_loss: 0.9636\n",
      "8/13, train_loss: 0.9602\n",
      "9/13, train_loss: 0.9551\n",
      "10/13, train_loss: 0.9501\n",
      "11/13, train_loss: 0.9466\n",
      "12/13, train_loss: 0.9424\n",
      "13/13, train_loss: 0.9397\n",
      "epoch 1 average loss: 0.9611\n"
     ]
    },
    {
     "name": "stderr",
     "output_type": "stream",
     "text": [
      "N foreground 10539, N  background 0,unable to generate class balanced samples.\n",
      "N foreground 13981, N  background 0,unable to generate class balanced samples.\n",
      "N foreground 18264, N  background 0,unable to generate class balanced samples.\n",
      "N foreground 14351, N  background 0,unable to generate class balanced samples.\n",
      "N foreground 16021, N  background 0,unable to generate class balanced samples.\n",
      "N foreground 13080, N  background 0,unable to generate class balanced samples.\n",
      "N foreground 14149, N  background 0,unable to generate class balanced samples.\n",
      "N foreground 14458, N  background 0,unable to generate class balanced samples.\n",
      "N foreground 14199, N  background 0,unable to generate class balanced samples.\n"
     ]
    },
    {
     "name": "stdout",
     "output_type": "stream",
     "text": [
      "saved new best metric model\n",
      "current epoch: 1 current mean dice: 0.0349\n",
      "best mean dice: 0.0349at epoch: 1\n",
      "----------\n",
      "epoch 2/150\n"
     ]
    },
    {
     "name": "stderr",
     "output_type": "stream",
     "text": [
      "N foreground 8935, N  background 0,unable to generate class balanced samples.\n",
      "N foreground 15619, N  background 0,unable to generate class balanced samples.\n",
      "N foreground 15838, N  background 0,unable to generate class balanced samples.\n",
      "N foreground 13958, N  background 0,unable to generate class balanced samples.\n",
      "N foreground 16115, N  background 0,unable to generate class balanced samples.\n",
      "N foreground 17716, N  background 0,unable to generate class balanced samples.\n",
      "N foreground 22593, N  background 0,unable to generate class balanced samples.\n",
      "N foreground 12122, N  background 0,unable to generate class balanced samples.\n",
      "N foreground 13138, N  background 0,unable to generate class balanced samples.\n",
      "N foreground 14809, N  background 0,unable to generate class balanced samples.\n",
      "N foreground 17097, N  background 0,unable to generate class balanced samples.\n",
      "N foreground 16388, N  background 0,unable to generate class balanced samples.\n",
      "N foreground 10474, N  background 0,unable to generate class balanced samples.\n",
      "N foreground 14317, N  background 0,unable to generate class balanced samples.\n",
      "N foreground 10992, N  background 0,unable to generate class balanced samples.\n",
      "N foreground 16438, N  background 0,unable to generate class balanced samples.\n",
      "N foreground 15184, N  background 0,unable to generate class balanced samples.\n",
      "N foreground 10533, N  background 0,unable to generate class balanced samples.\n",
      "N foreground 16450, N  background 0,unable to generate class balanced samples.\n",
      "N foreground 13809, N  background 0,unable to generate class balanced samples.\n",
      "N foreground 16682, N  background 0,unable to generate class balanced samples.\n",
      "N foreground 14230, N  background 0,unable to generate class balanced samples.\n",
      "N foreground 19210, N  background 0,unable to generate class balanced samples.\n",
      "N foreground 15909, N  background 0,unable to generate class balanced samples.\n",
      "N foreground 14262, N  background 0,unable to generate class balanced samples.\n",
      "N foreground 13064, N  background 0,unable to generate class balanced samples.\n"
     ]
    },
    {
     "name": "stdout",
     "output_type": "stream",
     "text": [
      "1/13, train_loss: 0.9325\n",
      "2/13, train_loss: 0.9284\n",
      "3/13, train_loss: 0.9258\n",
      "4/13, train_loss: 0.9204\n",
      "5/13, train_loss: 0.9189\n",
      "6/13, train_loss: 0.9122\n",
      "7/13, train_loss: 0.9147\n",
      "8/13, train_loss: 0.9058\n",
      "9/13, train_loss: 0.9036\n",
      "10/13, train_loss: 0.8976\n",
      "11/13, train_loss: 0.8928\n",
      "12/13, train_loss: 0.8853\n",
      "13/13, train_loss: 0.8867\n",
      "epoch 2 average loss: 0.9096\n"
     ]
    },
    {
     "name": "stderr",
     "output_type": "stream",
     "text": [
      "N foreground 16021, N  background 0,unable to generate class balanced samples.\n",
      "N foreground 10539, N  background 0,unable to generate class balanced samples.\n",
      "N foreground 14149, N  background 0,unable to generate class balanced samples.\n",
      "N foreground 14351, N  background 0,unable to generate class balanced samples.\n",
      "N foreground 18264, N  background 0,unable to generate class balanced samples.\n",
      "N foreground 13981, N  background 0,unable to generate class balanced samples.\n",
      "N foreground 13080, N  background 0,unable to generate class balanced samples.\n",
      "N foreground 14458, N  background 0,unable to generate class balanced samples.\n",
      "N foreground 14199, N  background 0,unable to generate class balanced samples.\n"
     ]
    },
    {
     "name": "stdout",
     "output_type": "stream",
     "text": [
      "saved new best metric model\n",
      "current epoch: 2 current mean dice: 0.1147\n",
      "best mean dice: 0.1147at epoch: 2\n",
      "----------\n",
      "epoch 3/150\n"
     ]
    },
    {
     "name": "stderr",
     "output_type": "stream",
     "text": [
      "N foreground 14262, N  background 0,unable to generate class balanced samples.\n",
      "N foreground 10992, N  background 0,unable to generate class balanced samples.\n",
      "N foreground 13064, N  background 0,unable to generate class balanced samples.\n",
      "N foreground 16450, N  background 0,unable to generate class balanced samples.\n",
      "N foreground 19210, N  background 0,unable to generate class balanced samples.\n",
      "N foreground 15184, N  background 0,unable to generate class balanced samples.\n",
      "N foreground 10474, N  background 0,unable to generate class balanced samples.\n",
      "N foreground 13958, N  background 0,unable to generate class balanced samples.\n",
      "N foreground 16438, N  background 0,unable to generate class balanced samples.\n",
      "N foreground 16388, N  background 0,unable to generate class balanced samples.\n",
      "N foreground 8935, N  background 0,unable to generate class balanced samples.\n",
      "N foreground 17097, N  background 0,unable to generate class balanced samples.\n",
      "N foreground 14317, N  background 0,unable to generate class balanced samples.\n",
      "N foreground 12122, N  background 0,unable to generate class balanced samples.\n",
      "N foreground 14230, N  background 0,unable to generate class balanced samples.\n",
      "N foreground 15838, N  background 0,unable to generate class balanced samples.\n",
      "N foreground 17716, N  background 0,unable to generate class balanced samples.\n",
      "N foreground 10533, N  background 0,unable to generate class balanced samples.\n",
      "N foreground 15909, N  background 0,unable to generate class balanced samples.\n",
      "N foreground 22593, N  background 0,unable to generate class balanced samples.\n",
      "N foreground 16682, N  background 0,unable to generate class balanced samples.\n",
      "N foreground 13138, N  background 0,unable to generate class balanced samples.\n",
      "N foreground 13809, N  background 0,unable to generate class balanced samples.\n",
      "N foreground 15619, N  background 0,unable to generate class balanced samples.\n",
      "N foreground 16115, N  background 0,unable to generate class balanced samples.\n",
      "N foreground 14809, N  background 0,unable to generate class balanced samples.\n"
     ]
    },
    {
     "name": "stdout",
     "output_type": "stream",
     "text": [
      "1/13, train_loss: 0.8773\n",
      "2/13, train_loss: 0.8724\n",
      "3/13, train_loss: 0.8712\n",
      "4/13, train_loss: 0.8619\n",
      "5/13, train_loss: 0.8530\n",
      "6/13, train_loss: 0.8570\n",
      "7/13, train_loss: 0.8391\n",
      "8/13, train_loss: 0.8488\n",
      "9/13, train_loss: 0.8191\n",
      "10/13, train_loss: 0.8348\n",
      "11/13, train_loss: 0.8208\n",
      "12/13, train_loss: 0.8065\n",
      "13/13, train_loss: 0.8082\n",
      "epoch 3 average loss: 0.8439\n"
     ]
    },
    {
     "name": "stderr",
     "output_type": "stream",
     "text": [
      "N foreground 14149, N  background 0,unable to generate class balanced samples.\n",
      "N foreground 14351, N  background 0,unable to generate class balanced samples.\n",
      "N foreground 18264, N  background 0,unable to generate class balanced samples.\n",
      "N foreground 13981, N  background 0,unable to generate class balanced samples.\n",
      "N foreground 16021, N  background 0,unable to generate class balanced samples.\n",
      "N foreground 10539, N  background 0,unable to generate class balanced samples.\n",
      "N foreground 13080, N  background 0,unable to generate class balanced samples.\n",
      "N foreground 14458, N  background 0,unable to generate class balanced samples.\n",
      "N foreground 14199, N  background 0,unable to generate class balanced samples.\n"
     ]
    },
    {
     "name": "stdout",
     "output_type": "stream",
     "text": [
      "saved new best metric model\n",
      "current epoch: 3 current mean dice: 0.1636\n",
      "best mean dice: 0.1636at epoch: 3\n",
      "----------\n",
      "epoch 4/150\n"
     ]
    },
    {
     "name": "stderr",
     "output_type": "stream",
     "text": [
      "N foreground 13064, N  background 0,unable to generate class balanced samples.\n",
      "N foreground 14230, N  background 0,unable to generate class balanced samples.\n",
      "N foreground 15184, N  background 0,unable to generate class balanced samples.\n",
      "N foreground 16388, N  background 0,unable to generate class balanced samples.\n",
      "N foreground 15838, N  background 0,unable to generate class balanced samples.\n",
      "N foreground 8935, N  background 0,unable to generate class balanced samples.\n",
      "N foreground 13958, N  background 0,unable to generate class balanced samples.\n",
      "N foreground 22593, N  background 0,unable to generate class balanced samples.\n",
      "N foreground 15619, N  background 0,unable to generate class balanced samples.\n",
      "N foreground 14809, N  background 0,unable to generate class balanced samples.\n",
      "N foreground 15909, N  background 0,unable to generate class balanced samples.\n",
      "N foreground 13138, N  background 0,unable to generate class balanced samples.\n",
      "N foreground 14317, N  background 0,unable to generate class balanced samples.\n",
      "N foreground 10992, N  background 0,unable to generate class balanced samples.\n",
      "N foreground 13809, N  background 0,unable to generate class balanced samples.\n",
      "N foreground 16450, N  background 0,unable to generate class balanced samples.\n",
      "N foreground 17716, N  background 0,unable to generate class balanced samples.\n",
      "N foreground 16115, N  background 0,unable to generate class balanced samples.\n",
      "N foreground 16682, N  background 0,unable to generate class balanced samples.\n",
      "N foreground 10474, N  background 0,unable to generate class balanced samples.\n",
      "N foreground 14262, N  background 0,unable to generate class balanced samples.\n",
      "N foreground 17097, N  background 0,unable to generate class balanced samples.\n",
      "N foreground 12122, N  background 0,unable to generate class balanced samples.\n",
      "N foreground 16438, N  background 0,unable to generate class balanced samples.\n",
      "N foreground 19210, N  background 0,unable to generate class balanced samples.\n",
      "N foreground 10533, N  background 0,unable to generate class balanced samples.\n"
     ]
    },
    {
     "name": "stdout",
     "output_type": "stream",
     "text": [
      "1/13, train_loss: 0.8087\n",
      "2/13, train_loss: 0.7988\n",
      "3/13, train_loss: 0.7971\n",
      "4/13, train_loss: 0.7832\n",
      "5/13, train_loss: 0.7894\n",
      "6/13, train_loss: 0.7982\n",
      "7/13, train_loss: 0.7778\n",
      "8/13, train_loss: 0.7978\n",
      "9/13, train_loss: 0.7588\n",
      "10/13, train_loss: 0.7647\n",
      "11/13, train_loss: 0.7506\n",
      "12/13, train_loss: 0.7698\n",
      "13/13, train_loss: 0.7459\n",
      "epoch 4 average loss: 0.7801\n"
     ]
    },
    {
     "name": "stderr",
     "output_type": "stream",
     "text": [
      "N foreground 14351, N  background 0,unable to generate class balanced samples.\n",
      "N foreground 16021, N  background 0,unable to generate class balanced samples.\n",
      "N foreground 14149, N  background 0,unable to generate class balanced samples.\n",
      "N foreground 10539, N  background 0,unable to generate class balanced samples.\n",
      "N foreground 13981, N  background 0,unable to generate class balanced samples.\n",
      "N foreground 18264, N  background 0,unable to generate class balanced samples.\n",
      "N foreground 13080, N  background 0,unable to generate class balanced samples.\n",
      "N foreground 14458, N  background 0,unable to generate class balanced samples.\n",
      "N foreground 14199, N  background 0,unable to generate class balanced samples.\n"
     ]
    },
    {
     "name": "stdout",
     "output_type": "stream",
     "text": [
      "saved new best metric model\n",
      "current epoch: 4 current mean dice: 0.1812\n",
      "best mean dice: 0.1812at epoch: 4\n",
      "----------\n",
      "epoch 5/150\n"
     ]
    },
    {
     "name": "stderr",
     "output_type": "stream",
     "text": [
      "N foreground 16388, N  background 0,unable to generate class balanced samples.\n",
      "N foreground 16682, N  background 0,unable to generate class balanced samples.\n",
      "N foreground 13809, N  background 0,unable to generate class balanced samples.\n",
      "N foreground 15184, N  background 0,unable to generate class balanced samples.\n",
      "N foreground 12122, N  background 0,unable to generate class balanced samples.\n",
      "N foreground 16115, N  background 0,unable to generate class balanced samples.\n",
      "N foreground 16450, N  background 0,unable to generate class balanced samples.\n",
      "N foreground 17097, N  background 0,unable to generate class balanced samples.\n",
      "N foreground 13064, N  background 0,unable to generate class balanced samples.\n",
      "N foreground 14230, N  background 0,unable to generate class balanced samples.\n",
      "N foreground 14809, N  background 0,unable to generate class balanced samples.\n",
      "N foreground 14262, N  background 0,unable to generate class balanced samples.\n",
      "N foreground 16438, N  background 0,unable to generate class balanced samples.\n",
      "N foreground 15838, N  background 0,unable to generate class balanced samples.\n",
      "N foreground 13138, N  background 0,unable to generate class balanced samples.\n",
      "N foreground 13958, N  background 0,unable to generate class balanced samples.\n",
      "N foreground 19210, N  background 0,unable to generate class balanced samples.\n",
      "N foreground 8935, N  background 0,unable to generate class balanced samples.\n",
      "N foreground 10474, N  background 0,unable to generate class balanced samples.\n",
      "N foreground 17716, N  background 0,unable to generate class balanced samples.\n",
      "N foreground 10533, N  background 0,unable to generate class balanced samples.\n",
      "N foreground 15619, N  background 0,unable to generate class balanced samples.\n",
      "N foreground 14317, N  background 0,unable to generate class balanced samples.\n",
      "N foreground 15909, N  background 0,unable to generate class balanced samples.\n",
      "N foreground 22593, N  background 0,unable to generate class balanced samples.\n",
      "N foreground 10992, N  background 0,unable to generate class balanced samples.\n"
     ]
    },
    {
     "name": "stdout",
     "output_type": "stream",
     "text": [
      "1/13, train_loss: 0.7541\n",
      "2/13, train_loss: 0.7493\n",
      "3/13, train_loss: 0.7405\n",
      "4/13, train_loss: 0.7409\n",
      "5/13, train_loss: 0.7268\n",
      "6/13, train_loss: 0.7147\n",
      "7/13, train_loss: 0.7245\n",
      "8/13, train_loss: 0.7171\n",
      "9/13, train_loss: 0.7515\n",
      "10/13, train_loss: 0.7259\n",
      "11/13, train_loss: 0.7310\n",
      "12/13, train_loss: 0.7348\n",
      "13/13, train_loss: 0.7300\n",
      "epoch 5 average loss: 0.7339\n"
     ]
    },
    {
     "name": "stderr",
     "output_type": "stream",
     "text": [
      "N foreground 16021, N  background 0,unable to generate class balanced samples.\n",
      "N foreground 14149, N  background 0,unable to generate class balanced samples.\n",
      "N foreground 14351, N  background 0,unable to generate class balanced samples.\n",
      "N foreground 13981, N  background 0,unable to generate class balanced samples.\n",
      "N foreground 18264, N  background 0,unable to generate class balanced samples.\n",
      "N foreground 10539, N  background 0,unable to generate class balanced samples.\n",
      "N foreground 13080, N  background 0,unable to generate class balanced samples.\n",
      "N foreground 14458, N  background 0,unable to generate class balanced samples.\n",
      "N foreground 14199, N  background 0,unable to generate class balanced samples.\n"
     ]
    },
    {
     "name": "stdout",
     "output_type": "stream",
     "text": [
      "saved new best metric model\n",
      "current epoch: 5 current mean dice: 0.2531\n",
      "best mean dice: 0.2531at epoch: 5\n",
      "----------\n",
      "epoch 6/150\n"
     ]
    },
    {
     "name": "stderr",
     "output_type": "stream",
     "text": [
      "N foreground 10474, N  background 0,unable to generate class balanced samples.\n",
      "N foreground 14317, N  background 0,unable to generate class balanced samples.\n",
      "N foreground 16438, N  background 0,unable to generate class balanced samples.\n",
      "N foreground 16682, N  background 0,unable to generate class balanced samples.\n",
      "N foreground 17097, N  background 0,unable to generate class balanced samples.\n",
      "N foreground 14230, N  background 0,unable to generate class balanced samples.\n",
      "N foreground 22593, N  background 0,unable to generate class balanced samples.\n",
      "N foreground 16388, N  background 0,unable to generate class balanced samples.\n",
      "N foreground 15619, N  background 0,unable to generate class balanced samples.\n",
      "N foreground 17716, N  background 0,unable to generate class balanced samples.\n",
      "N foreground 12122, N  background 0,unable to generate class balanced samples.\n",
      "N foreground 14809, N  background 0,unable to generate class balanced samples.\n",
      "N foreground 10992, N  background 0,unable to generate class balanced samples.\n",
      "N foreground 13138, N  background 0,unable to generate class balanced samples.\n",
      "N foreground 15838, N  background 0,unable to generate class balanced samples.\n",
      "N foreground 13809, N  background 0,unable to generate class balanced samples.\n",
      "N foreground 13064, N  background 0,unable to generate class balanced samples.\n",
      "N foreground 15184, N  background 0,unable to generate class balanced samples.\n",
      "N foreground 15909, N  background 0,unable to generate class balanced samples.\n",
      "N foreground 16450, N  background 0,unable to generate class balanced samples.\n",
      "N foreground 13958, N  background 0,unable to generate class balanced samples.\n",
      "N foreground 10533, N  background 0,unable to generate class balanced samples.\n",
      "N foreground 8935, N  background 0,unable to generate class balanced samples.\n",
      "N foreground 16115, N  background 0,unable to generate class balanced samples.\n",
      "N foreground 19210, N  background 0,unable to generate class balanced samples.\n",
      "N foreground 14262, N  background 0,unable to generate class balanced samples.\n"
     ]
    },
    {
     "name": "stdout",
     "output_type": "stream",
     "text": [
      "1/13, train_loss: 0.7354\n",
      "2/13, train_loss: 0.7109\n",
      "3/13, train_loss: 0.7210\n",
      "4/13, train_loss: 0.6952\n",
      "5/13, train_loss: 0.7047\n",
      "6/13, train_loss: 0.6964\n",
      "7/13, train_loss: 0.7125\n",
      "8/13, train_loss: 0.6948\n",
      "9/13, train_loss: 0.7101\n",
      "10/13, train_loss: 0.6821\n",
      "11/13, train_loss: 0.6868\n",
      "12/13, train_loss: 0.6716\n",
      "13/13, train_loss: 0.6964\n",
      "epoch 6 average loss: 0.7014\n"
     ]
    },
    {
     "name": "stderr",
     "output_type": "stream",
     "text": [
      "N foreground 14351, N  background 0,unable to generate class balanced samples.\n",
      "N foreground 13981, N  background 0,unable to generate class balanced samples.\n",
      "N foreground 14149, N  background 0,unable to generate class balanced samples.\n",
      "N foreground 13080, N  background 0,unable to generate class balanced samples.\n",
      "N foreground 18264, N  background 0,unable to generate class balanced samples.\n",
      "N foreground 10539, N  background 0,unable to generate class balanced samples.\n",
      "N foreground 16021, N  background 0,unable to generate class balanced samples.\n",
      "N foreground 14458, N  background 0,unable to generate class balanced samples.\n",
      "N foreground 14199, N  background 0,unable to generate class balanced samples.\n"
     ]
    },
    {
     "name": "stdout",
     "output_type": "stream",
     "text": [
      "saved new best metric model\n",
      "current epoch: 6 current mean dice: 0.2807\n",
      "best mean dice: 0.2807at epoch: 6\n",
      "----------\n",
      "epoch 7/150\n"
     ]
    },
    {
     "name": "stderr",
     "output_type": "stream",
     "text": [
      "N foreground 19210, N  background 0,unable to generate class balanced samples.\n",
      "N foreground 13138, N  background 0,unable to generate class balanced samples.\n",
      "N foreground 13809, N  background 0,unable to generate class balanced samples.\n",
      "N foreground 10474, N  background 0,unable to generate class balanced samples.\n",
      "N foreground 16682, N  background 0,unable to generate class balanced samples.\n",
      "N foreground 16115, N  background 0,unable to generate class balanced samples.\n",
      "N foreground 13064, N  background 0,unable to generate class balanced samples.\n",
      "N foreground 14317, N  background 0,unable to generate class balanced samples.\n",
      "N foreground 10533, N  background 0,unable to generate class balanced samples.\n",
      "N foreground 17097, N  background 0,unable to generate class balanced samples.\n",
      "N foreground 22593, N  background 0,unable to generate class balanced samples.\n",
      "N foreground 8935, N  background 0,unable to generate class balanced samples.\n",
      "N foreground 14809, N  background 0,unable to generate class balanced samples.\n",
      "N foreground 12122, N  background 0,unable to generate class balanced samples.\n",
      "N foreground 14262, N  background 0,unable to generate class balanced samples.\n",
      "N foreground 16388, N  background 0,unable to generate class balanced samples.\n",
      "N foreground 16438, N  background 0,unable to generate class balanced samples.\n",
      "N foreground 10992, N  background 0,unable to generate class balanced samples.\n",
      "N foreground 15619, N  background 0,unable to generate class balanced samples.\n",
      "N foreground 15909, N  background 0,unable to generate class balanced samples.\n",
      "N foreground 15838, N  background 0,unable to generate class balanced samples.\n",
      "N foreground 17716, N  background 0,unable to generate class balanced samples.\n",
      "N foreground 16450, N  background 0,unable to generate class balanced samples.\n",
      "N foreground 15184, N  background 0,unable to generate class balanced samples.\n",
      "N foreground 14230, N  background 0,unable to generate class balanced samples.\n",
      "N foreground 13958, N  background 0,unable to generate class balanced samples.\n"
     ]
    },
    {
     "name": "stdout",
     "output_type": "stream",
     "text": [
      "1/13, train_loss: 0.6824\n",
      "2/13, train_loss: 0.6691\n",
      "3/13, train_loss: 0.6928\n",
      "4/13, train_loss: 0.6712\n",
      "5/13, train_loss: 0.6799\n",
      "6/13, train_loss: 0.6787\n",
      "7/13, train_loss: 0.6574\n",
      "8/13, train_loss: 0.6760\n",
      "9/13, train_loss: 0.6599\n",
      "10/13, train_loss: 0.6520\n",
      "11/13, train_loss: 0.6625\n",
      "12/13, train_loss: 0.6567\n",
      "13/13, train_loss: 0.6439\n",
      "epoch 7 average loss: 0.6679\n"
     ]
    },
    {
     "name": "stderr",
     "output_type": "stream",
     "text": [
      "N foreground 14351, N  background 0,unable to generate class balanced samples.\n",
      "N foreground 14458, N  background 0,unable to generate class balanced samples.\n",
      "N foreground 14149, N  background 0,unable to generate class balanced samples.\n",
      "N foreground 18264, N  background 0,unable to generate class balanced samples.\n",
      "N foreground 10539, N  background 0,unable to generate class balanced samples.\n",
      "N foreground 13981, N  background 0,unable to generate class balanced samples.\n",
      "N foreground 13080, N  background 0,unable to generate class balanced samples.\n",
      "N foreground 16021, N  background 0,unable to generate class balanced samples.\n",
      "N foreground 14199, N  background 0,unable to generate class balanced samples.\n"
     ]
    },
    {
     "name": "stdout",
     "output_type": "stream",
     "text": [
      "saved new best metric model\n",
      "current epoch: 7 current mean dice: 0.3083\n",
      "best mean dice: 0.3083at epoch: 7\n",
      "----------\n",
      "epoch 8/150\n"
     ]
    },
    {
     "name": "stderr",
     "output_type": "stream",
     "text": [
      "N foreground 19210, N  background 0,unable to generate class balanced samples.\n",
      "N foreground 14809, N  background 0,unable to generate class balanced samples.\n",
      "N foreground 16115, N  background 0,unable to generate class balanced samples.\n",
      "N foreground 16438, N  background 0,unable to generate class balanced samples.\n",
      "N foreground 16682, N  background 0,unable to generate class balanced samples.\n",
      "N foreground 14317, N  background 0,unable to generate class balanced samples.\n",
      "N foreground 15184, N  background 0,unable to generate class balanced samples.\n",
      "N foreground 13958, N  background 0,unable to generate class balanced samples.\n",
      "N foreground 14230, N  background 0,unable to generate class balanced samples.\n",
      "N foreground 13138, N  background 0,unable to generate class balanced samples.\n",
      "N foreground 16450, N  background 0,unable to generate class balanced samples.\n",
      "N foreground 10992, N  background 0,unable to generate class balanced samples.\n",
      "N foreground 22593, N  background 0,unable to generate class balanced samples.\n",
      "N foreground 13809, N  background 0,unable to generate class balanced samples.\n",
      "N foreground 17716, N  background 0,unable to generate class balanced samples.\n",
      "N foreground 10533, N  background 0,unable to generate class balanced samples.\n",
      "N foreground 17097, N  background 0,unable to generate class balanced samples.\n",
      "N foreground 12122, N  background 0,unable to generate class balanced samples.\n",
      "N foreground 15619, N  background 0,unable to generate class balanced samples.\n",
      "N foreground 14262, N  background 0,unable to generate class balanced samples.\n",
      "N foreground 13064, N  background 0,unable to generate class balanced samples.\n",
      "N foreground 15909, N  background 0,unable to generate class balanced samples.\n",
      "N foreground 15838, N  background 0,unable to generate class balanced samples.\n",
      "N foreground 8935, N  background 0,unable to generate class balanced samples.\n",
      "N foreground 10474, N  background 0,unable to generate class balanced samples.\n",
      "N foreground 16388, N  background 0,unable to generate class balanced samples.\n"
     ]
    },
    {
     "name": "stdout",
     "output_type": "stream",
     "text": [
      "1/13, train_loss: 0.6471\n",
      "2/13, train_loss: 0.6395\n",
      "3/13, train_loss: 0.6436\n",
      "4/13, train_loss: 0.6356\n",
      "5/13, train_loss: 0.6390\n",
      "6/13, train_loss: 0.6228\n",
      "7/13, train_loss: 0.6380\n",
      "8/13, train_loss: 0.6491\n",
      "9/13, train_loss: 0.6228\n",
      "10/13, train_loss: 0.6200\n",
      "11/13, train_loss: 0.6187\n",
      "12/13, train_loss: 0.6036\n",
      "13/13, train_loss: 0.6060\n",
      "epoch 8 average loss: 0.6297\n"
     ]
    },
    {
     "name": "stderr",
     "output_type": "stream",
     "text": [
      "N foreground 16021, N  background 0,unable to generate class balanced samples.\n",
      "N foreground 18264, N  background 0,unable to generate class balanced samples.\n",
      "N foreground 10539, N  background 0,unable to generate class balanced samples.\n",
      "N foreground 14149, N  background 0,unable to generate class balanced samples.\n",
      "N foreground 13981, N  background 0,unable to generate class balanced samples.\n",
      "N foreground 14351, N  background 0,unable to generate class balanced samples.\n",
      "N foreground 13080, N  background 0,unable to generate class balanced samples.\n",
      "N foreground 14458, N  background 0,unable to generate class balanced samples.\n",
      "N foreground 14199, N  background 0,unable to generate class balanced samples.\n"
     ]
    },
    {
     "name": "stdout",
     "output_type": "stream",
     "text": [
      "saved new best metric model\n",
      "current epoch: 8 current mean dice: 0.3995\n",
      "best mean dice: 0.3995at epoch: 8\n",
      "----------\n",
      "epoch 9/150\n"
     ]
    },
    {
     "name": "stderr",
     "output_type": "stream",
     "text": [
      "N foreground 16438, N  background 0,unable to generate class balanced samples.\n",
      "N foreground 12122, N  background 0,unable to generate class balanced samples.\n",
      "N foreground 15909, N  background 0,unable to generate class balanced samples.\n",
      "N foreground 19210, N  background 0,unable to generate class balanced samples.\n",
      "N foreground 13809, N  background 0,unable to generate class balanced samples.\n",
      "N foreground 10992, N  background 0,unable to generate class balanced samples.\n",
      "N foreground 16682, N  background 0,unable to generate class balanced samples.\n",
      "N foreground 15619, N  background 0,unable to generate class balanced samples.\n",
      "N foreground 17097, N  background 0,unable to generate class balanced samples.\n",
      "N foreground 17716, N  background 0,unable to generate class balanced samples.\n",
      "N foreground 16450, N  background 0,unable to generate class balanced samples.\n",
      "N foreground 15838, N  background 0,unable to generate class balanced samples.\n",
      "N foreground 14809, N  background 0,unable to generate class balanced samples.\n",
      "N foreground 22593, N  background 0,unable to generate class balanced samples.\n",
      "N foreground 15184, N  background 0,unable to generate class balanced samples.\n",
      "N foreground 8935, N  background 0,unable to generate class balanced samples.\n",
      "N foreground 13958, N  background 0,unable to generate class balanced samples.\n",
      "N foreground 16388, N  background 0,unable to generate class balanced samples.\n",
      "N foreground 14262, N  background 0,unable to generate class balanced samples.\n",
      "N foreground 13064, N  background 0,unable to generate class balanced samples.\n",
      "N foreground 14317, N  background 0,unable to generate class balanced samples.\n",
      "N foreground 10533, N  background 0,unable to generate class balanced samples.\n",
      "N foreground 10474, N  background 0,unable to generate class balanced samples.\n",
      "N foreground 16115, N  background 0,unable to generate class balanced samples.\n",
      "N foreground 13138, N  background 0,unable to generate class balanced samples.\n",
      "N foreground 14230, N  background 0,unable to generate class balanced samples.\n"
     ]
    },
    {
     "name": "stdout",
     "output_type": "stream",
     "text": [
      "1/13, train_loss: 0.6051\n",
      "2/13, train_loss: 0.5915\n",
      "3/13, train_loss: 0.5952\n",
      "4/13, train_loss: 0.5728\n",
      "5/13, train_loss: 0.5924\n",
      "6/13, train_loss: 0.5893\n",
      "7/13, train_loss: 0.5960\n",
      "8/13, train_loss: 0.5993\n",
      "9/13, train_loss: 0.5464\n",
      "10/13, train_loss: 0.5529\n",
      "11/13, train_loss: 0.5535\n",
      "12/13, train_loss: 0.5553\n",
      "13/13, train_loss: 0.5798\n",
      "epoch 9 average loss: 0.5792\n"
     ]
    },
    {
     "name": "stderr",
     "output_type": "stream",
     "text": [
      "N foreground 16021, N  background 0,unable to generate class balanced samples.\n",
      "N foreground 13981, N  background 0,unable to generate class balanced samples.\n",
      "N foreground 14351, N  background 0,unable to generate class balanced samples.\n",
      "N foreground 14149, N  background 0,unable to generate class balanced samples.\n",
      "N foreground 10539, N  background 0,unable to generate class balanced samples.\n",
      "N foreground 18264, N  background 0,unable to generate class balanced samples.\n",
      "N foreground 13080, N  background 0,unable to generate class balanced samples.\n",
      "N foreground 14458, N  background 0,unable to generate class balanced samples.\n",
      "N foreground 14199, N  background 0,unable to generate class balanced samples.\n"
     ]
    },
    {
     "name": "stdout",
     "output_type": "stream",
     "text": [
      "saved new best metric model\n",
      "current epoch: 9 current mean dice: 0.4799\n",
      "best mean dice: 0.4799at epoch: 9\n",
      "----------\n",
      "epoch 10/150\n"
     ]
    },
    {
     "name": "stderr",
     "output_type": "stream",
     "text": [
      "N foreground 16438, N  background 0,unable to generate class balanced samples.\n",
      "N foreground 15184, N  background 0,unable to generate class balanced samples.\n",
      "N foreground 13958, N  background 0,unable to generate class balanced samples.\n",
      "N foreground 10992, N  background 0,unable to generate class balanced samples.\n",
      "N foreground 12122, N  background 0,unable to generate class balanced samples.\n",
      "N foreground 14317, N  background 0,unable to generate class balanced samples.\n",
      "N foreground 16115, N  background 0,unable to generate class balanced samples.\n",
      "N foreground 14809, N  background 0,unable to generate class balanced samples.\n",
      "N foreground 10474, N  background 0,unable to generate class balanced samples.\n",
      "N foreground 17097, N  background 0,unable to generate class balanced samples.\n",
      "N foreground 19210, N  background 0,unable to generate class balanced samples.\n",
      "N foreground 16682, N  background 0,unable to generate class balanced samples.\n",
      "N foreground 10533, N  background 0,unable to generate class balanced samples.\n",
      "N foreground 8935, N  background 0,unable to generate class balanced samples.\n",
      "N foreground 14230, N  background 0,unable to generate class balanced samples.\n",
      "N foreground 13809, N  background 0,unable to generate class balanced samples.\n",
      "N foreground 15838, N  background 0,unable to generate class balanced samples.\n",
      "N foreground 16388, N  background 0,unable to generate class balanced samples.\n",
      "N foreground 15619, N  background 0,unable to generate class balanced samples.\n",
      "N foreground 14262, N  background 0,unable to generate class balanced samples.\n",
      "N foreground 16450, N  background 0,unable to generate class balanced samples.\n",
      "N foreground 22593, N  background 0,unable to generate class balanced samples.\n",
      "N foreground 17716, N  background 0,unable to generate class balanced samples.\n",
      "N foreground 15909, N  background 0,unable to generate class balanced samples.\n",
      "N foreground 13064, N  background 0,unable to generate class balanced samples.\n",
      "N foreground 13138, N  background 0,unable to generate class balanced samples.\n"
     ]
    },
    {
     "name": "stdout",
     "output_type": "stream",
     "text": [
      "1/13, train_loss: 0.5687\n",
      "2/13, train_loss: 0.5432\n",
      "3/13, train_loss: 0.5542\n",
      "4/13, train_loss: 0.5342\n",
      "5/13, train_loss: 0.5702\n",
      "6/13, train_loss: 0.5486\n",
      "7/13, train_loss: 0.4974\n",
      "8/13, train_loss: 0.5178\n",
      "9/13, train_loss: 0.4955\n",
      "10/13, train_loss: 0.5231\n",
      "11/13, train_loss: 0.4766\n",
      "12/13, train_loss: 0.4875\n",
      "13/13, train_loss: 0.4584\n",
      "epoch 10 average loss: 0.5212\n"
     ]
    },
    {
     "name": "stderr",
     "output_type": "stream",
     "text": [
      "N foreground 14149, N  background 0,unable to generate class balanced samples.\n",
      "N foreground 13981, N  background 0,unable to generate class balanced samples.\n",
      "N foreground 16021, N  background 0,unable to generate class balanced samples.\n",
      "N foreground 10539, N  background 0,unable to generate class balanced samples.\n",
      "N foreground 14351, N  background 0,unable to generate class balanced samples.\n",
      "N foreground 18264, N  background 0,unable to generate class balanced samples.\n",
      "N foreground 13080, N  background 0,unable to generate class balanced samples.\n",
      "N foreground 14458, N  background 0,unable to generate class balanced samples.\n",
      "N foreground 14199, N  background 0,unable to generate class balanced samples.\n"
     ]
    },
    {
     "name": "stdout",
     "output_type": "stream",
     "text": [
      "saved new best metric model\n",
      "current epoch: 10 current mean dice: 0.5389\n",
      "best mean dice: 0.5389at epoch: 10\n",
      "----------\n",
      "epoch 11/150\n"
     ]
    },
    {
     "name": "stderr",
     "output_type": "stream",
     "text": [
      "N foreground 13138, N  background 0,unable to generate class balanced samples.\n",
      "N foreground 15838, N  background 0,unable to generate class balanced samples.\n",
      "N foreground 14230, N  background 0,unable to generate class balanced samples.\n",
      "N foreground 15184, N  background 0,unable to generate class balanced samples.\n",
      "N foreground 16388, N  background 0,unable to generate class balanced samples.\n",
      "N foreground 10992, N  background 0,unable to generate class balanced samples.\n",
      "N foreground 14262, N  background 0,unable to generate class balanced samples.\n",
      "N foreground 13809, N  background 0,unable to generate class balanced samples.\n",
      "N foreground 16450, N  background 0,unable to generate class balanced samples.\n",
      "N foreground 19210, N  background 0,unable to generate class balanced samples.\n",
      "N foreground 12122, N  background 0,unable to generate class balanced samples.\n",
      "N foreground 8935, N  background 0,unable to generate class balanced samples.\n",
      "N foreground 16115, N  background 0,unable to generate class balanced samples.\n",
      "N foreground 15619, N  background 0,unable to generate class balanced samples.\n",
      "N foreground 16682, N  background 0,unable to generate class balanced samples.\n",
      "N foreground 10474, N  background 0,unable to generate class balanced samples.\n",
      "N foreground 14317, N  background 0,unable to generate class balanced samples.\n",
      "N foreground 17716, N  background 0,unable to generate class balanced samples.\n",
      "N foreground 14809, N  background 0,unable to generate class balanced samples.\n",
      "N foreground 15909, N  background 0,unable to generate class balanced samples.\n",
      "N foreground 13958, N  background 0,unable to generate class balanced samples.\n",
      "N foreground 16438, N  background 0,unable to generate class balanced samples.\n",
      "N foreground 10533, N  background 0,unable to generate class balanced samples.\n",
      "N foreground 22593, N  background 0,unable to generate class balanced samples.\n",
      "N foreground 13064, N  background 0,unable to generate class balanced samples.\n",
      "N foreground 17097, N  background 0,unable to generate class balanced samples.\n"
     ]
    },
    {
     "name": "stdout",
     "output_type": "stream",
     "text": [
      "1/13, train_loss: 0.4697\n",
      "2/13, train_loss: 0.4282\n",
      "3/13, train_loss: 0.4477\n",
      "4/13, train_loss: 0.4908\n",
      "5/13, train_loss: 0.4319\n",
      "6/13, train_loss: 0.4840\n",
      "7/13, train_loss: 0.4530\n",
      "8/13, train_loss: 0.4437\n",
      "9/13, train_loss: 0.4196\n",
      "10/13, train_loss: 0.4291\n",
      "11/13, train_loss: 0.4647\n",
      "12/13, train_loss: 0.4247\n",
      "13/13, train_loss: 0.4513\n",
      "epoch 11 average loss: 0.4491\n"
     ]
    },
    {
     "name": "stderr",
     "output_type": "stream",
     "text": [
      "N foreground 14149, N  background 0,unable to generate class balanced samples.\n",
      "N foreground 18264, N  background 0,unable to generate class balanced samples.\n",
      "N foreground 16021, N  background 0,unable to generate class balanced samples.\n",
      "N foreground 10539, N  background 0,unable to generate class balanced samples.\n",
      "N foreground 13981, N  background 0,unable to generate class balanced samples.\n",
      "N foreground 13080, N  background 0,unable to generate class balanced samples.\n",
      "N foreground 14351, N  background 0,unable to generate class balanced samples.\n",
      "N foreground 14458, N  background 0,unable to generate class balanced samples.\n",
      "N foreground 14199, N  background 0,unable to generate class balanced samples.\n"
     ]
    },
    {
     "name": "stdout",
     "output_type": "stream",
     "text": [
      "saved new best metric model\n",
      "current epoch: 11 current mean dice: 0.6541\n",
      "best mean dice: 0.6541at epoch: 11\n",
      "----------\n",
      "epoch 12/150\n"
     ]
    },
    {
     "name": "stderr",
     "output_type": "stream",
     "text": [
      "N foreground 12122, N  background 0,unable to generate class balanced samples.\n",
      "N foreground 16450, N  background 0,unable to generate class balanced samples.\n",
      "N foreground 16682, N  background 0,unable to generate class balanced samples.\n",
      "N foreground 13809, N  background 0,unable to generate class balanced samples.\n",
      "N foreground 19210, N  background 0,unable to generate class balanced samples.\n",
      "N foreground 15909, N  background 0,unable to generate class balanced samples.\n",
      "N foreground 13958, N  background 0,unable to generate class balanced samples.\n",
      "N foreground 10474, N  background 0,unable to generate class balanced samples.\n",
      "N foreground 10533, N  background 0,unable to generate class balanced samples.\n",
      "N foreground 14317, N  background 0,unable to generate class balanced samples.\n",
      "N foreground 14809, N  background 0,unable to generate class balanced samples.\n",
      "N foreground 10992, N  background 0,unable to generate class balanced samples.\n",
      "N foreground 17716, N  background 0,unable to generate class balanced samples.\n",
      "N foreground 13064, N  background 0,unable to generate class balanced samples.\n",
      "N foreground 22593, N  background 0,unable to generate class balanced samples.\n",
      "N foreground 8935, N  background 0,unable to generate class balanced samples.\n",
      "N foreground 15838, N  background 0,unable to generate class balanced samples.\n",
      "N foreground 14262, N  background 0,unable to generate class balanced samples.\n",
      "N foreground 16438, N  background 0,unable to generate class balanced samples.\n",
      "N foreground 13138, N  background 0,unable to generate class balanced samples.\n",
      "N foreground 14230, N  background 0,unable to generate class balanced samples.\n",
      "N foreground 16115, N  background 0,unable to generate class balanced samples.\n",
      "N foreground 16388, N  background 0,unable to generate class balanced samples.\n",
      "N foreground 15619, N  background 0,unable to generate class balanced samples.\n",
      "N foreground 17097, N  background 0,unable to generate class balanced samples.\n",
      "N foreground 15184, N  background 0,unable to generate class balanced samples.\n"
     ]
    },
    {
     "name": "stdout",
     "output_type": "stream",
     "text": [
      "1/13, train_loss: 0.4217\n",
      "2/13, train_loss: 0.4135\n",
      "3/13, train_loss: 0.3635\n",
      "4/13, train_loss: 0.4265\n",
      "5/13, train_loss: 0.4146\n",
      "6/13, train_loss: 0.4099\n",
      "7/13, train_loss: 0.4008\n",
      "8/13, train_loss: 0.4468\n",
      "9/13, train_loss: 0.3440\n",
      "10/13, train_loss: 0.3409\n",
      "11/13, train_loss: 0.3776\n",
      "12/13, train_loss: 0.4004\n",
      "13/13, train_loss: 0.3557\n",
      "epoch 12 average loss: 0.3935\n"
     ]
    },
    {
     "name": "stderr",
     "output_type": "stream",
     "text": [
      "N foreground 16021, N  background 0,unable to generate class balanced samples.\n",
      "N foreground 13080, N  background 0,unable to generate class balanced samples.\n",
      "N foreground 14149, N  background 0,unable to generate class balanced samples.\n",
      "N foreground 13981, N  background 0,unable to generate class balanced samples.\n",
      "N foreground 10539, N  background 0,unable to generate class balanced samples.\n",
      "N foreground 14351, N  background 0,unable to generate class balanced samples.\n",
      "N foreground 18264, N  background 0,unable to generate class balanced samples.\n",
      "N foreground 14458, N  background 0,unable to generate class balanced samples.\n",
      "N foreground 14199, N  background 0,unable to generate class balanced samples.\n"
     ]
    },
    {
     "name": "stdout",
     "output_type": "stream",
     "text": [
      "saved new best metric model\n",
      "current epoch: 12 current mean dice: 0.6782\n",
      "best mean dice: 0.6782at epoch: 12\n",
      "----------\n",
      "epoch 13/150\n"
     ]
    },
    {
     "name": "stderr",
     "output_type": "stream",
     "text": [
      "N foreground 14809, N  background 0,unable to generate class balanced samples.\n",
      "N foreground 13138, N  background 0,unable to generate class balanced samples.\n",
      "N foreground 16450, N  background 0,unable to generate class balanced samples.\n",
      "N foreground 19210, N  background 0,unable to generate class balanced samples.\n",
      "N foreground 22593, N  background 0,unable to generate class balanced samples.\n",
      "N foreground 10474, N  background 0,unable to generate class balanced samples.\n",
      "N foreground 15619, N  background 0,unable to generate class balanced samples.\n",
      "N foreground 13958, N  background 0,unable to generate class balanced samples.\n",
      "N foreground 12122, N  background 0,unable to generate class balanced samples.\n",
      "N foreground 13064, N  background 0,unable to generate class balanced samples.\n",
      "N foreground 15909, N  background 0,unable to generate class balanced samples.\n",
      "N foreground 10992, N  background 0,unable to generate class balanced samples.\n",
      "N foreground 16438, N  background 0,unable to generate class balanced samples.\n",
      "N foreground 16682, N  background 0,unable to generate class balanced samples.\n",
      "N foreground 17716, N  background 0,unable to generate class balanced samples.\n",
      "N foreground 16388, N  background 0,unable to generate class balanced samples.\n",
      "N foreground 15838, N  background 0,unable to generate class balanced samples.\n",
      "N foreground 8935, N  background 0,unable to generate class balanced samples.\n",
      "N foreground 14262, N  background 0,unable to generate class balanced samples.\n",
      "N foreground 15184, N  background 0,unable to generate class balanced samples.\n",
      "N foreground 17097, N  background 0,unable to generate class balanced samples.\n",
      "N foreground 16115, N  background 0,unable to generate class balanced samples.\n",
      "N foreground 14317, N  background 0,unable to generate class balanced samples.\n",
      "N foreground 10533, N  background 0,unable to generate class balanced samples.\n",
      "N foreground 14230, N  background 0,unable to generate class balanced samples.\n",
      "N foreground 13809, N  background 0,unable to generate class balanced samples.\n"
     ]
    },
    {
     "name": "stdout",
     "output_type": "stream",
     "text": [
      "1/13, train_loss: 0.3991\n",
      "2/13, train_loss: 0.3940\n",
      "3/13, train_loss: 0.3850\n",
      "4/13, train_loss: 0.3614\n",
      "5/13, train_loss: 0.3558\n",
      "6/13, train_loss: 0.3649\n",
      "7/13, train_loss: 0.3560\n",
      "8/13, train_loss: 0.3324\n",
      "9/13, train_loss: 0.3249\n",
      "10/13, train_loss: 0.3925\n",
      "11/13, train_loss: 0.3793\n",
      "12/13, train_loss: 0.3264\n",
      "13/13, train_loss: 0.3365\n",
      "epoch 13 average loss: 0.3622\n"
     ]
    },
    {
     "name": "stderr",
     "output_type": "stream",
     "text": [
      "N foreground 10539, N  background 0,unable to generate class balanced samples.\n",
      "N foreground 14149, N  background 0,unable to generate class balanced samples.\n",
      "N foreground 13981, N  background 0,unable to generate class balanced samples.\n",
      "N foreground 16021, N  background 0,unable to generate class balanced samples.\n",
      "N foreground 13080, N  background 0,unable to generate class balanced samples.\n",
      "N foreground 18264, N  background 0,unable to generate class balanced samples.\n",
      "N foreground 14351, N  background 0,unable to generate class balanced samples.\n",
      "N foreground 14458, N  background 0,unable to generate class balanced samples.\n",
      "N foreground 14199, N  background 0,unable to generate class balanced samples.\n"
     ]
    },
    {
     "name": "stdout",
     "output_type": "stream",
     "text": [
      "saved new best metric model\n",
      "current epoch: 13 current mean dice: 0.7146\n",
      "best mean dice: 0.7146at epoch: 13\n",
      "----------\n",
      "epoch 14/150\n"
     ]
    },
    {
     "name": "stderr",
     "output_type": "stream",
     "text": [
      "N foreground 16388, N  background 0,unable to generate class balanced samples.\n",
      "N foreground 17097, N  background 0,unable to generate class balanced samples.\n",
      "N foreground 10474, N  background 0,unable to generate class balanced samples.\n",
      "N foreground 15909, N  background 0,unable to generate class balanced samples.\n",
      "N foreground 15838, N  background 0,unable to generate class balanced samples.\n",
      "N foreground 15184, N  background 0,unable to generate class balanced samples.\n",
      "N foreground 12122, N  background 0,unable to generate class balanced samples.\n",
      "N foreground 22593, N  background 0,unable to generate class balanced samples.\n",
      "N foreground 13064, N  background 0,unable to generate class balanced samples.\n",
      "N foreground 10533, N  background 0,unable to generate class balanced samples.\n",
      "N foreground 15619, N  background 0,unable to generate class balanced samples.\n",
      "N foreground 17716, N  background 0,unable to generate class balanced samples.\n",
      "N foreground 16438, N  background 0,unable to generate class balanced samples.\n",
      "N foreground 14262, N  background 0,unable to generate class balanced samples.\n",
      "N foreground 10992, N  background 0,unable to generate class balanced samples.\n",
      "N foreground 13138, N  background 0,unable to generate class balanced samples.\n",
      "N foreground 13809, N  background 0,unable to generate class balanced samples.\n",
      "N foreground 16115, N  background 0,unable to generate class balanced samples.\n",
      "N foreground 8935, N  background 0,unable to generate class balanced samples.\n",
      "N foreground 13958, N  background 0,unable to generate class balanced samples.\n",
      "N foreground 14317, N  background 0,unable to generate class balanced samples.\n",
      "N foreground 16682, N  background 0,unable to generate class balanced samples.\n",
      "N foreground 19210, N  background 0,unable to generate class balanced samples.\n",
      "N foreground 14230, N  background 0,unable to generate class balanced samples.\n",
      "N foreground 14809, N  background 0,unable to generate class balanced samples.\n",
      "N foreground 16450, N  background 0,unable to generate class balanced samples.\n"
     ]
    },
    {
     "name": "stdout",
     "output_type": "stream",
     "text": [
      "1/13, train_loss: 0.3327\n",
      "2/13, train_loss: 0.3310\n",
      "3/13, train_loss: 0.3432\n",
      "4/13, train_loss: 0.3335\n",
      "5/13, train_loss: 0.3368\n",
      "6/13, train_loss: 0.3523\n",
      "7/13, train_loss: 0.3161\n",
      "8/13, train_loss: 0.3467\n",
      "9/13, train_loss: 0.3635\n",
      "10/13, train_loss: 0.3247\n",
      "11/13, train_loss: 0.3210\n",
      "12/13, train_loss: 0.3292\n",
      "13/13, train_loss: 0.3351\n",
      "epoch 14 average loss: 0.3358\n"
     ]
    },
    {
     "name": "stderr",
     "output_type": "stream",
     "text": [
      "N foreground 14149, N  background 0,unable to generate class balanced samples.\n",
      "N foreground 16021, N  background 0,unable to generate class balanced samples.\n",
      "N foreground 18264, N  background 0,unable to generate class balanced samples.\n",
      "N foreground 13080, N  background 0,unable to generate class balanced samples.\n",
      "N foreground 14351, N  background 0,unable to generate class balanced samples.\n",
      "N foreground 10539, N  background 0,unable to generate class balanced samples.\n",
      "N foreground 13981, N  background 0,unable to generate class balanced samples.\n",
      "N foreground 14458, N  background 0,unable to generate class balanced samples.\n",
      "N foreground 14199, N  background 0,unable to generate class balanced samples.\n"
     ]
    },
    {
     "name": "stdout",
     "output_type": "stream",
     "text": [
      "current epoch: 14 current mean dice: 0.6973\n",
      "best mean dice: 0.7146at epoch: 13\n",
      "----------\n",
      "epoch 15/150\n"
     ]
    },
    {
     "name": "stderr",
     "output_type": "stream",
     "text": [
      "N foreground 15838, N  background 0,unable to generate class balanced samples.\n",
      "N foreground 16115, N  background 0,unable to generate class balanced samples.\n",
      "N foreground 10992, N  background 0,unable to generate class balanced samples.\n",
      "N foreground 15909, N  background 0,unable to generate class balanced samples.\n",
      "N foreground 14262, N  background 0,unable to generate class balanced samples.\n",
      "N foreground 15619, N  background 0,unable to generate class balanced samples.\n",
      "N foreground 13064, N  background 0,unable to generate class balanced samples.\n",
      "N foreground 17097, N  background 0,unable to generate class balanced samples.\n",
      "N foreground 10474, N  background 0,unable to generate class balanced samples.\n",
      "N foreground 13958, N  background 0,unable to generate class balanced samples.\n",
      "N foreground 14809, N  background 0,unable to generate class balanced samples.\n",
      "N foreground 19210, N  background 0,unable to generate class balanced samples.\n",
      "N foreground 16388, N  background 0,unable to generate class balanced samples.\n",
      "N foreground 16450, N  background 0,unable to generate class balanced samples.\n",
      "N foreground 14230, N  background 0,unable to generate class balanced samples.\n",
      "N foreground 12122, N  background 0,unable to generate class balanced samples.\n",
      "N foreground 8935, N  background 0,unable to generate class balanced samples.\n",
      "N foreground 10533, N  background 0,unable to generate class balanced samples.\n",
      "N foreground 16682, N  background 0,unable to generate class balanced samples.\n",
      "N foreground 13809, N  background 0,unable to generate class balanced samples.\n",
      "N foreground 22593, N  background 0,unable to generate class balanced samples.\n",
      "N foreground 15184, N  background 0,unable to generate class balanced samples.\n",
      "N foreground 16438, N  background 0,unable to generate class balanced samples.\n",
      "N foreground 17716, N  background 0,unable to generate class balanced samples.\n",
      "N foreground 13138, N  background 0,unable to generate class balanced samples.\n",
      "N foreground 14317, N  background 0,unable to generate class balanced samples.\n"
     ]
    },
    {
     "name": "stdout",
     "output_type": "stream",
     "text": [
      "1/13, train_loss: 0.3179\n",
      "2/13, train_loss: 0.3616\n",
      "3/13, train_loss: 0.3034\n",
      "4/13, train_loss: 0.3460\n",
      "5/13, train_loss: 0.3370\n",
      "6/13, train_loss: 0.3712\n",
      "7/13, train_loss: 0.2950\n",
      "8/13, train_loss: 0.2946\n",
      "9/13, train_loss: 0.3493\n",
      "10/13, train_loss: 0.3153\n",
      "11/13, train_loss: 0.3534\n",
      "12/13, train_loss: 0.3764\n",
      "13/13, train_loss: 0.3130\n",
      "epoch 15 average loss: 0.3334\n"
     ]
    },
    {
     "name": "stderr",
     "output_type": "stream",
     "text": [
      "N foreground 14351, N  background 0,unable to generate class balanced samples.\n",
      "N foreground 13080, N  background 0,unable to generate class balanced samples.\n",
      "N foreground 13981, N  background 0,unable to generate class balanced samples.\n",
      "N foreground 18264, N  background 0,unable to generate class balanced samples.\n",
      "N foreground 16021, N  background 0,unable to generate class balanced samples.\n",
      "N foreground 14149, N  background 0,unable to generate class balanced samples.\n",
      "N foreground 10539, N  background 0,unable to generate class balanced samples.\n",
      "N foreground 14458, N  background 0,unable to generate class balanced samples.\n",
      "N foreground 14199, N  background 0,unable to generate class balanced samples.\n"
     ]
    },
    {
     "name": "stdout",
     "output_type": "stream",
     "text": [
      "current epoch: 15 current mean dice: 0.6983\n",
      "best mean dice: 0.7146at epoch: 13\n",
      "----------\n",
      "epoch 16/150\n"
     ]
    },
    {
     "name": "stderr",
     "output_type": "stream",
     "text": [
      "N foreground 16388, N  background 0,unable to generate class balanced samples.\n",
      "N foreground 17097, N  background 0,unable to generate class balanced samples.\n",
      "N foreground 8935, N  background 0,unable to generate class balanced samples.\n",
      "N foreground 13138, N  background 0,unable to generate class balanced samples.\n",
      "N foreground 10474, N  background 0,unable to generate class balanced samples.\n",
      "N foreground 15184, N  background 0,unable to generate class balanced samples.\n",
      "N foreground 13809, N  background 0,unable to generate class balanced samples.\n",
      "N foreground 10533, N  background 0,unable to generate class balanced samples.\n",
      "N foreground 14809, N  background 0,unable to generate class balanced samples.\n",
      "N foreground 17716, N  background 0,unable to generate class balanced samples.\n",
      "N foreground 14317, N  background 0,unable to generate class balanced samples.\n",
      "N foreground 19210, N  background 0,unable to generate class balanced samples.\n",
      "N foreground 14262, N  background 0,unable to generate class balanced samples.\n",
      "N foreground 12122, N  background 0,unable to generate class balanced samples.\n",
      "N foreground 13958, N  background 0,unable to generate class balanced samples.\n",
      "N foreground 10992, N  background 0,unable to generate class balanced samples.\n",
      "N foreground 16450, N  background 0,unable to generate class balanced samples.\n",
      "N foreground 16438, N  background 0,unable to generate class balanced samples.\n",
      "N foreground 13064, N  background 0,unable to generate class balanced samples.\n",
      "N foreground 16115, N  background 0,unable to generate class balanced samples.\n",
      "N foreground 16682, N  background 0,unable to generate class balanced samples.\n",
      "N foreground 15838, N  background 0,unable to generate class balanced samples.\n",
      "N foreground 15909, N  background 0,unable to generate class balanced samples.\n",
      "N foreground 14230, N  background 0,unable to generate class balanced samples.\n",
      "N foreground 15619, N  background 0,unable to generate class balanced samples.\n",
      "N foreground 22593, N  background 0,unable to generate class balanced samples.\n"
     ]
    },
    {
     "name": "stdout",
     "output_type": "stream",
     "text": [
      "1/13, train_loss: 0.3278\n",
      "2/13, train_loss: 0.3268\n",
      "3/13, train_loss: 0.2909\n",
      "4/13, train_loss: 0.3162\n",
      "5/13, train_loss: 0.3074\n",
      "6/13, train_loss: 0.3329\n",
      "7/13, train_loss: 0.3322\n",
      "8/13, train_loss: 0.3384\n",
      "9/13, train_loss: 0.3166\n",
      "10/13, train_loss: 0.3104\n",
      "11/13, train_loss: 0.2728\n",
      "12/13, train_loss: 0.3263\n",
      "13/13, train_loss: 0.3452\n",
      "epoch 16 average loss: 0.3188\n"
     ]
    },
    {
     "name": "stderr",
     "output_type": "stream",
     "text": [
      "N foreground 14149, N  background 0,unable to generate class balanced samples.\n",
      "N foreground 18264, N  background 0,unable to generate class balanced samples.\n",
      "N foreground 14351, N  background 0,unable to generate class balanced samples.\n",
      "N foreground 13981, N  background 0,unable to generate class balanced samples.\n",
      "N foreground 16021, N  background 0,unable to generate class balanced samples.\n",
      "N foreground 13080, N  background 0,unable to generate class balanced samples.\n",
      "N foreground 10539, N  background 0,unable to generate class balanced samples.\n",
      "N foreground 14458, N  background 0,unable to generate class balanced samples.\n",
      "N foreground 14199, N  background 0,unable to generate class balanced samples.\n"
     ]
    },
    {
     "name": "stdout",
     "output_type": "stream",
     "text": [
      "saved new best metric model\n",
      "current epoch: 16 current mean dice: 0.7271\n",
      "best mean dice: 0.7271at epoch: 16\n",
      "----------\n",
      "epoch 17/150\n"
     ]
    },
    {
     "name": "stderr",
     "output_type": "stream",
     "text": [
      "N foreground 13138, N  background 0,unable to generate class balanced samples.\n",
      "N foreground 13064, N  background 0,unable to generate class balanced samples.\n",
      "N foreground 14230, N  background 0,unable to generate class balanced samples.\n",
      "N foreground 12122, N  background 0,unable to generate class balanced samples.\n",
      "N foreground 13958, N  background 0,unable to generate class balanced samples.\n",
      "N foreground 10474, N  background 0,unable to generate class balanced samples.\n",
      "N foreground 15619, N  background 0,unable to generate class balanced samples.\n",
      "N foreground 17716, N  background 0,unable to generate class balanced samples.\n",
      "N foreground 15909, N  background 0,unable to generate class balanced samples.\n",
      "N foreground 13809, N  background 0,unable to generate class balanced samples.\n",
      "N foreground 15838, N  background 0,unable to generate class balanced samples.\n",
      "N foreground 14262, N  background 0,unable to generate class balanced samples.\n",
      "N foreground 16388, N  background 0,unable to generate class balanced samples.\n",
      "N foreground 17097, N  background 0,unable to generate class balanced samples.\n",
      "N foreground 16682, N  background 0,unable to generate class balanced samples.\n",
      "N foreground 16438, N  background 0,unable to generate class balanced samples.\n",
      "N foreground 8935, N  background 0,unable to generate class balanced samples.\n",
      "N foreground 16115, N  background 0,unable to generate class balanced samples.\n",
      "N foreground 19210, N  background 0,unable to generate class balanced samples.\n",
      "N foreground 22593, N  background 0,unable to generate class balanced samples.\n",
      "N foreground 14809, N  background 0,unable to generate class balanced samples.\n",
      "N foreground 15184, N  background 0,unable to generate class balanced samples.\n",
      "N foreground 14317, N  background 0,unable to generate class balanced samples.\n",
      "N foreground 10533, N  background 0,unable to generate class balanced samples.\n",
      "N foreground 10992, N  background 0,unable to generate class balanced samples.\n",
      "N foreground 16450, N  background 0,unable to generate class balanced samples.\n"
     ]
    },
    {
     "name": "stdout",
     "output_type": "stream",
     "text": [
      "1/13, train_loss: 0.2912\n",
      "2/13, train_loss: 0.3267\n",
      "3/13, train_loss: 0.2987\n",
      "4/13, train_loss: 0.2960\n",
      "5/13, train_loss: 0.2959\n",
      "6/13, train_loss: 0.3046\n",
      "7/13, train_loss: 0.3085\n",
      "8/13, train_loss: 0.2633\n",
      "9/13, train_loss: 0.3051\n",
      "10/13, train_loss: 0.3225\n",
      "11/13, train_loss: 0.3064\n",
      "12/13, train_loss: 0.3175\n",
      "13/13, train_loss: 0.3335\n",
      "epoch 17 average loss: 0.3054\n"
     ]
    },
    {
     "name": "stderr",
     "output_type": "stream",
     "text": [
      "N foreground 14149, N  background 0,unable to generate class balanced samples.\n",
      "N foreground 10539, N  background 0,unable to generate class balanced samples.\n",
      "N foreground 18264, N  background 0,unable to generate class balanced samples.\n",
      "N foreground 16021, N  background 0,unable to generate class balanced samples.\n",
      "N foreground 14351, N  background 0,unable to generate class balanced samples.\n",
      "N foreground 13080, N  background 0,unable to generate class balanced samples.\n",
      "N foreground 13981, N  background 0,unable to generate class balanced samples.\n",
      "N foreground 14458, N  background 0,unable to generate class balanced samples.\n",
      "N foreground 14199, N  background 0,unable to generate class balanced samples.\n"
     ]
    },
    {
     "name": "stdout",
     "output_type": "stream",
     "text": [
      "current epoch: 17 current mean dice: 0.7112\n",
      "best mean dice: 0.7271at epoch: 16\n",
      "----------\n",
      "epoch 18/150\n"
     ]
    },
    {
     "name": "stderr",
     "output_type": "stream",
     "text": [
      "N foreground 16388, N  background 0,unable to generate class balanced samples.\n",
      "N foreground 17716, N  background 0,unable to generate class balanced samples.\n",
      "N foreground 14230, N  background 0,unable to generate class balanced samples.\n",
      "N foreground 14262, N  background 0,unable to generate class balanced samples.\n",
      "N foreground 8935, N  background 0,unable to generate class balanced samples.\n",
      "N foreground 16450, N  background 0,unable to generate class balanced samples.\n",
      "N foreground 12122, N  background 0,unable to generate class balanced samples.\n",
      "N foreground 15838, N  background 0,unable to generate class balanced samples.\n",
      "N foreground 22593, N  background 0,unable to generate class balanced samples.\n",
      "N foreground 14317, N  background 0,unable to generate class balanced samples.\n",
      "N foreground 13138, N  background 0,unable to generate class balanced samples.\n",
      "N foreground 16115, N  background 0,unable to generate class balanced samples.\n",
      "N foreground 16682, N  background 0,unable to generate class balanced samples.\n",
      "N foreground 19210, N  background 0,unable to generate class balanced samples.\n",
      "N foreground 15184, N  background 0,unable to generate class balanced samples.\n",
      "N foreground 13064, N  background 0,unable to generate class balanced samples.\n",
      "N foreground 16438, N  background 0,unable to generate class balanced samples.\n",
      "N foreground 17097, N  background 0,unable to generate class balanced samples.\n",
      "N foreground 10992, N  background 0,unable to generate class balanced samples.\n",
      "N foreground 13958, N  background 0,unable to generate class balanced samples.\n",
      "N foreground 10474, N  background 0,unable to generate class balanced samples.\n",
      "N foreground 15619, N  background 0,unable to generate class balanced samples.\n",
      "N foreground 13809, N  background 0,unable to generate class balanced samples.\n",
      "N foreground 15909, N  background 0,unable to generate class balanced samples.\n",
      "N foreground 10533, N  background 0,unable to generate class balanced samples.\n",
      "N foreground 14809, N  background 0,unable to generate class balanced samples.\n"
     ]
    },
    {
     "name": "stdout",
     "output_type": "stream",
     "text": [
      "1/13, train_loss: 0.2809\n",
      "2/13, train_loss: 0.2892\n",
      "3/13, train_loss: 0.3022\n",
      "4/13, train_loss: 0.2805\n",
      "5/13, train_loss: 0.2897\n",
      "6/13, train_loss: 0.2751\n",
      "7/13, train_loss: 0.3166\n",
      "8/13, train_loss: 0.3099\n",
      "9/13, train_loss: 0.2901\n",
      "10/13, train_loss: 0.2751\n",
      "11/13, train_loss: 0.3253\n",
      "12/13, train_loss: 0.3064\n",
      "13/13, train_loss: 0.3263\n",
      "epoch 18 average loss: 0.2975\n"
     ]
    },
    {
     "name": "stderr",
     "output_type": "stream",
     "text": [
      "N foreground 14351, N  background 0,unable to generate class balanced samples.\n",
      "N foreground 13981, N  background 0,unable to generate class balanced samples.\n",
      "N foreground 14149, N  background 0,unable to generate class balanced samples.\n",
      "N foreground 13080, N  background 0,unable to generate class balanced samples.\n",
      "N foreground 10539, N  background 0,unable to generate class balanced samples.\n",
      "N foreground 16021, N  background 0,unable to generate class balanced samples.\n",
      "N foreground 18264, N  background 0,unable to generate class balanced samples.\n",
      "N foreground 14458, N  background 0,unable to generate class balanced samples.\n",
      "N foreground 14199, N  background 0,unable to generate class balanced samples.\n"
     ]
    },
    {
     "name": "stdout",
     "output_type": "stream",
     "text": [
      "saved new best metric model\n",
      "current epoch: 18 current mean dice: 0.7404\n",
      "best mean dice: 0.7404at epoch: 18\n",
      "----------\n",
      "epoch 19/150\n"
     ]
    },
    {
     "name": "stderr",
     "output_type": "stream",
     "text": [
      "N foreground 14809, N  background 0,unable to generate class balanced samples.\n",
      "N foreground 16388, N  background 0,unable to generate class balanced samples.\n",
      "N foreground 16450, N  background 0,unable to generate class balanced samples.\n",
      "N foreground 15184, N  background 0,unable to generate class balanced samples.\n",
      "N foreground 10533, N  background 0,unable to generate class balanced samples.\n",
      "N foreground 16682, N  background 0,unable to generate class balanced samples.\n",
      "N foreground 13958, N  background 0,unable to generate class balanced samples.\n",
      "N foreground 8935, N  background 0,unable to generate class balanced samples.\n",
      "N foreground 14230, N  background 0,unable to generate class balanced samples.\n",
      "N foreground 17097, N  background 0,unable to generate class balanced samples.\n",
      "N foreground 13809, N  background 0,unable to generate class balanced samples.\n",
      "N foreground 12122, N  background 0,unable to generate class balanced samples.\n",
      "N foreground 15619, N  background 0,unable to generate class balanced samples.\n",
      "N foreground 15838, N  background 0,unable to generate class balanced samples.\n",
      "N foreground 14317, N  background 0,unable to generate class balanced samples.\n",
      "N foreground 22593, N  background 0,unable to generate class balanced samples.\n",
      "N foreground 16438, N  background 0,unable to generate class balanced samples.\n",
      "N foreground 13064, N  background 0,unable to generate class balanced samples.\n",
      "N foreground 19210, N  background 0,unable to generate class balanced samples.\n",
      "N foreground 10992, N  background 0,unable to generate class balanced samples.\n",
      "N foreground 16115, N  background 0,unable to generate class balanced samples.\n",
      "N foreground 13138, N  background 0,unable to generate class balanced samples.\n",
      "N foreground 15909, N  background 0,unable to generate class balanced samples.\n",
      "N foreground 10474, N  background 0,unable to generate class balanced samples.\n",
      "N foreground 17716, N  background 0,unable to generate class balanced samples.\n",
      "N foreground 14262, N  background 0,unable to generate class balanced samples.\n"
     ]
    },
    {
     "name": "stdout",
     "output_type": "stream",
     "text": [
      "1/13, train_loss: 0.2787\n",
      "2/13, train_loss: 0.2865\n",
      "3/13, train_loss: 0.2829\n",
      "4/13, train_loss: 0.2766\n",
      "5/13, train_loss: 0.3157\n",
      "6/13, train_loss: 0.3201\n",
      "7/13, train_loss: 0.2809\n",
      "8/13, train_loss: 0.3369\n",
      "9/13, train_loss: 0.2509\n",
      "10/13, train_loss: 0.3002\n",
      "11/13, train_loss: 0.2993\n",
      "12/13, train_loss: 0.2956\n",
      "13/13, train_loss: 0.2693\n",
      "epoch 19 average loss: 0.2918\n"
     ]
    },
    {
     "name": "stderr",
     "output_type": "stream",
     "text": [
      "N foreground 14149, N  background 0,unable to generate class balanced samples.\n",
      "N foreground 13080, N  background 0,unable to generate class balanced samples.\n",
      "N foreground 14351, N  background 0,unable to generate class balanced samples.\n",
      "N foreground 18264, N  background 0,unable to generate class balanced samples.\n",
      "N foreground 10539, N  background 0,unable to generate class balanced samples.\n",
      "N foreground 13981, N  background 0,unable to generate class balanced samples.\n",
      "N foreground 16021, N  background 0,unable to generate class balanced samples.\n",
      "N foreground 14458, N  background 0,unable to generate class balanced samples.\n",
      "N foreground 14199, N  background 0,unable to generate class balanced samples.\n"
     ]
    },
    {
     "name": "stdout",
     "output_type": "stream",
     "text": [
      "current epoch: 19 current mean dice: 0.7310\n",
      "best mean dice: 0.7404at epoch: 18\n",
      "----------\n",
      "epoch 20/150\n"
     ]
    },
    {
     "name": "stderr",
     "output_type": "stream",
     "text": [
      "N foreground 16388, N  background 0,unable to generate class balanced samples.\n",
      "N foreground 13809, N  background 0,unable to generate class balanced samples.\n",
      "N foreground 8935, N  background 0,unable to generate class balanced samples.\n",
      "N foreground 16438, N  background 0,unable to generate class balanced samples.\n",
      "N foreground 17716, N  background 0,unable to generate class balanced samples.\n",
      "N foreground 19210, N  background 0,unable to generate class balanced samples.\n",
      "N foreground 10533, N  background 0,unable to generate class balanced samples.\n",
      "N foreground 16115, N  background 0,unable to generate class balanced samples.\n",
      "N foreground 16682, N  background 0,unable to generate class balanced samples.\n",
      "N foreground 13064, N  background 0,unable to generate class balanced samples.\n",
      "N foreground 13958, N  background 0,unable to generate class balanced samples.\n",
      "N foreground 13138, N  background 0,unable to generate class balanced samples.\n",
      "N foreground 14809, N  background 0,unable to generate class balanced samples.\n",
      "N foreground 17097, N  background 0,unable to generate class balanced samples.\n",
      "N foreground 15909, N  background 0,unable to generate class balanced samples.\n",
      "N foreground 14262, N  background 0,unable to generate class balanced samples.\n",
      "N foreground 22593, N  background 0,unable to generate class balanced samples.\n",
      "N foreground 15619, N  background 0,unable to generate class balanced samples.\n",
      "N foreground 16450, N  background 0,unable to generate class balanced samples.\n",
      "N foreground 15184, N  background 0,unable to generate class balanced samples.\n",
      "N foreground 14317, N  background 0,unable to generate class balanced samples.\n",
      "N foreground 10992, N  background 0,unable to generate class balanced samples.\n",
      "N foreground 10474, N  background 0,unable to generate class balanced samples.\n",
      "N foreground 14230, N  background 0,unable to generate class balanced samples.\n",
      "N foreground 12122, N  background 0,unable to generate class balanced samples.\n",
      "N foreground 15838, N  background 0,unable to generate class balanced samples.\n"
     ]
    },
    {
     "name": "stdout",
     "output_type": "stream",
     "text": [
      "1/13, train_loss: 0.3396\n",
      "2/13, train_loss: 0.2935\n",
      "3/13, train_loss: 0.2761\n",
      "4/13, train_loss: 0.2689\n",
      "5/13, train_loss: 0.2933\n",
      "6/13, train_loss: 0.2606\n",
      "7/13, train_loss: 0.2849\n",
      "8/13, train_loss: 0.2638\n",
      "9/13, train_loss: 0.2768\n",
      "10/13, train_loss: 0.2636\n",
      "11/13, train_loss: 0.2856\n",
      "12/13, train_loss: 0.2797\n",
      "13/13, train_loss: 0.3028\n",
      "epoch 20 average loss: 0.2838\n"
     ]
    },
    {
     "name": "stderr",
     "output_type": "stream",
     "text": [
      "N foreground 14149, N  background 0,unable to generate class balanced samples.\n",
      "N foreground 18264, N  background 0,unable to generate class balanced samples.\n",
      "N foreground 13080, N  background 0,unable to generate class balanced samples.\n",
      "N foreground 13981, N  background 0,unable to generate class balanced samples.\n",
      "N foreground 10539, N  background 0,unable to generate class balanced samples.\n",
      "N foreground 16021, N  background 0,unable to generate class balanced samples.\n",
      "N foreground 14351, N  background 0,unable to generate class balanced samples.\n",
      "N foreground 14458, N  background 0,unable to generate class balanced samples.\n",
      "N foreground 14199, N  background 0,unable to generate class balanced samples.\n"
     ]
    },
    {
     "name": "stdout",
     "output_type": "stream",
     "text": [
      "saved new best metric model\n",
      "current epoch: 20 current mean dice: 0.7528\n",
      "best mean dice: 0.7528at epoch: 20\n",
      "----------\n",
      "epoch 21/150\n"
     ]
    },
    {
     "name": "stderr",
     "output_type": "stream",
     "text": [
      "N foreground 13064, N  background 0,unable to generate class balanced samples.\n",
      "N foreground 16450, N  background 0,unable to generate class balanced samples.\n",
      "N foreground 17716, N  background 0,unable to generate class balanced samples.\n",
      "N foreground 14317, N  background 0,unable to generate class balanced samples.\n",
      "N foreground 14809, N  background 0,unable to generate class balanced samples.\n",
      "N foreground 10474, N  background 0,unable to generate class balanced samples.\n",
      "N foreground 16388, N  background 0,unable to generate class balanced samples.\n",
      "N foreground 14230, N  background 0,unable to generate class balanced samples.\n",
      "N foreground 13809, N  background 0,unable to generate class balanced samples.\n",
      "N foreground 15184, N  background 0,unable to generate class balanced samples.\n",
      "N foreground 15909, N  background 0,unable to generate class balanced samples.\n",
      "N foreground 12122, N  background 0,unable to generate class balanced samples.\n",
      "N foreground 13138, N  background 0,unable to generate class balanced samples.\n",
      "N foreground 15838, N  background 0,unable to generate class balanced samples.\n",
      "N foreground 15619, N  background 0,unable to generate class balanced samples.\n",
      "N foreground 16115, N  background 0,unable to generate class balanced samples.\n",
      "N foreground 16438, N  background 0,unable to generate class balanced samples.\n",
      "N foreground 17097, N  background 0,unable to generate class balanced samples.\n",
      "N foreground 13958, N  background 0,unable to generate class balanced samples.\n",
      "N foreground 19210, N  background 0,unable to generate class balanced samples.\n",
      "N foreground 14262, N  background 0,unable to generate class balanced samples.\n",
      "N foreground 10992, N  background 0,unable to generate class balanced samples.\n",
      "N foreground 8935, N  background 0,unable to generate class balanced samples.\n",
      "N foreground 10533, N  background 0,unable to generate class balanced samples.\n",
      "N foreground 22593, N  background 0,unable to generate class balanced samples.\n",
      "N foreground 16682, N  background 0,unable to generate class balanced samples.\n"
     ]
    },
    {
     "name": "stdout",
     "output_type": "stream",
     "text": [
      "1/13, train_loss: 0.2566\n",
      "2/13, train_loss: 0.2986\n",
      "3/13, train_loss: 0.2390\n",
      "4/13, train_loss: 0.2926\n",
      "5/13, train_loss: 0.3032\n",
      "6/13, train_loss: 0.2815\n",
      "7/13, train_loss: 0.2605\n",
      "8/13, train_loss: 0.2644\n",
      "9/13, train_loss: 0.2774\n",
      "10/13, train_loss: 0.2664\n",
      "11/13, train_loss: 0.2469\n",
      "12/13, train_loss: 0.2752\n",
      "13/13, train_loss: 0.3026\n",
      "epoch 21 average loss: 0.2742\n"
     ]
    },
    {
     "name": "stderr",
     "output_type": "stream",
     "text": [
      "N foreground 14149, N  background 0,unable to generate class balanced samples.\n",
      "N foreground 10539, N  background 0,unable to generate class balanced samples.\n",
      "N foreground 13981, N  background 0,unable to generate class balanced samples.\n",
      "N foreground 14351, N  background 0,unable to generate class balanced samples.\n",
      "N foreground 18264, N  background 0,unable to generate class balanced samples.\n",
      "N foreground 13080, N  background 0,unable to generate class balanced samples.\n",
      "N foreground 16021, N  background 0,unable to generate class balanced samples.\n",
      "N foreground 14458, N  background 0,unable to generate class balanced samples.\n",
      "N foreground 14199, N  background 0,unable to generate class balanced samples.\n"
     ]
    },
    {
     "name": "stdout",
     "output_type": "stream",
     "text": [
      "current epoch: 21 current mean dice: 0.7515\n",
      "best mean dice: 0.7528at epoch: 20\n",
      "----------\n",
      "epoch 22/150\n"
     ]
    },
    {
     "name": "stderr",
     "output_type": "stream",
     "text": [
      "N foreground 16682, N  background 0,unable to generate class balanced samples.\n",
      "N foreground 13138, N  background 0,unable to generate class balanced samples.\n",
      "N foreground 15184, N  background 0,unable to generate class balanced samples.\n",
      "N foreground 8935, N  background 0,unable to generate class balanced samples.\n",
      "N foreground 15909, N  background 0,unable to generate class balanced samples.\n",
      "N foreground 13958, N  background 0,unable to generate class balanced samples.\n",
      "N foreground 16388, N  background 0,unable to generate class balanced samples.\n",
      "N foreground 10474, N  background 0,unable to generate class balanced samples.\n",
      "N foreground 17097, N  background 0,unable to generate class balanced samples.\n",
      "N foreground 19210, N  background 0,unable to generate class balanced samples.\n",
      "N foreground 16115, N  background 0,unable to generate class balanced samples.\n",
      "N foreground 13809, N  background 0,unable to generate class balanced samples.\n",
      "N foreground 14809, N  background 0,unable to generate class balanced samples.\n",
      "N foreground 17716, N  background 0,unable to generate class balanced samples.\n",
      "N foreground 16438, N  background 0,unable to generate class balanced samples.\n",
      "N foreground 16450, N  background 0,unable to generate class balanced samples.\n",
      "N foreground 12122, N  background 0,unable to generate class balanced samples.\n",
      "N foreground 13064, N  background 0,unable to generate class balanced samples.\n",
      "N foreground 15838, N  background 0,unable to generate class balanced samples.\n",
      "N foreground 14317, N  background 0,unable to generate class balanced samples.\n",
      "N foreground 10533, N  background 0,unable to generate class balanced samples.\n",
      "N foreground 14262, N  background 0,unable to generate class balanced samples.\n",
      "N foreground 22593, N  background 0,unable to generate class balanced samples.\n",
      "N foreground 10992, N  background 0,unable to generate class balanced samples.\n",
      "N foreground 15619, N  background 0,unable to generate class balanced samples.\n",
      "N foreground 14230, N  background 0,unable to generate class balanced samples.\n"
     ]
    },
    {
     "name": "stdout",
     "output_type": "stream",
     "text": [
      "1/13, train_loss: 0.2836\n",
      "2/13, train_loss: 0.2494\n",
      "3/13, train_loss: 0.2604\n",
      "4/13, train_loss: 0.2630\n",
      "5/13, train_loss: 0.2942\n",
      "6/13, train_loss: 0.2608\n",
      "7/13, train_loss: 0.2893\n",
      "8/13, train_loss: 0.2684\n",
      "9/13, train_loss: 0.2823\n",
      "10/13, train_loss: 0.2738\n",
      "11/13, train_loss: 0.2474\n",
      "12/13, train_loss: 0.2825\n",
      "13/13, train_loss: 0.2698\n",
      "epoch 22 average loss: 0.2712\n"
     ]
    },
    {
     "name": "stderr",
     "output_type": "stream",
     "text": [
      "N foreground 13080, N  background 0,unable to generate class balanced samples.\n",
      "N foreground 13981, N  background 0,unable to generate class balanced samples.\n",
      "N foreground 14351, N  background 0,unable to generate class balanced samples.\n",
      "N foreground 18264, N  background 0,unable to generate class balanced samples.\n",
      "N foreground 14149, N  background 0,unable to generate class balanced samples.\n",
      "N foreground 16021, N  background 0,unable to generate class balanced samples.\n",
      "N foreground 10539, N  background 0,unable to generate class balanced samples.\n",
      "N foreground 14458, N  background 0,unable to generate class balanced samples.\n",
      "N foreground 14199, N  background 0,unable to generate class balanced samples.\n"
     ]
    },
    {
     "name": "stdout",
     "output_type": "stream",
     "text": [
      "current epoch: 22 current mean dice: 0.7519\n",
      "best mean dice: 0.7528at epoch: 20\n",
      "----------\n",
      "epoch 23/150\n"
     ]
    },
    {
     "name": "stderr",
     "output_type": "stream",
     "text": [
      "N foreground 16438, N  background 0,unable to generate class balanced samples.\n",
      "N foreground 14230, N  background 0,unable to generate class balanced samples.\n",
      "N foreground 14262, N  background 0,unable to generate class balanced samples.\n",
      "N foreground 10992, N  background 0,unable to generate class balanced samples.\n",
      "N foreground 16682, N  background 0,unable to generate class balanced samples.\n",
      "N foreground 14317, N  background 0,unable to generate class balanced samples.\n",
      "N foreground 10474, N  background 0,unable to generate class balanced samples.\n",
      "N foreground 15838, N  background 0,unable to generate class balanced samples.\n",
      "N foreground 16115, N  background 0,unable to generate class balanced samples.\n",
      "N foreground 17716, N  background 0,unable to generate class balanced samples.\n",
      "N foreground 16450, N  background 0,unable to generate class balanced samples.\n",
      "N foreground 17097, N  background 0,unable to generate class balanced samples.\n",
      "N foreground 15909, N  background 0,unable to generate class balanced samples.\n",
      "N foreground 14809, N  background 0,unable to generate class balanced samples.\n",
      "N foreground 13138, N  background 0,unable to generate class balanced samples.\n",
      "N foreground 19210, N  background 0,unable to generate class balanced samples.\n",
      "N foreground 13809, N  background 0,unable to generate class balanced samples.\n",
      "N foreground 22593, N  background 0,unable to generate class balanced samples.\n",
      "N foreground 13958, N  background 0,unable to generate class balanced samples.\n",
      "N foreground 8935, N  background 0,unable to generate class balanced samples.\n",
      "N foreground 13064, N  background 0,unable to generate class balanced samples.\n",
      "N foreground 10533, N  background 0,unable to generate class balanced samples.\n",
      "N foreground 15619, N  background 0,unable to generate class balanced samples.\n",
      "N foreground 15184, N  background 0,unable to generate class balanced samples.\n",
      "N foreground 16388, N  background 0,unable to generate class balanced samples.\n",
      "N foreground 12122, N  background 0,unable to generate class balanced samples.\n"
     ]
    },
    {
     "name": "stdout",
     "output_type": "stream",
     "text": [
      "1/13, train_loss: 0.2199\n",
      "2/13, train_loss: 0.2614\n",
      "3/13, train_loss: 0.2703\n",
      "4/13, train_loss: 0.2630\n",
      "5/13, train_loss: 0.2857\n",
      "6/13, train_loss: 0.3027\n",
      "7/13, train_loss: 0.2799\n",
      "8/13, train_loss: 0.2865\n",
      "9/13, train_loss: 0.2698\n",
      "10/13, train_loss: 0.2743\n",
      "11/13, train_loss: 0.2477\n",
      "12/13, train_loss: 0.2677\n",
      "13/13, train_loss: 0.2697\n",
      "epoch 23 average loss: 0.2691\n"
     ]
    },
    {
     "name": "stderr",
     "output_type": "stream",
     "text": [
      "N foreground 18264, N  background 0,unable to generate class balanced samples.\n",
      "N foreground 13981, N  background 0,unable to generate class balanced samples.\n",
      "N foreground 13080, N  background 0,unable to generate class balanced samples.\n",
      "N foreground 14149, N  background 0,unable to generate class balanced samples.\n",
      "N foreground 14351, N  background 0,unable to generate class balanced samples.\n",
      "N foreground 10539, N  background 0,unable to generate class balanced samples.\n",
      "N foreground 16021, N  background 0,unable to generate class balanced samples.\n",
      "N foreground 14458, N  background 0,unable to generate class balanced samples.\n",
      "N foreground 14199, N  background 0,unable to generate class balanced samples.\n"
     ]
    },
    {
     "name": "stdout",
     "output_type": "stream",
     "text": [
      "saved new best metric model\n",
      "current epoch: 23 current mean dice: 0.7614\n",
      "best mean dice: 0.7614at epoch: 23\n",
      "----------\n",
      "epoch 24/150\n"
     ]
    },
    {
     "name": "stderr",
     "output_type": "stream",
     "text": [
      "N foreground 16450, N  background 0,unable to generate class balanced samples.\n",
      "N foreground 10474, N  background 0,unable to generate class balanced samples.\n",
      "N foreground 15619, N  background 0,unable to generate class balanced samples.\n",
      "N foreground 17097, N  background 0,unable to generate class balanced samples.\n",
      "N foreground 17716, N  background 0,unable to generate class balanced samples.\n",
      "N foreground 16682, N  background 0,unable to generate class balanced samples.\n",
      "N foreground 16438, N  background 0,unable to generate class balanced samples.\n",
      "N foreground 15184, N  background 0,unable to generate class balanced samples.\n",
      "N foreground 13064, N  background 0,unable to generate class balanced samples.\n",
      "N foreground 22593, N  background 0,unable to generate class balanced samples.\n",
      "N foreground 16388, N  background 0,unable to generate class balanced samples.\n",
      "N foreground 10992, N  background 0,unable to generate class balanced samples.\n",
      "N foreground 10533, N  background 0,unable to generate class balanced samples.\n",
      "N foreground 13138, N  background 0,unable to generate class balanced samples.\n",
      "N foreground 13958, N  background 0,unable to generate class balanced samples.\n",
      "N foreground 13809, N  background 0,unable to generate class balanced samples.\n",
      "N foreground 12122, N  background 0,unable to generate class balanced samples.\n",
      "N foreground 14809, N  background 0,unable to generate class balanced samples.\n",
      "N foreground 14317, N  background 0,unable to generate class balanced samples.\n",
      "N foreground 14230, N  background 0,unable to generate class balanced samples.\n",
      "N foreground 15909, N  background 0,unable to generate class balanced samples.\n",
      "N foreground 19210, N  background 0,unable to generate class balanced samples.\n",
      "N foreground 15838, N  background 0,unable to generate class balanced samples.\n",
      "N foreground 8935, N  background 0,unable to generate class balanced samples.\n",
      "N foreground 14262, N  background 0,unable to generate class balanced samples.\n",
      "N foreground 16115, N  background 0,unable to generate class balanced samples.\n"
     ]
    },
    {
     "name": "stdout",
     "output_type": "stream",
     "text": [
      "1/13, train_loss: 0.2863\n",
      "2/13, train_loss: 0.2424\n",
      "3/13, train_loss: 0.2622\n",
      "4/13, train_loss: 0.2639\n",
      "5/13, train_loss: 0.2652\n",
      "6/13, train_loss: 0.2586\n",
      "7/13, train_loss: 0.2533\n",
      "8/13, train_loss: 0.2565\n",
      "9/13, train_loss: 0.2740\n",
      "10/13, train_loss: 0.2932\n",
      "11/13, train_loss: 0.2398\n",
      "12/13, train_loss: 0.2585\n",
      "13/13, train_loss: 0.3138\n",
      "epoch 24 average loss: 0.2668\n"
     ]
    },
    {
     "name": "stderr",
     "output_type": "stream",
     "text": [
      "N foreground 10539, N  background 0,unable to generate class balanced samples.\n",
      "N foreground 13981, N  background 0,unable to generate class balanced samples.\n",
      "N foreground 14351, N  background 0,unable to generate class balanced samples.\n",
      "N foreground 14149, N  background 0,unable to generate class balanced samples.\n",
      "N foreground 13080, N  background 0,unable to generate class balanced samples.\n",
      "N foreground 18264, N  background 0,unable to generate class balanced samples.\n",
      "N foreground 16021, N  background 0,unable to generate class balanced samples.\n",
      "N foreground 14458, N  background 0,unable to generate class balanced samples.\n",
      "N foreground 14199, N  background 0,unable to generate class balanced samples.\n"
     ]
    },
    {
     "name": "stdout",
     "output_type": "stream",
     "text": [
      "current epoch: 24 current mean dice: 0.7560\n",
      "best mean dice: 0.7614at epoch: 23\n",
      "----------\n",
      "epoch 25/150\n"
     ]
    },
    {
     "name": "stderr",
     "output_type": "stream",
     "text": [
      "N foreground 19210, N  background 0,unable to generate class balanced samples.\n",
      "N foreground 12122, N  background 0,unable to generate class balanced samples.\n",
      "N foreground 10992, N  background 0,unable to generate class balanced samples.\n",
      "N foreground 8935, N  background 0,unable to generate class balanced samples.\n",
      "N foreground 14809, N  background 0,unable to generate class balanced samples.\n",
      "N foreground 15838, N  background 0,unable to generate class balanced samples.\n",
      "N foreground 13138, N  background 0,unable to generate class balanced samples.\n",
      "N foreground 16450, N  background 0,unable to generate class balanced samples.\n",
      "N foreground 16682, N  background 0,unable to generate class balanced samples.\n",
      "N foreground 17097, N  background 0,unable to generate class balanced samples.\n",
      "N foreground 13809, N  background 0,unable to generate class balanced samples.\n",
      "N foreground 15619, N  background 0,unable to generate class balanced samples.\n",
      "N foreground 10533, N  background 0,unable to generate class balanced samples.\n",
      "N foreground 14230, N  background 0,unable to generate class balanced samples.\n",
      "N foreground 13958, N  background 0,unable to generate class balanced samples.\n",
      "N foreground 10474, N  background 0,unable to generate class balanced samples.\n",
      "N foreground 13064, N  background 0,unable to generate class balanced samples.\n",
      "N foreground 14317, N  background 0,unable to generate class balanced samples.\n",
      "N foreground 17716, N  background 0,unable to generate class balanced samples.\n",
      "N foreground 16388, N  background 0,unable to generate class balanced samples.\n",
      "N foreground 22593, N  background 0,unable to generate class balanced samples.\n",
      "N foreground 14262, N  background 0,unable to generate class balanced samples.\n",
      "N foreground 15184, N  background 0,unable to generate class balanced samples.\n",
      "N foreground 16438, N  background 0,unable to generate class balanced samples.\n",
      "N foreground 15909, N  background 0,unable to generate class balanced samples.\n",
      "N foreground 16115, N  background 0,unable to generate class balanced samples.\n"
     ]
    },
    {
     "name": "stdout",
     "output_type": "stream",
     "text": [
      "1/13, train_loss: 0.2734\n",
      "2/13, train_loss: 0.2520\n",
      "3/13, train_loss: 0.2590\n",
      "4/13, train_loss: 0.2587\n",
      "5/13, train_loss: 0.2934\n",
      "6/13, train_loss: 0.2719\n",
      "7/13, train_loss: 0.2611\n",
      "8/13, train_loss: 0.2694\n",
      "9/13, train_loss: 0.2738\n",
      "10/13, train_loss: 0.2427\n",
      "11/13, train_loss: 0.2584\n",
      "12/13, train_loss: 0.2584\n",
      "13/13, train_loss: 0.2477\n",
      "epoch 25 average loss: 0.2631\n"
     ]
    },
    {
     "name": "stderr",
     "output_type": "stream",
     "text": [
      "N foreground 13981, N  background 0,unable to generate class balanced samples.\n",
      "N foreground 18264, N  background 0,unable to generate class balanced samples.\n",
      "N foreground 10539, N  background 0,unable to generate class balanced samples.\n",
      "N foreground 14149, N  background 0,unable to generate class balanced samples.\n",
      "N foreground 14351, N  background 0,unable to generate class balanced samples.\n",
      "N foreground 13080, N  background 0,unable to generate class balanced samples.\n",
      "N foreground 16021, N  background 0,unable to generate class balanced samples.\n",
      "N foreground 14458, N  background 0,unable to generate class balanced samples.\n",
      "N foreground 14199, N  background 0,unable to generate class balanced samples.\n"
     ]
    },
    {
     "name": "stdout",
     "output_type": "stream",
     "text": [
      "saved new best metric model\n",
      "current epoch: 25 current mean dice: 0.7619\n",
      "best mean dice: 0.7619at epoch: 25\n",
      "----------\n",
      "epoch 26/150\n"
     ]
    },
    {
     "name": "stderr",
     "output_type": "stream",
     "text": [
      "N foreground 22593, N  background 0,unable to generate class balanced samples.\n",
      "N foreground 13958, N  background 0,unable to generate class balanced samples.\n",
      "N foreground 16450, N  background 0,unable to generate class balanced samples.\n",
      "N foreground 10533, N  background 0,unable to generate class balanced samples.\n",
      "N foreground 15909, N  background 0,unable to generate class balanced samples.\n",
      "N foreground 14230, N  background 0,unable to generate class balanced samples.\n",
      "N foreground 15184, N  background 0,unable to generate class balanced samples.\n",
      "N foreground 16438, N  background 0,unable to generate class balanced samples.\n",
      "N foreground 14809, N  background 0,unable to generate class balanced samples.\n",
      "N foreground 16115, N  background 0,unable to generate class balanced samples.\n",
      "N foreground 17716, N  background 0,unable to generate class balanced samples.\n",
      "N foreground 10474, N  background 0,unable to generate class balanced samples.\n",
      "N foreground 8935, N  background 0,unable to generate class balanced samples.\n",
      "N foreground 13138, N  background 0,unable to generate class balanced samples.\n",
      "N foreground 17097, N  background 0,unable to generate class balanced samples.\n",
      "N foreground 14262, N  background 0,unable to generate class balanced samples.\n",
      "N foreground 13809, N  background 0,unable to generate class balanced samples.\n",
      "N foreground 16388, N  background 0,unable to generate class balanced samples.\n",
      "N foreground 19210, N  background 0,unable to generate class balanced samples.\n",
      "N foreground 10992, N  background 0,unable to generate class balanced samples.\n",
      "N foreground 15838, N  background 0,unable to generate class balanced samples.\n",
      "N foreground 13064, N  background 0,unable to generate class balanced samples.\n",
      "N foreground 15619, N  background 0,unable to generate class balanced samples.\n",
      "N foreground 16682, N  background 0,unable to generate class balanced samples.\n",
      "N foreground 14317, N  background 0,unable to generate class balanced samples.\n",
      "N foreground 12122, N  background 0,unable to generate class balanced samples.\n"
     ]
    },
    {
     "name": "stdout",
     "output_type": "stream",
     "text": [
      "1/13, train_loss: 0.2356\n",
      "2/13, train_loss: 0.2933\n",
      "3/13, train_loss: 0.2473\n",
      "4/13, train_loss: 0.2910\n",
      "5/13, train_loss: 0.2369\n",
      "6/13, train_loss: 0.2536\n",
      "7/13, train_loss: 0.2657\n",
      "8/13, train_loss: 0.2419\n",
      "9/13, train_loss: 0.2768\n",
      "10/13, train_loss: 0.2891\n",
      "11/13, train_loss: 0.2589\n",
      "12/13, train_loss: 0.2572\n",
      "13/13, train_loss: 0.2596\n",
      "epoch 26 average loss: 0.2621\n"
     ]
    },
    {
     "name": "stderr",
     "output_type": "stream",
     "text": [
      "N foreground 16021, N  background 0,unable to generate class balanced samples.\n",
      "N foreground 10539, N  background 0,unable to generate class balanced samples.\n",
      "N foreground 14149, N  background 0,unable to generate class balanced samples.\n",
      "N foreground 14351, N  background 0,unable to generate class balanced samples.\n",
      "N foreground 18264, N  background 0,unable to generate class balanced samples.\n",
      "N foreground 13981, N  background 0,unable to generate class balanced samples.\n",
      "N foreground 13080, N  background 0,unable to generate class balanced samples.\n",
      "N foreground 14458, N  background 0,unable to generate class balanced samples.\n",
      "N foreground 14199, N  background 0,unable to generate class balanced samples.\n"
     ]
    },
    {
     "name": "stdout",
     "output_type": "stream",
     "text": [
      "saved new best metric model\n",
      "current epoch: 26 current mean dice: 0.7670\n",
      "best mean dice: 0.7670at epoch: 26\n",
      "----------\n",
      "epoch 27/150\n"
     ]
    },
    {
     "name": "stderr",
     "output_type": "stream",
     "text": [
      "N foreground 16450, N  background 0,unable to generate class balanced samples.\n",
      "N foreground 14262, N  background 0,unable to generate class balanced samples.\n",
      "N foreground 22593, N  background 0,unable to generate class balanced samples.\n",
      "N foreground 14230, N  background 0,unable to generate class balanced samples.\n",
      "N foreground 16388, N  background 0,unable to generate class balanced samples.\n",
      "N foreground 13064, N  background 0,unable to generate class balanced samples.\n",
      "N foreground 16438, N  background 0,unable to generate class balanced samples.\n",
      "N foreground 12122, N  background 0,unable to generate class balanced samples.\n",
      "N foreground 19210, N  background 0,unable to generate class balanced samples.\n",
      "N foreground 17097, N  background 0,unable to generate class balanced samples.\n",
      "N foreground 16682, N  background 0,unable to generate class balanced samples.\n",
      "N foreground 14809, N  background 0,unable to generate class balanced samples.\n",
      "N foreground 8935, N  background 0,unable to generate class balanced samples.\n",
      "N foreground 10533, N  background 0,unable to generate class balanced samples.\n",
      "N foreground 15619, N  background 0,unable to generate class balanced samples.\n",
      "N foreground 17716, N  background 0,unable to generate class balanced samples.\n",
      "N foreground 16115, N  background 0,unable to generate class balanced samples.\n",
      "N foreground 13958, N  background 0,unable to generate class balanced samples.\n",
      "N foreground 14317, N  background 0,unable to generate class balanced samples.\n",
      "N foreground 15909, N  background 0,unable to generate class balanced samples.\n",
      "N foreground 10474, N  background 0,unable to generate class balanced samples.\n",
      "N foreground 15838, N  background 0,unable to generate class balanced samples.\n",
      "N foreground 15184, N  background 0,unable to generate class balanced samples.\n",
      "N foreground 10992, N  background 0,unable to generate class balanced samples.\n",
      "N foreground 13809, N  background 0,unable to generate class balanced samples.\n",
      "N foreground 13138, N  background 0,unable to generate class balanced samples.\n"
     ]
    },
    {
     "name": "stdout",
     "output_type": "stream",
     "text": [
      "1/13, train_loss: 0.2891\n",
      "2/13, train_loss: 0.2579\n",
      "3/13, train_loss: 0.2250\n",
      "4/13, train_loss: 0.2550\n",
      "5/13, train_loss: 0.2598\n",
      "6/13, train_loss: 0.2409\n",
      "7/13, train_loss: 0.2899\n",
      "8/13, train_loss: 0.2235\n",
      "9/13, train_loss: 0.2844\n",
      "10/13, train_loss: 0.2673\n",
      "11/13, train_loss: 0.2674\n",
      "12/13, train_loss: 0.2605\n",
      "13/13, train_loss: 0.2544\n",
      "epoch 27 average loss: 0.2596\n"
     ]
    },
    {
     "name": "stderr",
     "output_type": "stream",
     "text": [
      "N foreground 14149, N  background 0,unable to generate class balanced samples.\n",
      "N foreground 18264, N  background 0,unable to generate class balanced samples.\n",
      "N foreground 14351, N  background 0,unable to generate class balanced samples.\n",
      "N foreground 10539, N  background 0,unable to generate class balanced samples.\n",
      "N foreground 13080, N  background 0,unable to generate class balanced samples.\n",
      "N foreground 16021, N  background 0,unable to generate class balanced samples.\n",
      "N foreground 13981, N  background 0,unable to generate class balanced samples.\n",
      "N foreground 14458, N  background 0,unable to generate class balanced samples.\n",
      "N foreground 14199, N  background 0,unable to generate class balanced samples.\n"
     ]
    },
    {
     "name": "stdout",
     "output_type": "stream",
     "text": [
      "saved new best metric model\n",
      "current epoch: 27 current mean dice: 0.7719\n",
      "best mean dice: 0.7719at epoch: 27\n",
      "----------\n",
      "epoch 28/150\n"
     ]
    },
    {
     "name": "stderr",
     "output_type": "stream",
     "text": [
      "N foreground 10474, N  background 0,unable to generate class balanced samples.\n",
      "N foreground 14809, N  background 0,unable to generate class balanced samples.\n",
      "N foreground 14317, N  background 0,unable to generate class balanced samples.\n",
      "N foreground 15838, N  background 0,unable to generate class balanced samples.\n",
      "N foreground 16450, N  background 0,unable to generate class balanced samples.\n",
      "N foreground 10533, N  background 0,unable to generate class balanced samples.\n",
      "N foreground 13958, N  background 0,unable to generate class balanced samples.\n",
      "N foreground 19210, N  background 0,unable to generate class balanced samples.\n",
      "N foreground 17716, N  background 0,unable to generate class balanced samples.\n",
      "N foreground 15909, N  background 0,unable to generate class balanced samples.\n",
      "N foreground 13809, N  background 0,unable to generate class balanced samples.\n",
      "N foreground 16115, N  background 0,unable to generate class balanced samples.\n",
      "N foreground 22593, N  background 0,unable to generate class balanced samples.\n",
      "N foreground 16682, N  background 0,unable to generate class balanced samples.\n",
      "N foreground 10992, N  background 0,unable to generate class balanced samples.\n",
      "N foreground 14230, N  background 0,unable to generate class balanced samples.\n",
      "N foreground 16388, N  background 0,unable to generate class balanced samples.\n",
      "N foreground 17097, N  background 0,unable to generate class balanced samples.\n",
      "N foreground 8935, N  background 0,unable to generate class balanced samples.\n",
      "N foreground 13138, N  background 0,unable to generate class balanced samples.\n",
      "N foreground 12122, N  background 0,unable to generate class balanced samples.\n",
      "N foreground 13064, N  background 0,unable to generate class balanced samples.\n",
      "N foreground 15184, N  background 0,unable to generate class balanced samples.\n",
      "N foreground 14262, N  background 0,unable to generate class balanced samples.\n",
      "N foreground 16438, N  background 0,unable to generate class balanced samples.\n",
      "N foreground 15619, N  background 0,unable to generate class balanced samples.\n"
     ]
    },
    {
     "name": "stdout",
     "output_type": "stream",
     "text": [
      "1/13, train_loss: 0.2497\n",
      "2/13, train_loss: 0.2527\n",
      "3/13, train_loss: 0.2516\n",
      "4/13, train_loss: 0.2533\n",
      "5/13, train_loss: 0.2559\n",
      "6/13, train_loss: 0.2923\n",
      "7/13, train_loss: 0.2593\n",
      "8/13, train_loss: 0.2535\n",
      "9/13, train_loss: 0.2407\n",
      "10/13, train_loss: 0.2466\n",
      "11/13, train_loss: 0.2346\n",
      "12/13, train_loss: 0.2420\n",
      "13/13, train_loss: 0.2627\n",
      "epoch 28 average loss: 0.2534\n"
     ]
    },
    {
     "name": "stderr",
     "output_type": "stream",
     "text": [
      "N foreground 13080, N  background 0,unable to generate class balanced samples.\n",
      "N foreground 13981, N  background 0,unable to generate class balanced samples.\n",
      "N foreground 18264, N  background 0,unable to generate class balanced samples.\n",
      "N foreground 10539, N  background 0,unable to generate class balanced samples.\n",
      "N foreground 14149, N  background 0,unable to generate class balanced samples.\n",
      "N foreground 14351, N  background 0,unable to generate class balanced samples.\n",
      "N foreground 16021, N  background 0,unable to generate class balanced samples.\n",
      "N foreground 14458, N  background 0,unable to generate class balanced samples.\n",
      "N foreground 14199, N  background 0,unable to generate class balanced samples.\n"
     ]
    },
    {
     "name": "stdout",
     "output_type": "stream",
     "text": [
      "saved new best metric model\n",
      "current epoch: 28 current mean dice: 0.7831\n",
      "best mean dice: 0.7831at epoch: 28\n",
      "----------\n",
      "epoch 29/150\n"
     ]
    },
    {
     "name": "stderr",
     "output_type": "stream",
     "text": [
      "N foreground 16115, N  background 0,unable to generate class balanced samples.\n",
      "N foreground 15184, N  background 0,unable to generate class balanced samples.\n",
      "N foreground 16388, N  background 0,unable to generate class balanced samples.\n",
      "N foreground 12122, N  background 0,unable to generate class balanced samples.\n",
      "N foreground 15909, N  background 0,unable to generate class balanced samples.\n",
      "N foreground 14230, N  background 0,unable to generate class balanced samples.\n",
      "N foreground 10992, N  background 0,unable to generate class balanced samples.\n",
      "N foreground 14809, N  background 0,unable to generate class balanced samples.\n",
      "N foreground 13138, N  background 0,unable to generate class balanced samples.\n",
      "N foreground 16450, N  background 0,unable to generate class balanced samples.\n",
      "N foreground 14317, N  background 0,unable to generate class balanced samples.\n",
      "N foreground 13809, N  background 0,unable to generate class balanced samples.\n",
      "N foreground 8935, N  background 0,unable to generate class balanced samples.\n",
      "N foreground 13958, N  background 0,unable to generate class balanced samples.\n",
      "N foreground 14262, N  background 0,unable to generate class balanced samples.\n",
      "N foreground 22593, N  background 0,unable to generate class balanced samples.\n",
      "N foreground 17716, N  background 0,unable to generate class balanced samples.\n",
      "N foreground 10533, N  background 0,unable to generate class balanced samples.\n",
      "N foreground 19210, N  background 0,unable to generate class balanced samples.\n",
      "N foreground 16682, N  background 0,unable to generate class balanced samples.\n",
      "N foreground 15838, N  background 0,unable to generate class balanced samples.\n",
      "N foreground 17097, N  background 0,unable to generate class balanced samples.\n",
      "N foreground 15619, N  background 0,unable to generate class balanced samples.\n",
      "N foreground 16438, N  background 0,unable to generate class balanced samples.\n",
      "N foreground 13064, N  background 0,unable to generate class balanced samples.\n",
      "N foreground 10474, N  background 0,unable to generate class balanced samples.\n"
     ]
    },
    {
     "name": "stdout",
     "output_type": "stream",
     "text": [
      "1/13, train_loss: 0.2299\n",
      "2/13, train_loss: 0.2383\n",
      "3/13, train_loss: 0.2552\n",
      "4/13, train_loss: 0.2506\n",
      "5/13, train_loss: 0.2269\n",
      "6/13, train_loss: 0.2535\n",
      "7/13, train_loss: 0.2392\n",
      "8/13, train_loss: 0.2741\n",
      "9/13, train_loss: 0.2146\n",
      "10/13, train_loss: 0.2556\n",
      "11/13, train_loss: 0.2393\n",
      "12/13, train_loss: 0.2481\n",
      "13/13, train_loss: 0.2712\n",
      "epoch 29 average loss: 0.2459\n"
     ]
    },
    {
     "name": "stderr",
     "output_type": "stream",
     "text": [
      "N foreground 10539, N  background 0,unable to generate class balanced samples.\n",
      "N foreground 18264, N  background 0,unable to generate class balanced samples.\n",
      "N foreground 13981, N  background 0,unable to generate class balanced samples.\n",
      "N foreground 13080, N  background 0,unable to generate class balanced samples.\n",
      "N foreground 16021, N  background 0,unable to generate class balanced samples.\n",
      "N foreground 14149, N  background 0,unable to generate class balanced samples.\n",
      "N foreground 14351, N  background 0,unable to generate class balanced samples.\n",
      "N foreground 14458, N  background 0,unable to generate class balanced samples.\n",
      "N foreground 14199, N  background 0,unable to generate class balanced samples.\n"
     ]
    },
    {
     "name": "stdout",
     "output_type": "stream",
     "text": [
      "saved new best metric model\n",
      "current epoch: 29 current mean dice: 0.7878\n",
      "best mean dice: 0.7878at epoch: 29\n",
      "----------\n",
      "epoch 30/150\n"
     ]
    },
    {
     "name": "stderr",
     "output_type": "stream",
     "text": [
      "N foreground 13138, N  background 0,unable to generate class balanced samples.\n",
      "N foreground 13809, N  background 0,unable to generate class balanced samples.\n",
      "N foreground 16388, N  background 0,unable to generate class balanced samples.\n",
      "N foreground 16682, N  background 0,unable to generate class balanced samples.\n",
      "N foreground 13958, N  background 0,unable to generate class balanced samples.\n",
      "N foreground 22593, N  background 0,unable to generate class balanced samples.\n",
      "N foreground 10474, N  background 0,unable to generate class balanced samples.\n",
      "N foreground 14809, N  background 0,unable to generate class balanced samples.\n",
      "N foreground 15619, N  background 0,unable to generate class balanced samples.\n",
      "N foreground 14317, N  background 0,unable to generate class balanced samples.\n",
      "N foreground 16115, N  background 0,unable to generate class balanced samples.\n",
      "N foreground 10533, N  background 0,unable to generate class balanced samples.\n",
      "N foreground 8935, N  background 0,unable to generate class balanced samples.\n",
      "N foreground 14230, N  background 0,unable to generate class balanced samples.\n",
      "N foreground 15909, N  background 0,unable to generate class balanced samples.\n",
      "N foreground 15838, N  background 0,unable to generate class balanced samples.\n",
      "N foreground 12122, N  background 0,unable to generate class balanced samples.\n",
      "N foreground 19210, N  background 0,unable to generate class balanced samples.\n",
      "N foreground 17097, N  background 0,unable to generate class balanced samples.\n",
      "N foreground 16450, N  background 0,unable to generate class balanced samples.\n",
      "N foreground 13064, N  background 0,unable to generate class balanced samples.\n",
      "N foreground 17716, N  background 0,unable to generate class balanced samples.\n",
      "N foreground 16438, N  background 0,unable to generate class balanced samples.\n",
      "N foreground 10992, N  background 0,unable to generate class balanced samples.\n",
      "N foreground 14262, N  background 0,unable to generate class balanced samples.\n",
      "N foreground 15184, N  background 0,unable to generate class balanced samples.\n"
     ]
    },
    {
     "name": "stdout",
     "output_type": "stream",
     "text": [
      "1/13, train_loss: 0.2564\n",
      "2/13, train_loss: 0.2687\n",
      "3/13, train_loss: 0.2329\n",
      "4/13, train_loss: 0.2633\n",
      "5/13, train_loss: 0.2382\n",
      "6/13, train_loss: 0.2676\n",
      "7/13, train_loss: 0.2290\n",
      "8/13, train_loss: 0.2940\n",
      "9/13, train_loss: 0.2432\n",
      "10/13, train_loss: 0.2502\n",
      "11/13, train_loss: 0.2387\n",
      "12/13, train_loss: 0.2183\n",
      "13/13, train_loss: 0.2329\n",
      "epoch 30 average loss: 0.2487\n"
     ]
    },
    {
     "name": "stderr",
     "output_type": "stream",
     "text": [
      "N foreground 10539, N  background 0,unable to generate class balanced samples.\n",
      "N foreground 14149, N  background 0,unable to generate class balanced samples.\n",
      "N foreground 14351, N  background 0,unable to generate class balanced samples.\n",
      "N foreground 16021, N  background 0,unable to generate class balanced samples.\n",
      "N foreground 18264, N  background 0,unable to generate class balanced samples.\n",
      "N foreground 13981, N  background 0,unable to generate class balanced samples.\n",
      "N foreground 13080, N  background 0,unable to generate class balanced samples.\n",
      "N foreground 14458, N  background 0,unable to generate class balanced samples.\n",
      "N foreground 14199, N  background 0,unable to generate class balanced samples.\n"
     ]
    },
    {
     "name": "stdout",
     "output_type": "stream",
     "text": [
      "saved new best metric model\n",
      "current epoch: 30 current mean dice: 0.7886\n",
      "best mean dice: 0.7886at epoch: 30\n",
      "----------\n",
      "epoch 31/150\n"
     ]
    },
    {
     "name": "stderr",
     "output_type": "stream",
     "text": [
      "N foreground 15909, N  background 0,unable to generate class balanced samples.\n",
      "N foreground 15838, N  background 0,unable to generate class balanced samples.\n",
      "N foreground 13958, N  background 0,unable to generate class balanced samples.\n",
      "N foreground 16438, N  background 0,unable to generate class balanced samples.\n",
      "N foreground 22593, N  background 0,unable to generate class balanced samples.\n",
      "N foreground 10474, N  background 0,unable to generate class balanced samples.\n",
      "N foreground 13809, N  background 0,unable to generate class balanced samples.\n",
      "N foreground 15619, N  background 0,unable to generate class balanced samples.\n",
      "N foreground 13138, N  background 0,unable to generate class balanced samples.\n",
      "N foreground 16388, N  background 0,unable to generate class balanced samples.\n",
      "N foreground 10533, N  background 0,unable to generate class balanced samples.\n",
      "N foreground 17716, N  background 0,unable to generate class balanced samples.\n",
      "N foreground 14809, N  background 0,unable to generate class balanced samples.\n",
      "N foreground 13064, N  background 0,unable to generate class balanced samples.\n",
      "N foreground 14230, N  background 0,unable to generate class balanced samples.\n",
      "N foreground 14317, N  background 0,unable to generate class balanced samples.\n",
      "N foreground 8935, N  background 0,unable to generate class balanced samples.\n",
      "N foreground 17097, N  background 0,unable to generate class balanced samples.\n",
      "N foreground 10992, N  background 0,unable to generate class balanced samples.\n",
      "N foreground 16682, N  background 0,unable to generate class balanced samples.\n",
      "N foreground 19210, N  background 0,unable to generate class balanced samples.\n",
      "N foreground 16115, N  background 0,unable to generate class balanced samples.\n",
      "N foreground 16450, N  background 0,unable to generate class balanced samples.\n",
      "N foreground 15184, N  background 0,unable to generate class balanced samples.\n",
      "N foreground 14262, N  background 0,unable to generate class balanced samples.\n",
      "N foreground 12122, N  background 0,unable to generate class balanced samples.\n"
     ]
    },
    {
     "name": "stdout",
     "output_type": "stream",
     "text": [
      "1/13, train_loss: 0.2463\n",
      "2/13, train_loss: 0.2044\n",
      "3/13, train_loss: 0.2377\n",
      "4/13, train_loss: 0.2416\n",
      "5/13, train_loss: 0.2590\n",
      "6/13, train_loss: 0.2499\n",
      "7/13, train_loss: 0.2807\n",
      "8/13, train_loss: 0.2443\n",
      "9/13, train_loss: 0.2241\n",
      "10/13, train_loss: 0.2411\n",
      "11/13, train_loss: 0.2209\n",
      "12/13, train_loss: 0.2713\n",
      "13/13, train_loss: 0.2455\n",
      "epoch 31 average loss: 0.2436\n"
     ]
    },
    {
     "name": "stderr",
     "output_type": "stream",
     "text": [
      "N foreground 13080, N  background 0,unable to generate class balanced samples.\n",
      "N foreground 13981, N  background 0,unable to generate class balanced samples.\n",
      "N foreground 18264, N  background 0,unable to generate class balanced samples.\n",
      "N foreground 14149, N  background 0,unable to generate class balanced samples.\n",
      "N foreground 10539, N  background 0,unable to generate class balanced samples.\n",
      "N foreground 14351, N  background 0,unable to generate class balanced samples.\n",
      "N foreground 16021, N  background 0,unable to generate class balanced samples.\n",
      "N foreground 14458, N  background 0,unable to generate class balanced samples.\n",
      "N foreground 14199, N  background 0,unable to generate class balanced samples.\n"
     ]
    },
    {
     "name": "stdout",
     "output_type": "stream",
     "text": [
      "current epoch: 31 current mean dice: 0.7747\n",
      "best mean dice: 0.7886at epoch: 30\n",
      "----------\n",
      "epoch 32/150\n"
     ]
    },
    {
     "name": "stderr",
     "output_type": "stream",
     "text": [
      "N foreground 8935, N  background 0,unable to generate class balanced samples.\n",
      "N foreground 16450, N  background 0,unable to generate class balanced samples.\n",
      "N foreground 13809, N  background 0,unable to generate class balanced samples.\n",
      "N foreground 22593, N  background 0,unable to generate class balanced samples.\n",
      "N foreground 19210, N  background 0,unable to generate class balanced samples.\n",
      "N foreground 13138, N  background 0,unable to generate class balanced samples.\n",
      "N foreground 17716, N  background 0,unable to generate class balanced samples.\n",
      "N foreground 15909, N  background 0,unable to generate class balanced samples.\n",
      "N foreground 16115, N  background 0,unable to generate class balanced samples.\n",
      "N foreground 13064, N  background 0,unable to generate class balanced samples.\n",
      "N foreground 15838, N  background 0,unable to generate class balanced samples.\n",
      "N foreground 14262, N  background 0,unable to generate class balanced samples.\n",
      "N foreground 16388, N  background 0,unable to generate class balanced samples.\n",
      "N foreground 15184, N  background 0,unable to generate class balanced samples.\n",
      "N foreground 10474, N  background 0,unable to generate class balanced samples.\n",
      "N foreground 14317, N  background 0,unable to generate class balanced samples.\n",
      "N foreground 10533, N  background 0,unable to generate class balanced samples.\n",
      "N foreground 14230, N  background 0,unable to generate class balanced samples.\n",
      "N foreground 15619, N  background 0,unable to generate class balanced samples.\n",
      "N foreground 13958, N  background 0,unable to generate class balanced samples.\n",
      "N foreground 16682, N  background 0,unable to generate class balanced samples.\n",
      "N foreground 14809, N  background 0,unable to generate class balanced samples.\n",
      "N foreground 10992, N  background 0,unable to generate class balanced samples.\n",
      "N foreground 17097, N  background 0,unable to generate class balanced samples.\n",
      "N foreground 16438, N  background 0,unable to generate class balanced samples.\n",
      "N foreground 12122, N  background 0,unable to generate class balanced samples.\n"
     ]
    },
    {
     "name": "stdout",
     "output_type": "stream",
     "text": [
      "1/13, train_loss: 0.2741\n",
      "2/13, train_loss: 0.2361\n",
      "3/13, train_loss: 0.2393\n",
      "4/13, train_loss: 0.2292\n",
      "5/13, train_loss: 0.2168\n",
      "6/13, train_loss: 0.2254\n",
      "7/13, train_loss: 0.2577\n",
      "8/13, train_loss: 0.2506\n",
      "9/13, train_loss: 0.2566\n",
      "10/13, train_loss: 0.2364\n",
      "11/13, train_loss: 0.2416\n",
      "12/13, train_loss: 0.2332\n",
      "13/13, train_loss: 0.2325\n",
      "epoch 32 average loss: 0.2407\n"
     ]
    },
    {
     "name": "stderr",
     "output_type": "stream",
     "text": [
      "N foreground 14351, N  background 0,unable to generate class balanced samples.\n",
      "N foreground 16021, N  background 0,unable to generate class balanced samples.\n",
      "N foreground 13981, N  background 0,unable to generate class balanced samples.\n",
      "N foreground 18264, N  background 0,unable to generate class balanced samples.\n",
      "N foreground 10539, N  background 0,unable to generate class balanced samples.\n",
      "N foreground 14149, N  background 0,unable to generate class balanced samples.\n",
      "N foreground 13080, N  background 0,unable to generate class balanced samples.\n",
      "N foreground 14458, N  background 0,unable to generate class balanced samples.\n",
      "N foreground 14199, N  background 0,unable to generate class balanced samples.\n"
     ]
    },
    {
     "name": "stdout",
     "output_type": "stream",
     "text": [
      "saved new best metric model\n",
      "current epoch: 32 current mean dice: 0.7913\n",
      "best mean dice: 0.7913at epoch: 32\n",
      "----------\n",
      "epoch 33/150\n"
     ]
    },
    {
     "name": "stderr",
     "output_type": "stream",
     "text": [
      "N foreground 10474, N  background 0,unable to generate class balanced samples.\n",
      "N foreground 14230, N  background 0,unable to generate class balanced samples.\n",
      "N foreground 16115, N  background 0,unable to generate class balanced samples.\n",
      "N foreground 10533, N  background 0,unable to generate class balanced samples.\n",
      "N foreground 16450, N  background 0,unable to generate class balanced samples.\n",
      "N foreground 15838, N  background 0,unable to generate class balanced samples.\n",
      "N foreground 14809, N  background 0,unable to generate class balanced samples.\n",
      "N foreground 16388, N  background 0,unable to generate class balanced samples.\n",
      "N foreground 17097, N  background 0,unable to generate class balanced samples.\n",
      "N foreground 13958, N  background 0,unable to generate class balanced samples.\n",
      "N foreground 16682, N  background 0,unable to generate class balanced samples.\n",
      "N foreground 13138, N  background 0,unable to generate class balanced samples.\n",
      "N foreground 19210, N  background 0,unable to generate class balanced samples.\n",
      "N foreground 8935, N  background 0,unable to generate class balanced samples.\n",
      "N foreground 13809, N  background 0,unable to generate class balanced samples.\n",
      "N foreground 13064, N  background 0,unable to generate class balanced samples.\n",
      "N foreground 14317, N  background 0,unable to generate class balanced samples.\n",
      "N foreground 17716, N  background 0,unable to generate class balanced samples.\n",
      "N foreground 10992, N  background 0,unable to generate class balanced samples.\n",
      "N foreground 22593, N  background 0,unable to generate class balanced samples.\n",
      "N foreground 15909, N  background 0,unable to generate class balanced samples.\n",
      "N foreground 15184, N  background 0,unable to generate class balanced samples.\n",
      "N foreground 16438, N  background 0,unable to generate class balanced samples.\n",
      "N foreground 14262, N  background 0,unable to generate class balanced samples.\n",
      "N foreground 12122, N  background 0,unable to generate class balanced samples.\n",
      "N foreground 15619, N  background 0,unable to generate class balanced samples.\n"
     ]
    },
    {
     "name": "stdout",
     "output_type": "stream",
     "text": [
      "1/13, train_loss: 0.2350\n",
      "2/13, train_loss: 0.2483\n",
      "3/13, train_loss: 0.2255\n",
      "4/13, train_loss: 0.2497\n",
      "5/13, train_loss: 0.2846\n",
      "6/13, train_loss: 0.2379\n",
      "7/13, train_loss: 0.2498\n",
      "8/13, train_loss: 0.2290\n",
      "9/13, train_loss: 0.2236\n",
      "10/13, train_loss: 0.2105\n",
      "11/13, train_loss: 0.2459\n",
      "12/13, train_loss: 0.2404\n",
      "13/13, train_loss: 0.2426\n",
      "epoch 33 average loss: 0.2402\n"
     ]
    },
    {
     "name": "stderr",
     "output_type": "stream",
     "text": [
      "N foreground 14351, N  background 0,unable to generate class balanced samples.\n",
      "N foreground 16021, N  background 0,unable to generate class balanced samples.\n",
      "N foreground 10539, N  background 0,unable to generate class balanced samples.\n",
      "N foreground 18264, N  background 0,unable to generate class balanced samples.\n",
      "N foreground 14149, N  background 0,unable to generate class balanced samples.\n",
      "N foreground 13981, N  background 0,unable to generate class balanced samples.\n",
      "N foreground 13080, N  background 0,unable to generate class balanced samples.\n",
      "N foreground 14458, N  background 0,unable to generate class balanced samples.\n",
      "N foreground 14199, N  background 0,unable to generate class balanced samples.\n"
     ]
    },
    {
     "name": "stdout",
     "output_type": "stream",
     "text": [
      "current epoch: 33 current mean dice: 0.7855\n",
      "best mean dice: 0.7913at epoch: 32\n",
      "----------\n",
      "epoch 34/150\n"
     ]
    },
    {
     "name": "stderr",
     "output_type": "stream",
     "text": [
      "N foreground 13809, N  background 0,unable to generate class balanced samples.\n",
      "N foreground 10533, N  background 0,unable to generate class balanced samples.\n",
      "N foreground 14809, N  background 0,unable to generate class balanced samples.\n",
      "N foreground 16438, N  background 0,unable to generate class balanced samples.\n",
      "N foreground 14262, N  background 0,unable to generate class balanced samples.\n",
      "N foreground 15838, N  background 0,unable to generate class balanced samples.\n",
      "N foreground 14230, N  background 0,unable to generate class balanced samples.\n",
      "N foreground 8935, N  background 0,unable to generate class balanced samples.\n",
      "N foreground 10992, N  background 0,unable to generate class balanced samples.\n",
      "N foreground 13138, N  background 0,unable to generate class balanced samples.\n",
      "N foreground 13064, N  background 0,unable to generate class balanced samples.\n",
      "N foreground 19210, N  background 0,unable to generate class balanced samples.\n",
      "N foreground 12122, N  background 0,unable to generate class balanced samples.\n",
      "N foreground 15184, N  background 0,unable to generate class balanced samples.\n",
      "N foreground 15909, N  background 0,unable to generate class balanced samples.\n",
      "N foreground 15619, N  background 0,unable to generate class balanced samples.\n",
      "N foreground 17097, N  background 0,unable to generate class balanced samples.\n",
      "N foreground 16450, N  background 0,unable to generate class balanced samples.\n",
      "N foreground 16115, N  background 0,unable to generate class balanced samples.\n",
      "N foreground 10474, N  background 0,unable to generate class balanced samples.\n",
      "N foreground 14317, N  background 0,unable to generate class balanced samples.\n",
      "N foreground 16388, N  background 0,unable to generate class balanced samples.\n",
      "N foreground 17716, N  background 0,unable to generate class balanced samples.\n",
      "N foreground 13958, N  background 0,unable to generate class balanced samples.\n",
      "N foreground 16682, N  background 0,unable to generate class balanced samples.\n",
      "N foreground 22593, N  background 0,unable to generate class balanced samples.\n"
     ]
    },
    {
     "name": "stdout",
     "output_type": "stream",
     "text": [
      "1/13, train_loss: 0.2437\n",
      "2/13, train_loss: 0.2458\n",
      "3/13, train_loss: 0.2281\n",
      "4/13, train_loss: 0.2446\n",
      "5/13, train_loss: 0.2443\n",
      "6/13, train_loss: 0.2358\n",
      "7/13, train_loss: 0.2091\n",
      "8/13, train_loss: 0.2596\n",
      "9/13, train_loss: 0.2031\n",
      "10/13, train_loss: 0.2361\n",
      "11/13, train_loss: 0.2172\n",
      "12/13, train_loss: 0.2280\n",
      "13/13, train_loss: 0.2401\n",
      "epoch 34 average loss: 0.2335\n"
     ]
    },
    {
     "name": "stderr",
     "output_type": "stream",
     "text": [
      "N foreground 13080, N  background 0,unable to generate class balanced samples.\n",
      "N foreground 10539, N  background 0,unable to generate class balanced samples.\n",
      "N foreground 16021, N  background 0,unable to generate class balanced samples.\n",
      "N foreground 14351, N  background 0,unable to generate class balanced samples.\n",
      "N foreground 14149, N  background 0,unable to generate class balanced samples.\n",
      "N foreground 18264, N  background 0,unable to generate class balanced samples.\n",
      "N foreground 13981, N  background 0,unable to generate class balanced samples.\n",
      "N foreground 14458, N  background 0,unable to generate class balanced samples.\n",
      "N foreground 14199, N  background 0,unable to generate class balanced samples.\n"
     ]
    },
    {
     "name": "stdout",
     "output_type": "stream",
     "text": [
      "saved new best metric model\n",
      "current epoch: 34 current mean dice: 0.7961\n",
      "best mean dice: 0.7961at epoch: 34\n",
      "----------\n",
      "epoch 35/150\n"
     ]
    },
    {
     "name": "stderr",
     "output_type": "stream",
     "text": [
      "N foreground 16388, N  background 0,unable to generate class balanced samples.\n",
      "N foreground 10474, N  background 0,unable to generate class balanced samples.\n",
      "N foreground 14809, N  background 0,unable to generate class balanced samples.\n",
      "N foreground 13138, N  background 0,unable to generate class balanced samples.\n",
      "N foreground 17716, N  background 0,unable to generate class balanced samples.\n",
      "N foreground 15619, N  background 0,unable to generate class balanced samples.\n",
      "N foreground 13958, N  background 0,unable to generate class balanced samples.\n",
      "N foreground 10533, N  background 0,unable to generate class balanced samples.\n",
      "N foreground 19210, N  background 0,unable to generate class balanced samples.\n",
      "N foreground 17097, N  background 0,unable to generate class balanced samples.\n",
      "N foreground 22593, N  background 0,unable to generate class balanced samples.\n",
      "N foreground 14262, N  background 0,unable to generate class balanced samples.\n",
      "N foreground 16438, N  background 0,unable to generate class balanced samples.\n",
      "N foreground 12122, N  background 0,unable to generate class balanced samples.\n",
      "N foreground 15184, N  background 0,unable to generate class balanced samples.\n",
      "N foreground 16450, N  background 0,unable to generate class balanced samples.\n",
      "N foreground 13064, N  background 0,unable to generate class balanced samples.\n",
      "N foreground 10992, N  background 0,unable to generate class balanced samples.\n",
      "N foreground 14230, N  background 0,unable to generate class balanced samples.\n",
      "N foreground 13809, N  background 0,unable to generate class balanced samples.\n",
      "N foreground 14317, N  background 0,unable to generate class balanced samples.\n",
      "N foreground 15909, N  background 0,unable to generate class balanced samples.\n",
      "N foreground 16115, N  background 0,unable to generate class balanced samples.\n",
      "N foreground 15838, N  background 0,unable to generate class balanced samples.\n",
      "N foreground 8935, N  background 0,unable to generate class balanced samples.\n",
      "N foreground 16682, N  background 0,unable to generate class balanced samples.\n"
     ]
    },
    {
     "name": "stdout",
     "output_type": "stream",
     "text": [
      "1/13, train_loss: 0.2393\n",
      "2/13, train_loss: 0.2448\n",
      "3/13, train_loss: 0.1909\n",
      "4/13, train_loss: 0.2408\n",
      "5/13, train_loss: 0.2064\n",
      "6/13, train_loss: 0.2264\n",
      "7/13, train_loss: 0.2123\n",
      "8/13, train_loss: 0.2293\n",
      "9/13, train_loss: 0.2356\n",
      "10/13, train_loss: 0.2282\n",
      "11/13, train_loss: 0.2539\n",
      "12/13, train_loss: 0.2220\n",
      "13/13, train_loss: 0.2535\n",
      "epoch 35 average loss: 0.2295\n"
     ]
    },
    {
     "name": "stderr",
     "output_type": "stream",
     "text": [
      "N foreground 13080, N  background 0,unable to generate class balanced samples.\n",
      "N foreground 10539, N  background 0,unable to generate class balanced samples.\n",
      "N foreground 14351, N  background 0,unable to generate class balanced samples.\n",
      "N foreground 18264, N  background 0,unable to generate class balanced samples.\n",
      "N foreground 13981, N  background 0,unable to generate class balanced samples.\n",
      "N foreground 14149, N  background 0,unable to generate class balanced samples.\n",
      "N foreground 16021, N  background 0,unable to generate class balanced samples.\n",
      "N foreground 14458, N  background 0,unable to generate class balanced samples.\n",
      "N foreground 14199, N  background 0,unable to generate class balanced samples.\n"
     ]
    },
    {
     "name": "stdout",
     "output_type": "stream",
     "text": [
      "current epoch: 35 current mean dice: 0.7920\n",
      "best mean dice: 0.7961at epoch: 34\n",
      "----------\n",
      "epoch 36/150\n"
     ]
    },
    {
     "name": "stderr",
     "output_type": "stream",
     "text": [
      "N foreground 13138, N  background 0,unable to generate class balanced samples.\n",
      "N foreground 17716, N  background 0,unable to generate class balanced samples.\n",
      "N foreground 19210, N  background 0,unable to generate class balanced samples.\n",
      "N foreground 8935, N  background 0,unable to generate class balanced samples.\n",
      "N foreground 14230, N  background 0,unable to generate class balanced samples.\n",
      "N foreground 14262, N  background 0,unable to generate class balanced samples.\n",
      "N foreground 22593, N  background 0,unable to generate class balanced samples.\n",
      "N foreground 15909, N  background 0,unable to generate class balanced samples.\n",
      "N foreground 14809, N  background 0,unable to generate class balanced samples.\n",
      "N foreground 10992, N  background 0,unable to generate class balanced samples.\n",
      "N foreground 10533, N  background 0,unable to generate class balanced samples.\n",
      "N foreground 10474, N  background 0,unable to generate class balanced samples.\n",
      "N foreground 15619, N  background 0,unable to generate class balanced samples.\n",
      "N foreground 15838, N  background 0,unable to generate class balanced samples.\n",
      "N foreground 13064, N  background 0,unable to generate class balanced samples.\n",
      "N foreground 15184, N  background 0,unable to generate class balanced samples.\n",
      "N foreground 16115, N  background 0,unable to generate class balanced samples.\n",
      "N foreground 16450, N  background 0,unable to generate class balanced samples.\n",
      "N foreground 16682, N  background 0,unable to generate class balanced samples.\n",
      "N foreground 13958, N  background 0,unable to generate class balanced samples.\n",
      "N foreground 14317, N  background 0,unable to generate class balanced samples.\n",
      "N foreground 17097, N  background 0,unable to generate class balanced samples.\n",
      "N foreground 16388, N  background 0,unable to generate class balanced samples.\n",
      "N foreground 16438, N  background 0,unable to generate class balanced samples.\n",
      "N foreground 12122, N  background 0,unable to generate class balanced samples.\n",
      "N foreground 13809, N  background 0,unable to generate class balanced samples.\n"
     ]
    },
    {
     "name": "stdout",
     "output_type": "stream",
     "text": [
      "1/13, train_loss: 0.2434\n",
      "2/13, train_loss: 0.2678\n",
      "3/13, train_loss: 0.2155\n",
      "4/13, train_loss: 0.2481\n",
      "5/13, train_loss: 0.2401\n",
      "6/13, train_loss: 0.2157\n",
      "7/13, train_loss: 0.2348\n",
      "8/13, train_loss: 0.2283\n",
      "9/13, train_loss: 0.2300\n",
      "10/13, train_loss: 0.2244\n",
      "11/13, train_loss: 0.2350\n",
      "12/13, train_loss: 0.2244\n",
      "13/13, train_loss: 0.2233\n",
      "epoch 36 average loss: 0.2331\n"
     ]
    },
    {
     "name": "stderr",
     "output_type": "stream",
     "text": [
      "N foreground 13981, N  background 0,unable to generate class balanced samples.\n",
      "N foreground 18264, N  background 0,unable to generate class balanced samples.\n",
      "N foreground 10539, N  background 0,unable to generate class balanced samples.\n",
      "N foreground 14149, N  background 0,unable to generate class balanced samples.\n",
      "N foreground 16021, N  background 0,unable to generate class balanced samples.\n",
      "N foreground 14351, N  background 0,unable to generate class balanced samples.\n",
      "N foreground 13080, N  background 0,unable to generate class balanced samples.\n",
      "N foreground 14458, N  background 0,unable to generate class balanced samples.\n",
      "N foreground 14199, N  background 0,unable to generate class balanced samples.\n"
     ]
    },
    {
     "name": "stdout",
     "output_type": "stream",
     "text": [
      "saved new best metric model\n",
      "current epoch: 36 current mean dice: 0.7987\n",
      "best mean dice: 0.7987at epoch: 36\n",
      "----------\n",
      "epoch 37/150\n"
     ]
    },
    {
     "name": "stderr",
     "output_type": "stream",
     "text": [
      "N foreground 15619, N  background 0,unable to generate class balanced samples.\n",
      "N foreground 16438, N  background 0,unable to generate class balanced samples.\n",
      "N foreground 17097, N  background 0,unable to generate class balanced samples.\n",
      "N foreground 8935, N  background 0,unable to generate class balanced samples.\n",
      "N foreground 17716, N  background 0,unable to generate class balanced samples.\n",
      "N foreground 14230, N  background 0,unable to generate class balanced samples.\n",
      "N foreground 10992, N  background 0,unable to generate class balanced samples.\n",
      "N foreground 15184, N  background 0,unable to generate class balanced samples.\n",
      "N foreground 16682, N  background 0,unable to generate class balanced samples.\n",
      "N foreground 19210, N  background 0,unable to generate class balanced samples.\n",
      "N foreground 13958, N  background 0,unable to generate class balanced samples.\n",
      "N foreground 14262, N  background 0,unable to generate class balanced samples.\n",
      "N foreground 15838, N  background 0,unable to generate class balanced samples.\n",
      "N foreground 10474, N  background 0,unable to generate class balanced samples.\n",
      "N foreground 12122, N  background 0,unable to generate class balanced samples.\n",
      "N foreground 14317, N  background 0,unable to generate class balanced samples.\n",
      "N foreground 16115, N  background 0,unable to generate class balanced samples.\n",
      "N foreground 10533, N  background 0,unable to generate class balanced samples.\n",
      "N foreground 14809, N  background 0,unable to generate class balanced samples.\n",
      "N foreground 16450, N  background 0,unable to generate class balanced samples.\n",
      "N foreground 13064, N  background 0,unable to generate class balanced samples.\n",
      "N foreground 13809, N  background 0,unable to generate class balanced samples.\n",
      "N foreground 16388, N  background 0,unable to generate class balanced samples.\n",
      "N foreground 13138, N  background 0,unable to generate class balanced samples.\n",
      "N foreground 15909, N  background 0,unable to generate class balanced samples.\n",
      "N foreground 22593, N  background 0,unable to generate class balanced samples.\n"
     ]
    },
    {
     "name": "stdout",
     "output_type": "stream",
     "text": [
      "1/13, train_loss: 0.2117\n",
      "2/13, train_loss: 0.2432\n",
      "3/13, train_loss: 0.2264\n",
      "4/13, train_loss: 0.2226\n",
      "5/13, train_loss: 0.2333\n",
      "6/13, train_loss: 0.2359\n",
      "7/13, train_loss: 0.2279\n",
      "8/13, train_loss: 0.2420\n",
      "9/13, train_loss: 0.2402\n",
      "10/13, train_loss: 0.2206\n",
      "11/13, train_loss: 0.2383\n",
      "12/13, train_loss: 0.2286\n",
      "13/13, train_loss: 0.2189\n",
      "epoch 37 average loss: 0.2300\n"
     ]
    },
    {
     "name": "stderr",
     "output_type": "stream",
     "text": [
      "N foreground 14149, N  background 0,unable to generate class balanced samples.\n",
      "N foreground 10539, N  background 0,unable to generate class balanced samples.\n",
      "N foreground 13080, N  background 0,unable to generate class balanced samples.\n",
      "N foreground 13981, N  background 0,unable to generate class balanced samples.\n",
      "N foreground 16021, N  background 0,unable to generate class balanced samples.\n",
      "N foreground 18264, N  background 0,unable to generate class balanced samples.\n",
      "N foreground 14351, N  background 0,unable to generate class balanced samples.\n",
      "N foreground 14458, N  background 0,unable to generate class balanced samples.\n",
      "N foreground 14199, N  background 0,unable to generate class balanced samples.\n"
     ]
    },
    {
     "name": "stdout",
     "output_type": "stream",
     "text": [
      "saved new best metric model\n",
      "current epoch: 37 current mean dice: 0.8020\n",
      "best mean dice: 0.8020at epoch: 37\n",
      "----------\n",
      "epoch 38/150\n"
     ]
    },
    {
     "name": "stderr",
     "output_type": "stream",
     "text": [
      "N foreground 15838, N  background 0,unable to generate class balanced samples.\n",
      "N foreground 16115, N  background 0,unable to generate class balanced samples.\n",
      "N foreground 15909, N  background 0,unable to generate class balanced samples.\n",
      "N foreground 14317, N  background 0,unable to generate class balanced samples.\n",
      "N foreground 13958, N  background 0,unable to generate class balanced samples.\n",
      "N foreground 14809, N  background 0,unable to generate class balanced samples.\n",
      "N foreground 16450, N  background 0,unable to generate class balanced samples.\n",
      "N foreground 14262, N  background 0,unable to generate class balanced samples.\n",
      "N foreground 13138, N  background 0,unable to generate class balanced samples.\n",
      "N foreground 10533, N  background 0,unable to generate class balanced samples.\n",
      "N foreground 13064, N  background 0,unable to generate class balanced samples.\n",
      "N foreground 14230, N  background 0,unable to generate class balanced samples.\n",
      "N foreground 19210, N  background 0,unable to generate class balanced samples.\n",
      "N foreground 15184, N  background 0,unable to generate class balanced samples.\n",
      "N foreground 12122, N  background 0,unable to generate class balanced samples.\n",
      "N foreground 16682, N  background 0,unable to generate class balanced samples.\n",
      "N foreground 17716, N  background 0,unable to generate class balanced samples.\n",
      "N foreground 10992, N  background 0,unable to generate class balanced samples.\n",
      "N foreground 10474, N  background 0,unable to generate class balanced samples.\n",
      "N foreground 17097, N  background 0,unable to generate class balanced samples.\n",
      "N foreground 13809, N  background 0,unable to generate class balanced samples.\n",
      "N foreground 8935, N  background 0,unable to generate class balanced samples.\n",
      "N foreground 16438, N  background 0,unable to generate class balanced samples.\n",
      "N foreground 22593, N  background 0,unable to generate class balanced samples.\n",
      "N foreground 16388, N  background 0,unable to generate class balanced samples.\n",
      "N foreground 15619, N  background 0,unable to generate class balanced samples.\n"
     ]
    },
    {
     "name": "stdout",
     "output_type": "stream",
     "text": [
      "1/13, train_loss: 0.2302\n",
      "2/13, train_loss: 0.2225\n",
      "3/13, train_loss: 0.2426\n",
      "4/13, train_loss: 0.2394\n",
      "5/13, train_loss: 0.2442\n",
      "6/13, train_loss: 0.2022\n",
      "7/13, train_loss: 0.2238\n",
      "8/13, train_loss: 0.2347\n",
      "9/13, train_loss: 0.2249\n",
      "10/13, train_loss: 0.2225\n",
      "11/13, train_loss: 0.2318\n",
      "12/13, train_loss: 0.2206\n",
      "13/13, train_loss: 0.2051\n",
      "epoch 38 average loss: 0.2265\n"
     ]
    },
    {
     "name": "stderr",
     "output_type": "stream",
     "text": [
      "N foreground 13981, N  background 0,unable to generate class balanced samples.\n",
      "N foreground 14149, N  background 0,unable to generate class balanced samples.\n",
      "N foreground 18264, N  background 0,unable to generate class balanced samples.\n",
      "N foreground 16021, N  background 0,unable to generate class balanced samples.\n",
      "N foreground 13080, N  background 0,unable to generate class balanced samples.\n",
      "N foreground 14351, N  background 0,unable to generate class balanced samples.\n",
      "N foreground 10539, N  background 0,unable to generate class balanced samples.\n",
      "N foreground 14458, N  background 0,unable to generate class balanced samples.\n",
      "N foreground 14199, N  background 0,unable to generate class balanced samples.\n"
     ]
    },
    {
     "name": "stdout",
     "output_type": "stream",
     "text": [
      "saved new best metric model\n",
      "current epoch: 38 current mean dice: 0.8077\n",
      "best mean dice: 0.8077at epoch: 38\n",
      "----------\n",
      "epoch 39/150\n"
     ]
    },
    {
     "name": "stderr",
     "output_type": "stream",
     "text": [
      "N foreground 16438, N  background 0,unable to generate class balanced samples.\n",
      "N foreground 15909, N  background 0,unable to generate class balanced samples.\n",
      "N foreground 17097, N  background 0,unable to generate class balanced samples.\n",
      "N foreground 16450, N  background 0,unable to generate class balanced samples.\n",
      "N foreground 16115, N  background 0,unable to generate class balanced samples.\n",
      "N foreground 19210, N  background 0,unable to generate class balanced samples.\n",
      "N foreground 15619, N  background 0,unable to generate class balanced samples.\n",
      "N foreground 15184, N  background 0,unable to generate class balanced samples.\n",
      "N foreground 14230, N  background 0,unable to generate class balanced samples.\n",
      "N foreground 13809, N  background 0,unable to generate class balanced samples.\n",
      "N foreground 13958, N  background 0,unable to generate class balanced samples.\n",
      "N foreground 10992, N  background 0,unable to generate class balanced samples.\n",
      "N foreground 13064, N  background 0,unable to generate class balanced samples.\n",
      "N foreground 12122, N  background 0,unable to generate class balanced samples.\n",
      "N foreground 15838, N  background 0,unable to generate class balanced samples.\n",
      "N foreground 13138, N  background 0,unable to generate class balanced samples.\n",
      "N foreground 16388, N  background 0,unable to generate class balanced samples.\n",
      "N foreground 16682, N  background 0,unable to generate class balanced samples.\n",
      "N foreground 22593, N  background 0,unable to generate class balanced samples.\n",
      "N foreground 10474, N  background 0,unable to generate class balanced samples.\n",
      "N foreground 14317, N  background 0,unable to generate class balanced samples.\n",
      "N foreground 8935, N  background 0,unable to generate class balanced samples.\n",
      "N foreground 10533, N  background 0,unable to generate class balanced samples.\n",
      "N foreground 14262, N  background 0,unable to generate class balanced samples.\n",
      "N foreground 17716, N  background 0,unable to generate class balanced samples.\n",
      "N foreground 14809, N  background 0,unable to generate class balanced samples.\n"
     ]
    },
    {
     "name": "stdout",
     "output_type": "stream",
     "text": [
      "1/13, train_loss: 0.2300\n",
      "2/13, train_loss: 0.2133\n",
      "3/13, train_loss: 0.2167\n",
      "4/13, train_loss: 0.2271\n",
      "5/13, train_loss: 0.2213\n",
      "6/13, train_loss: 0.2172\n",
      "7/13, train_loss: 0.2308\n",
      "8/13, train_loss: 0.2283\n",
      "9/13, train_loss: 0.2323\n",
      "10/13, train_loss: 0.1991\n",
      "11/13, train_loss: 0.2280\n",
      "12/13, train_loss: 0.2645\n",
      "13/13, train_loss: 0.2531\n",
      "epoch 39 average loss: 0.2278\n"
     ]
    },
    {
     "name": "stderr",
     "output_type": "stream",
     "text": [
      "N foreground 13080, N  background 0,unable to generate class balanced samples.\n",
      "N foreground 14149, N  background 0,unable to generate class balanced samples.\n",
      "N foreground 13981, N  background 0,unable to generate class balanced samples.\n",
      "N foreground 14351, N  background 0,unable to generate class balanced samples.\n",
      "N foreground 16021, N  background 0,unable to generate class balanced samples.\n",
      "N foreground 10539, N  background 0,unable to generate class balanced samples.\n",
      "N foreground 18264, N  background 0,unable to generate class balanced samples.\n",
      "N foreground 14458, N  background 0,unable to generate class balanced samples.\n",
      "N foreground 14199, N  background 0,unable to generate class balanced samples.\n"
     ]
    },
    {
     "name": "stdout",
     "output_type": "stream",
     "text": [
      "current epoch: 39 current mean dice: 0.7948\n",
      "best mean dice: 0.8077at epoch: 38\n",
      "----------\n",
      "epoch 40/150\n"
     ]
    },
    {
     "name": "stderr",
     "output_type": "stream",
     "text": [
      "N foreground 10992, N  background 0,unable to generate class balanced samples.\n",
      "N foreground 15909, N  background 0,unable to generate class balanced samples.\n",
      "N foreground 15184, N  background 0,unable to generate class balanced samples.\n",
      "N foreground 19210, N  background 0,unable to generate class balanced samples.\n",
      "N foreground 16388, N  background 0,unable to generate class balanced samples.\n",
      "N foreground 13138, N  background 0,unable to generate class balanced samples.\n",
      "N foreground 15619, N  background 0,unable to generate class balanced samples.\n",
      "N foreground 16115, N  background 0,unable to generate class balanced samples.\n",
      "N foreground 16682, N  background 0,unable to generate class balanced samples.\n",
      "N foreground 17097, N  background 0,unable to generate class balanced samples.\n",
      "N foreground 13958, N  background 0,unable to generate class balanced samples.\n",
      "N foreground 10474, N  background 0,unable to generate class balanced samples.\n",
      "N foreground 16438, N  background 0,unable to generate class balanced samples.\n",
      "N foreground 22593, N  background 0,unable to generate class balanced samples.\n",
      "N foreground 14230, N  background 0,unable to generate class balanced samples.\n",
      "N foreground 14809, N  background 0,unable to generate class balanced samples.\n",
      "N foreground 13064, N  background 0,unable to generate class balanced samples.\n",
      "N foreground 15838, N  background 0,unable to generate class balanced samples.\n",
      "N foreground 10533, N  background 0,unable to generate class balanced samples.\n",
      "N foreground 14262, N  background 0,unable to generate class balanced samples.\n",
      "N foreground 14317, N  background 0,unable to generate class balanced samples.\n",
      "N foreground 16450, N  background 0,unable to generate class balanced samples.\n",
      "N foreground 12122, N  background 0,unable to generate class balanced samples.\n",
      "N foreground 13809, N  background 0,unable to generate class balanced samples.\n",
      "N foreground 17716, N  background 0,unable to generate class balanced samples.\n",
      "N foreground 8935, N  background 0,unable to generate class balanced samples.\n"
     ]
    },
    {
     "name": "stdout",
     "output_type": "stream",
     "text": [
      "1/13, train_loss: 0.2237\n",
      "2/13, train_loss: 0.2221\n",
      "3/13, train_loss: 0.2134\n",
      "4/13, train_loss: 0.2280\n",
      "5/13, train_loss: 0.2278\n",
      "6/13, train_loss: 0.2215\n",
      "7/13, train_loss: 0.2107\n",
      "8/13, train_loss: 0.2299\n",
      "9/13, train_loss: 0.2198\n",
      "10/13, train_loss: 0.2163\n",
      "11/13, train_loss: 0.1772\n",
      "12/13, train_loss: 0.2163\n",
      "13/13, train_loss: 0.2425\n",
      "epoch 40 average loss: 0.2192\n"
     ]
    },
    {
     "name": "stderr",
     "output_type": "stream",
     "text": [
      "N foreground 14149, N  background 0,unable to generate class balanced samples.\n",
      "N foreground 13981, N  background 0,unable to generate class balanced samples.\n",
      "N foreground 14351, N  background 0,unable to generate class balanced samples.\n",
      "N foreground 13080, N  background 0,unable to generate class balanced samples.\n",
      "N foreground 18264, N  background 0,unable to generate class balanced samples.\n",
      "N foreground 10539, N  background 0,unable to generate class balanced samples.\n",
      "N foreground 16021, N  background 0,unable to generate class balanced samples.\n",
      "N foreground 14458, N  background 0,unable to generate class balanced samples.\n",
      "N foreground 14199, N  background 0,unable to generate class balanced samples.\n"
     ]
    },
    {
     "name": "stdout",
     "output_type": "stream",
     "text": [
      "current epoch: 40 current mean dice: 0.8016\n",
      "best mean dice: 0.8077at epoch: 38\n",
      "----------\n",
      "epoch 41/150\n"
     ]
    },
    {
     "name": "stderr",
     "output_type": "stream",
     "text": [
      "N foreground 13809, N  background 0,unable to generate class balanced samples.\n",
      "N foreground 19210, N  background 0,unable to generate class balanced samples.\n",
      "N foreground 13958, N  background 0,unable to generate class balanced samples.\n",
      "N foreground 16682, N  background 0,unable to generate class balanced samples.\n",
      "N foreground 15184, N  background 0,unable to generate class balanced samples.\n",
      "N foreground 10533, N  background 0,unable to generate class balanced samples.\n",
      "N foreground 10992, N  background 0,unable to generate class balanced samples.\n",
      "N foreground 14317, N  background 0,unable to generate class balanced samples.\n",
      "N foreground 17097, N  background 0,unable to generate class balanced samples.\n",
      "N foreground 10474, N  background 0,unable to generate class balanced samples.\n",
      "N foreground 8935, N  background 0,unable to generate class balanced samples.\n",
      "N foreground 16388, N  background 0,unable to generate class balanced samples.\n",
      "N foreground 13138, N  background 0,unable to generate class balanced samples.\n",
      "N foreground 22593, N  background 0,unable to generate class balanced samples.\n",
      "N foreground 15909, N  background 0,unable to generate class balanced samples.\n",
      "N foreground 16115, N  background 0,unable to generate class balanced samples.\n",
      "N foreground 16438, N  background 0,unable to generate class balanced samples.\n",
      "N foreground 16450, N  background 0,unable to generate class balanced samples.\n",
      "N foreground 15838, N  background 0,unable to generate class balanced samples.\n",
      "N foreground 15619, N  background 0,unable to generate class balanced samples.\n",
      "N foreground 14230, N  background 0,unable to generate class balanced samples.\n",
      "N foreground 12122, N  background 0,unable to generate class balanced samples.\n",
      "N foreground 14809, N  background 0,unable to generate class balanced samples.\n",
      "N foreground 17716, N  background 0,unable to generate class balanced samples.\n",
      "N foreground 13064, N  background 0,unable to generate class balanced samples.\n",
      "N foreground 14262, N  background 0,unable to generate class balanced samples.\n"
     ]
    },
    {
     "name": "stdout",
     "output_type": "stream",
     "text": [
      "1/13, train_loss: 0.2141\n",
      "2/13, train_loss: 0.2206\n",
      "3/13, train_loss: 0.2420\n",
      "4/13, train_loss: 0.2029\n",
      "5/13, train_loss: 0.2503\n",
      "6/13, train_loss: 0.2138\n",
      "7/13, train_loss: 0.2239\n",
      "8/13, train_loss: 0.2222\n",
      "9/13, train_loss: 0.2245\n",
      "10/13, train_loss: 0.1977\n",
      "11/13, train_loss: 0.2098\n",
      "12/13, train_loss: 0.2103\n",
      "13/13, train_loss: 0.2290\n",
      "epoch 41 average loss: 0.2201\n"
     ]
    },
    {
     "name": "stderr",
     "output_type": "stream",
     "text": [
      "N foreground 10539, N  background 0,unable to generate class balanced samples.\n",
      "N foreground 13080, N  background 0,unable to generate class balanced samples.\n",
      "N foreground 18264, N  background 0,unable to generate class balanced samples.\n",
      "N foreground 14351, N  background 0,unable to generate class balanced samples.\n",
      "N foreground 14149, N  background 0,unable to generate class balanced samples.\n",
      "N foreground 13981, N  background 0,unable to generate class balanced samples.\n",
      "N foreground 16021, N  background 0,unable to generate class balanced samples.\n",
      "N foreground 14458, N  background 0,unable to generate class balanced samples.\n",
      "N foreground 14199, N  background 0,unable to generate class balanced samples.\n"
     ]
    },
    {
     "name": "stdout",
     "output_type": "stream",
     "text": [
      "current epoch: 41 current mean dice: 0.8041\n",
      "best mean dice: 0.8077at epoch: 38\n",
      "----------\n",
      "epoch 42/150\n"
     ]
    },
    {
     "name": "stderr",
     "output_type": "stream",
     "text": [
      "N foreground 14262, N  background 0,unable to generate class balanced samples.\n",
      "N foreground 17716, N  background 0,unable to generate class balanced samples.\n",
      "N foreground 14809, N  background 0,unable to generate class balanced samples.\n",
      "N foreground 15184, N  background 0,unable to generate class balanced samples.\n",
      "N foreground 10533, N  background 0,unable to generate class balanced samples.\n",
      "N foreground 13809, N  background 0,unable to generate class balanced samples.\n",
      "N foreground 17097, N  background 0,unable to generate class balanced samples.\n",
      "N foreground 16388, N  background 0,unable to generate class balanced samples.\n",
      "N foreground 22593, N  background 0,unable to generate class balanced samples.\n",
      "N foreground 13138, N  background 0,unable to generate class balanced samples.\n",
      "N foreground 15838, N  background 0,unable to generate class balanced samples.\n",
      "N foreground 16450, N  background 0,unable to generate class balanced samples.\n",
      "N foreground 15619, N  background 0,unable to generate class balanced samples.\n",
      "N foreground 14230, N  background 0,unable to generate class balanced samples.\n",
      "N foreground 16438, N  background 0,unable to generate class balanced samples.\n",
      "N foreground 13064, N  background 0,unable to generate class balanced samples.\n",
      "N foreground 12122, N  background 0,unable to generate class balanced samples.\n",
      "N foreground 15909, N  background 0,unable to generate class balanced samples.\n",
      "N foreground 10992, N  background 0,unable to generate class balanced samples.\n",
      "N foreground 10474, N  background 0,unable to generate class balanced samples.\n",
      "N foreground 13958, N  background 0,unable to generate class balanced samples.\n",
      "N foreground 8935, N  background 0,unable to generate class balanced samples.\n",
      "N foreground 16682, N  background 0,unable to generate class balanced samples.\n",
      "N foreground 14317, N  background 0,unable to generate class balanced samples.\n",
      "N foreground 19210, N  background 0,unable to generate class balanced samples.\n",
      "N foreground 16115, N  background 0,unable to generate class balanced samples.\n"
     ]
    },
    {
     "name": "stdout",
     "output_type": "stream",
     "text": [
      "1/13, train_loss: 0.2057\n",
      "2/13, train_loss: 0.2148\n",
      "3/13, train_loss: 0.2046\n",
      "4/13, train_loss: 0.2477\n",
      "5/13, train_loss: 0.2007\n",
      "6/13, train_loss: 0.2070\n",
      "7/13, train_loss: 0.2163\n",
      "8/13, train_loss: 0.2298\n",
      "9/13, train_loss: 0.2265\n",
      "10/13, train_loss: 0.2246\n",
      "11/13, train_loss: 0.2244\n",
      "12/13, train_loss: 0.2404\n",
      "13/13, train_loss: 0.2368\n",
      "epoch 42 average loss: 0.2215\n"
     ]
    },
    {
     "name": "stderr",
     "output_type": "stream",
     "text": [
      "N foreground 10539, N  background 0,unable to generate class balanced samples.\n",
      "N foreground 14351, N  background 0,unable to generate class balanced samples.\n",
      "N foreground 14458, N  background 0,unable to generate class balanced samples.\n",
      "N foreground 16021, N  background 0,unable to generate class balanced samples.\n",
      "N foreground 18264, N  background 0,unable to generate class balanced samples.\n",
      "N foreground 13080, N  background 0,unable to generate class balanced samples.\n",
      "N foreground 13981, N  background 0,unable to generate class balanced samples.\n",
      "N foreground 14149, N  background 0,unable to generate class balanced samples.\n",
      "N foreground 14199, N  background 0,unable to generate class balanced samples.\n"
     ]
    },
    {
     "name": "stdout",
     "output_type": "stream",
     "text": [
      "current epoch: 42 current mean dice: 0.7891\n",
      "best mean dice: 0.8077at epoch: 38\n",
      "----------\n",
      "epoch 43/150\n"
     ]
    },
    {
     "name": "stderr",
     "output_type": "stream",
     "text": [
      "N foreground 16438, N  background 0,unable to generate class balanced samples.\n",
      "N foreground 17097, N  background 0,unable to generate class balanced samples.\n",
      "N foreground 13064, N  background 0,unable to generate class balanced samples.\n",
      "N foreground 8935, N  background 0,unable to generate class balanced samples.\n",
      "N foreground 16115, N  background 0,unable to generate class balanced samples.\n",
      "N foreground 10992, N  background 0,unable to generate class balanced samples.\n",
      "N foreground 13958, N  background 0,unable to generate class balanced samples.\n",
      "N foreground 19210, N  background 0,unable to generate class balanced samples.\n",
      "N foreground 22593, N  background 0,unable to generate class balanced samples.\n",
      "N foreground 17716, N  background 0,unable to generate class balanced samples.\n",
      "N foreground 13138, N  background 0,unable to generate class balanced samples.\n",
      "N foreground 12122, N  background 0,unable to generate class balanced samples.\n",
      "N foreground 13809, N  background 0,unable to generate class balanced samples.\n",
      "N foreground 14262, N  background 0,unable to generate class balanced samples.\n",
      "N foreground 15909, N  background 0,unable to generate class balanced samples.\n",
      "N foreground 15184, N  background 0,unable to generate class balanced samples.\n",
      "N foreground 14809, N  background 0,unable to generate class balanced samples.\n",
      "N foreground 16388, N  background 0,unable to generate class balanced samples.\n",
      "N foreground 10533, N  background 0,unable to generate class balanced samples.\n",
      "N foreground 10474, N  background 0,unable to generate class balanced samples.\n",
      "N foreground 15838, N  background 0,unable to generate class balanced samples.\n",
      "N foreground 15619, N  background 0,unable to generate class balanced samples.\n",
      "N foreground 14317, N  background 0,unable to generate class balanced samples.\n",
      "N foreground 16682, N  background 0,unable to generate class balanced samples.\n",
      "N foreground 14230, N  background 0,unable to generate class balanced samples.\n",
      "N foreground 16450, N  background 0,unable to generate class balanced samples.\n"
     ]
    },
    {
     "name": "stdout",
     "output_type": "stream",
     "text": [
      "1/13, train_loss: 0.2239\n",
      "2/13, train_loss: 0.2164\n",
      "3/13, train_loss: 0.2204\n",
      "4/13, train_loss: 0.1978\n",
      "5/13, train_loss: 0.2102\n",
      "6/13, train_loss: 0.2374\n",
      "7/13, train_loss: 0.2091\n",
      "8/13, train_loss: 0.2308\n",
      "9/13, train_loss: 0.2247\n",
      "10/13, train_loss: 0.2272\n",
      "11/13, train_loss: 0.2210\n",
      "12/13, train_loss: 0.2170\n",
      "13/13, train_loss: 0.2319\n",
      "epoch 43 average loss: 0.2206\n"
     ]
    },
    {
     "name": "stderr",
     "output_type": "stream",
     "text": [
      "N foreground 13080, N  background 0,unable to generate class balanced samples.\n",
      "N foreground 14149, N  background 0,unable to generate class balanced samples.\n",
      "N foreground 10539, N  background 0,unable to generate class balanced samples.\n",
      "N foreground 13981, N  background 0,unable to generate class balanced samples.\n",
      "N foreground 16021, N  background 0,unable to generate class balanced samples.\n",
      "N foreground 14351, N  background 0,unable to generate class balanced samples.\n",
      "N foreground 18264, N  background 0,unable to generate class balanced samples.\n",
      "N foreground 14458, N  background 0,unable to generate class balanced samples.\n",
      "N foreground 14199, N  background 0,unable to generate class balanced samples.\n"
     ]
    },
    {
     "name": "stdout",
     "output_type": "stream",
     "text": [
      "saved new best metric model\n",
      "current epoch: 43 current mean dice: 0.8122\n",
      "best mean dice: 0.8122at epoch: 43\n",
      "----------\n",
      "epoch 44/150\n"
     ]
    },
    {
     "name": "stderr",
     "output_type": "stream",
     "text": [
      "N foreground 16388, N  background 0,unable to generate class balanced samples.\n",
      "N foreground 8935, N  background 0,unable to generate class balanced samples.\n",
      "N foreground 13064, N  background 0,unable to generate class balanced samples.\n",
      "N foreground 15838, N  background 0,unable to generate class balanced samples.\n",
      "N foreground 12122, N  background 0,unable to generate class balanced samples.\n",
      "N foreground 14809, N  background 0,unable to generate class balanced samples.\n",
      "N foreground 14317, N  background 0,unable to generate class balanced samples.\n",
      "N foreground 15184, N  background 0,unable to generate class balanced samples.\n",
      "N foreground 10992, N  background 0,unable to generate class balanced samples.\n",
      "N foreground 10474, N  background 0,unable to generate class balanced samples.\n",
      "N foreground 19210, N  background 0,unable to generate class balanced samples.\n",
      "N foreground 17716, N  background 0,unable to generate class balanced samples.\n",
      "N foreground 14230, N  background 0,unable to generate class balanced samples.\n",
      "N foreground 15909, N  background 0,unable to generate class balanced samples.\n",
      "N foreground 17097, N  background 0,unable to generate class balanced samples.\n",
      "N foreground 15619, N  background 0,unable to generate class balanced samples.\n",
      "N foreground 16438, N  background 0,unable to generate class balanced samples.\n",
      "N foreground 14262, N  background 0,unable to generate class balanced samples.\n",
      "N foreground 16682, N  background 0,unable to generate class balanced samples.\n",
      "N foreground 10533, N  background 0,unable to generate class balanced samples.\n",
      "N foreground 13809, N  background 0,unable to generate class balanced samples.\n",
      "N foreground 16115, N  background 0,unable to generate class balanced samples.\n",
      "N foreground 13138, N  background 0,unable to generate class balanced samples.\n",
      "N foreground 22593, N  background 0,unable to generate class balanced samples.\n",
      "N foreground 13958, N  background 0,unable to generate class balanced samples.\n",
      "N foreground 16450, N  background 0,unable to generate class balanced samples.\n"
     ]
    },
    {
     "name": "stdout",
     "output_type": "stream",
     "text": [
      "1/13, train_loss: 0.2288\n",
      "2/13, train_loss: 0.2389\n",
      "3/13, train_loss: 0.2306\n",
      "4/13, train_loss: 0.2145\n",
      "5/13, train_loss: 0.1963\n",
      "6/13, train_loss: 0.2313\n",
      "7/13, train_loss: 0.2180\n",
      "8/13, train_loss: 0.2142\n",
      "9/13, train_loss: 0.2043\n",
      "10/13, train_loss: 0.2156\n",
      "11/13, train_loss: 0.2318\n",
      "12/13, train_loss: 0.2085\n",
      "13/13, train_loss: 0.1873\n",
      "epoch 44 average loss: 0.2169\n"
     ]
    },
    {
     "name": "stderr",
     "output_type": "stream",
     "text": [
      "N foreground 18264, N  background 0,unable to generate class balanced samples.\n",
      "N foreground 14149, N  background 0,unable to generate class balanced samples.\n",
      "N foreground 13981, N  background 0,unable to generate class balanced samples.\n",
      "N foreground 10539, N  background 0,unable to generate class balanced samples.\n",
      "N foreground 16021, N  background 0,unable to generate class balanced samples.\n",
      "N foreground 13080, N  background 0,unable to generate class balanced samples.\n",
      "N foreground 14351, N  background 0,unable to generate class balanced samples.\n",
      "N foreground 14458, N  background 0,unable to generate class balanced samples.\n",
      "N foreground 14199, N  background 0,unable to generate class balanced samples.\n"
     ]
    },
    {
     "name": "stdout",
     "output_type": "stream",
     "text": [
      "current epoch: 44 current mean dice: 0.8098\n",
      "best mean dice: 0.8122at epoch: 43\n",
      "----------\n",
      "epoch 45/150\n"
     ]
    },
    {
     "name": "stderr",
     "output_type": "stream",
     "text": [
      "N foreground 15619, N  background 0,unable to generate class balanced samples.\n",
      "N foreground 10474, N  background 0,unable to generate class balanced samples.\n",
      "N foreground 14230, N  background 0,unable to generate class balanced samples.\n",
      "N foreground 13138, N  background 0,unable to generate class balanced samples.\n",
      "N foreground 8935, N  background 0,unable to generate class balanced samples.\n",
      "N foreground 17097, N  background 0,unable to generate class balanced samples.\n",
      "N foreground 16438, N  background 0,unable to generate class balanced samples.\n",
      "N foreground 14262, N  background 0,unable to generate class balanced samples.\n",
      "N foreground 14317, N  background 0,unable to generate class balanced samples.\n",
      "N foreground 16682, N  background 0,unable to generate class balanced samples.\n",
      "N foreground 22593, N  background 0,unable to generate class balanced samples.\n",
      "N foreground 16450, N  background 0,unable to generate class balanced samples.\n",
      "N foreground 16115, N  background 0,unable to generate class balanced samples.\n",
      "N foreground 15838, N  background 0,unable to generate class balanced samples.\n",
      "N foreground 10533, N  background 0,unable to generate class balanced samples.\n",
      "N foreground 19210, N  background 0,unable to generate class balanced samples.\n",
      "N foreground 14809, N  background 0,unable to generate class balanced samples.\n",
      "N foreground 17716, N  background 0,unable to generate class balanced samples.\n",
      "N foreground 13958, N  background 0,unable to generate class balanced samples.\n",
      "N foreground 16388, N  background 0,unable to generate class balanced samples.\n",
      "N foreground 15909, N  background 0,unable to generate class balanced samples.\n",
      "N foreground 13064, N  background 0,unable to generate class balanced samples.\n",
      "N foreground 13809, N  background 0,unable to generate class balanced samples.\n",
      "N foreground 12122, N  background 0,unable to generate class balanced samples.\n",
      "N foreground 10992, N  background 0,unable to generate class balanced samples.\n",
      "N foreground 15184, N  background 0,unable to generate class balanced samples.\n"
     ]
    },
    {
     "name": "stdout",
     "output_type": "stream",
     "text": [
      "1/13, train_loss: 0.2078\n",
      "2/13, train_loss: 0.2313\n",
      "3/13, train_loss: 0.2084\n",
      "4/13, train_loss: 0.2163\n",
      "5/13, train_loss: 0.2100\n",
      "6/13, train_loss: 0.2439\n",
      "7/13, train_loss: 0.2276\n",
      "8/13, train_loss: 0.1945\n",
      "9/13, train_loss: 0.2372\n",
      "10/13, train_loss: 0.2364\n",
      "11/13, train_loss: 0.2165\n",
      "12/13, train_loss: 0.1937\n",
      "13/13, train_loss: 0.2082\n",
      "epoch 45 average loss: 0.2178\n"
     ]
    },
    {
     "name": "stderr",
     "output_type": "stream",
     "text": [
      "N foreground 13080, N  background 0,unable to generate class balanced samples.\n",
      "N foreground 18264, N  background 0,unable to generate class balanced samples.\n",
      "N foreground 14149, N  background 0,unable to generate class balanced samples.\n",
      "N foreground 16021, N  background 0,unable to generate class balanced samples.\n",
      "N foreground 10539, N  background 0,unable to generate class balanced samples.\n",
      "N foreground 14351, N  background 0,unable to generate class balanced samples.\n",
      "N foreground 13981, N  background 0,unable to generate class balanced samples.\n",
      "N foreground 14458, N  background 0,unable to generate class balanced samples.\n",
      "N foreground 14199, N  background 0,unable to generate class balanced samples.\n"
     ]
    },
    {
     "name": "stdout",
     "output_type": "stream",
     "text": [
      "current epoch: 45 current mean dice: 0.8036\n",
      "best mean dice: 0.8122at epoch: 43\n",
      "----------\n",
      "epoch 46/150\n"
     ]
    },
    {
     "name": "stderr",
     "output_type": "stream",
     "text": [
      "N foreground 10474, N  background 0,unable to generate class balanced samples.\n",
      "N foreground 14809, N  background 0,unable to generate class balanced samples.\n",
      "N foreground 17716, N  background 0,unable to generate class balanced samples.\n",
      "N foreground 16682, N  background 0,unable to generate class balanced samples.\n",
      "N foreground 13064, N  background 0,unable to generate class balanced samples.\n",
      "N foreground 15909, N  background 0,unable to generate class balanced samples.\n",
      "N foreground 17097, N  background 0,unable to generate class balanced samples.\n",
      "N foreground 15619, N  background 0,unable to generate class balanced samples.\n",
      "N foreground 14317, N  background 0,unable to generate class balanced samples.\n",
      "N foreground 16438, N  background 0,unable to generate class balanced samples.\n",
      "N foreground 16450, N  background 0,unable to generate class balanced samples.\n",
      "N foreground 16388, N  background 0,unable to generate class balanced samples.\n",
      "N foreground 16115, N  background 0,unable to generate class balanced samples.\n",
      "N foreground 13809, N  background 0,unable to generate class balanced samples.\n",
      "N foreground 10533, N  background 0,unable to generate class balanced samples.\n",
      "N foreground 13958, N  background 0,unable to generate class balanced samples.\n",
      "N foreground 8935, N  background 0,unable to generate class balanced samples.\n",
      "N foreground 12122, N  background 0,unable to generate class balanced samples.\n",
      "N foreground 15184, N  background 0,unable to generate class balanced samples.\n",
      "N foreground 19210, N  background 0,unable to generate class balanced samples.\n",
      "N foreground 14262, N  background 0,unable to generate class balanced samples.\n",
      "N foreground 14230, N  background 0,unable to generate class balanced samples.\n",
      "N foreground 22593, N  background 0,unable to generate class balanced samples.\n",
      "N foreground 13138, N  background 0,unable to generate class balanced samples.\n",
      "N foreground 15838, N  background 0,unable to generate class balanced samples.\n",
      "N foreground 10992, N  background 0,unable to generate class balanced samples.\n"
     ]
    },
    {
     "name": "stdout",
     "output_type": "stream",
     "text": [
      "1/13, train_loss: 0.2074\n",
      "2/13, train_loss: 0.2001\n",
      "3/13, train_loss: 0.2388\n",
      "4/13, train_loss: 0.2112\n",
      "5/13, train_loss: 0.1992\n",
      "6/13, train_loss: 0.2097\n",
      "7/13, train_loss: 0.2174\n",
      "8/13, train_loss: 0.2039\n",
      "9/13, train_loss: 0.2157\n",
      "10/13, train_loss: 0.2260\n",
      "11/13, train_loss: 0.2047\n",
      "12/13, train_loss: 0.2027\n",
      "13/13, train_loss: 0.2264\n",
      "epoch 46 average loss: 0.2126\n"
     ]
    },
    {
     "name": "stderr",
     "output_type": "stream",
     "text": [
      "N foreground 10539, N  background 0,unable to generate class balanced samples.\n",
      "N foreground 14351, N  background 0,unable to generate class balanced samples.\n",
      "N foreground 18264, N  background 0,unable to generate class balanced samples.\n",
      "N foreground 16021, N  background 0,unable to generate class balanced samples.\n",
      "N foreground 13981, N  background 0,unable to generate class balanced samples.\n",
      "N foreground 13080, N  background 0,unable to generate class balanced samples.\n",
      "N foreground 14149, N  background 0,unable to generate class balanced samples.\n",
      "N foreground 14458, N  background 0,unable to generate class balanced samples.\n",
      "N foreground 14199, N  background 0,unable to generate class balanced samples.\n"
     ]
    },
    {
     "name": "stdout",
     "output_type": "stream",
     "text": [
      "current epoch: 46 current mean dice: 0.8039\n",
      "best mean dice: 0.8122at epoch: 43\n",
      "----------\n",
      "epoch 47/150\n"
     ]
    },
    {
     "name": "stderr",
     "output_type": "stream",
     "text": [
      "N foreground 13064, N  background 0,unable to generate class balanced samples.\n",
      "N foreground 12122, N  background 0,unable to generate class balanced samples.\n",
      "N foreground 16115, N  background 0,unable to generate class balanced samples.\n",
      "N foreground 14262, N  background 0,unable to generate class balanced samples.\n",
      "N foreground 13809, N  background 0,unable to generate class balanced samples.\n",
      "N foreground 13138, N  background 0,unable to generate class balanced samples.\n",
      "N foreground 22593, N  background 0,unable to generate class balanced samples.\n",
      "N foreground 15184, N  background 0,unable to generate class balanced samples.\n",
      "N foreground 15838, N  background 0,unable to generate class balanced samples.\n",
      "N foreground 16450, N  background 0,unable to generate class balanced samples.\n",
      "N foreground 16438, N  background 0,unable to generate class balanced samples.\n",
      "N foreground 14230, N  background 0,unable to generate class balanced samples.\n",
      "N foreground 17097, N  background 0,unable to generate class balanced samples.\n",
      "N foreground 10474, N  background 0,unable to generate class balanced samples.\n",
      "N foreground 14809, N  background 0,unable to generate class balanced samples.\n",
      "N foreground 15619, N  background 0,unable to generate class balanced samples.\n",
      "N foreground 16682, N  background 0,unable to generate class balanced samples.\n",
      "N foreground 14317, N  background 0,unable to generate class balanced samples.\n",
      "N foreground 10992, N  background 0,unable to generate class balanced samples.\n",
      "N foreground 17716, N  background 0,unable to generate class balanced samples.\n",
      "N foreground 10533, N  background 0,unable to generate class balanced samples.\n",
      "N foreground 19210, N  background 0,unable to generate class balanced samples.\n",
      "N foreground 16388, N  background 0,unable to generate class balanced samples.\n",
      "N foreground 13958, N  background 0,unable to generate class balanced samples.\n",
      "N foreground 8935, N  background 0,unable to generate class balanced samples.\n",
      "N foreground 15909, N  background 0,unable to generate class balanced samples.\n"
     ]
    },
    {
     "name": "stdout",
     "output_type": "stream",
     "text": [
      "1/13, train_loss: 0.2237\n",
      "2/13, train_loss: 0.2131\n",
      "3/13, train_loss: 0.2174\n",
      "4/13, train_loss: 0.1950\n",
      "5/13, train_loss: 0.2166\n",
      "6/13, train_loss: 0.2050\n",
      "7/13, train_loss: 0.2111\n",
      "8/13, train_loss: 0.2118\n",
      "9/13, train_loss: 0.2152\n",
      "10/13, train_loss: 0.2193\n",
      "11/13, train_loss: 0.2153\n",
      "12/13, train_loss: 0.2194\n",
      "13/13, train_loss: 0.2151\n",
      "epoch 47 average loss: 0.2137\n"
     ]
    },
    {
     "name": "stderr",
     "output_type": "stream",
     "text": [
      "N foreground 14149, N  background 0,unable to generate class balanced samples.\n",
      "N foreground 13981, N  background 0,unable to generate class balanced samples.\n",
      "N foreground 18264, N  background 0,unable to generate class balanced samples.\n",
      "N foreground 14351, N  background 0,unable to generate class balanced samples.\n",
      "N foreground 10539, N  background 0,unable to generate class balanced samples.\n",
      "N foreground 13080, N  background 0,unable to generate class balanced samples.\n",
      "N foreground 16021, N  background 0,unable to generate class balanced samples.\n",
      "N foreground 14458, N  background 0,unable to generate class balanced samples.\n",
      "N foreground 14199, N  background 0,unable to generate class balanced samples.\n"
     ]
    },
    {
     "name": "stdout",
     "output_type": "stream",
     "text": [
      "current epoch: 47 current mean dice: 0.8108\n",
      "best mean dice: 0.8122at epoch: 43\n",
      "----------\n",
      "epoch 48/150\n"
     ]
    },
    {
     "name": "stderr",
     "output_type": "stream",
     "text": [
      "N foreground 12122, N  background 0,unable to generate class balanced samples.\n",
      "N foreground 13958, N  background 0,unable to generate class balanced samples.\n",
      "N foreground 15619, N  background 0,unable to generate class balanced samples.\n",
      "N foreground 14262, N  background 0,unable to generate class balanced samples.\n",
      "N foreground 8935, N  background 0,unable to generate class balanced samples.\n",
      "N foreground 17716, N  background 0,unable to generate class balanced samples.\n",
      "N foreground 15184, N  background 0,unable to generate class balanced samples.\n",
      "N foreground 14230, N  background 0,unable to generate class balanced samples.\n",
      "N foreground 19210, N  background 0,unable to generate class balanced samples.\n",
      "N foreground 14317, N  background 0,unable to generate class balanced samples.\n",
      "N foreground 13138, N  background 0,unable to generate class balanced samples.\n",
      "N foreground 16438, N  background 0,unable to generate class balanced samples.\n",
      "N foreground 16450, N  background 0,unable to generate class balanced samples.\n",
      "N foreground 10533, N  background 0,unable to generate class balanced samples.\n",
      "N foreground 10474, N  background 0,unable to generate class balanced samples.\n",
      "N foreground 13809, N  background 0,unable to generate class balanced samples.\n",
      "N foreground 16115, N  background 0,unable to generate class balanced samples.\n",
      "N foreground 17097, N  background 0,unable to generate class balanced samples.\n",
      "N foreground 15838, N  background 0,unable to generate class balanced samples.\n",
      "N foreground 22593, N  background 0,unable to generate class balanced samples.\n",
      "N foreground 13064, N  background 0,unable to generate class balanced samples.\n",
      "N foreground 15909, N  background 0,unable to generate class balanced samples.\n",
      "N foreground 10992, N  background 0,unable to generate class balanced samples.\n",
      "N foreground 14809, N  background 0,unable to generate class balanced samples.\n",
      "N foreground 16682, N  background 0,unable to generate class balanced samples.\n",
      "N foreground 16388, N  background 0,unable to generate class balanced samples.\n"
     ]
    },
    {
     "name": "stdout",
     "output_type": "stream",
     "text": [
      "1/13, train_loss: 0.2278\n",
      "2/13, train_loss: 0.1901\n",
      "3/13, train_loss: 0.2141\n",
      "4/13, train_loss: 0.2072\n",
      "5/13, train_loss: 0.2311\n",
      "6/13, train_loss: 0.2223\n",
      "7/13, train_loss: 0.1871\n",
      "8/13, train_loss: 0.2042\n",
      "9/13, train_loss: 0.1935\n",
      "10/13, train_loss: 0.2107\n",
      "11/13, train_loss: 0.2242\n",
      "12/13, train_loss: 0.2117\n",
      "13/13, train_loss: 0.2081\n",
      "epoch 48 average loss: 0.2102\n"
     ]
    },
    {
     "name": "stderr",
     "output_type": "stream",
     "text": [
      "N foreground 14351, N  background 0,unable to generate class balanced samples.\n",
      "N foreground 10539, N  background 0,unable to generate class balanced samples.\n",
      "N foreground 13080, N  background 0,unable to generate class balanced samples.\n",
      "N foreground 14458, N  background 0,unable to generate class balanced samples.\n",
      "N foreground 14149, N  background 0,unable to generate class balanced samples.\n",
      "N foreground 13981, N  background 0,unable to generate class balanced samples.\n",
      "N foreground 18264, N  background 0,unable to generate class balanced samples.\n",
      "N foreground 16021, N  background 0,unable to generate class balanced samples.\n",
      "N foreground 14199, N  background 0,unable to generate class balanced samples.\n"
     ]
    },
    {
     "name": "stdout",
     "output_type": "stream",
     "text": [
      "current epoch: 48 current mean dice: 0.8087\n",
      "best mean dice: 0.8122at epoch: 43\n",
      "----------\n",
      "epoch 49/150\n"
     ]
    },
    {
     "name": "stderr",
     "output_type": "stream",
     "text": [
      "N foreground 16682, N  background 0,unable to generate class balanced samples.\n",
      "N foreground 14230, N  background 0,unable to generate class balanced samples.\n",
      "N foreground 16450, N  background 0,unable to generate class balanced samples.\n",
      "N foreground 17716, N  background 0,unable to generate class balanced samples.\n",
      "N foreground 15909, N  background 0,unable to generate class balanced samples.\n",
      "N foreground 14317, N  background 0,unable to generate class balanced samples.\n",
      "N foreground 10992, N  background 0,unable to generate class balanced samples.\n",
      "N foreground 8935, N  background 0,unable to generate class balanced samples.\n",
      "N foreground 13809, N  background 0,unable to generate class balanced samples.\n",
      "N foreground 12122, N  background 0,unable to generate class balanced samples.\n",
      "N foreground 15184, N  background 0,unable to generate class balanced samples.\n",
      "N foreground 14262, N  background 0,unable to generate class balanced samples.\n",
      "N foreground 16115, N  background 0,unable to generate class balanced samples.\n",
      "N foreground 10533, N  background 0,unable to generate class balanced samples.\n",
      "N foreground 16388, N  background 0,unable to generate class balanced samples.\n",
      "N foreground 19210, N  background 0,unable to generate class balanced samples.\n",
      "N foreground 15838, N  background 0,unable to generate class balanced samples.\n",
      "N foreground 13138, N  background 0,unable to generate class balanced samples.\n",
      "N foreground 13064, N  background 0,unable to generate class balanced samples.\n",
      "N foreground 22593, N  background 0,unable to generate class balanced samples.\n",
      "N foreground 16438, N  background 0,unable to generate class balanced samples.\n",
      "N foreground 14809, N  background 0,unable to generate class balanced samples.\n",
      "N foreground 15619, N  background 0,unable to generate class balanced samples.\n",
      "N foreground 10474, N  background 0,unable to generate class balanced samples.\n",
      "N foreground 13958, N  background 0,unable to generate class balanced samples.\n",
      "N foreground 17097, N  background 0,unable to generate class balanced samples.\n"
     ]
    },
    {
     "name": "stdout",
     "output_type": "stream",
     "text": [
      "1/13, train_loss: 0.2138\n",
      "2/13, train_loss: 0.1998\n",
      "3/13, train_loss: 0.1761\n",
      "4/13, train_loss: 0.2115\n",
      "5/13, train_loss: 0.1992\n",
      "6/13, train_loss: 0.2107\n",
      "7/13, train_loss: 0.1984\n",
      "8/13, train_loss: 0.2266\n",
      "9/13, train_loss: 0.2093\n",
      "10/13, train_loss: 0.2249\n",
      "11/13, train_loss: 0.2301\n",
      "12/13, train_loss: 0.2018\n",
      "13/13, train_loss: 0.1994\n",
      "epoch 49 average loss: 0.2078\n"
     ]
    },
    {
     "name": "stderr",
     "output_type": "stream",
     "text": [
      "N foreground 13981, N  background 0,unable to generate class balanced samples.\n",
      "N foreground 16021, N  background 0,unable to generate class balanced samples.\n",
      "N foreground 14149, N  background 0,unable to generate class balanced samples.\n",
      "N foreground 14351, N  background 0,unable to generate class balanced samples.\n",
      "N foreground 18264, N  background 0,unable to generate class balanced samples.\n",
      "N foreground 13080, N  background 0,unable to generate class balanced samples.\n",
      "N foreground 10539, N  background 0,unable to generate class balanced samples.\n",
      "N foreground 14458, N  background 0,unable to generate class balanced samples.\n",
      "N foreground 14199, N  background 0,unable to generate class balanced samples.\n"
     ]
    },
    {
     "name": "stdout",
     "output_type": "stream",
     "text": [
      "saved new best metric model\n",
      "current epoch: 49 current mean dice: 0.8226\n",
      "best mean dice: 0.8226at epoch: 49\n",
      "----------\n",
      "epoch 50/150\n"
     ]
    },
    {
     "name": "stderr",
     "output_type": "stream",
     "text": [
      "N foreground 14317, N  background 0,unable to generate class balanced samples.\n",
      "N foreground 22593, N  background 0,unable to generate class balanced samples.\n",
      "N foreground 12122, N  background 0,unable to generate class balanced samples.\n",
      "N foreground 16438, N  background 0,unable to generate class balanced samples.\n",
      "N foreground 10992, N  background 0,unable to generate class balanced samples.\n",
      "N foreground 14230, N  background 0,unable to generate class balanced samples.\n",
      "N foreground 15619, N  background 0,unable to generate class balanced samples.\n",
      "N foreground 19210, N  background 0,unable to generate class balanced samples.\n",
      "N foreground 17097, N  background 0,unable to generate class balanced samples.\n",
      "N foreground 16682, N  background 0,unable to generate class balanced samples.\n",
      "N foreground 13138, N  background 0,unable to generate class balanced samples.\n",
      "N foreground 10474, N  background 0,unable to generate class balanced samples.\n",
      "N foreground 15909, N  background 0,unable to generate class balanced samples.\n",
      "N foreground 8935, N  background 0,unable to generate class balanced samples.\n",
      "N foreground 13064, N  background 0,unable to generate class balanced samples.\n",
      "N foreground 15184, N  background 0,unable to generate class balanced samples.\n",
      "N foreground 17716, N  background 0,unable to generate class balanced samples.\n",
      "N foreground 15838, N  background 0,unable to generate class balanced samples.\n",
      "N foreground 16388, N  background 0,unable to generate class balanced samples.\n",
      "N foreground 14809, N  background 0,unable to generate class balanced samples.\n",
      "N foreground 10533, N  background 0,unable to generate class balanced samples.\n",
      "N foreground 16115, N  background 0,unable to generate class balanced samples.\n",
      "N foreground 13958, N  background 0,unable to generate class balanced samples.\n",
      "N foreground 16450, N  background 0,unable to generate class balanced samples.\n",
      "N foreground 13809, N  background 0,unable to generate class balanced samples.\n",
      "N foreground 14262, N  background 0,unable to generate class balanced samples.\n"
     ]
    },
    {
     "name": "stdout",
     "output_type": "stream",
     "text": [
      "1/13, train_loss: 0.1966\n",
      "2/13, train_loss: 0.2101\n",
      "3/13, train_loss: 0.2048\n",
      "4/13, train_loss: 0.2027\n",
      "5/13, train_loss: 0.2069\n",
      "6/13, train_loss: 0.2086\n",
      "7/13, train_loss: 0.2326\n",
      "8/13, train_loss: 0.2277\n",
      "9/13, train_loss: 0.1893\n",
      "10/13, train_loss: 0.1847\n",
      "11/13, train_loss: 0.1955\n",
      "12/13, train_loss: 0.2255\n",
      "13/13, train_loss: 0.2202\n",
      "epoch 50 average loss: 0.2081\n"
     ]
    },
    {
     "name": "stderr",
     "output_type": "stream",
     "text": [
      "N foreground 16021, N  background 0,unable to generate class balanced samples.\n",
      "N foreground 14351, N  background 0,unable to generate class balanced samples.\n",
      "N foreground 18264, N  background 0,unable to generate class balanced samples.\n",
      "N foreground 14149, N  background 0,unable to generate class balanced samples.\n",
      "N foreground 13981, N  background 0,unable to generate class balanced samples.\n",
      "N foreground 10539, N  background 0,unable to generate class balanced samples.\n",
      "N foreground 13080, N  background 0,unable to generate class balanced samples.\n",
      "N foreground 14458, N  background 0,unable to generate class balanced samples.\n",
      "N foreground 14199, N  background 0,unable to generate class balanced samples.\n"
     ]
    },
    {
     "name": "stdout",
     "output_type": "stream",
     "text": [
      "current epoch: 50 current mean dice: 0.8042\n",
      "best mean dice: 0.8226at epoch: 49\n",
      "----------\n",
      "epoch 51/150\n"
     ]
    },
    {
     "name": "stderr",
     "output_type": "stream",
     "text": [
      "N foreground 19210, N  background 0,unable to generate class balanced samples.\n",
      "N foreground 16438, N  background 0,unable to generate class balanced samples.\n",
      "N foreground 22593, N  background 0,unable to generate class balanced samples.\n",
      "N foreground 15184, N  background 0,unable to generate class balanced samples.\n",
      "N foreground 10533, N  background 0,unable to generate class balanced samples.\n",
      "N foreground 13064, N  background 0,unable to generate class balanced samples.\n",
      "N foreground 16115, N  background 0,unable to generate class balanced samples.\n",
      "N foreground 17097, N  background 0,unable to generate class balanced samples.\n",
      "N foreground 14262, N  background 0,unable to generate class balanced samples.\n",
      "N foreground 16682, N  background 0,unable to generate class balanced samples.\n",
      "N foreground 15909, N  background 0,unable to generate class balanced samples.\n",
      "N foreground 14317, N  background 0,unable to generate class balanced samples.\n",
      "N foreground 13138, N  background 0,unable to generate class balanced samples.\n",
      "N foreground 10992, N  background 0,unable to generate class balanced samples.\n",
      "N foreground 15619, N  background 0,unable to generate class balanced samples.\n",
      "N foreground 17716, N  background 0,unable to generate class balanced samples.\n",
      "N foreground 12122, N  background 0,unable to generate class balanced samples.\n",
      "N foreground 8935, N  background 0,unable to generate class balanced samples.\n",
      "N foreground 15838, N  background 0,unable to generate class balanced samples.\n",
      "N foreground 16450, N  background 0,unable to generate class balanced samples.\n",
      "N foreground 16388, N  background 0,unable to generate class balanced samples.\n",
      "N foreground 13958, N  background 0,unable to generate class balanced samples.\n",
      "N foreground 13809, N  background 0,unable to generate class balanced samples.\n",
      "N foreground 10474, N  background 0,unable to generate class balanced samples.\n",
      "N foreground 14809, N  background 0,unable to generate class balanced samples.\n",
      "N foreground 14230, N  background 0,unable to generate class balanced samples.\n"
     ]
    },
    {
     "name": "stdout",
     "output_type": "stream",
     "text": [
      "1/13, train_loss: 0.2143\n",
      "2/13, train_loss: 0.2107\n",
      "3/13, train_loss: 0.2244\n",
      "4/13, train_loss: 0.1860\n",
      "5/13, train_loss: 0.1990\n",
      "6/13, train_loss: 0.2140\n",
      "7/13, train_loss: 0.2073\n",
      "8/13, train_loss: 0.1837\n",
      "9/13, train_loss: 0.2233\n",
      "10/13, train_loss: 0.2023\n",
      "11/13, train_loss: 0.2157\n",
      "12/13, train_loss: 0.2241\n",
      "13/13, train_loss: 0.2192\n",
      "epoch 51 average loss: 0.2095\n"
     ]
    },
    {
     "name": "stderr",
     "output_type": "stream",
     "text": [
      "N foreground 14351, N  background 0,unable to generate class balanced samples.\n",
      "N foreground 14149, N  background 0,unable to generate class balanced samples.\n",
      "N foreground 13981, N  background 0,unable to generate class balanced samples.\n",
      "N foreground 10539, N  background 0,unable to generate class balanced samples.\n",
      "N foreground 18264, N  background 0,unable to generate class balanced samples.\n",
      "N foreground 13080, N  background 0,unable to generate class balanced samples.\n",
      "N foreground 16021, N  background 0,unable to generate class balanced samples.\n",
      "N foreground 14458, N  background 0,unable to generate class balanced samples.\n",
      "N foreground 14199, N  background 0,unable to generate class balanced samples.\n"
     ]
    },
    {
     "name": "stdout",
     "output_type": "stream",
     "text": [
      "current epoch: 51 current mean dice: 0.8095\n",
      "best mean dice: 0.8226at epoch: 49\n",
      "----------\n",
      "epoch 52/150\n"
     ]
    },
    {
     "name": "stderr",
     "output_type": "stream",
     "text": [
      "N foreground 13809, N  background 0,unable to generate class balanced samples.\n",
      "N foreground 13958, N  background 0,unable to generate class balanced samples.\n",
      "N foreground 15619, N  background 0,unable to generate class balanced samples.\n",
      "N foreground 15909, N  background 0,unable to generate class balanced samples.\n",
      "N foreground 10474, N  background 0,unable to generate class balanced samples.\n",
      "N foreground 16388, N  background 0,unable to generate class balanced samples.\n",
      "N foreground 19210, N  background 0,unable to generate class balanced samples.\n",
      "N foreground 14809, N  background 0,unable to generate class balanced samples.\n",
      "N foreground 15838, N  background 0,unable to generate class balanced samples.\n",
      "N foreground 16682, N  background 0,unable to generate class balanced samples.\n",
      "N foreground 14317, N  background 0,unable to generate class balanced samples.\n",
      "N foreground 14230, N  background 0,unable to generate class balanced samples.\n",
      "N foreground 14262, N  background 0,unable to generate class balanced samples.\n",
      "N foreground 15184, N  background 0,unable to generate class balanced samples.\n",
      "N foreground 10992, N  background 0,unable to generate class balanced samples.\n",
      "N foreground 22593, N  background 0,unable to generate class balanced samples.\n",
      "N foreground 17097, N  background 0,unable to generate class balanced samples.\n",
      "N foreground 13064, N  background 0,unable to generate class balanced samples.\n",
      "N foreground 17716, N  background 0,unable to generate class balanced samples.\n",
      "N foreground 8935, N  background 0,unable to generate class balanced samples.\n",
      "N foreground 16450, N  background 0,unable to generate class balanced samples.\n",
      "N foreground 16438, N  background 0,unable to generate class balanced samples.\n",
      "N foreground 16115, N  background 0,unable to generate class balanced samples.\n",
      "N foreground 10533, N  background 0,unable to generate class balanced samples.\n",
      "N foreground 12122, N  background 0,unable to generate class balanced samples.\n",
      "N foreground 13138, N  background 0,unable to generate class balanced samples.\n"
     ]
    },
    {
     "name": "stdout",
     "output_type": "stream",
     "text": [
      "1/13, train_loss: 0.2134\n",
      "2/13, train_loss: 0.2056\n",
      "3/13, train_loss: 0.2153\n",
      "4/13, train_loss: 0.1891\n",
      "5/13, train_loss: 0.2197\n",
      "6/13, train_loss: 0.2145\n",
      "7/13, train_loss: 0.1977\n",
      "8/13, train_loss: 0.2010\n",
      "9/13, train_loss: 0.1973\n",
      "10/13, train_loss: 0.1916\n",
      "11/13, train_loss: 0.1984\n",
      "12/13, train_loss: 0.2028\n",
      "13/13, train_loss: 0.2407\n",
      "epoch 52 average loss: 0.2067\n"
     ]
    },
    {
     "name": "stderr",
     "output_type": "stream",
     "text": [
      "N foreground 14351, N  background 0,unable to generate class balanced samples.\n",
      "N foreground 16021, N  background 0,unable to generate class balanced samples.\n",
      "N foreground 13080, N  background 0,unable to generate class balanced samples.\n",
      "N foreground 13981, N  background 0,unable to generate class balanced samples.\n",
      "N foreground 10539, N  background 0,unable to generate class balanced samples.\n",
      "N foreground 14458, N  background 0,unable to generate class balanced samples.\n",
      "N foreground 14149, N  background 0,unable to generate class balanced samples.\n",
      "N foreground 18264, N  background 0,unable to generate class balanced samples.\n",
      "N foreground 14199, N  background 0,unable to generate class balanced samples.\n"
     ]
    },
    {
     "name": "stdout",
     "output_type": "stream",
     "text": [
      "current epoch: 52 current mean dice: 0.8139\n",
      "best mean dice: 0.8226at epoch: 49\n",
      "----------\n",
      "epoch 53/150\n"
     ]
    },
    {
     "name": "stderr",
     "output_type": "stream",
     "text": [
      "N foreground 13958, N  background 0,unable to generate class balanced samples.\n",
      "N foreground 16388, N  background 0,unable to generate class balanced samples.\n",
      "N foreground 15619, N  background 0,unable to generate class balanced samples.\n",
      "N foreground 14230, N  background 0,unable to generate class balanced samples.\n",
      "N foreground 13138, N  background 0,unable to generate class balanced samples.\n",
      "N foreground 22593, N  background 0,unable to generate class balanced samples.\n",
      "N foreground 14809, N  background 0,unable to generate class balanced samples.\n",
      "N foreground 17716, N  background 0,unable to generate class balanced samples.\n",
      "N foreground 15838, N  background 0,unable to generate class balanced samples.\n",
      "N foreground 15184, N  background 0,unable to generate class balanced samples.\n",
      "N foreground 15909, N  background 0,unable to generate class balanced samples.\n",
      "N foreground 14262, N  background 0,unable to generate class balanced samples.\n",
      "N foreground 17097, N  background 0,unable to generate class balanced samples.\n",
      "N foreground 16682, N  background 0,unable to generate class balanced samples.\n",
      "N foreground 13064, N  background 0,unable to generate class balanced samples.\n",
      "N foreground 16438, N  background 0,unable to generate class balanced samples.\n",
      "N foreground 10992, N  background 0,unable to generate class balanced samples.\n",
      "N foreground 12122, N  background 0,unable to generate class balanced samples.\n",
      "N foreground 10533, N  background 0,unable to generate class balanced samples.\n",
      "N foreground 19210, N  background 0,unable to generate class balanced samples.\n",
      "N foreground 10474, N  background 0,unable to generate class balanced samples.\n",
      "N foreground 16115, N  background 0,unable to generate class balanced samples.\n",
      "N foreground 8935, N  background 0,unable to generate class balanced samples.\n",
      "N foreground 14317, N  background 0,unable to generate class balanced samples.\n",
      "N foreground 16450, N  background 0,unable to generate class balanced samples.\n",
      "N foreground 13809, N  background 0,unable to generate class balanced samples.\n"
     ]
    },
    {
     "name": "stdout",
     "output_type": "stream",
     "text": [
      "1/13, train_loss: 0.2182\n",
      "2/13, train_loss: 0.1999\n",
      "3/13, train_loss: 0.1978\n",
      "4/13, train_loss: 0.2131\n",
      "5/13, train_loss: 0.1991\n",
      "6/13, train_loss: 0.2060\n",
      "7/13, train_loss: 0.2045\n",
      "8/13, train_loss: 0.1943\n",
      "9/13, train_loss: 0.2133\n",
      "10/13, train_loss: 0.2280\n",
      "11/13, train_loss: 0.2073\n",
      "12/13, train_loss: 0.2209\n",
      "13/13, train_loss: 0.2251\n",
      "epoch 53 average loss: 0.2098\n"
     ]
    },
    {
     "name": "stderr",
     "output_type": "stream",
     "text": [
      "N foreground 13981, N  background 0,unable to generate class balanced samples.\n",
      "N foreground 14351, N  background 0,unable to generate class balanced samples.\n",
      "N foreground 13080, N  background 0,unable to generate class balanced samples.\n",
      "N foreground 10539, N  background 0,unable to generate class balanced samples.\n",
      "N foreground 16021, N  background 0,unable to generate class balanced samples.\n",
      "N foreground 14149, N  background 0,unable to generate class balanced samples.\n",
      "N foreground 18264, N  background 0,unable to generate class balanced samples.\n",
      "N foreground 14458, N  background 0,unable to generate class balanced samples.\n",
      "N foreground 14199, N  background 0,unable to generate class balanced samples.\n"
     ]
    },
    {
     "name": "stdout",
     "output_type": "stream",
     "text": [
      "current epoch: 53 current mean dice: 0.8112\n",
      "best mean dice: 0.8226at epoch: 49\n",
      "----------\n",
      "epoch 54/150\n"
     ]
    },
    {
     "name": "stderr",
     "output_type": "stream",
     "text": [
      "N foreground 16438, N  background 0,unable to generate class balanced samples.\n",
      "N foreground 14317, N  background 0,unable to generate class balanced samples.\n",
      "N foreground 13809, N  background 0,unable to generate class balanced samples.\n",
      "N foreground 22593, N  background 0,unable to generate class balanced samples.\n",
      "N foreground 14262, N  background 0,unable to generate class balanced samples.\n",
      "N foreground 15184, N  background 0,unable to generate class balanced samples.\n",
      "N foreground 14809, N  background 0,unable to generate class balanced samples.\n",
      "N foreground 13958, N  background 0,unable to generate class balanced samples.\n",
      "N foreground 19210, N  background 0,unable to generate class balanced samples.\n",
      "N foreground 17097, N  background 0,unable to generate class balanced samples.\n",
      "N foreground 16450, N  background 0,unable to generate class balanced samples.\n",
      "N foreground 15838, N  background 0,unable to generate class balanced samples.\n",
      "N foreground 13064, N  background 0,unable to generate class balanced samples.\n",
      "N foreground 10474, N  background 0,unable to generate class balanced samples.\n",
      "N foreground 13138, N  background 0,unable to generate class balanced samples.\n",
      "N foreground 17716, N  background 0,unable to generate class balanced samples.\n",
      "N foreground 16388, N  background 0,unable to generate class balanced samples.\n",
      "N foreground 16682, N  background 0,unable to generate class balanced samples.\n",
      "N foreground 14230, N  background 0,unable to generate class balanced samples.\n",
      "N foreground 15619, N  background 0,unable to generate class balanced samples.\n",
      "N foreground 10533, N  background 0,unable to generate class balanced samples.\n",
      "N foreground 8935, N  background 0,unable to generate class balanced samples.\n",
      "N foreground 12122, N  background 0,unable to generate class balanced samples.\n",
      "N foreground 15909, N  background 0,unable to generate class balanced samples.\n",
      "N foreground 16115, N  background 0,unable to generate class balanced samples.\n",
      "N foreground 10992, N  background 0,unable to generate class balanced samples.\n"
     ]
    },
    {
     "name": "stdout",
     "output_type": "stream",
     "text": [
      "1/13, train_loss: 0.1853\n",
      "2/13, train_loss: 0.1718\n",
      "3/13, train_loss: 0.2100\n",
      "4/13, train_loss: 0.1860\n",
      "5/13, train_loss: 0.1942\n",
      "6/13, train_loss: 0.2021\n",
      "7/13, train_loss: 0.2474\n",
      "8/13, train_loss: 0.2306\n",
      "9/13, train_loss: 0.2078\n",
      "10/13, train_loss: 0.1973\n",
      "11/13, train_loss: 0.2142\n",
      "12/13, train_loss: 0.2136\n",
      "13/13, train_loss: 0.2097\n",
      "epoch 54 average loss: 0.2054\n"
     ]
    },
    {
     "name": "stderr",
     "output_type": "stream",
     "text": [
      "N foreground 14351, N  background 0,unable to generate class balanced samples.\n",
      "N foreground 18264, N  background 0,unable to generate class balanced samples.\n",
      "N foreground 10539, N  background 0,unable to generate class balanced samples.\n",
      "N foreground 16021, N  background 0,unable to generate class balanced samples.\n",
      "N foreground 13080, N  background 0,unable to generate class balanced samples.\n",
      "N foreground 13981, N  background 0,unable to generate class balanced samples.\n",
      "N foreground 14149, N  background 0,unable to generate class balanced samples.\n",
      "N foreground 14458, N  background 0,unable to generate class balanced samples.\n",
      "N foreground 14199, N  background 0,unable to generate class balanced samples.\n"
     ]
    },
    {
     "name": "stdout",
     "output_type": "stream",
     "text": [
      "current epoch: 54 current mean dice: 0.8121\n",
      "best mean dice: 0.8226at epoch: 49\n",
      "----------\n",
      "epoch 55/150\n"
     ]
    },
    {
     "name": "stderr",
     "output_type": "stream",
     "text": [
      "N foreground 17716, N  background 0,unable to generate class balanced samples.\n",
      "N foreground 15909, N  background 0,unable to generate class balanced samples.\n",
      "N foreground 13138, N  background 0,unable to generate class balanced samples.\n",
      "N foreground 17097, N  background 0,unable to generate class balanced samples.\n",
      "N foreground 16115, N  background 0,unable to generate class balanced samples.\n",
      "N foreground 13958, N  background 0,unable to generate class balanced samples.\n",
      "N foreground 19210, N  background 0,unable to generate class balanced samples.\n",
      "N foreground 16682, N  background 0,unable to generate class balanced samples.\n",
      "N foreground 8935, N  background 0,unable to generate class balanced samples.\n",
      "N foreground 15184, N  background 0,unable to generate class balanced samples.\n",
      "N foreground 10474, N  background 0,unable to generate class balanced samples.\n",
      "N foreground 12122, N  background 0,unable to generate class balanced samples.\n",
      "N foreground 10992, N  background 0,unable to generate class balanced samples.\n",
      "N foreground 10533, N  background 0,unable to generate class balanced samples.\n",
      "N foreground 14317, N  background 0,unable to generate class balanced samples.\n",
      "N foreground 14809, N  background 0,unable to generate class balanced samples.\n",
      "N foreground 16438, N  background 0,unable to generate class balanced samples.\n",
      "N foreground 13809, N  background 0,unable to generate class balanced samples.\n",
      "N foreground 13064, N  background 0,unable to generate class balanced samples.\n",
      "N foreground 22593, N  background 0,unable to generate class balanced samples.\n",
      "N foreground 14262, N  background 0,unable to generate class balanced samples.\n",
      "N foreground 15838, N  background 0,unable to generate class balanced samples.\n",
      "N foreground 16388, N  background 0,unable to generate class balanced samples.\n",
      "N foreground 16450, N  background 0,unable to generate class balanced samples.\n",
      "N foreground 14230, N  background 0,unable to generate class balanced samples.\n",
      "N foreground 15619, N  background 0,unable to generate class balanced samples.\n"
     ]
    },
    {
     "name": "stdout",
     "output_type": "stream",
     "text": [
      "1/13, train_loss: 0.2004\n",
      "2/13, train_loss: 0.2098\n",
      "3/13, train_loss: 0.2177\n",
      "4/13, train_loss: 0.2040\n",
      "5/13, train_loss: 0.2012\n",
      "6/13, train_loss: 0.2322\n",
      "7/13, train_loss: 0.2085\n",
      "8/13, train_loss: 0.2214\n",
      "9/13, train_loss: 0.2094\n",
      "10/13, train_loss: 0.1961\n",
      "11/13, train_loss: 0.2052\n",
      "12/13, train_loss: 0.1925\n",
      "13/13, train_loss: 0.1790\n",
      "epoch 55 average loss: 0.2059\n"
     ]
    },
    {
     "name": "stderr",
     "output_type": "stream",
     "text": [
      "N foreground 16021, N  background 0,unable to generate class balanced samples.\n",
      "N foreground 13080, N  background 0,unable to generate class balanced samples.\n",
      "N foreground 10539, N  background 0,unable to generate class balanced samples.\n",
      "N foreground 18264, N  background 0,unable to generate class balanced samples.\n",
      "N foreground 14351, N  background 0,unable to generate class balanced samples.\n",
      "N foreground 14149, N  background 0,unable to generate class balanced samples.\n",
      "N foreground 13981, N  background 0,unable to generate class balanced samples.\n",
      "N foreground 14458, N  background 0,unable to generate class balanced samples.\n",
      "N foreground 14199, N  background 0,unable to generate class balanced samples.\n"
     ]
    },
    {
     "name": "stdout",
     "output_type": "stream",
     "text": [
      "current epoch: 55 current mean dice: 0.8149\n",
      "best mean dice: 0.8226at epoch: 49\n",
      "----------\n",
      "epoch 56/150\n"
     ]
    },
    {
     "name": "stderr",
     "output_type": "stream",
     "text": [
      "N foreground 8935, N  background 0,unable to generate class balanced samples.\n",
      "N foreground 15184, N  background 0,unable to generate class balanced samples.\n",
      "N foreground 15909, N  background 0,unable to generate class balanced samples.\n",
      "N foreground 16388, N  background 0,unable to generate class balanced samples.\n",
      "N foreground 12122, N  background 0,unable to generate class balanced samples.\n",
      "N foreground 14230, N  background 0,unable to generate class balanced samples.\n",
      "N foreground 10992, N  background 0,unable to generate class balanced samples.\n",
      "N foreground 14809, N  background 0,unable to generate class balanced samples.\n",
      "N foreground 22593, N  background 0,unable to generate class balanced samples.\n",
      "N foreground 16682, N  background 0,unable to generate class balanced samples.\n",
      "N foreground 19210, N  background 0,unable to generate class balanced samples.\n",
      "N foreground 10533, N  background 0,unable to generate class balanced samples.\n",
      "N foreground 16115, N  background 0,unable to generate class balanced samples.\n",
      "N foreground 17097, N  background 0,unable to generate class balanced samples.\n",
      "N foreground 17716, N  background 0,unable to generate class balanced samples.\n",
      "N foreground 16438, N  background 0,unable to generate class balanced samples.\n",
      "N foreground 14262, N  background 0,unable to generate class balanced samples.\n",
      "N foreground 13809, N  background 0,unable to generate class balanced samples.\n",
      "N foreground 16450, N  background 0,unable to generate class balanced samples.\n",
      "N foreground 15838, N  background 0,unable to generate class balanced samples.\n",
      "N foreground 15619, N  background 0,unable to generate class balanced samples.\n",
      "N foreground 14317, N  background 0,unable to generate class balanced samples.\n",
      "N foreground 10474, N  background 0,unable to generate class balanced samples.\n",
      "N foreground 13138, N  background 0,unable to generate class balanced samples.\n",
      "N foreground 13958, N  background 0,unable to generate class balanced samples.\n",
      "N foreground 13064, N  background 0,unable to generate class balanced samples.\n"
     ]
    },
    {
     "name": "stdout",
     "output_type": "stream",
     "text": [
      "1/13, train_loss: 0.2028\n",
      "2/13, train_loss: 0.2081\n",
      "3/13, train_loss: 0.2061\n",
      "4/13, train_loss: 0.1755\n",
      "5/13, train_loss: 0.2046\n",
      "6/13, train_loss: 0.1996\n",
      "7/13, train_loss: 0.1897\n",
      "8/13, train_loss: 0.2055\n",
      "9/13, train_loss: 0.1973\n",
      "10/13, train_loss: 0.1994\n",
      "11/13, train_loss: 0.2280\n",
      "12/13, train_loss: 0.2040\n",
      "13/13, train_loss: 0.1898\n",
      "epoch 56 average loss: 0.2008\n"
     ]
    },
    {
     "name": "stderr",
     "output_type": "stream",
     "text": [
      "N foreground 16021, N  background 0,unable to generate class balanced samples.\n",
      "N foreground 13981, N  background 0,unable to generate class balanced samples.\n",
      "N foreground 14149, N  background 0,unable to generate class balanced samples.\n",
      "N foreground 10539, N  background 0,unable to generate class balanced samples.\n",
      "N foreground 18264, N  background 0,unable to generate class balanced samples.\n",
      "N foreground 14351, N  background 0,unable to generate class balanced samples.\n",
      "N foreground 13080, N  background 0,unable to generate class balanced samples.\n",
      "N foreground 14458, N  background 0,unable to generate class balanced samples.\n",
      "N foreground 14199, N  background 0,unable to generate class balanced samples.\n"
     ]
    },
    {
     "name": "stdout",
     "output_type": "stream",
     "text": [
      "current epoch: 56 current mean dice: 0.8183\n",
      "best mean dice: 0.8226at epoch: 49\n",
      "----------\n",
      "epoch 57/150\n"
     ]
    },
    {
     "name": "stderr",
     "output_type": "stream",
     "text": [
      "N foreground 10992, N  background 0,unable to generate class balanced samples.\n",
      "N foreground 15838, N  background 0,unable to generate class balanced samples.\n",
      "N foreground 14230, N  background 0,unable to generate class balanced samples.\n",
      "N foreground 17716, N  background 0,unable to generate class balanced samples.\n",
      "N foreground 12122, N  background 0,unable to generate class balanced samples.\n",
      "N foreground 22593, N  background 0,unable to generate class balanced samples.\n",
      "N foreground 16682, N  background 0,unable to generate class balanced samples.\n",
      "N foreground 17097, N  background 0,unable to generate class balanced samples.\n",
      "N foreground 15909, N  background 0,unable to generate class balanced samples.\n",
      "N foreground 14262, N  background 0,unable to generate class balanced samples.\n",
      "N foreground 14317, N  background 0,unable to generate class balanced samples.\n",
      "N foreground 16115, N  background 0,unable to generate class balanced samples.\n",
      "N foreground 8935, N  background 0,unable to generate class balanced samples.\n",
      "N foreground 19210, N  background 0,unable to generate class balanced samples.\n",
      "N foreground 13958, N  background 0,unable to generate class balanced samples.\n",
      "N foreground 10474, N  background 0,unable to generate class balanced samples.\n",
      "N foreground 14809, N  background 0,unable to generate class balanced samples.\n",
      "N foreground 13064, N  background 0,unable to generate class balanced samples.\n",
      "N foreground 16388, N  background 0,unable to generate class balanced samples.\n",
      "N foreground 10533, N  background 0,unable to generate class balanced samples.\n",
      "N foreground 13138, N  background 0,unable to generate class balanced samples.\n",
      "N foreground 16438, N  background 0,unable to generate class balanced samples.\n",
      "N foreground 16450, N  background 0,unable to generate class balanced samples.\n",
      "N foreground 15184, N  background 0,unable to generate class balanced samples.\n",
      "N foreground 15619, N  background 0,unable to generate class balanced samples.\n",
      "N foreground 13809, N  background 0,unable to generate class balanced samples.\n"
     ]
    },
    {
     "name": "stdout",
     "output_type": "stream",
     "text": [
      "1/13, train_loss: 0.1901\n",
      "2/13, train_loss: 0.2057\n",
      "3/13, train_loss: 0.2057\n",
      "4/13, train_loss: 0.2217\n",
      "5/13, train_loss: 0.1859\n",
      "6/13, train_loss: 0.2121\n",
      "7/13, train_loss: 0.1858\n",
      "8/13, train_loss: 0.2078\n",
      "9/13, train_loss: 0.1941\n",
      "10/13, train_loss: 0.1880\n",
      "11/13, train_loss: 0.2131\n",
      "12/13, train_loss: 0.1954\n",
      "13/13, train_loss: 0.2033\n",
      "epoch 57 average loss: 0.2007\n"
     ]
    },
    {
     "name": "stderr",
     "output_type": "stream",
     "text": [
      "N foreground 14351, N  background 0,unable to generate class balanced samples.\n",
      "N foreground 16021, N  background 0,unable to generate class balanced samples.\n",
      "N foreground 14149, N  background 0,unable to generate class balanced samples.\n",
      "N foreground 13981, N  background 0,unable to generate class balanced samples.\n",
      "N foreground 10539, N  background 0,unable to generate class balanced samples.\n",
      "N foreground 18264, N  background 0,unable to generate class balanced samples.\n",
      "N foreground 13080, N  background 0,unable to generate class balanced samples.\n",
      "N foreground 14458, N  background 0,unable to generate class balanced samples.\n",
      "N foreground 14199, N  background 0,unable to generate class balanced samples.\n"
     ]
    },
    {
     "name": "stdout",
     "output_type": "stream",
     "text": [
      "current epoch: 57 current mean dice: 0.8186\n",
      "best mean dice: 0.8226at epoch: 49\n",
      "----------\n",
      "epoch 58/150\n"
     ]
    },
    {
     "name": "stderr",
     "output_type": "stream",
     "text": [
      "N foreground 15909, N  background 0,unable to generate class balanced samples.\n",
      "N foreground 15184, N  background 0,unable to generate class balanced samples.\n",
      "N foreground 16438, N  background 0,unable to generate class balanced samples.\n",
      "N foreground 14230, N  background 0,unable to generate class balanced samples.\n",
      "N foreground 15619, N  background 0,unable to generate class balanced samples.\n",
      "N foreground 10533, N  background 0,unable to generate class balanced samples.\n",
      "N foreground 16450, N  background 0,unable to generate class balanced samples.\n",
      "N foreground 14809, N  background 0,unable to generate class balanced samples.\n",
      "N foreground 15838, N  background 0,unable to generate class balanced samples.\n",
      "N foreground 13809, N  background 0,unable to generate class balanced samples.\n",
      "N foreground 10474, N  background 0,unable to generate class balanced samples.\n",
      "N foreground 14317, N  background 0,unable to generate class balanced samples.\n",
      "N foreground 16115, N  background 0,unable to generate class balanced samples.\n",
      "N foreground 17097, N  background 0,unable to generate class balanced samples.\n",
      "N foreground 13958, N  background 0,unable to generate class balanced samples.\n",
      "N foreground 14262, N  background 0,unable to generate class balanced samples.\n",
      "N foreground 13064, N  background 0,unable to generate class balanced samples.\n",
      "N foreground 22593, N  background 0,unable to generate class balanced samples.\n",
      "N foreground 10992, N  background 0,unable to generate class balanced samples.\n",
      "N foreground 12122, N  background 0,unable to generate class balanced samples.\n",
      "N foreground 17716, N  background 0,unable to generate class balanced samples.\n",
      "N foreground 19210, N  background 0,unable to generate class balanced samples.\n",
      "N foreground 8935, N  background 0,unable to generate class balanced samples.\n",
      "N foreground 16388, N  background 0,unable to generate class balanced samples.\n",
      "N foreground 13138, N  background 0,unable to generate class balanced samples.\n",
      "N foreground 16682, N  background 0,unable to generate class balanced samples.\n"
     ]
    },
    {
     "name": "stdout",
     "output_type": "stream",
     "text": [
      "1/13, train_loss: 0.1982\n",
      "2/13, train_loss: 0.1998\n",
      "3/13, train_loss: 0.1861\n",
      "4/13, train_loss: 0.2125\n",
      "5/13, train_loss: 0.1899\n",
      "6/13, train_loss: 0.2059\n",
      "7/13, train_loss: 0.2034\n",
      "8/13, train_loss: 0.1919\n",
      "9/13, train_loss: 0.1900\n",
      "10/13, train_loss: 0.2076\n",
      "11/13, train_loss: 0.2086\n",
      "12/13, train_loss: 0.1892\n",
      "13/13, train_loss: 0.1839\n",
      "epoch 58 average loss: 0.1975\n"
     ]
    },
    {
     "name": "stderr",
     "output_type": "stream",
     "text": [
      "N foreground 16021, N  background 0,unable to generate class balanced samples.\n",
      "N foreground 13981, N  background 0,unable to generate class balanced samples.\n",
      "N foreground 18264, N  background 0,unable to generate class balanced samples.\n",
      "N foreground 14149, N  background 0,unable to generate class balanced samples.\n",
      "N foreground 10539, N  background 0,unable to generate class balanced samples.\n",
      "N foreground 13080, N  background 0,unable to generate class balanced samples.\n",
      "N foreground 14351, N  background 0,unable to generate class balanced samples.\n",
      "N foreground 14458, N  background 0,unable to generate class balanced samples.\n",
      "N foreground 14199, N  background 0,unable to generate class balanced samples.\n"
     ]
    },
    {
     "name": "stdout",
     "output_type": "stream",
     "text": [
      "current epoch: 58 current mean dice: 0.8188\n",
      "best mean dice: 0.8226at epoch: 49\n",
      "----------\n",
      "epoch 59/150\n"
     ]
    },
    {
     "name": "stderr",
     "output_type": "stream",
     "text": [
      "N foreground 8935, N  background 0,unable to generate class balanced samples.\n",
      "N foreground 13138, N  background 0,unable to generate class balanced samples.\n",
      "N foreground 12122, N  background 0,unable to generate class balanced samples.\n",
      "N foreground 15838, N  background 0,unable to generate class balanced samples.\n",
      "N foreground 15619, N  background 0,unable to generate class balanced samples.\n",
      "N foreground 15184, N  background 0,unable to generate class balanced samples.\n",
      "N foreground 16115, N  background 0,unable to generate class balanced samples.\n",
      "N foreground 16438, N  background 0,unable to generate class balanced samples.\n",
      "N foreground 14317, N  background 0,unable to generate class balanced samples.\n",
      "N foreground 19210, N  background 0,unable to generate class balanced samples.\n",
      "N foreground 22593, N  background 0,unable to generate class balanced samples.\n",
      "N foreground 14230, N  background 0,unable to generate class balanced samples.\n",
      "N foreground 15909, N  background 0,unable to generate class balanced samples.\n",
      "N foreground 10992, N  background 0,unable to generate class balanced samples.\n",
      "N foreground 17097, N  background 0,unable to generate class balanced samples.\n",
      "N foreground 10474, N  background 0,unable to generate class balanced samples.\n",
      "N foreground 14809, N  background 0,unable to generate class balanced samples.\n",
      "N foreground 16388, N  background 0,unable to generate class balanced samples.\n",
      "N foreground 13958, N  background 0,unable to generate class balanced samples.\n",
      "N foreground 16450, N  background 0,unable to generate class balanced samples.\n",
      "N foreground 13064, N  background 0,unable to generate class balanced samples.\n",
      "N foreground 10533, N  background 0,unable to generate class balanced samples.\n",
      "N foreground 17716, N  background 0,unable to generate class balanced samples.\n",
      "N foreground 16682, N  background 0,unable to generate class balanced samples.\n",
      "N foreground 14262, N  background 0,unable to generate class balanced samples.\n",
      "N foreground 13809, N  background 0,unable to generate class balanced samples.\n"
     ]
    },
    {
     "name": "stdout",
     "output_type": "stream",
     "text": [
      "1/13, train_loss: 0.1998\n",
      "2/13, train_loss: 0.1913\n",
      "3/13, train_loss: 0.1848\n",
      "4/13, train_loss: 0.2023\n",
      "5/13, train_loss: 0.2024\n",
      "6/13, train_loss: 0.2099\n",
      "7/13, train_loss: 0.1856\n",
      "8/13, train_loss: 0.2101\n",
      "9/13, train_loss: 0.2106\n",
      "10/13, train_loss: 0.1900\n",
      "11/13, train_loss: 0.1943\n",
      "12/13, train_loss: 0.1957\n",
      "13/13, train_loss: 0.1992\n",
      "epoch 59 average loss: 0.1982\n"
     ]
    },
    {
     "name": "stderr",
     "output_type": "stream",
     "text": [
      "N foreground 14351, N  background 0,unable to generate class balanced samples.\n",
      "N foreground 13080, N  background 0,unable to generate class balanced samples.\n",
      "N foreground 10539, N  background 0,unable to generate class balanced samples.\n",
      "N foreground 13981, N  background 0,unable to generate class balanced samples.\n",
      "N foreground 14149, N  background 0,unable to generate class balanced samples.\n",
      "N foreground 18264, N  background 0,unable to generate class balanced samples.\n",
      "N foreground 16021, N  background 0,unable to generate class balanced samples.\n",
      "N foreground 14458, N  background 0,unable to generate class balanced samples.\n",
      "N foreground 14199, N  background 0,unable to generate class balanced samples.\n"
     ]
    },
    {
     "name": "stdout",
     "output_type": "stream",
     "text": [
      "current epoch: 59 current mean dice: 0.8211\n",
      "best mean dice: 0.8226at epoch: 49\n",
      "----------\n",
      "epoch 60/150\n"
     ]
    },
    {
     "name": "stderr",
     "output_type": "stream",
     "text": [
      "N foreground 14809, N  background 0,unable to generate class balanced samples.\n",
      "N foreground 22593, N  background 0,unable to generate class balanced samples.\n",
      "N foreground 14317, N  background 0,unable to generate class balanced samples.\n",
      "N foreground 10992, N  background 0,unable to generate class balanced samples.\n",
      "N foreground 19210, N  background 0,unable to generate class balanced samples.\n",
      "N foreground 10474, N  background 0,unable to generate class balanced samples.\n",
      "N foreground 13138, N  background 0,unable to generate class balanced samples.\n",
      "N foreground 16115, N  background 0,unable to generate class balanced samples.\n",
      "N foreground 16438, N  background 0,unable to generate class balanced samples.\n",
      "N foreground 17097, N  background 0,unable to generate class balanced samples.\n",
      "N foreground 16388, N  background 0,unable to generate class balanced samples.\n",
      "N foreground 14230, N  background 0,unable to generate class balanced samples.\n",
      "N foreground 10533, N  background 0,unable to generate class balanced samples.\n",
      "N foreground 13064, N  background 0,unable to generate class balanced samples.\n",
      "N foreground 14262, N  background 0,unable to generate class balanced samples.\n",
      "N foreground 16682, N  background 0,unable to generate class balanced samples.\n",
      "N foreground 15838, N  background 0,unable to generate class balanced samples.\n",
      "N foreground 15909, N  background 0,unable to generate class balanced samples.\n",
      "N foreground 15184, N  background 0,unable to generate class balanced samples.\n",
      "N foreground 17716, N  background 0,unable to generate class balanced samples.\n",
      "N foreground 12122, N  background 0,unable to generate class balanced samples.\n",
      "N foreground 13809, N  background 0,unable to generate class balanced samples.\n",
      "N foreground 16450, N  background 0,unable to generate class balanced samples.\n",
      "N foreground 8935, N  background 0,unable to generate class balanced samples.\n",
      "N foreground 15619, N  background 0,unable to generate class balanced samples.\n",
      "N foreground 13958, N  background 0,unable to generate class balanced samples.\n"
     ]
    },
    {
     "name": "stdout",
     "output_type": "stream",
     "text": [
      "1/13, train_loss: 0.2078\n",
      "2/13, train_loss: 0.1934\n",
      "3/13, train_loss: 0.1992\n",
      "4/13, train_loss: 0.1990\n",
      "5/13, train_loss: 0.1913\n",
      "6/13, train_loss: 0.2039\n",
      "7/13, train_loss: 0.2026\n",
      "8/13, train_loss: 0.1993\n",
      "9/13, train_loss: 0.2019\n",
      "10/13, train_loss: 0.2163\n",
      "11/13, train_loss: 0.1899\n",
      "12/13, train_loss: 0.1817\n",
      "13/13, train_loss: 0.2014\n",
      "epoch 60 average loss: 0.1991\n"
     ]
    },
    {
     "name": "stderr",
     "output_type": "stream",
     "text": [
      "N foreground 13080, N  background 0,unable to generate class balanced samples.\n",
      "N foreground 10539, N  background 0,unable to generate class balanced samples.\n",
      "N foreground 16021, N  background 0,unable to generate class balanced samples.\n",
      "N foreground 18264, N  background 0,unable to generate class balanced samples.\n",
      "N foreground 14351, N  background 0,unable to generate class balanced samples.\n",
      "N foreground 13981, N  background 0,unable to generate class balanced samples.\n",
      "N foreground 14149, N  background 0,unable to generate class balanced samples.\n",
      "N foreground 14458, N  background 0,unable to generate class balanced samples.\n",
      "N foreground 14199, N  background 0,unable to generate class balanced samples.\n"
     ]
    },
    {
     "name": "stdout",
     "output_type": "stream",
     "text": [
      "current epoch: 60 current mean dice: 0.8181\n",
      "best mean dice: 0.8226at epoch: 49\n",
      "----------\n",
      "epoch 61/150\n"
     ]
    },
    {
     "name": "stderr",
     "output_type": "stream",
     "text": [
      "N foreground 13064, N  background 0,unable to generate class balanced samples.\n",
      "N foreground 14230, N  background 0,unable to generate class balanced samples.\n",
      "N foreground 14317, N  background 0,unable to generate class balanced samples.\n",
      "N foreground 14262, N  background 0,unable to generate class balanced samples.\n",
      "N foreground 10992, N  background 0,unable to generate class balanced samples.\n",
      "N foreground 13958, N  background 0,unable to generate class balanced samples.\n",
      "N foreground 15184, N  background 0,unable to generate class balanced samples.\n",
      "N foreground 14809, N  background 0,unable to generate class balanced samples.\n",
      "N foreground 19210, N  background 0,unable to generate class balanced samples.\n",
      "N foreground 13809, N  background 0,unable to generate class balanced samples.\n",
      "N foreground 15619, N  background 0,unable to generate class balanced samples.\n",
      "N foreground 15909, N  background 0,unable to generate class balanced samples.\n",
      "N foreground 15838, N  background 0,unable to generate class balanced samples.\n",
      "N foreground 12122, N  background 0,unable to generate class balanced samples.\n",
      "N foreground 22593, N  background 0,unable to generate class balanced samples.\n",
      "N foreground 13138, N  background 0,unable to generate class balanced samples.\n",
      "N foreground 16438, N  background 0,unable to generate class balanced samples.\n",
      "N foreground 16388, N  background 0,unable to generate class balanced samples.\n",
      "N foreground 17716, N  background 0,unable to generate class balanced samples.\n",
      "N foreground 17097, N  background 0,unable to generate class balanced samples.\n",
      "N foreground 10474, N  background 0,unable to generate class balanced samples.\n",
      "N foreground 10533, N  background 0,unable to generate class balanced samples.\n",
      "N foreground 16682, N  background 0,unable to generate class balanced samples.\n",
      "N foreground 16115, N  background 0,unable to generate class balanced samples.\n",
      "N foreground 16450, N  background 0,unable to generate class balanced samples.\n",
      "N foreground 8935, N  background 0,unable to generate class balanced samples.\n"
     ]
    },
    {
     "name": "stdout",
     "output_type": "stream",
     "text": [
      "1/13, train_loss: 0.1860\n",
      "2/13, train_loss: 0.2061\n",
      "3/13, train_loss: 0.2084\n",
      "4/13, train_loss: 0.1980\n",
      "5/13, train_loss: 0.1775\n",
      "6/13, train_loss: 0.2038\n",
      "7/13, train_loss: 0.1921\n",
      "8/13, train_loss: 0.2071\n",
      "9/13, train_loss: 0.2034\n",
      "10/13, train_loss: 0.1851\n",
      "11/13, train_loss: 0.1972\n",
      "12/13, train_loss: 0.2387\n",
      "13/13, train_loss: 0.1792\n",
      "epoch 61 average loss: 0.1987\n"
     ]
    },
    {
     "name": "stderr",
     "output_type": "stream",
     "text": [
      "N foreground 13981, N  background 0,unable to generate class balanced samples.\n",
      "N foreground 13080, N  background 0,unable to generate class balanced samples.\n",
      "N foreground 14149, N  background 0,unable to generate class balanced samples.\n",
      "N foreground 16021, N  background 0,unable to generate class balanced samples.\n",
      "N foreground 10539, N  background 0,unable to generate class balanced samples.\n",
      "N foreground 18264, N  background 0,unable to generate class balanced samples.\n",
      "N foreground 14351, N  background 0,unable to generate class balanced samples.\n",
      "N foreground 14458, N  background 0,unable to generate class balanced samples.\n",
      "N foreground 14199, N  background 0,unable to generate class balanced samples.\n"
     ]
    },
    {
     "name": "stdout",
     "output_type": "stream",
     "text": [
      "current epoch: 61 current mean dice: 0.8148\n",
      "best mean dice: 0.8226at epoch: 49\n",
      "----------\n",
      "epoch 62/150\n"
     ]
    },
    {
     "name": "stderr",
     "output_type": "stream",
     "text": [
      "N foreground 10992, N  background 0,unable to generate class balanced samples.\n",
      "N foreground 16438, N  background 0,unable to generate class balanced samples.\n",
      "N foreground 10474, N  background 0,unable to generate class balanced samples.\n",
      "N foreground 16450, N  background 0,unable to generate class balanced samples.\n",
      "N foreground 15838, N  background 0,unable to generate class balanced samples.\n",
      "N foreground 13064, N  background 0,unable to generate class balanced samples.\n",
      "N foreground 14262, N  background 0,unable to generate class balanced samples.\n",
      "N foreground 8935, N  background 0,unable to generate class balanced samples.\n",
      "N foreground 13958, N  background 0,unable to generate class balanced samples.\n",
      "N foreground 14809, N  background 0,unable to generate class balanced samples.\n",
      "N foreground 15619, N  background 0,unable to generate class balanced samples.\n",
      "N foreground 15184, N  background 0,unable to generate class balanced samples.\n",
      "N foreground 17716, N  background 0,unable to generate class balanced samples.\n",
      "N foreground 22593, N  background 0,unable to generate class balanced samples.\n",
      "N foreground 16388, N  background 0,unable to generate class balanced samples.\n",
      "N foreground 15909, N  background 0,unable to generate class balanced samples.\n",
      "N foreground 17097, N  background 0,unable to generate class balanced samples.\n",
      "N foreground 13809, N  background 0,unable to generate class balanced samples.\n",
      "N foreground 16682, N  background 0,unable to generate class balanced samples.\n",
      "N foreground 16115, N  background 0,unable to generate class balanced samples.\n",
      "N foreground 14317, N  background 0,unable to generate class balanced samples.\n",
      "N foreground 14230, N  background 0,unable to generate class balanced samples.\n",
      "N foreground 12122, N  background 0,unable to generate class balanced samples.\n",
      "N foreground 13138, N  background 0,unable to generate class balanced samples.\n",
      "N foreground 10533, N  background 0,unable to generate class balanced samples.\n",
      "N foreground 19210, N  background 0,unable to generate class balanced samples.\n"
     ]
    },
    {
     "name": "stdout",
     "output_type": "stream",
     "text": [
      "1/13, train_loss: 0.1764\n",
      "2/13, train_loss: 0.2042\n",
      "3/13, train_loss: 0.2122\n",
      "4/13, train_loss: 0.2005\n",
      "5/13, train_loss: 0.2179\n",
      "6/13, train_loss: 0.1806\n",
      "7/13, train_loss: 0.2025\n",
      "8/13, train_loss: 0.2047\n",
      "9/13, train_loss: 0.2090\n",
      "10/13, train_loss: 0.1912\n",
      "11/13, train_loss: 0.2008\n",
      "12/13, train_loss: 0.1956\n",
      "13/13, train_loss: 0.2102\n",
      "epoch 62 average loss: 0.2005\n"
     ]
    },
    {
     "name": "stderr",
     "output_type": "stream",
     "text": [
      "N foreground 13080, N  background 0,unable to generate class balanced samples.\n",
      "N foreground 10539, N  background 0,unable to generate class balanced samples.\n",
      "N foreground 13981, N  background 0,unable to generate class balanced samples.\n",
      "N foreground 16021, N  background 0,unable to generate class balanced samples.\n",
      "N foreground 14351, N  background 0,unable to generate class balanced samples.\n",
      "N foreground 18264, N  background 0,unable to generate class balanced samples.\n",
      "N foreground 14149, N  background 0,unable to generate class balanced samples.\n",
      "N foreground 14458, N  background 0,unable to generate class balanced samples.\n",
      "N foreground 14199, N  background 0,unable to generate class balanced samples.\n"
     ]
    },
    {
     "name": "stdout",
     "output_type": "stream",
     "text": [
      "saved new best metric model\n",
      "current epoch: 62 current mean dice: 0.8244\n",
      "best mean dice: 0.8244at epoch: 62\n",
      "----------\n",
      "epoch 63/150\n"
     ]
    },
    {
     "name": "stderr",
     "output_type": "stream",
     "text": [
      "N foreground 10533, N  background 0,unable to generate class balanced samples.\n",
      "N foreground 16115, N  background 0,unable to generate class balanced samples.\n",
      "N foreground 13064, N  background 0,unable to generate class balanced samples.\n",
      "N foreground 22593, N  background 0,unable to generate class balanced samples.\n",
      "N foreground 15619, N  background 0,unable to generate class balanced samples.\n",
      "N foreground 17097, N  background 0,unable to generate class balanced samples.\n",
      "N foreground 15184, N  background 0,unable to generate class balanced samples.\n",
      "N foreground 14317, N  background 0,unable to generate class balanced samples.\n",
      "N foreground 14809, N  background 0,unable to generate class balanced samples.\n",
      "N foreground 15838, N  background 0,unable to generate class balanced samples.\n",
      "N foreground 14262, N  background 0,unable to generate class balanced samples.\n",
      "N foreground 14230, N  background 0,unable to generate class balanced samples.\n",
      "N foreground 16388, N  background 0,unable to generate class balanced samples.\n",
      "N foreground 10474, N  background 0,unable to generate class balanced samples.\n",
      "N foreground 16682, N  background 0,unable to generate class balanced samples.\n",
      "N foreground 13958, N  background 0,unable to generate class balanced samples.\n",
      "N foreground 16450, N  background 0,unable to generate class balanced samples.\n",
      "N foreground 12122, N  background 0,unable to generate class balanced samples.\n",
      "N foreground 8935, N  background 0,unable to generate class balanced samples.\n",
      "N foreground 13809, N  background 0,unable to generate class balanced samples.\n",
      "N foreground 16438, N  background 0,unable to generate class balanced samples.\n",
      "N foreground 10992, N  background 0,unable to generate class balanced samples.\n",
      "N foreground 13138, N  background 0,unable to generate class balanced samples.\n",
      "N foreground 17716, N  background 0,unable to generate class balanced samples.\n",
      "N foreground 19210, N  background 0,unable to generate class balanced samples.\n",
      "N foreground 15909, N  background 0,unable to generate class balanced samples.\n"
     ]
    },
    {
     "name": "stdout",
     "output_type": "stream",
     "text": [
      "1/13, train_loss: 0.2184\n",
      "2/13, train_loss: 0.1950\n",
      "3/13, train_loss: 0.1904\n",
      "4/13, train_loss: 0.2046\n",
      "5/13, train_loss: 0.1972\n",
      "6/13, train_loss: 0.2116\n",
      "7/13, train_loss: 0.1878\n",
      "8/13, train_loss: 0.2091\n",
      "9/13, train_loss: 0.1869\n",
      "10/13, train_loss: 0.2127\n",
      "11/13, train_loss: 0.1777\n",
      "12/13, train_loss: 0.1911\n",
      "13/13, train_loss: 0.1923\n",
      "epoch 63 average loss: 0.1980\n"
     ]
    },
    {
     "name": "stderr",
     "output_type": "stream",
     "text": [
      "N foreground 14149, N  background 0,unable to generate class balanced samples.\n",
      "N foreground 10539, N  background 0,unable to generate class balanced samples.\n",
      "N foreground 13080, N  background 0,unable to generate class balanced samples.\n",
      "N foreground 13981, N  background 0,unable to generate class balanced samples.\n",
      "N foreground 14351, N  background 0,unable to generate class balanced samples.\n",
      "N foreground 16021, N  background 0,unable to generate class balanced samples.\n",
      "N foreground 18264, N  background 0,unable to generate class balanced samples.\n",
      "N foreground 14458, N  background 0,unable to generate class balanced samples.\n",
      "N foreground 14199, N  background 0,unable to generate class balanced samples.\n"
     ]
    },
    {
     "name": "stdout",
     "output_type": "stream",
     "text": [
      "saved new best metric model\n",
      "current epoch: 63 current mean dice: 0.8248\n",
      "best mean dice: 0.8248at epoch: 63\n",
      "----------\n",
      "epoch 64/150\n"
     ]
    },
    {
     "name": "stderr",
     "output_type": "stream",
     "text": [
      "N foreground 15619, N  background 0,unable to generate class balanced samples.\n",
      "N foreground 10533, N  background 0,unable to generate class balanced samples.\n",
      "N foreground 13958, N  background 0,unable to generate class balanced samples.\n",
      "N foreground 16450, N  background 0,unable to generate class balanced samples.\n",
      "N foreground 14230, N  background 0,unable to generate class balanced samples.\n",
      "N foreground 15184, N  background 0,unable to generate class balanced samples.\n",
      "N foreground 13138, N  background 0,unable to generate class balanced samples.\n",
      "N foreground 12122, N  background 0,unable to generate class balanced samples.\n",
      "N foreground 13809, N  background 0,unable to generate class balanced samples.\n",
      "N foreground 17097, N  background 0,unable to generate class balanced samples.\n",
      "N foreground 8935, N  background 0,unable to generate class balanced samples.\n",
      "N foreground 17716, N  background 0,unable to generate class balanced samples.\n",
      "N foreground 19210, N  background 0,unable to generate class balanced samples.\n",
      "N foreground 16682, N  background 0,unable to generate class balanced samples.\n",
      "N foreground 15838, N  background 0,unable to generate class balanced samples.\n",
      "N foreground 16388, N  background 0,unable to generate class balanced samples.\n",
      "N foreground 10474, N  background 0,unable to generate class balanced samples.\n",
      "N foreground 16115, N  background 0,unable to generate class balanced samples.\n",
      "N foreground 14809, N  background 0,unable to generate class balanced samples.\n",
      "N foreground 14317, N  background 0,unable to generate class balanced samples.\n",
      "N foreground 13064, N  background 0,unable to generate class balanced samples.\n",
      "N foreground 15909, N  background 0,unable to generate class balanced samples.\n",
      "N foreground 10992, N  background 0,unable to generate class balanced samples.\n",
      "N foreground 16438, N  background 0,unable to generate class balanced samples.\n",
      "N foreground 22593, N  background 0,unable to generate class balanced samples.\n",
      "N foreground 14262, N  background 0,unable to generate class balanced samples.\n"
     ]
    },
    {
     "name": "stdout",
     "output_type": "stream",
     "text": [
      "1/13, train_loss: 0.1855\n",
      "2/13, train_loss: 0.1805\n",
      "3/13, train_loss: 0.1872\n",
      "4/13, train_loss: 0.1974\n",
      "5/13, train_loss: 0.1936\n",
      "6/13, train_loss: 0.2038\n",
      "7/13, train_loss: 0.2151\n",
      "8/13, train_loss: 0.1891\n",
      "9/13, train_loss: 0.2161\n",
      "10/13, train_loss: 0.1976\n",
      "11/13, train_loss: 0.2101\n",
      "12/13, train_loss: 0.2031\n",
      "13/13, train_loss: 0.1898\n",
      "epoch 64 average loss: 0.1976\n"
     ]
    },
    {
     "name": "stderr",
     "output_type": "stream",
     "text": [
      "N foreground 14351, N  background 0,unable to generate class balanced samples.\n",
      "N foreground 18264, N  background 0,unable to generate class balanced samples.\n",
      "N foreground 10539, N  background 0,unable to generate class balanced samples.\n",
      "N foreground 16021, N  background 0,unable to generate class balanced samples.\n",
      "N foreground 13080, N  background 0,unable to generate class balanced samples.\n",
      "N foreground 14149, N  background 0,unable to generate class balanced samples.\n",
      "N foreground 13981, N  background 0,unable to generate class balanced samples.\n",
      "N foreground 14458, N  background 0,unable to generate class balanced samples.\n",
      "N foreground 14199, N  background 0,unable to generate class balanced samples.\n"
     ]
    },
    {
     "name": "stdout",
     "output_type": "stream",
     "text": [
      "current epoch: 64 current mean dice: 0.8183\n",
      "best mean dice: 0.8248at epoch: 63\n",
      "----------\n",
      "epoch 65/150\n"
     ]
    },
    {
     "name": "stderr",
     "output_type": "stream",
     "text": [
      "N foreground 17716, N  background 0,unable to generate class balanced samples.\n",
      "N foreground 14317, N  background 0,unable to generate class balanced samples.\n",
      "N foreground 8935, N  background 0,unable to generate class balanced samples.\n",
      "N foreground 16682, N  background 0,unable to generate class balanced samples.\n",
      "N foreground 22593, N  background 0,unable to generate class balanced samples.\n",
      "N foreground 15909, N  background 0,unable to generate class balanced samples.\n",
      "N foreground 14262, N  background 0,unable to generate class balanced samples.\n",
      "N foreground 14809, N  background 0,unable to generate class balanced samples.\n",
      "N foreground 15838, N  background 0,unable to generate class balanced samples.\n",
      "N foreground 10474, N  background 0,unable to generate class balanced samples.\n",
      "N foreground 13064, N  background 0,unable to generate class balanced samples.\n",
      "N foreground 16388, N  background 0,unable to generate class balanced samples.\n",
      "N foreground 13958, N  background 0,unable to generate class balanced samples.\n",
      "N foreground 10533, N  background 0,unable to generate class balanced samples.\n",
      "N foreground 17097, N  background 0,unable to generate class balanced samples.\n",
      "N foreground 15619, N  background 0,unable to generate class balanced samples.\n",
      "N foreground 13138, N  background 0,unable to generate class balanced samples.\n",
      "N foreground 12122, N  background 0,unable to generate class balanced samples.\n",
      "N foreground 15184, N  background 0,unable to generate class balanced samples.\n",
      "N foreground 19210, N  background 0,unable to generate class balanced samples.\n",
      "N foreground 13809, N  background 0,unable to generate class balanced samples.\n",
      "N foreground 10992, N  background 0,unable to generate class balanced samples.\n",
      "N foreground 16438, N  background 0,unable to generate class balanced samples.\n",
      "N foreground 16450, N  background 0,unable to generate class balanced samples.\n",
      "N foreground 14230, N  background 0,unable to generate class balanced samples.\n",
      "N foreground 16115, N  background 0,unable to generate class balanced samples.\n"
     ]
    },
    {
     "name": "stdout",
     "output_type": "stream",
     "text": [
      "1/13, train_loss: 0.1675\n",
      "2/13, train_loss: 0.2125\n",
      "3/13, train_loss: 0.1962\n",
      "4/13, train_loss: 0.1907\n",
      "5/13, train_loss: 0.2054\n",
      "6/13, train_loss: 0.1938\n",
      "7/13, train_loss: 0.1993\n",
      "8/13, train_loss: 0.2095\n",
      "9/13, train_loss: 0.1940\n",
      "10/13, train_loss: 0.1942\n",
      "11/13, train_loss: 0.1874\n",
      "12/13, train_loss: 0.1944\n",
      "13/13, train_loss: 0.1820\n",
      "epoch 65 average loss: 0.1944\n"
     ]
    },
    {
     "name": "stderr",
     "output_type": "stream",
     "text": [
      "N foreground 14149, N  background 0,unable to generate class balanced samples.\n",
      "N foreground 13981, N  background 0,unable to generate class balanced samples.\n",
      "N foreground 13080, N  background 0,unable to generate class balanced samples.\n",
      "N foreground 10539, N  background 0,unable to generate class balanced samples.\n",
      "N foreground 18264, N  background 0,unable to generate class balanced samples.\n",
      "N foreground 16021, N  background 0,unable to generate class balanced samples.\n",
      "N foreground 14351, N  background 0,unable to generate class balanced samples.\n",
      "N foreground 14458, N  background 0,unable to generate class balanced samples.\n",
      "N foreground 14199, N  background 0,unable to generate class balanced samples.\n"
     ]
    },
    {
     "name": "stdout",
     "output_type": "stream",
     "text": [
      "saved new best metric model\n",
      "current epoch: 65 current mean dice: 0.8277\n",
      "best mean dice: 0.8277at epoch: 65\n",
      "----------\n",
      "epoch 66/150\n"
     ]
    },
    {
     "name": "stderr",
     "output_type": "stream",
     "text": [
      "N foreground 19210, N  background 0,unable to generate class balanced samples.\n",
      "N foreground 16388, N  background 0,unable to generate class balanced samples.\n",
      "N foreground 17716, N  background 0,unable to generate class balanced samples.\n",
      "N foreground 13958, N  background 0,unable to generate class balanced samples.\n",
      "N foreground 8935, N  background 0,unable to generate class balanced samples.\n",
      "N foreground 22593, N  background 0,unable to generate class balanced samples.\n",
      "N foreground 10992, N  background 0,unable to generate class balanced samples.\n",
      "N foreground 17097, N  background 0,unable to generate class balanced samples.\n",
      "N foreground 16115, N  background 0,unable to generate class balanced samples.\n",
      "N foreground 16682, N  background 0,unable to generate class balanced samples.\n",
      "N foreground 13064, N  background 0,unable to generate class balanced samples.\n",
      "N foreground 16438, N  background 0,unable to generate class balanced samples.\n",
      "N foreground 15838, N  background 0,unable to generate class balanced samples.\n",
      "N foreground 13138, N  background 0,unable to generate class balanced samples.\n",
      "N foreground 15619, N  background 0,unable to generate class balanced samples.\n",
      "N foreground 14809, N  background 0,unable to generate class balanced samples.\n",
      "N foreground 12122, N  background 0,unable to generate class balanced samples.\n",
      "N foreground 14262, N  background 0,unable to generate class balanced samples.\n",
      "N foreground 10474, N  background 0,unable to generate class balanced samples.\n",
      "N foreground 16450, N  background 0,unable to generate class balanced samples.\n",
      "N foreground 15909, N  background 0,unable to generate class balanced samples.\n",
      "N foreground 13809, N  background 0,unable to generate class balanced samples.\n",
      "N foreground 14230, N  background 0,unable to generate class balanced samples.\n",
      "N foreground 15184, N  background 0,unable to generate class balanced samples.\n",
      "N foreground 14317, N  background 0,unable to generate class balanced samples.\n",
      "N foreground 10533, N  background 0,unable to generate class balanced samples.\n"
     ]
    },
    {
     "name": "stdout",
     "output_type": "stream",
     "text": [
      "1/13, train_loss: 0.2077\n",
      "2/13, train_loss: 0.1746\n",
      "3/13, train_loss: 0.1897\n",
      "4/13, train_loss: 0.2089\n",
      "5/13, train_loss: 0.1837\n",
      "6/13, train_loss: 0.2028\n",
      "7/13, train_loss: 0.1812\n",
      "8/13, train_loss: 0.2018\n",
      "9/13, train_loss: 0.1729\n",
      "10/13, train_loss: 0.1788\n",
      "11/13, train_loss: 0.2128\n",
      "12/13, train_loss: 0.2060\n",
      "13/13, train_loss: 0.1917\n",
      "epoch 66 average loss: 0.1933\n"
     ]
    },
    {
     "name": "stderr",
     "output_type": "stream",
     "text": [
      "N foreground 18264, N  background 0,unable to generate class balanced samples.\n",
      "N foreground 13080, N  background 0,unable to generate class balanced samples.\n",
      "N foreground 13981, N  background 0,unable to generate class balanced samples.\n",
      "N foreground 16021, N  background 0,unable to generate class balanced samples.\n",
      "N foreground 14351, N  background 0,unable to generate class balanced samples.\n",
      "N foreground 14149, N  background 0,unable to generate class balanced samples.\n",
      "N foreground 10539, N  background 0,unable to generate class balanced samples.\n",
      "N foreground 14458, N  background 0,unable to generate class balanced samples.\n",
      "N foreground 14199, N  background 0,unable to generate class balanced samples.\n"
     ]
    },
    {
     "name": "stdout",
     "output_type": "stream",
     "text": [
      "current epoch: 66 current mean dice: 0.8268\n",
      "best mean dice: 0.8277at epoch: 65\n",
      "----------\n",
      "epoch 67/150\n"
     ]
    },
    {
     "name": "stderr",
     "output_type": "stream",
     "text": [
      "N foreground 16438, N  background 0,unable to generate class balanced samples.\n",
      "N foreground 16450, N  background 0,unable to generate class balanced samples.\n",
      "N foreground 15838, N  background 0,unable to generate class balanced samples.\n",
      "N foreground 19210, N  background 0,unable to generate class balanced samples.\n",
      "N foreground 13958, N  background 0,unable to generate class balanced samples.\n",
      "N foreground 8935, N  background 0,unable to generate class balanced samples.\n",
      "N foreground 14230, N  background 0,unable to generate class balanced samples.\n",
      "N foreground 16115, N  background 0,unable to generate class balanced samples.\n",
      "N foreground 16388, N  background 0,unable to generate class balanced samples.\n",
      "N foreground 12122, N  background 0,unable to generate class balanced samples.\n",
      "N foreground 14809, N  background 0,unable to generate class balanced samples.\n",
      "N foreground 13809, N  background 0,unable to generate class balanced samples.\n",
      "N foreground 13138, N  background 0,unable to generate class balanced samples.\n",
      "N foreground 16682, N  background 0,unable to generate class balanced samples.\n",
      "N foreground 17097, N  background 0,unable to generate class balanced samples.\n",
      "N foreground 14317, N  background 0,unable to generate class balanced samples.\n",
      "N foreground 22593, N  background 0,unable to generate class balanced samples.\n",
      "N foreground 13064, N  background 0,unable to generate class balanced samples.\n",
      "N foreground 17716, N  background 0,unable to generate class balanced samples.\n",
      "N foreground 10474, N  background 0,unable to generate class balanced samples.\n",
      "N foreground 15909, N  background 0,unable to generate class balanced samples.\n",
      "N foreground 14262, N  background 0,unable to generate class balanced samples.\n",
      "N foreground 15184, N  background 0,unable to generate class balanced samples.\n",
      "N foreground 10533, N  background 0,unable to generate class balanced samples.\n",
      "N foreground 15619, N  background 0,unable to generate class balanced samples.\n",
      "N foreground 10992, N  background 0,unable to generate class balanced samples.\n"
     ]
    },
    {
     "name": "stdout",
     "output_type": "stream",
     "text": [
      "1/13, train_loss: 0.1901\n",
      "2/13, train_loss: 0.1784\n",
      "3/13, train_loss: 0.2067\n",
      "4/13, train_loss: 0.1890\n",
      "5/13, train_loss: 0.1955\n",
      "6/13, train_loss: 0.1893\n",
      "7/13, train_loss: 0.2084\n",
      "8/13, train_loss: 0.2020\n",
      "9/13, train_loss: 0.1936\n",
      "10/13, train_loss: 0.1740\n",
      "11/13, train_loss: 0.1839\n",
      "12/13, train_loss: 0.1743\n",
      "13/13, train_loss: 0.2309\n",
      "epoch 67 average loss: 0.1935\n"
     ]
    },
    {
     "name": "stderr",
     "output_type": "stream",
     "text": [
      "N foreground 16021, N  background 0,unable to generate class balanced samples.\n",
      "N foreground 14351, N  background 0,unable to generate class balanced samples.\n",
      "N foreground 10539, N  background 0,unable to generate class balanced samples.\n",
      "N foreground 13981, N  background 0,unable to generate class balanced samples.\n",
      "N foreground 14149, N  background 0,unable to generate class balanced samples.\n",
      "N foreground 18264, N  background 0,unable to generate class balanced samples.\n",
      "N foreground 13080, N  background 0,unable to generate class balanced samples.\n",
      "N foreground 14458, N  background 0,unable to generate class balanced samples.\n",
      "N foreground 14199, N  background 0,unable to generate class balanced samples.\n"
     ]
    },
    {
     "name": "stdout",
     "output_type": "stream",
     "text": [
      "current epoch: 67 current mean dice: 0.8140\n",
      "best mean dice: 0.8277at epoch: 65\n",
      "----------\n",
      "epoch 68/150\n"
     ]
    },
    {
     "name": "stderr",
     "output_type": "stream",
     "text": [
      "N foreground 8935, N  background 0,unable to generate class balanced samples.\n",
      "N foreground 13138, N  background 0,unable to generate class balanced samples.\n",
      "N foreground 22593, N  background 0,unable to generate class balanced samples.\n",
      "N foreground 15184, N  background 0,unable to generate class balanced samples.\n",
      "N foreground 10992, N  background 0,unable to generate class balanced samples.\n",
      "N foreground 13958, N  background 0,unable to generate class balanced samples.\n",
      "N foreground 10474, N  background 0,unable to generate class balanced samples.\n",
      "N foreground 16438, N  background 0,unable to generate class balanced samples.\n",
      "N foreground 17716, N  background 0,unable to generate class balanced samples.\n",
      "N foreground 16682, N  background 0,unable to generate class balanced samples.\n",
      "N foreground 14317, N  background 0,unable to generate class balanced samples.\n",
      "N foreground 10533, N  background 0,unable to generate class balanced samples.\n",
      "N foreground 16388, N  background 0,unable to generate class balanced samples.\n",
      "N foreground 15838, N  background 0,unable to generate class balanced samples.\n",
      "N foreground 14809, N  background 0,unable to generate class balanced samples.\n",
      "N foreground 14230, N  background 0,unable to generate class balanced samples.\n",
      "N foreground 19210, N  background 0,unable to generate class balanced samples.\n",
      "N foreground 12122, N  background 0,unable to generate class balanced samples.\n",
      "N foreground 13064, N  background 0,unable to generate class balanced samples.\n",
      "N foreground 13809, N  background 0,unable to generate class balanced samples.\n",
      "N foreground 16450, N  background 0,unable to generate class balanced samples.\n",
      "N foreground 15619, N  background 0,unable to generate class balanced samples.\n",
      "N foreground 17097, N  background 0,unable to generate class balanced samples.\n",
      "N foreground 15909, N  background 0,unable to generate class balanced samples.\n",
      "N foreground 16115, N  background 0,unable to generate class balanced samples.\n",
      "N foreground 14262, N  background 0,unable to generate class balanced samples.\n"
     ]
    },
    {
     "name": "stdout",
     "output_type": "stream",
     "text": [
      "1/13, train_loss: 0.1783\n",
      "2/13, train_loss: 0.1960\n",
      "3/13, train_loss: 0.2106\n",
      "4/13, train_loss: 0.1909\n",
      "5/13, train_loss: 0.2044\n",
      "6/13, train_loss: 0.2151\n",
      "7/13, train_loss: 0.2094\n",
      "8/13, train_loss: 0.1869\n",
      "9/13, train_loss: 0.2011\n",
      "10/13, train_loss: 0.1949\n",
      "11/13, train_loss: 0.1954\n",
      "12/13, train_loss: 0.1762\n",
      "13/13, train_loss: 0.1887\n",
      "epoch 68 average loss: 0.1960\n"
     ]
    },
    {
     "name": "stderr",
     "output_type": "stream",
     "text": [
      "N foreground 10539, N  background 0,unable to generate class balanced samples.\n",
      "N foreground 14149, N  background 0,unable to generate class balanced samples.\n",
      "N foreground 13981, N  background 0,unable to generate class balanced samples.\n",
      "N foreground 18264, N  background 0,unable to generate class balanced samples.\n",
      "N foreground 14351, N  background 0,unable to generate class balanced samples.\n",
      "N foreground 16021, N  background 0,unable to generate class balanced samples.\n",
      "N foreground 13080, N  background 0,unable to generate class balanced samples.\n",
      "N foreground 14458, N  background 0,unable to generate class balanced samples.\n",
      "N foreground 14199, N  background 0,unable to generate class balanced samples.\n"
     ]
    },
    {
     "name": "stdout",
     "output_type": "stream",
     "text": [
      "current epoch: 68 current mean dice: 0.8273\n",
      "best mean dice: 0.8277at epoch: 65\n",
      "----------\n",
      "epoch 69/150\n"
     ]
    },
    {
     "name": "stderr",
     "output_type": "stream",
     "text": [
      "N foreground 8935, N  background 0,unable to generate class balanced samples.\n",
      "N foreground 16438, N  background 0,unable to generate class balanced samples.\n",
      "N foreground 15619, N  background 0,unable to generate class balanced samples.\n",
      "N foreground 15909, N  background 0,unable to generate class balanced samples.\n",
      "N foreground 14317, N  background 0,unable to generate class balanced samples.\n",
      "N foreground 13958, N  background 0,unable to generate class balanced samples.\n",
      "N foreground 13064, N  background 0,unable to generate class balanced samples.\n",
      "N foreground 17716, N  background 0,unable to generate class balanced samples.\n",
      "N foreground 16450, N  background 0,unable to generate class balanced samples.\n",
      "N foreground 15838, N  background 0,unable to generate class balanced samples.\n",
      "N foreground 10992, N  background 0,unable to generate class balanced samples.\n",
      "N foreground 10474, N  background 0,unable to generate class balanced samples.\n",
      "N foreground 16115, N  background 0,unable to generate class balanced samples.\n",
      "N foreground 10533, N  background 0,unable to generate class balanced samples.\n",
      "N foreground 17097, N  background 0,unable to generate class balanced samples.\n",
      "N foreground 16682, N  background 0,unable to generate class balanced samples.\n",
      "N foreground 13809, N  background 0,unable to generate class balanced samples.\n",
      "N foreground 15184, N  background 0,unable to generate class balanced samples.\n",
      "N foreground 14262, N  background 0,unable to generate class balanced samples.\n",
      "N foreground 19210, N  background 0,unable to generate class balanced samples.\n",
      "N foreground 16388, N  background 0,unable to generate class balanced samples.\n",
      "N foreground 14809, N  background 0,unable to generate class balanced samples.\n",
      "N foreground 14230, N  background 0,unable to generate class balanced samples.\n",
      "N foreground 22593, N  background 0,unable to generate class balanced samples.\n",
      "N foreground 13138, N  background 0,unable to generate class balanced samples.\n",
      "N foreground 12122, N  background 0,unable to generate class balanced samples.\n"
     ]
    },
    {
     "name": "stdout",
     "output_type": "stream",
     "text": [
      "1/13, train_loss: 0.2145\n",
      "2/13, train_loss: 0.1948\n",
      "3/13, train_loss: 0.1832\n",
      "4/13, train_loss: 0.1965\n",
      "5/13, train_loss: 0.1795\n",
      "6/13, train_loss: 0.2065\n",
      "7/13, train_loss: 0.2144\n",
      "8/13, train_loss: 0.1756\n",
      "9/13, train_loss: 0.1853\n",
      "10/13, train_loss: 0.1713\n",
      "11/13, train_loss: 0.1896\n",
      "12/13, train_loss: 0.1885\n",
      "13/13, train_loss: 0.1923\n",
      "epoch 69 average loss: 0.1917\n"
     ]
    },
    {
     "name": "stderr",
     "output_type": "stream",
     "text": [
      "N foreground 16021, N  background 0,unable to generate class balanced samples.\n",
      "N foreground 10539, N  background 0,unable to generate class balanced samples.\n",
      "N foreground 13981, N  background 0,unable to generate class balanced samples.\n",
      "N foreground 13080, N  background 0,unable to generate class balanced samples.\n",
      "N foreground 14149, N  background 0,unable to generate class balanced samples.\n",
      "N foreground 18264, N  background 0,unable to generate class balanced samples.\n",
      "N foreground 14351, N  background 0,unable to generate class balanced samples.\n",
      "N foreground 14458, N  background 0,unable to generate class balanced samples.\n",
      "N foreground 14199, N  background 0,unable to generate class balanced samples.\n"
     ]
    },
    {
     "name": "stdout",
     "output_type": "stream",
     "text": [
      "saved new best metric model\n",
      "current epoch: 69 current mean dice: 0.8325\n",
      "best mean dice: 0.8325at epoch: 69\n",
      "----------\n",
      "epoch 70/150\n"
     ]
    },
    {
     "name": "stderr",
     "output_type": "stream",
     "text": [
      "N foreground 16438, N  background 0,unable to generate class balanced samples.\n",
      "N foreground 14317, N  background 0,unable to generate class balanced samples.\n",
      "N foreground 17097, N  background 0,unable to generate class balanced samples.\n",
      "N foreground 14230, N  background 0,unable to generate class balanced samples.\n",
      "N foreground 14809, N  background 0,unable to generate class balanced samples.\n",
      "N foreground 12122, N  background 0,unable to generate class balanced samples.\n",
      "N foreground 16682, N  background 0,unable to generate class balanced samples.\n",
      "N foreground 15619, N  background 0,unable to generate class balanced samples.\n",
      "N foreground 19210, N  background 0,unable to generate class balanced samples.\n",
      "N foreground 15909, N  background 0,unable to generate class balanced samples.\n",
      "N foreground 16450, N  background 0,unable to generate class balanced samples.\n",
      "N foreground 13064, N  background 0,unable to generate class balanced samples.\n",
      "N foreground 13138, N  background 0,unable to generate class balanced samples.\n",
      "N foreground 10533, N  background 0,unable to generate class balanced samples.\n",
      "N foreground 22593, N  background 0,unable to generate class balanced samples.\n",
      "N foreground 8935, N  background 0,unable to generate class balanced samples.\n",
      "N foreground 10474, N  background 0,unable to generate class balanced samples.\n",
      "N foreground 17716, N  background 0,unable to generate class balanced samples.\n",
      "N foreground 16388, N  background 0,unable to generate class balanced samples.\n",
      "N foreground 14262, N  background 0,unable to generate class balanced samples.\n",
      "N foreground 16115, N  background 0,unable to generate class balanced samples.\n",
      "N foreground 13958, N  background 0,unable to generate class balanced samples.\n",
      "N foreground 15838, N  background 0,unable to generate class balanced samples.\n",
      "N foreground 15184, N  background 0,unable to generate class balanced samples.\n",
      "N foreground 10992, N  background 0,unable to generate class balanced samples.\n",
      "N foreground 13809, N  background 0,unable to generate class balanced samples.\n"
     ]
    },
    {
     "name": "stdout",
     "output_type": "stream",
     "text": [
      "1/13, train_loss: 0.1939\n",
      "2/13, train_loss: 0.1902\n",
      "3/13, train_loss: 0.1852\n",
      "4/13, train_loss: 0.1810\n",
      "5/13, train_loss: 0.2446\n",
      "6/13, train_loss: 0.1887\n",
      "7/13, train_loss: 0.2006\n",
      "8/13, train_loss: 0.2007\n",
      "9/13, train_loss: 0.1997\n",
      "10/13, train_loss: 0.1798\n",
      "11/13, train_loss: 0.1820\n",
      "12/13, train_loss: 0.1936\n",
      "13/13, train_loss: 0.1766\n",
      "epoch 70 average loss: 0.1936\n"
     ]
    },
    {
     "name": "stderr",
     "output_type": "stream",
     "text": [
      "N foreground 16021, N  background 0,unable to generate class balanced samples.\n",
      "N foreground 13080, N  background 0,unable to generate class balanced samples.\n",
      "N foreground 14351, N  background 0,unable to generate class balanced samples.\n",
      "N foreground 14149, N  background 0,unable to generate class balanced samples.\n",
      "N foreground 18264, N  background 0,unable to generate class balanced samples.\n",
      "N foreground 10539, N  background 0,unable to generate class balanced samples.\n",
      "N foreground 13981, N  background 0,unable to generate class balanced samples.\n",
      "N foreground 14458, N  background 0,unable to generate class balanced samples.\n",
      "N foreground 14199, N  background 0,unable to generate class balanced samples.\n"
     ]
    },
    {
     "name": "stdout",
     "output_type": "stream",
     "text": [
      "current epoch: 70 current mean dice: 0.8250\n",
      "best mean dice: 0.8325at epoch: 69\n",
      "----------\n",
      "epoch 71/150\n"
     ]
    },
    {
     "name": "stderr",
     "output_type": "stream",
     "text": [
      "N foreground 12122, N  background 0,unable to generate class balanced samples.\n",
      "N foreground 15619, N  background 0,unable to generate class balanced samples.\n",
      "N foreground 16115, N  background 0,unable to generate class balanced samples.\n",
      "N foreground 15838, N  background 0,unable to generate class balanced samples.\n",
      "N foreground 16438, N  background 0,unable to generate class balanced samples.\n",
      "N foreground 17716, N  background 0,unable to generate class balanced samples.\n",
      "N foreground 13809, N  background 0,unable to generate class balanced samples.\n",
      "N foreground 16388, N  background 0,unable to generate class balanced samples.\n",
      "N foreground 10992, N  background 0,unable to generate class balanced samples.\n",
      "N foreground 15909, N  background 0,unable to generate class balanced samples.\n",
      "N foreground 19210, N  background 0,unable to generate class balanced samples.\n",
      "N foreground 14317, N  background 0,unable to generate class balanced samples.\n",
      "N foreground 8935, N  background 0,unable to generate class balanced samples.\n",
      "N foreground 10474, N  background 0,unable to generate class balanced samples.\n",
      "N foreground 15184, N  background 0,unable to generate class balanced samples.\n",
      "N foreground 14809, N  background 0,unable to generate class balanced samples.\n",
      "N foreground 10533, N  background 0,unable to generate class balanced samples.\n",
      "N foreground 16450, N  background 0,unable to generate class balanced samples.\n",
      "N foreground 16682, N  background 0,unable to generate class balanced samples.\n",
      "N foreground 13064, N  background 0,unable to generate class balanced samples.\n",
      "N foreground 13958, N  background 0,unable to generate class balanced samples.\n",
      "N foreground 13138, N  background 0,unable to generate class balanced samples.\n",
      "N foreground 14262, N  background 0,unable to generate class balanced samples.\n",
      "N foreground 14230, N  background 0,unable to generate class balanced samples.\n",
      "N foreground 17097, N  background 0,unable to generate class balanced samples.\n",
      "N foreground 22593, N  background 0,unable to generate class balanced samples.\n"
     ]
    },
    {
     "name": "stdout",
     "output_type": "stream",
     "text": [
      "1/13, train_loss: 0.1939\n",
      "2/13, train_loss: 0.1833\n",
      "3/13, train_loss: 0.1933\n",
      "4/13, train_loss: 0.1948\n",
      "5/13, train_loss: 0.1957\n",
      "6/13, train_loss: 0.1947\n",
      "7/13, train_loss: 0.1771\n",
      "8/13, train_loss: 0.1955\n",
      "9/13, train_loss: 0.1904\n",
      "10/13, train_loss: 0.1959\n",
      "11/13, train_loss: 0.1904\n",
      "12/13, train_loss: 0.1662\n",
      "13/13, train_loss: 0.1855\n",
      "epoch 71 average loss: 0.1890\n"
     ]
    },
    {
     "name": "stderr",
     "output_type": "stream",
     "text": [
      "N foreground 13981, N  background 0,unable to generate class balanced samples.\n",
      "N foreground 10539, N  background 0,unable to generate class balanced samples.\n",
      "N foreground 14351, N  background 0,unable to generate class balanced samples.\n",
      "N foreground 13080, N  background 0,unable to generate class balanced samples.\n",
      "N foreground 14149, N  background 0,unable to generate class balanced samples.\n",
      "N foreground 18264, N  background 0,unable to generate class balanced samples.\n",
      "N foreground 16021, N  background 0,unable to generate class balanced samples.\n",
      "N foreground 14458, N  background 0,unable to generate class balanced samples.\n",
      "N foreground 14199, N  background 0,unable to generate class balanced samples.\n"
     ]
    },
    {
     "name": "stdout",
     "output_type": "stream",
     "text": [
      "current epoch: 71 current mean dice: 0.8296\n",
      "best mean dice: 0.8325at epoch: 69\n",
      "----------\n",
      "epoch 72/150\n"
     ]
    },
    {
     "name": "stderr",
     "output_type": "stream",
     "text": [
      "N foreground 15909, N  background 0,unable to generate class balanced samples.\n",
      "N foreground 10992, N  background 0,unable to generate class balanced samples.\n",
      "N foreground 15619, N  background 0,unable to generate class balanced samples.\n",
      "N foreground 14809, N  background 0,unable to generate class balanced samples.\n",
      "N foreground 8935, N  background 0,unable to generate class balanced samples.\n",
      "N foreground 15184, N  background 0,unable to generate class balanced samples.\n",
      "N foreground 14317, N  background 0,unable to generate class balanced samples.\n",
      "N foreground 16438, N  background 0,unable to generate class balanced samples.\n",
      "N foreground 14230, N  background 0,unable to generate class balanced samples.\n",
      "N foreground 15838, N  background 0,unable to generate class balanced samples.\n",
      "N foreground 16388, N  background 0,unable to generate class balanced samples.\n",
      "N foreground 16682, N  background 0,unable to generate class balanced samples.\n",
      "N foreground 17716, N  background 0,unable to generate class balanced samples.\n",
      "N foreground 10533, N  background 0,unable to generate class balanced samples.\n",
      "N foreground 17097, N  background 0,unable to generate class balanced samples.\n",
      "N foreground 10474, N  background 0,unable to generate class balanced samples.\n",
      "N foreground 13138, N  background 0,unable to generate class balanced samples.\n",
      "N foreground 16450, N  background 0,unable to generate class balanced samples.\n",
      "N foreground 13064, N  background 0,unable to generate class balanced samples.\n",
      "N foreground 16115, N  background 0,unable to generate class balanced samples.\n",
      "N foreground 13809, N  background 0,unable to generate class balanced samples.\n",
      "N foreground 19210, N  background 0,unable to generate class balanced samples.\n",
      "N foreground 14262, N  background 0,unable to generate class balanced samples.\n",
      "N foreground 12122, N  background 0,unable to generate class balanced samples.\n",
      "N foreground 22593, N  background 0,unable to generate class balanced samples.\n",
      "N foreground 13958, N  background 0,unable to generate class balanced samples.\n"
     ]
    },
    {
     "name": "stdout",
     "output_type": "stream",
     "text": [
      "1/13, train_loss: 0.1831\n",
      "2/13, train_loss: 0.1949\n",
      "3/13, train_loss: 0.1951\n",
      "4/13, train_loss: 0.2033\n",
      "5/13, train_loss: 0.2029\n",
      "6/13, train_loss: 0.1717\n",
      "7/13, train_loss: 0.1881\n",
      "8/13, train_loss: 0.2042\n",
      "9/13, train_loss: 0.1687\n",
      "10/13, train_loss: 0.1957\n",
      "11/13, train_loss: 0.1939\n",
      "12/13, train_loss: 0.1960\n",
      "13/13, train_loss: 0.1820\n",
      "epoch 72 average loss: 0.1907\n"
     ]
    },
    {
     "name": "stderr",
     "output_type": "stream",
     "text": [
      "N foreground 16021, N  background 0,unable to generate class balanced samples.\n",
      "N foreground 14351, N  background 0,unable to generate class balanced samples.\n",
      "N foreground 13080, N  background 0,unable to generate class balanced samples.\n",
      "N foreground 18264, N  background 0,unable to generate class balanced samples.\n",
      "N foreground 14149, N  background 0,unable to generate class balanced samples.\n",
      "N foreground 10539, N  background 0,unable to generate class balanced samples.\n",
      "N foreground 13981, N  background 0,unable to generate class balanced samples.\n",
      "N foreground 14458, N  background 0,unable to generate class balanced samples.\n",
      "N foreground 14199, N  background 0,unable to generate class balanced samples.\n"
     ]
    },
    {
     "name": "stdout",
     "output_type": "stream",
     "text": [
      "current epoch: 72 current mean dice: 0.8283\n",
      "best mean dice: 0.8325at epoch: 69\n",
      "----------\n",
      "epoch 73/150\n"
     ]
    },
    {
     "name": "stderr",
     "output_type": "stream",
     "text": [
      "N foreground 14809, N  background 0,unable to generate class balanced samples.\n",
      "N foreground 13809, N  background 0,unable to generate class balanced samples.\n",
      "N foreground 16438, N  background 0,unable to generate class balanced samples.\n",
      "N foreground 16682, N  background 0,unable to generate class balanced samples.\n",
      "N foreground 10474, N  background 0,unable to generate class balanced samples.\n",
      "N foreground 17716, N  background 0,unable to generate class balanced samples.\n",
      "N foreground 14317, N  background 0,unable to generate class balanced samples.\n",
      "N foreground 14262, N  background 0,unable to generate class balanced samples.\n",
      "N foreground 15838, N  background 0,unable to generate class balanced samples.\n",
      "N foreground 22593, N  background 0,unable to generate class balanced samples.\n",
      "N foreground 12122, N  background 0,unable to generate class balanced samples.\n",
      "N foreground 8935, N  background 0,unable to generate class balanced samples.\n",
      "N foreground 10992, N  background 0,unable to generate class balanced samples.\n",
      "N foreground 16115, N  background 0,unable to generate class balanced samples.\n",
      "N foreground 19210, N  background 0,unable to generate class balanced samples.\n",
      "N foreground 14230, N  background 0,unable to generate class balanced samples.\n",
      "N foreground 13958, N  background 0,unable to generate class balanced samples.\n",
      "N foreground 16450, N  background 0,unable to generate class balanced samples.\n",
      "N foreground 13138, N  background 0,unable to generate class balanced samples.\n",
      "N foreground 17097, N  background 0,unable to generate class balanced samples.\n",
      "N foreground 15619, N  background 0,unable to generate class balanced samples.\n",
      "N foreground 15909, N  background 0,unable to generate class balanced samples.\n",
      "N foreground 10533, N  background 0,unable to generate class balanced samples.\n",
      "N foreground 15184, N  background 0,unable to generate class balanced samples.\n",
      "N foreground 13064, N  background 0,unable to generate class balanced samples.\n",
      "N foreground 16388, N  background 0,unable to generate class balanced samples.\n"
     ]
    },
    {
     "name": "stdout",
     "output_type": "stream",
     "text": [
      "1/13, train_loss: 0.1818\n",
      "2/13, train_loss: 0.1937\n",
      "3/13, train_loss: 0.1956\n",
      "4/13, train_loss: 0.1915\n",
      "5/13, train_loss: 0.1762\n",
      "6/13, train_loss: 0.1947\n",
      "7/13, train_loss: 0.2015\n",
      "8/13, train_loss: 0.1744\n",
      "9/13, train_loss: 0.1921\n",
      "10/13, train_loss: 0.1752\n",
      "11/13, train_loss: 0.1961\n",
      "12/13, train_loss: 0.1852\n",
      "13/13, train_loss: 0.1950\n",
      "epoch 73 average loss: 0.1887\n"
     ]
    },
    {
     "name": "stderr",
     "output_type": "stream",
     "text": [
      "N foreground 16021, N  background 0,unable to generate class balanced samples.\n",
      "N foreground 14351, N  background 0,unable to generate class balanced samples.\n",
      "N foreground 18264, N  background 0,unable to generate class balanced samples.\n",
      "N foreground 10539, N  background 0,unable to generate class balanced samples.\n",
      "N foreground 13981, N  background 0,unable to generate class balanced samples.\n",
      "N foreground 13080, N  background 0,unable to generate class balanced samples.\n",
      "N foreground 14149, N  background 0,unable to generate class balanced samples.\n",
      "N foreground 14458, N  background 0,unable to generate class balanced samples.\n",
      "N foreground 14199, N  background 0,unable to generate class balanced samples.\n"
     ]
    },
    {
     "name": "stdout",
     "output_type": "stream",
     "text": [
      "current epoch: 73 current mean dice: 0.8253\n",
      "best mean dice: 0.8325at epoch: 69\n",
      "----------\n",
      "epoch 74/150\n"
     ]
    },
    {
     "name": "stderr",
     "output_type": "stream",
     "text": [
      "N foreground 22593, N  background 0,unable to generate class balanced samples.\n",
      "N foreground 15619, N  background 0,unable to generate class balanced samples.\n",
      "N foreground 17716, N  background 0,unable to generate class balanced samples.\n",
      "N foreground 16115, N  background 0,unable to generate class balanced samples.\n",
      "N foreground 16682, N  background 0,unable to generate class balanced samples.\n",
      "N foreground 16450, N  background 0,unable to generate class balanced samples.\n",
      "N foreground 17097, N  background 0,unable to generate class balanced samples.\n",
      "N foreground 19210, N  background 0,unable to generate class balanced samples.\n",
      "N foreground 14809, N  background 0,unable to generate class balanced samples.\n",
      "N foreground 13064, N  background 0,unable to generate class balanced samples.\n",
      "N foreground 8935, N  background 0,unable to generate class balanced samples.\n",
      "N foreground 14317, N  background 0,unable to generate class balanced samples.\n",
      "N foreground 15838, N  background 0,unable to generate class balanced samples.\n",
      "N foreground 10474, N  background 0,unable to generate class balanced samples.\n",
      "N foreground 10992, N  background 0,unable to generate class balanced samples.\n",
      "N foreground 16388, N  background 0,unable to generate class balanced samples.\n",
      "N foreground 14262, N  background 0,unable to generate class balanced samples.\n",
      "N foreground 13138, N  background 0,unable to generate class balanced samples.\n",
      "N foreground 12122, N  background 0,unable to generate class balanced samples.\n",
      "N foreground 14230, N  background 0,unable to generate class balanced samples.\n",
      "N foreground 13958, N  background 0,unable to generate class balanced samples.\n",
      "N foreground 15184, N  background 0,unable to generate class balanced samples.\n",
      "N foreground 16438, N  background 0,unable to generate class balanced samples.\n",
      "N foreground 13809, N  background 0,unable to generate class balanced samples.\n",
      "N foreground 10533, N  background 0,unable to generate class balanced samples.\n",
      "N foreground 15909, N  background 0,unable to generate class balanced samples.\n"
     ]
    },
    {
     "name": "stdout",
     "output_type": "stream",
     "text": [
      "1/13, train_loss: 0.2104\n",
      "2/13, train_loss: 0.1862\n",
      "3/13, train_loss: 0.1971\n",
      "4/13, train_loss: 0.2098\n",
      "5/13, train_loss: 0.1770\n",
      "6/13, train_loss: 0.1810\n",
      "7/13, train_loss: 0.1780\n",
      "8/13, train_loss: 0.1906\n",
      "9/13, train_loss: 0.1717\n",
      "10/13, train_loss: 0.1814\n",
      "11/13, train_loss: 0.1942\n",
      "12/13, train_loss: 0.1836\n",
      "13/13, train_loss: 0.1927\n",
      "epoch 74 average loss: 0.1887\n"
     ]
    },
    {
     "name": "stderr",
     "output_type": "stream",
     "text": [
      "N foreground 13080, N  background 0,unable to generate class balanced samples.\n",
      "N foreground 18264, N  background 0,unable to generate class balanced samples.\n",
      "N foreground 14149, N  background 0,unable to generate class balanced samples.\n",
      "N foreground 14351, N  background 0,unable to generate class balanced samples.\n",
      "N foreground 16021, N  background 0,unable to generate class balanced samples.\n",
      "N foreground 13981, N  background 0,unable to generate class balanced samples.\n",
      "N foreground 10539, N  background 0,unable to generate class balanced samples.\n",
      "N foreground 14458, N  background 0,unable to generate class balanced samples.\n",
      "N foreground 14199, N  background 0,unable to generate class balanced samples.\n"
     ]
    },
    {
     "name": "stdout",
     "output_type": "stream",
     "text": [
      "current epoch: 74 current mean dice: 0.8217\n",
      "best mean dice: 0.8325at epoch: 69\n",
      "----------\n",
      "epoch 75/150\n"
     ]
    },
    {
     "name": "stderr",
     "output_type": "stream",
     "text": [
      "N foreground 15909, N  background 0,unable to generate class balanced samples.\n",
      "N foreground 19210, N  background 0,unable to generate class balanced samples.\n",
      "N foreground 15184, N  background 0,unable to generate class balanced samples.\n",
      "N foreground 8935, N  background 0,unable to generate class balanced samples.\n",
      "N foreground 22593, N  background 0,unable to generate class balanced samples.\n",
      "N foreground 15838, N  background 0,unable to generate class balanced samples.\n",
      "N foreground 16388, N  background 0,unable to generate class balanced samples.\n",
      "N foreground 10533, N  background 0,unable to generate class balanced samples.\n",
      "N foreground 14230, N  background 0,unable to generate class balanced samples.\n",
      "N foreground 13958, N  background 0,unable to generate class balanced samples.\n",
      "N foreground 14262, N  background 0,unable to generate class balanced samples.\n",
      "N foreground 16115, N  background 0,unable to generate class balanced samples.\n",
      "N foreground 10474, N  background 0,unable to generate class balanced samples.\n",
      "N foreground 16438, N  background 0,unable to generate class balanced samples.\n",
      "N foreground 16450, N  background 0,unable to generate class balanced samples.\n",
      "N foreground 13064, N  background 0,unable to generate class balanced samples.\n",
      "N foreground 16682, N  background 0,unable to generate class balanced samples.\n",
      "N foreground 10992, N  background 0,unable to generate class balanced samples.\n",
      "N foreground 17716, N  background 0,unable to generate class balanced samples.\n",
      "N foreground 13809, N  background 0,unable to generate class balanced samples.\n",
      "N foreground 13138, N  background 0,unable to generate class balanced samples.\n",
      "N foreground 15619, N  background 0,unable to generate class balanced samples.\n",
      "N foreground 14317, N  background 0,unable to generate class balanced samples.\n",
      "N foreground 17097, N  background 0,unable to generate class balanced samples.\n",
      "N foreground 12122, N  background 0,unable to generate class balanced samples.\n",
      "N foreground 14809, N  background 0,unable to generate class balanced samples.\n"
     ]
    },
    {
     "name": "stdout",
     "output_type": "stream",
     "text": [
      "1/13, train_loss: 0.1759\n",
      "2/13, train_loss: 0.1855\n",
      "3/13, train_loss: 0.1947\n",
      "4/13, train_loss: 0.2072\n",
      "5/13, train_loss: 0.1934\n",
      "6/13, train_loss: 0.2001\n",
      "7/13, train_loss: 0.1628\n",
      "8/13, train_loss: 0.1930\n",
      "9/13, train_loss: 0.1938\n",
      "10/13, train_loss: 0.1777\n",
      "11/13, train_loss: 0.1926\n",
      "12/13, train_loss: 0.1766\n",
      "13/13, train_loss: 0.1828\n",
      "epoch 75 average loss: 0.1874\n"
     ]
    },
    {
     "name": "stderr",
     "output_type": "stream",
     "text": [
      "N foreground 14351, N  background 0,unable to generate class balanced samples.\n",
      "N foreground 14149, N  background 0,unable to generate class balanced samples.\n",
      "N foreground 13981, N  background 0,unable to generate class balanced samples.\n",
      "N foreground 13080, N  background 0,unable to generate class balanced samples.\n",
      "N foreground 10539, N  background 0,unable to generate class balanced samples.\n",
      "N foreground 18264, N  background 0,unable to generate class balanced samples.\n",
      "N foreground 16021, N  background 0,unable to generate class balanced samples.\n",
      "N foreground 14458, N  background 0,unable to generate class balanced samples.\n",
      "N foreground 14199, N  background 0,unable to generate class balanced samples.\n"
     ]
    },
    {
     "name": "stdout",
     "output_type": "stream",
     "text": [
      "current epoch: 75 current mean dice: 0.8317\n",
      "best mean dice: 0.8325at epoch: 69\n",
      "----------\n",
      "epoch 76/150\n"
     ]
    },
    {
     "name": "stderr",
     "output_type": "stream",
     "text": [
      "N foreground 10533, N  background 0,unable to generate class balanced samples.\n",
      "N foreground 15184, N  background 0,unable to generate class balanced samples.\n",
      "N foreground 15838, N  background 0,unable to generate class balanced samples.\n",
      "N foreground 8935, N  background 0,unable to generate class balanced samples.\n",
      "N foreground 13958, N  background 0,unable to generate class balanced samples.\n",
      "N foreground 14230, N  background 0,unable to generate class balanced samples.\n",
      "N foreground 16388, N  background 0,unable to generate class balanced samples.\n",
      "N foreground 17716, N  background 0,unable to generate class balanced samples.\n",
      "N foreground 14317, N  background 0,unable to generate class balanced samples.\n",
      "N foreground 22593, N  background 0,unable to generate class balanced samples.\n",
      "N foreground 16115, N  background 0,unable to generate class balanced samples.\n",
      "N foreground 14262, N  background 0,unable to generate class balanced samples.\n",
      "N foreground 16682, N  background 0,unable to generate class balanced samples.\n",
      "N foreground 13064, N  background 0,unable to generate class balanced samples.\n",
      "N foreground 16450, N  background 0,unable to generate class balanced samples.\n",
      "N foreground 13138, N  background 0,unable to generate class balanced samples.\n",
      "N foreground 17097, N  background 0,unable to generate class balanced samples.\n",
      "N foreground 14809, N  background 0,unable to generate class balanced samples.\n",
      "N foreground 12122, N  background 0,unable to generate class balanced samples.\n",
      "N foreground 13809, N  background 0,unable to generate class balanced samples.\n",
      "N foreground 10474, N  background 0,unable to generate class balanced samples.\n",
      "N foreground 15619, N  background 0,unable to generate class balanced samples.\n",
      "N foreground 10992, N  background 0,unable to generate class balanced samples.\n",
      "N foreground 15909, N  background 0,unable to generate class balanced samples.\n",
      "N foreground 16438, N  background 0,unable to generate class balanced samples.\n",
      "N foreground 19210, N  background 0,unable to generate class balanced samples.\n"
     ]
    },
    {
     "name": "stdout",
     "output_type": "stream",
     "text": [
      "1/13, train_loss: 0.1808\n",
      "2/13, train_loss: 0.1749\n",
      "3/13, train_loss: 0.1780\n",
      "4/13, train_loss: 0.1853\n",
      "5/13, train_loss: 0.2020\n",
      "6/13, train_loss: 0.2121\n",
      "7/13, train_loss: 0.1880\n",
      "8/13, train_loss: 0.1684\n",
      "9/13, train_loss: 0.1780\n",
      "10/13, train_loss: 0.2045\n",
      "11/13, train_loss: 0.1702\n",
      "12/13, train_loss: 0.1812\n",
      "13/13, train_loss: 0.1929\n",
      "epoch 76 average loss: 0.1859\n"
     ]
    },
    {
     "name": "stderr",
     "output_type": "stream",
     "text": [
      "N foreground 18264, N  background 0,unable to generate class balanced samples.\n",
      "N foreground 14351, N  background 0,unable to generate class balanced samples.\n",
      "N foreground 10539, N  background 0,unable to generate class balanced samples.\n",
      "N foreground 14149, N  background 0,unable to generate class balanced samples.\n",
      "N foreground 16021, N  background 0,unable to generate class balanced samples.\n",
      "N foreground 13080, N  background 0,unable to generate class balanced samples.\n",
      "N foreground 13981, N  background 0,unable to generate class balanced samples.\n",
      "N foreground 14458, N  background 0,unable to generate class balanced samples.\n",
      "N foreground 14199, N  background 0,unable to generate class balanced samples.\n"
     ]
    },
    {
     "name": "stdout",
     "output_type": "stream",
     "text": [
      "saved new best metric model\n",
      "current epoch: 76 current mean dice: 0.8334\n",
      "best mean dice: 0.8334at epoch: 76\n",
      "----------\n",
      "epoch 77/150\n"
     ]
    },
    {
     "name": "stderr",
     "output_type": "stream",
     "text": [
      "N foreground 10992, N  background 0,unable to generate class balanced samples.\n",
      "N foreground 12122, N  background 0,unable to generate class balanced samples.\n",
      "N foreground 15909, N  background 0,unable to generate class balanced samples.\n",
      "N foreground 15619, N  background 0,unable to generate class balanced samples.\n",
      "N foreground 16115, N  background 0,unable to generate class balanced samples.\n",
      "N foreground 14262, N  background 0,unable to generate class balanced samples.\n",
      "N foreground 8935, N  background 0,unable to generate class balanced samples.\n",
      "N foreground 14809, N  background 0,unable to generate class balanced samples.\n",
      "N foreground 17716, N  background 0,unable to generate class balanced samples.\n",
      "N foreground 16450, N  background 0,unable to generate class balanced samples.\n",
      "N foreground 14230, N  background 0,unable to generate class balanced samples.\n",
      "N foreground 16682, N  background 0,unable to generate class balanced samples.\n",
      "N foreground 17097, N  background 0,unable to generate class balanced samples.\n",
      "N foreground 19210, N  background 0,unable to generate class balanced samples.\n",
      "N foreground 22593, N  background 0,unable to generate class balanced samples.\n",
      "N foreground 13809, N  background 0,unable to generate class balanced samples.\n",
      "N foreground 16388, N  background 0,unable to generate class balanced samples.\n",
      "N foreground 13958, N  background 0,unable to generate class balanced samples.\n",
      "N foreground 10533, N  background 0,unable to generate class balanced samples.\n",
      "N foreground 10474, N  background 0,unable to generate class balanced samples.\n",
      "N foreground 15184, N  background 0,unable to generate class balanced samples.\n",
      "N foreground 16438, N  background 0,unable to generate class balanced samples.\n",
      "N foreground 15838, N  background 0,unable to generate class balanced samples.\n",
      "N foreground 13138, N  background 0,unable to generate class balanced samples.\n",
      "N foreground 14317, N  background 0,unable to generate class balanced samples.\n",
      "N foreground 13064, N  background 0,unable to generate class balanced samples.\n"
     ]
    },
    {
     "name": "stdout",
     "output_type": "stream",
     "text": [
      "1/13, train_loss: 0.1662\n",
      "2/13, train_loss: 0.1815\n",
      "3/13, train_loss: 0.1553\n",
      "4/13, train_loss: 0.1782\n",
      "5/13, train_loss: 0.1786\n",
      "6/13, train_loss: 0.1844\n",
      "7/13, train_loss: 0.1872\n",
      "8/13, train_loss: 0.2042\n",
      "9/13, train_loss: 0.1945\n",
      "10/13, train_loss: 0.1915\n",
      "11/13, train_loss: 0.1959\n",
      "12/13, train_loss: 0.2117\n",
      "13/13, train_loss: 0.1904\n",
      "epoch 77 average loss: 0.1861\n"
     ]
    },
    {
     "name": "stderr",
     "output_type": "stream",
     "text": [
      "N foreground 10539, N  background 0,unable to generate class balanced samples.\n",
      "N foreground 13080, N  background 0,unable to generate class balanced samples.\n",
      "N foreground 18264, N  background 0,unable to generate class balanced samples.\n",
      "N foreground 13981, N  background 0,unable to generate class balanced samples.\n",
      "N foreground 14351, N  background 0,unable to generate class balanced samples.\n",
      "N foreground 16021, N  background 0,unable to generate class balanced samples.\n",
      "N foreground 14149, N  background 0,unable to generate class balanced samples.\n",
      "N foreground 14458, N  background 0,unable to generate class balanced samples.\n",
      "N foreground 14199, N  background 0,unable to generate class balanced samples.\n"
     ]
    },
    {
     "name": "stdout",
     "output_type": "stream",
     "text": [
      "current epoch: 77 current mean dice: 0.8154\n",
      "best mean dice: 0.8334at epoch: 76\n",
      "----------\n",
      "epoch 78/150\n"
     ]
    },
    {
     "name": "stderr",
     "output_type": "stream",
     "text": [
      "N foreground 15838, N  background 0,unable to generate class balanced samples.\n",
      "N foreground 10474, N  background 0,unable to generate class balanced samples.\n",
      "N foreground 13809, N  background 0,unable to generate class balanced samples.\n",
      "N foreground 16682, N  background 0,unable to generate class balanced samples.\n",
      "N foreground 14262, N  background 0,unable to generate class balanced samples.\n",
      "N foreground 13958, N  background 0,unable to generate class balanced samples.\n",
      "N foreground 13138, N  background 0,unable to generate class balanced samples.\n",
      "N foreground 16388, N  background 0,unable to generate class balanced samples.\n",
      "N foreground 14317, N  background 0,unable to generate class balanced samples.\n",
      "N foreground 10533, N  background 0,unable to generate class balanced samples.\n",
      "N foreground 14809, N  background 0,unable to generate class balanced samples.\n",
      "N foreground 14230, N  background 0,unable to generate class balanced samples.\n",
      "N foreground 17716, N  background 0,unable to generate class balanced samples.\n",
      "N foreground 15909, N  background 0,unable to generate class balanced samples.\n",
      "N foreground 12122, N  background 0,unable to generate class balanced samples.\n",
      "N foreground 16438, N  background 0,unable to generate class balanced samples.\n",
      "N foreground 22593, N  background 0,unable to generate class balanced samples.\n",
      "N foreground 15184, N  background 0,unable to generate class balanced samples.\n",
      "N foreground 17097, N  background 0,unable to generate class balanced samples.\n",
      "N foreground 8935, N  background 0,unable to generate class balanced samples.\n",
      "N foreground 15619, N  background 0,unable to generate class balanced samples.\n",
      "N foreground 19210, N  background 0,unable to generate class balanced samples.\n",
      "N foreground 16115, N  background 0,unable to generate class balanced samples.\n",
      "N foreground 16450, N  background 0,unable to generate class balanced samples.\n",
      "N foreground 10992, N  background 0,unable to generate class balanced samples.\n",
      "N foreground 13064, N  background 0,unable to generate class balanced samples.\n"
     ]
    },
    {
     "name": "stdout",
     "output_type": "stream",
     "text": [
      "1/13, train_loss: 0.2006\n",
      "2/13, train_loss: 0.1835\n",
      "3/13, train_loss: 0.1897\n",
      "4/13, train_loss: 0.2045\n",
      "5/13, train_loss: 0.1979\n",
      "6/13, train_loss: 0.1760\n",
      "7/13, train_loss: 0.1710\n",
      "8/13, train_loss: 0.1912\n",
      "9/13, train_loss: 0.1933\n",
      "10/13, train_loss: 0.1678\n",
      "11/13, train_loss: 0.2177\n",
      "12/13, train_loss: 0.1757\n",
      "13/13, train_loss: 0.1893\n",
      "epoch 78 average loss: 0.1891\n"
     ]
    },
    {
     "name": "stderr",
     "output_type": "stream",
     "text": [
      "N foreground 18264, N  background 0,unable to generate class balanced samples.\n",
      "N foreground 14149, N  background 0,unable to generate class balanced samples.\n",
      "N foreground 16021, N  background 0,unable to generate class balanced samples.\n",
      "N foreground 14351, N  background 0,unable to generate class balanced samples.\n",
      "N foreground 13981, N  background 0,unable to generate class balanced samples.\n",
      "N foreground 13080, N  background 0,unable to generate class balanced samples.\n",
      "N foreground 10539, N  background 0,unable to generate class balanced samples.\n",
      "N foreground 14458, N  background 0,unable to generate class balanced samples.\n",
      "N foreground 14199, N  background 0,unable to generate class balanced samples.\n"
     ]
    },
    {
     "name": "stdout",
     "output_type": "stream",
     "text": [
      "current epoch: 78 current mean dice: 0.8282\n",
      "best mean dice: 0.8334at epoch: 76\n",
      "----------\n",
      "epoch 79/150\n"
     ]
    },
    {
     "name": "stderr",
     "output_type": "stream",
     "text": [
      "N foreground 14317, N  background 0,unable to generate class balanced samples.\n",
      "N foreground 16388, N  background 0,unable to generate class balanced samples.\n",
      "N foreground 13138, N  background 0,unable to generate class balanced samples.\n",
      "N foreground 13958, N  background 0,unable to generate class balanced samples.\n",
      "N foreground 10992, N  background 0,unable to generate class balanced samples.\n",
      "N foreground 13809, N  background 0,unable to generate class balanced samples.\n",
      "N foreground 13064, N  background 0,unable to generate class balanced samples.\n",
      "N foreground 16450, N  background 0,unable to generate class balanced samples.\n",
      "N foreground 14262, N  background 0,unable to generate class balanced samples.\n",
      "N foreground 15909, N  background 0,unable to generate class balanced samples.\n",
      "N foreground 15838, N  background 0,unable to generate class balanced samples.\n",
      "N foreground 10533, N  background 0,unable to generate class balanced samples.\n",
      "N foreground 12122, N  background 0,unable to generate class balanced samples.\n",
      "N foreground 15184, N  background 0,unable to generate class balanced samples.\n",
      "N foreground 16682, N  background 0,unable to generate class balanced samples.\n",
      "N foreground 16438, N  background 0,unable to generate class balanced samples.\n",
      "N foreground 10474, N  background 0,unable to generate class balanced samples.\n",
      "N foreground 17716, N  background 0,unable to generate class balanced samples.\n",
      "N foreground 19210, N  background 0,unable to generate class balanced samples.\n",
      "N foreground 22593, N  background 0,unable to generate class balanced samples.\n",
      "N foreground 14809, N  background 0,unable to generate class balanced samples.\n",
      "N foreground 8935, N  background 0,unable to generate class balanced samples.\n",
      "N foreground 14230, N  background 0,unable to generate class balanced samples.\n",
      "N foreground 15619, N  background 0,unable to generate class balanced samples.\n",
      "N foreground 16115, N  background 0,unable to generate class balanced samples.\n",
      "N foreground 17097, N  background 0,unable to generate class balanced samples.\n"
     ]
    },
    {
     "name": "stdout",
     "output_type": "stream",
     "text": [
      "1/13, train_loss: 0.1944\n",
      "2/13, train_loss: 0.1897\n",
      "3/13, train_loss: 0.1787\n",
      "4/13, train_loss: 0.1725\n",
      "5/13, train_loss: 0.1842\n",
      "6/13, train_loss: 0.1814\n",
      "7/13, train_loss: 0.1811\n",
      "8/13, train_loss: 0.1751\n",
      "9/13, train_loss: 0.1689\n",
      "10/13, train_loss: 0.1943\n",
      "11/13, train_loss: 0.1756\n",
      "12/13, train_loss: 0.2128\n",
      "13/13, train_loss: 0.1906\n",
      "epoch 79 average loss: 0.1846\n"
     ]
    },
    {
     "name": "stderr",
     "output_type": "stream",
     "text": [
      "N foreground 14351, N  background 0,unable to generate class balanced samples.\n",
      "N foreground 13080, N  background 0,unable to generate class balanced samples.\n",
      "N foreground 18264, N  background 0,unable to generate class balanced samples.\n",
      "N foreground 10539, N  background 0,unable to generate class balanced samples.\n",
      "N foreground 16021, N  background 0,unable to generate class balanced samples.\n",
      "N foreground 14149, N  background 0,unable to generate class balanced samples.\n",
      "N foreground 13981, N  background 0,unable to generate class balanced samples.\n",
      "N foreground 14458, N  background 0,unable to generate class balanced samples.\n",
      "N foreground 14199, N  background 0,unable to generate class balanced samples.\n"
     ]
    },
    {
     "name": "stdout",
     "output_type": "stream",
     "text": [
      "current epoch: 79 current mean dice: 0.8312\n",
      "best mean dice: 0.8334at epoch: 76\n",
      "----------\n",
      "epoch 80/150\n"
     ]
    },
    {
     "name": "stderr",
     "output_type": "stream",
     "text": [
      "N foreground 13138, N  background 0,unable to generate class balanced samples.\n",
      "N foreground 16438, N  background 0,unable to generate class balanced samples.\n",
      "N foreground 14809, N  background 0,unable to generate class balanced samples.\n",
      "N foreground 15184, N  background 0,unable to generate class balanced samples.\n",
      "N foreground 16115, N  background 0,unable to generate class balanced samples.\n",
      "N foreground 13064, N  background 0,unable to generate class balanced samples.\n",
      "N foreground 22593, N  background 0,unable to generate class balanced samples.\n",
      "N foreground 19210, N  background 0,unable to generate class balanced samples.\n",
      "N foreground 13958, N  background 0,unable to generate class balanced samples.\n",
      "N foreground 15909, N  background 0,unable to generate class balanced samples.\n",
      "N foreground 14317, N  background 0,unable to generate class balanced samples.\n",
      "N foreground 15838, N  background 0,unable to generate class balanced samples.\n",
      "N foreground 8935, N  background 0,unable to generate class balanced samples.\n",
      "N foreground 16388, N  background 0,unable to generate class balanced samples.\n",
      "N foreground 16450, N  background 0,unable to generate class balanced samples.\n",
      "N foreground 14230, N  background 0,unable to generate class balanced samples.\n",
      "N foreground 12122, N  background 0,unable to generate class balanced samples.\n",
      "N foreground 17097, N  background 0,unable to generate class balanced samples.\n",
      "N foreground 10474, N  background 0,unable to generate class balanced samples.\n",
      "N foreground 10992, N  background 0,unable to generate class balanced samples.\n",
      "N foreground 17716, N  background 0,unable to generate class balanced samples.\n",
      "N foreground 16682, N  background 0,unable to generate class balanced samples.\n",
      "N foreground 10533, N  background 0,unable to generate class balanced samples.\n",
      "N foreground 13809, N  background 0,unable to generate class balanced samples.\n",
      "N foreground 15619, N  background 0,unable to generate class balanced samples.\n",
      "N foreground 14262, N  background 0,unable to generate class balanced samples.\n"
     ]
    },
    {
     "name": "stdout",
     "output_type": "stream",
     "text": [
      "1/13, train_loss: 0.1913\n",
      "2/13, train_loss: 0.1891\n",
      "3/13, train_loss: 0.1768\n",
      "4/13, train_loss: 0.1673\n",
      "5/13, train_loss: 0.2086\n",
      "6/13, train_loss: 0.1914\n",
      "7/13, train_loss: 0.1821\n",
      "8/13, train_loss: 0.1870\n",
      "9/13, train_loss: 0.1843\n",
      "10/13, train_loss: 0.1855\n",
      "11/13, train_loss: 0.1962\n",
      "12/13, train_loss: 0.1469\n",
      "13/13, train_loss: 0.1792\n",
      "epoch 80 average loss: 0.1835\n"
     ]
    },
    {
     "name": "stderr",
     "output_type": "stream",
     "text": [
      "N foreground 18264, N  background 0,unable to generate class balanced samples.\n",
      "N foreground 14149, N  background 0,unable to generate class balanced samples.\n",
      "N foreground 13080, N  background 0,unable to generate class balanced samples.\n",
      "N foreground 14351, N  background 0,unable to generate class balanced samples.\n",
      "N foreground 16021, N  background 0,unable to generate class balanced samples.\n",
      "N foreground 13981, N  background 0,unable to generate class balanced samples.\n",
      "N foreground 10539, N  background 0,unable to generate class balanced samples.\n",
      "N foreground 14458, N  background 0,unable to generate class balanced samples.\n",
      "N foreground 14199, N  background 0,unable to generate class balanced samples.\n"
     ]
    },
    {
     "name": "stdout",
     "output_type": "stream",
     "text": [
      "current epoch: 80 current mean dice: 0.8328\n",
      "best mean dice: 0.8334at epoch: 76\n",
      "----------\n",
      "epoch 81/150\n"
     ]
    },
    {
     "name": "stderr",
     "output_type": "stream",
     "text": [
      "N foreground 13958, N  background 0,unable to generate class balanced samples.\n",
      "N foreground 22593, N  background 0,unable to generate class balanced samples.\n",
      "N foreground 12122, N  background 0,unable to generate class balanced samples.\n",
      "N foreground 15909, N  background 0,unable to generate class balanced samples.\n",
      "N foreground 15619, N  background 0,unable to generate class balanced samples.\n",
      "N foreground 15184, N  background 0,unable to generate class balanced samples.\n",
      "N foreground 16450, N  background 0,unable to generate class balanced samples.\n",
      "N foreground 17716, N  background 0,unable to generate class balanced samples.\n",
      "N foreground 14262, N  background 0,unable to generate class balanced samples.\n",
      "N foreground 14230, N  background 0,unable to generate class balanced samples.\n",
      "N foreground 13064, N  background 0,unable to generate class balanced samples.\n",
      "N foreground 8935, N  background 0,unable to generate class balanced samples.\n",
      "N foreground 10992, N  background 0,unable to generate class balanced samples.\n",
      "N foreground 16438, N  background 0,unable to generate class balanced samples.\n",
      "N foreground 16388, N  background 0,unable to generate class balanced samples.\n",
      "N foreground 13809, N  background 0,unable to generate class balanced samples.\n",
      "N foreground 10533, N  background 0,unable to generate class balanced samples.\n",
      "N foreground 16115, N  background 0,unable to generate class balanced samples.\n",
      "N foreground 14317, N  background 0,unable to generate class balanced samples.\n",
      "N foreground 16682, N  background 0,unable to generate class balanced samples.\n",
      "N foreground 10474, N  background 0,unable to generate class balanced samples.\n",
      "N foreground 17097, N  background 0,unable to generate class balanced samples.\n",
      "N foreground 13138, N  background 0,unable to generate class balanced samples.\n",
      "N foreground 19210, N  background 0,unable to generate class balanced samples.\n",
      "N foreground 14809, N  background 0,unable to generate class balanced samples.\n",
      "N foreground 15838, N  background 0,unable to generate class balanced samples.\n"
     ]
    },
    {
     "name": "stdout",
     "output_type": "stream",
     "text": [
      "1/13, train_loss: 0.1679\n",
      "2/13, train_loss: 0.1721\n",
      "3/13, train_loss: 0.1683\n",
      "4/13, train_loss: 0.1815\n",
      "5/13, train_loss: 0.1806\n",
      "6/13, train_loss: 0.1913\n",
      "7/13, train_loss: 0.2041\n",
      "8/13, train_loss: 0.1600\n",
      "9/13, train_loss: 0.1817\n",
      "10/13, train_loss: 0.1945\n",
      "11/13, train_loss: 0.1784\n",
      "12/13, train_loss: 0.1862\n",
      "13/13, train_loss: 0.1854\n",
      "epoch 81 average loss: 0.1809\n"
     ]
    },
    {
     "name": "stderr",
     "output_type": "stream",
     "text": [
      "N foreground 13080, N  background 0,unable to generate class balanced samples.\n",
      "N foreground 16021, N  background 0,unable to generate class balanced samples.\n",
      "N foreground 10539, N  background 0,unable to generate class balanced samples.\n",
      "N foreground 14351, N  background 0,unable to generate class balanced samples.\n",
      "N foreground 13981, N  background 0,unable to generate class balanced samples.\n",
      "N foreground 18264, N  background 0,unable to generate class balanced samples.\n",
      "N foreground 14149, N  background 0,unable to generate class balanced samples.\n",
      "N foreground 14458, N  background 0,unable to generate class balanced samples.\n",
      "N foreground 14199, N  background 0,unable to generate class balanced samples.\n"
     ]
    },
    {
     "name": "stdout",
     "output_type": "stream",
     "text": [
      "saved new best metric model\n",
      "current epoch: 81 current mean dice: 0.8377\n",
      "best mean dice: 0.8377at epoch: 81\n",
      "----------\n",
      "epoch 82/150\n"
     ]
    },
    {
     "name": "stderr",
     "output_type": "stream",
     "text": [
      "N foreground 17716, N  background 0,unable to generate class balanced samples.\n",
      "N foreground 16115, N  background 0,unable to generate class balanced samples.\n",
      "N foreground 15184, N  background 0,unable to generate class balanced samples.\n",
      "N foreground 17097, N  background 0,unable to generate class balanced samples.\n",
      "N foreground 12122, N  background 0,unable to generate class balanced samples.\n",
      "N foreground 16388, N  background 0,unable to generate class balanced samples.\n",
      "N foreground 14317, N  background 0,unable to generate class balanced samples.\n",
      "N foreground 15838, N  background 0,unable to generate class balanced samples.\n",
      "N foreground 16450, N  background 0,unable to generate class balanced samples.\n",
      "N foreground 19210, N  background 0,unable to generate class balanced samples.\n",
      "N foreground 16438, N  background 0,unable to generate class balanced samples.\n",
      "N foreground 14262, N  background 0,unable to generate class balanced samples.\n",
      "N foreground 22593, N  background 0,unable to generate class balanced samples.\n",
      "N foreground 16682, N  background 0,unable to generate class balanced samples.\n",
      "N foreground 15909, N  background 0,unable to generate class balanced samples.\n",
      "N foreground 13138, N  background 0,unable to generate class balanced samples.\n",
      "N foreground 13809, N  background 0,unable to generate class balanced samples.\n",
      "N foreground 10474, N  background 0,unable to generate class balanced samples.\n",
      "N foreground 8935, N  background 0,unable to generate class balanced samples.\n",
      "N foreground 14230, N  background 0,unable to generate class balanced samples.\n",
      "N foreground 10533, N  background 0,unable to generate class balanced samples.\n",
      "N foreground 10992, N  background 0,unable to generate class balanced samples.\n",
      "N foreground 15619, N  background 0,unable to generate class balanced samples.\n",
      "N foreground 13958, N  background 0,unable to generate class balanced samples.\n",
      "N foreground 14809, N  background 0,unable to generate class balanced samples.\n",
      "N foreground 13064, N  background 0,unable to generate class balanced samples.\n"
     ]
    },
    {
     "name": "stdout",
     "output_type": "stream",
     "text": [
      "1/13, train_loss: 0.1879\n",
      "2/13, train_loss: 0.1829\n",
      "3/13, train_loss: 0.1752\n",
      "4/13, train_loss: 0.1817\n",
      "5/13, train_loss: 0.1614\n",
      "6/13, train_loss: 0.1765\n",
      "7/13, train_loss: 0.1843\n",
      "8/13, train_loss: 0.1797\n",
      "9/13, train_loss: 0.1882\n",
      "10/13, train_loss: 0.1937\n",
      "11/13, train_loss: 0.1999\n",
      "12/13, train_loss: 0.1825\n",
      "13/13, train_loss: 0.1712\n",
      "epoch 82 average loss: 0.1819\n"
     ]
    },
    {
     "name": "stderr",
     "output_type": "stream",
     "text": [
      "N foreground 18264, N  background 0,unable to generate class balanced samples.\n",
      "N foreground 14149, N  background 0,unable to generate class balanced samples.\n",
      "N foreground 14351, N  background 0,unable to generate class balanced samples.\n",
      "N foreground 16021, N  background 0,unable to generate class balanced samples.\n",
      "N foreground 13981, N  background 0,unable to generate class balanced samples.\n",
      "N foreground 13080, N  background 0,unable to generate class balanced samples.\n",
      "N foreground 10539, N  background 0,unable to generate class balanced samples.\n",
      "N foreground 14458, N  background 0,unable to generate class balanced samples.\n",
      "N foreground 14199, N  background 0,unable to generate class balanced samples.\n"
     ]
    },
    {
     "name": "stdout",
     "output_type": "stream",
     "text": [
      "current epoch: 82 current mean dice: 0.8288\n",
      "best mean dice: 0.8377at epoch: 81\n",
      "----------\n",
      "epoch 83/150\n"
     ]
    },
    {
     "name": "stderr",
     "output_type": "stream",
     "text": [
      "N foreground 14230, N  background 0,unable to generate class balanced samples.\n",
      "N foreground 16115, N  background 0,unable to generate class balanced samples.\n",
      "N foreground 17716, N  background 0,unable to generate class balanced samples.\n",
      "N foreground 16682, N  background 0,unable to generate class balanced samples.\n",
      "N foreground 22593, N  background 0,unable to generate class balanced samples.\n",
      "N foreground 16388, N  background 0,unable to generate class balanced samples.\n",
      "N foreground 13138, N  background 0,unable to generate class balanced samples.\n",
      "N foreground 13958, N  background 0,unable to generate class balanced samples.\n",
      "N foreground 14317, N  background 0,unable to generate class balanced samples.\n",
      "N foreground 10533, N  background 0,unable to generate class balanced samples.\n",
      "N foreground 16450, N  background 0,unable to generate class balanced samples.\n",
      "N foreground 15619, N  background 0,unable to generate class balanced samples.\n",
      "N foreground 12122, N  background 0,unable to generate class balanced samples.\n",
      "N foreground 14809, N  background 0,unable to generate class balanced samples.\n",
      "N foreground 16438, N  background 0,unable to generate class balanced samples.\n",
      "N foreground 17097, N  background 0,unable to generate class balanced samples.\n",
      "N foreground 15909, N  background 0,unable to generate class balanced samples.\n",
      "N foreground 15838, N  background 0,unable to generate class balanced samples.\n",
      "N foreground 19210, N  background 0,unable to generate class balanced samples.\n",
      "N foreground 8935, N  background 0,unable to generate class balanced samples.\n",
      "N foreground 10992, N  background 0,unable to generate class balanced samples.\n",
      "N foreground 10474, N  background 0,unable to generate class balanced samples.\n",
      "N foreground 13809, N  background 0,unable to generate class balanced samples.\n",
      "N foreground 15184, N  background 0,unable to generate class balanced samples.\n",
      "N foreground 14262, N  background 0,unable to generate class balanced samples.\n",
      "N foreground 13064, N  background 0,unable to generate class balanced samples.\n"
     ]
    },
    {
     "name": "stdout",
     "output_type": "stream",
     "text": [
      "1/13, train_loss: 0.1658\n",
      "2/13, train_loss: 0.1852\n",
      "3/13, train_loss: 0.1910\n",
      "4/13, train_loss: 0.1847\n",
      "5/13, train_loss: 0.1798\n",
      "6/13, train_loss: 0.1719\n",
      "7/13, train_loss: 0.1851\n",
      "8/13, train_loss: 0.1846\n",
      "9/13, train_loss: 0.2057\n",
      "10/13, train_loss: 0.1751\n",
      "11/13, train_loss: 0.1776\n",
      "12/13, train_loss: 0.1801\n",
      "13/13, train_loss: 0.1887\n",
      "epoch 83 average loss: 0.1827\n"
     ]
    },
    {
     "name": "stderr",
     "output_type": "stream",
     "text": [
      "N foreground 18264, N  background 0,unable to generate class balanced samples.\n",
      "N foreground 13981, N  background 0,unable to generate class balanced samples.\n",
      "N foreground 14149, N  background 0,unable to generate class balanced samples.\n",
      "N foreground 13080, N  background 0,unable to generate class balanced samples.\n",
      "N foreground 14351, N  background 0,unable to generate class balanced samples.\n",
      "N foreground 10539, N  background 0,unable to generate class balanced samples.\n",
      "N foreground 16021, N  background 0,unable to generate class balanced samples.\n",
      "N foreground 14458, N  background 0,unable to generate class balanced samples.\n",
      "N foreground 14199, N  background 0,unable to generate class balanced samples.\n"
     ]
    },
    {
     "name": "stdout",
     "output_type": "stream",
     "text": [
      "current epoch: 83 current mean dice: 0.8358\n",
      "best mean dice: 0.8377at epoch: 81\n",
      "----------\n",
      "epoch 84/150\n"
     ]
    },
    {
     "name": "stderr",
     "output_type": "stream",
     "text": [
      "N foreground 14317, N  background 0,unable to generate class balanced samples.\n",
      "N foreground 17716, N  background 0,unable to generate class balanced samples.\n",
      "N foreground 13958, N  background 0,unable to generate class balanced samples.\n",
      "N foreground 14230, N  background 0,unable to generate class balanced samples.\n",
      "N foreground 13064, N  background 0,unable to generate class balanced samples.\n",
      "N foreground 16438, N  background 0,unable to generate class balanced samples.\n",
      "N foreground 10533, N  background 0,unable to generate class balanced samples.\n",
      "N foreground 13138, N  background 0,unable to generate class balanced samples.\n",
      "N foreground 15909, N  background 0,unable to generate class balanced samples.\n",
      "N foreground 14262, N  background 0,unable to generate class balanced samples.\n",
      "N foreground 13809, N  background 0,unable to generate class balanced samples.\n",
      "N foreground 16388, N  background 0,unable to generate class balanced samples.\n",
      "N foreground 16682, N  background 0,unable to generate class balanced samples.\n",
      "N foreground 12122, N  background 0,unable to generate class balanced samples.\n",
      "N foreground 19210, N  background 0,unable to generate class balanced samples.\n",
      "N foreground 8935, N  background 0,unable to generate class balanced samples.\n",
      "N foreground 15619, N  background 0,unable to generate class balanced samples.\n",
      "N foreground 10992, N  background 0,unable to generate class balanced samples.\n",
      "N foreground 17097, N  background 0,unable to generate class balanced samples.\n",
      "N foreground 16450, N  background 0,unable to generate class balanced samples.\n",
      "N foreground 22593, N  background 0,unable to generate class balanced samples.\n",
      "N foreground 10474, N  background 0,unable to generate class balanced samples.\n",
      "N foreground 16115, N  background 0,unable to generate class balanced samples.\n",
      "N foreground 15838, N  background 0,unable to generate class balanced samples.\n",
      "N foreground 14809, N  background 0,unable to generate class balanced samples.\n",
      "N foreground 15184, N  background 0,unable to generate class balanced samples.\n"
     ]
    },
    {
     "name": "stdout",
     "output_type": "stream",
     "text": [
      "1/13, train_loss: 0.1891\n",
      "2/13, train_loss: 0.1822\n",
      "3/13, train_loss: 0.1594\n",
      "4/13, train_loss: 0.1900\n",
      "5/13, train_loss: 0.1891\n",
      "6/13, train_loss: 0.1782\n",
      "7/13, train_loss: 0.1793\n",
      "8/13, train_loss: 0.1797\n",
      "9/13, train_loss: 0.1797\n",
      "10/13, train_loss: 0.1688\n",
      "11/13, train_loss: 0.1944\n",
      "12/13, train_loss: 0.1921\n",
      "13/13, train_loss: 0.1793\n",
      "epoch 84 average loss: 0.1816\n"
     ]
    },
    {
     "name": "stderr",
     "output_type": "stream",
     "text": [
      "N foreground 14149, N  background 0,unable to generate class balanced samples.\n",
      "N foreground 18264, N  background 0,unable to generate class balanced samples.\n",
      "N foreground 16021, N  background 0,unable to generate class balanced samples.\n",
      "N foreground 10539, N  background 0,unable to generate class balanced samples.\n",
      "N foreground 13981, N  background 0,unable to generate class balanced samples.\n",
      "N foreground 13080, N  background 0,unable to generate class balanced samples.\n",
      "N foreground 14351, N  background 0,unable to generate class balanced samples.\n",
      "N foreground 14458, N  background 0,unable to generate class balanced samples.\n",
      "N foreground 14199, N  background 0,unable to generate class balanced samples.\n"
     ]
    },
    {
     "name": "stdout",
     "output_type": "stream",
     "text": [
      "current epoch: 84 current mean dice: 0.8341\n",
      "best mean dice: 0.8377at epoch: 81\n",
      "----------\n",
      "epoch 85/150\n"
     ]
    },
    {
     "name": "stderr",
     "output_type": "stream",
     "text": [
      "N foreground 22593, N  background 0,unable to generate class balanced samples.\n",
      "N foreground 17716, N  background 0,unable to generate class balanced samples.\n",
      "N foreground 16438, N  background 0,unable to generate class balanced samples.\n",
      "N foreground 16682, N  background 0,unable to generate class balanced samples.\n",
      "N foreground 10533, N  background 0,unable to generate class balanced samples.\n",
      "N foreground 8935, N  background 0,unable to generate class balanced samples.\n",
      "N foreground 17097, N  background 0,unable to generate class balanced samples.\n",
      "N foreground 13138, N  background 0,unable to generate class balanced samples.\n",
      "N foreground 15838, N  background 0,unable to generate class balanced samples.\n",
      "N foreground 14262, N  background 0,unable to generate class balanced samples.\n",
      "N foreground 13809, N  background 0,unable to generate class balanced samples.\n",
      "N foreground 14317, N  background 0,unable to generate class balanced samples.\n",
      "N foreground 15619, N  background 0,unable to generate class balanced samples.\n",
      "N foreground 16450, N  background 0,unable to generate class balanced samples.\n",
      "N foreground 15184, N  background 0,unable to generate class balanced samples.\n",
      "N foreground 10992, N  background 0,unable to generate class balanced samples.\n",
      "N foreground 16115, N  background 0,unable to generate class balanced samples.\n",
      "N foreground 13064, N  background 0,unable to generate class balanced samples.\n",
      "N foreground 15909, N  background 0,unable to generate class balanced samples.\n",
      "N foreground 12122, N  background 0,unable to generate class balanced samples.\n",
      "N foreground 16388, N  background 0,unable to generate class balanced samples.\n",
      "N foreground 10474, N  background 0,unable to generate class balanced samples.\n",
      "N foreground 14809, N  background 0,unable to generate class balanced samples.\n",
      "N foreground 13958, N  background 0,unable to generate class balanced samples.\n",
      "N foreground 19210, N  background 0,unable to generate class balanced samples.\n",
      "N foreground 14230, N  background 0,unable to generate class balanced samples.\n"
     ]
    },
    {
     "name": "stdout",
     "output_type": "stream",
     "text": [
      "1/13, train_loss: 0.1748\n",
      "2/13, train_loss: 0.1766\n",
      "3/13, train_loss: 0.1620\n",
      "4/13, train_loss: 0.1690\n",
      "5/13, train_loss: 0.1834\n",
      "6/13, train_loss: 0.1552\n",
      "7/13, train_loss: 0.1966\n",
      "8/13, train_loss: 0.1669\n",
      "9/13, train_loss: 0.1844\n",
      "10/13, train_loss: 0.1987\n",
      "11/13, train_loss: 0.1908\n",
      "12/13, train_loss: 0.1801\n",
      "13/13, train_loss: 0.1900\n",
      "epoch 85 average loss: 0.1791\n"
     ]
    },
    {
     "name": "stderr",
     "output_type": "stream",
     "text": [
      "N foreground 13981, N  background 0,unable to generate class balanced samples.\n",
      "N foreground 16021, N  background 0,unable to generate class balanced samples.\n",
      "N foreground 18264, N  background 0,unable to generate class balanced samples.\n",
      "N foreground 14149, N  background 0,unable to generate class balanced samples.\n",
      "N foreground 10539, N  background 0,unable to generate class balanced samples.\n",
      "N foreground 13080, N  background 0,unable to generate class balanced samples.\n",
      "N foreground 14351, N  background 0,unable to generate class balanced samples.\n",
      "N foreground 14458, N  background 0,unable to generate class balanced samples.\n",
      "N foreground 14199, N  background 0,unable to generate class balanced samples.\n"
     ]
    },
    {
     "name": "stdout",
     "output_type": "stream",
     "text": [
      "current epoch: 85 current mean dice: 0.8321\n",
      "best mean dice: 0.8377at epoch: 81\n",
      "----------\n",
      "epoch 86/150\n"
     ]
    },
    {
     "name": "stderr",
     "output_type": "stream",
     "text": [
      "N foreground 17097, N  background 0,unable to generate class balanced samples.\n",
      "N foreground 16450, N  background 0,unable to generate class balanced samples.\n",
      "N foreground 15909, N  background 0,unable to generate class balanced samples.\n",
      "N foreground 13809, N  background 0,unable to generate class balanced samples.\n",
      "N foreground 22593, N  background 0,unable to generate class balanced samples.\n",
      "N foreground 10533, N  background 0,unable to generate class balanced samples.\n",
      "N foreground 14262, N  background 0,unable to generate class balanced samples.\n",
      "N foreground 13138, N  background 0,unable to generate class balanced samples.\n",
      "N foreground 14317, N  background 0,unable to generate class balanced samples.\n",
      "N foreground 13064, N  background 0,unable to generate class balanced samples.\n",
      "N foreground 15838, N  background 0,unable to generate class balanced samples.\n",
      "N foreground 10992, N  background 0,unable to generate class balanced samples.\n",
      "N foreground 15184, N  background 0,unable to generate class balanced samples.\n",
      "N foreground 12122, N  background 0,unable to generate class balanced samples.\n",
      "N foreground 8935, N  background 0,unable to generate class balanced samples.\n",
      "N foreground 14809, N  background 0,unable to generate class balanced samples.\n",
      "N foreground 16682, N  background 0,unable to generate class balanced samples.\n",
      "N foreground 16438, N  background 0,unable to generate class balanced samples.\n",
      "N foreground 19210, N  background 0,unable to generate class balanced samples.\n",
      "N foreground 17716, N  background 0,unable to generate class balanced samples.\n",
      "N foreground 10474, N  background 0,unable to generate class balanced samples.\n",
      "N foreground 15619, N  background 0,unable to generate class balanced samples.\n",
      "N foreground 14230, N  background 0,unable to generate class balanced samples.\n",
      "N foreground 13958, N  background 0,unable to generate class balanced samples.\n",
      "N foreground 16115, N  background 0,unable to generate class balanced samples.\n",
      "N foreground 16388, N  background 0,unable to generate class balanced samples.\n"
     ]
    },
    {
     "name": "stdout",
     "output_type": "stream",
     "text": [
      "1/13, train_loss: 0.1670\n",
      "2/13, train_loss: 0.1858\n",
      "3/13, train_loss: 0.1728\n",
      "4/13, train_loss: 0.1826\n",
      "5/13, train_loss: 0.1764\n",
      "6/13, train_loss: 0.1825\n",
      "7/13, train_loss: 0.1903\n",
      "8/13, train_loss: 0.1766\n",
      "9/13, train_loss: 0.1763\n",
      "10/13, train_loss: 0.1766\n",
      "11/13, train_loss: 0.1978\n",
      "12/13, train_loss: 0.1750\n",
      "13/13, train_loss: 0.1731\n",
      "epoch 86 average loss: 0.1794\n"
     ]
    },
    {
     "name": "stderr",
     "output_type": "stream",
     "text": [
      "N foreground 13080, N  background 0,unable to generate class balanced samples.\n",
      "N foreground 16021, N  background 0,unable to generate class balanced samples.\n",
      "N foreground 14149, N  background 0,unable to generate class balanced samples.\n",
      "N foreground 18264, N  background 0,unable to generate class balanced samples.\n",
      "N foreground 10539, N  background 0,unable to generate class balanced samples.\n",
      "N foreground 14351, N  background 0,unable to generate class balanced samples.\n",
      "N foreground 13981, N  background 0,unable to generate class balanced samples.\n",
      "N foreground 14458, N  background 0,unable to generate class balanced samples.\n",
      "N foreground 14199, N  background 0,unable to generate class balanced samples.\n"
     ]
    },
    {
     "name": "stdout",
     "output_type": "stream",
     "text": [
      "saved new best metric model\n",
      "current epoch: 86 current mean dice: 0.8414\n",
      "best mean dice: 0.8414at epoch: 86\n",
      "----------\n",
      "epoch 87/150\n"
     ]
    },
    {
     "name": "stderr",
     "output_type": "stream",
     "text": [
      "N foreground 8935, N  background 0,unable to generate class balanced samples.\n",
      "N foreground 15838, N  background 0,unable to generate class balanced samples.\n",
      "N foreground 13809, N  background 0,unable to generate class balanced samples.\n",
      "N foreground 22593, N  background 0,unable to generate class balanced samples.\n",
      "N foreground 16388, N  background 0,unable to generate class balanced samples.\n",
      "N foreground 15619, N  background 0,unable to generate class balanced samples.\n",
      "N foreground 16682, N  background 0,unable to generate class balanced samples.\n",
      "N foreground 10474, N  background 0,unable to generate class balanced samples.\n",
      "N foreground 14230, N  background 0,unable to generate class balanced samples.\n",
      "N foreground 15909, N  background 0,unable to generate class balanced samples.\n",
      "N foreground 13138, N  background 0,unable to generate class balanced samples.\n",
      "N foreground 16115, N  background 0,unable to generate class balanced samples.\n",
      "N foreground 10533, N  background 0,unable to generate class balanced samples.\n",
      "N foreground 17716, N  background 0,unable to generate class balanced samples.\n",
      "N foreground 13064, N  background 0,unable to generate class balanced samples.\n",
      "N foreground 14317, N  background 0,unable to generate class balanced samples.\n",
      "N foreground 16450, N  background 0,unable to generate class balanced samples.\n",
      "N foreground 19210, N  background 0,unable to generate class balanced samples.\n",
      "N foreground 17097, N  background 0,unable to generate class balanced samples.\n",
      "N foreground 12122, N  background 0,unable to generate class balanced samples.\n",
      "N foreground 13958, N  background 0,unable to generate class balanced samples.\n",
      "N foreground 16438, N  background 0,unable to generate class balanced samples.\n",
      "N foreground 15184, N  background 0,unable to generate class balanced samples.\n",
      "N foreground 10992, N  background 0,unable to generate class balanced samples.\n",
      "N foreground 14262, N  background 0,unable to generate class balanced samples.\n",
      "N foreground 14809, N  background 0,unable to generate class balanced samples.\n"
     ]
    },
    {
     "name": "stdout",
     "output_type": "stream",
     "text": [
      "1/13, train_loss: 0.2011\n",
      "2/13, train_loss: 0.1703\n",
      "3/13, train_loss: 0.1720\n",
      "4/13, train_loss: 0.1665\n",
      "5/13, train_loss: 0.1771\n",
      "6/13, train_loss: 0.1796\n",
      "7/13, train_loss: 0.1772\n",
      "8/13, train_loss: 0.2087\n",
      "9/13, train_loss: 0.1753\n",
      "10/13, train_loss: 0.1731\n",
      "11/13, train_loss: 0.1776\n",
      "12/13, train_loss: 0.1810\n",
      "13/13, train_loss: 0.1821\n",
      "epoch 87 average loss: 0.1801\n"
     ]
    },
    {
     "name": "stderr",
     "output_type": "stream",
     "text": [
      "N foreground 10539, N  background 0,unable to generate class balanced samples.\n",
      "N foreground 14351, N  background 0,unable to generate class balanced samples.\n",
      "N foreground 13981, N  background 0,unable to generate class balanced samples.\n",
      "N foreground 16021, N  background 0,unable to generate class balanced samples.\n",
      "N foreground 13080, N  background 0,unable to generate class balanced samples.\n",
      "N foreground 18264, N  background 0,unable to generate class balanced samples.\n",
      "N foreground 14149, N  background 0,unable to generate class balanced samples.\n",
      "N foreground 14458, N  background 0,unable to generate class balanced samples.\n",
      "N foreground 14199, N  background 0,unable to generate class balanced samples.\n"
     ]
    },
    {
     "name": "stdout",
     "output_type": "stream",
     "text": [
      "current epoch: 87 current mean dice: 0.8369\n",
      "best mean dice: 0.8414at epoch: 86\n",
      "----------\n",
      "epoch 88/150\n"
     ]
    },
    {
     "name": "stderr",
     "output_type": "stream",
     "text": [
      "N foreground 16682, N  background 0,unable to generate class balanced samples.\n",
      "N foreground 13958, N  background 0,unable to generate class balanced samples.\n",
      "N foreground 10533, N  background 0,unable to generate class balanced samples.\n",
      "N foreground 8935, N  background 0,unable to generate class balanced samples.\n",
      "N foreground 13064, N  background 0,unable to generate class balanced samples.\n",
      "N foreground 14230, N  background 0,unable to generate class balanced samples.\n",
      "N foreground 16388, N  background 0,unable to generate class balanced samples.\n",
      "N foreground 12122, N  background 0,unable to generate class balanced samples.\n",
      "N foreground 13809, N  background 0,unable to generate class balanced samples.\n",
      "N foreground 13138, N  background 0,unable to generate class balanced samples.\n",
      "N foreground 15838, N  background 0,unable to generate class balanced samples.\n",
      "N foreground 17716, N  background 0,unable to generate class balanced samples.\n",
      "N foreground 14262, N  background 0,unable to generate class balanced samples.\n",
      "N foreground 15184, N  background 0,unable to generate class balanced samples.\n",
      "N foreground 15619, N  background 0,unable to generate class balanced samples.\n",
      "N foreground 15909, N  background 0,unable to generate class balanced samples.\n",
      "N foreground 22593, N  background 0,unable to generate class balanced samples.\n",
      "N foreground 19210, N  background 0,unable to generate class balanced samples.\n",
      "N foreground 14809, N  background 0,unable to generate class balanced samples.\n",
      "N foreground 10474, N  background 0,unable to generate class balanced samples.\n",
      "N foreground 16450, N  background 0,unable to generate class balanced samples.\n",
      "N foreground 16438, N  background 0,unable to generate class balanced samples.\n",
      "N foreground 14317, N  background 0,unable to generate class balanced samples.\n",
      "N foreground 16115, N  background 0,unable to generate class balanced samples.\n",
      "N foreground 10992, N  background 0,unable to generate class balanced samples.\n",
      "N foreground 17097, N  background 0,unable to generate class balanced samples.\n"
     ]
    },
    {
     "name": "stdout",
     "output_type": "stream",
     "text": [
      "1/13, train_loss: 0.1680\n",
      "2/13, train_loss: 0.1885\n",
      "3/13, train_loss: 0.1812\n",
      "4/13, train_loss: 0.1618\n",
      "5/13, train_loss: 0.1813\n",
      "6/13, train_loss: 0.1797\n",
      "7/13, train_loss: 0.1940\n",
      "8/13, train_loss: 0.1781\n",
      "9/13, train_loss: 0.1735\n",
      "10/13, train_loss: 0.1642\n",
      "11/13, train_loss: 0.1975\n",
      "12/13, train_loss: 0.1905\n",
      "13/13, train_loss: 0.1847\n",
      "epoch 88 average loss: 0.1802\n"
     ]
    },
    {
     "name": "stderr",
     "output_type": "stream",
     "text": [
      "N foreground 13981, N  background 0,unable to generate class balanced samples.\n",
      "N foreground 14149, N  background 0,unable to generate class balanced samples.\n",
      "N foreground 13080, N  background 0,unable to generate class balanced samples.\n",
      "N foreground 14351, N  background 0,unable to generate class balanced samples.\n",
      "N foreground 10539, N  background 0,unable to generate class balanced samples.\n",
      "N foreground 14458, N  background 0,unable to generate class balanced samples.\n",
      "N foreground 16021, N  background 0,unable to generate class balanced samples.\n",
      "N foreground 18264, N  background 0,unable to generate class balanced samples.\n",
      "N foreground 14199, N  background 0,unable to generate class balanced samples.\n"
     ]
    },
    {
     "name": "stdout",
     "output_type": "stream",
     "text": [
      "current epoch: 88 current mean dice: 0.8143\n",
      "best mean dice: 0.8414at epoch: 86\n",
      "----------\n",
      "epoch 89/150\n"
     ]
    },
    {
     "name": "stderr",
     "output_type": "stream",
     "text": [
      "N foreground 10533, N  background 0,unable to generate class balanced samples.\n",
      "N foreground 12122, N  background 0,unable to generate class balanced samples.\n",
      "N foreground 13064, N  background 0,unable to generate class balanced samples.\n",
      "N foreground 15619, N  background 0,unable to generate class balanced samples.\n",
      "N foreground 17716, N  background 0,unable to generate class balanced samples.\n",
      "N foreground 17097, N  background 0,unable to generate class balanced samples.\n",
      "N foreground 14230, N  background 0,unable to generate class balanced samples.\n",
      "N foreground 15838, N  background 0,unable to generate class balanced samples.\n",
      "N foreground 22593, N  background 0,unable to generate class balanced samples.\n",
      "N foreground 16438, N  background 0,unable to generate class balanced samples.\n",
      "N foreground 15184, N  background 0,unable to generate class balanced samples.\n",
      "N foreground 13809, N  background 0,unable to generate class balanced samples.\n",
      "N foreground 15909, N  background 0,unable to generate class balanced samples.\n",
      "N foreground 10992, N  background 0,unable to generate class balanced samples.\n",
      "N foreground 16388, N  background 0,unable to generate class balanced samples.\n",
      "N foreground 13138, N  background 0,unable to generate class balanced samples.\n",
      "N foreground 16450, N  background 0,unable to generate class balanced samples.\n",
      "N foreground 16115, N  background 0,unable to generate class balanced samples.\n",
      "N foreground 19210, N  background 0,unable to generate class balanced samples.\n",
      "N foreground 16682, N  background 0,unable to generate class balanced samples.\n",
      "N foreground 14809, N  background 0,unable to generate class balanced samples.\n",
      "N foreground 14317, N  background 0,unable to generate class balanced samples.\n",
      "N foreground 14262, N  background 0,unable to generate class balanced samples.\n",
      "N foreground 8935, N  background 0,unable to generate class balanced samples.\n",
      "N foreground 10474, N  background 0,unable to generate class balanced samples.\n",
      "N foreground 13958, N  background 0,unable to generate class balanced samples.\n"
     ]
    },
    {
     "name": "stdout",
     "output_type": "stream",
     "text": [
      "1/13, train_loss: 0.1689\n",
      "2/13, train_loss: 0.1673\n",
      "3/13, train_loss: 0.1824\n",
      "4/13, train_loss: 0.1721\n",
      "5/13, train_loss: 0.1936\n",
      "6/13, train_loss: 0.1690\n",
      "7/13, train_loss: 0.1791\n",
      "8/13, train_loss: 0.1768\n",
      "9/13, train_loss: 0.1569\n",
      "10/13, train_loss: 0.2065\n",
      "11/13, train_loss: 0.1844\n",
      "12/13, train_loss: 0.1970\n",
      "13/13, train_loss: 0.2023\n",
      "epoch 89 average loss: 0.1812\n"
     ]
    },
    {
     "name": "stderr",
     "output_type": "stream",
     "text": [
      "N foreground 13080, N  background 0,unable to generate class balanced samples.\n",
      "N foreground 14149, N  background 0,unable to generate class balanced samples.\n",
      "N foreground 13981, N  background 0,unable to generate class balanced samples.\n",
      "N foreground 10539, N  background 0,unable to generate class balanced samples.\n",
      "N foreground 16021, N  background 0,unable to generate class balanced samples.\n",
      "N foreground 18264, N  background 0,unable to generate class balanced samples.\n",
      "N foreground 14351, N  background 0,unable to generate class balanced samples.\n",
      "N foreground 14458, N  background 0,unable to generate class balanced samples.\n",
      "N foreground 14199, N  background 0,unable to generate class balanced samples.\n"
     ]
    },
    {
     "name": "stdout",
     "output_type": "stream",
     "text": [
      "current epoch: 89 current mean dice: 0.8330\n",
      "best mean dice: 0.8414at epoch: 86\n",
      "----------\n",
      "epoch 90/150\n"
     ]
    },
    {
     "name": "stderr",
     "output_type": "stream",
     "text": [
      "N foreground 10533, N  background 0,unable to generate class balanced samples.\n",
      "N foreground 14317, N  background 0,unable to generate class balanced samples.\n",
      "N foreground 16388, N  background 0,unable to generate class balanced samples.\n",
      "N foreground 16115, N  background 0,unable to generate class balanced samples.\n",
      "N foreground 15909, N  background 0,unable to generate class balanced samples.\n",
      "N foreground 14809, N  background 0,unable to generate class balanced samples.\n",
      "N foreground 22593, N  background 0,unable to generate class balanced samples.\n",
      "N foreground 19210, N  background 0,unable to generate class balanced samples.\n",
      "N foreground 10474, N  background 0,unable to generate class balanced samples.\n",
      "N foreground 8935, N  background 0,unable to generate class balanced samples.\n",
      "N foreground 16682, N  background 0,unable to generate class balanced samples.\n",
      "N foreground 13809, N  background 0,unable to generate class balanced samples.\n",
      "N foreground 15619, N  background 0,unable to generate class balanced samples.\n",
      "N foreground 10992, N  background 0,unable to generate class balanced samples.\n",
      "N foreground 14262, N  background 0,unable to generate class balanced samples.\n",
      "N foreground 17716, N  background 0,unable to generate class balanced samples.\n",
      "N foreground 12122, N  background 0,unable to generate class balanced samples.\n",
      "N foreground 15838, N  background 0,unable to generate class balanced samples.\n",
      "N foreground 14230, N  background 0,unable to generate class balanced samples.\n",
      "N foreground 16450, N  background 0,unable to generate class balanced samples.\n",
      "N foreground 17097, N  background 0,unable to generate class balanced samples.\n",
      "N foreground 13064, N  background 0,unable to generate class balanced samples.\n",
      "N foreground 16438, N  background 0,unable to generate class balanced samples.\n",
      "N foreground 13138, N  background 0,unable to generate class balanced samples.\n",
      "N foreground 15184, N  background 0,unable to generate class balanced samples.\n",
      "N foreground 13958, N  background 0,unable to generate class balanced samples.\n"
     ]
    },
    {
     "name": "stdout",
     "output_type": "stream",
     "text": [
      "1/13, train_loss: 0.1856\n",
      "2/13, train_loss: 0.1697\n",
      "3/13, train_loss: 0.1652\n",
      "4/13, train_loss: 0.2002\n",
      "5/13, train_loss: 0.1916\n",
      "6/13, train_loss: 0.1707\n",
      "7/13, train_loss: 0.1695\n",
      "8/13, train_loss: 0.1760\n",
      "9/13, train_loss: 0.1818\n",
      "10/13, train_loss: 0.1795\n",
      "11/13, train_loss: 0.1722\n",
      "12/13, train_loss: 0.1765\n",
      "13/13, train_loss: 0.1865\n",
      "epoch 90 average loss: 0.1788\n"
     ]
    },
    {
     "name": "stderr",
     "output_type": "stream",
     "text": [
      "N foreground 14351, N  background 0,unable to generate class balanced samples.\n",
      "N foreground 16021, N  background 0,unable to generate class balanced samples.\n",
      "N foreground 13080, N  background 0,unable to generate class balanced samples.\n",
      "N foreground 10539, N  background 0,unable to generate class balanced samples.\n",
      "N foreground 18264, N  background 0,unable to generate class balanced samples.\n",
      "N foreground 14149, N  background 0,unable to generate class balanced samples.\n",
      "N foreground 13981, N  background 0,unable to generate class balanced samples.\n",
      "N foreground 14458, N  background 0,unable to generate class balanced samples.\n",
      "N foreground 14199, N  background 0,unable to generate class balanced samples.\n"
     ]
    },
    {
     "name": "stdout",
     "output_type": "stream",
     "text": [
      "current epoch: 90 current mean dice: 0.8337\n",
      "best mean dice: 0.8414at epoch: 86\n",
      "----------\n",
      "epoch 91/150\n"
     ]
    },
    {
     "name": "stderr",
     "output_type": "stream",
     "text": [
      "N foreground 17097, N  background 0,unable to generate class balanced samples.\n",
      "N foreground 19210, N  background 0,unable to generate class balanced samples.\n",
      "N foreground 13958, N  background 0,unable to generate class balanced samples.\n",
      "N foreground 14230, N  background 0,unable to generate class balanced samples.\n",
      "N foreground 10533, N  background 0,unable to generate class balanced samples.\n",
      "N foreground 15909, N  background 0,unable to generate class balanced samples.\n",
      "N foreground 12122, N  background 0,unable to generate class balanced samples.\n",
      "N foreground 22593, N  background 0,unable to generate class balanced samples.\n",
      "N foreground 16115, N  background 0,unable to generate class balanced samples.\n",
      "N foreground 10474, N  background 0,unable to generate class balanced samples.\n",
      "N foreground 15838, N  background 0,unable to generate class balanced samples.\n",
      "N foreground 17716, N  background 0,unable to generate class balanced samples.\n",
      "N foreground 15184, N  background 0,unable to generate class balanced samples.\n",
      "N foreground 13138, N  background 0,unable to generate class balanced samples.\n",
      "N foreground 8935, N  background 0,unable to generate class balanced samples.\n",
      "N foreground 16388, N  background 0,unable to generate class balanced samples.\n",
      "N foreground 16450, N  background 0,unable to generate class balanced samples.\n",
      "N foreground 14317, N  background 0,unable to generate class balanced samples.\n",
      "N foreground 10992, N  background 0,unable to generate class balanced samples.\n",
      "N foreground 14809, N  background 0,unable to generate class balanced samples.\n",
      "N foreground 13809, N  background 0,unable to generate class balanced samples.\n",
      "N foreground 16682, N  background 0,unable to generate class balanced samples.\n",
      "N foreground 16438, N  background 0,unable to generate class balanced samples.\n",
      "N foreground 13064, N  background 0,unable to generate class balanced samples.\n",
      "N foreground 15619, N  background 0,unable to generate class balanced samples.\n",
      "N foreground 14262, N  background 0,unable to generate class balanced samples.\n"
     ]
    },
    {
     "name": "stdout",
     "output_type": "stream",
     "text": [
      "1/13, train_loss: 0.1928\n",
      "2/13, train_loss: 0.1926\n",
      "3/13, train_loss: 0.1755\n",
      "4/13, train_loss: 0.1901\n",
      "5/13, train_loss: 0.1910\n",
      "6/13, train_loss: 0.1659\n",
      "7/13, train_loss: 0.1803\n",
      "8/13, train_loss: 0.1663\n",
      "9/13, train_loss: 0.1737\n",
      "10/13, train_loss: 0.1634\n",
      "11/13, train_loss: 0.1931\n",
      "12/13, train_loss: 0.1743\n",
      "13/13, train_loss: 0.1858\n",
      "epoch 91 average loss: 0.1804\n"
     ]
    },
    {
     "name": "stderr",
     "output_type": "stream",
     "text": [
      "N foreground 14351, N  background 0,unable to generate class balanced samples.\n",
      "N foreground 16021, N  background 0,unable to generate class balanced samples.\n",
      "N foreground 13981, N  background 0,unable to generate class balanced samples.\n",
      "N foreground 14149, N  background 0,unable to generate class balanced samples.\n",
      "N foreground 18264, N  background 0,unable to generate class balanced samples.\n",
      "N foreground 14458, N  background 0,unable to generate class balanced samples.\n",
      "N foreground 10539, N  background 0,unable to generate class balanced samples.\n",
      "N foreground 13080, N  background 0,unable to generate class balanced samples.\n",
      "N foreground 14199, N  background 0,unable to generate class balanced samples.\n"
     ]
    },
    {
     "name": "stdout",
     "output_type": "stream",
     "text": [
      "current epoch: 91 current mean dice: 0.8399\n",
      "best mean dice: 0.8414at epoch: 86\n",
      "----------\n",
      "epoch 92/150\n"
     ]
    },
    {
     "name": "stderr",
     "output_type": "stream",
     "text": [
      "N foreground 16388, N  background 0,unable to generate class balanced samples.\n",
      "N foreground 10992, N  background 0,unable to generate class balanced samples.\n",
      "N foreground 17097, N  background 0,unable to generate class balanced samples.\n",
      "N foreground 12122, N  background 0,unable to generate class balanced samples.\n",
      "N foreground 16682, N  background 0,unable to generate class balanced samples.\n",
      "N foreground 8935, N  background 0,unable to generate class balanced samples.\n",
      "N foreground 16115, N  background 0,unable to generate class balanced samples.\n",
      "N foreground 15619, N  background 0,unable to generate class balanced samples.\n",
      "N foreground 13138, N  background 0,unable to generate class balanced samples.\n",
      "N foreground 19210, N  background 0,unable to generate class balanced samples.\n",
      "N foreground 22593, N  background 0,unable to generate class balanced samples.\n",
      "N foreground 13958, N  background 0,unable to generate class balanced samples.\n",
      "N foreground 14262, N  background 0,unable to generate class balanced samples.\n",
      "N foreground 14317, N  background 0,unable to generate class balanced samples.\n",
      "N foreground 10474, N  background 0,unable to generate class balanced samples.\n",
      "N foreground 14230, N  background 0,unable to generate class balanced samples.\n",
      "N foreground 13809, N  background 0,unable to generate class balanced samples.\n",
      "N foreground 15184, N  background 0,unable to generate class balanced samples.\n",
      "N foreground 16450, N  background 0,unable to generate class balanced samples.\n",
      "N foreground 13064, N  background 0,unable to generate class balanced samples.\n",
      "N foreground 15909, N  background 0,unable to generate class balanced samples.\n",
      "N foreground 10533, N  background 0,unable to generate class balanced samples.\n",
      "N foreground 17716, N  background 0,unable to generate class balanced samples.\n",
      "N foreground 14809, N  background 0,unable to generate class balanced samples.\n",
      "N foreground 15838, N  background 0,unable to generate class balanced samples.\n",
      "N foreground 16438, N  background 0,unable to generate class balanced samples.\n"
     ]
    },
    {
     "name": "stdout",
     "output_type": "stream",
     "text": [
      "1/13, train_loss: 0.1624\n",
      "2/13, train_loss: 0.1951\n",
      "3/13, train_loss: 0.1637\n",
      "4/13, train_loss: 0.1733\n",
      "5/13, train_loss: 0.1961\n",
      "6/13, train_loss: 0.1795\n",
      "7/13, train_loss: 0.1760\n",
      "8/13, train_loss: 0.1679\n",
      "9/13, train_loss: 0.1859\n",
      "10/13, train_loss: 0.1602\n",
      "11/13, train_loss: 0.1759\n",
      "12/13, train_loss: 0.1762\n",
      "13/13, train_loss: 0.1830\n",
      "epoch 92 average loss: 0.1766\n"
     ]
    },
    {
     "name": "stderr",
     "output_type": "stream",
     "text": [
      "N foreground 13080, N  background 0,unable to generate class balanced samples.\n",
      "N foreground 16021, N  background 0,unable to generate class balanced samples.\n",
      "N foreground 10539, N  background 0,unable to generate class balanced samples.\n",
      "N foreground 18264, N  background 0,unable to generate class balanced samples.\n",
      "N foreground 14351, N  background 0,unable to generate class balanced samples.\n",
      "N foreground 13981, N  background 0,unable to generate class balanced samples.\n",
      "N foreground 14149, N  background 0,unable to generate class balanced samples.\n",
      "N foreground 14458, N  background 0,unable to generate class balanced samples.\n",
      "N foreground 14199, N  background 0,unable to generate class balanced samples.\n"
     ]
    },
    {
     "name": "stdout",
     "output_type": "stream",
     "text": [
      "current epoch: 92 current mean dice: 0.8362\n",
      "best mean dice: 0.8414at epoch: 86\n",
      "----------\n",
      "epoch 93/150\n"
     ]
    },
    {
     "name": "stderr",
     "output_type": "stream",
     "text": [
      "N foreground 13138, N  background 0,unable to generate class balanced samples.\n",
      "N foreground 14230, N  background 0,unable to generate class balanced samples.\n",
      "N foreground 10992, N  background 0,unable to generate class balanced samples.\n",
      "N foreground 22593, N  background 0,unable to generate class balanced samples.\n",
      "N foreground 13958, N  background 0,unable to generate class balanced samples.\n",
      "N foreground 8935, N  background 0,unable to generate class balanced samples.\n",
      "N foreground 16388, N  background 0,unable to generate class balanced samples.\n",
      "N foreground 16682, N  background 0,unable to generate class balanced samples.\n",
      "N foreground 14809, N  background 0,unable to generate class balanced samples.\n",
      "N foreground 16450, N  background 0,unable to generate class balanced samples.\n",
      "N foreground 19210, N  background 0,unable to generate class balanced samples.\n",
      "N foreground 15619, N  background 0,unable to generate class balanced samples.\n",
      "N foreground 17097, N  background 0,unable to generate class balanced samples.\n",
      "N foreground 10474, N  background 0,unable to generate class balanced samples.\n",
      "N foreground 13809, N  background 0,unable to generate class balanced samples.\n",
      "N foreground 13064, N  background 0,unable to generate class balanced samples.\n",
      "N foreground 14262, N  background 0,unable to generate class balanced samples.\n",
      "N foreground 15184, N  background 0,unable to generate class balanced samples.\n",
      "N foreground 17716, N  background 0,unable to generate class balanced samples.\n",
      "N foreground 15838, N  background 0,unable to generate class balanced samples.\n",
      "N foreground 16438, N  background 0,unable to generate class balanced samples.\n",
      "N foreground 14317, N  background 0,unable to generate class balanced samples.\n",
      "N foreground 10533, N  background 0,unable to generate class balanced samples.\n",
      "N foreground 16115, N  background 0,unable to generate class balanced samples.\n",
      "N foreground 15909, N  background 0,unable to generate class balanced samples.\n",
      "N foreground 12122, N  background 0,unable to generate class balanced samples.\n"
     ]
    },
    {
     "name": "stdout",
     "output_type": "stream",
     "text": [
      "1/13, train_loss: 0.1792\n",
      "2/13, train_loss: 0.1913\n",
      "3/13, train_loss: 0.1737\n",
      "4/13, train_loss: 0.1904\n",
      "5/13, train_loss: 0.1804\n",
      "6/13, train_loss: 0.1632\n",
      "7/13, train_loss: 0.1782\n",
      "8/13, train_loss: 0.1779\n",
      "9/13, train_loss: 0.1877\n",
      "10/13, train_loss: 0.1711\n",
      "11/13, train_loss: 0.1776\n",
      "12/13, train_loss: 0.1725\n",
      "13/13, train_loss: 0.1750\n",
      "epoch 93 average loss: 0.1783\n"
     ]
    },
    {
     "name": "stderr",
     "output_type": "stream",
     "text": [
      "N foreground 13981, N  background 0,unable to generate class balanced samples.\n",
      "N foreground 13080, N  background 0,unable to generate class balanced samples.\n",
      "N foreground 14149, N  background 0,unable to generate class balanced samples.\n",
      "N foreground 16021, N  background 0,unable to generate class balanced samples.\n",
      "N foreground 18264, N  background 0,unable to generate class balanced samples.\n",
      "N foreground 10539, N  background 0,unable to generate class balanced samples.\n",
      "N foreground 14351, N  background 0,unable to generate class balanced samples.\n",
      "N foreground 14458, N  background 0,unable to generate class balanced samples.\n",
      "N foreground 14199, N  background 0,unable to generate class balanced samples.\n"
     ]
    },
    {
     "name": "stdout",
     "output_type": "stream",
     "text": [
      "saved new best metric model\n",
      "current epoch: 93 current mean dice: 0.8417\n",
      "best mean dice: 0.8417at epoch: 93\n",
      "----------\n",
      "epoch 94/150\n"
     ]
    },
    {
     "name": "stderr",
     "output_type": "stream",
     "text": [
      "N foreground 8935, N  background 0,unable to generate class balanced samples.\n",
      "N foreground 15619, N  background 0,unable to generate class balanced samples.\n",
      "N foreground 12122, N  background 0,unable to generate class balanced samples.\n",
      "N foreground 15184, N  background 0,unable to generate class balanced samples.\n",
      "N foreground 16438, N  background 0,unable to generate class balanced samples.\n",
      "N foreground 10474, N  background 0,unable to generate class balanced samples.\n",
      "N foreground 17097, N  background 0,unable to generate class balanced samples.\n",
      "N foreground 14262, N  background 0,unable to generate class balanced samples.\n",
      "N foreground 17716, N  background 0,unable to generate class balanced samples.\n",
      "N foreground 15838, N  background 0,unable to generate class balanced samples.\n",
      "N foreground 13809, N  background 0,unable to generate class balanced samples.\n",
      "N foreground 16450, N  background 0,unable to generate class balanced samples.\n",
      "N foreground 13138, N  background 0,unable to generate class balanced samples.\n",
      "N foreground 13958, N  background 0,unable to generate class balanced samples.\n",
      "N foreground 16388, N  background 0,unable to generate class balanced samples.\n",
      "N foreground 16115, N  background 0,unable to generate class balanced samples.\n",
      "N foreground 16682, N  background 0,unable to generate class balanced samples.\n",
      "N foreground 19210, N  background 0,unable to generate class balanced samples.\n",
      "N foreground 13064, N  background 0,unable to generate class balanced samples.\n",
      "N foreground 14317, N  background 0,unable to generate class balanced samples.\n",
      "N foreground 10992, N  background 0,unable to generate class balanced samples.\n",
      "N foreground 14230, N  background 0,unable to generate class balanced samples.\n",
      "N foreground 15909, N  background 0,unable to generate class balanced samples.\n",
      "N foreground 14809, N  background 0,unable to generate class balanced samples.\n",
      "N foreground 22593, N  background 0,unable to generate class balanced samples.\n",
      "N foreground 10533, N  background 0,unable to generate class balanced samples.\n"
     ]
    },
    {
     "name": "stdout",
     "output_type": "stream",
     "text": [
      "1/13, train_loss: 0.1776\n",
      "2/13, train_loss: 0.1728\n",
      "3/13, train_loss: 0.1725\n",
      "4/13, train_loss: 0.1964\n",
      "5/13, train_loss: 0.1786\n",
      "6/13, train_loss: 0.1687\n",
      "7/13, train_loss: 0.1801\n",
      "8/13, train_loss: 0.1699\n",
      "9/13, train_loss: 0.1730\n",
      "10/13, train_loss: 0.1727\n",
      "11/13, train_loss: 0.1914\n",
      "12/13, train_loss: 0.1894\n",
      "13/13, train_loss: 0.1762\n",
      "epoch 94 average loss: 0.1784\n"
     ]
    },
    {
     "name": "stderr",
     "output_type": "stream",
     "text": [
      "N foreground 18264, N  background 0,unable to generate class balanced samples.\n",
      "N foreground 16021, N  background 0,unable to generate class balanced samples.\n",
      "N foreground 14351, N  background 0,unable to generate class balanced samples.\n",
      "N foreground 14149, N  background 0,unable to generate class balanced samples.\n",
      "N foreground 10539, N  background 0,unable to generate class balanced samples.\n",
      "N foreground 13981, N  background 0,unable to generate class balanced samples.\n",
      "N foreground 13080, N  background 0,unable to generate class balanced samples.\n",
      "N foreground 14458, N  background 0,unable to generate class balanced samples.\n",
      "N foreground 14199, N  background 0,unable to generate class balanced samples.\n"
     ]
    },
    {
     "name": "stdout",
     "output_type": "stream",
     "text": [
      "current epoch: 94 current mean dice: 0.8404\n",
      "best mean dice: 0.8417at epoch: 93\n",
      "----------\n",
      "epoch 95/150\n"
     ]
    },
    {
     "name": "stderr",
     "output_type": "stream",
     "text": [
      "N foreground 15184, N  background 0,unable to generate class balanced samples.\n",
      "N foreground 15619, N  background 0,unable to generate class balanced samples.\n",
      "N foreground 14230, N  background 0,unable to generate class balanced samples.\n",
      "N foreground 13958, N  background 0,unable to generate class balanced samples.\n",
      "N foreground 22593, N  background 0,unable to generate class balanced samples.\n",
      "N foreground 10474, N  background 0,unable to generate class balanced samples.\n",
      "N foreground 15909, N  background 0,unable to generate class balanced samples.\n",
      "N foreground 16438, N  background 0,unable to generate class balanced samples.\n",
      "N foreground 16682, N  background 0,unable to generate class balanced samples.\n",
      "N foreground 15838, N  background 0,unable to generate class balanced samples.\n",
      "N foreground 16450, N  background 0,unable to generate class balanced samples.\n",
      "N foreground 17716, N  background 0,unable to generate class balanced samples.\n",
      "N foreground 14317, N  background 0,unable to generate class balanced samples.\n",
      "N foreground 10992, N  background 0,unable to generate class balanced samples.\n",
      "N foreground 13809, N  background 0,unable to generate class balanced samples.\n",
      "N foreground 10533, N  background 0,unable to generate class balanced samples.\n",
      "N foreground 14262, N  background 0,unable to generate class balanced samples.\n",
      "N foreground 12122, N  background 0,unable to generate class balanced samples.\n",
      "N foreground 17097, N  background 0,unable to generate class balanced samples.\n",
      "N foreground 19210, N  background 0,unable to generate class balanced samples.\n",
      "N foreground 16388, N  background 0,unable to generate class balanced samples.\n",
      "N foreground 13138, N  background 0,unable to generate class balanced samples.\n",
      "N foreground 14809, N  background 0,unable to generate class balanced samples.\n",
      "N foreground 13064, N  background 0,unable to generate class balanced samples.\n",
      "N foreground 8935, N  background 0,unable to generate class balanced samples.\n",
      "N foreground 16115, N  background 0,unable to generate class balanced samples.\n"
     ]
    },
    {
     "name": "stdout",
     "output_type": "stream",
     "text": [
      "1/13, train_loss: 0.1882\n",
      "2/13, train_loss: 0.1813\n",
      "3/13, train_loss: 0.1645\n",
      "4/13, train_loss: 0.1762\n",
      "5/13, train_loss: 0.1790\n",
      "6/13, train_loss: 0.1556\n",
      "7/13, train_loss: 0.1669\n",
      "8/13, train_loss: 0.1735\n",
      "9/13, train_loss: 0.1772\n",
      "10/13, train_loss: 0.1854\n",
      "11/13, train_loss: 0.1917\n",
      "12/13, train_loss: 0.1651\n",
      "13/13, train_loss: 0.1638\n",
      "epoch 95 average loss: 0.1745\n"
     ]
    },
    {
     "name": "stderr",
     "output_type": "stream",
     "text": [
      "N foreground 16021, N  background 0,unable to generate class balanced samples.\n",
      "N foreground 10539, N  background 0,unable to generate class balanced samples.\n",
      "N foreground 13981, N  background 0,unable to generate class balanced samples.\n",
      "N foreground 13080, N  background 0,unable to generate class balanced samples.\n",
      "N foreground 14149, N  background 0,unable to generate class balanced samples.\n",
      "N foreground 14351, N  background 0,unable to generate class balanced samples.\n",
      "N foreground 18264, N  background 0,unable to generate class balanced samples.\n",
      "N foreground 14458, N  background 0,unable to generate class balanced samples.\n",
      "N foreground 14199, N  background 0,unable to generate class balanced samples.\n"
     ]
    },
    {
     "name": "stdout",
     "output_type": "stream",
     "text": [
      "current epoch: 95 current mean dice: 0.8372\n",
      "best mean dice: 0.8417at epoch: 93\n",
      "----------\n",
      "epoch 96/150\n"
     ]
    },
    {
     "name": "stderr",
     "output_type": "stream",
     "text": [
      "N foreground 15909, N  background 0,unable to generate class balanced samples.\n",
      "N foreground 16438, N  background 0,unable to generate class balanced samples.\n",
      "N foreground 13958, N  background 0,unable to generate class balanced samples.\n",
      "N foreground 17097, N  background 0,unable to generate class balanced samples.\n",
      "N foreground 13064, N  background 0,unable to generate class balanced samples.\n",
      "N foreground 16682, N  background 0,unable to generate class balanced samples.\n",
      "N foreground 14230, N  background 0,unable to generate class balanced samples.\n",
      "N foreground 16388, N  background 0,unable to generate class balanced samples.\n",
      "N foreground 10474, N  background 0,unable to generate class balanced samples.\n",
      "N foreground 14262, N  background 0,unable to generate class balanced samples.\n",
      "N foreground 22593, N  background 0,unable to generate class balanced samples.\n",
      "N foreground 10533, N  background 0,unable to generate class balanced samples.\n",
      "N foreground 15619, N  background 0,unable to generate class balanced samples.\n",
      "N foreground 15184, N  background 0,unable to generate class balanced samples.\n",
      "N foreground 14317, N  background 0,unable to generate class balanced samples.\n",
      "N foreground 15838, N  background 0,unable to generate class balanced samples.\n",
      "N foreground 19210, N  background 0,unable to generate class balanced samples.\n",
      "N foreground 13809, N  background 0,unable to generate class balanced samples.\n",
      "N foreground 12122, N  background 0,unable to generate class balanced samples.\n",
      "N foreground 16115, N  background 0,unable to generate class balanced samples.\n",
      "N foreground 14809, N  background 0,unable to generate class balanced samples.\n",
      "N foreground 10992, N  background 0,unable to generate class balanced samples.\n",
      "N foreground 17716, N  background 0,unable to generate class balanced samples.\n",
      "N foreground 8935, N  background 0,unable to generate class balanced samples.\n",
      "N foreground 13138, N  background 0,unable to generate class balanced samples.\n",
      "N foreground 16450, N  background 0,unable to generate class balanced samples.\n"
     ]
    },
    {
     "name": "stdout",
     "output_type": "stream",
     "text": [
      "1/13, train_loss: 0.1794\n",
      "2/13, train_loss: 0.1582\n",
      "3/13, train_loss: 0.1906\n",
      "4/13, train_loss: 0.1812\n",
      "5/13, train_loss: 0.1712\n",
      "6/13, train_loss: 0.1694\n",
      "7/13, train_loss: 0.1885\n",
      "8/13, train_loss: 0.1805\n",
      "9/13, train_loss: 0.1835\n",
      "10/13, train_loss: 0.1651\n",
      "11/13, train_loss: 0.1843\n",
      "12/13, train_loss: 0.1732\n",
      "13/13, train_loss: 0.1694\n",
      "epoch 96 average loss: 0.1765\n"
     ]
    },
    {
     "name": "stderr",
     "output_type": "stream",
     "text": [
      "N foreground 13080, N  background 0,unable to generate class balanced samples.\n",
      "N foreground 18264, N  background 0,unable to generate class balanced samples.\n",
      "N foreground 14351, N  background 0,unable to generate class balanced samples.\n",
      "N foreground 10539, N  background 0,unable to generate class balanced samples.\n",
      "N foreground 14149, N  background 0,unable to generate class balanced samples.\n",
      "N foreground 13981, N  background 0,unable to generate class balanced samples.\n",
      "N foreground 16021, N  background 0,unable to generate class balanced samples.\n",
      "N foreground 14458, N  background 0,unable to generate class balanced samples.\n",
      "N foreground 14199, N  background 0,unable to generate class balanced samples.\n"
     ]
    },
    {
     "name": "stdout",
     "output_type": "stream",
     "text": [
      "saved new best metric model\n",
      "current epoch: 96 current mean dice: 0.8422\n",
      "best mean dice: 0.8422at epoch: 96\n",
      "----------\n",
      "epoch 97/150\n"
     ]
    },
    {
     "name": "stderr",
     "output_type": "stream",
     "text": [
      "N foreground 16115, N  background 0,unable to generate class balanced samples.\n",
      "N foreground 14809, N  background 0,unable to generate class balanced samples.\n",
      "N foreground 12122, N  background 0,unable to generate class balanced samples.\n",
      "N foreground 13958, N  background 0,unable to generate class balanced samples.\n",
      "N foreground 14230, N  background 0,unable to generate class balanced samples.\n",
      "N foreground 19210, N  background 0,unable to generate class balanced samples.\n",
      "N foreground 16450, N  background 0,unable to generate class balanced samples.\n",
      "N foreground 13809, N  background 0,unable to generate class balanced samples.\n",
      "N foreground 17716, N  background 0,unable to generate class balanced samples.\n",
      "N foreground 14317, N  background 0,unable to generate class balanced samples.\n",
      "N foreground 15184, N  background 0,unable to generate class balanced samples.\n",
      "N foreground 16438, N  background 0,unable to generate class balanced samples.\n",
      "N foreground 10474, N  background 0,unable to generate class balanced samples.\n",
      "N foreground 8935, N  background 0,unable to generate class balanced samples.\n",
      "N foreground 15838, N  background 0,unable to generate class balanced samples.\n",
      "N foreground 22593, N  background 0,unable to generate class balanced samples.\n",
      "N foreground 10533, N  background 0,unable to generate class balanced samples.\n",
      "N foreground 15619, N  background 0,unable to generate class balanced samples.\n",
      "N foreground 10992, N  background 0,unable to generate class balanced samples.\n",
      "N foreground 15909, N  background 0,unable to generate class balanced samples.\n",
      "N foreground 17097, N  background 0,unable to generate class balanced samples.\n",
      "N foreground 16682, N  background 0,unable to generate class balanced samples.\n",
      "N foreground 13138, N  background 0,unable to generate class balanced samples.\n",
      "N foreground 16388, N  background 0,unable to generate class balanced samples.\n",
      "N foreground 13064, N  background 0,unable to generate class balanced samples.\n",
      "N foreground 14262, N  background 0,unable to generate class balanced samples.\n"
     ]
    },
    {
     "name": "stdout",
     "output_type": "stream",
     "text": [
      "1/13, train_loss: 0.1531\n",
      "2/13, train_loss: 0.1886\n",
      "3/13, train_loss: 0.1782\n",
      "4/13, train_loss: 0.1735\n",
      "5/13, train_loss: 0.1613\n",
      "6/13, train_loss: 0.1777\n",
      "7/13, train_loss: 0.1836\n",
      "8/13, train_loss: 0.1663\n",
      "9/13, train_loss: 0.1553\n",
      "10/13, train_loss: 0.1702\n",
      "11/13, train_loss: 0.1820\n",
      "12/13, train_loss: 0.1677\n",
      "13/13, train_loss: 0.1843\n",
      "epoch 97 average loss: 0.1724\n"
     ]
    },
    {
     "name": "stderr",
     "output_type": "stream",
     "text": [
      "N foreground 13080, N  background 0,unable to generate class balanced samples.\n",
      "N foreground 16021, N  background 0,unable to generate class balanced samples.\n",
      "N foreground 14351, N  background 0,unable to generate class balanced samples.\n",
      "N foreground 14149, N  background 0,unable to generate class balanced samples.\n",
      "N foreground 10539, N  background 0,unable to generate class balanced samples.\n",
      "N foreground 18264, N  background 0,unable to generate class balanced samples.\n",
      "N foreground 13981, N  background 0,unable to generate class balanced samples.\n",
      "N foreground 14458, N  background 0,unable to generate class balanced samples.\n",
      "N foreground 14199, N  background 0,unable to generate class balanced samples.\n"
     ]
    },
    {
     "name": "stdout",
     "output_type": "stream",
     "text": [
      "current epoch: 97 current mean dice: 0.8407\n",
      "best mean dice: 0.8422at epoch: 96\n",
      "----------\n",
      "epoch 98/150\n"
     ]
    },
    {
     "name": "stderr",
     "output_type": "stream",
     "text": [
      "N foreground 12122, N  background 0,unable to generate class balanced samples.\n",
      "N foreground 13064, N  background 0,unable to generate class balanced samples.\n",
      "N foreground 14809, N  background 0,unable to generate class balanced samples.\n",
      "N foreground 22593, N  background 0,unable to generate class balanced samples.\n",
      "N foreground 16438, N  background 0,unable to generate class balanced samples.\n",
      "N foreground 10474, N  background 0,unable to generate class balanced samples.\n",
      "N foreground 15838, N  background 0,unable to generate class balanced samples.\n",
      "N foreground 15909, N  background 0,unable to generate class balanced samples.\n",
      "N foreground 15619, N  background 0,unable to generate class balanced samples.\n",
      "N foreground 13138, N  background 0,unable to generate class balanced samples.\n",
      "N foreground 16388, N  background 0,unable to generate class balanced samples.\n",
      "N foreground 15184, N  background 0,unable to generate class balanced samples.\n",
      "N foreground 13809, N  background 0,unable to generate class balanced samples.\n",
      "N foreground 17716, N  background 0,unable to generate class balanced samples.\n",
      "N foreground 17097, N  background 0,unable to generate class balanced samples.\n",
      "N foreground 19210, N  background 0,unable to generate class balanced samples.\n",
      "N foreground 10533, N  background 0,unable to generate class balanced samples.\n",
      "N foreground 16682, N  background 0,unable to generate class balanced samples.\n",
      "N foreground 16115, N  background 0,unable to generate class balanced samples.\n",
      "N foreground 16450, N  background 0,unable to generate class balanced samples.\n",
      "N foreground 13958, N  background 0,unable to generate class balanced samples.\n",
      "N foreground 14262, N  background 0,unable to generate class balanced samples.\n",
      "N foreground 14317, N  background 0,unable to generate class balanced samples.\n",
      "N foreground 8935, N  background 0,unable to generate class balanced samples.\n",
      "N foreground 10992, N  background 0,unable to generate class balanced samples.\n",
      "N foreground 14230, N  background 0,unable to generate class balanced samples.\n"
     ]
    },
    {
     "name": "stdout",
     "output_type": "stream",
     "text": [
      "1/13, train_loss: 0.1771\n",
      "2/13, train_loss: 0.1751\n",
      "3/13, train_loss: 0.1817\n",
      "4/13, train_loss: 0.1618\n",
      "5/13, train_loss: 0.1700\n",
      "6/13, train_loss: 0.1796\n",
      "7/13, train_loss: 0.1631\n",
      "8/13, train_loss: 0.1776\n",
      "9/13, train_loss: 0.1852\n",
      "10/13, train_loss: 0.1551\n",
      "11/13, train_loss: 0.1821\n",
      "12/13, train_loss: 0.1802\n",
      "13/13, train_loss: 0.1728\n",
      "epoch 98 average loss: 0.1740\n"
     ]
    },
    {
     "name": "stderr",
     "output_type": "stream",
     "text": [
      "N foreground 18264, N  background 0,unable to generate class balanced samples.\n",
      "N foreground 14149, N  background 0,unable to generate class balanced samples.\n",
      "N foreground 14351, N  background 0,unable to generate class balanced samples.\n",
      "N foreground 10539, N  background 0,unable to generate class balanced samples.\n",
      "N foreground 16021, N  background 0,unable to generate class balanced samples.\n",
      "N foreground 13080, N  background 0,unable to generate class balanced samples.\n",
      "N foreground 13981, N  background 0,unable to generate class balanced samples.\n",
      "N foreground 14458, N  background 0,unable to generate class balanced samples.\n",
      "N foreground 14199, N  background 0,unable to generate class balanced samples.\n"
     ]
    },
    {
     "name": "stdout",
     "output_type": "stream",
     "text": [
      "saved new best metric model\n",
      "current epoch: 98 current mean dice: 0.8465\n",
      "best mean dice: 0.8465at epoch: 98\n",
      "----------\n",
      "epoch 99/150\n"
     ]
    },
    {
     "name": "stderr",
     "output_type": "stream",
     "text": [
      "N foreground 19210, N  background 0,unable to generate class balanced samples.\n",
      "N foreground 8935, N  background 0,unable to generate class balanced samples.\n",
      "N foreground 14262, N  background 0,unable to generate class balanced samples.\n",
      "N foreground 13064, N  background 0,unable to generate class balanced samples.\n",
      "N foreground 17716, N  background 0,unable to generate class balanced samples.\n",
      "N foreground 17097, N  background 0,unable to generate class balanced samples.\n",
      "N foreground 22593, N  background 0,unable to generate class balanced samples.\n",
      "N foreground 15184, N  background 0,unable to generate class balanced samples.\n",
      "N foreground 16115, N  background 0,unable to generate class balanced samples.\n",
      "N foreground 15909, N  background 0,unable to generate class balanced samples.\n",
      "N foreground 14317, N  background 0,unable to generate class balanced samples.\n",
      "N foreground 13958, N  background 0,unable to generate class balanced samples.\n",
      "N foreground 12122, N  background 0,unable to generate class balanced samples.\n",
      "N foreground 16682, N  background 0,unable to generate class balanced samples.\n",
      "N foreground 10474, N  background 0,unable to generate class balanced samples.\n",
      "N foreground 16450, N  background 0,unable to generate class balanced samples.\n",
      "N foreground 16438, N  background 0,unable to generate class balanced samples.\n",
      "N foreground 13809, N  background 0,unable to generate class balanced samples.\n",
      "N foreground 14809, N  background 0,unable to generate class balanced samples.\n",
      "N foreground 14230, N  background 0,unable to generate class balanced samples.\n",
      "N foreground 10992, N  background 0,unable to generate class balanced samples.\n",
      "N foreground 15838, N  background 0,unable to generate class balanced samples.\n",
      "N foreground 15619, N  background 0,unable to generate class balanced samples.\n",
      "N foreground 16388, N  background 0,unable to generate class balanced samples.\n",
      "N foreground 13138, N  background 0,unable to generate class balanced samples.\n",
      "N foreground 10533, N  background 0,unable to generate class balanced samples.\n"
     ]
    },
    {
     "name": "stdout",
     "output_type": "stream",
     "text": [
      "1/13, train_loss: 0.1728\n",
      "2/13, train_loss: 0.1634\n",
      "3/13, train_loss: 0.1893\n",
      "4/13, train_loss: 0.1851\n",
      "5/13, train_loss: 0.1877\n",
      "6/13, train_loss: 0.1695\n",
      "7/13, train_loss: 0.1741\n",
      "8/13, train_loss: 0.1729\n",
      "9/13, train_loss: 0.1866\n",
      "10/13, train_loss: 0.1748\n",
      "11/13, train_loss: 0.1662\n",
      "12/13, train_loss: 0.1746\n",
      "13/13, train_loss: 0.1616\n",
      "epoch 99 average loss: 0.1753\n"
     ]
    },
    {
     "name": "stderr",
     "output_type": "stream",
     "text": [
      "N foreground 13080, N  background 0,unable to generate class balanced samples.\n",
      "N foreground 18264, N  background 0,unable to generate class balanced samples.\n",
      "N foreground 14149, N  background 0,unable to generate class balanced samples.\n",
      "N foreground 10539, N  background 0,unable to generate class balanced samples.\n",
      "N foreground 13981, N  background 0,unable to generate class balanced samples.\n",
      "N foreground 16021, N  background 0,unable to generate class balanced samples.\n",
      "N foreground 14458, N  background 0,unable to generate class balanced samples.\n",
      "N foreground 14351, N  background 0,unable to generate class balanced samples.\n",
      "N foreground 14199, N  background 0,unable to generate class balanced samples.\n"
     ]
    },
    {
     "name": "stdout",
     "output_type": "stream",
     "text": [
      "current epoch: 99 current mean dice: 0.8437\n",
      "best mean dice: 0.8465at epoch: 98\n",
      "----------\n",
      "epoch 100/150\n"
     ]
    },
    {
     "name": "stderr",
     "output_type": "stream",
     "text": [
      "N foreground 13809, N  background 0,unable to generate class balanced samples.\n",
      "N foreground 13958, N  background 0,unable to generate class balanced samples.\n",
      "N foreground 16115, N  background 0,unable to generate class balanced samples.\n",
      "N foreground 16682, N  background 0,unable to generate class balanced samples.\n",
      "N foreground 15184, N  background 0,unable to generate class balanced samples.\n",
      "N foreground 15838, N  background 0,unable to generate class balanced samples.\n",
      "N foreground 14262, N  background 0,unable to generate class balanced samples.\n",
      "N foreground 14809, N  background 0,unable to generate class balanced samples.\n",
      "N foreground 12122, N  background 0,unable to generate class balanced samples.\n",
      "N foreground 10992, N  background 0,unable to generate class balanced samples.\n",
      "N foreground 16450, N  background 0,unable to generate class balanced samples.\n",
      "N foreground 8935, N  background 0,unable to generate class balanced samples.\n",
      "N foreground 15619, N  background 0,unable to generate class balanced samples.\n",
      "N foreground 14317, N  background 0,unable to generate class balanced samples.\n",
      "N foreground 14230, N  background 0,unable to generate class balanced samples.\n",
      "N foreground 22593, N  background 0,unable to generate class balanced samples.\n",
      "N foreground 16388, N  background 0,unable to generate class balanced samples.\n",
      "N foreground 10533, N  background 0,unable to generate class balanced samples.\n",
      "N foreground 15909, N  background 0,unable to generate class balanced samples.\n",
      "N foreground 10474, N  background 0,unable to generate class balanced samples.\n",
      "N foreground 13138, N  background 0,unable to generate class balanced samples.\n",
      "N foreground 13064, N  background 0,unable to generate class balanced samples.\n",
      "N foreground 17716, N  background 0,unable to generate class balanced samples.\n",
      "N foreground 17097, N  background 0,unable to generate class balanced samples.\n",
      "N foreground 16438, N  background 0,unable to generate class balanced samples.\n",
      "N foreground 19210, N  background 0,unable to generate class balanced samples.\n"
     ]
    },
    {
     "name": "stdout",
     "output_type": "stream",
     "text": [
      "1/13, train_loss: 0.1814\n",
      "2/13, train_loss: 0.1848\n",
      "3/13, train_loss: 0.1625\n",
      "4/13, train_loss: 0.1759\n",
      "5/13, train_loss: 0.1663\n",
      "6/13, train_loss: 0.1705\n",
      "7/13, train_loss: 0.1805\n",
      "8/13, train_loss: 0.1925\n",
      "9/13, train_loss: 0.1737\n",
      "10/13, train_loss: 0.1608\n",
      "11/13, train_loss: 0.1740\n",
      "12/13, train_loss: 0.1855\n",
      "13/13, train_loss: 0.1780\n",
      "epoch 100 average loss: 0.1759\n"
     ]
    },
    {
     "name": "stderr",
     "output_type": "stream",
     "text": [
      "N foreground 13981, N  background 0,unable to generate class balanced samples.\n",
      "N foreground 16021, N  background 0,unable to generate class balanced samples.\n",
      "N foreground 18264, N  background 0,unable to generate class balanced samples.\n",
      "N foreground 10539, N  background 0,unable to generate class balanced samples.\n",
      "N foreground 14149, N  background 0,unable to generate class balanced samples.\n",
      "N foreground 14351, N  background 0,unable to generate class balanced samples.\n",
      "N foreground 13080, N  background 0,unable to generate class balanced samples.\n",
      "N foreground 14458, N  background 0,unable to generate class balanced samples.\n",
      "N foreground 14199, N  background 0,unable to generate class balanced samples.\n"
     ]
    },
    {
     "name": "stdout",
     "output_type": "stream",
     "text": [
      "current epoch: 100 current mean dice: 0.8379\n",
      "best mean dice: 0.8465at epoch: 98\n",
      "----------\n",
      "epoch 101/150\n"
     ]
    },
    {
     "name": "stderr",
     "output_type": "stream",
     "text": [
      "N foreground 15838, N  background 0,unable to generate class balanced samples.\n",
      "N foreground 17097, N  background 0,unable to generate class balanced samples.\n",
      "N foreground 14230, N  background 0,unable to generate class balanced samples.\n",
      "N foreground 14809, N  background 0,unable to generate class balanced samples.\n",
      "N foreground 12122, N  background 0,unable to generate class balanced samples.\n",
      "N foreground 14317, N  background 0,unable to generate class balanced samples.\n",
      "N foreground 16388, N  background 0,unable to generate class balanced samples.\n",
      "N foreground 22593, N  background 0,unable to generate class balanced samples.\n",
      "N foreground 8935, N  background 0,unable to generate class balanced samples.\n",
      "N foreground 15184, N  background 0,unable to generate class balanced samples.\n",
      "N foreground 10992, N  background 0,unable to generate class balanced samples.\n",
      "N foreground 16438, N  background 0,unable to generate class balanced samples.\n",
      "N foreground 10474, N  background 0,unable to generate class balanced samples.\n",
      "N foreground 13809, N  background 0,unable to generate class balanced samples.\n",
      "N foreground 16450, N  background 0,unable to generate class balanced samples.\n",
      "N foreground 19210, N  background 0,unable to generate class balanced samples.\n",
      "N foreground 15909, N  background 0,unable to generate class balanced samples.\n",
      "N foreground 15619, N  background 0,unable to generate class balanced samples.\n",
      "N foreground 16682, N  background 0,unable to generate class balanced samples.\n",
      "N foreground 13064, N  background 0,unable to generate class balanced samples.\n",
      "N foreground 16115, N  background 0,unable to generate class balanced samples.\n",
      "N foreground 13138, N  background 0,unable to generate class balanced samples.\n",
      "N foreground 17716, N  background 0,unable to generate class balanced samples.\n",
      "N foreground 14262, N  background 0,unable to generate class balanced samples.\n",
      "N foreground 10533, N  background 0,unable to generate class balanced samples.\n",
      "N foreground 13958, N  background 0,unable to generate class balanced samples.\n"
     ]
    },
    {
     "name": "stdout",
     "output_type": "stream",
     "text": [
      "1/13, train_loss: 0.1821\n",
      "2/13, train_loss: 0.1732\n",
      "3/13, train_loss: 0.1690\n",
      "4/13, train_loss: 0.1720\n",
      "5/13, train_loss: 0.1858\n",
      "6/13, train_loss: 0.1700\n",
      "7/13, train_loss: 0.1796\n",
      "8/13, train_loss: 0.1604\n",
      "9/13, train_loss: 0.1836\n",
      "10/13, train_loss: 0.1547\n",
      "11/13, train_loss: 0.1686\n",
      "12/13, train_loss: 0.1605\n",
      "13/13, train_loss: 0.1807\n",
      "epoch 101 average loss: 0.1723\n"
     ]
    },
    {
     "name": "stderr",
     "output_type": "stream",
     "text": [
      "N foreground 13080, N  background 0,unable to generate class balanced samples.\n",
      "N foreground 10539, N  background 0,unable to generate class balanced samples.\n",
      "N foreground 18264, N  background 0,unable to generate class balanced samples.\n",
      "N foreground 14351, N  background 0,unable to generate class balanced samples.\n",
      "N foreground 16021, N  background 0,unable to generate class balanced samples.\n",
      "N foreground 14149, N  background 0,unable to generate class balanced samples.\n",
      "N foreground 13981, N  background 0,unable to generate class balanced samples.\n",
      "N foreground 14458, N  background 0,unable to generate class balanced samples.\n",
      "N foreground 14199, N  background 0,unable to generate class balanced samples.\n"
     ]
    },
    {
     "name": "stdout",
     "output_type": "stream",
     "text": [
      "current epoch: 101 current mean dice: 0.8388\n",
      "best mean dice: 0.8465at epoch: 98\n",
      "----------\n",
      "epoch 102/150\n"
     ]
    },
    {
     "name": "stderr",
     "output_type": "stream",
     "text": [
      "N foreground 14809, N  background 0,unable to generate class balanced samples.\n",
      "N foreground 13809, N  background 0,unable to generate class balanced samples.\n",
      "N foreground 12122, N  background 0,unable to generate class balanced samples.\n",
      "N foreground 16682, N  background 0,unable to generate class balanced samples.\n",
      "N foreground 14317, N  background 0,unable to generate class balanced samples.\n",
      "N foreground 16438, N  background 0,unable to generate class balanced samples.\n",
      "N foreground 15184, N  background 0,unable to generate class balanced samples.\n",
      "N foreground 22593, N  background 0,unable to generate class balanced samples.\n",
      "N foreground 17097, N  background 0,unable to generate class balanced samples.\n",
      "N foreground 10533, N  background 0,unable to generate class balanced samples.\n",
      "N foreground 14262, N  background 0,unable to generate class balanced samples.\n",
      "N foreground 13958, N  background 0,unable to generate class balanced samples.\n",
      "N foreground 17716, N  background 0,unable to generate class balanced samples.\n",
      "N foreground 14230, N  background 0,unable to generate class balanced samples.\n",
      "N foreground 10474, N  background 0,unable to generate class balanced samples.\n",
      "N foreground 15619, N  background 0,unable to generate class balanced samples.\n",
      "N foreground 10992, N  background 0,unable to generate class balanced samples.\n",
      "N foreground 8935, N  background 0,unable to generate class balanced samples.\n",
      "N foreground 13064, N  background 0,unable to generate class balanced samples.\n",
      "N foreground 15838, N  background 0,unable to generate class balanced samples.\n",
      "N foreground 15909, N  background 0,unable to generate class balanced samples.\n",
      "N foreground 19210, N  background 0,unable to generate class balanced samples.\n",
      "N foreground 13138, N  background 0,unable to generate class balanced samples.\n",
      "N foreground 16450, N  background 0,unable to generate class balanced samples.\n",
      "N foreground 16388, N  background 0,unable to generate class balanced samples.\n",
      "N foreground 16115, N  background 0,unable to generate class balanced samples.\n"
     ]
    },
    {
     "name": "stdout",
     "output_type": "stream",
     "text": [
      "1/13, train_loss: 0.1496\n",
      "2/13, train_loss: 0.1796\n",
      "3/13, train_loss: 0.1750\n",
      "4/13, train_loss: 0.1701\n",
      "5/13, train_loss: 0.1872\n",
      "6/13, train_loss: 0.1600\n",
      "7/13, train_loss: 0.1552\n",
      "8/13, train_loss: 0.1546\n",
      "9/13, train_loss: 0.1720\n",
      "10/13, train_loss: 0.1570\n",
      "11/13, train_loss: 0.1745\n",
      "12/13, train_loss: 0.1701\n",
      "13/13, train_loss: 0.1743\n",
      "epoch 102 average loss: 0.1676\n"
     ]
    },
    {
     "name": "stderr",
     "output_type": "stream",
     "text": [
      "N foreground 10539, N  background 0,unable to generate class balanced samples.\n",
      "N foreground 14149, N  background 0,unable to generate class balanced samples.\n",
      "N foreground 13080, N  background 0,unable to generate class balanced samples.\n",
      "N foreground 16021, N  background 0,unable to generate class balanced samples.\n",
      "N foreground 13981, N  background 0,unable to generate class balanced samples.\n",
      "N foreground 18264, N  background 0,unable to generate class balanced samples.\n",
      "N foreground 14351, N  background 0,unable to generate class balanced samples.\n",
      "N foreground 14458, N  background 0,unable to generate class balanced samples.\n",
      "N foreground 14199, N  background 0,unable to generate class balanced samples.\n"
     ]
    },
    {
     "name": "stdout",
     "output_type": "stream",
     "text": [
      "current epoch: 102 current mean dice: 0.8392\n",
      "best mean dice: 0.8465at epoch: 98\n",
      "----------\n",
      "epoch 103/150\n"
     ]
    },
    {
     "name": "stderr",
     "output_type": "stream",
     "text": [
      "N foreground 17716, N  background 0,unable to generate class balanced samples.\n",
      "N foreground 8935, N  background 0,unable to generate class balanced samples.\n",
      "N foreground 16682, N  background 0,unable to generate class balanced samples.\n",
      "N foreground 16450, N  background 0,unable to generate class balanced samples.\n",
      "N foreground 10533, N  background 0,unable to generate class balanced samples.\n",
      "N foreground 22593, N  background 0,unable to generate class balanced samples.\n",
      "N foreground 15184, N  background 0,unable to generate class balanced samples.\n",
      "N foreground 17097, N  background 0,unable to generate class balanced samples.\n",
      "N foreground 14262, N  background 0,unable to generate class balanced samples.\n",
      "N foreground 13138, N  background 0,unable to generate class balanced samples.\n",
      "N foreground 13064, N  background 0,unable to generate class balanced samples.\n",
      "N foreground 10474, N  background 0,unable to generate class balanced samples.\n",
      "N foreground 16438, N  background 0,unable to generate class balanced samples.\n",
      "N foreground 13809, N  background 0,unable to generate class balanced samples.\n",
      "N foreground 16388, N  background 0,unable to generate class balanced samples.\n",
      "N foreground 14230, N  background 0,unable to generate class balanced samples.\n",
      "N foreground 15838, N  background 0,unable to generate class balanced samples.\n",
      "N foreground 14809, N  background 0,unable to generate class balanced samples.\n",
      "N foreground 14317, N  background 0,unable to generate class balanced samples.\n",
      "N foreground 10992, N  background 0,unable to generate class balanced samples.\n",
      "N foreground 15619, N  background 0,unable to generate class balanced samples.\n",
      "N foreground 15909, N  background 0,unable to generate class balanced samples.\n",
      "N foreground 13958, N  background 0,unable to generate class balanced samples.\n",
      "N foreground 19210, N  background 0,unable to generate class balanced samples.\n",
      "N foreground 16115, N  background 0,unable to generate class balanced samples.\n",
      "N foreground 12122, N  background 0,unable to generate class balanced samples.\n"
     ]
    },
    {
     "name": "stdout",
     "output_type": "stream",
     "text": [
      "1/13, train_loss: 0.1694\n",
      "2/13, train_loss: 0.1611\n",
      "3/13, train_loss: 0.1860\n",
      "4/13, train_loss: 0.1848\n",
      "5/13, train_loss: 0.1543\n",
      "6/13, train_loss: 0.1545\n",
      "7/13, train_loss: 0.1727\n",
      "8/13, train_loss: 0.1697\n",
      "9/13, train_loss: 0.1797\n",
      "10/13, train_loss: 0.1817\n",
      "11/13, train_loss: 0.1793\n",
      "12/13, train_loss: 0.1638\n",
      "13/13, train_loss: 0.1740\n",
      "epoch 103 average loss: 0.1716\n"
     ]
    },
    {
     "name": "stderr",
     "output_type": "stream",
     "text": [
      "N foreground 16021, N  background 0,unable to generate class balanced samples.\n",
      "N foreground 14351, N  background 0,unable to generate class balanced samples.\n",
      "N foreground 13981, N  background 0,unable to generate class balanced samples.\n",
      "N foreground 13080, N  background 0,unable to generate class balanced samples.\n",
      "N foreground 14458, N  background 0,unable to generate class balanced samples.\n",
      "N foreground 18264, N  background 0,unable to generate class balanced samples.\n",
      "N foreground 14149, N  background 0,unable to generate class balanced samples.\n",
      "N foreground 10539, N  background 0,unable to generate class balanced samples.\n",
      "N foreground 14199, N  background 0,unable to generate class balanced samples.\n"
     ]
    },
    {
     "name": "stdout",
     "output_type": "stream",
     "text": [
      "current epoch: 103 current mean dice: 0.8460\n",
      "best mean dice: 0.8465at epoch: 98\n",
      "----------\n",
      "epoch 104/150\n"
     ]
    },
    {
     "name": "stderr",
     "output_type": "stream",
     "text": [
      "N foreground 15838, N  background 0,unable to generate class balanced samples.\n",
      "N foreground 15909, N  background 0,unable to generate class balanced samples.\n",
      "N foreground 16115, N  background 0,unable to generate class balanced samples.\n",
      "N foreground 13809, N  background 0,unable to generate class balanced samples.\n",
      "N foreground 12122, N  background 0,unable to generate class balanced samples.\n",
      "N foreground 22593, N  background 0,unable to generate class balanced samples.\n",
      "N foreground 13958, N  background 0,unable to generate class balanced samples.\n",
      "N foreground 16388, N  background 0,unable to generate class balanced samples.\n",
      "N foreground 10533, N  background 0,unable to generate class balanced samples.\n",
      "N foreground 14230, N  background 0,unable to generate class balanced samples.\n",
      "N foreground 16450, N  background 0,unable to generate class balanced samples.\n",
      "N foreground 14262, N  background 0,unable to generate class balanced samples.\n",
      "N foreground 16682, N  background 0,unable to generate class balanced samples.\n",
      "N foreground 17716, N  background 0,unable to generate class balanced samples.\n",
      "N foreground 14317, N  background 0,unable to generate class balanced samples.\n",
      "N foreground 17097, N  background 0,unable to generate class balanced samples.\n",
      "N foreground 8935, N  background 0,unable to generate class balanced samples.\n",
      "N foreground 13064, N  background 0,unable to generate class balanced samples.\n",
      "N foreground 15619, N  background 0,unable to generate class balanced samples.\n",
      "N foreground 19210, N  background 0,unable to generate class balanced samples.\n",
      "N foreground 15184, N  background 0,unable to generate class balanced samples.\n",
      "N foreground 13138, N  background 0,unable to generate class balanced samples.\n",
      "N foreground 16438, N  background 0,unable to generate class balanced samples.\n",
      "N foreground 10992, N  background 0,unable to generate class balanced samples.\n",
      "N foreground 10474, N  background 0,unable to generate class balanced samples.\n",
      "N foreground 14809, N  background 0,unable to generate class balanced samples.\n"
     ]
    },
    {
     "name": "stdout",
     "output_type": "stream",
     "text": [
      "1/13, train_loss: 0.1615\n",
      "2/13, train_loss: 0.1663\n",
      "3/13, train_loss: 0.1595\n",
      "4/13, train_loss: 0.1772\n",
      "5/13, train_loss: 0.1807\n",
      "6/13, train_loss: 0.1583\n",
      "7/13, train_loss: 0.1614\n",
      "8/13, train_loss: 0.1692\n",
      "9/13, train_loss: 0.1633\n",
      "10/13, train_loss: 0.1650\n",
      "11/13, train_loss: 0.1804\n",
      "12/13, train_loss: 0.1761\n",
      "13/13, train_loss: 0.1849\n",
      "epoch 104 average loss: 0.1695\n"
     ]
    },
    {
     "name": "stderr",
     "output_type": "stream",
     "text": [
      "N foreground 14149, N  background 0,unable to generate class balanced samples.\n",
      "N foreground 18264, N  background 0,unable to generate class balanced samples.\n",
      "N foreground 10539, N  background 0,unable to generate class balanced samples.\n",
      "N foreground 13981, N  background 0,unable to generate class balanced samples.\n",
      "N foreground 16021, N  background 0,unable to generate class balanced samples.\n",
      "N foreground 14351, N  background 0,unable to generate class balanced samples.\n",
      "N foreground 13080, N  background 0,unable to generate class balanced samples.\n",
      "N foreground 14458, N  background 0,unable to generate class balanced samples.\n",
      "N foreground 14199, N  background 0,unable to generate class balanced samples.\n"
     ]
    },
    {
     "name": "stdout",
     "output_type": "stream",
     "text": [
      "current epoch: 104 current mean dice: 0.8462\n",
      "best mean dice: 0.8465at epoch: 98\n",
      "----------\n",
      "epoch 105/150\n"
     ]
    },
    {
     "name": "stderr",
     "output_type": "stream",
     "text": [
      "N foreground 16450, N  background 0,unable to generate class balanced samples.\n",
      "N foreground 14230, N  background 0,unable to generate class balanced samples.\n",
      "N foreground 14262, N  background 0,unable to generate class balanced samples.\n",
      "N foreground 15619, N  background 0,unable to generate class balanced samples.\n",
      "N foreground 13138, N  background 0,unable to generate class balanced samples.\n",
      "N foreground 16682, N  background 0,unable to generate class balanced samples.\n",
      "N foreground 13064, N  background 0,unable to generate class balanced samples.\n",
      "N foreground 16115, N  background 0,unable to generate class balanced samples.\n",
      "N foreground 16438, N  background 0,unable to generate class balanced samples.\n",
      "N foreground 13809, N  background 0,unable to generate class balanced samples.\n",
      "N foreground 17097, N  background 0,unable to generate class balanced samples.\n",
      "N foreground 15184, N  background 0,unable to generate class balanced samples.\n",
      "N foreground 10533, N  background 0,unable to generate class balanced samples.\n",
      "N foreground 15909, N  background 0,unable to generate class balanced samples.\n",
      "N foreground 10474, N  background 0,unable to generate class balanced samples.\n",
      "N foreground 16388, N  background 0,unable to generate class balanced samples.\n",
      "N foreground 17716, N  background 0,unable to generate class balanced samples.\n",
      "N foreground 14809, N  background 0,unable to generate class balanced samples.\n",
      "N foreground 8935, N  background 0,unable to generate class balanced samples.\n",
      "N foreground 15838, N  background 0,unable to generate class balanced samples.\n",
      "N foreground 14317, N  background 0,unable to generate class balanced samples.\n",
      "N foreground 22593, N  background 0,unable to generate class balanced samples.\n",
      "N foreground 10992, N  background 0,unable to generate class balanced samples.\n",
      "N foreground 12122, N  background 0,unable to generate class balanced samples.\n",
      "N foreground 13958, N  background 0,unable to generate class balanced samples.\n",
      "N foreground 19210, N  background 0,unable to generate class balanced samples.\n"
     ]
    },
    {
     "name": "stdout",
     "output_type": "stream",
     "text": [
      "1/13, train_loss: 0.1656\n",
      "2/13, train_loss: 0.1512\n",
      "3/13, train_loss: 0.1491\n",
      "4/13, train_loss: 0.1590\n",
      "5/13, train_loss: 0.1794\n",
      "6/13, train_loss: 0.1657\n",
      "7/13, train_loss: 0.1798\n",
      "8/13, train_loss: 0.1758\n",
      "9/13, train_loss: 0.1679\n",
      "10/13, train_loss: 0.1461\n",
      "11/13, train_loss: 0.1915\n",
      "12/13, train_loss: 0.1711\n",
      "13/13, train_loss: 0.1812\n",
      "epoch 105 average loss: 0.1679\n"
     ]
    },
    {
     "name": "stderr",
     "output_type": "stream",
     "text": [
      "N foreground 16021, N  background 0,unable to generate class balanced samples.\n",
      "N foreground 10539, N  background 0,unable to generate class balanced samples.\n",
      "N foreground 14149, N  background 0,unable to generate class balanced samples.\n",
      "N foreground 18264, N  background 0,unable to generate class balanced samples.\n",
      "N foreground 13981, N  background 0,unable to generate class balanced samples.\n",
      "N foreground 13080, N  background 0,unable to generate class balanced samples.\n",
      "N foreground 14351, N  background 0,unable to generate class balanced samples.\n",
      "N foreground 14458, N  background 0,unable to generate class balanced samples.\n",
      "N foreground 14199, N  background 0,unable to generate class balanced samples.\n"
     ]
    },
    {
     "name": "stdout",
     "output_type": "stream",
     "text": [
      "current epoch: 105 current mean dice: 0.8446\n",
      "best mean dice: 0.8465at epoch: 98\n",
      "----------\n",
      "epoch 106/150\n"
     ]
    },
    {
     "name": "stderr",
     "output_type": "stream",
     "text": [
      "N foreground 8935, N  background 0,unable to generate class balanced samples.\n",
      "N foreground 14262, N  background 0,unable to generate class balanced samples.\n",
      "N foreground 15909, N  background 0,unable to generate class balanced samples.\n",
      "N foreground 17097, N  background 0,unable to generate class balanced samples.\n",
      "N foreground 22593, N  background 0,unable to generate class balanced samples.\n",
      "N foreground 16682, N  background 0,unable to generate class balanced samples.\n",
      "N foreground 10992, N  background 0,unable to generate class balanced samples.\n",
      "N foreground 10533, N  background 0,unable to generate class balanced samples.\n",
      "N foreground 13064, N  background 0,unable to generate class balanced samples.\n",
      "N foreground 14809, N  background 0,unable to generate class balanced samples.\n",
      "N foreground 16438, N  background 0,unable to generate class balanced samples.\n",
      "N foreground 14317, N  background 0,unable to generate class balanced samples.\n",
      "N foreground 17716, N  background 0,unable to generate class balanced samples.\n",
      "N foreground 13809, N  background 0,unable to generate class balanced samples.\n",
      "N foreground 14230, N  background 0,unable to generate class balanced samples.\n",
      "N foreground 16388, N  background 0,unable to generate class balanced samples.\n",
      "N foreground 13958, N  background 0,unable to generate class balanced samples.\n",
      "N foreground 15838, N  background 0,unable to generate class balanced samples.\n",
      "N foreground 10474, N  background 0,unable to generate class balanced samples.\n",
      "N foreground 15619, N  background 0,unable to generate class balanced samples.\n",
      "N foreground 16115, N  background 0,unable to generate class balanced samples.\n",
      "N foreground 12122, N  background 0,unable to generate class balanced samples.\n",
      "N foreground 19210, N  background 0,unable to generate class balanced samples.\n",
      "N foreground 13138, N  background 0,unable to generate class balanced samples.\n",
      "N foreground 16450, N  background 0,unable to generate class balanced samples.\n",
      "N foreground 15184, N  background 0,unable to generate class balanced samples.\n"
     ]
    },
    {
     "name": "stdout",
     "output_type": "stream",
     "text": [
      "1/13, train_loss: 0.1514\n",
      "2/13, train_loss: 0.1615\n",
      "3/13, train_loss: 0.1731\n",
      "4/13, train_loss: 0.1704\n",
      "5/13, train_loss: 0.1660\n",
      "6/13, train_loss: 0.1608\n",
      "7/13, train_loss: 0.1615\n",
      "8/13, train_loss: 0.1686\n",
      "9/13, train_loss: 0.1760\n",
      "10/13, train_loss: 0.1736\n",
      "11/13, train_loss: 0.1678\n",
      "12/13, train_loss: 0.1713\n",
      "13/13, train_loss: 0.1668\n",
      "epoch 106 average loss: 0.1668\n"
     ]
    },
    {
     "name": "stderr",
     "output_type": "stream",
     "text": [
      "N foreground 13080, N  background 0,unable to generate class balanced samples.\n",
      "N foreground 14351, N  background 0,unable to generate class balanced samples.\n",
      "N foreground 14149, N  background 0,unable to generate class balanced samples.\n",
      "N foreground 16021, N  background 0,unable to generate class balanced samples.\n",
      "N foreground 18264, N  background 0,unable to generate class balanced samples.\n",
      "N foreground 10539, N  background 0,unable to generate class balanced samples.\n",
      "N foreground 13981, N  background 0,unable to generate class balanced samples.\n",
      "N foreground 14458, N  background 0,unable to generate class balanced samples.\n",
      "N foreground 14199, N  background 0,unable to generate class balanced samples.\n"
     ]
    },
    {
     "name": "stdout",
     "output_type": "stream",
     "text": [
      "current epoch: 106 current mean dice: 0.8453\n",
      "best mean dice: 0.8465at epoch: 98\n",
      "----------\n",
      "epoch 107/150\n"
     ]
    },
    {
     "name": "stderr",
     "output_type": "stream",
     "text": [
      "N foreground 15838, N  background 0,unable to generate class balanced samples.\n",
      "N foreground 14809, N  background 0,unable to generate class balanced samples.\n",
      "N foreground 17716, N  background 0,unable to generate class balanced samples.\n",
      "N foreground 13138, N  background 0,unable to generate class balanced samples.\n",
      "N foreground 14317, N  background 0,unable to generate class balanced samples.\n",
      "N foreground 19210, N  background 0,unable to generate class balanced samples.\n",
      "N foreground 14230, N  background 0,unable to generate class balanced samples.\n",
      "N foreground 15909, N  background 0,unable to generate class balanced samples.\n",
      "N foreground 10474, N  background 0,unable to generate class balanced samples.\n",
      "N foreground 16682, N  background 0,unable to generate class balanced samples.\n",
      "N foreground 10992, N  background 0,unable to generate class balanced samples.\n",
      "N foreground 16450, N  background 0,unable to generate class balanced samples.\n",
      "N foreground 8935, N  background 0,unable to generate class balanced samples.\n",
      "N foreground 12122, N  background 0,unable to generate class balanced samples.\n",
      "N foreground 10533, N  background 0,unable to generate class balanced samples.\n",
      "N foreground 16388, N  background 0,unable to generate class balanced samples.\n",
      "N foreground 13064, N  background 0,unable to generate class balanced samples.\n",
      "N foreground 13958, N  background 0,unable to generate class balanced samples.\n",
      "N foreground 22593, N  background 0,unable to generate class balanced samples.\n",
      "N foreground 16115, N  background 0,unable to generate class balanced samples.\n",
      "N foreground 14262, N  background 0,unable to generate class balanced samples.\n",
      "N foreground 17097, N  background 0,unable to generate class balanced samples.\n",
      "N foreground 16438, N  background 0,unable to generate class balanced samples.\n",
      "N foreground 15619, N  background 0,unable to generate class balanced samples.\n",
      "N foreground 13809, N  background 0,unable to generate class balanced samples.\n",
      "N foreground 15184, N  background 0,unable to generate class balanced samples.\n"
     ]
    },
    {
     "name": "stdout",
     "output_type": "stream",
     "text": [
      "1/13, train_loss: 0.1502\n",
      "2/13, train_loss: 0.1744\n",
      "3/13, train_loss: 0.1794\n",
      "4/13, train_loss: 0.1605\n",
      "5/13, train_loss: 0.1852\n",
      "6/13, train_loss: 0.1764\n",
      "7/13, train_loss: 0.1752\n",
      "8/13, train_loss: 0.1799\n",
      "9/13, train_loss: 0.1671\n",
      "10/13, train_loss: 0.1532\n",
      "11/13, train_loss: 0.1638\n",
      "12/13, train_loss: 0.1665\n",
      "13/13, train_loss: 0.1669\n",
      "epoch 107 average loss: 0.1691\n"
     ]
    },
    {
     "name": "stderr",
     "output_type": "stream",
     "text": [
      "N foreground 18264, N  background 0,unable to generate class balanced samples.\n",
      "N foreground 10539, N  background 0,unable to generate class balanced samples.\n",
      "N foreground 13080, N  background 0,unable to generate class balanced samples.\n",
      "N foreground 14149, N  background 0,unable to generate class balanced samples.\n",
      "N foreground 14351, N  background 0,unable to generate class balanced samples.\n",
      "N foreground 16021, N  background 0,unable to generate class balanced samples.\n",
      "N foreground 13981, N  background 0,unable to generate class balanced samples.\n",
      "N foreground 14458, N  background 0,unable to generate class balanced samples.\n",
      "N foreground 14199, N  background 0,unable to generate class balanced samples.\n"
     ]
    },
    {
     "name": "stdout",
     "output_type": "stream",
     "text": [
      "current epoch: 107 current mean dice: 0.8453\n",
      "best mean dice: 0.8465at epoch: 98\n",
      "----------\n",
      "epoch 108/150\n"
     ]
    },
    {
     "name": "stderr",
     "output_type": "stream",
     "text": [
      "N foreground 22593, N  background 0,unable to generate class balanced samples.\n",
      "N foreground 16388, N  background 0,unable to generate class balanced samples.\n",
      "N foreground 13809, N  background 0,unable to generate class balanced samples.\n",
      "N foreground 14230, N  background 0,unable to generate class balanced samples.\n",
      "N foreground 16450, N  background 0,unable to generate class balanced samples.\n",
      "N foreground 14317, N  background 0,unable to generate class balanced samples.\n",
      "N foreground 13958, N  background 0,unable to generate class balanced samples.\n",
      "N foreground 15909, N  background 0,unable to generate class balanced samples.\n",
      "N foreground 19210, N  background 0,unable to generate class balanced samples.\n",
      "N foreground 15184, N  background 0,unable to generate class balanced samples.\n",
      "N foreground 12122, N  background 0,unable to generate class balanced samples.\n",
      "N foreground 17097, N  background 0,unable to generate class balanced samples.\n",
      "N foreground 13064, N  background 0,unable to generate class balanced samples.\n",
      "N foreground 10474, N  background 0,unable to generate class balanced samples.\n",
      "N foreground 10533, N  background 0,unable to generate class balanced samples.\n",
      "N foreground 15838, N  background 0,unable to generate class balanced samples.\n",
      "N foreground 13138, N  background 0,unable to generate class balanced samples.\n",
      "N foreground 15619, N  background 0,unable to generate class balanced samples.\n",
      "N foreground 14262, N  background 0,unable to generate class balanced samples.\n",
      "N foreground 14809, N  background 0,unable to generate class balanced samples.\n",
      "N foreground 16682, N  background 0,unable to generate class balanced samples.\n",
      "N foreground 16115, N  background 0,unable to generate class balanced samples.\n",
      "N foreground 10992, N  background 0,unable to generate class balanced samples.\n",
      "N foreground 17716, N  background 0,unable to generate class balanced samples.\n",
      "N foreground 8935, N  background 0,unable to generate class balanced samples.\n",
      "N foreground 16438, N  background 0,unable to generate class balanced samples.\n"
     ]
    },
    {
     "name": "stdout",
     "output_type": "stream",
     "text": [
      "1/13, train_loss: 0.1620\n",
      "2/13, train_loss: 0.1758\n",
      "3/13, train_loss: 0.1782\n",
      "4/13, train_loss: 0.1655\n",
      "5/13, train_loss: 0.1624\n",
      "6/13, train_loss: 0.1690\n",
      "7/13, train_loss: 0.1735\n",
      "8/13, train_loss: 0.1671\n",
      "9/13, train_loss: 0.1655\n",
      "10/13, train_loss: 0.1712\n",
      "11/13, train_loss: 0.1654\n",
      "12/13, train_loss: 0.1736\n",
      "13/13, train_loss: 0.1429\n",
      "epoch 108 average loss: 0.1671\n"
     ]
    },
    {
     "name": "stderr",
     "output_type": "stream",
     "text": [
      "N foreground 14351, N  background 0,unable to generate class balanced samples.\n",
      "N foreground 16021, N  background 0,unable to generate class balanced samples.\n",
      "N foreground 14458, N  background 0,unable to generate class balanced samples.\n",
      "N foreground 13080, N  background 0,unable to generate class balanced samples.\n",
      "N foreground 13981, N  background 0,unable to generate class balanced samples.\n",
      "N foreground 10539, N  background 0,unable to generate class balanced samples.\n",
      "N foreground 18264, N  background 0,unable to generate class balanced samples.\n",
      "N foreground 14149, N  background 0,unable to generate class balanced samples.\n",
      "N foreground 14199, N  background 0,unable to generate class balanced samples.\n"
     ]
    },
    {
     "name": "stdout",
     "output_type": "stream",
     "text": [
      "current epoch: 108 current mean dice: 0.8441\n",
      "best mean dice: 0.8465at epoch: 98\n",
      "----------\n",
      "epoch 109/150\n"
     ]
    },
    {
     "name": "stderr",
     "output_type": "stream",
     "text": [
      "N foreground 19210, N  background 0,unable to generate class balanced samples.\n",
      "N foreground 13064, N  background 0,unable to generate class balanced samples.\n",
      "N foreground 14262, N  background 0,unable to generate class balanced samples.\n",
      "N foreground 22593, N  background 0,unable to generate class balanced samples.\n",
      "N foreground 15184, N  background 0,unable to generate class balanced samples.\n",
      "N foreground 13958, N  background 0,unable to generate class balanced samples.\n",
      "N foreground 10533, N  background 0,unable to generate class balanced samples.\n",
      "N foreground 8935, N  background 0,unable to generate class balanced samples.\n",
      "N foreground 13138, N  background 0,unable to generate class balanced samples.\n",
      "N foreground 17097, N  background 0,unable to generate class balanced samples.\n",
      "N foreground 15909, N  background 0,unable to generate class balanced samples.\n",
      "N foreground 12122, N  background 0,unable to generate class balanced samples.\n",
      "N foreground 14317, N  background 0,unable to generate class balanced samples.\n",
      "N foreground 14809, N  background 0,unable to generate class balanced samples.\n",
      "N foreground 10474, N  background 0,unable to generate class balanced samples.\n",
      "N foreground 16450, N  background 0,unable to generate class balanced samples.\n",
      "N foreground 13809, N  background 0,unable to generate class balanced samples.\n",
      "N foreground 14230, N  background 0,unable to generate class balanced samples.\n",
      "N foreground 16438, N  background 0,unable to generate class balanced samples.\n",
      "N foreground 16388, N  background 0,unable to generate class balanced samples.\n",
      "N foreground 15619, N  background 0,unable to generate class balanced samples.\n",
      "N foreground 16682, N  background 0,unable to generate class balanced samples.\n",
      "N foreground 16115, N  background 0,unable to generate class balanced samples.\n",
      "N foreground 10992, N  background 0,unable to generate class balanced samples.\n",
      "N foreground 17716, N  background 0,unable to generate class balanced samples.\n",
      "N foreground 15838, N  background 0,unable to generate class balanced samples.\n"
     ]
    },
    {
     "name": "stdout",
     "output_type": "stream",
     "text": [
      "1/13, train_loss: 0.1686\n",
      "2/13, train_loss: 0.1617\n",
      "3/13, train_loss: 0.1559\n",
      "4/13, train_loss: 0.1719\n",
      "5/13, train_loss: 0.1681\n",
      "6/13, train_loss: 0.1580\n",
      "7/13, train_loss: 0.1794\n",
      "8/13, train_loss: 0.1704\n",
      "9/13, train_loss: 0.1697\n",
      "10/13, train_loss: 0.1676\n",
      "11/13, train_loss: 0.1573\n",
      "12/13, train_loss: 0.1532\n",
      "13/13, train_loss: 0.1575\n",
      "epoch 109 average loss: 0.1646\n"
     ]
    },
    {
     "name": "stderr",
     "output_type": "stream",
     "text": [
      "N foreground 14351, N  background 0,unable to generate class balanced samples.\n",
      "N foreground 16021, N  background 0,unable to generate class balanced samples.\n",
      "N foreground 13981, N  background 0,unable to generate class balanced samples.\n",
      "N foreground 14149, N  background 0,unable to generate class balanced samples.\n",
      "N foreground 18264, N  background 0,unable to generate class balanced samples.\n",
      "N foreground 10539, N  background 0,unable to generate class balanced samples.\n",
      "N foreground 13080, N  background 0,unable to generate class balanced samples.\n",
      "N foreground 14458, N  background 0,unable to generate class balanced samples.\n",
      "N foreground 14199, N  background 0,unable to generate class balanced samples.\n"
     ]
    },
    {
     "name": "stdout",
     "output_type": "stream",
     "text": [
      "current epoch: 109 current mean dice: 0.8429\n",
      "best mean dice: 0.8465at epoch: 98\n",
      "----------\n",
      "epoch 110/150\n"
     ]
    },
    {
     "name": "stderr",
     "output_type": "stream",
     "text": [
      "N foreground 15909, N  background 0,unable to generate class balanced samples.\n",
      "N foreground 16450, N  background 0,unable to generate class balanced samples.\n",
      "N foreground 14230, N  background 0,unable to generate class balanced samples.\n",
      "N foreground 13958, N  background 0,unable to generate class balanced samples.\n",
      "N foreground 17097, N  background 0,unable to generate class balanced samples.\n",
      "N foreground 16388, N  background 0,unable to generate class balanced samples.\n",
      "N foreground 14809, N  background 0,unable to generate class balanced samples.\n",
      "N foreground 16682, N  background 0,unable to generate class balanced samples.\n",
      "N foreground 17716, N  background 0,unable to generate class balanced samples.\n",
      "N foreground 16115, N  background 0,unable to generate class balanced samples.\n",
      "N foreground 15184, N  background 0,unable to generate class balanced samples.\n",
      "N foreground 16438, N  background 0,unable to generate class balanced samples.\n",
      "N foreground 22593, N  background 0,unable to generate class balanced samples.\n",
      "N foreground 13064, N  background 0,unable to generate class balanced samples.\n",
      "N foreground 10533, N  background 0,unable to generate class balanced samples.\n",
      "N foreground 10474, N  background 0,unable to generate class balanced samples.\n",
      "N foreground 19210, N  background 0,unable to generate class balanced samples.\n",
      "N foreground 14262, N  background 0,unable to generate class balanced samples.\n",
      "N foreground 15838, N  background 0,unable to generate class balanced samples.\n",
      "N foreground 14317, N  background 0,unable to generate class balanced samples.\n",
      "N foreground 8935, N  background 0,unable to generate class balanced samples.\n",
      "N foreground 13138, N  background 0,unable to generate class balanced samples.\n",
      "N foreground 10992, N  background 0,unable to generate class balanced samples.\n",
      "N foreground 12122, N  background 0,unable to generate class balanced samples.\n",
      "N foreground 15619, N  background 0,unable to generate class balanced samples.\n",
      "N foreground 13809, N  background 0,unable to generate class balanced samples.\n"
     ]
    },
    {
     "name": "stdout",
     "output_type": "stream",
     "text": [
      "1/13, train_loss: 0.1509\n",
      "2/13, train_loss: 0.1715\n",
      "3/13, train_loss: 0.1781\n",
      "4/13, train_loss: 0.1566\n",
      "5/13, train_loss: 0.1713\n",
      "6/13, train_loss: 0.1624\n",
      "7/13, train_loss: 0.1746\n",
      "8/13, train_loss: 0.1819\n",
      "9/13, train_loss: 0.1681\n",
      "10/13, train_loss: 0.1697\n",
      "11/13, train_loss: 0.1783\n",
      "12/13, train_loss: 0.1516\n",
      "13/13, train_loss: 0.1706\n",
      "epoch 110 average loss: 0.1681\n"
     ]
    },
    {
     "name": "stderr",
     "output_type": "stream",
     "text": [
      "N foreground 13981, N  background 0,unable to generate class balanced samples.\n",
      "N foreground 13080, N  background 0,unable to generate class balanced samples.\n",
      "N foreground 18264, N  background 0,unable to generate class balanced samples.\n",
      "N foreground 10539, N  background 0,unable to generate class balanced samples.\n",
      "N foreground 16021, N  background 0,unable to generate class balanced samples.\n",
      "N foreground 14351, N  background 0,unable to generate class balanced samples.\n",
      "N foreground 14149, N  background 0,unable to generate class balanced samples.\n",
      "N foreground 14458, N  background 0,unable to generate class balanced samples.\n",
      "N foreground 14199, N  background 0,unable to generate class balanced samples.\n"
     ]
    },
    {
     "name": "stdout",
     "output_type": "stream",
     "text": [
      "saved new best metric model\n",
      "current epoch: 110 current mean dice: 0.8465\n",
      "best mean dice: 0.8465at epoch: 110\n",
      "----------\n",
      "epoch 111/150\n"
     ]
    },
    {
     "name": "stderr",
     "output_type": "stream",
     "text": [
      "N foreground 15838, N  background 0,unable to generate class balanced samples.\n",
      "N foreground 16115, N  background 0,unable to generate class balanced samples.\n",
      "N foreground 16682, N  background 0,unable to generate class balanced samples.\n",
      "N foreground 14809, N  background 0,unable to generate class balanced samples.\n",
      "N foreground 13958, N  background 0,unable to generate class balanced samples.\n",
      "N foreground 17097, N  background 0,unable to generate class balanced samples.\n",
      "N foreground 22593, N  background 0,unable to generate class balanced samples.\n",
      "N foreground 13809, N  background 0,unable to generate class balanced samples.\n",
      "N foreground 10474, N  background 0,unable to generate class balanced samples.\n",
      "N foreground 17716, N  background 0,unable to generate class balanced samples.\n",
      "N foreground 19210, N  background 0,unable to generate class balanced samples.\n",
      "N foreground 16388, N  background 0,unable to generate class balanced samples.\n",
      "N foreground 15184, N  background 0,unable to generate class balanced samples.\n",
      "N foreground 15619, N  background 0,unable to generate class balanced samples.\n",
      "N foreground 13064, N  background 0,unable to generate class balanced samples.\n",
      "N foreground 13138, N  background 0,unable to generate class balanced samples.\n",
      "N foreground 16438, N  background 0,unable to generate class balanced samples.\n",
      "N foreground 14262, N  background 0,unable to generate class balanced samples.\n",
      "N foreground 15909, N  background 0,unable to generate class balanced samples.\n",
      "N foreground 12122, N  background 0,unable to generate class balanced samples.\n",
      "N foreground 10533, N  background 0,unable to generate class balanced samples.\n",
      "N foreground 10992, N  background 0,unable to generate class balanced samples.\n",
      "N foreground 16450, N  background 0,unable to generate class balanced samples.\n",
      "N foreground 14230, N  background 0,unable to generate class balanced samples.\n",
      "N foreground 14317, N  background 0,unable to generate class balanced samples.\n",
      "N foreground 8935, N  background 0,unable to generate class balanced samples.\n"
     ]
    },
    {
     "name": "stdout",
     "output_type": "stream",
     "text": [
      "1/13, train_loss: 0.1680\n",
      "2/13, train_loss: 0.1700\n",
      "3/13, train_loss: 0.1830\n",
      "4/13, train_loss: 0.1826\n",
      "5/13, train_loss: 0.1485\n",
      "6/13, train_loss: 0.1716\n",
      "7/13, train_loss: 0.1646\n",
      "8/13, train_loss: 0.1564\n",
      "9/13, train_loss: 0.1745\n",
      "10/13, train_loss: 0.1770\n",
      "11/13, train_loss: 0.1476\n",
      "12/13, train_loss: 0.1893\n",
      "13/13, train_loss: 0.1549\n",
      "epoch 111 average loss: 0.1683\n"
     ]
    },
    {
     "name": "stderr",
     "output_type": "stream",
     "text": [
      "N foreground 14149, N  background 0,unable to generate class balanced samples.\n",
      "N foreground 13981, N  background 0,unable to generate class balanced samples.\n",
      "N foreground 10539, N  background 0,unable to generate class balanced samples.\n",
      "N foreground 16021, N  background 0,unable to generate class balanced samples.\n",
      "N foreground 18264, N  background 0,unable to generate class balanced samples.\n",
      "N foreground 14351, N  background 0,unable to generate class balanced samples.\n",
      "N foreground 13080, N  background 0,unable to generate class balanced samples.\n",
      "N foreground 14458, N  background 0,unable to generate class balanced samples.\n",
      "N foreground 14199, N  background 0,unable to generate class balanced samples.\n"
     ]
    },
    {
     "name": "stdout",
     "output_type": "stream",
     "text": [
      "saved new best metric model\n",
      "current epoch: 111 current mean dice: 0.8479\n",
      "best mean dice: 0.8479at epoch: 111\n",
      "----------\n",
      "epoch 112/150\n"
     ]
    },
    {
     "name": "stderr",
     "output_type": "stream",
     "text": [
      "N foreground 14262, N  background 0,unable to generate class balanced samples.\n",
      "N foreground 10474, N  background 0,unable to generate class balanced samples.\n",
      "N foreground 13138, N  background 0,unable to generate class balanced samples.\n",
      "N foreground 16682, N  background 0,unable to generate class balanced samples.\n",
      "N foreground 16388, N  background 0,unable to generate class balanced samples.\n",
      "N foreground 15838, N  background 0,unable to generate class balanced samples.\n",
      "N foreground 8935, N  background 0,unable to generate class balanced samples.\n",
      "N foreground 16115, N  background 0,unable to generate class balanced samples.\n",
      "N foreground 16438, N  background 0,unable to generate class balanced samples.\n",
      "N foreground 10533, N  background 0,unable to generate class balanced samples.\n",
      "N foreground 15909, N  background 0,unable to generate class balanced samples.\n",
      "N foreground 22593, N  background 0,unable to generate class balanced samples.\n",
      "N foreground 15619, N  background 0,unable to generate class balanced samples.\n",
      "N foreground 15184, N  background 0,unable to generate class balanced samples.\n",
      "N foreground 19210, N  background 0,unable to generate class balanced samples.\n",
      "N foreground 17716, N  background 0,unable to generate class balanced samples.\n",
      "N foreground 13809, N  background 0,unable to generate class balanced samples.\n",
      "N foreground 14809, N  background 0,unable to generate class balanced samples.\n",
      "N foreground 17097, N  background 0,unable to generate class balanced samples.\n",
      "N foreground 13064, N  background 0,unable to generate class balanced samples.\n",
      "N foreground 12122, N  background 0,unable to generate class balanced samples.\n",
      "N foreground 13958, N  background 0,unable to generate class balanced samples.\n",
      "N foreground 14317, N  background 0,unable to generate class balanced samples.\n",
      "N foreground 10992, N  background 0,unable to generate class balanced samples.\n",
      "N foreground 14230, N  background 0,unable to generate class balanced samples.\n",
      "N foreground 16450, N  background 0,unable to generate class balanced samples.\n"
     ]
    },
    {
     "name": "stdout",
     "output_type": "stream",
     "text": [
      "1/13, train_loss: 0.1510\n",
      "2/13, train_loss: 0.1667\n",
      "3/13, train_loss: 0.1763\n",
      "4/13, train_loss: 0.1738\n",
      "5/13, train_loss: 0.1555\n",
      "6/13, train_loss: 0.1695\n",
      "7/13, train_loss: 0.1818\n",
      "8/13, train_loss: 0.1587\n",
      "9/13, train_loss: 0.1691\n",
      "10/13, train_loss: 0.1807\n",
      "11/13, train_loss: 0.1597\n",
      "12/13, train_loss: 0.1630\n",
      "13/13, train_loss: 0.1599\n",
      "epoch 112 average loss: 0.1666\n"
     ]
    },
    {
     "name": "stderr",
     "output_type": "stream",
     "text": [
      "N foreground 13981, N  background 0,unable to generate class balanced samples.\n",
      "N foreground 18264, N  background 0,unable to generate class balanced samples.\n",
      "N foreground 14149, N  background 0,unable to generate class balanced samples.\n",
      "N foreground 16021, N  background 0,unable to generate class balanced samples.\n",
      "N foreground 10539, N  background 0,unable to generate class balanced samples.\n",
      "N foreground 14351, N  background 0,unable to generate class balanced samples.\n",
      "N foreground 13080, N  background 0,unable to generate class balanced samples.\n",
      "N foreground 14458, N  background 0,unable to generate class balanced samples.\n",
      "N foreground 14199, N  background 0,unable to generate class balanced samples.\n"
     ]
    },
    {
     "name": "stdout",
     "output_type": "stream",
     "text": [
      "current epoch: 112 current mean dice: 0.8475\n",
      "best mean dice: 0.8479at epoch: 111\n",
      "----------\n",
      "epoch 113/150\n"
     ]
    },
    {
     "name": "stderr",
     "output_type": "stream",
     "text": [
      "N foreground 17716, N  background 0,unable to generate class balanced samples.\n",
      "N foreground 16115, N  background 0,unable to generate class balanced samples.\n",
      "N foreground 10992, N  background 0,unable to generate class balanced samples.\n",
      "N foreground 22593, N  background 0,unable to generate class balanced samples.\n",
      "N foreground 16450, N  background 0,unable to generate class balanced samples.\n",
      "N foreground 12122, N  background 0,unable to generate class balanced samples.\n",
      "N foreground 14809, N  background 0,unable to generate class balanced samples.\n",
      "N foreground 13138, N  background 0,unable to generate class balanced samples.\n",
      "N foreground 19210, N  background 0,unable to generate class balanced samples.\n",
      "N foreground 10533, N  background 0,unable to generate class balanced samples.\n",
      "N foreground 14230, N  background 0,unable to generate class balanced samples.\n",
      "N foreground 15184, N  background 0,unable to generate class balanced samples.\n",
      "N foreground 15838, N  background 0,unable to generate class balanced samples.\n",
      "N foreground 13064, N  background 0,unable to generate class balanced samples.\n",
      "N foreground 16438, N  background 0,unable to generate class balanced samples.\n",
      "N foreground 15619, N  background 0,unable to generate class balanced samples.\n",
      "N foreground 16682, N  background 0,unable to generate class balanced samples.\n",
      "N foreground 10474, N  background 0,unable to generate class balanced samples.\n",
      "N foreground 8935, N  background 0,unable to generate class balanced samples.\n",
      "N foreground 15909, N  background 0,unable to generate class balanced samples.\n",
      "N foreground 13958, N  background 0,unable to generate class balanced samples.\n",
      "N foreground 13809, N  background 0,unable to generate class balanced samples.\n",
      "N foreground 14317, N  background 0,unable to generate class balanced samples.\n",
      "N foreground 14262, N  background 0,unable to generate class balanced samples.\n",
      "N foreground 16388, N  background 0,unable to generate class balanced samples.\n",
      "N foreground 17097, N  background 0,unable to generate class balanced samples.\n"
     ]
    },
    {
     "name": "stdout",
     "output_type": "stream",
     "text": [
      "1/13, train_loss: 0.1655\n",
      "2/13, train_loss: 0.1626\n",
      "3/13, train_loss: 0.1617\n",
      "4/13, train_loss: 0.1535\n",
      "5/13, train_loss: 0.1753\n",
      "6/13, train_loss: 0.1682\n",
      "7/13, train_loss: 0.1562\n",
      "8/13, train_loss: 0.1660\n",
      "9/13, train_loss: 0.1570\n",
      "10/13, train_loss: 0.1718\n",
      "11/13, train_loss: 0.1681\n",
      "12/13, train_loss: 0.1564\n",
      "13/13, train_loss: 0.1881\n",
      "epoch 113 average loss: 0.1654\n"
     ]
    },
    {
     "name": "stderr",
     "output_type": "stream",
     "text": [
      "N foreground 13080, N  background 0,unable to generate class balanced samples.\n",
      "N foreground 10539, N  background 0,unable to generate class balanced samples.\n",
      "N foreground 14351, N  background 0,unable to generate class balanced samples.\n",
      "N foreground 16021, N  background 0,unable to generate class balanced samples.\n",
      "N foreground 18264, N  background 0,unable to generate class balanced samples.\n",
      "N foreground 14149, N  background 0,unable to generate class balanced samples.\n",
      "N foreground 13981, N  background 0,unable to generate class balanced samples.\n",
      "N foreground 14458, N  background 0,unable to generate class balanced samples.\n",
      "N foreground 14199, N  background 0,unable to generate class balanced samples.\n"
     ]
    },
    {
     "name": "stdout",
     "output_type": "stream",
     "text": [
      "current epoch: 113 current mean dice: 0.8477\n",
      "best mean dice: 0.8479at epoch: 111\n",
      "----------\n",
      "epoch 114/150\n"
     ]
    },
    {
     "name": "stderr",
     "output_type": "stream",
     "text": [
      "N foreground 14230, N  background 0,unable to generate class balanced samples.\n",
      "N foreground 16682, N  background 0,unable to generate class balanced samples.\n",
      "N foreground 10474, N  background 0,unable to generate class balanced samples.\n",
      "N foreground 12122, N  background 0,unable to generate class balanced samples.\n",
      "N foreground 17097, N  background 0,unable to generate class balanced samples.\n",
      "N foreground 16388, N  background 0,unable to generate class balanced samples.\n",
      "N foreground 17716, N  background 0,unable to generate class balanced samples.\n",
      "N foreground 15619, N  background 0,unable to generate class balanced samples.\n",
      "N foreground 15909, N  background 0,unable to generate class balanced samples.\n",
      "N foreground 22593, N  background 0,unable to generate class balanced samples.\n",
      "N foreground 15184, N  background 0,unable to generate class balanced samples.\n",
      "N foreground 13809, N  background 0,unable to generate class balanced samples.\n",
      "N foreground 13138, N  background 0,unable to generate class balanced samples.\n",
      "N foreground 10992, N  background 0,unable to generate class balanced samples.\n",
      "N foreground 8935, N  background 0,unable to generate class balanced samples.\n",
      "N foreground 16438, N  background 0,unable to generate class balanced samples.\n",
      "N foreground 16450, N  background 0,unable to generate class balanced samples.\n",
      "N foreground 14262, N  background 0,unable to generate class balanced samples.\n",
      "N foreground 15838, N  background 0,unable to generate class balanced samples.\n",
      "N foreground 13958, N  background 0,unable to generate class balanced samples.\n",
      "N foreground 10533, N  background 0,unable to generate class balanced samples.\n",
      "N foreground 14317, N  background 0,unable to generate class balanced samples.\n",
      "N foreground 19210, N  background 0,unable to generate class balanced samples.\n",
      "N foreground 16115, N  background 0,unable to generate class balanced samples.\n",
      "N foreground 13064, N  background 0,unable to generate class balanced samples.\n",
      "N foreground 14809, N  background 0,unable to generate class balanced samples.\n"
     ]
    },
    {
     "name": "stdout",
     "output_type": "stream",
     "text": [
      "1/13, train_loss: 0.1682\n",
      "2/13, train_loss: 0.1544\n",
      "3/13, train_loss: 0.1548\n",
      "4/13, train_loss: 0.1592\n",
      "5/13, train_loss: 0.1755\n",
      "6/13, train_loss: 0.1674\n",
      "7/13, train_loss: 0.1653\n",
      "8/13, train_loss: 0.1576\n",
      "9/13, train_loss: 0.1653\n",
      "10/13, train_loss: 0.1730\n",
      "11/13, train_loss: 0.1632\n",
      "12/13, train_loss: 0.1682\n",
      "13/13, train_loss: 0.1665\n",
      "epoch 114 average loss: 0.1645\n"
     ]
    },
    {
     "name": "stderr",
     "output_type": "stream",
     "text": [
      "N foreground 10539, N  background 0,unable to generate class balanced samples.\n",
      "N foreground 13981, N  background 0,unable to generate class balanced samples.\n",
      "N foreground 14351, N  background 0,unable to generate class balanced samples.\n",
      "N foreground 18264, N  background 0,unable to generate class balanced samples.\n",
      "N foreground 14149, N  background 0,unable to generate class balanced samples.\n",
      "N foreground 13080, N  background 0,unable to generate class balanced samples.\n",
      "N foreground 16021, N  background 0,unable to generate class balanced samples.\n",
      "N foreground 14458, N  background 0,unable to generate class balanced samples.\n",
      "N foreground 14199, N  background 0,unable to generate class balanced samples.\n"
     ]
    },
    {
     "name": "stdout",
     "output_type": "stream",
     "text": [
      "saved new best metric model\n",
      "current epoch: 114 current mean dice: 0.8526\n",
      "best mean dice: 0.8526at epoch: 114\n",
      "----------\n",
      "epoch 115/150\n"
     ]
    },
    {
     "name": "stderr",
     "output_type": "stream",
     "text": [
      "N foreground 16388, N  background 0,unable to generate class balanced samples.\n",
      "N foreground 12122, N  background 0,unable to generate class balanced samples.\n",
      "N foreground 14809, N  background 0,unable to generate class balanced samples.\n",
      "N foreground 16438, N  background 0,unable to generate class balanced samples.\n",
      "N foreground 14230, N  background 0,unable to generate class balanced samples.\n",
      "N foreground 15619, N  background 0,unable to generate class balanced samples.\n",
      "N foreground 10992, N  background 0,unable to generate class balanced samples.\n",
      "N foreground 16115, N  background 0,unable to generate class balanced samples.\n",
      "N foreground 19210, N  background 0,unable to generate class balanced samples.\n",
      "N foreground 16450, N  background 0,unable to generate class balanced samples.\n",
      "N foreground 14262, N  background 0,unable to generate class balanced samples.\n",
      "N foreground 14317, N  background 0,unable to generate class balanced samples.\n",
      "N foreground 15838, N  background 0,unable to generate class balanced samples.\n",
      "N foreground 17716, N  background 0,unable to generate class balanced samples.\n",
      "N foreground 13958, N  background 0,unable to generate class balanced samples.\n",
      "N foreground 22593, N  background 0,unable to generate class balanced samples.\n",
      "N foreground 13064, N  background 0,unable to generate class balanced samples.\n",
      "N foreground 13138, N  background 0,unable to generate class balanced samples.\n",
      "N foreground 15184, N  background 0,unable to generate class balanced samples.\n",
      "N foreground 16682, N  background 0,unable to generate class balanced samples.\n",
      "N foreground 8935, N  background 0,unable to generate class balanced samples.\n",
      "N foreground 17097, N  background 0,unable to generate class balanced samples.\n",
      "N foreground 15909, N  background 0,unable to generate class balanced samples.\n",
      "N foreground 10474, N  background 0,unable to generate class balanced samples.\n",
      "N foreground 13809, N  background 0,unable to generate class balanced samples.\n",
      "N foreground 10533, N  background 0,unable to generate class balanced samples.\n"
     ]
    },
    {
     "name": "stdout",
     "output_type": "stream",
     "text": [
      "1/13, train_loss: 0.1518\n",
      "2/13, train_loss: 0.1699\n",
      "3/13, train_loss: 0.1746\n",
      "4/13, train_loss: 0.1642\n",
      "5/13, train_loss: 0.1672\n",
      "6/13, train_loss: 0.1837\n",
      "7/13, train_loss: 0.1504\n",
      "8/13, train_loss: 0.1581\n",
      "9/13, train_loss: 0.1627\n",
      "10/13, train_loss: 0.1782\n",
      "11/13, train_loss: 0.1777\n",
      "12/13, train_loss: 0.1495\n",
      "13/13, train_loss: 0.1666\n",
      "epoch 115 average loss: 0.1657\n"
     ]
    },
    {
     "name": "stderr",
     "output_type": "stream",
     "text": [
      "N foreground 14351, N  background 0,unable to generate class balanced samples.\n",
      "N foreground 13080, N  background 0,unable to generate class balanced samples.\n",
      "N foreground 10539, N  background 0,unable to generate class balanced samples.\n",
      "N foreground 16021, N  background 0,unable to generate class balanced samples.\n",
      "N foreground 14149, N  background 0,unable to generate class balanced samples.\n",
      "N foreground 13981, N  background 0,unable to generate class balanced samples.\n",
      "N foreground 18264, N  background 0,unable to generate class balanced samples.\n",
      "N foreground 14458, N  background 0,unable to generate class balanced samples.\n",
      "N foreground 14199, N  background 0,unable to generate class balanced samples.\n"
     ]
    },
    {
     "name": "stdout",
     "output_type": "stream",
     "text": [
      "current epoch: 115 current mean dice: 0.8449\n",
      "best mean dice: 0.8526at epoch: 114\n",
      "----------\n",
      "epoch 116/150\n"
     ]
    },
    {
     "name": "stderr",
     "output_type": "stream",
     "text": [
      "N foreground 17716, N  background 0,unable to generate class balanced samples.\n",
      "N foreground 15909, N  background 0,unable to generate class balanced samples.\n",
      "N foreground 15838, N  background 0,unable to generate class balanced samples.\n",
      "N foreground 15619, N  background 0,unable to generate class balanced samples.\n",
      "N foreground 16388, N  background 0,unable to generate class balanced samples.\n",
      "N foreground 13064, N  background 0,unable to generate class balanced samples.\n",
      "N foreground 15184, N  background 0,unable to generate class balanced samples.\n",
      "N foreground 13138, N  background 0,unable to generate class balanced samples.\n",
      "N foreground 19210, N  background 0,unable to generate class balanced samples.\n",
      "N foreground 14230, N  background 0,unable to generate class balanced samples.\n",
      "N foreground 16438, N  background 0,unable to generate class balanced samples.\n",
      "N foreground 10474, N  background 0,unable to generate class balanced samples.\n",
      "N foreground 10992, N  background 0,unable to generate class balanced samples.\n",
      "N foreground 10533, N  background 0,unable to generate class balanced samples.\n",
      "N foreground 14262, N  background 0,unable to generate class balanced samples.\n",
      "N foreground 13958, N  background 0,unable to generate class balanced samples.\n",
      "N foreground 14317, N  background 0,unable to generate class balanced samples.\n",
      "N foreground 16682, N  background 0,unable to generate class balanced samples.\n",
      "N foreground 12122, N  background 0,unable to generate class balanced samples.\n",
      "N foreground 17097, N  background 0,unable to generate class balanced samples.\n",
      "N foreground 13809, N  background 0,unable to generate class balanced samples.\n",
      "N foreground 8935, N  background 0,unable to generate class balanced samples.\n",
      "N foreground 22593, N  background 0,unable to generate class balanced samples.\n",
      "N foreground 16450, N  background 0,unable to generate class balanced samples.\n",
      "N foreground 16115, N  background 0,unable to generate class balanced samples.\n",
      "N foreground 14809, N  background 0,unable to generate class balanced samples.\n"
     ]
    },
    {
     "name": "stdout",
     "output_type": "stream",
     "text": [
      "1/13, train_loss: 0.1550\n",
      "2/13, train_loss: 0.1714\n",
      "3/13, train_loss: 0.1519\n",
      "4/13, train_loss: 0.1502\n",
      "5/13, train_loss: 0.1661\n",
      "6/13, train_loss: 0.1666\n",
      "7/13, train_loss: 0.1751\n",
      "8/13, train_loss: 0.1739\n",
      "9/13, train_loss: 0.1578\n",
      "10/13, train_loss: 0.1695\n",
      "11/13, train_loss: 0.1644\n",
      "12/13, train_loss: 0.1798\n",
      "13/13, train_loss: 0.1528\n",
      "epoch 116 average loss: 0.1642\n"
     ]
    },
    {
     "name": "stderr",
     "output_type": "stream",
     "text": [
      "N foreground 18264, N  background 0,unable to generate class balanced samples.\n",
      "N foreground 13981, N  background 0,unable to generate class balanced samples.\n",
      "N foreground 10539, N  background 0,unable to generate class balanced samples.\n",
      "N foreground 14351, N  background 0,unable to generate class balanced samples.\n",
      "N foreground 14149, N  background 0,unable to generate class balanced samples.\n",
      "N foreground 16021, N  background 0,unable to generate class balanced samples.\n",
      "N foreground 13080, N  background 0,unable to generate class balanced samples.\n",
      "N foreground 14458, N  background 0,unable to generate class balanced samples.\n",
      "N foreground 14199, N  background 0,unable to generate class balanced samples.\n"
     ]
    },
    {
     "name": "stdout",
     "output_type": "stream",
     "text": [
      "current epoch: 116 current mean dice: 0.8504\n",
      "best mean dice: 0.8526at epoch: 114\n",
      "----------\n",
      "epoch 117/150\n"
     ]
    },
    {
     "name": "stderr",
     "output_type": "stream",
     "text": [
      "N foreground 19210, N  background 0,unable to generate class balanced samples.\n",
      "N foreground 15909, N  background 0,unable to generate class balanced samples.\n",
      "N foreground 13064, N  background 0,unable to generate class balanced samples.\n",
      "N foreground 13958, N  background 0,unable to generate class balanced samples.\n",
      "N foreground 13809, N  background 0,unable to generate class balanced samples.\n",
      "N foreground 13138, N  background 0,unable to generate class balanced samples.\n",
      "N foreground 14230, N  background 0,unable to generate class balanced samples.\n",
      "N foreground 22593, N  background 0,unable to generate class balanced samples.\n",
      "N foreground 10474, N  background 0,unable to generate class balanced samples.\n",
      "N foreground 15184, N  background 0,unable to generate class balanced samples.\n",
      "N foreground 16115, N  background 0,unable to generate class balanced samples.\n",
      "N foreground 10992, N  background 0,unable to generate class balanced samples.\n",
      "N foreground 16438, N  background 0,unable to generate class balanced samples.\n",
      "N foreground 17097, N  background 0,unable to generate class balanced samples.\n",
      "N foreground 14317, N  background 0,unable to generate class balanced samples.\n",
      "N foreground 15619, N  background 0,unable to generate class balanced samples.\n",
      "N foreground 16682, N  background 0,unable to generate class balanced samples.\n",
      "N foreground 14809, N  background 0,unable to generate class balanced samples.\n",
      "N foreground 10533, N  background 0,unable to generate class balanced samples.\n",
      "N foreground 12122, N  background 0,unable to generate class balanced samples.\n",
      "N foreground 14262, N  background 0,unable to generate class balanced samples.\n",
      "N foreground 16450, N  background 0,unable to generate class balanced samples.\n",
      "N foreground 16388, N  background 0,unable to generate class balanced samples.\n",
      "N foreground 15838, N  background 0,unable to generate class balanced samples.\n",
      "N foreground 8935, N  background 0,unable to generate class balanced samples.\n",
      "N foreground 17716, N  background 0,unable to generate class balanced samples.\n"
     ]
    },
    {
     "name": "stdout",
     "output_type": "stream",
     "text": [
      "1/13, train_loss: 0.1746\n",
      "2/13, train_loss: 0.1612\n",
      "3/13, train_loss: 0.1503\n",
      "4/13, train_loss: 0.1671\n",
      "5/13, train_loss: 0.1757\n",
      "6/13, train_loss: 0.1575\n",
      "7/13, train_loss: 0.1744\n",
      "8/13, train_loss: 0.1492\n",
      "9/13, train_loss: 0.1309\n",
      "10/13, train_loss: 0.1623\n",
      "11/13, train_loss: 0.1787\n",
      "12/13, train_loss: 0.1622\n",
      "13/13, train_loss: 0.1601\n",
      "epoch 117 average loss: 0.1619\n"
     ]
    },
    {
     "name": "stderr",
     "output_type": "stream",
     "text": [
      "N foreground 16021, N  background 0,unable to generate class balanced samples.\n",
      "N foreground 10539, N  background 0,unable to generate class balanced samples.\n",
      "N foreground 14149, N  background 0,unable to generate class balanced samples.\n",
      "N foreground 14351, N  background 0,unable to generate class balanced samples.\n",
      "N foreground 13080, N  background 0,unable to generate class balanced samples.\n",
      "N foreground 18264, N  background 0,unable to generate class balanced samples.\n",
      "N foreground 14458, N  background 0,unable to generate class balanced samples.\n",
      "N foreground 13981, N  background 0,unable to generate class balanced samples.\n",
      "N foreground 14199, N  background 0,unable to generate class balanced samples.\n"
     ]
    },
    {
     "name": "stdout",
     "output_type": "stream",
     "text": [
      "current epoch: 117 current mean dice: 0.8524\n",
      "best mean dice: 0.8526at epoch: 114\n",
      "----------\n",
      "epoch 118/150\n"
     ]
    },
    {
     "name": "stderr",
     "output_type": "stream",
     "text": [
      "N foreground 13958, N  background 0,unable to generate class balanced samples.\n",
      "N foreground 10992, N  background 0,unable to generate class balanced samples.\n",
      "N foreground 10474, N  background 0,unable to generate class balanced samples.\n",
      "N foreground 17716, N  background 0,unable to generate class balanced samples.\n",
      "N foreground 14230, N  background 0,unable to generate class balanced samples.\n",
      "N foreground 13064, N  background 0,unable to generate class balanced samples.\n",
      "N foreground 16450, N  background 0,unable to generate class balanced samples.\n",
      "N foreground 16388, N  background 0,unable to generate class balanced samples.\n",
      "N foreground 15909, N  background 0,unable to generate class balanced samples.\n",
      "N foreground 14809, N  background 0,unable to generate class balanced samples.\n",
      "N foreground 22593, N  background 0,unable to generate class balanced samples.\n",
      "N foreground 15184, N  background 0,unable to generate class balanced samples.\n",
      "N foreground 13138, N  background 0,unable to generate class balanced samples.\n",
      "N foreground 13809, N  background 0,unable to generate class balanced samples.\n",
      "N foreground 15838, N  background 0,unable to generate class balanced samples.\n",
      "N foreground 15619, N  background 0,unable to generate class balanced samples.\n",
      "N foreground 14317, N  background 0,unable to generate class balanced samples.\n",
      "N foreground 16438, N  background 0,unable to generate class balanced samples.\n",
      "N foreground 17097, N  background 0,unable to generate class balanced samples.\n",
      "N foreground 16115, N  background 0,unable to generate class balanced samples.\n",
      "N foreground 19210, N  background 0,unable to generate class balanced samples.\n",
      "N foreground 12122, N  background 0,unable to generate class balanced samples.\n",
      "N foreground 8935, N  background 0,unable to generate class balanced samples.\n",
      "N foreground 16682, N  background 0,unable to generate class balanced samples.\n",
      "N foreground 10533, N  background 0,unable to generate class balanced samples.\n",
      "N foreground 14262, N  background 0,unable to generate class balanced samples.\n"
     ]
    },
    {
     "name": "stdout",
     "output_type": "stream",
     "text": [
      "1/13, train_loss: 0.1684\n",
      "2/13, train_loss: 0.1731\n",
      "3/13, train_loss: 0.1504\n",
      "4/13, train_loss: 0.1628\n",
      "5/13, train_loss: 0.1714\n",
      "6/13, train_loss: 0.1619\n",
      "7/13, train_loss: 0.1631\n",
      "8/13, train_loss: 0.1540\n",
      "9/13, train_loss: 0.1621\n",
      "10/13, train_loss: 0.1639\n",
      "11/13, train_loss: 0.1578\n",
      "12/13, train_loss: 0.1775\n",
      "13/13, train_loss: 0.1604\n",
      "epoch 118 average loss: 0.1636\n"
     ]
    },
    {
     "name": "stderr",
     "output_type": "stream",
     "text": [
      "N foreground 14351, N  background 0,unable to generate class balanced samples.\n",
      "N foreground 16021, N  background 0,unable to generate class balanced samples.\n",
      "N foreground 13080, N  background 0,unable to generate class balanced samples.\n",
      "N foreground 14458, N  background 0,unable to generate class balanced samples.\n",
      "N foreground 13981, N  background 0,unable to generate class balanced samples.\n",
      "N foreground 10539, N  background 0,unable to generate class balanced samples.\n",
      "N foreground 18264, N  background 0,unable to generate class balanced samples.\n",
      "N foreground 14149, N  background 0,unable to generate class balanced samples.\n",
      "N foreground 14199, N  background 0,unable to generate class balanced samples.\n"
     ]
    },
    {
     "name": "stdout",
     "output_type": "stream",
     "text": [
      "current epoch: 118 current mean dice: 0.8508\n",
      "best mean dice: 0.8526at epoch: 114\n",
      "----------\n",
      "epoch 119/150\n"
     ]
    },
    {
     "name": "stderr",
     "output_type": "stream",
     "text": [
      "N foreground 10533, N  background 0,unable to generate class balanced samples.\n",
      "N foreground 13138, N  background 0,unable to generate class balanced samples.\n",
      "N foreground 12122, N  background 0,unable to generate class balanced samples.\n",
      "N foreground 14262, N  background 0,unable to generate class balanced samples.\n",
      "N foreground 15909, N  background 0,unable to generate class balanced samples.\n",
      "N foreground 22593, N  background 0,unable to generate class balanced samples.\n",
      "N foreground 16115, N  background 0,unable to generate class balanced samples.\n",
      "N foreground 15184, N  background 0,unable to generate class balanced samples.\n",
      "N foreground 8935, N  background 0,unable to generate class balanced samples.\n",
      "N foreground 13958, N  background 0,unable to generate class balanced samples.\n",
      "N foreground 14317, N  background 0,unable to generate class balanced samples.\n",
      "N foreground 14809, N  background 0,unable to generate class balanced samples.\n",
      "N foreground 16388, N  background 0,unable to generate class balanced samples.\n",
      "N foreground 17716, N  background 0,unable to generate class balanced samples.\n",
      "N foreground 15619, N  background 0,unable to generate class balanced samples.\n",
      "N foreground 10474, N  background 0,unable to generate class balanced samples.\n",
      "N foreground 13809, N  background 0,unable to generate class balanced samples.\n",
      "N foreground 16438, N  background 0,unable to generate class balanced samples.\n",
      "N foreground 19210, N  background 0,unable to generate class balanced samples.\n",
      "N foreground 16682, N  background 0,unable to generate class balanced samples.\n",
      "N foreground 16450, N  background 0,unable to generate class balanced samples.\n",
      "N foreground 13064, N  background 0,unable to generate class balanced samples.\n",
      "N foreground 14230, N  background 0,unable to generate class balanced samples.\n",
      "N foreground 10992, N  background 0,unable to generate class balanced samples.\n",
      "N foreground 17097, N  background 0,unable to generate class balanced samples.\n",
      "N foreground 15838, N  background 0,unable to generate class balanced samples.\n"
     ]
    },
    {
     "name": "stdout",
     "output_type": "stream",
     "text": [
      "1/13, train_loss: 0.1742\n",
      "2/13, train_loss: 0.1754\n",
      "3/13, train_loss: 0.1633\n",
      "4/13, train_loss: 0.1720\n",
      "5/13, train_loss: 0.1619\n",
      "6/13, train_loss: 0.1761\n",
      "7/13, train_loss: 0.1629\n",
      "8/13, train_loss: 0.1516\n",
      "9/13, train_loss: 0.1594\n",
      "10/13, train_loss: 0.1597\n",
      "11/13, train_loss: 0.1584\n",
      "12/13, train_loss: 0.1550\n",
      "13/13, train_loss: 0.1569\n",
      "epoch 119 average loss: 0.1636\n"
     ]
    },
    {
     "name": "stderr",
     "output_type": "stream",
     "text": [
      "N foreground 10539, N  background 0,unable to generate class balanced samples.\n",
      "N foreground 14149, N  background 0,unable to generate class balanced samples.\n",
      "N foreground 16021, N  background 0,unable to generate class balanced samples.\n",
      "N foreground 14351, N  background 0,unable to generate class balanced samples.\n",
      "N foreground 13080, N  background 0,unable to generate class balanced samples.\n",
      "N foreground 18264, N  background 0,unable to generate class balanced samples.\n",
      "N foreground 13981, N  background 0,unable to generate class balanced samples.\n",
      "N foreground 14458, N  background 0,unable to generate class balanced samples.\n",
      "N foreground 14199, N  background 0,unable to generate class balanced samples.\n"
     ]
    },
    {
     "name": "stdout",
     "output_type": "stream",
     "text": [
      "current epoch: 119 current mean dice: 0.8503\n",
      "best mean dice: 0.8526at epoch: 114\n",
      "----------\n",
      "epoch 120/150\n"
     ]
    },
    {
     "name": "stderr",
     "output_type": "stream",
     "text": [
      "N foreground 10533, N  background 0,unable to generate class balanced samples.\n",
      "N foreground 13809, N  background 0,unable to generate class balanced samples.\n",
      "N foreground 12122, N  background 0,unable to generate class balanced samples.\n",
      "N foreground 15184, N  background 0,unable to generate class balanced samples.\n",
      "N foreground 19210, N  background 0,unable to generate class balanced samples.\n",
      "N foreground 14230, N  background 0,unable to generate class balanced samples.\n",
      "N foreground 17097, N  background 0,unable to generate class balanced samples.\n",
      "N foreground 8935, N  background 0,unable to generate class balanced samples.\n",
      "N foreground 22593, N  background 0,unable to generate class balanced samples.\n",
      "N foreground 16450, N  background 0,unable to generate class balanced samples.\n",
      "N foreground 15909, N  background 0,unable to generate class balanced samples.\n",
      "N foreground 10992, N  background 0,unable to generate class balanced samples.\n",
      "N foreground 16438, N  background 0,unable to generate class balanced samples.\n",
      "N foreground 13958, N  background 0,unable to generate class balanced samples.\n",
      "N foreground 17716, N  background 0,unable to generate class balanced samples.\n",
      "N foreground 14317, N  background 0,unable to generate class balanced samples.\n",
      "N foreground 14809, N  background 0,unable to generate class balanced samples.\n",
      "N foreground 15619, N  background 0,unable to generate class balanced samples.\n",
      "N foreground 13138, N  background 0,unable to generate class balanced samples.\n",
      "N foreground 16388, N  background 0,unable to generate class balanced samples.\n",
      "N foreground 16682, N  background 0,unable to generate class balanced samples.\n",
      "N foreground 14262, N  background 0,unable to generate class balanced samples.\n",
      "N foreground 15838, N  background 0,unable to generate class balanced samples.\n",
      "N foreground 10474, N  background 0,unable to generate class balanced samples.\n",
      "N foreground 13064, N  background 0,unable to generate class balanced samples.\n",
      "N foreground 16115, N  background 0,unable to generate class balanced samples.\n"
     ]
    },
    {
     "name": "stdout",
     "output_type": "stream",
     "text": [
      "1/13, train_loss: 0.1672\n",
      "2/13, train_loss: 0.1584\n",
      "3/13, train_loss: 0.1558\n",
      "4/13, train_loss: 0.1634\n",
      "5/13, train_loss: 0.1493\n",
      "6/13, train_loss: 0.1480\n",
      "7/13, train_loss: 0.1535\n",
      "8/13, train_loss: 0.1764\n",
      "9/13, train_loss: 0.1625\n",
      "10/13, train_loss: 0.1595\n",
      "11/13, train_loss: 0.1543\n",
      "12/13, train_loss: 0.1757\n",
      "13/13, train_loss: 0.1616\n",
      "epoch 120 average loss: 0.1604\n"
     ]
    },
    {
     "name": "stderr",
     "output_type": "stream",
     "text": [
      "N foreground 18264, N  background 0,unable to generate class balanced samples.\n",
      "N foreground 14149, N  background 0,unable to generate class balanced samples.\n",
      "N foreground 13080, N  background 0,unable to generate class balanced samples.\n",
      "N foreground 10539, N  background 0,unable to generate class balanced samples.\n",
      "N foreground 13981, N  background 0,unable to generate class balanced samples.\n",
      "N foreground 16021, N  background 0,unable to generate class balanced samples.\n",
      "N foreground 14351, N  background 0,unable to generate class balanced samples.\n",
      "N foreground 14458, N  background 0,unable to generate class balanced samples.\n",
      "N foreground 14199, N  background 0,unable to generate class balanced samples.\n"
     ]
    },
    {
     "name": "stdout",
     "output_type": "stream",
     "text": [
      "current epoch: 120 current mean dice: 0.8460\n",
      "best mean dice: 0.8526at epoch: 114\n",
      "----------\n",
      "epoch 121/150\n"
     ]
    },
    {
     "name": "stderr",
     "output_type": "stream",
     "text": [
      "N foreground 16438, N  background 0,unable to generate class balanced samples.\n",
      "N foreground 8935, N  background 0,unable to generate class balanced samples.\n",
      "N foreground 15184, N  background 0,unable to generate class balanced samples.\n",
      "N foreground 10992, N  background 0,unable to generate class balanced samples.\n",
      "N foreground 10474, N  background 0,unable to generate class balanced samples.\n",
      "N foreground 19210, N  background 0,unable to generate class balanced samples.\n",
      "N foreground 15619, N  background 0,unable to generate class balanced samples.\n",
      "N foreground 16682, N  background 0,unable to generate class balanced samples.\n",
      "N foreground 16388, N  background 0,unable to generate class balanced samples.\n",
      "N foreground 13064, N  background 0,unable to generate class balanced samples.\n",
      "N foreground 22593, N  background 0,unable to generate class balanced samples.\n",
      "N foreground 17716, N  background 0,unable to generate class balanced samples.\n",
      "N foreground 12122, N  background 0,unable to generate class balanced samples.\n",
      "N foreground 14230, N  background 0,unable to generate class balanced samples.\n",
      "N foreground 15909, N  background 0,unable to generate class balanced samples.\n",
      "N foreground 14317, N  background 0,unable to generate class balanced samples.\n",
      "N foreground 13138, N  background 0,unable to generate class balanced samples.\n",
      "N foreground 13809, N  background 0,unable to generate class balanced samples.\n",
      "N foreground 14809, N  background 0,unable to generate class balanced samples.\n",
      "N foreground 16450, N  background 0,unable to generate class balanced samples.\n",
      "N foreground 15838, N  background 0,unable to generate class balanced samples.\n",
      "N foreground 10533, N  background 0,unable to generate class balanced samples.\n",
      "N foreground 17097, N  background 0,unable to generate class balanced samples.\n",
      "N foreground 14262, N  background 0,unable to generate class balanced samples.\n",
      "N foreground 16115, N  background 0,unable to generate class balanced samples.\n",
      "N foreground 13958, N  background 0,unable to generate class balanced samples.\n"
     ]
    },
    {
     "name": "stdout",
     "output_type": "stream",
     "text": [
      "1/13, train_loss: 0.1768\n",
      "2/13, train_loss: 0.1653\n",
      "3/13, train_loss: 0.1571\n",
      "4/13, train_loss: 0.1641\n",
      "5/13, train_loss: 0.1532\n",
      "6/13, train_loss: 0.1750\n",
      "7/13, train_loss: 0.1625\n",
      "8/13, train_loss: 0.1683\n",
      "9/13, train_loss: 0.1546\n",
      "10/13, train_loss: 0.1623\n",
      "11/13, train_loss: 0.1574\n",
      "12/13, train_loss: 0.1711\n",
      "13/13, train_loss: 0.1593\n",
      "epoch 121 average loss: 0.1636\n"
     ]
    },
    {
     "name": "stderr",
     "output_type": "stream",
     "text": [
      "N foreground 14351, N  background 0,unable to generate class balanced samples.\n",
      "N foreground 14149, N  background 0,unable to generate class balanced samples.\n",
      "N foreground 10539, N  background 0,unable to generate class balanced samples.\n",
      "N foreground 18264, N  background 0,unable to generate class balanced samples.\n",
      "N foreground 14458, N  background 0,unable to generate class balanced samples.\n",
      "N foreground 16021, N  background 0,unable to generate class balanced samples.\n",
      "N foreground 13080, N  background 0,unable to generate class balanced samples.\n",
      "N foreground 13981, N  background 0,unable to generate class balanced samples.\n",
      "N foreground 14199, N  background 0,unable to generate class balanced samples.\n"
     ]
    },
    {
     "name": "stdout",
     "output_type": "stream",
     "text": [
      "saved new best metric model\n",
      "current epoch: 121 current mean dice: 0.8544\n",
      "best mean dice: 0.8544at epoch: 121\n",
      "----------\n",
      "epoch 122/150\n"
     ]
    },
    {
     "name": "stderr",
     "output_type": "stream",
     "text": [
      "N foreground 16438, N  background 0,unable to generate class balanced samples.\n",
      "N foreground 19210, N  background 0,unable to generate class balanced samples.\n",
      "N foreground 14230, N  background 0,unable to generate class balanced samples.\n",
      "N foreground 16388, N  background 0,unable to generate class balanced samples.\n",
      "N foreground 17097, N  background 0,unable to generate class balanced samples.\n",
      "N foreground 15909, N  background 0,unable to generate class balanced samples.\n",
      "N foreground 16450, N  background 0,unable to generate class balanced samples.\n",
      "N foreground 12122, N  background 0,unable to generate class balanced samples.\n",
      "N foreground 13138, N  background 0,unable to generate class balanced samples.\n",
      "N foreground 14809, N  background 0,unable to generate class balanced samples.\n",
      "N foreground 13958, N  background 0,unable to generate class balanced samples.\n",
      "N foreground 15619, N  background 0,unable to generate class balanced samples.\n",
      "N foreground 22593, N  background 0,unable to generate class balanced samples.\n",
      "N foreground 10992, N  background 0,unable to generate class balanced samples.\n",
      "N foreground 16115, N  background 0,unable to generate class balanced samples.\n",
      "N foreground 13064, N  background 0,unable to generate class balanced samples.\n",
      "N foreground 13809, N  background 0,unable to generate class balanced samples.\n",
      "N foreground 15838, N  background 0,unable to generate class balanced samples.\n",
      "N foreground 17716, N  background 0,unable to generate class balanced samples.\n",
      "N foreground 10474, N  background 0,unable to generate class balanced samples.\n",
      "N foreground 10533, N  background 0,unable to generate class balanced samples.\n",
      "N foreground 14317, N  background 0,unable to generate class balanced samples.\n",
      "N foreground 15184, N  background 0,unable to generate class balanced samples.\n",
      "N foreground 16682, N  background 0,unable to generate class balanced samples.\n",
      "N foreground 14262, N  background 0,unable to generate class balanced samples.\n",
      "N foreground 8935, N  background 0,unable to generate class balanced samples.\n"
     ]
    },
    {
     "name": "stdout",
     "output_type": "stream",
     "text": [
      "1/13, train_loss: 0.1631\n",
      "2/13, train_loss: 0.1572\n",
      "3/13, train_loss: 0.1668\n",
      "4/13, train_loss: 0.1637\n",
      "5/13, train_loss: 0.1485\n",
      "6/13, train_loss: 0.1604\n",
      "7/13, train_loss: 0.1678\n",
      "8/13, train_loss: 0.1697\n",
      "9/13, train_loss: 0.1629\n",
      "10/13, train_loss: 0.1562\n",
      "11/13, train_loss: 0.1629\n",
      "12/13, train_loss: 0.1556\n",
      "13/13, train_loss: 0.1744\n",
      "epoch 122 average loss: 0.1623\n"
     ]
    },
    {
     "name": "stderr",
     "output_type": "stream",
     "text": [
      "N foreground 18264, N  background 0,unable to generate class balanced samples.\n",
      "N foreground 10539, N  background 0,unable to generate class balanced samples.\n",
      "N foreground 14149, N  background 0,unable to generate class balanced samples.\n",
      "N foreground 16021, N  background 0,unable to generate class balanced samples.\n",
      "N foreground 13080, N  background 0,unable to generate class balanced samples.\n",
      "N foreground 14351, N  background 0,unable to generate class balanced samples.\n",
      "N foreground 13981, N  background 0,unable to generate class balanced samples.\n",
      "N foreground 14458, N  background 0,unable to generate class balanced samples.\n",
      "N foreground 14199, N  background 0,unable to generate class balanced samples.\n"
     ]
    },
    {
     "name": "stdout",
     "output_type": "stream",
     "text": [
      "current epoch: 122 current mean dice: 0.8521\n",
      "best mean dice: 0.8544at epoch: 121\n",
      "----------\n",
      "epoch 123/150\n"
     ]
    },
    {
     "name": "stderr",
     "output_type": "stream",
     "text": [
      "N foreground 13809, N  background 0,unable to generate class balanced samples.\n",
      "N foreground 16438, N  background 0,unable to generate class balanced samples.\n",
      "N foreground 22593, N  background 0,unable to generate class balanced samples.\n",
      "N foreground 16682, N  background 0,unable to generate class balanced samples.\n",
      "N foreground 15909, N  background 0,unable to generate class balanced samples.\n",
      "N foreground 15619, N  background 0,unable to generate class balanced samples.\n",
      "N foreground 10533, N  background 0,unable to generate class balanced samples.\n",
      "N foreground 8935, N  background 0,unable to generate class balanced samples.\n",
      "N foreground 15838, N  background 0,unable to generate class balanced samples.\n",
      "N foreground 17716, N  background 0,unable to generate class balanced samples.\n",
      "N foreground 10474, N  background 0,unable to generate class balanced samples.\n",
      "N foreground 16115, N  background 0,unable to generate class balanced samples.\n",
      "N foreground 16388, N  background 0,unable to generate class balanced samples.\n",
      "N foreground 14262, N  background 0,unable to generate class balanced samples.\n",
      "N foreground 10992, N  background 0,unable to generate class balanced samples.\n",
      "N foreground 14317, N  background 0,unable to generate class balanced samples.\n",
      "N foreground 13138, N  background 0,unable to generate class balanced samples.\n",
      "N foreground 12122, N  background 0,unable to generate class balanced samples.\n",
      "N foreground 19210, N  background 0,unable to generate class balanced samples.\n",
      "N foreground 16450, N  background 0,unable to generate class balanced samples.\n",
      "N foreground 13958, N  background 0,unable to generate class balanced samples.\n",
      "N foreground 17097, N  background 0,unable to generate class balanced samples.\n",
      "N foreground 15184, N  background 0,unable to generate class balanced samples.\n",
      "N foreground 13064, N  background 0,unable to generate class balanced samples.\n",
      "N foreground 14809, N  background 0,unable to generate class balanced samples.\n",
      "N foreground 14230, N  background 0,unable to generate class balanced samples.\n"
     ]
    },
    {
     "name": "stdout",
     "output_type": "stream",
     "text": [
      "1/13, train_loss: 0.1614\n",
      "2/13, train_loss: 0.1619\n",
      "3/13, train_loss: 0.1611\n",
      "4/13, train_loss: 0.1594\n",
      "5/13, train_loss: 0.1426\n",
      "6/13, train_loss: 0.1555\n",
      "7/13, train_loss: 0.1477\n",
      "8/13, train_loss: 0.1692\n",
      "9/13, train_loss: 0.1603\n",
      "10/13, train_loss: 0.1728\n",
      "11/13, train_loss: 0.1552\n",
      "12/13, train_loss: 0.1569\n",
      "13/13, train_loss: 0.1668\n",
      "epoch 123 average loss: 0.1593\n"
     ]
    },
    {
     "name": "stderr",
     "output_type": "stream",
     "text": [
      "N foreground 16021, N  background 0,unable to generate class balanced samples.\n",
      "N foreground 13080, N  background 0,unable to generate class balanced samples.\n",
      "N foreground 14149, N  background 0,unable to generate class balanced samples.\n",
      "N foreground 18264, N  background 0,unable to generate class balanced samples.\n",
      "N foreground 13981, N  background 0,unable to generate class balanced samples.\n",
      "N foreground 14351, N  background 0,unable to generate class balanced samples.\n",
      "N foreground 10539, N  background 0,unable to generate class balanced samples.\n",
      "N foreground 14458, N  background 0,unable to generate class balanced samples.\n",
      "N foreground 14199, N  background 0,unable to generate class balanced samples.\n"
     ]
    },
    {
     "name": "stdout",
     "output_type": "stream",
     "text": [
      "current epoch: 123 current mean dice: 0.8462\n",
      "best mean dice: 0.8544at epoch: 121\n",
      "----------\n",
      "epoch 124/150\n"
     ]
    },
    {
     "name": "stderr",
     "output_type": "stream",
     "text": [
      "N foreground 17097, N  background 0,unable to generate class balanced samples.\n",
      "N foreground 15619, N  background 0,unable to generate class balanced samples.\n",
      "N foreground 16682, N  background 0,unable to generate class balanced samples.\n",
      "N foreground 13958, N  background 0,unable to generate class balanced samples.\n",
      "N foreground 10533, N  background 0,unable to generate class balanced samples.\n",
      "N foreground 10474, N  background 0,unable to generate class balanced samples.\n",
      "N foreground 15838, N  background 0,unable to generate class balanced samples.\n",
      "N foreground 17716, N  background 0,unable to generate class balanced samples.\n",
      "N foreground 15909, N  background 0,unable to generate class balanced samples.\n",
      "N foreground 16438, N  background 0,unable to generate class balanced samples.\n",
      "N foreground 22593, N  background 0,unable to generate class balanced samples.\n",
      "N foreground 10992, N  background 0,unable to generate class balanced samples.\n",
      "N foreground 16450, N  background 0,unable to generate class balanced samples.\n",
      "N foreground 14230, N  background 0,unable to generate class balanced samples.\n",
      "N foreground 13809, N  background 0,unable to generate class balanced samples.\n",
      "N foreground 14809, N  background 0,unable to generate class balanced samples.\n",
      "N foreground 16115, N  background 0,unable to generate class balanced samples.\n",
      "N foreground 14262, N  background 0,unable to generate class balanced samples.\n",
      "N foreground 14317, N  background 0,unable to generate class balanced samples.\n",
      "N foreground 12122, N  background 0,unable to generate class balanced samples.\n",
      "N foreground 16388, N  background 0,unable to generate class balanced samples.\n",
      "N foreground 19210, N  background 0,unable to generate class balanced samples.\n",
      "N foreground 8935, N  background 0,unable to generate class balanced samples.\n",
      "N foreground 13138, N  background 0,unable to generate class balanced samples.\n",
      "N foreground 15184, N  background 0,unable to generate class balanced samples.\n",
      "N foreground 13064, N  background 0,unable to generate class balanced samples.\n"
     ]
    },
    {
     "name": "stdout",
     "output_type": "stream",
     "text": [
      "1/13, train_loss: 0.1625\n",
      "2/13, train_loss: 0.1570\n",
      "3/13, train_loss: 0.1593\n",
      "4/13, train_loss: 0.1530\n",
      "5/13, train_loss: 0.1727\n",
      "6/13, train_loss: 0.1548\n",
      "7/13, train_loss: 0.1550\n",
      "8/13, train_loss: 0.1628\n",
      "9/13, train_loss: 0.1598\n",
      "10/13, train_loss: 0.1677\n",
      "11/13, train_loss: 0.1624\n",
      "12/13, train_loss: 0.1632\n",
      "13/13, train_loss: 0.1648\n",
      "epoch 124 average loss: 0.1612\n"
     ]
    },
    {
     "name": "stderr",
     "output_type": "stream",
     "text": [
      "N foreground 18264, N  background 0,unable to generate class balanced samples.\n",
      "N foreground 14351, N  background 0,unable to generate class balanced samples.\n",
      "N foreground 13080, N  background 0,unable to generate class balanced samples.\n",
      "N foreground 14149, N  background 0,unable to generate class balanced samples.\n",
      "N foreground 10539, N  background 0,unable to generate class balanced samples.\n",
      "N foreground 13981, N  background 0,unable to generate class balanced samples.\n",
      "N foreground 16021, N  background 0,unable to generate class balanced samples.\n",
      "N foreground 14458, N  background 0,unable to generate class balanced samples.\n",
      "N foreground 14199, N  background 0,unable to generate class balanced samples.\n"
     ]
    },
    {
     "name": "stdout",
     "output_type": "stream",
     "text": [
      "current epoch: 124 current mean dice: 0.8496\n",
      "best mean dice: 0.8544at epoch: 121\n",
      "----------\n",
      "epoch 125/150\n"
     ]
    },
    {
     "name": "stderr",
     "output_type": "stream",
     "text": [
      "N foreground 10474, N  background 0,unable to generate class balanced samples.\n",
      "N foreground 15909, N  background 0,unable to generate class balanced samples.\n",
      "N foreground 15184, N  background 0,unable to generate class balanced samples.\n",
      "N foreground 22593, N  background 0,unable to generate class balanced samples.\n",
      "N foreground 17097, N  background 0,unable to generate class balanced samples.\n",
      "N foreground 14317, N  background 0,unable to generate class balanced samples.\n",
      "N foreground 13138, N  background 0,unable to generate class balanced samples.\n",
      "N foreground 10992, N  background 0,unable to generate class balanced samples.\n",
      "N foreground 8935, N  background 0,unable to generate class balanced samples.\n",
      "N foreground 10533, N  background 0,unable to generate class balanced samples.\n",
      "N foreground 16115, N  background 0,unable to generate class balanced samples.\n",
      "N foreground 13064, N  background 0,unable to generate class balanced samples.\n",
      "N foreground 14230, N  background 0,unable to generate class balanced samples.\n",
      "N foreground 16388, N  background 0,unable to generate class balanced samples.\n",
      "N foreground 15838, N  background 0,unable to generate class balanced samples.\n",
      "N foreground 12122, N  background 0,unable to generate class balanced samples.\n",
      "N foreground 13809, N  background 0,unable to generate class balanced samples.\n",
      "N foreground 14262, N  background 0,unable to generate class balanced samples.\n",
      "N foreground 17716, N  background 0,unable to generate class balanced samples.\n",
      "N foreground 14809, N  background 0,unable to generate class balanced samples.\n",
      "N foreground 19210, N  background 0,unable to generate class balanced samples.\n",
      "N foreground 15619, N  background 0,unable to generate class balanced samples.\n",
      "N foreground 13958, N  background 0,unable to generate class balanced samples.\n",
      "N foreground 16682, N  background 0,unable to generate class balanced samples.\n",
      "N foreground 16438, N  background 0,unable to generate class balanced samples.\n",
      "N foreground 16450, N  background 0,unable to generate class balanced samples.\n"
     ]
    },
    {
     "name": "stdout",
     "output_type": "stream",
     "text": [
      "1/13, train_loss: 0.1557\n",
      "2/13, train_loss: 0.1580\n",
      "3/13, train_loss: 0.1607\n",
      "4/13, train_loss: 0.1622\n",
      "5/13, train_loss: 0.1651\n",
      "6/13, train_loss: 0.1734\n",
      "7/13, train_loss: 0.1640\n",
      "8/13, train_loss: 0.1624\n",
      "9/13, train_loss: 0.1474\n",
      "10/13, train_loss: 0.1514\n",
      "11/13, train_loss: 0.1551\n",
      "12/13, train_loss: 0.1606\n",
      "13/13, train_loss: 0.1582\n",
      "epoch 125 average loss: 0.1595\n"
     ]
    },
    {
     "name": "stderr",
     "output_type": "stream",
     "text": [
      "N foreground 13080, N  background 0,unable to generate class balanced samples.\n",
      "N foreground 14149, N  background 0,unable to generate class balanced samples.\n",
      "N foreground 18264, N  background 0,unable to generate class balanced samples.\n",
      "N foreground 10539, N  background 0,unable to generate class balanced samples.\n",
      "N foreground 14351, N  background 0,unable to generate class balanced samples.\n",
      "N foreground 16021, N  background 0,unable to generate class balanced samples.\n",
      "N foreground 13981, N  background 0,unable to generate class balanced samples.\n",
      "N foreground 14458, N  background 0,unable to generate class balanced samples.\n",
      "N foreground 14199, N  background 0,unable to generate class balanced samples.\n"
     ]
    },
    {
     "name": "stdout",
     "output_type": "stream",
     "text": [
      "saved new best metric model\n",
      "current epoch: 125 current mean dice: 0.8563\n",
      "best mean dice: 0.8563at epoch: 125\n",
      "----------\n",
      "epoch 126/150\n"
     ]
    },
    {
     "name": "stderr",
     "output_type": "stream",
     "text": [
      "N foreground 14809, N  background 0,unable to generate class balanced samples.\n",
      "N foreground 15838, N  background 0,unable to generate class balanced samples.\n",
      "N foreground 16115, N  background 0,unable to generate class balanced samples.\n",
      "N foreground 14262, N  background 0,unable to generate class balanced samples.\n",
      "N foreground 16438, N  background 0,unable to generate class balanced samples.\n",
      "N foreground 15909, N  background 0,unable to generate class balanced samples.\n",
      "N foreground 16450, N  background 0,unable to generate class balanced samples.\n",
      "N foreground 13958, N  background 0,unable to generate class balanced samples.\n",
      "N foreground 17097, N  background 0,unable to generate class balanced samples.\n",
      "N foreground 22593, N  background 0,unable to generate class balanced samples.\n",
      "N foreground 14317, N  background 0,unable to generate class balanced samples.\n",
      "N foreground 10992, N  background 0,unable to generate class balanced samples.\n",
      "N foreground 17716, N  background 0,unable to generate class balanced samples.\n",
      "N foreground 12122, N  background 0,unable to generate class balanced samples.\n",
      "N foreground 10533, N  background 0,unable to generate class balanced samples.\n",
      "N foreground 15184, N  background 0,unable to generate class balanced samples.\n",
      "N foreground 15619, N  background 0,unable to generate class balanced samples.\n",
      "N foreground 16388, N  background 0,unable to generate class balanced samples.\n",
      "N foreground 16682, N  background 0,unable to generate class balanced samples.\n",
      "N foreground 19210, N  background 0,unable to generate class balanced samples.\n",
      "N foreground 13809, N  background 0,unable to generate class balanced samples.\n",
      "N foreground 10474, N  background 0,unable to generate class balanced samples.\n",
      "N foreground 13138, N  background 0,unable to generate class balanced samples.\n",
      "N foreground 14230, N  background 0,unable to generate class balanced samples.\n",
      "N foreground 8935, N  background 0,unable to generate class balanced samples.\n",
      "N foreground 13064, N  background 0,unable to generate class balanced samples.\n"
     ]
    },
    {
     "name": "stdout",
     "output_type": "stream",
     "text": [
      "1/13, train_loss: 0.1387\n",
      "2/13, train_loss: 0.1712\n",
      "3/13, train_loss: 0.1570\n",
      "4/13, train_loss: 0.1621\n",
      "5/13, train_loss: 0.1519\n",
      "6/13, train_loss: 0.1686\n",
      "7/13, train_loss: 0.1599\n",
      "8/13, train_loss: 0.1707\n",
      "9/13, train_loss: 0.1580\n",
      "10/13, train_loss: 0.1657\n",
      "11/13, train_loss: 0.1565\n",
      "12/13, train_loss: 0.1522\n",
      "13/13, train_loss: 0.1737\n",
      "epoch 126 average loss: 0.1605\n"
     ]
    },
    {
     "name": "stderr",
     "output_type": "stream",
     "text": [
      "N foreground 18264, N  background 0,unable to generate class balanced samples.\n",
      "N foreground 14149, N  background 0,unable to generate class balanced samples.\n",
      "N foreground 13981, N  background 0,unable to generate class balanced samples.\n",
      "N foreground 10539, N  background 0,unable to generate class balanced samples.\n",
      "N foreground 14351, N  background 0,unable to generate class balanced samples.\n",
      "N foreground 16021, N  background 0,unable to generate class balanced samples.\n",
      "N foreground 13080, N  background 0,unable to generate class balanced samples.\n",
      "N foreground 14458, N  background 0,unable to generate class balanced samples.\n",
      "N foreground 14199, N  background 0,unable to generate class balanced samples.\n"
     ]
    },
    {
     "name": "stdout",
     "output_type": "stream",
     "text": [
      "current epoch: 126 current mean dice: 0.8526\n",
      "best mean dice: 0.8563at epoch: 125\n",
      "----------\n",
      "epoch 127/150\n"
     ]
    },
    {
     "name": "stderr",
     "output_type": "stream",
     "text": [
      "N foreground 14262, N  background 0,unable to generate class balanced samples.\n",
      "N foreground 12122, N  background 0,unable to generate class balanced samples.\n",
      "N foreground 10474, N  background 0,unable to generate class balanced samples.\n",
      "N foreground 16115, N  background 0,unable to generate class balanced samples.\n",
      "N foreground 22593, N  background 0,unable to generate class balanced samples.\n",
      "N foreground 14809, N  background 0,unable to generate class balanced samples.\n",
      "N foreground 10533, N  background 0,unable to generate class balanced samples.\n",
      "N foreground 13064, N  background 0,unable to generate class balanced samples.\n",
      "N foreground 19210, N  background 0,unable to generate class balanced samples.\n",
      "N foreground 14317, N  background 0,unable to generate class balanced samples.\n",
      "N foreground 15838, N  background 0,unable to generate class balanced samples.\n",
      "N foreground 16388, N  background 0,unable to generate class balanced samples.\n",
      "N foreground 15909, N  background 0,unable to generate class balanced samples.\n",
      "N foreground 15619, N  background 0,unable to generate class balanced samples.\n",
      "N foreground 10992, N  background 0,unable to generate class balanced samples.\n",
      "N foreground 14230, N  background 0,unable to generate class balanced samples.\n",
      "N foreground 16438, N  background 0,unable to generate class balanced samples.\n",
      "N foreground 16682, N  background 0,unable to generate class balanced samples.\n",
      "N foreground 16450, N  background 0,unable to generate class balanced samples.\n",
      "N foreground 15184, N  background 0,unable to generate class balanced samples.\n",
      "N foreground 17097, N  background 0,unable to generate class balanced samples.\n",
      "N foreground 13958, N  background 0,unable to generate class balanced samples.\n",
      "N foreground 8935, N  background 0,unable to generate class balanced samples.\n",
      "N foreground 13809, N  background 0,unable to generate class balanced samples.\n",
      "N foreground 13138, N  background 0,unable to generate class balanced samples.\n",
      "N foreground 17716, N  background 0,unable to generate class balanced samples.\n"
     ]
    },
    {
     "name": "stdout",
     "output_type": "stream",
     "text": [
      "1/13, train_loss: 0.1671\n",
      "2/13, train_loss: 0.1626\n",
      "3/13, train_loss: 0.1617\n",
      "4/13, train_loss: 0.1491\n",
      "5/13, train_loss: 0.1688\n",
      "6/13, train_loss: 0.1702\n",
      "7/13, train_loss: 0.1529\n",
      "8/13, train_loss: 0.1590\n",
      "9/13, train_loss: 0.1711\n",
      "10/13, train_loss: 0.1570\n",
      "11/13, train_loss: 0.1546\n",
      "12/13, train_loss: 0.1473\n",
      "13/13, train_loss: 0.1705\n",
      "epoch 127 average loss: 0.1609\n"
     ]
    },
    {
     "name": "stderr",
     "output_type": "stream",
     "text": [
      "N foreground 14149, N  background 0,unable to generate class balanced samples.\n",
      "N foreground 18264, N  background 0,unable to generate class balanced samples.\n",
      "N foreground 16021, N  background 0,unable to generate class balanced samples.\n",
      "N foreground 10539, N  background 0,unable to generate class balanced samples.\n",
      "N foreground 13981, N  background 0,unable to generate class balanced samples.\n",
      "N foreground 14351, N  background 0,unable to generate class balanced samples.\n",
      "N foreground 13080, N  background 0,unable to generate class balanced samples.\n",
      "N foreground 14458, N  background 0,unable to generate class balanced samples.\n",
      "N foreground 14199, N  background 0,unable to generate class balanced samples.\n"
     ]
    },
    {
     "name": "stdout",
     "output_type": "stream",
     "text": [
      "current epoch: 127 current mean dice: 0.8533\n",
      "best mean dice: 0.8563at epoch: 125\n",
      "----------\n",
      "epoch 128/150\n"
     ]
    },
    {
     "name": "stderr",
     "output_type": "stream",
     "text": [
      "N foreground 15909, N  background 0,unable to generate class balanced samples.\n",
      "N foreground 10992, N  background 0,unable to generate class balanced samples.\n",
      "N foreground 10474, N  background 0,unable to generate class balanced samples.\n",
      "N foreground 16682, N  background 0,unable to generate class balanced samples.\n",
      "N foreground 13809, N  background 0,unable to generate class balanced samples.\n",
      "N foreground 13138, N  background 0,unable to generate class balanced samples.\n",
      "N foreground 15184, N  background 0,unable to generate class balanced samples.\n",
      "N foreground 14317, N  background 0,unable to generate class balanced samples.\n",
      "N foreground 16438, N  background 0,unable to generate class balanced samples.\n",
      "N foreground 15619, N  background 0,unable to generate class balanced samples.\n",
      "N foreground 16450, N  background 0,unable to generate class balanced samples.\n",
      "N foreground 17097, N  background 0,unable to generate class balanced samples.\n",
      "N foreground 16388, N  background 0,unable to generate class balanced samples.\n",
      "N foreground 19210, N  background 0,unable to generate class balanced samples.\n",
      "N foreground 14809, N  background 0,unable to generate class balanced samples.\n",
      "N foreground 8935, N  background 0,unable to generate class balanced samples.\n",
      "N foreground 17716, N  background 0,unable to generate class balanced samples.\n",
      "N foreground 22593, N  background 0,unable to generate class balanced samples.\n",
      "N foreground 12122, N  background 0,unable to generate class balanced samples.\n",
      "N foreground 16115, N  background 0,unable to generate class balanced samples.\n",
      "N foreground 10533, N  background 0,unable to generate class balanced samples.\n",
      "N foreground 13064, N  background 0,unable to generate class balanced samples.\n",
      "N foreground 13958, N  background 0,unable to generate class balanced samples.\n",
      "N foreground 14262, N  background 0,unable to generate class balanced samples.\n",
      "N foreground 14230, N  background 0,unable to generate class balanced samples.\n",
      "N foreground 15838, N  background 0,unable to generate class balanced samples.\n"
     ]
    },
    {
     "name": "stdout",
     "output_type": "stream",
     "text": [
      "1/13, train_loss: 0.1620\n",
      "2/13, train_loss: 0.1593\n",
      "3/13, train_loss: 0.1496\n",
      "4/13, train_loss: 0.1746\n",
      "5/13, train_loss: 0.1638\n",
      "6/13, train_loss: 0.1583\n",
      "7/13, train_loss: 0.1599\n",
      "8/13, train_loss: 0.1822\n",
      "9/13, train_loss: 0.1465\n",
      "10/13, train_loss: 0.1579\n",
      "11/13, train_loss: 0.1440\n",
      "12/13, train_loss: 0.1605\n",
      "13/13, train_loss: 0.1667\n",
      "epoch 128 average loss: 0.1604\n"
     ]
    },
    {
     "name": "stderr",
     "output_type": "stream",
     "text": [
      "N foreground 14149, N  background 0,unable to generate class balanced samples.\n",
      "N foreground 13080, N  background 0,unable to generate class balanced samples.\n",
      "N foreground 13981, N  background 0,unable to generate class balanced samples.\n",
      "N foreground 14351, N  background 0,unable to generate class balanced samples.\n",
      "N foreground 16021, N  background 0,unable to generate class balanced samples.\n",
      "N foreground 18264, N  background 0,unable to generate class balanced samples.\n",
      "N foreground 10539, N  background 0,unable to generate class balanced samples.\n",
      "N foreground 14458, N  background 0,unable to generate class balanced samples.\n",
      "N foreground 14199, N  background 0,unable to generate class balanced samples.\n"
     ]
    },
    {
     "name": "stdout",
     "output_type": "stream",
     "text": [
      "saved new best metric model\n",
      "current epoch: 128 current mean dice: 0.8571\n",
      "best mean dice: 0.8571at epoch: 128\n",
      "----------\n",
      "epoch 129/150\n"
     ]
    },
    {
     "name": "stderr",
     "output_type": "stream",
     "text": [
      "N foreground 10474, N  background 0,unable to generate class balanced samples.\n",
      "N foreground 10533, N  background 0,unable to generate class balanced samples.\n",
      "N foreground 16450, N  background 0,unable to generate class balanced samples.\n",
      "N foreground 22593, N  background 0,unable to generate class balanced samples.\n",
      "N foreground 15184, N  background 0,unable to generate class balanced samples.\n",
      "N foreground 13809, N  background 0,unable to generate class balanced samples.\n",
      "N foreground 13958, N  background 0,unable to generate class balanced samples.\n",
      "N foreground 19210, N  background 0,unable to generate class balanced samples.\n",
      "N foreground 13138, N  background 0,unable to generate class balanced samples.\n",
      "N foreground 13064, N  background 0,unable to generate class balanced samples.\n",
      "N foreground 10992, N  background 0,unable to generate class balanced samples.\n",
      "N foreground 12122, N  background 0,unable to generate class balanced samples.\n",
      "N foreground 16388, N  background 0,unable to generate class balanced samples.\n",
      "N foreground 16115, N  background 0,unable to generate class balanced samples.\n",
      "N foreground 16682, N  background 0,unable to generate class balanced samples.\n",
      "N foreground 16438, N  background 0,unable to generate class balanced samples.\n",
      "N foreground 17716, N  background 0,unable to generate class balanced samples.\n",
      "N foreground 14230, N  background 0,unable to generate class balanced samples.\n",
      "N foreground 14262, N  background 0,unable to generate class balanced samples.\n",
      "N foreground 15619, N  background 0,unable to generate class balanced samples.\n",
      "N foreground 14809, N  background 0,unable to generate class balanced samples.\n",
      "N foreground 15909, N  background 0,unable to generate class balanced samples.\n",
      "N foreground 8935, N  background 0,unable to generate class balanced samples.\n",
      "N foreground 17097, N  background 0,unable to generate class balanced samples.\n",
      "N foreground 15838, N  background 0,unable to generate class balanced samples.\n",
      "N foreground 14317, N  background 0,unable to generate class balanced samples.\n"
     ]
    },
    {
     "name": "stdout",
     "output_type": "stream",
     "text": [
      "1/13, train_loss: 0.1592\n",
      "2/13, train_loss: 0.1698\n",
      "3/13, train_loss: 0.1472\n",
      "4/13, train_loss: 0.1478\n",
      "5/13, train_loss: 0.1667\n",
      "6/13, train_loss: 0.1589\n",
      "7/13, train_loss: 0.1465\n",
      "8/13, train_loss: 0.1633\n",
      "9/13, train_loss: 0.1721\n",
      "10/13, train_loss: 0.1418\n",
      "11/13, train_loss: 0.1668\n",
      "12/13, train_loss: 0.1460\n",
      "13/13, train_loss: 0.1560\n",
      "epoch 129 average loss: 0.1571\n"
     ]
    },
    {
     "name": "stderr",
     "output_type": "stream",
     "text": [
      "N foreground 10539, N  background 0,unable to generate class balanced samples.\n",
      "N foreground 18264, N  background 0,unable to generate class balanced samples.\n",
      "N foreground 13981, N  background 0,unable to generate class balanced samples.\n",
      "N foreground 16021, N  background 0,unable to generate class balanced samples.\n",
      "N foreground 14351, N  background 0,unable to generate class balanced samples.\n",
      "N foreground 13080, N  background 0,unable to generate class balanced samples.\n",
      "N foreground 14149, N  background 0,unable to generate class balanced samples.\n",
      "N foreground 14458, N  background 0,unable to generate class balanced samples.\n",
      "N foreground 14199, N  background 0,unable to generate class balanced samples.\n"
     ]
    },
    {
     "name": "stdout",
     "output_type": "stream",
     "text": [
      "current epoch: 129 current mean dice: 0.8556\n",
      "best mean dice: 0.8571at epoch: 128\n",
      "----------\n",
      "epoch 130/150\n"
     ]
    },
    {
     "name": "stderr",
     "output_type": "stream",
     "text": [
      "N foreground 13064, N  background 0,unable to generate class balanced samples.\n",
      "N foreground 14262, N  background 0,unable to generate class balanced samples.\n",
      "N foreground 15619, N  background 0,unable to generate class balanced samples.\n",
      "N foreground 13958, N  background 0,unable to generate class balanced samples.\n",
      "N foreground 16388, N  background 0,unable to generate class balanced samples.\n",
      "N foreground 16438, N  background 0,unable to generate class balanced samples.\n",
      "N foreground 13138, N  background 0,unable to generate class balanced samples.\n",
      "N foreground 14317, N  background 0,unable to generate class balanced samples.\n",
      "N foreground 22593, N  background 0,unable to generate class balanced samples.\n",
      "N foreground 12122, N  background 0,unable to generate class balanced samples.\n",
      "N foreground 15184, N  background 0,unable to generate class balanced samples.\n",
      "N foreground 16450, N  background 0,unable to generate class balanced samples.\n",
      "N foreground 17097, N  background 0,unable to generate class balanced samples.\n",
      "N foreground 8935, N  background 0,unable to generate class balanced samples.\n",
      "N foreground 17716, N  background 0,unable to generate class balanced samples.\n",
      "N foreground 16682, N  background 0,unable to generate class balanced samples.\n",
      "N foreground 10992, N  background 0,unable to generate class balanced samples.\n",
      "N foreground 14230, N  background 0,unable to generate class balanced samples.\n",
      "N foreground 16115, N  background 0,unable to generate class balanced samples.\n",
      "N foreground 15909, N  background 0,unable to generate class balanced samples.\n",
      "N foreground 15838, N  background 0,unable to generate class balanced samples.\n",
      "N foreground 13809, N  background 0,unable to generate class balanced samples.\n",
      "N foreground 10474, N  background 0,unable to generate class balanced samples.\n",
      "N foreground 14809, N  background 0,unable to generate class balanced samples.\n",
      "N foreground 10533, N  background 0,unable to generate class balanced samples.\n",
      "N foreground 19210, N  background 0,unable to generate class balanced samples.\n"
     ]
    },
    {
     "name": "stdout",
     "output_type": "stream",
     "text": [
      "1/13, train_loss: 0.1407\n",
      "2/13, train_loss: 0.1566\n",
      "3/13, train_loss: 0.1583\n",
      "4/13, train_loss: 0.1457\n",
      "5/13, train_loss: 0.1509\n",
      "6/13, train_loss: 0.1610\n",
      "7/13, train_loss: 0.1477\n",
      "8/13, train_loss: 0.1710\n",
      "9/13, train_loss: 0.1629\n",
      "10/13, train_loss: 0.1628\n",
      "11/13, train_loss: 0.1662\n",
      "12/13, train_loss: 0.1481\n",
      "13/13, train_loss: 0.1677\n",
      "epoch 130 average loss: 0.1569\n"
     ]
    },
    {
     "name": "stderr",
     "output_type": "stream",
     "text": [
      "N foreground 14351, N  background 0,unable to generate class balanced samples.\n",
      "N foreground 14149, N  background 0,unable to generate class balanced samples.\n",
      "N foreground 18264, N  background 0,unable to generate class balanced samples.\n",
      "N foreground 13981, N  background 0,unable to generate class balanced samples.\n",
      "N foreground 10539, N  background 0,unable to generate class balanced samples.\n",
      "N foreground 16021, N  background 0,unable to generate class balanced samples.\n",
      "N foreground 13080, N  background 0,unable to generate class balanced samples.\n",
      "N foreground 14458, N  background 0,unable to generate class balanced samples.\n",
      "N foreground 14199, N  background 0,unable to generate class balanced samples.\n"
     ]
    },
    {
     "name": "stdout",
     "output_type": "stream",
     "text": [
      "current epoch: 130 current mean dice: 0.8567\n",
      "best mean dice: 0.8571at epoch: 128\n",
      "----------\n",
      "epoch 131/150\n"
     ]
    },
    {
     "name": "stderr",
     "output_type": "stream",
     "text": [
      "N foreground 17097, N  background 0,unable to generate class balanced samples.\n",
      "N foreground 13138, N  background 0,unable to generate class balanced samples.\n",
      "N foreground 15184, N  background 0,unable to generate class balanced samples.\n",
      "N foreground 14230, N  background 0,unable to generate class balanced samples.\n",
      "N foreground 16115, N  background 0,unable to generate class balanced samples.\n",
      "N foreground 10533, N  background 0,unable to generate class balanced samples.\n",
      "N foreground 22593, N  background 0,unable to generate class balanced samples.\n",
      "N foreground 19210, N  background 0,unable to generate class balanced samples.\n",
      "N foreground 16438, N  background 0,unable to generate class balanced samples.\n",
      "N foreground 10474, N  background 0,unable to generate class balanced samples.\n",
      "N foreground 13064, N  background 0,unable to generate class balanced samples.\n",
      "N foreground 12122, N  background 0,unable to generate class balanced samples.\n",
      "N foreground 16682, N  background 0,unable to generate class balanced samples.\n",
      "N foreground 15909, N  background 0,unable to generate class balanced samples.\n",
      "N foreground 16450, N  background 0,unable to generate class balanced samples.\n",
      "N foreground 10992, N  background 0,unable to generate class balanced samples.\n",
      "N foreground 15838, N  background 0,unable to generate class balanced samples.\n",
      "N foreground 16388, N  background 0,unable to generate class balanced samples.\n",
      "N foreground 13809, N  background 0,unable to generate class balanced samples.\n",
      "N foreground 14809, N  background 0,unable to generate class balanced samples.\n",
      "N foreground 15619, N  background 0,unable to generate class balanced samples.\n",
      "N foreground 14317, N  background 0,unable to generate class balanced samples.\n",
      "N foreground 13958, N  background 0,unable to generate class balanced samples.\n",
      "N foreground 17716, N  background 0,unable to generate class balanced samples.\n",
      "N foreground 8935, N  background 0,unable to generate class balanced samples.\n",
      "N foreground 14262, N  background 0,unable to generate class balanced samples.\n"
     ]
    },
    {
     "name": "stdout",
     "output_type": "stream",
     "text": [
      "1/13, train_loss: 0.1575\n",
      "2/13, train_loss: 0.1560\n",
      "3/13, train_loss: 0.1596\n",
      "4/13, train_loss: 0.1500\n",
      "5/13, train_loss: 0.1517\n",
      "6/13, train_loss: 0.1549\n",
      "7/13, train_loss: 0.1554\n",
      "8/13, train_loss: 0.1546\n",
      "9/13, train_loss: 0.1632\n",
      "10/13, train_loss: 0.1365\n",
      "11/13, train_loss: 0.1692\n",
      "12/13, train_loss: 0.1408\n",
      "13/13, train_loss: 0.1596\n",
      "epoch 131 average loss: 0.1545\n"
     ]
    },
    {
     "name": "stderr",
     "output_type": "stream",
     "text": [
      "N foreground 14149, N  background 0,unable to generate class balanced samples.\n",
      "N foreground 10539, N  background 0,unable to generate class balanced samples.\n",
      "N foreground 18264, N  background 0,unable to generate class balanced samples.\n",
      "N foreground 13080, N  background 0,unable to generate class balanced samples.\n",
      "N foreground 14351, N  background 0,unable to generate class balanced samples.\n",
      "N foreground 13981, N  background 0,unable to generate class balanced samples.\n",
      "N foreground 16021, N  background 0,unable to generate class balanced samples.\n",
      "N foreground 14458, N  background 0,unable to generate class balanced samples.\n",
      "N foreground 14199, N  background 0,unable to generate class balanced samples.\n"
     ]
    },
    {
     "name": "stdout",
     "output_type": "stream",
     "text": [
      "saved new best metric model\n",
      "current epoch: 131 current mean dice: 0.8589\n",
      "best mean dice: 0.8589at epoch: 131\n",
      "----------\n",
      "epoch 132/150\n"
     ]
    },
    {
     "name": "stderr",
     "output_type": "stream",
     "text": [
      "N foreground 22593, N  background 0,unable to generate class balanced samples.\n",
      "N foreground 16450, N  background 0,unable to generate class balanced samples.\n",
      "N foreground 13064, N  background 0,unable to generate class balanced samples.\n",
      "N foreground 10533, N  background 0,unable to generate class balanced samples.\n",
      "N foreground 15619, N  background 0,unable to generate class balanced samples.\n",
      "N foreground 16388, N  background 0,unable to generate class balanced samples.\n",
      "N foreground 16438, N  background 0,unable to generate class balanced samples.\n",
      "N foreground 12122, N  background 0,unable to generate class balanced samples.\n",
      "N foreground 14317, N  background 0,unable to generate class balanced samples.\n",
      "N foreground 14230, N  background 0,unable to generate class balanced samples.\n",
      "N foreground 15184, N  background 0,unable to generate class balanced samples.\n",
      "N foreground 8935, N  background 0,unable to generate class balanced samples.\n",
      "N foreground 14262, N  background 0,unable to generate class balanced samples.\n",
      "N foreground 13809, N  background 0,unable to generate class balanced samples.\n",
      "N foreground 13138, N  background 0,unable to generate class balanced samples.\n",
      "N foreground 17097, N  background 0,unable to generate class balanced samples.\n",
      "N foreground 16682, N  background 0,unable to generate class balanced samples.\n",
      "N foreground 14809, N  background 0,unable to generate class balanced samples.\n",
      "N foreground 17716, N  background 0,unable to generate class balanced samples.\n",
      "N foreground 13958, N  background 0,unable to generate class balanced samples.\n",
      "N foreground 15838, N  background 0,unable to generate class balanced samples.\n",
      "N foreground 15909, N  background 0,unable to generate class balanced samples.\n",
      "N foreground 10474, N  background 0,unable to generate class balanced samples.\n",
      "N foreground 19210, N  background 0,unable to generate class balanced samples.\n",
      "N foreground 10992, N  background 0,unable to generate class balanced samples.\n",
      "N foreground 16115, N  background 0,unable to generate class balanced samples.\n"
     ]
    },
    {
     "name": "stdout",
     "output_type": "stream",
     "text": [
      "1/13, train_loss: 0.1412\n",
      "2/13, train_loss: 0.1472\n",
      "3/13, train_loss: 0.1615\n",
      "4/13, train_loss: 0.1663\n",
      "5/13, train_loss: 0.1454\n",
      "6/13, train_loss: 0.1551\n",
      "7/13, train_loss: 0.1434\n",
      "8/13, train_loss: 0.1530\n",
      "9/13, train_loss: 0.1594\n",
      "10/13, train_loss: 0.1417\n",
      "11/13, train_loss: 0.1684\n",
      "12/13, train_loss: 0.1687\n",
      "13/13, train_loss: 0.1617\n",
      "epoch 132 average loss: 0.1548\n"
     ]
    },
    {
     "name": "stderr",
     "output_type": "stream",
     "text": [
      "N foreground 13080, N  background 0,unable to generate class balanced samples.\n",
      "N foreground 14149, N  background 0,unable to generate class balanced samples.\n",
      "N foreground 10539, N  background 0,unable to generate class balanced samples.\n",
      "N foreground 16021, N  background 0,unable to generate class balanced samples.\n",
      "N foreground 18264, N  background 0,unable to generate class balanced samples.\n",
      "N foreground 14351, N  background 0,unable to generate class balanced samples.\n",
      "N foreground 13981, N  background 0,unable to generate class balanced samples.\n",
      "N foreground 14458, N  background 0,unable to generate class balanced samples.\n",
      "N foreground 14199, N  background 0,unable to generate class balanced samples.\n"
     ]
    },
    {
     "name": "stdout",
     "output_type": "stream",
     "text": [
      "current epoch: 132 current mean dice: 0.8556\n",
      "best mean dice: 0.8589at epoch: 131\n",
      "----------\n",
      "epoch 133/150\n"
     ]
    },
    {
     "name": "stderr",
     "output_type": "stream",
     "text": [
      "N foreground 14809, N  background 0,unable to generate class balanced samples.\n",
      "N foreground 8935, N  background 0,unable to generate class balanced samples.\n",
      "N foreground 13809, N  background 0,unable to generate class balanced samples.\n",
      "N foreground 13064, N  background 0,unable to generate class balanced samples.\n",
      "N foreground 19210, N  background 0,unable to generate class balanced samples.\n",
      "N foreground 15619, N  background 0,unable to generate class balanced samples.\n",
      "N foreground 16682, N  background 0,unable to generate class balanced samples.\n",
      "N foreground 17097, N  background 0,unable to generate class balanced samples.\n",
      "N foreground 13138, N  background 0,unable to generate class balanced samples.\n",
      "N foreground 15184, N  background 0,unable to generate class balanced samples.\n",
      "N foreground 22593, N  background 0,unable to generate class balanced samples.\n",
      "N foreground 16115, N  background 0,unable to generate class balanced samples.\n",
      "N foreground 13958, N  background 0,unable to generate class balanced samples.\n",
      "N foreground 12122, N  background 0,unable to generate class balanced samples.\n",
      "N foreground 10992, N  background 0,unable to generate class balanced samples.\n",
      "N foreground 16438, N  background 0,unable to generate class balanced samples.\n",
      "N foreground 15909, N  background 0,unable to generate class balanced samples.\n",
      "N foreground 14317, N  background 0,unable to generate class balanced samples.\n",
      "N foreground 15838, N  background 0,unable to generate class balanced samples.\n",
      "N foreground 10474, N  background 0,unable to generate class balanced samples.\n",
      "N foreground 14262, N  background 0,unable to generate class balanced samples.\n",
      "N foreground 17716, N  background 0,unable to generate class balanced samples.\n",
      "N foreground 16450, N  background 0,unable to generate class balanced samples.\n",
      "N foreground 14230, N  background 0,unable to generate class balanced samples.\n",
      "N foreground 16388, N  background 0,unable to generate class balanced samples.\n",
      "N foreground 10533, N  background 0,unable to generate class balanced samples.\n"
     ]
    },
    {
     "name": "stdout",
     "output_type": "stream",
     "text": [
      "1/13, train_loss: 0.1423\n",
      "2/13, train_loss: 0.1471\n",
      "3/13, train_loss: 0.1467\n",
      "4/13, train_loss: 0.1507\n",
      "5/13, train_loss: 0.1639\n",
      "6/13, train_loss: 0.1703\n",
      "7/13, train_loss: 0.1453\n",
      "8/13, train_loss: 0.1496\n",
      "9/13, train_loss: 0.1423\n",
      "10/13, train_loss: 0.1587\n",
      "11/13, train_loss: 0.1542\n",
      "12/13, train_loss: 0.1651\n",
      "13/13, train_loss: 0.1459\n",
      "epoch 133 average loss: 0.1525\n"
     ]
    },
    {
     "name": "stderr",
     "output_type": "stream",
     "text": [
      "N foreground 18264, N  background 0,unable to generate class balanced samples.\n",
      "N foreground 13080, N  background 0,unable to generate class balanced samples.\n",
      "N foreground 10539, N  background 0,unable to generate class balanced samples.\n",
      "N foreground 16021, N  background 0,unable to generate class balanced samples.\n",
      "N foreground 14149, N  background 0,unable to generate class balanced samples.\n",
      "N foreground 13981, N  background 0,unable to generate class balanced samples.\n",
      "N foreground 14351, N  background 0,unable to generate class balanced samples.\n",
      "N foreground 14458, N  background 0,unable to generate class balanced samples.\n",
      "N foreground 14199, N  background 0,unable to generate class balanced samples.\n"
     ]
    },
    {
     "name": "stdout",
     "output_type": "stream",
     "text": [
      "saved new best metric model\n",
      "current epoch: 133 current mean dice: 0.8602\n",
      "best mean dice: 0.8602at epoch: 133\n",
      "----------\n",
      "epoch 134/150\n"
     ]
    },
    {
     "name": "stderr",
     "output_type": "stream",
     "text": [
      "N foreground 15838, N  background 0,unable to generate class balanced samples.\n",
      "N foreground 14317, N  background 0,unable to generate class balanced samples.\n",
      "N foreground 22593, N  background 0,unable to generate class balanced samples.\n",
      "N foreground 15184, N  background 0,unable to generate class balanced samples.\n",
      "N foreground 13809, N  background 0,unable to generate class balanced samples.\n",
      "N foreground 10474, N  background 0,unable to generate class balanced samples.\n",
      "N foreground 15619, N  background 0,unable to generate class balanced samples.\n",
      "N foreground 19210, N  background 0,unable to generate class balanced samples.\n",
      "N foreground 17716, N  background 0,unable to generate class balanced samples.\n",
      "N foreground 13138, N  background 0,unable to generate class balanced samples.\n",
      "N foreground 16388, N  background 0,unable to generate class balanced samples.\n",
      "N foreground 16115, N  background 0,unable to generate class balanced samples.\n",
      "N foreground 16682, N  background 0,unable to generate class balanced samples.\n",
      "N foreground 12122, N  background 0,unable to generate class balanced samples.\n",
      "N foreground 10992, N  background 0,unable to generate class balanced samples.\n",
      "N foreground 15909, N  background 0,unable to generate class balanced samples.\n",
      "N foreground 13958, N  background 0,unable to generate class balanced samples.\n",
      "N foreground 8935, N  background 0,unable to generate class balanced samples.\n",
      "N foreground 17097, N  background 0,unable to generate class balanced samples.\n",
      "N foreground 14262, N  background 0,unable to generate class balanced samples.\n",
      "N foreground 13064, N  background 0,unable to generate class balanced samples.\n",
      "N foreground 16438, N  background 0,unable to generate class balanced samples.\n",
      "N foreground 10533, N  background 0,unable to generate class balanced samples.\n",
      "N foreground 16450, N  background 0,unable to generate class balanced samples.\n",
      "N foreground 14230, N  background 0,unable to generate class balanced samples.\n",
      "N foreground 14809, N  background 0,unable to generate class balanced samples.\n"
     ]
    },
    {
     "name": "stdout",
     "output_type": "stream",
     "text": [
      "1/13, train_loss: 0.1556\n",
      "2/13, train_loss: 0.1377\n",
      "3/13, train_loss: 0.1528\n",
      "4/13, train_loss: 0.1727\n",
      "5/13, train_loss: 0.1450\n",
      "6/13, train_loss: 0.1554\n",
      "7/13, train_loss: 0.1603\n",
      "8/13, train_loss: 0.1506\n",
      "9/13, train_loss: 0.1529\n",
      "10/13, train_loss: 0.1591\n",
      "11/13, train_loss: 0.1620\n",
      "12/13, train_loss: 0.1398\n",
      "13/13, train_loss: 0.1645\n",
      "epoch 134 average loss: 0.1545\n"
     ]
    },
    {
     "name": "stderr",
     "output_type": "stream",
     "text": [
      "N foreground 14351, N  background 0,unable to generate class balanced samples.\n",
      "N foreground 10539, N  background 0,unable to generate class balanced samples.\n",
      "N foreground 13981, N  background 0,unable to generate class balanced samples.\n",
      "N foreground 18264, N  background 0,unable to generate class balanced samples.\n",
      "N foreground 14149, N  background 0,unable to generate class balanced samples.\n",
      "N foreground 13080, N  background 0,unable to generate class balanced samples.\n",
      "N foreground 16021, N  background 0,unable to generate class balanced samples.\n",
      "N foreground 14458, N  background 0,unable to generate class balanced samples.\n",
      "N foreground 14199, N  background 0,unable to generate class balanced samples.\n"
     ]
    },
    {
     "name": "stdout",
     "output_type": "stream",
     "text": [
      "saved new best metric model\n",
      "current epoch: 134 current mean dice: 0.8609\n",
      "best mean dice: 0.8609at epoch: 134\n",
      "----------\n",
      "epoch 135/150\n"
     ]
    },
    {
     "name": "stderr",
     "output_type": "stream",
     "text": [
      "N foreground 16450, N  background 0,unable to generate class balanced samples.\n",
      "N foreground 14262, N  background 0,unable to generate class balanced samples.\n",
      "N foreground 16682, N  background 0,unable to generate class balanced samples.\n",
      "N foreground 16438, N  background 0,unable to generate class balanced samples.\n",
      "N foreground 22593, N  background 0,unable to generate class balanced samples.\n",
      "N foreground 15909, N  background 0,unable to generate class balanced samples.\n",
      "N foreground 16115, N  background 0,unable to generate class balanced samples.\n",
      "N foreground 14230, N  background 0,unable to generate class balanced samples.\n",
      "N foreground 15619, N  background 0,unable to generate class balanced samples.\n",
      "N foreground 13138, N  background 0,unable to generate class balanced samples.\n",
      "N foreground 16388, N  background 0,unable to generate class balanced samples.\n",
      "N foreground 15184, N  background 0,unable to generate class balanced samples.\n",
      "N foreground 13958, N  background 0,unable to generate class balanced samples.\n",
      "N foreground 13064, N  background 0,unable to generate class balanced samples.\n",
      "N foreground 19210, N  background 0,unable to generate class balanced samples.\n",
      "N foreground 17716, N  background 0,unable to generate class balanced samples.\n",
      "N foreground 14317, N  background 0,unable to generate class balanced samples.\n",
      "N foreground 17097, N  background 0,unable to generate class balanced samples.\n",
      "N foreground 14809, N  background 0,unable to generate class balanced samples.\n",
      "N foreground 15838, N  background 0,unable to generate class balanced samples.\n",
      "N foreground 8935, N  background 0,unable to generate class balanced samples.\n",
      "N foreground 10474, N  background 0,unable to generate class balanced samples.\n",
      "N foreground 10992, N  background 0,unable to generate class balanced samples.\n",
      "N foreground 13809, N  background 0,unable to generate class balanced samples.\n",
      "N foreground 10533, N  background 0,unable to generate class balanced samples.\n",
      "N foreground 12122, N  background 0,unable to generate class balanced samples.\n"
     ]
    },
    {
     "name": "stdout",
     "output_type": "stream",
     "text": [
      "1/13, train_loss: 0.1442\n",
      "2/13, train_loss: 0.1526\n",
      "3/13, train_loss: 0.1523\n",
      "4/13, train_loss: 0.1674\n",
      "5/13, train_loss: 0.1470\n",
      "6/13, train_loss: 0.1555\n",
      "7/13, train_loss: 0.1569\n",
      "8/13, train_loss: 0.1455\n",
      "9/13, train_loss: 0.1533\n",
      "10/13, train_loss: 0.1659\n",
      "11/13, train_loss: 0.1566\n",
      "12/13, train_loss: 0.1617\n",
      "13/13, train_loss: 0.1647\n",
      "epoch 135 average loss: 0.1557\n"
     ]
    },
    {
     "name": "stderr",
     "output_type": "stream",
     "text": [
      "N foreground 14149, N  background 0,unable to generate class balanced samples.\n",
      "N foreground 13981, N  background 0,unable to generate class balanced samples.\n",
      "N foreground 18264, N  background 0,unable to generate class balanced samples.\n",
      "N foreground 13080, N  background 0,unable to generate class balanced samples.\n",
      "N foreground 14351, N  background 0,unable to generate class balanced samples.\n",
      "N foreground 16021, N  background 0,unable to generate class balanced samples.\n",
      "N foreground 10539, N  background 0,unable to generate class balanced samples.\n",
      "N foreground 14458, N  background 0,unable to generate class balanced samples.\n",
      "N foreground 14199, N  background 0,unable to generate class balanced samples.\n"
     ]
    },
    {
     "name": "stdout",
     "output_type": "stream",
     "text": [
      "saved new best metric model\n",
      "current epoch: 135 current mean dice: 0.8616\n",
      "best mean dice: 0.8616at epoch: 135\n",
      "----------\n",
      "epoch 136/150\n"
     ]
    },
    {
     "name": "stderr",
     "output_type": "stream",
     "text": [
      "N foreground 17716, N  background 0,unable to generate class balanced samples.\n",
      "N foreground 19210, N  background 0,unable to generate class balanced samples.\n",
      "N foreground 15184, N  background 0,unable to generate class balanced samples.\n",
      "N foreground 10992, N  background 0,unable to generate class balanced samples.\n",
      "N foreground 12122, N  background 0,unable to generate class balanced samples.\n",
      "N foreground 16388, N  background 0,unable to generate class balanced samples.\n",
      "N foreground 15838, N  background 0,unable to generate class balanced samples.\n",
      "N foreground 22593, N  background 0,unable to generate class balanced samples.\n",
      "N foreground 15619, N  background 0,unable to generate class balanced samples.\n",
      "N foreground 16438, N  background 0,unable to generate class balanced samples.\n",
      "N foreground 13064, N  background 0,unable to generate class balanced samples.\n",
      "N foreground 16115, N  background 0,unable to generate class balanced samples.\n",
      "N foreground 14809, N  background 0,unable to generate class balanced samples.\n",
      "N foreground 16682, N  background 0,unable to generate class balanced samples.\n",
      "N foreground 14317, N  background 0,unable to generate class balanced samples.\n",
      "N foreground 13809, N  background 0,unable to generate class balanced samples.\n",
      "N foreground 15909, N  background 0,unable to generate class balanced samples.\n",
      "N foreground 17097, N  background 0,unable to generate class balanced samples.\n",
      "N foreground 8935, N  background 0,unable to generate class balanced samples.\n",
      "N foreground 14230, N  background 0,unable to generate class balanced samples.\n",
      "N foreground 10474, N  background 0,unable to generate class balanced samples.\n",
      "N foreground 13958, N  background 0,unable to generate class balanced samples.\n",
      "N foreground 10533, N  background 0,unable to generate class balanced samples.\n",
      "N foreground 16450, N  background 0,unable to generate class balanced samples.\n",
      "N foreground 14262, N  background 0,unable to generate class balanced samples.\n",
      "N foreground 13138, N  background 0,unable to generate class balanced samples.\n"
     ]
    },
    {
     "name": "stdout",
     "output_type": "stream",
     "text": [
      "1/13, train_loss: 0.1645\n",
      "2/13, train_loss: 0.1531\n",
      "3/13, train_loss: 0.1557\n",
      "4/13, train_loss: 0.1497\n",
      "5/13, train_loss: 0.1509\n",
      "6/13, train_loss: 0.1567\n",
      "7/13, train_loss: 0.1533\n",
      "8/13, train_loss: 0.1389\n",
      "9/13, train_loss: 0.1682\n",
      "10/13, train_loss: 0.1598\n",
      "11/13, train_loss: 0.1680\n",
      "12/13, train_loss: 0.1617\n",
      "13/13, train_loss: 0.1406\n",
      "epoch 136 average loss: 0.1554\n"
     ]
    },
    {
     "name": "stderr",
     "output_type": "stream",
     "text": [
      "N foreground 13080, N  background 0,unable to generate class balanced samples.\n",
      "N foreground 14149, N  background 0,unable to generate class balanced samples.\n",
      "N foreground 14351, N  background 0,unable to generate class balanced samples.\n",
      "N foreground 16021, N  background 0,unable to generate class balanced samples.\n",
      "N foreground 10539, N  background 0,unable to generate class balanced samples.\n",
      "N foreground 13981, N  background 0,unable to generate class balanced samples.\n",
      "N foreground 18264, N  background 0,unable to generate class balanced samples.\n",
      "N foreground 14458, N  background 0,unable to generate class balanced samples.\n",
      "N foreground 14199, N  background 0,unable to generate class balanced samples.\n"
     ]
    },
    {
     "name": "stdout",
     "output_type": "stream",
     "text": [
      "current epoch: 136 current mean dice: 0.8611\n",
      "best mean dice: 0.8616at epoch: 135\n",
      "----------\n",
      "epoch 137/150\n"
     ]
    },
    {
     "name": "stderr",
     "output_type": "stream",
     "text": [
      "N foreground 14262, N  background 0,unable to generate class balanced samples.\n",
      "N foreground 12122, N  background 0,unable to generate class balanced samples.\n",
      "N foreground 10992, N  background 0,unable to generate class balanced samples.\n",
      "N foreground 13138, N  background 0,unable to generate class balanced samples.\n",
      "N foreground 10474, N  background 0,unable to generate class balanced samples.\n",
      "N foreground 13809, N  background 0,unable to generate class balanced samples.\n",
      "N foreground 13958, N  background 0,unable to generate class balanced samples.\n",
      "N foreground 14809, N  background 0,unable to generate class balanced samples.\n",
      "N foreground 15184, N  background 0,unable to generate class balanced samples.\n",
      "N foreground 10533, N  background 0,unable to generate class balanced samples.\n",
      "N foreground 16682, N  background 0,unable to generate class balanced samples.\n",
      "N foreground 8935, N  background 0,unable to generate class balanced samples.\n",
      "N foreground 17716, N  background 0,unable to generate class balanced samples.\n",
      "N foreground 14230, N  background 0,unable to generate class balanced samples.\n",
      "N foreground 15909, N  background 0,unable to generate class balanced samples.\n",
      "N foreground 19210, N  background 0,unable to generate class balanced samples.\n",
      "N foreground 14317, N  background 0,unable to generate class balanced samples.\n",
      "N foreground 13064, N  background 0,unable to generate class balanced samples.\n",
      "N foreground 16438, N  background 0,unable to generate class balanced samples.\n",
      "N foreground 17097, N  background 0,unable to generate class balanced samples.\n",
      "N foreground 16115, N  background 0,unable to generate class balanced samples.\n",
      "N foreground 15838, N  background 0,unable to generate class balanced samples.\n",
      "N foreground 16450, N  background 0,unable to generate class balanced samples.\n",
      "N foreground 22593, N  background 0,unable to generate class balanced samples.\n",
      "N foreground 15619, N  background 0,unable to generate class balanced samples.\n",
      "N foreground 16388, N  background 0,unable to generate class balanced samples.\n"
     ]
    },
    {
     "name": "stdout",
     "output_type": "stream",
     "text": [
      "1/13, train_loss: 0.1508\n",
      "2/13, train_loss: 0.1482\n",
      "3/13, train_loss: 0.1404\n",
      "4/13, train_loss: 0.1721\n",
      "5/13, train_loss: 0.1520\n",
      "6/13, train_loss: 0.1548\n",
      "7/13, train_loss: 0.1671\n",
      "8/13, train_loss: 0.1691\n",
      "9/13, train_loss: 0.1655\n",
      "10/13, train_loss: 0.1470\n",
      "11/13, train_loss: 0.1513\n",
      "12/13, train_loss: 0.1448\n",
      "13/13, train_loss: 0.1613\n",
      "epoch 137 average loss: 0.1557\n"
     ]
    },
    {
     "name": "stderr",
     "output_type": "stream",
     "text": [
      "N foreground 18264, N  background 0,unable to generate class balanced samples.\n",
      "N foreground 13981, N  background 0,unable to generate class balanced samples.\n",
      "N foreground 14149, N  background 0,unable to generate class balanced samples.\n",
      "N foreground 14351, N  background 0,unable to generate class balanced samples.\n",
      "N foreground 16021, N  background 0,unable to generate class balanced samples.\n",
      "N foreground 13080, N  background 0,unable to generate class balanced samples.\n",
      "N foreground 10539, N  background 0,unable to generate class balanced samples.\n",
      "N foreground 14458, N  background 0,unable to generate class balanced samples.\n",
      "N foreground 14199, N  background 0,unable to generate class balanced samples.\n"
     ]
    },
    {
     "name": "stdout",
     "output_type": "stream",
     "text": [
      "saved new best metric model\n",
      "current epoch: 137 current mean dice: 0.8625\n",
      "best mean dice: 0.8625at epoch: 137\n",
      "----------\n",
      "epoch 138/150\n"
     ]
    },
    {
     "name": "stderr",
     "output_type": "stream",
     "text": [
      "N foreground 16438, N  background 0,unable to generate class balanced samples.\n",
      "N foreground 14262, N  background 0,unable to generate class balanced samples.\n",
      "N foreground 13809, N  background 0,unable to generate class balanced samples.\n",
      "N foreground 15909, N  background 0,unable to generate class balanced samples.\n",
      "N foreground 14809, N  background 0,unable to generate class balanced samples.\n",
      "N foreground 10533, N  background 0,unable to generate class balanced samples.\n",
      "N foreground 14317, N  background 0,unable to generate class balanced samples.\n",
      "N foreground 13064, N  background 0,unable to generate class balanced samples.\n",
      "N foreground 19210, N  background 0,unable to generate class balanced samples.\n",
      "N foreground 8935, N  background 0,unable to generate class balanced samples.\n",
      "N foreground 16115, N  background 0,unable to generate class balanced samples.\n",
      "N foreground 14230, N  background 0,unable to generate class balanced samples.\n",
      "N foreground 16388, N  background 0,unable to generate class balanced samples.\n",
      "N foreground 10992, N  background 0,unable to generate class balanced samples.\n",
      "N foreground 10474, N  background 0,unable to generate class balanced samples.\n",
      "N foreground 12122, N  background 0,unable to generate class balanced samples.\n",
      "N foreground 22593, N  background 0,unable to generate class balanced samples.\n",
      "N foreground 15619, N  background 0,unable to generate class balanced samples.\n",
      "N foreground 17097, N  background 0,unable to generate class balanced samples.\n",
      "N foreground 15184, N  background 0,unable to generate class balanced samples.\n",
      "N foreground 13138, N  background 0,unable to generate class balanced samples.\n",
      "N foreground 16682, N  background 0,unable to generate class balanced samples.\n",
      "N foreground 13958, N  background 0,unable to generate class balanced samples.\n",
      "N foreground 15838, N  background 0,unable to generate class balanced samples.\n",
      "N foreground 17716, N  background 0,unable to generate class balanced samples.\n",
      "N foreground 16450, N  background 0,unable to generate class balanced samples.\n"
     ]
    },
    {
     "name": "stdout",
     "output_type": "stream",
     "text": [
      "1/13, train_loss: 0.1421\n",
      "2/13, train_loss: 0.1658\n",
      "3/13, train_loss: 0.1547\n",
      "4/13, train_loss: 0.1725\n",
      "5/13, train_loss: 0.1561\n",
      "6/13, train_loss: 0.1456\n",
      "7/13, train_loss: 0.1532\n",
      "8/13, train_loss: 0.1594\n",
      "9/13, train_loss: 0.1485\n",
      "10/13, train_loss: 0.1551\n",
      "11/13, train_loss: 0.1540\n",
      "12/13, train_loss: 0.1514\n",
      "13/13, train_loss: 0.1385\n",
      "epoch 138 average loss: 0.1536\n"
     ]
    },
    {
     "name": "stderr",
     "output_type": "stream",
     "text": [
      "N foreground 13981, N  background 0,unable to generate class balanced samples.\n",
      "N foreground 14149, N  background 0,unable to generate class balanced samples.\n",
      "N foreground 13080, N  background 0,unable to generate class balanced samples.\n",
      "N foreground 18264, N  background 0,unable to generate class balanced samples.\n",
      "N foreground 16021, N  background 0,unable to generate class balanced samples.\n",
      "N foreground 10539, N  background 0,unable to generate class balanced samples.\n",
      "N foreground 14351, N  background 0,unable to generate class balanced samples.\n",
      "N foreground 14458, N  background 0,unable to generate class balanced samples.\n",
      "N foreground 14199, N  background 0,unable to generate class balanced samples.\n"
     ]
    },
    {
     "name": "stdout",
     "output_type": "stream",
     "text": [
      "current epoch: 138 current mean dice: 0.8563\n",
      "best mean dice: 0.8625at epoch: 137\n",
      "----------\n",
      "epoch 139/150\n"
     ]
    },
    {
     "name": "stderr",
     "output_type": "stream",
     "text": [
      "N foreground 8935, N  background 0,unable to generate class balanced samples.\n",
      "N foreground 17097, N  background 0,unable to generate class balanced samples.\n",
      "N foreground 15838, N  background 0,unable to generate class balanced samples.\n",
      "N foreground 15619, N  background 0,unable to generate class balanced samples.\n",
      "N foreground 14262, N  background 0,unable to generate class balanced samples.\n",
      "N foreground 16682, N  background 0,unable to generate class balanced samples.\n",
      "N foreground 13958, N  background 0,unable to generate class balanced samples.\n",
      "N foreground 12122, N  background 0,unable to generate class balanced samples.\n",
      "N foreground 16450, N  background 0,unable to generate class balanced samples.\n",
      "N foreground 16388, N  background 0,unable to generate class balanced samples.\n",
      "N foreground 10533, N  background 0,unable to generate class balanced samples.\n",
      "N foreground 16115, N  background 0,unable to generate class balanced samples.\n",
      "N foreground 10992, N  background 0,unable to generate class balanced samples.\n",
      "N foreground 19210, N  background 0,unable to generate class balanced samples.\n",
      "N foreground 14317, N  background 0,unable to generate class balanced samples.\n",
      "N foreground 10474, N  background 0,unable to generate class balanced samples.\n",
      "N foreground 22593, N  background 0,unable to generate class balanced samples.\n",
      "N foreground 14230, N  background 0,unable to generate class balanced samples.\n",
      "N foreground 16438, N  background 0,unable to generate class balanced samples.\n",
      "N foreground 15184, N  background 0,unable to generate class balanced samples.\n",
      "N foreground 15909, N  background 0,unable to generate class balanced samples.\n",
      "N foreground 13138, N  background 0,unable to generate class balanced samples.\n",
      "N foreground 13809, N  background 0,unable to generate class balanced samples.\n",
      "N foreground 17716, N  background 0,unable to generate class balanced samples.\n",
      "N foreground 13064, N  background 0,unable to generate class balanced samples.\n",
      "N foreground 14809, N  background 0,unable to generate class balanced samples.\n"
     ]
    },
    {
     "name": "stdout",
     "output_type": "stream",
     "text": [
      "1/13, train_loss: 0.1543\n",
      "2/13, train_loss: 0.1553\n",
      "3/13, train_loss: 0.1518\n",
      "4/13, train_loss: 0.1506\n",
      "5/13, train_loss: 0.1379\n",
      "6/13, train_loss: 0.1637\n",
      "7/13, train_loss: 0.1522\n",
      "8/13, train_loss: 0.1610\n",
      "9/13, train_loss: 0.1564\n",
      "10/13, train_loss: 0.1511\n",
      "11/13, train_loss: 0.1503\n",
      "12/13, train_loss: 0.1366\n",
      "13/13, train_loss: 0.1335\n",
      "epoch 139 average loss: 0.1504\n"
     ]
    },
    {
     "name": "stderr",
     "output_type": "stream",
     "text": [
      "N foreground 13981, N  background 0,unable to generate class balanced samples.\n",
      "N foreground 13080, N  background 0,unable to generate class balanced samples.\n",
      "N foreground 18264, N  background 0,unable to generate class balanced samples.\n",
      "N foreground 16021, N  background 0,unable to generate class balanced samples.\n",
      "N foreground 14351, N  background 0,unable to generate class balanced samples.\n",
      "N foreground 10539, N  background 0,unable to generate class balanced samples.\n",
      "N foreground 14149, N  background 0,unable to generate class balanced samples.\n",
      "N foreground 14458, N  background 0,unable to generate class balanced samples.\n",
      "N foreground 14199, N  background 0,unable to generate class balanced samples.\n"
     ]
    },
    {
     "name": "stdout",
     "output_type": "stream",
     "text": [
      "current epoch: 139 current mean dice: 0.8531\n",
      "best mean dice: 0.8625at epoch: 137\n",
      "----------\n",
      "epoch 140/150\n"
     ]
    },
    {
     "name": "stderr",
     "output_type": "stream",
     "text": [
      "N foreground 10992, N  background 0,unable to generate class balanced samples.\n",
      "N foreground 13064, N  background 0,unable to generate class balanced samples.\n",
      "N foreground 16115, N  background 0,unable to generate class balanced samples.\n",
      "N foreground 15184, N  background 0,unable to generate class balanced samples.\n",
      "N foreground 16438, N  background 0,unable to generate class balanced samples.\n",
      "N foreground 19210, N  background 0,unable to generate class balanced samples.\n",
      "N foreground 15838, N  background 0,unable to generate class balanced samples.\n",
      "N foreground 13138, N  background 0,unable to generate class balanced samples.\n",
      "N foreground 10474, N  background 0,unable to generate class balanced samples.\n",
      "N foreground 16682, N  background 0,unable to generate class balanced samples.\n",
      "N foreground 17097, N  background 0,unable to generate class balanced samples.\n",
      "N foreground 16450, N  background 0,unable to generate class balanced samples.\n",
      "N foreground 8935, N  background 0,unable to generate class balanced samples.\n",
      "N foreground 13958, N  background 0,unable to generate class balanced samples.\n",
      "N foreground 22593, N  background 0,unable to generate class balanced samples.\n",
      "N foreground 13809, N  background 0,unable to generate class balanced samples.\n",
      "N foreground 14230, N  background 0,unable to generate class balanced samples.\n",
      "N foreground 14262, N  background 0,unable to generate class balanced samples.\n",
      "N foreground 12122, N  background 0,unable to generate class balanced samples.\n",
      "N foreground 17716, N  background 0,unable to generate class balanced samples.\n",
      "N foreground 16388, N  background 0,unable to generate class balanced samples.\n",
      "N foreground 15909, N  background 0,unable to generate class balanced samples.\n",
      "N foreground 14809, N  background 0,unable to generate class balanced samples.\n",
      "N foreground 15619, N  background 0,unable to generate class balanced samples.\n",
      "N foreground 14317, N  background 0,unable to generate class balanced samples.\n",
      "N foreground 10533, N  background 0,unable to generate class balanced samples.\n"
     ]
    },
    {
     "name": "stdout",
     "output_type": "stream",
     "text": [
      "1/13, train_loss: 0.1490\n",
      "2/13, train_loss: 0.1462\n",
      "3/13, train_loss: 0.1476\n",
      "4/13, train_loss: 0.1633\n",
      "5/13, train_loss: 0.1489\n",
      "6/13, train_loss: 0.1601\n",
      "7/13, train_loss: 0.1600\n",
      "8/13, train_loss: 0.1386\n",
      "9/13, train_loss: 0.1545\n",
      "10/13, train_loss: 0.1464\n",
      "11/13, train_loss: 0.1490\n",
      "12/13, train_loss: 0.1504\n",
      "13/13, train_loss: 0.1554\n",
      "epoch 140 average loss: 0.1515\n"
     ]
    },
    {
     "name": "stderr",
     "output_type": "stream",
     "text": [
      "N foreground 13080, N  background 0,unable to generate class balanced samples.\n",
      "N foreground 18264, N  background 0,unable to generate class balanced samples.\n",
      "N foreground 13981, N  background 0,unable to generate class balanced samples.\n",
      "N foreground 16021, N  background 0,unable to generate class balanced samples.\n",
      "N foreground 14149, N  background 0,unable to generate class balanced samples.\n",
      "N foreground 14351, N  background 0,unable to generate class balanced samples.\n",
      "N foreground 10539, N  background 0,unable to generate class balanced samples.\n",
      "N foreground 14458, N  background 0,unable to generate class balanced samples.\n",
      "N foreground 14199, N  background 0,unable to generate class balanced samples.\n"
     ]
    },
    {
     "name": "stdout",
     "output_type": "stream",
     "text": [
      "current epoch: 140 current mean dice: 0.8581\n",
      "best mean dice: 0.8625at epoch: 137\n",
      "----------\n",
      "epoch 141/150\n"
     ]
    },
    {
     "name": "stderr",
     "output_type": "stream",
     "text": [
      "N foreground 12122, N  background 0,unable to generate class balanced samples.\n",
      "N foreground 13958, N  background 0,unable to generate class balanced samples.\n",
      "N foreground 16438, N  background 0,unable to generate class balanced samples.\n",
      "N foreground 15909, N  background 0,unable to generate class balanced samples.\n",
      "N foreground 14262, N  background 0,unable to generate class balanced samples.\n",
      "N foreground 14230, N  background 0,unable to generate class balanced samples.\n",
      "N foreground 17097, N  background 0,unable to generate class balanced samples.\n",
      "N foreground 14809, N  background 0,unable to generate class balanced samples.\n",
      "N foreground 13138, N  background 0,unable to generate class balanced samples.\n",
      "N foreground 16682, N  background 0,unable to generate class balanced samples.\n",
      "N foreground 14317, N  background 0,unable to generate class balanced samples.\n",
      "N foreground 15184, N  background 0,unable to generate class balanced samples.\n",
      "N foreground 10474, N  background 0,unable to generate class balanced samples.\n",
      "N foreground 13064, N  background 0,unable to generate class balanced samples.\n",
      "N foreground 16450, N  background 0,unable to generate class balanced samples.\n",
      "N foreground 17716, N  background 0,unable to generate class balanced samples.\n",
      "N foreground 10533, N  background 0,unable to generate class balanced samples.\n",
      "N foreground 8935, N  background 0,unable to generate class balanced samples.\n",
      "N foreground 15619, N  background 0,unable to generate class balanced samples.\n",
      "N foreground 13809, N  background 0,unable to generate class balanced samples.\n",
      "N foreground 16388, N  background 0,unable to generate class balanced samples.\n",
      "N foreground 22593, N  background 0,unable to generate class balanced samples.\n",
      "N foreground 19210, N  background 0,unable to generate class balanced samples.\n",
      "N foreground 10992, N  background 0,unable to generate class balanced samples.\n",
      "N foreground 15838, N  background 0,unable to generate class balanced samples.\n",
      "N foreground 16115, N  background 0,unable to generate class balanced samples.\n"
     ]
    },
    {
     "name": "stdout",
     "output_type": "stream",
     "text": [
      "1/13, train_loss: 0.1341\n",
      "2/13, train_loss: 0.1455\n",
      "3/13, train_loss: 0.1652\n",
      "4/13, train_loss: 0.1630\n",
      "5/13, train_loss: 0.1575\n",
      "6/13, train_loss: 0.1457\n",
      "7/13, train_loss: 0.1451\n",
      "8/13, train_loss: 0.1431\n",
      "9/13, train_loss: 0.1443\n",
      "10/13, train_loss: 0.1586\n",
      "11/13, train_loss: 0.1514\n",
      "12/13, train_loss: 0.1439\n",
      "13/13, train_loss: 0.1647\n",
      "epoch 141 average loss: 0.1509\n"
     ]
    },
    {
     "name": "stderr",
     "output_type": "stream",
     "text": [
      "N foreground 18264, N  background 0,unable to generate class balanced samples.\n",
      "N foreground 16021, N  background 0,unable to generate class balanced samples.\n",
      "N foreground 14149, N  background 0,unable to generate class balanced samples.\n",
      "N foreground 14458, N  background 0,unable to generate class balanced samples.\n",
      "N foreground 13981, N  background 0,unable to generate class balanced samples.\n",
      "N foreground 13080, N  background 0,unable to generate class balanced samples.\n",
      "N foreground 14351, N  background 0,unable to generate class balanced samples.\n",
      "N foreground 10539, N  background 0,unable to generate class balanced samples.\n",
      "N foreground 14199, N  background 0,unable to generate class balanced samples.\n"
     ]
    },
    {
     "name": "stdout",
     "output_type": "stream",
     "text": [
      "current epoch: 141 current mean dice: 0.8597\n",
      "best mean dice: 0.8625at epoch: 137\n",
      "----------\n",
      "epoch 142/150\n"
     ]
    },
    {
     "name": "stderr",
     "output_type": "stream",
     "text": [
      "N foreground 15909, N  background 0,unable to generate class balanced samples.\n",
      "N foreground 16115, N  background 0,unable to generate class balanced samples.\n",
      "N foreground 13809, N  background 0,unable to generate class balanced samples.\n",
      "N foreground 10992, N  background 0,unable to generate class balanced samples.\n",
      "N foreground 13138, N  background 0,unable to generate class balanced samples.\n",
      "N foreground 10474, N  background 0,unable to generate class balanced samples.\n",
      "N foreground 16682, N  background 0,unable to generate class balanced samples.\n",
      "N foreground 13958, N  background 0,unable to generate class balanced samples.\n",
      "N foreground 10533, N  background 0,unable to generate class balanced samples.\n",
      "N foreground 14809, N  background 0,unable to generate class balanced samples.\n",
      "N foreground 15619, N  background 0,unable to generate class balanced samples.\n",
      "N foreground 8935, N  background 0,unable to generate class balanced samples.\n",
      "N foreground 22593, N  background 0,unable to generate class balanced samples.\n",
      "N foreground 17716, N  background 0,unable to generate class balanced samples.\n",
      "N foreground 13064, N  background 0,unable to generate class balanced samples.\n",
      "N foreground 16388, N  background 0,unable to generate class balanced samples.\n",
      "N foreground 15838, N  background 0,unable to generate class balanced samples.\n",
      "N foreground 14262, N  background 0,unable to generate class balanced samples.\n",
      "N foreground 17097, N  background 0,unable to generate class balanced samples.\n",
      "N foreground 15184, N  background 0,unable to generate class balanced samples.\n",
      "N foreground 14317, N  background 0,unable to generate class balanced samples.\n",
      "N foreground 12122, N  background 0,unable to generate class balanced samples.\n",
      "N foreground 16450, N  background 0,unable to generate class balanced samples.\n",
      "N foreground 16438, N  background 0,unable to generate class balanced samples.\n",
      "N foreground 19210, N  background 0,unable to generate class balanced samples.\n",
      "N foreground 14230, N  background 0,unable to generate class balanced samples.\n"
     ]
    },
    {
     "name": "stdout",
     "output_type": "stream",
     "text": [
      "1/13, train_loss: 0.1360\n",
      "2/13, train_loss: 0.1587\n",
      "3/13, train_loss: 0.1763\n",
      "4/13, train_loss: 0.1413\n",
      "5/13, train_loss: 0.1417\n",
      "6/13, train_loss: 0.1484\n",
      "7/13, train_loss: 0.1645\n",
      "8/13, train_loss: 0.1642\n",
      "9/13, train_loss: 0.1485\n",
      "10/13, train_loss: 0.1541\n",
      "11/13, train_loss: 0.1378\n",
      "12/13, train_loss: 0.1522\n",
      "13/13, train_loss: 0.1551\n",
      "epoch 142 average loss: 0.1522\n"
     ]
    },
    {
     "name": "stderr",
     "output_type": "stream",
     "text": [
      "N foreground 14351, N  background 0,unable to generate class balanced samples.\n",
      "N foreground 14149, N  background 0,unable to generate class balanced samples.\n",
      "N foreground 10539, N  background 0,unable to generate class balanced samples.\n",
      "N foreground 13080, N  background 0,unable to generate class balanced samples.\n",
      "N foreground 13981, N  background 0,unable to generate class balanced samples.\n",
      "N foreground 16021, N  background 0,unable to generate class balanced samples.\n",
      "N foreground 18264, N  background 0,unable to generate class balanced samples.\n",
      "N foreground 14458, N  background 0,unable to generate class balanced samples.\n",
      "N foreground 14199, N  background 0,unable to generate class balanced samples.\n"
     ]
    },
    {
     "name": "stdout",
     "output_type": "stream",
     "text": [
      "current epoch: 142 current mean dice: 0.8574\n",
      "best mean dice: 0.8625at epoch: 137\n",
      "----------\n",
      "epoch 143/150\n"
     ]
    },
    {
     "name": "stderr",
     "output_type": "stream",
     "text": [
      "N foreground 16438, N  background 0,unable to generate class balanced samples.\n",
      "N foreground 13064, N  background 0,unable to generate class balanced samples.\n",
      "N foreground 12122, N  background 0,unable to generate class balanced samples.\n",
      "N foreground 16388, N  background 0,unable to generate class balanced samples.\n",
      "N foreground 14809, N  background 0,unable to generate class balanced samples.\n",
      "N foreground 10992, N  background 0,unable to generate class balanced samples.\n",
      "N foreground 13809, N  background 0,unable to generate class balanced samples.\n",
      "N foreground 10474, N  background 0,unable to generate class balanced samples.\n",
      "N foreground 19210, N  background 0,unable to generate class balanced samples.\n",
      "N foreground 16450, N  background 0,unable to generate class balanced samples.\n",
      "N foreground 15909, N  background 0,unable to generate class balanced samples.\n",
      "N foreground 15619, N  background 0,unable to generate class balanced samples.\n",
      "N foreground 14262, N  background 0,unable to generate class balanced samples.\n",
      "N foreground 17716, N  background 0,unable to generate class balanced samples.\n",
      "N foreground 16115, N  background 0,unable to generate class balanced samples.\n",
      "N foreground 14230, N  background 0,unable to generate class balanced samples.\n",
      "N foreground 17097, N  background 0,unable to generate class balanced samples.\n",
      "N foreground 14317, N  background 0,unable to generate class balanced samples.\n",
      "N foreground 15838, N  background 0,unable to generate class balanced samples.\n",
      "N foreground 15184, N  background 0,unable to generate class balanced samples.\n",
      "N foreground 16682, N  background 0,unable to generate class balanced samples.\n",
      "N foreground 13138, N  background 0,unable to generate class balanced samples.\n",
      "N foreground 8935, N  background 0,unable to generate class balanced samples.\n",
      "N foreground 10533, N  background 0,unable to generate class balanced samples.\n",
      "N foreground 13958, N  background 0,unable to generate class balanced samples.\n",
      "N foreground 22593, N  background 0,unable to generate class balanced samples.\n"
     ]
    },
    {
     "name": "stdout",
     "output_type": "stream",
     "text": [
      "1/13, train_loss: 0.1399\n",
      "2/13, train_loss: 0.1587\n",
      "3/13, train_loss: 0.1346\n",
      "4/13, train_loss: 0.1601\n",
      "5/13, train_loss: 0.1662\n",
      "6/13, train_loss: 0.1406\n",
      "7/13, train_loss: 0.1482\n",
      "8/13, train_loss: 0.1457\n",
      "9/13, train_loss: 0.1687\n",
      "10/13, train_loss: 0.1442\n",
      "11/13, train_loss: 0.1621\n",
      "12/13, train_loss: 0.1456\n",
      "13/13, train_loss: 0.1594\n",
      "epoch 143 average loss: 0.1519\n"
     ]
    },
    {
     "name": "stderr",
     "output_type": "stream",
     "text": [
      "N foreground 13981, N  background 0,unable to generate class balanced samples.\n",
      "N foreground 14351, N  background 0,unable to generate class balanced samples.\n",
      "N foreground 16021, N  background 0,unable to generate class balanced samples.\n",
      "N foreground 14149, N  background 0,unable to generate class balanced samples.\n",
      "N foreground 18264, N  background 0,unable to generate class balanced samples.\n",
      "N foreground 10539, N  background 0,unable to generate class balanced samples.\n",
      "N foreground 13080, N  background 0,unable to generate class balanced samples.\n",
      "N foreground 14458, N  background 0,unable to generate class balanced samples.\n",
      "N foreground 14199, N  background 0,unable to generate class balanced samples.\n"
     ]
    },
    {
     "name": "stdout",
     "output_type": "stream",
     "text": [
      "current epoch: 143 current mean dice: 0.8596\n",
      "best mean dice: 0.8625at epoch: 137\n",
      "----------\n",
      "epoch 144/150\n"
     ]
    },
    {
     "name": "stderr",
     "output_type": "stream",
     "text": [
      "N foreground 17097, N  background 0,unable to generate class balanced samples.\n",
      "N foreground 15838, N  background 0,unable to generate class balanced samples.\n",
      "N foreground 14230, N  background 0,unable to generate class balanced samples.\n",
      "N foreground 15619, N  background 0,unable to generate class balanced samples.\n",
      "N foreground 14262, N  background 0,unable to generate class balanced samples.\n",
      "N foreground 16450, N  background 0,unable to generate class balanced samples.\n",
      "N foreground 15184, N  background 0,unable to generate class balanced samples.\n",
      "N foreground 15909, N  background 0,unable to generate class balanced samples.\n",
      "N foreground 8935, N  background 0,unable to generate class balanced samples.\n",
      "N foreground 16115, N  background 0,unable to generate class balanced samples.\n",
      "N foreground 19210, N  background 0,unable to generate class balanced samples.\n",
      "N foreground 10533, N  background 0,unable to generate class balanced samples.\n",
      "N foreground 12122, N  background 0,unable to generate class balanced samples.\n",
      "N foreground 22593, N  background 0,unable to generate class balanced samples.\n",
      "N foreground 16682, N  background 0,unable to generate class balanced samples.\n",
      "N foreground 14317, N  background 0,unable to generate class balanced samples.\n",
      "N foreground 13809, N  background 0,unable to generate class balanced samples.\n",
      "N foreground 14809, N  background 0,unable to generate class balanced samples.\n",
      "N foreground 16388, N  background 0,unable to generate class balanced samples.\n",
      "N foreground 17716, N  background 0,unable to generate class balanced samples.\n",
      "N foreground 13064, N  background 0,unable to generate class balanced samples.\n",
      "N foreground 13138, N  background 0,unable to generate class balanced samples.\n",
      "N foreground 13958, N  background 0,unable to generate class balanced samples.\n",
      "N foreground 10992, N  background 0,unable to generate class balanced samples.\n",
      "N foreground 10474, N  background 0,unable to generate class balanced samples.\n",
      "N foreground 16438, N  background 0,unable to generate class balanced samples.\n"
     ]
    },
    {
     "name": "stdout",
     "output_type": "stream",
     "text": [
      "1/13, train_loss: 0.1409\n",
      "2/13, train_loss: 0.1549\n",
      "3/13, train_loss: 0.1498\n",
      "4/13, train_loss: 0.1575\n",
      "5/13, train_loss: 0.1557\n",
      "6/13, train_loss: 0.1488\n",
      "7/13, train_loss: 0.1405\n",
      "8/13, train_loss: 0.1573\n",
      "9/13, train_loss: 0.1512\n",
      "10/13, train_loss: 0.1513\n",
      "11/13, train_loss: 0.1445\n",
      "12/13, train_loss: 0.1430\n",
      "13/13, train_loss: 0.1700\n",
      "epoch 144 average loss: 0.1512\n"
     ]
    },
    {
     "name": "stderr",
     "output_type": "stream",
     "text": [
      "N foreground 14149, N  background 0,unable to generate class balanced samples.\n",
      "N foreground 16021, N  background 0,unable to generate class balanced samples.\n",
      "N foreground 10539, N  background 0,unable to generate class balanced samples.\n",
      "N foreground 13981, N  background 0,unable to generate class balanced samples.\n",
      "N foreground 18264, N  background 0,unable to generate class balanced samples.\n",
      "N foreground 14351, N  background 0,unable to generate class balanced samples.\n",
      "N foreground 13080, N  background 0,unable to generate class balanced samples.\n",
      "N foreground 14458, N  background 0,unable to generate class balanced samples.\n",
      "N foreground 14199, N  background 0,unable to generate class balanced samples.\n"
     ]
    },
    {
     "name": "stdout",
     "output_type": "stream",
     "text": [
      "current epoch: 144 current mean dice: 0.8623\n",
      "best mean dice: 0.8625at epoch: 137\n",
      "----------\n",
      "epoch 145/150\n"
     ]
    },
    {
     "name": "stderr",
     "output_type": "stream",
     "text": [
      "N foreground 17716, N  background 0,unable to generate class balanced samples.\n",
      "N foreground 22593, N  background 0,unable to generate class balanced samples.\n",
      "N foreground 15909, N  background 0,unable to generate class balanced samples.\n",
      "N foreground 14809, N  background 0,unable to generate class balanced samples.\n",
      "N foreground 10474, N  background 0,unable to generate class balanced samples.\n",
      "N foreground 15619, N  background 0,unable to generate class balanced samples.\n",
      "N foreground 16450, N  background 0,unable to generate class balanced samples.\n",
      "N foreground 8935, N  background 0,unable to generate class balanced samples.\n",
      "N foreground 16115, N  background 0,unable to generate class balanced samples.\n",
      "N foreground 12122, N  background 0,unable to generate class balanced samples.\n",
      "N foreground 17097, N  background 0,unable to generate class balanced samples.\n",
      "N foreground 16438, N  background 0,unable to generate class balanced samples.\n",
      "N foreground 13958, N  background 0,unable to generate class balanced samples.\n",
      "N foreground 16682, N  background 0,unable to generate class balanced samples.\n",
      "N foreground 13138, N  background 0,unable to generate class balanced samples.\n",
      "N foreground 14230, N  background 0,unable to generate class balanced samples.\n",
      "N foreground 14317, N  background 0,unable to generate class balanced samples.\n",
      "N foreground 15184, N  background 0,unable to generate class balanced samples.\n",
      "N foreground 10992, N  background 0,unable to generate class balanced samples.\n",
      "N foreground 19210, N  background 0,unable to generate class balanced samples.\n",
      "N foreground 13064, N  background 0,unable to generate class balanced samples.\n",
      "N foreground 14262, N  background 0,unable to generate class balanced samples.\n",
      "N foreground 15838, N  background 0,unable to generate class balanced samples.\n",
      "N foreground 13809, N  background 0,unable to generate class balanced samples.\n",
      "N foreground 16388, N  background 0,unable to generate class balanced samples.\n",
      "N foreground 10533, N  background 0,unable to generate class balanced samples.\n"
     ]
    },
    {
     "name": "stdout",
     "output_type": "stream",
     "text": [
      "1/13, train_loss: 0.1489\n",
      "2/13, train_loss: 0.1547\n",
      "3/13, train_loss: 0.1473\n",
      "4/13, train_loss: 0.1432\n",
      "5/13, train_loss: 0.1620\n",
      "6/13, train_loss: 0.1411\n",
      "7/13, train_loss: 0.1662\n",
      "8/13, train_loss: 0.1511\n",
      "9/13, train_loss: 0.1469\n",
      "10/13, train_loss: 0.1577\n",
      "11/13, train_loss: 0.1506\n",
      "12/13, train_loss: 0.1381\n",
      "13/13, train_loss: 0.1506\n",
      "epoch 145 average loss: 0.1506\n"
     ]
    },
    {
     "name": "stderr",
     "output_type": "stream",
     "text": [
      "N foreground 14149, N  background 0,unable to generate class balanced samples.\n",
      "N foreground 18264, N  background 0,unable to generate class balanced samples.\n",
      "N foreground 13981, N  background 0,unable to generate class balanced samples.\n",
      "N foreground 16021, N  background 0,unable to generate class balanced samples.\n",
      "N foreground 14351, N  background 0,unable to generate class balanced samples.\n",
      "N foreground 13080, N  background 0,unable to generate class balanced samples.\n",
      "N foreground 10539, N  background 0,unable to generate class balanced samples.\n",
      "N foreground 14458, N  background 0,unable to generate class balanced samples.\n",
      "N foreground 14199, N  background 0,unable to generate class balanced samples.\n"
     ]
    },
    {
     "name": "stdout",
     "output_type": "stream",
     "text": [
      "current epoch: 145 current mean dice: 0.8574\n",
      "best mean dice: 0.8625at epoch: 137\n",
      "----------\n",
      "epoch 146/150\n"
     ]
    },
    {
     "name": "stderr",
     "output_type": "stream",
     "text": [
      "N foreground 14262, N  background 0,unable to generate class balanced samples.\n",
      "N foreground 16438, N  background 0,unable to generate class balanced samples.\n",
      "N foreground 16682, N  background 0,unable to generate class balanced samples.\n",
      "N foreground 10992, N  background 0,unable to generate class balanced samples.\n",
      "N foreground 10474, N  background 0,unable to generate class balanced samples.\n",
      "N foreground 13809, N  background 0,unable to generate class balanced samples.\n",
      "N foreground 15838, N  background 0,unable to generate class balanced samples.\n",
      "N foreground 14317, N  background 0,unable to generate class balanced samples.\n",
      "N foreground 16388, N  background 0,unable to generate class balanced samples.\n",
      "N foreground 14809, N  background 0,unable to generate class balanced samples.\n",
      "N foreground 16450, N  background 0,unable to generate class balanced samples.\n",
      "N foreground 15619, N  background 0,unable to generate class balanced samples.\n",
      "N foreground 17097, N  background 0,unable to generate class balanced samples.\n",
      "N foreground 19210, N  background 0,unable to generate class balanced samples.\n",
      "N foreground 15184, N  background 0,unable to generate class balanced samples.\n",
      "N foreground 22593, N  background 0,unable to generate class balanced samples.\n",
      "N foreground 13958, N  background 0,unable to generate class balanced samples.\n",
      "N foreground 12122, N  background 0,unable to generate class balanced samples.\n",
      "N foreground 8935, N  background 0,unable to generate class balanced samples.\n",
      "N foreground 16115, N  background 0,unable to generate class balanced samples.\n",
      "N foreground 15909, N  background 0,unable to generate class balanced samples.\n",
      "N foreground 13138, N  background 0,unable to generate class balanced samples.\n",
      "N foreground 14230, N  background 0,unable to generate class balanced samples.\n",
      "N foreground 17716, N  background 0,unable to generate class balanced samples.\n",
      "N foreground 10533, N  background 0,unable to generate class balanced samples.\n",
      "N foreground 13064, N  background 0,unable to generate class balanced samples.\n"
     ]
    },
    {
     "name": "stdout",
     "output_type": "stream",
     "text": [
      "1/13, train_loss: 0.1570\n",
      "2/13, train_loss: 0.1514\n",
      "3/13, train_loss: 0.1560\n",
      "4/13, train_loss: 0.1555\n",
      "5/13, train_loss: 0.1397\n",
      "6/13, train_loss: 0.1387\n",
      "7/13, train_loss: 0.1435\n",
      "8/13, train_loss: 0.1500\n",
      "9/13, train_loss: 0.1445\n",
      "10/13, train_loss: 0.1490\n",
      "11/13, train_loss: 0.1644\n",
      "12/13, train_loss: 0.1604\n",
      "13/13, train_loss: 0.1579\n",
      "epoch 146 average loss: 0.1514\n"
     ]
    },
    {
     "name": "stderr",
     "output_type": "stream",
     "text": [
      "N foreground 18264, N  background 0,unable to generate class balanced samples.\n",
      "N foreground 13981, N  background 0,unable to generate class balanced samples.\n",
      "N foreground 13080, N  background 0,unable to generate class balanced samples.\n",
      "N foreground 16021, N  background 0,unable to generate class balanced samples.\n",
      "N foreground 14351, N  background 0,unable to generate class balanced samples.\n",
      "N foreground 14149, N  background 0,unable to generate class balanced samples.\n",
      "N foreground 10539, N  background 0,unable to generate class balanced samples.\n",
      "N foreground 14458, N  background 0,unable to generate class balanced samples.\n",
      "N foreground 14199, N  background 0,unable to generate class balanced samples.\n"
     ]
    },
    {
     "name": "stdout",
     "output_type": "stream",
     "text": [
      "current epoch: 146 current mean dice: 0.8498\n",
      "best mean dice: 0.8625at epoch: 137\n",
      "----------\n",
      "epoch 147/150\n"
     ]
    },
    {
     "name": "stderr",
     "output_type": "stream",
     "text": [
      "N foreground 15619, N  background 0,unable to generate class balanced samples.\n",
      "N foreground 14230, N  background 0,unable to generate class balanced samples.\n",
      "N foreground 16438, N  background 0,unable to generate class balanced samples.\n",
      "N foreground 19210, N  background 0,unable to generate class balanced samples.\n",
      "N foreground 17097, N  background 0,unable to generate class balanced samples.\n",
      "N foreground 13064, N  background 0,unable to generate class balanced samples.\n",
      "N foreground 22593, N  background 0,unable to generate class balanced samples.\n",
      "N foreground 15909, N  background 0,unable to generate class balanced samples.\n",
      "N foreground 14809, N  background 0,unable to generate class balanced samples.\n",
      "N foreground 10474, N  background 0,unable to generate class balanced samples.\n",
      "N foreground 15838, N  background 0,unable to generate class balanced samples.\n",
      "N foreground 10533, N  background 0,unable to generate class balanced samples.\n",
      "N foreground 14262, N  background 0,unable to generate class balanced samples.\n",
      "N foreground 16450, N  background 0,unable to generate class balanced samples.\n",
      "N foreground 16388, N  background 0,unable to generate class balanced samples.\n",
      "N foreground 16115, N  background 0,unable to generate class balanced samples.\n",
      "N foreground 13138, N  background 0,unable to generate class balanced samples.\n",
      "N foreground 8935, N  background 0,unable to generate class balanced samples.\n",
      "N foreground 14317, N  background 0,unable to generate class balanced samples.\n",
      "N foreground 17716, N  background 0,unable to generate class balanced samples.\n",
      "N foreground 15184, N  background 0,unable to generate class balanced samples.\n",
      "N foreground 13809, N  background 0,unable to generate class balanced samples.\n",
      "N foreground 16682, N  background 0,unable to generate class balanced samples.\n",
      "N foreground 10992, N  background 0,unable to generate class balanced samples.\n",
      "N foreground 12122, N  background 0,unable to generate class balanced samples.\n",
      "N foreground 13958, N  background 0,unable to generate class balanced samples.\n"
     ]
    },
    {
     "name": "stdout",
     "output_type": "stream",
     "text": [
      "1/13, train_loss: 0.1492\n",
      "2/13, train_loss: 0.1514\n",
      "3/13, train_loss: 0.1398\n",
      "4/13, train_loss: 0.1462\n",
      "5/13, train_loss: 0.1548\n",
      "6/13, train_loss: 0.1347\n",
      "7/13, train_loss: 0.1645\n",
      "8/13, train_loss: 0.1649\n",
      "9/13, train_loss: 0.1589\n",
      "10/13, train_loss: 0.1522\n",
      "11/13, train_loss: 0.1597\n",
      "12/13, train_loss: 0.1468\n",
      "13/13, train_loss: 0.1405\n",
      "epoch 147 average loss: 0.1510\n"
     ]
    },
    {
     "name": "stderr",
     "output_type": "stream",
     "text": [
      "N foreground 10539, N  background 0,unable to generate class balanced samples.\n",
      "N foreground 14149, N  background 0,unable to generate class balanced samples.\n",
      "N foreground 18264, N  background 0,unable to generate class balanced samples.\n",
      "N foreground 13981, N  background 0,unable to generate class balanced samples.\n",
      "N foreground 16021, N  background 0,unable to generate class balanced samples.\n",
      "N foreground 14351, N  background 0,unable to generate class balanced samples.\n",
      "N foreground 13080, N  background 0,unable to generate class balanced samples.\n",
      "N foreground 14458, N  background 0,unable to generate class balanced samples.\n",
      "N foreground 14199, N  background 0,unable to generate class balanced samples.\n"
     ]
    },
    {
     "name": "stdout",
     "output_type": "stream",
     "text": [
      "saved new best metric model\n",
      "current epoch: 147 current mean dice: 0.8667\n",
      "best mean dice: 0.8667at epoch: 147\n",
      "----------\n",
      "epoch 148/150\n"
     ]
    },
    {
     "name": "stderr",
     "output_type": "stream",
     "text": [
      "N foreground 17716, N  background 0,unable to generate class balanced samples.\n",
      "N foreground 14809, N  background 0,unable to generate class balanced samples.\n",
      "N foreground 15184, N  background 0,unable to generate class balanced samples.\n",
      "N foreground 13138, N  background 0,unable to generate class balanced samples.\n",
      "N foreground 13809, N  background 0,unable to generate class balanced samples.\n",
      "N foreground 16450, N  background 0,unable to generate class balanced samples.\n",
      "N foreground 22593, N  background 0,unable to generate class balanced samples.\n",
      "N foreground 10533, N  background 0,unable to generate class balanced samples.\n",
      "N foreground 15838, N  background 0,unable to generate class balanced samples.\n",
      "N foreground 14262, N  background 0,unable to generate class balanced samples.\n",
      "N foreground 16115, N  background 0,unable to generate class balanced samples.\n",
      "N foreground 15619, N  background 0,unable to generate class balanced samples.\n",
      "N foreground 16438, N  background 0,unable to generate class balanced samples.\n",
      "N foreground 10474, N  background 0,unable to generate class balanced samples.\n",
      "N foreground 16682, N  background 0,unable to generate class balanced samples.\n",
      "N foreground 16388, N  background 0,unable to generate class balanced samples.\n",
      "N foreground 8935, N  background 0,unable to generate class balanced samples.\n",
      "N foreground 14230, N  background 0,unable to generate class balanced samples.\n",
      "N foreground 19210, N  background 0,unable to generate class balanced samples.\n",
      "N foreground 17097, N  background 0,unable to generate class balanced samples.\n",
      "N foreground 14317, N  background 0,unable to generate class balanced samples.\n",
      "N foreground 15909, N  background 0,unable to generate class balanced samples.\n",
      "N foreground 13958, N  background 0,unable to generate class balanced samples.\n",
      "N foreground 12122, N  background 0,unable to generate class balanced samples.\n",
      "N foreground 10992, N  background 0,unable to generate class balanced samples.\n",
      "N foreground 13064, N  background 0,unable to generate class balanced samples.\n"
     ]
    },
    {
     "name": "stdout",
     "output_type": "stream",
     "text": [
      "1/13, train_loss: 0.1494\n",
      "2/13, train_loss: 0.1423\n",
      "3/13, train_loss: 0.1648\n",
      "4/13, train_loss: 0.1451\n",
      "5/13, train_loss: 0.1356\n",
      "6/13, train_loss: 0.1642\n",
      "7/13, train_loss: 0.1494\n",
      "8/13, train_loss: 0.1447\n",
      "9/13, train_loss: 0.1436\n",
      "10/13, train_loss: 0.1482\n",
      "11/13, train_loss: 0.1567\n",
      "12/13, train_loss: 0.1532\n",
      "13/13, train_loss: 0.1462\n",
      "epoch 148 average loss: 0.1495\n"
     ]
    },
    {
     "name": "stderr",
     "output_type": "stream",
     "text": [
      "N foreground 18264, N  background 0,unable to generate class balanced samples.\n",
      "N foreground 14351, N  background 0,unable to generate class balanced samples.\n",
      "N foreground 10539, N  background 0,unable to generate class balanced samples.\n",
      "N foreground 16021, N  background 0,unable to generate class balanced samples.\n",
      "N foreground 14149, N  background 0,unable to generate class balanced samples.\n",
      "N foreground 13080, N  background 0,unable to generate class balanced samples.\n",
      "N foreground 13981, N  background 0,unable to generate class balanced samples.\n",
      "N foreground 14458, N  background 0,unable to generate class balanced samples.\n",
      "N foreground 14199, N  background 0,unable to generate class balanced samples.\n"
     ]
    },
    {
     "name": "stdout",
     "output_type": "stream",
     "text": [
      "current epoch: 148 current mean dice: 0.8650\n",
      "best mean dice: 0.8667at epoch: 147\n",
      "----------\n",
      "epoch 149/150\n"
     ]
    },
    {
     "name": "stderr",
     "output_type": "stream",
     "text": [
      "N foreground 13958, N  background 0,unable to generate class balanced samples.\n",
      "N foreground 16115, N  background 0,unable to generate class balanced samples.\n",
      "N foreground 14230, N  background 0,unable to generate class balanced samples.\n",
      "N foreground 10474, N  background 0,unable to generate class balanced samples.\n",
      "N foreground 15619, N  background 0,unable to generate class balanced samples.\n",
      "N foreground 22593, N  background 0,unable to generate class balanced samples.\n",
      "N foreground 16682, N  background 0,unable to generate class balanced samples.\n",
      "N foreground 19210, N  background 0,unable to generate class balanced samples.\n",
      "N foreground 13138, N  background 0,unable to generate class balanced samples.\n",
      "N foreground 10533, N  background 0,unable to generate class balanced samples.\n",
      "N foreground 8935, N  background 0,unable to generate class balanced samples.\n",
      "N foreground 17097, N  background 0,unable to generate class balanced samples.\n",
      "N foreground 17716, N  background 0,unable to generate class balanced samples.\n",
      "N foreground 16388, N  background 0,unable to generate class balanced samples.\n",
      "N foreground 14317, N  background 0,unable to generate class balanced samples.\n",
      "N foreground 13809, N  background 0,unable to generate class balanced samples.\n",
      "N foreground 10992, N  background 0,unable to generate class balanced samples.\n",
      "N foreground 13064, N  background 0,unable to generate class balanced samples.\n",
      "N foreground 14809, N  background 0,unable to generate class balanced samples.\n",
      "N foreground 16450, N  background 0,unable to generate class balanced samples.\n",
      "N foreground 16438, N  background 0,unable to generate class balanced samples.\n",
      "N foreground 15838, N  background 0,unable to generate class balanced samples.\n",
      "N foreground 15909, N  background 0,unable to generate class balanced samples.\n",
      "N foreground 15184, N  background 0,unable to generate class balanced samples.\n",
      "N foreground 14262, N  background 0,unable to generate class balanced samples.\n",
      "N foreground 12122, N  background 0,unable to generate class balanced samples.\n"
     ]
    },
    {
     "name": "stdout",
     "output_type": "stream",
     "text": [
      "1/13, train_loss: 0.1516\n",
      "2/13, train_loss: 0.1486\n",
      "3/13, train_loss: 0.1450\n",
      "4/13, train_loss: 0.1505\n",
      "5/13, train_loss: 0.1408\n",
      "6/13, train_loss: 0.1357\n",
      "7/13, train_loss: 0.1543\n",
      "8/13, train_loss: 0.1566\n",
      "9/13, train_loss: 0.1618\n",
      "10/13, train_loss: 0.1427\n",
      "11/13, train_loss: 0.1500\n",
      "12/13, train_loss: 0.1483\n",
      "13/13, train_loss: 0.1452\n",
      "epoch 149 average loss: 0.1486\n"
     ]
    },
    {
     "name": "stderr",
     "output_type": "stream",
     "text": [
      "N foreground 13981, N  background 0,unable to generate class balanced samples.\n",
      "N foreground 14149, N  background 0,unable to generate class balanced samples.\n",
      "N foreground 18264, N  background 0,unable to generate class balanced samples.\n",
      "N foreground 16021, N  background 0,unable to generate class balanced samples.\n",
      "N foreground 13080, N  background 0,unable to generate class balanced samples.\n",
      "N foreground 14351, N  background 0,unable to generate class balanced samples.\n",
      "N foreground 10539, N  background 0,unable to generate class balanced samples.\n",
      "N foreground 14458, N  background 0,unable to generate class balanced samples.\n",
      "N foreground 14199, N  background 0,unable to generate class balanced samples.\n"
     ]
    },
    {
     "name": "stdout",
     "output_type": "stream",
     "text": [
      "current epoch: 149 current mean dice: 0.8665\n",
      "best mean dice: 0.8667at epoch: 147\n",
      "----------\n",
      "epoch 150/150\n"
     ]
    },
    {
     "name": "stderr",
     "output_type": "stream",
     "text": [
      "N foreground 16388, N  background 0,unable to generate class balanced samples.\n",
      "N foreground 14262, N  background 0,unable to generate class balanced samples.\n",
      "N foreground 15184, N  background 0,unable to generate class balanced samples.\n",
      "N foreground 14809, N  background 0,unable to generate class balanced samples.\n",
      "N foreground 16682, N  background 0,unable to generate class balanced samples.\n",
      "N foreground 15619, N  background 0,unable to generate class balanced samples.\n",
      "N foreground 16450, N  background 0,unable to generate class balanced samples.\n",
      "N foreground 12122, N  background 0,unable to generate class balanced samples.\n",
      "N foreground 17097, N  background 0,unable to generate class balanced samples.\n",
      "N foreground 13958, N  background 0,unable to generate class balanced samples.\n",
      "N foreground 8935, N  background 0,unable to generate class balanced samples.\n",
      "N foreground 16115, N  background 0,unable to generate class balanced samples.\n",
      "N foreground 19210, N  background 0,unable to generate class balanced samples.\n",
      "N foreground 15838, N  background 0,unable to generate class balanced samples.\n",
      "N foreground 16438, N  background 0,unable to generate class balanced samples.\n",
      "N foreground 22593, N  background 0,unable to generate class balanced samples.\n",
      "N foreground 14230, N  background 0,unable to generate class balanced samples.\n",
      "N foreground 10533, N  background 0,unable to generate class balanced samples.\n",
      "N foreground 10992, N  background 0,unable to generate class balanced samples.\n",
      "N foreground 10474, N  background 0,unable to generate class balanced samples.\n",
      "N foreground 15909, N  background 0,unable to generate class balanced samples.\n",
      "N foreground 14317, N  background 0,unable to generate class balanced samples.\n",
      "N foreground 17716, N  background 0,unable to generate class balanced samples.\n",
      "N foreground 13138, N  background 0,unable to generate class balanced samples.\n",
      "N foreground 13809, N  background 0,unable to generate class balanced samples.\n",
      "N foreground 13064, N  background 0,unable to generate class balanced samples.\n"
     ]
    },
    {
     "name": "stdout",
     "output_type": "stream",
     "text": [
      "1/13, train_loss: 0.1591\n",
      "2/13, train_loss: 0.1534\n",
      "3/13, train_loss: 0.1594\n",
      "4/13, train_loss: 0.1441\n",
      "5/13, train_loss: 0.1343\n",
      "6/13, train_loss: 0.1552\n",
      "7/13, train_loss: 0.1415\n",
      "8/13, train_loss: 0.1400\n",
      "9/13, train_loss: 0.1421\n",
      "10/13, train_loss: 0.1502\n",
      "11/13, train_loss: 0.1440\n",
      "12/13, train_loss: 0.1336\n",
      "13/13, train_loss: 0.1504\n",
      "epoch 150 average loss: 0.1467\n"
     ]
    },
    {
     "name": "stderr",
     "output_type": "stream",
     "text": [
      "N foreground 14149, N  background 0,unable to generate class balanced samples.\n",
      "N foreground 13080, N  background 0,unable to generate class balanced samples.\n",
      "N foreground 14351, N  background 0,unable to generate class balanced samples.\n",
      "N foreground 10539, N  background 0,unable to generate class balanced samples.\n",
      "N foreground 13981, N  background 0,unable to generate class balanced samples.\n",
      "N foreground 16021, N  background 0,unable to generate class balanced samples.\n",
      "N foreground 18264, N  background 0,unable to generate class balanced samples.\n",
      "N foreground 14458, N  background 0,unable to generate class balanced samples.\n",
      "N foreground 14199, N  background 0,unable to generate class balanced samples.\n"
     ]
    },
    {
     "name": "stdout",
     "output_type": "stream",
     "text": [
      "current epoch: 150 current mean dice: 0.8658\n",
      "best mean dice: 0.8667at epoch: 147\n"
     ]
    }
   ],
   "source": [
    "FILE = \"3dmultilabel_v2.pth\"\n",
    "\n",
    "max_epochs = 150\n",
    "val_interval = 1\n",
    "best_metric = -1\n",
    "best_metric_epoch = -1\n",
    "\n",
    "epoch_train_loss_values = []\n",
    "epoch_validation_loss_values = []\n",
    "metric_values = []\n",
    "\n",
    "post_pred = Compose([AsDiscrete(argmax=True, to_onehot=10)])\n",
    "post_label = Compose([AsDiscrete(to_onehot=10)])\n",
    "\n",
    "for epoch in range(max_epochs):\n",
    "    print(\"-\" * 10)\n",
    "    print(f\"epoch {epoch + 1}/{max_epochs}\")\n",
    "    model.train()\n",
    "    epoch_loss = 0\n",
    "    step = 0\n",
    "    for batch_data in train_loader:\n",
    "        step += 1\n",
    "        inputs, labels = (\n",
    "            batch_data[\"image\"].to(device),\n",
    "            batch_data[\"label\"].to(device),\n",
    "        )\n",
    "\n",
    "        # Forward pass\n",
    "        outputs = model(inputs)\n",
    "        loss = loss_function(outputs, labels)\n",
    "\n",
    "        # Backward and optimize\n",
    "        optimizer.zero_grad()\n",
    "        loss.backward()\n",
    "        optimizer.step()\n",
    "        \n",
    "        epoch_loss += loss.item()\n",
    "        print(\n",
    "            f\"{step}/{len(train_ds) // train_loader.batch_size}, \"\n",
    "            f\"train_loss: {loss.item():.4f}\")\n",
    "    epoch_loss /= step\n",
    "    epoch_train_loss_values.append(epoch_loss)\n",
    "    print(f\"epoch {epoch + 1} average loss: {epoch_loss:.4f}\")\n",
    "\n",
    "    if (epoch + 1) % val_interval == 0:\n",
    "        model.eval()\n",
    "        with torch.no_grad():\n",
    "            step_validation = 0\n",
    "            epoch_validation_loss = 0\n",
    "            for validation_data in validation_loader:\n",
    "                step_validation += 1\n",
    "                validation_inputs, validation_labels = (\n",
    "                    validation_data[\"image\"].to(device),\n",
    "                    validation_data[\"label\"].to(device),\n",
    "                )\n",
    "                roi_size = (160, 160, 160)\n",
    "                sw_batch_size = 4\n",
    "\n",
    "                # Forward pass\n",
    "                validation_predictions = model(validation_inputs)\n",
    "                validation_loss = loss_function(validation_predictions, validation_labels)\n",
    "                epoch_validation_loss += validation_loss.item()\n",
    "\n",
    "                # Inference\n",
    "                validation_outputs = sliding_window_inference(\n",
    "                    validation_inputs, roi_size, sw_batch_size, model)\n",
    "                validation_outputs = [post_pred(i) for i in decollate_batch(validation_outputs)]\n",
    "                validation_labels = [post_label(i) for i in decollate_batch(validation_labels)]\n",
    "                # compute metric for current iteration\n",
    "                dice_metric(y_pred=validation_outputs, y=validation_labels)\n",
    "\n",
    "            epoch_validation_loss /= step_validation\n",
    "            epoch_validation_loss_values.append(epoch_validation_loss)\n",
    "            # aggregate the final mean dice result\n",
    "            metric = dice_metric.aggregate().item()\n",
    "            # reset the status for next validation round\n",
    "            dice_metric.reset()\n",
    "\n",
    "            metric_values.append(metric)\n",
    "            if metric > best_metric:\n",
    "                best_metric = metric\n",
    "                best_metric_epoch = epoch + 1\n",
    "                torch.save(model.state_dict(), os.path.join(\n",
    "                    main_dir, FILE))\n",
    "                print(\"saved new best metric model\")\n",
    "            print(\n",
    "                f\"current epoch: {epoch + 1} current mean dice: {metric:.4f}\"\n",
    "                f\"\\nbest mean dice: {best_metric:.4f}\"\n",
    "                f\"at epoch: {best_metric_epoch}\"\n",
    "            )"
   ]
  },
  {
   "cell_type": "code",
   "execution_count": 10,
   "metadata": {},
   "outputs": [
    {
     "name": "stdout",
     "output_type": "stream",
     "text": [
      "train completed, best_metric: 0.8667 at epoch: 147\n"
     ]
    }
   ],
   "source": [
    "print(f\"train completed, best_metric: {best_metric:.4f} at epoch: {best_metric_epoch}\")"
   ]
  },
  {
   "cell_type": "markdown",
   "metadata": {},
   "source": [
    "### Plot the loss and metric"
   ]
  },
  {
   "cell_type": "code",
   "execution_count": 11,
   "metadata": {},
   "outputs": [
    {
     "data": {
      "image/png": "[encoded data removed]",
      "text/plain": [
       "<Figure size 864x432 with 2 Axes>"
      ]
     },
     "metadata": {
      "needs_background": "light"
     },
     "output_type": "display_data"
    }
   ],
   "source": [
    "plt.figure(\"train\", (12, 6))\n",
    "plt.subplot(1, 2, 1)\n",
    "plt.title(\"Epoch Average Loss\")\n",
    "x = [i + 1 for i in range(len(epoch_train_loss_values))]\n",
    "plt.xlabel(\"epoch\")\n",
    "plt.plot(x, epoch_train_loss_values, label=\"train\")\n",
    "plt.plot(x, epoch_validation_loss_values, label= \"validation\")\n",
    "plt.legend()\n",
    "plt.subplot(1, 2, 2)\n",
    "plt.title(\"Val Mean Dice\")\n",
    "x = [val_interval * (i + 1) for i in range(len(metric_values))]\n",
    "y = metric_values\n",
    "plt.xlabel(\"epoch\")\n",
    "plt.plot(x, y)\n",
    "plt.show()"
   ]
  },
  {
   "cell_type": "markdown",
   "metadata": {},
   "source": [
    "## Inference"
   ]
  },
  {
   "cell_type": "code",
   "execution_count": 12,
   "metadata": {},
   "outputs": [
    {
     "name": "stderr",
     "output_type": "stream",
     "text": [
      "N foreground 13080, N  background 0,unable to generate class balanced samples.\n",
      "N foreground 13981, N  background 0,unable to generate class balanced samples.\n",
      "N foreground 14351, N  background 0,unable to generate class balanced samples.\n",
      "N foreground 14149, N  background 0,unable to generate class balanced samples.\n",
      "N foreground 18264, N  background 0,unable to generate class balanced samples.\n",
      "N foreground 16021, N  background 0,unable to generate class balanced samples.\n",
      "N foreground 10539, N  background 0,unable to generate class balanced samples.\n",
      "N foreground 14458, N  background 0,unable to generate class balanced samples.\n",
      "N foreground 14199, N  background 0,unable to generate class balanced samples.\n"
     ]
    },
    {
     "name": "stdout",
     "output_type": "stream",
     "text": [
      "Total DSC is 0.8668476343154907. \n",
      "Total IoU score is 0.7795029878616333.\n",
      "Dice per class: [0.8896395564079285, 0.8992692232131958, 0.9160619974136353, 0.8916614055633545, 0.9117871522903442, 0.9019656777381897, 0.9160515069961548, 0.8964811563491821]. \n",
      "IoU per class: [0.8049761056900024, 0.8198151588439941, 0.848006010055542, 0.8070598840713501, 0.8394085168838501, 0.8246002793312073, 0.8464964628219604, 0.8150017857551575]\n"
     ]
    },
    {
     "data": {
      "image/png": "[encoded data removed]",
      "text/plain": [
       "<Figure size 1296x432 with 3 Axes>"
      ]
     },
     "metadata": {
      "needs_background": "light"
     },
     "output_type": "display_data"
    }
   ],
   "source": [
    "import SimpleITK as sitk\n",
    "\n",
    "FILE = \"3dmultilabel_v2.pth\"\n",
    "\n",
    "# device = torch.device(\"cuda:0\")\n",
    "# model = UNet(\n",
    "#     spatial_dims = 3,\n",
    "#     in_channels = 1,\n",
    "#     out_channels = 10,\n",
    "#     channels = (16, 32, 64, 128, 256),\n",
    "#     strides = (2, 2, 2, 2),\n",
    "#     num_res_units = 2,\n",
    "#     norm = Norm.BATCH,\n",
    "#     dropout = 0.5\n",
    "# ).to(device)\n",
    "\n",
    "model.load_state_dict(torch.load(\n",
    "    os.path.join(main_dir, FILE)))\n",
    "\n",
    "# IoU metric\n",
    "post_pred = Compose([AsDiscrete(argmax=True, to_onehot=10)])\n",
    "post_label = Compose([AsDiscrete(to_onehot=10)])\n",
    "iou_metric = MeanIoU(include_background=False, reduction=\"mean\")\n",
    "metric_iou_values = []\n",
    "\n",
    "model.eval()\n",
    "\n",
    "test_loader = validation_loader # This is not right, but just to test and compute similarity metrics\n",
    "\n",
    "with torch.no_grad():\n",
    "    for i, val_data in enumerate(test_loader):\n",
    "        test_inputs, test_labels = (\n",
    "            val_data[\"image\"].to(device),\n",
    "            val_data[\"label\"].to(device),\n",
    "        )\n",
    "        roi_size = (160, 160, 160)\n",
    "        sw_batch_size = 4\n",
    "\n",
    "        val_outputs = sliding_window_inference(\n",
    "            test_inputs, roi_size, sw_batch_size, model\n",
    "        )\n",
    "\n",
    "        test_outputs = [post_pred(j) for j in decollate_batch(val_outputs)]\n",
    "        test_labels = [post_label(j) for j in decollate_batch(test_labels)]\n",
    "        iou_metric(y_pred=test_outputs, y=test_labels)\n",
    "        dice_metric(y_pred=test_outputs, y=test_labels)\n",
    "\n",
    "        # plot the slice [:, :, 80]\n",
    "        fig = plt.figure(\"check\", (18, 6))\n",
    "        plt.subplot(1, 3, 1)\n",
    "        plt.title(f\"image {i}\")\n",
    "        plt.imshow(val_data[\"image\"][0, 0, :, :, 70], cmap=\"gray\")\n",
    "        plt.subplot(1, 3, 2)\n",
    "        plt.title(f\"label {i}\")\n",
    "        plt.imshow(val_data[\"label\"][0, 0, :, :, 70])\n",
    "        plt.subplot(1, 3, 3)\n",
    "        plt.title(f\"output {i}\")\n",
    "        plt.imshow(torch.argmax(\n",
    "            val_outputs, dim=1).detach().cpu()[0, :, :, 70])\n",
    "        # print(val_outputs.shape)\n",
    "        im_result = sitk.GetImageFromArray(np.transpose(torch.argmax(val_outputs, dim=1).detach().cpu().numpy(), (3,2,1,0)))\n",
    "        if i == 0:\n",
    "            sitk.WriteImage(im_result, main_dir+'result_'+str(i)+'.nii.gz')\n",
    "        fig.suptitle('Test Monai A-Eye')\n",
    "        # plt.show()\n",
    "    \n",
    "    # aggregate the final mean dice and IoU results\n",
    "    dice_array = dice_metric.get_buffer()\n",
    "    test_metric_dice = dice_metric.aggregate().item()\n",
    "    iou_array = iou_metric.get_buffer() #(9, 10) --> 25 subjects and 10 classes\n",
    "    test_metric_iou = iou_metric.aggregate().item()\n",
    "    print(f\"Total DSC is {test_metric_dice}. \\nTotal IoU score is {test_metric_iou}.\")\n",
    "    \n",
    "    # DSC per class\n",
    "    dice_array_n = dice_array[:,:-1].transpose(0, 1) # to get in each line the IoU of each class (and eliminate NaN values of backgrounf)--> (6, 25)\n",
    "    dice_array_mean = []\n",
    "    for i, val in enumerate(dice_array_n):\n",
    "        dice_array_mean.append(torch.mean(dice_array_n[:, i]).item())\n",
    "\n",
    "    # IoU per class\n",
    "    iou_array_n = iou_array[:,:-1].transpose(0, 1) # to get in each line the IoU of each class (and eliminate NaN values of backgrounf)--> (6, 25)\n",
    "    iou_array_mean = []\n",
    "    for i, val in enumerate(iou_array_n):\n",
    "        iou_array_mean.append(torch.mean(iou_array_n[:, i]).item())\n",
    "\n",
    "    print(f\"Dice per class: {dice_array_mean}. \\nIoU per class: {iou_array_mean}\")"
   ]
  }
 ],
 "metadata": {
  "kernelspec": {
   "display_name": "Python 3.9.12 ('3dmultilabel')",
   "language": "python",
   "name": "python3"
  },
  "language_info": {
   "codemirror_mode": {
    "name": "ipython",
    "version": 3
   },
   "file_extension": ".py",
   "mimetype": "text/x-python",
   "name": "python",
   "nbconvert_exporter": "python",
   "pygments_lexer": "ipython3",
   "version": "3.9.12"
  },
  "orig_nbformat": 4,
  "vscode": {
   "interpreter": {
    "hash": "236677abf66ddcf33094279068f0bab187d6786b2da11104f264e332fab0dfcc"
   }
  }
 },
 "nbformat": 4,
 "nbformat_minor": 2
}

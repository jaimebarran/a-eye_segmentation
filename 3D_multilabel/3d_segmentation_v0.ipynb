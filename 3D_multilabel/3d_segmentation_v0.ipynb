{
 "cells": [
  {
   "cell_type": "markdown",
   "metadata": {},
   "source": [
    "# 3D patch-based segmentation with U-Net\n",
    "\n",
    "Code started from [Francesco's tutorials](https://github.com/FrancescoLR/tutorials)\n",
    "\n"
   ]
  },
  {
   "cell_type": "markdown",
   "metadata": {},
   "source": [
    "## Imports"
   ]
  },
  {
   "cell_type": "code",
   "execution_count": 9,
   "metadata": {},
   "outputs": [
    {
     "name": "stdout",
     "output_type": "stream",
     "text": [
      "MONAI version: 0.9.1rc3\n",
      "Numpy version: 1.23.1\n",
      "Pytorch version: 1.12.1+cu116\n",
      "MONAI flags: HAS_EXT = False, USE_COMPILED = False, USE_META_DICT = False\n",
      "MONAI rev id: 7a5de8b7b9db101a431e70ae2aa8ea7ebb8dfffe\n",
      "MONAI __file__: /home/jaimebarranco/miniconda3/envs/3dmultilabel/lib/python3.9/site-packages/monai/__init__.py\n",
      "\n",
      "Optional dependencies:\n",
      "Pytorch Ignite version: 0.4.9\n",
      "Nibabel version: 4.0.1\n",
      "scikit-image version: 0.19.3\n",
      "Pillow version: 9.2.0\n",
      "Tensorboard version: 2.9.1\n",
      "gdown version: 4.5.1\n",
      "TorchVision version: 0.13.1+cu116\n",
      "tqdm version: 4.64.0\n",
      "lmdb version: 1.3.0\n",
      "psutil version: 5.9.1\n",
      "pandas version: 1.4.3\n",
      "einops version: 0.4.1\n",
      "transformers version: 4.20.1\n",
      "mlflow version: 1.27.0\n",
      "pynrrd version: 0.4.3\n",
      "\n",
      "For details about installing the optional dependencies, please visit:\n",
      "    https://docs.monai.io/en/latest/installation.html#installing-the-recommended-dependencies\n",
      "\n"
     ]
    }
   ],
   "source": [
    "import glob\n",
    "import logging\n",
    "import os\n",
    "from pathlib import Path\n",
    "import shutil\n",
    "import sys\n",
    "import tempfile\n",
    "import matplotlib.pyplot as plt\n",
    "\n",
    "\n",
    "import nibabel as nib\n",
    "import numpy as np\n",
    "from monai.config import print_config\n",
    "from monai.data import ArrayDataset, decollate_batch, DataLoader, CacheDataset, Dataset\n",
    "from monai.losses import DiceLoss\n",
    "from monai.metrics import DiceMetric, MeanIoU, compute_meaniou\n",
    "from monai.inferers import sliding_window_inference\n",
    "from monai.networks.nets import UNet\n",
    "from monai.networks.layers import Norm\n",
    "from monai.transforms import (\n",
    "    AsDiscrete,\n",
    "    Compose,\n",
    "    LoadImaged,\n",
    "    EnsureChannelFirstd,\n",
    "    Orientationd,\n",
    "    Spacingd,\n",
    "    ResizeWithPadOrCropd,\n",
    "    RandCropByPosNegLabeld,\n",
    "    Lambdad,\n",
    "    ScaleIntensityd,\n",
    ")\n",
    "from monai.utils import first\n",
    "\n",
    "import ignite\n",
    "import torch\n",
    "\n",
    "print_config()"
   ]
  },
  {
   "cell_type": "markdown",
   "metadata": {},
   "source": [
    "## Setup \n"
   ]
  },
  {
   "cell_type": "markdown",
   "metadata": {},
   "source": [
    "### Paths and cuda check"
   ]
  },
  {
   "cell_type": "code",
   "execution_count": 10,
   "metadata": {},
   "outputs": [
    {
     "name": "stdout",
     "output_type": "stream",
     "text": [
      "Data directory is: /mnt/sda1/Repos/a-eye/a-eye_preprocessing/ANTs/\n",
      "True\n"
     ]
    }
   ],
   "source": [
    "main_dir = '/mnt/sda1/Repos/a-eye/a-eye_segmentation/3D_multilabel/'\n",
    "data_dir = '/mnt/sda1/Repos/a-eye/a-eye_preprocessing/ANTs/'\n",
    "\n",
    "[print(f\"Data directory is: {data_dir}\") if os.path.isdir(data_dir) else print(\"Check your data directory\")]\n",
    "os.environ['CUDA_LAUNCH_BLOCKING'] = '1'\n",
    "\n",
    "print(torch.cuda.is_available())"
   ]
  },
  {
   "cell_type": "markdown",
   "metadata": {},
   "source": [
    "### Set images and segmentation paths"
   ]
  },
  {
   "cell_type": "code",
   "execution_count": 11,
   "metadata": {},
   "outputs": [
    {
     "name": "stdout",
     "output_type": "stream",
     "text": [
      "Train dataset is composed by 26 subjects and validation by 9.\n"
     ]
    }
   ],
   "source": [
    "train_images_1 = []\n",
    "train_labels_1 = []\n",
    "test_images = []\n",
    "test_labels = []\n",
    "\n",
    "# List of subjects taken for the template construction\n",
    "best_subjects_cc = ['sub-02','sub-03','sub-08','sub-09','sub-20','sub-29','sub-30','sub-33','sub-34'] # 9\n",
    "\n",
    "# List of remaining subjects\n",
    "all_subjects = list()\n",
    "for i in range(35):\n",
    "    all_subjects.append('sub-'+str(i+1).zfill(2))\n",
    "rest_subjects = [elem for elem in all_subjects if elem not in best_subjects_cc]\n",
    "\n",
    "# Train (rest subjects)\n",
    "for i in range(len(rest_subjects)):\n",
    "    input_t1 = data_dir + 'a123/' + rest_subjects[i] + '/input/' + rest_subjects[i] + '_T1.nii.gz'\n",
    "    input_labels = data_dir + 'a123/' + rest_subjects[i] + '/input/' + rest_subjects[i] + '_labels.nii.gz'\n",
    "    train_images_1.append(input_t1)\n",
    "    train_labels_1.append(input_labels)\n",
    "# Train dictionary\n",
    "data_train_dicts_1 = [\n",
    "    {\"image\": image_name, \"label\": label_name}\n",
    "    for image_name, label_name in zip(train_images_1, train_labels_1)\n",
    "]   \n",
    "\n",
    "# Test (best subjects)\n",
    "for i in range(len(best_subjects_cc)):\n",
    "    input_t1 = data_dir + 'a123/' + best_subjects_cc[i] + '/input/' + best_subjects_cc[i] + '_T1.nii.gz'\n",
    "    input_labels = data_dir + 'a123/' + best_subjects_cc[i] + '/input/' + best_subjects_cc[i] + '_labels.nii.gz'\n",
    "    test_images.append(input_t1)\n",
    "    test_labels.append(input_labels)\n",
    "# Test dictionary\n",
    "data_test_dicts = [\n",
    "    {\"image\": image_name, \"label\": label_name}\n",
    "    for image_name, label_name in zip(test_images, test_labels)\n",
    "]\n",
    "\n",
    "print(f\"Train dataset is composed by {len(data_train_dicts_1)} subjects and validation by {len(data_test_dicts)}.\")"
   ]
  },
  {
   "cell_type": "markdown",
   "metadata": {},
   "source": [
    "### Set transforms and dataset"
   ]
  },
  {
   "cell_type": "code",
   "execution_count": 12,
   "metadata": {},
   "outputs": [],
   "source": [
    "# Function to crop the eye from the medical image\n",
    "def masked(data_dict):\n",
    "    eye_mask = (data_dict[\"label\"] != 0)\n",
    "    eye_mask[eye_mask == True] = 1\n",
    "    eye_mask[eye_mask == False] = 0\n",
    "    data_dict[\"image\"] = data_dict[\"image\"] * eye_mask\n",
    "\n",
    "    return data_dict\n",
    "    \n",
    "train_transforms = Compose(\n",
    "    [\n",
    "        LoadImaged(keys=[\"image\", \"label\"]), #Load image file or files from provided path based on reader.\n",
    "        Lambdad(keys=[\"image\"], func=lambda image: torch.nan_to_num(image, nan=0)),\n",
    "        ScaleIntensityd(keys=[\"image\"], ), #Scale the intensity of input image to the given value range (minv, maxv). If minv and maxv and factor not provided, Normalize the data\n",
    "        EnsureChannelFirstd(keys=[\"image\", \"label\"]), #Automatically adjust or add the channel dimension of input data to ensure channel_first shape.\n",
    "        Orientationd(keys=[\"image\", \"label\"], axcodes=\"RAS\"), #Change the input image’s orientation into the specified based on axcodes.\n",
    "        Spacingd(keys=[\"image\", \"label\"], pixdim=(\n",
    "            0.8, 0.8, 0.8), mode=(\"bilinear\", \"nearest\")),\n",
    "        ResizeWithPadOrCropd(keys=[\"image\", \"label\"], spatial_size=(176,176,176)),\n",
    "        masked,\n",
    "        # RandCropByPosNegLabeld( #Crop random fixed sized regions with the center being a foreground or background voxel based on the Pos Neg Ratio. I recommend to use it since improves dice and IoU score\n",
    "        #     keys=[\"image\", \"label\"],\n",
    "        #     label_key=\"label\",\n",
    "        #     spatial_size=(96, 96, 96),\n",
    "        #     pos=1,\n",
    "        #     neg=1,\n",
    "        #     num_samples=4,\n",
    "        #     image_key=\"image\",\n",
    "        #     image_threshold=0,\n",
    "        # ),\n",
    "    ]    \n",
    ")\n",
    "\n",
    "test_transforms = Compose(\n",
    "    [\n",
    "        LoadImaged(keys=[\"image\", \"label\"]),\n",
    "        Lambdad(keys=[\"image\"], func=lambda image: torch.nan_to_num(image, nan=0)),\n",
    "        ScaleIntensityd(keys=[\"image\"],),\n",
    "        EnsureChannelFirstd(keys=[\"image\", \"label\"]),\n",
    "        Orientationd(keys=[\"image\", \"label\"], axcodes=\"RAS\"),\n",
    "        Spacingd(keys=[\"image\", \"label\"], pixdim=(\n",
    "            0.8, 0.8, 0.8), mode=(\"bilinear\", \"nearest\")),\n",
    "        ResizeWithPadOrCropd(keys=[\"image\", \"label\"], spatial_size=(176,176,176)),\n",
    "        masked,\n",
    "        # RandCropByPosNegLabeld( #Crop random fixed sized regions with the center being a foreground or background voxel based on the Pos Neg Ratio. \n",
    "        #     keys=[\"image\", \"label\"],\n",
    "        #     label_key=\"label\",\n",
    "        #     spatial_size=(96, 96, 96),\n",
    "        #     pos=1,\n",
    "        #     neg=1,\n",
    "        #     num_samples=4,\n",
    "        #     image_key=\"image\",\n",
    "        #     image_threshold=0,\n",
    "        # ),\n",
    "    ]\n",
    ")"
   ]
  },
  {
   "cell_type": "markdown",
   "metadata": {},
   "source": [
    "Here we use CacheDataset to accelerate training and validation process, it's 10x faster than the regular Dataset.  \n",
    "To achieve best performance, set `cache_rate=1.0` to cache all the data, if memory is not enough, set lower value.  \n",
    "Users can also set `cache_num` instead of `cache_rate`, will use the minimum value of the 2 settings.  \n",
    "And set `num_workers` to enable multi-threads during caching.  \n",
    "If want to try the regular Dataset, just change to use the commented code below."
   ]
  },
  {
   "cell_type": "code",
   "execution_count": 14,
   "metadata": {},
   "outputs": [
    {
     "name": "stderr",
     "output_type": "stream",
     "text": [
      "Loading dataset: 100%|██████████| 26/26 [00:11<00:00,  2.31it/s]\n",
      "Loading dataset: 100%|██████████| 9/9 [00:04<00:00,  2.14it/s]\n"
     ]
    }
   ],
   "source": [
    "train_ds = CacheDataset(\n",
    "    data=data_train_dicts_1, transform=train_transforms,\n",
    "    cache_rate=1.0, num_workers=8)\n",
    "# train_ds = Dataset(data=train_files, transform=train_transforms)\n",
    "\n",
    "# use batch_size=2 to load images and use RandCropByPosNegLabeld\n",
    "# to generate 2 x 4 images for network training\n",
    "train_loader = DataLoader(train_ds, batch_size=2, shuffle=True, num_workers=8)\n",
    "\n",
    "test_ds = CacheDataset(\n",
    "    data=data_test_dicts, transform=test_transforms, cache_rate=1.0, num_workers=8)\n",
    "# val_ds = Dataset(data=val_files, transform=val_transforms)\n",
    "test_loader = DataLoader(test_ds, batch_size=1, shuffle=False, num_workers=8)"
   ]
  },
  {
   "cell_type": "markdown",
   "metadata": {},
   "source": [
    "#### Check transforms in DataLoader"
   ]
  },
  {
   "cell_type": "code",
   "execution_count": 15,
   "metadata": {},
   "outputs": [
    {
     "name": "stdout",
     "output_type": "stream",
     "text": [
      "image shape: (176, 176, 176), label shape: (176, 176, 176)\n"
     ]
    },
    {
     "data": {
      "image/png": "[encoded data removed]",
      "text/plain": [
       "<Figure size 720x360 with 2 Axes>"
      ]
     },
     "metadata": {
      "needs_background": "light"
     },
     "output_type": "display_data"
    }
   ],
   "source": [
    "check_data = iter(train_loader)\n",
    "train_data = check_data.next() # random\n",
    "image, label = (train_data[\"image\"][0][0], train_data[\"label\"][0][0])\n",
    "print(f\"image shape: {image.shape}, label shape: {label.shape}\")\n",
    "# print(f\"image pixdim: {image.pixdim}\")\n",
    "\n",
    "# plot the slice [:, :, 80]\n",
    "plt.figure(\"check\", (10,5))\n",
    "plt.subplot(1, 2, 1)\n",
    "plt.title(\"image\")\n",
    "plt.imshow(image[:, :, 90], cmap=\"gray\")\n",
    "plt.subplot(1, 2, 2)\n",
    "plt.title(\"label\")\n",
    "plt.imshow(label[:, :, 90])\n",
    "plt.show()\n",
    "#print(len(torch.unique(label)))"
   ]
  },
  {
   "cell_type": "markdown",
   "metadata": {},
   "source": [
    "## Training steps"
   ]
  },
  {
   "cell_type": "markdown",
   "metadata": {},
   "source": [
    "### Create Model, Loss, Optimizer"
   ]
  },
  {
   "cell_type": "code",
   "execution_count": 7,
   "metadata": {},
   "outputs": [],
   "source": [
    "# Create UNet, DiceLoss and Adam optimizer\n",
    "device = torch.device(\"cuda:0\")\n",
    "model = UNet(\n",
    "    spatial_dims = 3,\n",
    "    in_channels = 1,\n",
    "    out_channels = 10,\n",
    "    channels = (16, 32, 64, 128, 256),\n",
    "    strides = (2, 2, 2, 2),\n",
    "    num_res_units = 2,\n",
    "    norm = Norm.BATCH,\n",
    "    dropout = 0.5\n",
    ").to(device)\n",
    "\n",
    "loss_function = DiceLoss(to_onehot_y=True, softmax=True)\n",
    "optimizer = torch.optim.Adam(model.parameters(), 1e-3)\n",
    "dice_metric = DiceMetric(include_background=False, reduction=\"mean\")"
   ]
  },
  {
   "cell_type": "markdown",
   "metadata": {},
   "source": [
    "### Train "
   ]
  },
  {
   "cell_type": "code",
   "execution_count": 8,
   "metadata": {},
   "outputs": [
    {
     "name": "stdout",
     "output_type": "stream",
     "text": [
      "----------\n",
      "epoch 1/150\n",
      "1/13, train_loss: 0.9813\n"
     ]
    },
    {
     "ename": "RuntimeError",
     "evalue": "CUDA out of memory. Tried to allocate 416.00 MiB (GPU 0; 7.79 GiB total capacity; 4.63 GiB already allocated; 274.19 MiB free; 5.09 GiB reserved in total by PyTorch) If reserved memory is >> allocated memory try setting max_split_size_mb to avoid fragmentation.  See documentation for Memory Management and PYTORCH_CUDA_ALLOC_CONF",
     "output_type": "error",
     "traceback": [
      "\u001b[0;31m---------------------------------------------------------------------------\u001b[0m",
      "\u001b[0;31mRuntimeError\u001b[0m                              Traceback (most recent call last)",
      "\u001b[1;32m/mnt/sda1/Repos/a-eye/a-eye_segmentation/3D_multilabel/3d_segmentation_v0.ipynb Cell 19\u001b[0m in \u001b[0;36m<cell line: 15>\u001b[0;34m()\u001b[0m\n\u001b[1;32m     <a href='vscode-notebook-cell:/mnt/sda1/Repos/a-eye/a-eye_segmentation/3D_multilabel/3d_segmentation_v0.ipynb#X24sZmlsZQ%3D%3D?line=27'>28</a>\u001b[0m outputs \u001b[39m=\u001b[39m model(inputs)\n\u001b[1;32m     <a href='vscode-notebook-cell:/mnt/sda1/Repos/a-eye/a-eye_segmentation/3D_multilabel/3d_segmentation_v0.ipynb#X24sZmlsZQ%3D%3D?line=28'>29</a>\u001b[0m loss \u001b[39m=\u001b[39m loss_function(outputs, labels)\n\u001b[0;32m---> <a href='vscode-notebook-cell:/mnt/sda1/Repos/a-eye/a-eye_segmentation/3D_multilabel/3d_segmentation_v0.ipynb#X24sZmlsZQ%3D%3D?line=29'>30</a>\u001b[0m loss\u001b[39m.\u001b[39;49mbackward()\n\u001b[1;32m     <a href='vscode-notebook-cell:/mnt/sda1/Repos/a-eye/a-eye_segmentation/3D_multilabel/3d_segmentation_v0.ipynb#X24sZmlsZQ%3D%3D?line=30'>31</a>\u001b[0m optimizer\u001b[39m.\u001b[39mstep()\n\u001b[1;32m     <a href='vscode-notebook-cell:/mnt/sda1/Repos/a-eye/a-eye_segmentation/3D_multilabel/3d_segmentation_v0.ipynb#X24sZmlsZQ%3D%3D?line=31'>32</a>\u001b[0m epoch_loss \u001b[39m+\u001b[39m\u001b[39m=\u001b[39m loss\u001b[39m.\u001b[39mitem()\n",
      "File \u001b[0;32m~/miniconda3/envs/3dmultilabel/lib/python3.9/site-packages/torch/_tensor.py:388\u001b[0m, in \u001b[0;36mTensor.backward\u001b[0;34m(self, gradient, retain_graph, create_graph, inputs)\u001b[0m\n\u001b[1;32m    341\u001b[0m \u001b[39mr\u001b[39m\u001b[39m\"\"\"Computes the gradient of current tensor w.r.t. graph leaves.\u001b[39;00m\n\u001b[1;32m    342\u001b[0m \n\u001b[1;32m    343\u001b[0m \u001b[39mThe graph is differentiated using the chain rule. If the tensor is\u001b[39;00m\n\u001b[0;32m   (...)\u001b[0m\n\u001b[1;32m    385\u001b[0m \u001b[39m        used to compute the attr::tensors.\u001b[39;00m\n\u001b[1;32m    386\u001b[0m \u001b[39m\"\"\"\u001b[39;00m\n\u001b[1;32m    387\u001b[0m \u001b[39mif\u001b[39;00m has_torch_function_unary(\u001b[39mself\u001b[39m):\n\u001b[0;32m--> 388\u001b[0m     \u001b[39mreturn\u001b[39;00m handle_torch_function(\n\u001b[1;32m    389\u001b[0m         Tensor\u001b[39m.\u001b[39;49mbackward,\n\u001b[1;32m    390\u001b[0m         (\u001b[39mself\u001b[39;49m,),\n\u001b[1;32m    391\u001b[0m         \u001b[39mself\u001b[39;49m,\n\u001b[1;32m    392\u001b[0m         gradient\u001b[39m=\u001b[39;49mgradient,\n\u001b[1;32m    393\u001b[0m         retain_graph\u001b[39m=\u001b[39;49mretain_graph,\n\u001b[1;32m    394\u001b[0m         create_graph\u001b[39m=\u001b[39;49mcreate_graph,\n\u001b[1;32m    395\u001b[0m         inputs\u001b[39m=\u001b[39;49minputs)\n\u001b[1;32m    396\u001b[0m torch\u001b[39m.\u001b[39mautograd\u001b[39m.\u001b[39mbackward(\u001b[39mself\u001b[39m, gradient, retain_graph, create_graph, inputs\u001b[39m=\u001b[39minputs)\n",
      "File \u001b[0;32m~/miniconda3/envs/3dmultilabel/lib/python3.9/site-packages/torch/overrides.py:1498\u001b[0m, in \u001b[0;36mhandle_torch_function\u001b[0;34m(public_api, relevant_args, *args, **kwargs)\u001b[0m\n\u001b[1;32m   1492\u001b[0m     warnings\u001b[39m.\u001b[39mwarn(\u001b[39m\"\u001b[39m\u001b[39mDefining your `__torch_function__ as a plain method is deprecated and \u001b[39m\u001b[39m\"\u001b[39m\n\u001b[1;32m   1493\u001b[0m                   \u001b[39m\"\u001b[39m\u001b[39mwill be an error in future, please define it as a classmethod.\u001b[39m\u001b[39m\"\u001b[39m,\n\u001b[1;32m   1494\u001b[0m                   \u001b[39mDeprecationWarning\u001b[39;00m)\n\u001b[1;32m   1496\u001b[0m \u001b[39m# Use `public_api` instead of `implementation` so __torch_function__\u001b[39;00m\n\u001b[1;32m   1497\u001b[0m \u001b[39m# implementations can do equality/identity comparisons.\u001b[39;00m\n\u001b[0;32m-> 1498\u001b[0m result \u001b[39m=\u001b[39m torch_func_method(public_api, types, args, kwargs)\n\u001b[1;32m   1500\u001b[0m \u001b[39mif\u001b[39;00m result \u001b[39mis\u001b[39;00m \u001b[39mnot\u001b[39;00m \u001b[39mNotImplemented\u001b[39m:\n\u001b[1;32m   1501\u001b[0m     \u001b[39mreturn\u001b[39;00m result\n",
      "File \u001b[0;32m~/miniconda3/envs/3dmultilabel/lib/python3.9/site-packages/monai/data/meta_tensor.py:266\u001b[0m, in \u001b[0;36mMetaTensor.__torch_function__\u001b[0;34m(cls, func, types, args, kwargs)\u001b[0m\n\u001b[1;32m    264\u001b[0m \u001b[39mif\u001b[39;00m kwargs \u001b[39mis\u001b[39;00m \u001b[39mNone\u001b[39;00m:\n\u001b[1;32m    265\u001b[0m     kwargs \u001b[39m=\u001b[39m {}\n\u001b[0;32m--> 266\u001b[0m ret \u001b[39m=\u001b[39m \u001b[39msuper\u001b[39;49m()\u001b[39m.\u001b[39;49m__torch_function__(func, types, args, kwargs)\n\u001b[1;32m    267\u001b[0m \u001b[39m# if `out` has been used as argument, metadata is not copied, nothing to do.\u001b[39;00m\n\u001b[1;32m    268\u001b[0m \u001b[39m# if \"out\" in kwargs:\u001b[39;00m\n\u001b[1;32m    269\u001b[0m \u001b[39m#     return ret\u001b[39;00m\n\u001b[1;32m    270\u001b[0m \u001b[39m# we might have 1 or multiple outputs. Might be MetaTensor, might be something\u001b[39;00m\n\u001b[1;32m    271\u001b[0m \u001b[39m# else (e.g., `__repr__` returns a string).\u001b[39;00m\n\u001b[1;32m    272\u001b[0m \u001b[39m# Convert to list (if necessary), process, and at end remove list if one was added.\u001b[39;00m\n\u001b[1;32m    273\u001b[0m \u001b[39mif\u001b[39;00m (\n\u001b[1;32m    274\u001b[0m     \u001b[39mhasattr\u001b[39m(torch, \u001b[39m\"\u001b[39m\u001b[39mreturn_types\u001b[39m\u001b[39m\"\u001b[39m)\n\u001b[1;32m    275\u001b[0m     \u001b[39mand\u001b[39;00m \u001b[39mhasattr\u001b[39m(func, \u001b[39m\"\u001b[39m\u001b[39m__name__\u001b[39m\u001b[39m\"\u001b[39m)\n\u001b[0;32m   (...)\u001b[0m\n\u001b[1;32m    279\u001b[0m ):\n\u001b[1;32m    280\u001b[0m     \u001b[39m# for torch.max(torch.tensor(1.0), dim=0), the return type is named-tuple like\u001b[39;00m\n",
      "File \u001b[0;32m~/miniconda3/envs/3dmultilabel/lib/python3.9/site-packages/torch/_tensor.py:1121\u001b[0m, in \u001b[0;36mTensor.__torch_function__\u001b[0;34m(cls, func, types, args, kwargs)\u001b[0m\n\u001b[1;32m   1118\u001b[0m     \u001b[39mreturn\u001b[39;00m \u001b[39mNotImplemented\u001b[39m\n\u001b[1;32m   1120\u001b[0m \u001b[39mwith\u001b[39;00m _C\u001b[39m.\u001b[39mDisableTorchFunction():\n\u001b[0;32m-> 1121\u001b[0m     ret \u001b[39m=\u001b[39m func(\u001b[39m*\u001b[39;49margs, \u001b[39m*\u001b[39;49m\u001b[39m*\u001b[39;49mkwargs)\n\u001b[1;32m   1122\u001b[0m     \u001b[39mif\u001b[39;00m func \u001b[39min\u001b[39;00m get_default_nowrap_functions():\n\u001b[1;32m   1123\u001b[0m         \u001b[39mreturn\u001b[39;00m ret\n",
      "File \u001b[0;32m~/miniconda3/envs/3dmultilabel/lib/python3.9/site-packages/torch/_tensor.py:396\u001b[0m, in \u001b[0;36mTensor.backward\u001b[0;34m(self, gradient, retain_graph, create_graph, inputs)\u001b[0m\n\u001b[1;32m    387\u001b[0m \u001b[39mif\u001b[39;00m has_torch_function_unary(\u001b[39mself\u001b[39m):\n\u001b[1;32m    388\u001b[0m     \u001b[39mreturn\u001b[39;00m handle_torch_function(\n\u001b[1;32m    389\u001b[0m         Tensor\u001b[39m.\u001b[39mbackward,\n\u001b[1;32m    390\u001b[0m         (\u001b[39mself\u001b[39m,),\n\u001b[0;32m   (...)\u001b[0m\n\u001b[1;32m    394\u001b[0m         create_graph\u001b[39m=\u001b[39mcreate_graph,\n\u001b[1;32m    395\u001b[0m         inputs\u001b[39m=\u001b[39minputs)\n\u001b[0;32m--> 396\u001b[0m torch\u001b[39m.\u001b[39;49mautograd\u001b[39m.\u001b[39;49mbackward(\u001b[39mself\u001b[39;49m, gradient, retain_graph, create_graph, inputs\u001b[39m=\u001b[39;49minputs)\n",
      "File \u001b[0;32m~/miniconda3/envs/3dmultilabel/lib/python3.9/site-packages/torch/autograd/__init__.py:173\u001b[0m, in \u001b[0;36mbackward\u001b[0;34m(tensors, grad_tensors, retain_graph, create_graph, grad_variables, inputs)\u001b[0m\n\u001b[1;32m    168\u001b[0m     retain_graph \u001b[39m=\u001b[39m create_graph\n\u001b[1;32m    170\u001b[0m \u001b[39m# The reason we repeat same the comment below is that\u001b[39;00m\n\u001b[1;32m    171\u001b[0m \u001b[39m# some Python versions print out the first line of a multi-line function\u001b[39;00m\n\u001b[1;32m    172\u001b[0m \u001b[39m# calls in the traceback and some print out the last line\u001b[39;00m\n\u001b[0;32m--> 173\u001b[0m Variable\u001b[39m.\u001b[39;49m_execution_engine\u001b[39m.\u001b[39;49mrun_backward(  \u001b[39m# Calls into the C++ engine to run the backward pass\u001b[39;49;00m\n\u001b[1;32m    174\u001b[0m     tensors, grad_tensors_, retain_graph, create_graph, inputs,\n\u001b[1;32m    175\u001b[0m     allow_unreachable\u001b[39m=\u001b[39;49m\u001b[39mTrue\u001b[39;49;00m, accumulate_grad\u001b[39m=\u001b[39;49m\u001b[39mTrue\u001b[39;49;00m)\n",
      "\u001b[0;31mRuntimeError\u001b[0m: CUDA out of memory. Tried to allocate 416.00 MiB (GPU 0; 7.79 GiB total capacity; 4.63 GiB already allocated; 274.19 MiB free; 5.09 GiB reserved in total by PyTorch) If reserved memory is >> allocated memory try setting max_split_size_mb to avoid fragmentation.  See documentation for Memory Management and PYTORCH_CUDA_ALLOC_CONF"
     ]
    }
   ],
   "source": [
    "FILE = \"best_metric_model.pth\"\n",
    "\n",
    "max_epochs = 150\n",
    "val_interval = 1\n",
    "best_metric = -1\n",
    "best_metric_epoch = -1\n",
    "\n",
    "epoch_train_loss_values = []\n",
    "epoch_test_loss_values = []\n",
    "metric_values = []\n",
    "\n",
    "post_pred = Compose([AsDiscrete(argmax=True, to_onehot=10)])\n",
    "post_label = Compose([AsDiscrete(to_onehot=10)])\n",
    "\n",
    "for epoch in range(max_epochs):\n",
    "    print(\"-\" * 10)\n",
    "    print(f\"epoch {epoch + 1}/{max_epochs}\")\n",
    "    model.train()\n",
    "    epoch_loss = 0\n",
    "    step = 0\n",
    "    for batch_data in train_loader:\n",
    "        step += 1\n",
    "        inputs, labels = (\n",
    "            batch_data[\"image\"].to(device),\n",
    "            batch_data[\"label\"].to(device),\n",
    "        )\n",
    "        optimizer.zero_grad()\n",
    "        outputs = model(inputs)\n",
    "        loss = loss_function(outputs, labels)\n",
    "        loss.backward()\n",
    "        optimizer.step()\n",
    "        epoch_loss += loss.item()\n",
    "        print(\n",
    "            f\"{step}/{len(train_ds) // train_loader.batch_size}, \"\n",
    "            f\"train_loss: {loss.item():.4f}\")\n",
    "    epoch_loss /= step\n",
    "    epoch_train_loss_values.append(epoch_loss)\n",
    "    print(f\"epoch {epoch + 1} average loss: {epoch_loss:.4f}\")\n",
    "\n",
    "    if (epoch + 1) % val_interval == 0:\n",
    "        model.eval()\n",
    "        with torch.no_grad():\n",
    "            step_test = 0\n",
    "            epoch_test_loss = 0\n",
    "            for test_data in test_loader:\n",
    "                step_test += 1\n",
    "                test_inputs, test_labels = (\n",
    "                    test_data[\"image\"].to(device),\n",
    "                    test_data[\"label\"].to(device),\n",
    "                )\n",
    "                roi_size = (176, 176, 176)\n",
    "                sw_batch_size = 4\n",
    "\n",
    "                test_predictions = model(test_inputs)\n",
    "                test_loss = loss_function(test_predictions, test_labels)\n",
    "                epoch_test_loss += test_loss.item()\n",
    "\n",
    "                test_outputs = sliding_window_inference(\n",
    "                    test_inputs, roi_size, sw_batch_size, model)\n",
    "                test_outputs = [post_pred(i) for i in decollate_batch(test_outputs)]\n",
    "                test_labels = [post_label(i) for i in decollate_batch(test_labels)]\n",
    "                # compute metric for current iteration\n",
    "                dice_metric(y_pred=test_outputs, y=test_labels)\n",
    "\n",
    "            epoch_test_loss /= step_test\n",
    "            epoch_test_loss_values.append(epoch_test_loss)\n",
    "            # aggregate the final mean dice result\n",
    "            metric = dice_metric.aggregate().item()\n",
    "            # reset the status for next validation round\n",
    "            dice_metric.reset()\n",
    "\n",
    "            metric_values.append(metric)\n",
    "            if metric > best_metric:\n",
    "                best_metric = metric\n",
    "                best_metric_epoch = epoch + 1\n",
    "                torch.save(model.state_dict(), os.path.join(\n",
    "                    main_dir, FILE))\n",
    "                print(\"saved new best metric model\")\n",
    "            print(\n",
    "                f\"current epoch: {epoch + 1} current mean dice: {metric:.4f}\"\n",
    "                f\"\\nbest mean dice: {best_metric:.4f} \"\n",
    "                f\"at epoch: {best_metric_epoch}\"\n",
    "            )"
   ]
  },
  {
   "cell_type": "code",
   "execution_count": 9,
   "metadata": {},
   "outputs": [
    {
     "name": "stdout",
     "output_type": "stream",
     "text": [
      "train completed, best_metric: 0.8486 at epoch: 146\n"
     ]
    }
   ],
   "source": [
    "print(f\"train completed, best_metric: {best_metric:.4f} at epoch: {best_metric_epoch}\")"
   ]
  },
  {
   "cell_type": "markdown",
   "metadata": {},
   "source": [
    "### Plot the loss and metric"
   ]
  },
  {
   "cell_type": "code",
   "execution_count": 10,
   "metadata": {},
   "outputs": [
    {
     "data": {
      "image/png": "[encoded data removed]",
      "text/plain": [
       "<Figure size 864x432 with 2 Axes>"
      ]
     },
     "metadata": {
      "needs_background": "light"
     },
     "output_type": "display_data"
    }
   ],
   "source": [
    "plt.figure(\"train\", (12, 6))\n",
    "plt.subplot(1, 2, 1)\n",
    "plt.title(\"Epoch Average Loss\")\n",
    "x = [i + 1 for i in range(len(epoch_train_loss_values))]\n",
    "plt.xlabel(\"epoch\")\n",
    "plt.plot(x, epoch_train_loss_values, label=\"train\")\n",
    "plt.plot(x, epoch_test_loss_values, label= \"test\")\n",
    "plt.legend()\n",
    "plt.subplot(1, 2, 2)\n",
    "plt.title(\"Val Mean Dice\")\n",
    "x = [val_interval * (i + 1) for i in range(len(metric_values))]\n",
    "y = metric_values\n",
    "plt.xlabel(\"epoch\")\n",
    "plt.plot(x, y)\n",
    "plt.show()"
   ]
  },
  {
   "cell_type": "code",
   "execution_count": 16,
   "metadata": {},
   "outputs": [
    {
     "name": "stderr",
     "output_type": "stream",
     "text": [
      "Loading dataset: 100%|██████████| 9/9 [00:00<00:00, 164841.64it/s]\n"
     ]
    },
    {
     "ename": "AttributeError",
     "evalue": "'list' object has no attribute 'to'",
     "output_type": "error",
     "traceback": [
      "\u001b[0;31m---------------------------------------------------------------------------\u001b[0m",
      "\u001b[0;31mAttributeError\u001b[0m                            Traceback (most recent call last)",
      "\u001b[1;32m/mnt/sda1/Repos/a-eye/a-eye_segmentation/3D_multilabel/3d_segmentation_FaBiAN.ipynb Cell 23\u001b[0m in \u001b[0;36m<cell line: 25>\u001b[0;34m()\u001b[0m\n\u001b[1;32m     <a href='vscode-notebook-cell:/mnt/sda1/Repos/a-eye/a-eye_segmentation/3D_multilabel/3d_segmentation_FaBiAN.ipynb#X31sZmlsZQ%3D%3D?line=26'>27</a>\u001b[0m roi_size \u001b[39m=\u001b[39m (\u001b[39m160\u001b[39m, \u001b[39m160\u001b[39m, \u001b[39m160\u001b[39m)\n\u001b[1;32m     <a href='vscode-notebook-cell:/mnt/sda1/Repos/a-eye/a-eye_segmentation/3D_multilabel/3d_segmentation_FaBiAN.ipynb#X31sZmlsZQ%3D%3D?line=27'>28</a>\u001b[0m sw_batch_size \u001b[39m=\u001b[39m \u001b[39m4\u001b[39m\n\u001b[1;32m     <a href='vscode-notebook-cell:/mnt/sda1/Repos/a-eye/a-eye_segmentation/3D_multilabel/3d_segmentation_FaBiAN.ipynb#X31sZmlsZQ%3D%3D?line=28'>29</a>\u001b[0m val_outputs \u001b[39m=\u001b[39m sliding_window_inference(\n\u001b[0;32m---> <a href='vscode-notebook-cell:/mnt/sda1/Repos/a-eye/a-eye_segmentation/3D_multilabel/3d_segmentation_FaBiAN.ipynb#X31sZmlsZQ%3D%3D?line=29'>30</a>\u001b[0m     val_data[\u001b[39m\"\u001b[39;49m\u001b[39mimage\u001b[39;49m\u001b[39m\"\u001b[39;49m]\u001b[39m.\u001b[39;49mto(device), roi_size, sw_batch_size, model\n\u001b[1;32m     <a href='vscode-notebook-cell:/mnt/sda1/Repos/a-eye/a-eye_segmentation/3D_multilabel/3d_segmentation_FaBiAN.ipynb#X31sZmlsZQ%3D%3D?line=30'>31</a>\u001b[0m )\n\u001b[1;32m     <a href='vscode-notebook-cell:/mnt/sda1/Repos/a-eye/a-eye_segmentation/3D_multilabel/3d_segmentation_FaBiAN.ipynb#X31sZmlsZQ%3D%3D?line=31'>32</a>\u001b[0m \u001b[39m# plot the slice [:, :, 80]\u001b[39;00m\n\u001b[1;32m     <a href='vscode-notebook-cell:/mnt/sda1/Repos/a-eye/a-eye_segmentation/3D_multilabel/3d_segmentation_FaBiAN.ipynb#X31sZmlsZQ%3D%3D?line=32'>33</a>\u001b[0m fig \u001b[39m=\u001b[39m plt\u001b[39m.\u001b[39mfigure(\u001b[39m\"\u001b[39m\u001b[39mcheck\u001b[39m\u001b[39m\"\u001b[39m, (\u001b[39m18\u001b[39m, \u001b[39m6\u001b[39m))\n",
      "\u001b[0;31mAttributeError\u001b[0m: 'list' object has no attribute 'to'"
     ]
    }
   ],
   "source": [
    "import SimpleITK as sitk\n",
    "\n",
    "FILE = \"best_metric_model.pth\"\n",
    "\n",
    "# device = torch.device(\"cuda:0\")\n",
    "# model = UNet(\n",
    "#     spatial_dims = 3,\n",
    "#     in_channels = 1,\n",
    "#     out_channels = 10,\n",
    "#     channels = (16, 32, 64, 128, 256),\n",
    "#     strides = (2, 2, 2, 2),\n",
    "#     num_res_units = 2,\n",
    "#     norm = Norm.BATCH,\n",
    "#     dropout = 0.5\n",
    "# ).to(device)\n",
    "\n",
    "model.load_state_dict(torch.load(\n",
    "    os.path.join(main_dir, FILE)))\n",
    "model.eval()\n",
    "with torch.no_grad():\n",
    "    for i, val_data in enumerate(test_loader):\n",
    "        roi_size = (160, 160, 160)\n",
    "        sw_batch_size = 4\n",
    "        val_outputs = sliding_window_inference(\n",
    "            val_data[\"image\"].to(device), roi_size, sw_batch_size, model\n",
    "        )\n",
    "        # plot the slice [:, :, 80]\n",
    "        fig = plt.figure(\"check\", (18, 6))\n",
    "        plt.subplot(1, 3, 1)\n",
    "        plt.title(f\"image {i}\")\n",
    "        plt.imshow(val_data[\"image\"][0, 0, :, :, 60], cmap=\"gray\")\n",
    "        plt.subplot(1, 3, 2)\n",
    "        plt.title(f\"label {i}\")\n",
    "        plt.imshow(val_data[\"label\"][0, 0, :, :, 60])\n",
    "        plt.subplot(1, 3, 3)\n",
    "        plt.title(f\"output {i}\")\n",
    "        plt.imshow(torch.argmax(\n",
    "            val_outputs, dim=1).detach().cpu()[0, :, :, 60])\n",
    "        im_result = sitk.GetImageFromArray(torch.argmax(val_outputs, dim=1).detach().cpu()[0,:,:,:].numpy())\n",
    "        sitk.WriteImage(im_result, main_dir+'result_'+str(i)+'.nii.gz')\n",
    "        fig.suptitle('Test Monai A-Eye')\n",
    "        plt.show()\n",
    "        if i == 2:\n",
    "            break"
   ]
  },
  {
   "cell_type": "markdown",
   "metadata": {},
   "source": [
    "## Another metric: Intersection Over Union (IOU) score on test set\n",
    "\n"
   ]
  },
  {
   "cell_type": "code",
   "execution_count": 11,
   "metadata": {},
   "outputs": [
    {
     "name": "stdout",
     "output_type": "stream",
     "text": [
      "Total IoU score is 0.8087379932403564.\n"
     ]
    }
   ],
   "source": [
    "model.load_state_dict(torch.load(\n",
    "    os.path.join(main_dir, \"best_metric_model.pth\")))\n",
    "\n",
    "post_pred = Compose([AsDiscrete(argmax=True, to_onehot=10)])\n",
    "post_label = Compose([AsDiscrete(to_onehot=10)])\n",
    "\n",
    "iou_metric = MeanIoU(include_background=False, reduction=\"mean\")\n",
    "metric_iou_values = []\n",
    "\n",
    "model.eval()\n",
    "with torch.no_grad():\n",
    "    step_test = 0\n",
    "    for test_data in test_loader:\n",
    "        step_test += 1\n",
    "        test_inputs, test_labels = (\n",
    "            test_data[\"image\"].to(device),\n",
    "            test_data[\"label\"].to(device),\n",
    "        )\n",
    "        roi_size = (160, 160, 160)\n",
    "        sw_batch_size = 4\n",
    "\n",
    "        test_outputs = sliding_window_inference(\n",
    "            test_inputs, roi_size, sw_batch_size, model)\n",
    "        test_outputs = [post_pred(i) for i in decollate_batch(test_outputs)]\n",
    "        test_labels = [post_label(i) for i in decollate_batch(test_labels)]\n",
    "\n",
    "        iou_metric(y_pred=test_outputs, y=test_labels)\n",
    "\n",
    "    # aggregate the final mean dice result\n",
    "    iou_array =iou_metric.get_buffer() #(25, 7) --> 25 subjects and 7 classes\n",
    "    test_metric_iou = iou_metric.aggregate().item()\n",
    "    print(f\"Total IoU score is {test_metric_iou}.\")\n",
    "    # # reset the status for next validation round\n",
    "    # iou_metric.reset()\n",
    "\n",
    "    # metric_iou_values.append(test_metric_iou)"
   ]
  },
  {
   "cell_type": "code",
   "execution_count": 12,
   "metadata": {},
   "outputs": [
    {
     "data": {
      "text/plain": [
       "[nan, nan, nan, nan, nan, 0.7842022776603699, nan, 0.8032330274581909]"
      ]
     },
     "execution_count": 12,
     "metadata": {},
     "output_type": "execute_result"
    }
   ],
   "source": [
    "iou_array_n = iou_array[:,:-1].transpose(0, 1) # to get in each line the IoU of each class (and eliminate NaN values of backgrounf)--> (6, 25)\n",
    "# iou_array_mean = torch.mean(iou_array_n[:, 0])\n",
    "# iou_array_mean\n",
    "iou_array_mean = []\n",
    "for i, val in enumerate(iou_array_n):\n",
    "    iou_array_mean.append(torch.mean(iou_array_n[:, i]).item())\n",
    "\n",
    "\n",
    "iou_array_mean\n",
    "\n"
   ]
  }
 ],
 "metadata": {
  "kernelspec": {
   "display_name": "Python 3.9.12 ('3dmultilabel')",
   "language": "python",
   "name": "python3"
  },
  "language_info": {
   "codemirror_mode": {
    "name": "ipython",
    "version": 3
   },
   "file_extension": ".py",
   "mimetype": "text/x-python",
   "name": "python",
   "nbconvert_exporter": "python",
   "pygments_lexer": "ipython3",
   "version": "3.9.12"
  },
  "orig_nbformat": 4,
  "vscode": {
   "interpreter": {
    "hash": "236677abf66ddcf33094279068f0bab187d6786b2da11104f264e332fab0dfcc"
   }
  }
 },
 "nbformat": 4,
 "nbformat_minor": 2
}

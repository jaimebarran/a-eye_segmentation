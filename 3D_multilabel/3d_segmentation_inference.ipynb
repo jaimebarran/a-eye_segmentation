{
 "cells": [
  {
   "cell_type": "markdown",
   "metadata": {},
   "source": [
    "# 3D patch-based segmentation with U-Net\n",
    "\n",
    "Code started from [Francesco's tutorials](https://github.com/FrancescoLR/tutorials)\n",
    "\n"
   ]
  },
  {
   "cell_type": "markdown",
   "metadata": {},
   "source": [
    "## Imports"
   ]
  },
  {
   "cell_type": "code",
   "execution_count": 1,
   "metadata": {},
   "outputs": [
    {
     "name": "stderr",
     "output_type": "stream",
     "text": [
      "/home/jaimebarranco/miniconda3/envs/3dmultilabel/lib/python3.9/site-packages/tqdm/auto.py:22: TqdmWarning: IProgress not found. Please update jupyter and ipywidgets. See https://ipywidgets.readthedocs.io/en/stable/user_install.html\n",
      "  from .autonotebook import tqdm as notebook_tqdm\n"
     ]
    },
    {
     "name": "stdout",
     "output_type": "stream",
     "text": [
      "MONAI version: 0.9.1rc3\n",
      "Numpy version: 1.22.4\n",
      "Pytorch version: 1.12.1+cu116\n",
      "MONAI flags: HAS_EXT = False, USE_COMPILED = False, USE_META_DICT = False\n",
      "MONAI rev id: 7a5de8b7b9db101a431e70ae2aa8ea7ebb8dfffe\n",
      "MONAI __file__: /home/jaimebarranco/miniconda3/envs/3dmultilabel/lib/python3.9/site-packages/monai/__init__.py\n",
      "\n",
      "Optional dependencies:\n",
      "Pytorch Ignite version: 0.4.9\n",
      "Nibabel version: 4.0.1\n",
      "scikit-image version: 0.19.3\n",
      "Pillow version: 9.2.0\n",
      "Tensorboard version: 2.9.1\n",
      "gdown version: 4.5.1\n",
      "TorchVision version: 0.13.1+cu116\n",
      "tqdm version: 4.64.0\n",
      "lmdb version: 1.3.0\n",
      "psutil version: 5.9.1\n",
      "pandas version: 1.4.3\n",
      "einops version: 0.4.1\n",
      "transformers version: 4.20.1\n",
      "mlflow version: 1.27.0\n",
      "pynrrd version: 0.4.3\n",
      "\n",
      "For details about installing the optional dependencies, please visit:\n",
      "    https://docs.monai.io/en/latest/installation.html#installing-the-recommended-dependencies\n",
      "\n"
     ]
    }
   ],
   "source": [
    "import os, sys, shutil, random, tempfile, glob, logging\n",
    "from pathlib import Path\n",
    "\n",
    "import matplotlib.pyplot as plt\n",
    "import nibabel as nib\n",
    "import numpy as np\n",
    "import SimpleITK as sitk\n",
    "\n",
    "from monai.config import print_config\n",
    "from monai.data import ArrayDataset, decollate_batch, DataLoader, CacheDataset, Dataset, PatchDataset, GridPatchDataset, PatchIter, PatchIterd\n",
    "from monai.losses import DiceLoss\n",
    "from monai.metrics import DiceMetric, MeanIoU, compute_meaniou\n",
    "from monai.inferers import sliding_window_inference\n",
    "from monai.networks.nets import UNet\n",
    "from monai.networks.layers import Norm\n",
    "from monai.transforms import (\n",
    "    AsDiscrete,\n",
    "    Compose,\n",
    "    LoadImaged,\n",
    "    EnsureChannelFirstd,\n",
    "    Orientationd,\n",
    "    Spacingd,\n",
    "    ResizeWithPadOrCropd,\n",
    "    RandCropByPosNegLabeld,\n",
    "    Lambdad,\n",
    "    ScaleIntensityd,\n",
    "    RandSpatialCropSamples,\n",
    "    CropForegroundd\n",
    ")\n",
    "from monai.utils import first\n",
    "\n",
    "import ignite\n",
    "import torch, torchvision\n",
    "\n",
    "print_config()"
   ]
  },
  {
   "cell_type": "markdown",
   "metadata": {},
   "source": [
    "## Setup \n"
   ]
  },
  {
   "cell_type": "markdown",
   "metadata": {},
   "source": [
    "### Paths and cuda check"
   ]
  },
  {
   "cell_type": "code",
   "execution_count": 2,
   "metadata": {},
   "outputs": [
    {
     "name": "stdout",
     "output_type": "stream",
     "text": [
      "Main directory is: /mnt/sda1/Repos/a-eye/a-eye_segmentation/3D_multilabel/\n",
      "True\n"
     ]
    }
   ],
   "source": [
    "main_dir = '/mnt/sda1/Repos/a-eye/a-eye_segmentation/3D_multilabel/'\n",
    "data_dir = '/mnt/sda1/Repos/a-eye/a-eye_preprocessing/ANTs/' # train and val\n",
    "test_data_dir = '/mnt/sda1/Repos/a-eye/Data'\n",
    "\n",
    "[print(f\"Main directory is: {main_dir}\") if os.path.isdir(main_dir) else print(\"Check your data directory\")]\n",
    "os.environ['CUDA_LAUNCH_BLOCKING'] = '1'\n",
    "\n",
    "print(torch.cuda.is_available())"
   ]
  },
  {
   "cell_type": "markdown",
   "metadata": {},
   "source": [
    "### Test set"
   ]
  },
  {
   "cell_type": "markdown",
   "metadata": {},
   "source": [
    "Common variables"
   ]
  },
  {
   "cell_type": "code",
   "execution_count": 3,
   "metadata": {},
   "outputs": [],
   "source": [
    "num_total_subjects = 35 # total number of subjects\n",
    "NUM_LABELS = 9 # number of different labels (without background)"
   ]
  },
  {
   "cell_type": "markdown",
   "metadata": {},
   "source": [
    "Load test subjects list from file"
   ]
  },
  {
   "cell_type": "code",
   "execution_count": 4,
   "metadata": {},
   "outputs": [
    {
     "name": "stdout",
     "output_type": "stream",
     "text": [
      "['sub-05', 'sub-21', 'sub-25', 'sub-26']\n"
     ]
    }
   ],
   "source": [
    "file = main_dir + 'test_subjects.txt' # test subjects list file\n",
    "\n",
    "test_subs = [] # empty list to read list from a file\n",
    "\n",
    "# open file and read the content in a list\n",
    "with open(file, 'r') as fp:\n",
    "    for line in fp:\n",
    "        # remove linebreak from a current name\n",
    "        # linebreak is the last character of each line\n",
    "        x = line[:-1]\n",
    "\n",
    "        # add current item to the list\n",
    "        test_subs.append(x)\n",
    "\n",
    "# display list\n",
    "print(test_subs)"
   ]
  },
  {
   "cell_type": "markdown",
   "metadata": {},
   "source": [
    "#### Images and Labels paths"
   ]
  },
  {
   "cell_type": "code",
   "execution_count": 5,
   "metadata": {},
   "outputs": [
    {
     "name": "stdout",
     "output_type": "stream",
     "text": [
      "Test set composed by 4 subjects (11.43%).\n"
     ]
    }
   ],
   "source": [
    "# Test Set\n",
    "test_images = []\n",
    "test_labels = []\n",
    "\n",
    "# Test set\n",
    "for i in range(len(test_subs)):\n",
    "    input_t1 = data_dir + 'a123/' + test_subs[i] + '/input/' + test_subs[i] + '_T1_cropped.nii.gz'\n",
    "    input_labels = data_dir + 'a123/' + test_subs[i] + '/input/' + test_subs[i] + '_labels_cropped.nii.gz'\n",
    "    test_images.append(input_t1)\n",
    "    test_labels.append(input_labels)\n",
    "\n",
    "# Test dictionary\n",
    "data_test_dict = [\n",
    "    {\"image\": image_name, \"label\": label_name}\n",
    "    for image_name, label_name in zip(test_images, test_labels)\n",
    "]\n",
    "\n",
    "num_test_samples = len(data_test_dict)\n",
    "print(f\"Test set composed by {num_test_samples} subjects ({num_test_samples/num_total_subjects*100:.2f}%).\")"
   ]
  },
  {
   "cell_type": "markdown",
   "metadata": {},
   "source": [
    "#### Min image size"
   ]
  },
  {
   "cell_type": "code",
   "execution_count": 6,
   "metadata": {},
   "outputs": [
    {
     "name": "stdout",
     "output_type": "stream",
     "text": [
      "(xmax, ymax, zmax) = (79, 92, 80)\n",
      "min_axis = 96\n"
     ]
    }
   ],
   "source": [
    "''' \n",
    "Calculate the minimum and maximum axis of a set of images in a specific path\n",
    "'''\n",
    "\n",
    "# List of remaining subjects\n",
    "all_subjects = list() # all the subjects (total)\n",
    "for i in range(num_total_subjects):\n",
    "    all_subjects.append('sub-'+str(i+1).zfill(2))\n",
    "\n",
    "arr = [0, 0, 0] # [xmax, ymax, zmax]\n",
    "\n",
    "for i in range(35):\n",
    "    input_t1 = data_dir + 'a123/' + all_subjects[i] + '/input/' + all_subjects[i] + '_T1_cropped.nii.gz'\n",
    "    n1 = nib.load(input_t1)\n",
    "    if n1.shape[0] >= arr[0]:\n",
    "        arr[0] = n1.shape[0]\n",
    "    if n1.shape[1] >= arr[1]:\n",
    "        arr[1] = n1.shape[1]\n",
    "    if n1.shape[2] >= arr[2]:\n",
    "        arr[2] = n1.shape[2]\n",
    "\n",
    "print(f'(xmax, ymax, zmax) = ({arr[0]}, {arr[1]}, {arr[2]})')\n",
    "min_axis = np.amax(arr)\n",
    "min_axis = 96\n",
    "print(f'min_axis = {min_axis}')"
   ]
  },
  {
   "cell_type": "markdown",
   "metadata": {},
   "source": [
    "### Transforms"
   ]
  },
  {
   "cell_type": "markdown",
   "metadata": {},
   "source": [
    "Several transforms to augment the dataset"
   ]
  },
  {
   "cell_type": "code",
   "execution_count": 7,
   "metadata": {},
   "outputs": [],
   "source": [
    "# Function to crop the eye from the medical image\n",
    "def masked(data_dict):\n",
    "    eye_mask = (data_dict[\"label\"] != 0)\n",
    "    eye_mask[eye_mask == True] = 1\n",
    "    eye_mask[eye_mask == False] = 0\n",
    "    data_dict[\"image\"] = data_dict[\"image\"] * eye_mask\n",
    "\n",
    "    return data_dict\n",
    "\n",
    "test_transforms = Compose(\n",
    "    [\n",
    "        LoadImaged(keys=[\"image\", \"label\"]),\n",
    "        Lambdad(keys=[\"image\"], func=lambda image: torch.nan_to_num(image, nan=0)),\n",
    "        EnsureChannelFirstd(keys=[\"image\", \"label\"]),\n",
    "        ScaleIntensityd(keys=[\"image\"],),\n",
    "        CropForegroundd(keys=[\"image\", \"label\"], source_key=\"image\"),\n",
    "        Orientationd(keys=[\"image\", \"label\"], axcodes=\"RAS\"),\n",
    "        Spacingd(keys=[\"image\", \"label\"], pixdim=(1, 1, 1), mode=(\"bilinear\", \"nearest\")),\n",
    "        ResizeWithPadOrCropd(keys=[\"image\", \"label\"], spatial_size=(min_axis, min_axis, min_axis)), # (96, 96, 96)\n",
    "        # masked,\n",
    "        # RandCropByPosNegLabeld(\n",
    "        #     keys=[\"image\", \"label\"],\n",
    "        #     label_key=\"label\",\n",
    "        #     spatial_size=(96, 96, 96),\n",
    "        #     pos=1,\n",
    "        #     neg=1,\n",
    "        #     num_samples=1,\n",
    "        #     image_key=\"image\",\n",
    "        #     image_threshold=0,\n",
    "        # ),\n",
    "    ]\n",
    ")"
   ]
  },
  {
   "cell_type": "markdown",
   "metadata": {},
   "source": [
    "#### Check transforms in DataLoader"
   ]
  },
  {
   "cell_type": "code",
   "execution_count": 8,
   "metadata": {},
   "outputs": [
    {
     "name": "stdout",
     "output_type": "stream",
     "text": [
      "image shape: (1, 1, 96, 96, 96), label shape: (1, 1, 96, 96, 96)\n",
      "torch unique label: 10\n"
     ]
    },
    {
     "data": {
      "image/png": "[encoded data removed]",
      "text/plain": [
       "<Figure size 720x360 with 2 Axes>"
      ]
     },
     "metadata": {
      "needs_background": "light"
     },
     "output_type": "display_data"
    }
   ],
   "source": [
    "test_ds = Dataset(data=data_test_dict, transform=test_transforms)\n",
    "test_loader = DataLoader(test_ds, batch_size=1)\n",
    "\n",
    "check_data = first(test_loader)\n",
    "image, label = (check_data[\"image\"], check_data[\"label\"])\n",
    "print(f\"image shape: {image.shape}, label shape: {label.shape}\")\n",
    "print(f'torch unique label: {len(torch.unique(label))}')\n",
    "\n",
    "plt.figure(\"check\", (10,5))\n",
    "plt.subplot(1, 2, 1)\n",
    "plt.title(\"image\")\n",
    "plt.imshow(image[0, 0, :, :, 32], cmap=\"gray\")\n",
    "plt.subplot(1, 2, 2)\n",
    "plt.title(\"label\")\n",
    "plt.imshow(label[0, 0, :, :, 32])\n",
    "plt.show()\n",
    "\n",
    "# Save transformed image\n",
    "# im_trans = sitk.GetImageFromArray(np.transpose(image[0].detach().cpu().numpy(), (3,2,1,0)))\n",
    "# sitk.WriteImage(im_trans, main_dir+'im_trans.nii.gz')\n",
    "# lab_trans = sitk.GetImageFromArray(np.transpose(label[0].detach().cpu().numpy(), (3,2,1,0)))\n",
    "# sitk.WriteImage(lab_trans, main_dir+'lab_trans.nii.gz')"
   ]
  },
  {
   "cell_type": "markdown",
   "metadata": {},
   "source": [
    "#### Save transformed images from loader set"
   ]
  },
  {
   "cell_type": "code",
   "execution_count": 40,
   "metadata": {},
   "outputs": [],
   "source": [
    "# '''\n",
    "output_dir = main_dir+'Transformed_Test_Set/'\n",
    "if not os.path.exists(output_dir):\n",
    "    os.makedirs(output_dir)\n",
    "\n",
    "# Saving check_loader images\n",
    "i = 1\n",
    "for _, dict in enumerate(test_loader):\n",
    "    # print(f\"dict: {dict['image'].shape}\")\n",
    "    im_tensors = dict['image']\n",
    "    lab_tensors = dict['label']\n",
    "    # print(im_tensors[0].detach().cpu().numpy().shape)\n",
    "    # print(lab_tensors[0].detach().cpu().numpy().shape)\n",
    "    im_trans = sitk.GetImageFromArray(np.transpose(im_tensors[0].detach().cpu().numpy(), (3,2,1,0)))\n",
    "    sitk.WriteImage(im_trans, output_dir+'im_trans'+str(i)+'.nii.gz')\n",
    "    lab_trans = sitk.GetImageFromArray(np.transpose(lab_tensors[0].detach().cpu().numpy(), (3,2,1,0)))\n",
    "    sitk.WriteImage(lab_trans, output_dir+'lab_trans'+str(i)+'.nii.gz')\n",
    "    i += 1\n",
    "    # if i == 1:\n",
    "    #     break\n",
    "# '''"
   ]
  },
  {
   "cell_type": "markdown",
   "metadata": {},
   "source": [
    "## Create Model, Loss, Optimizer"
   ]
  },
  {
   "cell_type": "code",
   "execution_count": 10,
   "metadata": {},
   "outputs": [],
   "source": [
    "# Create UNet, DiceLoss and Adam optimizer\n",
    "import gc \n",
    "gc.collect()\n",
    "torch.cuda.empty_cache()\n",
    "device = torch.device(\"cuda:0\")\n",
    "model = UNet(\n",
    "    spatial_dims = 3,\n",
    "    in_channels = 1,\n",
    "    out_channels = NUM_LABELS+1,\n",
    "    channels = (16, 32, 64, 128, 256),\n",
    "    strides = (2, 2, 2, 2),\n",
    "    num_res_units = 2,\n",
    "    norm = Norm.BATCH,\n",
    "    dropout = 0.5\n",
    ").to(device)\n",
    "\n",
    "loss_function = DiceLoss(to_onehot_y=True, softmax=True)\n",
    "optimizer = torch.optim.Adam(params=model.parameters(), lr=1e-3)\n",
    "dice_metric = DiceMetric(include_background=False, reduction=\"mean\")"
   ]
  },
  {
   "cell_type": "markdown",
   "metadata": {},
   "source": [
    "## Inference"
   ]
  },
  {
   "cell_type": "code",
   "execution_count": 42,
   "metadata": {},
   "outputs": [
    {
     "name": "stdout",
     "output_type": "stream",
     "text": [
      "Total DSC is 0.7768800258636475. \n",
      "Total IoU score is 0.6437103152275085.\n",
      "Mean dice per class (test subjects): [0.8319334983825684, 0.9276025891304016, 0.7441207766532898, 0.710444450378418, 0.6798096299171448, 0.7551314830780029, 0.7888290286064148, 0.7636502981185913, 0.7903985381126404]\n",
      "Mean IoU per class (test subjects): [0.7134577035903931, 0.8655267357826233, 0.5928531289100647, 0.5523933172225952, 0.5183144211769104, 0.6088622808456421, 0.6657805442810059, 0.6187343001365662, 0.6574703454971313]\n"
     ]
    },
    {
     "data": {
      "image/png": "[encoded data removed]",
      "text/plain": [
       "<Figure size 1296x432 with 3 Axes>"
      ]
     },
     "metadata": {
      "needs_background": "light"
     },
     "output_type": "display_data"
    }
   ],
   "source": [
    "FILE = \"v2_cropped_images.pth\"\n",
    "\n",
    "device = torch.device(\"cuda:0\")\n",
    "model = UNet(\n",
    "    spatial_dims = 3,\n",
    "    in_channels = 1,\n",
    "    out_channels = NUM_LABELS+1,\n",
    "    channels = (16, 32, 64, 128, 256),\n",
    "    strides = (2, 2, 2, 2),\n",
    "    num_res_units = 2,\n",
    "    norm = Norm.BATCH,\n",
    "    dropout = 0.5\n",
    ").to(device)\n",
    "\n",
    "model.load_state_dict(torch.load(\n",
    "    os.path.join(main_dir, FILE)))\n",
    "\n",
    "# IoU metric\n",
    "post_pred = Compose([AsDiscrete(argmax=True, to_onehot=NUM_LABELS+1)])\n",
    "post_label = Compose([AsDiscrete(to_onehot=NUM_LABELS+1)])\n",
    "iou_metric = MeanIoU(include_background=False, reduction=\"mean\")\n",
    "\n",
    "model.eval()\n",
    "\n",
    "with torch.no_grad():\n",
    "    for i, test_data in enumerate(test_loader):\n",
    "        test_inputs, test_labels = (\n",
    "            test_data[\"image\"].to(device),\n",
    "            test_data[\"label\"].to(device),\n",
    "        )\n",
    "        \n",
    "        roi_size = (min_axis, min_axis, min_axis)\n",
    "        sw_batch_size = 4\n",
    "\n",
    "        test_outputs_pre = sliding_window_inference(\n",
    "            test_inputs, roi_size, sw_batch_size, model\n",
    "        )\n",
    "        # print(test_outputs_pre)\n",
    "\n",
    "        test_outputs = [post_pred(j) for j in decollate_batch(test_outputs_pre)]\n",
    "        test_labels = [post_label(j) for j in decollate_batch(test_labels)]\n",
    "        iou_metric(y_pred=test_outputs, y=test_labels)\n",
    "        dice_metric(y_pred=test_outputs, y=test_labels)\n",
    "\n",
    "        # plot the slice [:, :, 80]\n",
    "        fig = plt.figure(\"check\", (18, 6))\n",
    "        plt.subplot(1, 3, 1)\n",
    "        plt.title(f\"image {i}\")\n",
    "        plt.imshow(test_data[\"image\"][0, 0, :, :, 32], cmap=\"gray\")\n",
    "        plt.subplot(1, 3, 2)\n",
    "        plt.title(f\"label {i}\")\n",
    "        plt.imshow(test_data[\"label\"][0, 0, :, :, 32])\n",
    "        plt.subplot(1, 3, 3)\n",
    "        plt.title(f\"output {i}\")\n",
    "        plt.imshow(torch.argmax(test_outputs_pre, dim=1).detach().cpu()[0, :, :, 32])\n",
    "        # print(val_outputs.shape)\n",
    "        im_result = sitk.GetImageFromArray(np.transpose(torch.argmax(test_outputs_pre, dim=1).detach().cpu().numpy(), (3,2,1,0)))\n",
    "        sitk.WriteImage(im_result, main_dir+'Transformed_Test_Set/result_'+str(i+1)+'.nii.gz')\n",
    "        # if i == 1:\n",
    "        #     break\n",
    "        fig.suptitle('Test Monai A-Eye')\n",
    "        # plt.show()\n",
    "    \n",
    "    # aggregate the final mean dice and IoU results\n",
    "    dice_array = dice_metric.get_buffer()\n",
    "    # print(dice_array.shape)\n",
    "    # print(dice_array)\n",
    "    test_metric_dice = dice_metric.aggregate().item()\n",
    "    dice_metric.reset()\n",
    "    iou_array = iou_metric.get_buffer() # (9, 10) --> 25 subjects and 10 classes\n",
    "    # print(iou_array.shape)\n",
    "    test_metric_iou = iou_metric.aggregate().item()\n",
    "    iou_metric.reset()\n",
    "\n",
    "    print(f\"Total DSC is {test_metric_dice}. \\nTotal IoU score is {test_metric_iou}.\")\n",
    "    \n",
    "    # DSC per class\n",
    "    dice_array_n = dice_array.transpose(0, 1) # to get in each line the DSC of each class\n",
    "    dice_array_mean = []\n",
    "    for i, val in enumerate(dice_array_n):\n",
    "        dice_array_mean.append(torch.mean(val).item())\n",
    "    print(f'Mean dice per class (test subjects): {dice_array_mean}')\n",
    "\n",
    "    # IoU per class\n",
    "    iou_array_n = iou_array.transpose(0, 1) # to get in each line the IoU of each class\n",
    "    iou_array_mean = []\n",
    "    for i, val in enumerate(iou_array_n):\n",
    "        iou_array_mean.append(torch.mean(val).item())\n",
    "    print(f'Mean IoU per class (test subjects): {iou_array_mean}')"
   ]
  }
 ],
 "metadata": {
  "kernelspec": {
   "display_name": "Python 3.9.12 ('3dmultilabel')",
   "language": "python",
   "name": "python3"
  },
  "language_info": {
   "codemirror_mode": {
    "name": "ipython",
    "version": 3
   },
   "file_extension": ".py",
   "mimetype": "text/x-python",
   "name": "python",
   "nbconvert_exporter": "python",
   "pygments_lexer": "ipython3",
   "version": "3.9.12"
  },
  "orig_nbformat": 4,
  "vscode": {
   "interpreter": {
    "hash": "236677abf66ddcf33094279068f0bab187d6786b2da11104f264e332fab0dfcc"
   }
  }
 },
 "nbformat": 4,
 "nbformat_minor": 2
}

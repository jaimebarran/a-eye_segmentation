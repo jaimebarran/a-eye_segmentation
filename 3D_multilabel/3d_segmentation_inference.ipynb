{
 "cells": [
  {
   "cell_type": "markdown",
   "metadata": {},
   "source": [
    "# 3D patch-based segmentation with U-Net\n",
    "\n",
    "Code started from [Francesco's tutorials](https://github.com/FrancescoLR/tutorials)\n",
    "\n"
   ]
  },
  {
   "cell_type": "markdown",
   "metadata": {},
   "source": [
    "## Imports"
   ]
  },
  {
   "cell_type": "code",
   "execution_count": 229,
   "metadata": {},
   "outputs": [
    {
     "name": "stdout",
     "output_type": "stream",
     "text": [
      "MONAI version: 0.9.1rc3\n",
      "Numpy version: 1.22.4\n",
      "Pytorch version: 1.12.1+cu116\n",
      "MONAI flags: HAS_EXT = False, USE_COMPILED = False, USE_META_DICT = False\n",
      "MONAI rev id: 7a5de8b7b9db101a431e70ae2aa8ea7ebb8dfffe\n",
      "MONAI __file__: /home/jaimebarranco/miniconda3/envs/3dmultilabel/lib/python3.9/site-packages/monai/__init__.py\n",
      "\n",
      "Optional dependencies:\n",
      "Pytorch Ignite version: 0.4.9\n",
      "Nibabel version: 4.0.1\n",
      "scikit-image version: 0.19.3\n",
      "Pillow version: 9.2.0\n",
      "Tensorboard version: 2.9.1\n",
      "gdown version: 4.5.1\n",
      "TorchVision version: 0.13.1+cu116\n",
      "tqdm version: 4.64.0\n",
      "lmdb version: 1.3.0\n",
      "psutil version: 5.9.1\n",
      "pandas version: 1.4.3\n",
      "einops version: 0.4.1\n",
      "transformers version: 4.20.1\n",
      "mlflow version: 1.27.0\n",
      "pynrrd version: 0.4.3\n",
      "\n",
      "For details about installing the optional dependencies, please visit:\n",
      "    https://docs.monai.io/en/latest/installation.html#installing-the-recommended-dependencies\n",
      "\n"
     ]
    }
   ],
   "source": [
    "import glob\n",
    "import logging\n",
    "import os\n",
    "from pathlib import Path\n",
    "import shutil\n",
    "import sys\n",
    "import tempfile\n",
    "import matplotlib.pyplot as plt\n",
    "\n",
    "\n",
    "import nibabel as nib\n",
    "import numpy as np\n",
    "from monai.config import print_config\n",
    "from monai.data import ArrayDataset, decollate_batch, DataLoader, CacheDataset, Dataset\n",
    "from monai.losses import DiceLoss\n",
    "from monai.metrics import DiceMetric, MeanIoU, compute_meaniou\n",
    "from monai.inferers import sliding_window_inference\n",
    "from monai.networks.nets import UNet\n",
    "from monai.networks.layers import Norm\n",
    "from monai.transforms import (\n",
    "    AsDiscrete,\n",
    "    Compose,\n",
    "    LoadImaged,\n",
    "    EnsureChannelFirstd,\n",
    "    Orientationd,\n",
    "    Spacingd,\n",
    "    ResizeWithPadOrCropd,\n",
    "    RandCropByPosNegLabeld,\n",
    "    Lambdad,\n",
    "    ScaleIntensityd,\n",
    ")\n",
    "from monai.utils import first\n",
    "\n",
    "import ignite\n",
    "import torch, torchvision\n",
    "\n",
    "print_config()"
   ]
  },
  {
   "cell_type": "markdown",
   "metadata": {},
   "source": [
    "## Setup \n"
   ]
  },
  {
   "cell_type": "markdown",
   "metadata": {},
   "source": [
    "### Paths and cuda check"
   ]
  },
  {
   "cell_type": "code",
   "execution_count": 230,
   "metadata": {},
   "outputs": [
    {
     "name": "stdout",
     "output_type": "stream",
     "text": [
      "Data directory is: /mnt/sda1/Repos/a-eye/a-eye_preprocessing/ANTs/\n",
      "True\n"
     ]
    }
   ],
   "source": [
    "main_dir = '/mnt/sda1/Repos/a-eye/a-eye_segmentation/3D_multilabel/'\n",
    "data_dir = '/mnt/sda1/Repos/a-eye/a-eye_preprocessing/ANTs/'\n",
    "\n",
    "[print(f\"Data directory is: {data_dir}\") if os.path.isdir(data_dir) else print(\"Check your data directory\")]\n",
    "os.environ['CUDA_LAUNCH_BLOCKING'] = '1'\n",
    "\n",
    "print(torch.cuda.is_available())"
   ]
  },
  {
   "cell_type": "markdown",
   "metadata": {},
   "source": [
    "### Set images and segmentation paths"
   ]
  },
  {
   "cell_type": "code",
   "execution_count": 231,
   "metadata": {},
   "outputs": [
    {
     "name": "stdout",
     "output_type": "stream",
     "text": [
      "Train dataset is composed by 26 (74.29%) subjects and validation by 9 (25.71%).\n"
     ]
    }
   ],
   "source": [
    "train_images_1 = []\n",
    "train_labels_1 = []\n",
    "test_images = []\n",
    "test_labels = []\n",
    "\n",
    "# List of subjects taken for the template construction\n",
    "best_subjects_cc = ['sub-02','sub-03','sub-08','sub-09','sub-20','sub-29','sub-30','sub-33','sub-34'] # 9\n",
    "\n",
    "# List of remaining subjects\n",
    "all_subjects = list()\n",
    "for i in range(35):\n",
    "    all_subjects.append('sub-'+str(i+1).zfill(2))\n",
    "rest_subjects = [elem for elem in all_subjects if elem not in best_subjects_cc]\n",
    "\n",
    "# Train (rest subjects)\n",
    "for i in range(len(rest_subjects)):\n",
    "    input_t1 = data_dir + 'a123/' + rest_subjects[i] + '/input/' + rest_subjects[i] + '_T1.nii.gz'\n",
    "    input_labels = data_dir + 'a123/' + rest_subjects[i] + '/input/' + rest_subjects[i] + '_labels.nii.gz'\n",
    "    train_images_1.append(input_t1)\n",
    "    train_labels_1.append(input_labels)\n",
    "# Train dictionary\n",
    "data_train_dicts_1 = [\n",
    "    {\"image\": image_name, \"label\": label_name}\n",
    "    for image_name, label_name in zip(train_images_1, train_labels_1)\n",
    "]   \n",
    "\n",
    "# Test (best subjects)\n",
    "for i in range(len(best_subjects_cc)):\n",
    "    input_t1 = data_dir + 'a123/' + best_subjects_cc[i] + '/input/' + best_subjects_cc[i] + '_T1.nii.gz'\n",
    "    input_labels = data_dir + 'a123/' + best_subjects_cc[i] + '/input/' + best_subjects_cc[i] + '_labels.nii.gz'\n",
    "    test_images.append(input_t1)\n",
    "    test_labels.append(input_labels)\n",
    "# Test dictionary\n",
    "data_test_dicts = [\n",
    "    {\"image\": image_name, \"label\": label_name}\n",
    "    for image_name, label_name in zip(test_images, test_labels)\n",
    "]\n",
    "\n",
    "num_train_samples = len(data_train_dicts_1)\n",
    "num_test_samples = len(data_test_dicts)\n",
    "num_total_samples = num_train_samples + num_test_samples\n",
    "print(f\"Train dataset is composed by {len(data_train_dicts_1)} ({num_train_samples/num_total_samples*100:.2f}%) subjects and validation by {len(data_test_dicts)} ({num_test_samples/num_total_samples*100:.2f}%).\")"
   ]
  },
  {
   "cell_type": "markdown",
   "metadata": {},
   "source": [
    "### Set transforms and dataset"
   ]
  },
  {
   "cell_type": "code",
   "execution_count": 232,
   "metadata": {},
   "outputs": [],
   "source": [
    "# Function to crop the eye from the medical image\n",
    "def masked(data_dict):\n",
    "    eye_mask = (data_dict[\"label\"] != 0)\n",
    "    eye_mask[eye_mask == True] = 1\n",
    "    eye_mask[eye_mask == False] = 0\n",
    "    data_dict[\"image\"] = data_dict[\"image\"] * eye_mask\n",
    "\n",
    "    return data_dict\n",
    "    \n",
    "train_transforms = Compose(\n",
    "    [\n",
    "        LoadImaged(keys=[\"image\", \"label\"]), #Load image file or files from provided path based on reader.\n",
    "        Lambdad(keys=[\"image\"], func=lambda image: torch.nan_to_num(image, nan=0)),\n",
    "        ScaleIntensityd(keys=[\"image\"], ), #Scale the intensity of input image to the given value range (minv, maxv). If minv and maxv and factor not provided, Normalize the data\n",
    "        EnsureChannelFirstd(keys=[\"image\", \"label\"]), #Automatically adjust or add the channel dimension of input data to ensure channel_first shape.\n",
    "        Orientationd(keys=[\"image\", \"label\"], axcodes=\"RAS\"), #Change the input image’s orientation into the specified based on axcodes.\n",
    "        Spacingd(keys=[\"image\", \"label\"], pixdim=(\n",
    "            1, 1, 1), mode=(\"bilinear\", \"nearest\")),\n",
    "        ResizeWithPadOrCropd(keys=[\"image\", \"label\"], spatial_size=(160, 160, 160)),\n",
    "        masked,\n",
    "        # RandCropByPosNegLabeld( #Crop random fixed sized regions with the center being a foreground or background voxel based on the Pos Neg Ratio. I recommend to use it since improves dice and IoU score\n",
    "        #     keys=[\"image\", \"label\"],\n",
    "        #     label_key=\"label\",\n",
    "        #     spatial_size=(96, 96, 96),\n",
    "        #     pos=1,\n",
    "        #     neg=1,\n",
    "        #     num_samples=4,\n",
    "        #     image_key=\"image\",\n",
    "        #     image_threshold=0,\n",
    "        # ),\n",
    "    ]    \n",
    ")\n",
    "\n",
    "test_transforms = Compose(\n",
    "    [\n",
    "        LoadImaged(keys=[\"image\", \"label\"]),\n",
    "        Lambdad(keys=[\"image\"], func=lambda image: torch.nan_to_num(image, nan=0)),\n",
    "        ScaleIntensityd(keys=[\"image\"],),\n",
    "        EnsureChannelFirstd(keys=[\"image\", \"label\"]),\n",
    "        Orientationd(keys=[\"image\", \"label\"], axcodes=\"RAI\"),\n",
    "        # Spacingd(keys=[\"image\", \"label\"], pixdim=(\n",
    "        #     1, 1, 1), mode=(\"bilinear\", \"nearest\")),\n",
    "        # ResizeWithPadOrCropd(keys=[\"image\", \"label\"], spatial_size=(176, 256, 176)),\n",
    "        masked,\n",
    "        # RandCropByPosNegLabeld( #Crop random fixed sized regions with the center being a foreground or background voxel based on the Pos Neg Ratio. \n",
    "        #     keys=[\"image\", \"label\"],\n",
    "        #     label_key=\"label\",\n",
    "        #     spatial_size=(96, 96, 96),\n",
    "        #     pos=1,\n",
    "        #     neg=1,\n",
    "        #     num_samples=4,\n",
    "        #     image_key=\"image\",\n",
    "        #     image_threshold=0,\n",
    "        # ),\n",
    "    ]\n",
    ")"
   ]
  },
  {
   "cell_type": "markdown",
   "metadata": {},
   "source": [
    "Here we use CacheDataset to accelerate training and validation process, it's 10x faster than the regular Dataset.  \n",
    "To achieve best performance, set `cache_rate=1.0` to cache all the data, if memory is not enough, set lower value.  \n",
    "Users can also set `cache_num` instead of `cache_rate`, will use the minimum value of the 2 settings.  \n",
    "And set `num_workers` to enable multi-threads during caching.  \n",
    "If want to try the regular Dataset, just change to use the commented code below."
   ]
  },
  {
   "cell_type": "code",
   "execution_count": 233,
   "metadata": {},
   "outputs": [
    {
     "name": "stderr",
     "output_type": "stream",
     "text": [
      "Loading dataset: 100%|██████████| 26/26 [00:02<00:00, 10.15it/s]\n",
      "Loading dataset: 100%|██████████| 9/9 [00:00<00:00, 13.71it/s]\n"
     ]
    }
   ],
   "source": [
    "train_ds = CacheDataset(\n",
    "    data=data_train_dicts_1, transform=train_transforms,\n",
    "    cache_rate=1.0, num_workers=8)\n",
    "# train_ds = Dataset(data=train_files, transform=train_transforms)\n",
    "\n",
    "# use batch_size=2 to load images and use RandCropByPosNegLabeld\n",
    "# to generate 2 x 4 images for network training\n",
    "train_loader = DataLoader(train_ds, batch_size=2, shuffle=True, num_workers=8)\n",
    "\n",
    "test_ds = CacheDataset(\n",
    "    data=data_test_dicts, transform=test_transforms, cache_rate=1.0, num_workers=8)\n",
    "# val_ds = Dataset(data=val_files, transform=val_transforms)\n",
    "test_loader = DataLoader(test_ds, batch_size=1, shuffle=False, num_workers=8)"
   ]
  },
  {
   "cell_type": "code",
   "execution_count": 234,
   "metadata": {},
   "outputs": [
    {
     "name": "stdout",
     "output_type": "stream",
     "text": [
      "dict: (1, 1, 176, 256, 176)\n",
      "(1, 176, 256, 176)\n"
     ]
    }
   ],
   "source": [
    "# '''\n",
    "import SimpleITK as sitk\n",
    "\n",
    "# Saving test_loader images\n",
    "i = 0\n",
    "for _, dict in enumerate(test_loader):\n",
    "    print(f\"dict: {dict['image'].shape}\")\n",
    "    im_tensors = dict['image']\n",
    "    # lab_tensors = dict['label'][0][0]\n",
    "    print(im_tensors[0].detach().cpu().numpy().shape)\n",
    "    im_trans = sitk.GetImageFromArray(np.transpose(im_tensors[0].detach().cpu().numpy(), (3,2,1,0)))\n",
    "    # lab_trans = sitk.GetImageFromArray(torch.argmax(lab_tensors, dim=1).detach().cpu()[0,:,:,:].numpy())\n",
    "    sitk.WriteImage(im_trans, main_dir+'im_trans_masked'+str(i)+'.nii.gz')\n",
    "    i += 1\n",
    "    if i == 1:\n",
    "        break\n",
    "# '''"
   ]
  },
  {
   "cell_type": "markdown",
   "metadata": {},
   "source": [
    "#### Check transforms in DataLoader"
   ]
  },
  {
   "cell_type": "code",
   "execution_count": 237,
   "metadata": {},
   "outputs": [
    {
     "name": "stdout",
     "output_type": "stream",
     "text": [
      "image shape: (176, 256, 176), label shape: (176, 256, 176)\n"
     ]
    },
    {
     "data": {
      "image/png": "[encoded data removed]",
      "text/plain": [
       "<Figure size 720x360 with 2 Axes>"
      ]
     },
     "metadata": {
      "needs_background": "light"
     },
     "output_type": "display_data"
    }
   ],
   "source": [
    "data_iter = iter(test_loader)\n",
    "random_data = data_iter.next()\n",
    "image, label = (random_data[\"image\"][0][0], random_data[\"label\"][0][0]) # [0][0] is to show only the image shape\n",
    "print(f\"image shape: {image.shape}, label shape: {label.shape}\")\n",
    "\n",
    "# plot the slice [:, :, 80]\n",
    "plt.figure(\"check\", (10,5))\n",
    "plt.subplot(1, 2, 1)\n",
    "plt.title(\"image\")\n",
    "plt.imshow(image[:, :, 80], cmap=\"gray\")\n",
    "plt.subplot(1, 2, 2)\n",
    "plt.title(\"label\")\n",
    "plt.imshow(label[:, :, 80])\n",
    "plt.show()\n",
    "#print(len(torch.unique(label)))\n"
   ]
  },
  {
   "cell_type": "markdown",
   "metadata": {},
   "source": [
    "### Create Model, Loss, Optimizer"
   ]
  },
  {
   "cell_type": "code",
   "execution_count": 238,
   "metadata": {},
   "outputs": [],
   "source": [
    "# Create UNet, DiceLoss and Adam optimizer\n",
    "# import gc \n",
    "# gc.collect()\n",
    "# torch.cuda.empty_cache()\n",
    "device = torch.device(\"cuda:0\")\n",
    "model = UNet(\n",
    "    spatial_dims = 3,\n",
    "    in_channels = 1,\n",
    "    out_channels = 10,\n",
    "    channels = (16, 32, 64, 128, 256),\n",
    "    strides = (2, 2, 2, 2),\n",
    "    num_res_units = 2,\n",
    "    norm = Norm.BATCH,\n",
    "    dropout = 0.5\n",
    ").to(device)\n",
    "\n",
    "loss_function = DiceLoss(to_onehot_y=True, softmax=True)\n",
    "optimizer = torch.optim.Adam(params=model.parameters(), lr=1e-3)\n",
    "dice_metric = DiceMetric(include_background=False, reduction=\"mean\")"
   ]
  },
  {
   "cell_type": "markdown",
   "metadata": {},
   "source": [
    "### Inference"
   ]
  },
  {
   "cell_type": "code",
   "execution_count": 239,
   "metadata": {},
   "outputs": [
    {
     "name": "stdout",
     "output_type": "stream",
     "text": [
      "Total DSC is 0.5930375456809998. \n",
      "Total IoU score is 0.4942435026168823.\n",
      "Dice per class: [0.6186713576316833, 0.6833220720291138, 0.718679666519165, 0.5941488742828369, 0.693603515625, 0.6383098363876343, 0.6851651668548584, 0.6821538805961609]. \n",
      "IoU per class: [0.4926207959651947, 0.5793008208274841, 0.6224082112312317, 0.46919167041778564, 0.5857326984405518, 0.5140339136123657, 0.5782992839813232, 0.5726327300071716]\n"
     ]
    },
    {
     "data": {
      "image/png": "[encoded data removed]",
      "text/plain": [
       "<Figure size 1296x432 with 3 Axes>"
      ]
     },
     "metadata": {
      "needs_background": "light"
     },
     "output_type": "display_data"
    },
    {
     "ename": "",
     "evalue": "",
     "output_type": "error",
     "traceback": [
      "The Kernel crashed while executing code in the the current cell or a previous cell. Please review the code in the cell(s) to identify a possible cause of the failure. Click <a href='https://aka.ms/vscodeJupyterKernelCrash'>here</a> for more info. View Jupyter <a href='command:jupyter.viewOutput'>log</a> for further details."
     ]
    },
    {
     "ename": "",
     "evalue": "",
     "output_type": "error",
     "traceback": [
      "The Kernel crashed while executing code in the the current cell or a previous cell. Please review the code in the cell(s) to identify a possible cause of the failure. Click <a href='https://aka.ms/vscodeJupyterKernelCrash'>here</a> for more info. View Jupyter <a href='command:jupyter.viewOutput'>log</a> for further details."
     ]
    }
   ],
   "source": [
    "import SimpleITK as sitk\n",
    "\n",
    "FILE = \"3dmultilabel_v1.pth\"\n",
    "\n",
    "device = torch.device(\"cuda:0\")\n",
    "model = UNet(\n",
    "    spatial_dims = 3,\n",
    "    in_channels = 1,\n",
    "    out_channels = 10,\n",
    "    channels = (16, 32, 64, 128, 256),\n",
    "    strides = (2, 2, 2, 2),\n",
    "    num_res_units = 2,\n",
    "    norm = Norm.BATCH,\n",
    "    dropout = 0.5\n",
    ").to(device)\n",
    "\n",
    "model.load_state_dict(torch.load(\n",
    "    os.path.join(main_dir, FILE)))\n",
    "\n",
    "# IoU metric\n",
    "post_pred = Compose([AsDiscrete(argmax=True, to_onehot=10)])\n",
    "post_label = Compose([AsDiscrete(to_onehot=10)])\n",
    "iou_metric = MeanIoU(include_background=False, reduction=\"mean\")\n",
    "metric_iou_values = []\n",
    "\n",
    "model.eval()\n",
    "\n",
    "with torch.no_grad():\n",
    "    for i, val_data in enumerate(test_loader):\n",
    "        test_inputs, test_labels = (\n",
    "            val_data[\"image\"].to(device),\n",
    "            val_data[\"label\"].to(device),\n",
    "        )\n",
    "        roi_size = (176, 256, 176)\n",
    "        sw_batch_size = 4\n",
    "\n",
    "        val_outputs = sliding_window_inference(\n",
    "            test_inputs, roi_size, sw_batch_size, model\n",
    "        )\n",
    "\n",
    "        test_outputs = [post_pred(j) for j in decollate_batch(val_outputs)]\n",
    "        test_labels = [post_label(j) for j in decollate_batch(test_labels)]\n",
    "        iou_metric(y_pred=test_outputs, y=test_labels)\n",
    "        dice_metric(y_pred=test_outputs, y=test_labels)\n",
    "\n",
    "        # plot the slice [:, :, 80]\n",
    "        fig = plt.figure(\"check\", (18, 6))\n",
    "        plt.subplot(1, 3, 1)\n",
    "        plt.title(f\"image {i}\")\n",
    "        plt.imshow(val_data[\"image\"][0, 0, :, :, 70], cmap=\"gray\")\n",
    "        plt.subplot(1, 3, 2)\n",
    "        plt.title(f\"label {i}\")\n",
    "        plt.imshow(val_data[\"label\"][0, 0, :, :, 70])\n",
    "        plt.subplot(1, 3, 3)\n",
    "        plt.title(f\"output {i}\")\n",
    "        plt.imshow(torch.argmax(\n",
    "            val_outputs, dim=1).detach().cpu()[0, :, :, 70])\n",
    "        # print(val_outputs.shape)\n",
    "        im_result = sitk.GetImageFromArray(np.transpose(torch.argmax(val_outputs, dim=1).detach().cpu().numpy(), (3,2,1,0)))\n",
    "        if i == 0:\n",
    "            sitk.WriteImage(im_result, main_dir+'result_'+str(i)+'.nii.gz')\n",
    "        fig.suptitle('Test Monai A-Eye')\n",
    "        # plt.show()\n",
    "    \n",
    "    # aggregate the final mean dice and IoU results\n",
    "    dice_array = dice_metric.get_buffer()\n",
    "    test_metric_dice = dice_metric.aggregate().item()\n",
    "    iou_array = iou_metric.get_buffer() #(9, 10) --> 25 subjects and 10 classes\n",
    "    test_metric_iou = iou_metric.aggregate().item()\n",
    "    print(f\"Total DSC is {test_metric_dice}. \\nTotal IoU score is {test_metric_iou}.\")\n",
    "    \n",
    "    # DSC per class\n",
    "    dice_array_n = dice_array[:,:-1].transpose(0, 1) # to get in each line the IoU of each class (and eliminate NaN values of backgrounf)--> (6, 25)\n",
    "    dice_array_mean = []\n",
    "    for i, val in enumerate(dice_array_n):\n",
    "        dice_array_mean.append(torch.mean(dice_array_n[:, i]).item())\n",
    "\n",
    "    # IoU per class\n",
    "    iou_array_n = iou_array[:,:-1].transpose(0, 1) # to get in each line the IoU of each class (and eliminate NaN values of backgrounf)--> (6, 25)\n",
    "    iou_array_mean = []\n",
    "    for i, val in enumerate(iou_array_n):\n",
    "        iou_array_mean.append(torch.mean(iou_array_n[:, i]).item())\n",
    "\n",
    "    print(f\"Dice per class: {dice_array_mean}. \\nIoU per class: {iou_array_mean}\")"
   ]
  }
 ],
 "metadata": {
  "kernelspec": {
   "display_name": "Python 3.9.12 ('3dmultilabel')",
   "language": "python",
   "name": "python3"
  },
  "language_info": {
   "codemirror_mode": {
    "name": "ipython",
    "version": 3
   },
   "file_extension": ".py",
   "mimetype": "text/x-python",
   "name": "python",
   "nbconvert_exporter": "python",
   "pygments_lexer": "ipython3",
   "version": "3.9.12"
  },
  "orig_nbformat": 4,
  "vscode": {
   "interpreter": {
    "hash": "236677abf66ddcf33094279068f0bab187d6786b2da11104f264e332fab0dfcc"
   }
  }
 },
 "nbformat": 4,
 "nbformat_minor": 2
}
